{
 "cells": [
  {
   "cell_type": "markdown",
   "id": "42ad80e5",
   "metadata": {},
   "source": [
    "# Анализ базы данных сервиса для чтения книг по подписке"
   ]
  },
  {
   "cell_type": "markdown",
   "id": "9732c127",
   "metadata": {},
   "source": [
    "Компания купила крупный сервис для чтения книг по подписке. \n",
    "\n",
    "Наша задача — проанализировать базу данных, содержащую информацию о книгах, издательствах, авторах, а также пользовательские обзоры книг. \n",
    "\n",
    "\n",
    "**Цель:**\n",
    "\n",
    "Анализ базы данных для формулирования ценностного предложения для нового продукта."
   ]
  },
  {
   "cell_type": "markdown",
   "id": "8969062a",
   "metadata": {},
   "source": [
    "**Описание данных**\n",
    "\n",
    "**Таблица `books`**\n",
    "\n",
    "Содержит данные о книгах:\n",
    "\n",
    "- `book_id` — идентификатор книги;\n",
    "- `author_id` — идентификатор автора;\n",
    "- `title` — название книги;\n",
    "- `num_pages` — количество страниц;\n",
    "- `publication_date` — дата публикации книги;\n",
    "- `publisher_id` — идентификатор издателя.\n",
    "\n",
    "**Таблица `authors`**\n",
    "\n",
    "Содержит данные об авторах:\n",
    "\n",
    "- `author_id` — идентификатор автора;\n",
    "- `author` — имя автора.\n",
    "\n",
    "**Таблица `publishers`**\n",
    "\n",
    "Содержит данные об издательствах:\n",
    "\n",
    "- `publisher_id` — идентификатор издательства;\n",
    "- `publisher` — название издательства;\n",
    "\n",
    "**Таблица `ratings`**\n",
    "\n",
    "Содержит данные о пользовательских оценках книг:\n",
    "\n",
    "- `rating_id` — идентификатор оценки;\n",
    "- `book_id` — идентификатор книги;\n",
    "- `username` — имя пользователя, оставившего оценку;\n",
    "- `rating` — оценка книги.\n",
    "\n",
    "**Таблица `reviews`**\n",
    "\n",
    "Содержит данные о пользовательских обзорах на книги:\n",
    "\n",
    "- `review_id` — идентификатор обзора;\n",
    "- `book_id` — идентификатор книги;\n",
    "- `username` — имя пользователя, написавшего обзор;\n",
    "- `text` — текст обзора."
   ]
  },
  {
   "cell_type": "markdown",
   "id": "67fc085f",
   "metadata": {},
   "source": [
    "## Создаем подключение к базе данных"
   ]
  },
  {
   "cell_type": "code",
   "execution_count": 1,
   "id": "d23821e2",
   "metadata": {},
   "outputs": [],
   "source": [
    "# импортируем библиотеки\n",
    "import pandas as pd \n",
    "from sqlalchemy import create_engine \n",
    "\n",
    "# устанавливаем параметры\n",
    "db_config = {'user': 'praktikum_student', # имя пользователя\n",
    "             'pwd': 'Sdf4$2;d-d30pp', # пароль\n",
    "             'host': 'rc1b-wcoijxj3yxfsf3fs.mdb.yandexcloud.net', \n",
    "             'port': 6432, # порт подключения\n",
    "             'db': 'data-analyst-final-project-db'} # название базы данных\n",
    "\n",
    "connection_string = 'postgresql://{}:{}@{}:{}/{}'.format(db_config['user'], \n",
    "                                                         db_config['pwd'], \n",
    "                                                         db_config['host'], \n",
    "                                                         db_config['port'], \n",
    "                                                         db_config['db']\n",
    "                                                        ) \n",
    "\n",
    "# сохраняем коннектор\n",
    "engine = create_engine(connection_string, connect_args={'sslmode':'require'})"
   ]
  },
  {
   "cell_type": "markdown",
   "id": "529123c3",
   "metadata": {},
   "source": [
    "Импортировали все необходимые библиотеки и задали подключение. Переходим к изучению базы данных."
   ]
  },
  {
   "cell_type": "markdown",
   "id": "3b88a355",
   "metadata": {},
   "source": [
    "## Изучение базы данных"
   ]
  },
  {
   "cell_type": "markdown",
   "id": "4cfed4bd",
   "metadata": {},
   "source": [
    "### таблица books"
   ]
  },
  {
   "cell_type": "code",
   "execution_count": 2,
   "id": "30152967",
   "metadata": {},
   "outputs": [
    {
     "data": {
      "text/html": [
       "<div>\n",
       "<style scoped>\n",
       "    .dataframe tbody tr th:only-of-type {\n",
       "        vertical-align: middle;\n",
       "    }\n",
       "\n",
       "    .dataframe tbody tr th {\n",
       "        vertical-align: top;\n",
       "    }\n",
       "\n",
       "    .dataframe thead th {\n",
       "        text-align: right;\n",
       "    }\n",
       "</style>\n",
       "<table border=\"1\" class=\"dataframe\">\n",
       "  <thead>\n",
       "    <tr style=\"text-align: right;\">\n",
       "      <th></th>\n",
       "      <th>book_id</th>\n",
       "      <th>author_id</th>\n",
       "      <th>title</th>\n",
       "      <th>num_pages</th>\n",
       "      <th>publication_date</th>\n",
       "      <th>publisher_id</th>\n",
       "    </tr>\n",
       "  </thead>\n",
       "  <tbody>\n",
       "    <tr>\n",
       "      <th>0</th>\n",
       "      <td>1</td>\n",
       "      <td>546</td>\n",
       "      <td>'Salem's Lot</td>\n",
       "      <td>594</td>\n",
       "      <td>2005-11-01</td>\n",
       "      <td>93</td>\n",
       "    </tr>\n",
       "    <tr>\n",
       "      <th>1</th>\n",
       "      <td>2</td>\n",
       "      <td>465</td>\n",
       "      <td>1 000 Places to See Before You Die</td>\n",
       "      <td>992</td>\n",
       "      <td>2003-05-22</td>\n",
       "      <td>336</td>\n",
       "    </tr>\n",
       "    <tr>\n",
       "      <th>2</th>\n",
       "      <td>3</td>\n",
       "      <td>407</td>\n",
       "      <td>13 Little Blue Envelopes (Little Blue Envelope...</td>\n",
       "      <td>322</td>\n",
       "      <td>2010-12-21</td>\n",
       "      <td>135</td>\n",
       "    </tr>\n",
       "    <tr>\n",
       "      <th>3</th>\n",
       "      <td>4</td>\n",
       "      <td>82</td>\n",
       "      <td>1491: New Revelations of the Americas Before C...</td>\n",
       "      <td>541</td>\n",
       "      <td>2006-10-10</td>\n",
       "      <td>309</td>\n",
       "    </tr>\n",
       "    <tr>\n",
       "      <th>4</th>\n",
       "      <td>5</td>\n",
       "      <td>125</td>\n",
       "      <td>1776</td>\n",
       "      <td>386</td>\n",
       "      <td>2006-07-04</td>\n",
       "      <td>268</td>\n",
       "    </tr>\n",
       "  </tbody>\n",
       "</table>\n",
       "</div>"
      ],
      "text/plain": [
       "   book_id  author_id                                              title  \\\n",
       "0        1        546                                       'Salem's Lot   \n",
       "1        2        465                 1 000 Places to See Before You Die   \n",
       "2        3        407  13 Little Blue Envelopes (Little Blue Envelope...   \n",
       "3        4         82  1491: New Revelations of the Americas Before C...   \n",
       "4        5        125                                               1776   \n",
       "\n",
       "   num_pages publication_date  publisher_id  \n",
       "0        594       2005-11-01            93  \n",
       "1        992       2003-05-22           336  \n",
       "2        322       2010-12-21           135  \n",
       "3        541       2006-10-10           309  \n",
       "4        386       2006-07-04           268  "
      ]
     },
     "execution_count": 2,
     "metadata": {},
     "output_type": "execute_result"
    }
   ],
   "source": [
    "# составляем SQL запрос и сохраняем его в переменной\n",
    "query = \"\"\"\n",
    "        SELECT *\n",
    "        FROM books\n",
    "        LIMIT 5;\n",
    "        \"\"\"\n",
    "# выполняем SQL запрос\n",
    "answer = pd.io.sql.read_sql(query, con = engine)\n",
    "answer"
   ]
  },
  {
   "cell_type": "markdown",
   "id": "16b1a947",
   "metadata": {},
   "source": [
    "### таблица authors"
   ]
  },
  {
   "cell_type": "code",
   "execution_count": 3,
   "id": "e4c97ae0",
   "metadata": {},
   "outputs": [
    {
     "data": {
      "text/html": [
       "<div>\n",
       "<style scoped>\n",
       "    .dataframe tbody tr th:only-of-type {\n",
       "        vertical-align: middle;\n",
       "    }\n",
       "\n",
       "    .dataframe tbody tr th {\n",
       "        vertical-align: top;\n",
       "    }\n",
       "\n",
       "    .dataframe thead th {\n",
       "        text-align: right;\n",
       "    }\n",
       "</style>\n",
       "<table border=\"1\" class=\"dataframe\">\n",
       "  <thead>\n",
       "    <tr style=\"text-align: right;\">\n",
       "      <th></th>\n",
       "      <th>author_id</th>\n",
       "      <th>author</th>\n",
       "    </tr>\n",
       "  </thead>\n",
       "  <tbody>\n",
       "    <tr>\n",
       "      <th>0</th>\n",
       "      <td>1</td>\n",
       "      <td>A.S. Byatt</td>\n",
       "    </tr>\n",
       "    <tr>\n",
       "      <th>1</th>\n",
       "      <td>2</td>\n",
       "      <td>Aesop/Laura Harris/Laura Gibbs</td>\n",
       "    </tr>\n",
       "    <tr>\n",
       "      <th>2</th>\n",
       "      <td>3</td>\n",
       "      <td>Agatha Christie</td>\n",
       "    </tr>\n",
       "    <tr>\n",
       "      <th>3</th>\n",
       "      <td>4</td>\n",
       "      <td>Alan Brennert</td>\n",
       "    </tr>\n",
       "    <tr>\n",
       "      <th>4</th>\n",
       "      <td>5</td>\n",
       "      <td>Alan Moore/David   Lloyd</td>\n",
       "    </tr>\n",
       "  </tbody>\n",
       "</table>\n",
       "</div>"
      ],
      "text/plain": [
       "   author_id                          author\n",
       "0          1                      A.S. Byatt\n",
       "1          2  Aesop/Laura Harris/Laura Gibbs\n",
       "2          3                 Agatha Christie\n",
       "3          4                   Alan Brennert\n",
       "4          5        Alan Moore/David   Lloyd"
      ]
     },
     "execution_count": 3,
     "metadata": {},
     "output_type": "execute_result"
    }
   ],
   "source": [
    "# составляем SQL запрос и сохраняем его в переменной\n",
    "query = \"\"\"\n",
    "        SELECT *\n",
    "        FROM authors\n",
    "        LIMIT 5;\n",
    "        \"\"\"\n",
    "# выполняем SQL запрос\n",
    "answer = pd.io.sql.read_sql(query, con = engine)\n",
    "answer"
   ]
  },
  {
   "cell_type": "markdown",
   "id": "5f3dee00",
   "metadata": {},
   "source": [
    "### таблица publishers"
   ]
  },
  {
   "cell_type": "code",
   "execution_count": 4,
   "id": "7b8c637c",
   "metadata": {},
   "outputs": [
    {
     "data": {
      "text/html": [
       "<div>\n",
       "<style scoped>\n",
       "    .dataframe tbody tr th:only-of-type {\n",
       "        vertical-align: middle;\n",
       "    }\n",
       "\n",
       "    .dataframe tbody tr th {\n",
       "        vertical-align: top;\n",
       "    }\n",
       "\n",
       "    .dataframe thead th {\n",
       "        text-align: right;\n",
       "    }\n",
       "</style>\n",
       "<table border=\"1\" class=\"dataframe\">\n",
       "  <thead>\n",
       "    <tr style=\"text-align: right;\">\n",
       "      <th></th>\n",
       "      <th>publisher_id</th>\n",
       "      <th>publisher</th>\n",
       "    </tr>\n",
       "  </thead>\n",
       "  <tbody>\n",
       "    <tr>\n",
       "      <th>0</th>\n",
       "      <td>1</td>\n",
       "      <td>Ace</td>\n",
       "    </tr>\n",
       "    <tr>\n",
       "      <th>1</th>\n",
       "      <td>2</td>\n",
       "      <td>Ace Book</td>\n",
       "    </tr>\n",
       "    <tr>\n",
       "      <th>2</th>\n",
       "      <td>3</td>\n",
       "      <td>Ace Books</td>\n",
       "    </tr>\n",
       "    <tr>\n",
       "      <th>3</th>\n",
       "      <td>4</td>\n",
       "      <td>Ace Hardcover</td>\n",
       "    </tr>\n",
       "    <tr>\n",
       "      <th>4</th>\n",
       "      <td>5</td>\n",
       "      <td>Addison Wesley Publishing Company</td>\n",
       "    </tr>\n",
       "  </tbody>\n",
       "</table>\n",
       "</div>"
      ],
      "text/plain": [
       "   publisher_id                          publisher\n",
       "0             1                                Ace\n",
       "1             2                           Ace Book\n",
       "2             3                          Ace Books\n",
       "3             4                      Ace Hardcover\n",
       "4             5  Addison Wesley Publishing Company"
      ]
     },
     "execution_count": 4,
     "metadata": {},
     "output_type": "execute_result"
    }
   ],
   "source": [
    "# составляем SQL запрос и сохраняем его в переменной\n",
    "query = \"\"\"\n",
    "        SELECT *\n",
    "        FROM publishers\n",
    "        LIMIT 5;\n",
    "        \"\"\"\n",
    "# выполняем SQL запрос\n",
    "answer = pd.io.sql.read_sql(query, con = engine)\n",
    "answer"
   ]
  },
  {
   "cell_type": "markdown",
   "id": "c4883aa7",
   "metadata": {},
   "source": [
    "### таблица ratings"
   ]
  },
  {
   "cell_type": "code",
   "execution_count": 5,
   "id": "59d3fc17",
   "metadata": {},
   "outputs": [
    {
     "data": {
      "text/html": [
       "<div>\n",
       "<style scoped>\n",
       "    .dataframe tbody tr th:only-of-type {\n",
       "        vertical-align: middle;\n",
       "    }\n",
       "\n",
       "    .dataframe tbody tr th {\n",
       "        vertical-align: top;\n",
       "    }\n",
       "\n",
       "    .dataframe thead th {\n",
       "        text-align: right;\n",
       "    }\n",
       "</style>\n",
       "<table border=\"1\" class=\"dataframe\">\n",
       "  <thead>\n",
       "    <tr style=\"text-align: right;\">\n",
       "      <th></th>\n",
       "      <th>rating_id</th>\n",
       "      <th>book_id</th>\n",
       "      <th>username</th>\n",
       "      <th>rating</th>\n",
       "    </tr>\n",
       "  </thead>\n",
       "  <tbody>\n",
       "    <tr>\n",
       "      <th>0</th>\n",
       "      <td>1</td>\n",
       "      <td>1</td>\n",
       "      <td>ryanfranco</td>\n",
       "      <td>4</td>\n",
       "    </tr>\n",
       "    <tr>\n",
       "      <th>1</th>\n",
       "      <td>2</td>\n",
       "      <td>1</td>\n",
       "      <td>grantpatricia</td>\n",
       "      <td>2</td>\n",
       "    </tr>\n",
       "    <tr>\n",
       "      <th>2</th>\n",
       "      <td>3</td>\n",
       "      <td>1</td>\n",
       "      <td>brandtandrea</td>\n",
       "      <td>5</td>\n",
       "    </tr>\n",
       "    <tr>\n",
       "      <th>3</th>\n",
       "      <td>4</td>\n",
       "      <td>2</td>\n",
       "      <td>lorichen</td>\n",
       "      <td>3</td>\n",
       "    </tr>\n",
       "    <tr>\n",
       "      <th>4</th>\n",
       "      <td>5</td>\n",
       "      <td>2</td>\n",
       "      <td>mariokeller</td>\n",
       "      <td>2</td>\n",
       "    </tr>\n",
       "  </tbody>\n",
       "</table>\n",
       "</div>"
      ],
      "text/plain": [
       "   rating_id  book_id       username  rating\n",
       "0          1        1     ryanfranco       4\n",
       "1          2        1  grantpatricia       2\n",
       "2          3        1   brandtandrea       5\n",
       "3          4        2       lorichen       3\n",
       "4          5        2    mariokeller       2"
      ]
     },
     "execution_count": 5,
     "metadata": {},
     "output_type": "execute_result"
    }
   ],
   "source": [
    "# составляем SQL запрос и сохраняем его в переменной\n",
    "query = \"\"\"\n",
    "        SELECT *\n",
    "        FROM ratings\n",
    "        LIMIT 5;\n",
    "        \"\"\"\n",
    "# выполняем SQL запрос\n",
    "answer = pd.io.sql.read_sql(query, con = engine)\n",
    "answer"
   ]
  },
  {
   "cell_type": "markdown",
   "id": "99e6c7cb",
   "metadata": {},
   "source": [
    "### таблица reviews"
   ]
  },
  {
   "cell_type": "code",
   "execution_count": 6,
   "id": "32e45727",
   "metadata": {},
   "outputs": [
    {
     "data": {
      "text/html": [
       "<div>\n",
       "<style scoped>\n",
       "    .dataframe tbody tr th:only-of-type {\n",
       "        vertical-align: middle;\n",
       "    }\n",
       "\n",
       "    .dataframe tbody tr th {\n",
       "        vertical-align: top;\n",
       "    }\n",
       "\n",
       "    .dataframe thead th {\n",
       "        text-align: right;\n",
       "    }\n",
       "</style>\n",
       "<table border=\"1\" class=\"dataframe\">\n",
       "  <thead>\n",
       "    <tr style=\"text-align: right;\">\n",
       "      <th></th>\n",
       "      <th>review_id</th>\n",
       "      <th>book_id</th>\n",
       "      <th>username</th>\n",
       "      <th>text</th>\n",
       "    </tr>\n",
       "  </thead>\n",
       "  <tbody>\n",
       "    <tr>\n",
       "      <th>0</th>\n",
       "      <td>1</td>\n",
       "      <td>1</td>\n",
       "      <td>brandtandrea</td>\n",
       "      <td>Mention society tell send professor analysis. ...</td>\n",
       "    </tr>\n",
       "    <tr>\n",
       "      <th>1</th>\n",
       "      <td>2</td>\n",
       "      <td>1</td>\n",
       "      <td>ryanfranco</td>\n",
       "      <td>Foot glass pretty audience hit themselves. Amo...</td>\n",
       "    </tr>\n",
       "    <tr>\n",
       "      <th>2</th>\n",
       "      <td>3</td>\n",
       "      <td>2</td>\n",
       "      <td>lorichen</td>\n",
       "      <td>Listen treat keep worry. Miss husband tax but ...</td>\n",
       "    </tr>\n",
       "    <tr>\n",
       "      <th>3</th>\n",
       "      <td>4</td>\n",
       "      <td>3</td>\n",
       "      <td>johnsonamanda</td>\n",
       "      <td>Finally month interesting blue could nature cu...</td>\n",
       "    </tr>\n",
       "    <tr>\n",
       "      <th>4</th>\n",
       "      <td>5</td>\n",
       "      <td>3</td>\n",
       "      <td>scotttamara</td>\n",
       "      <td>Nation purpose heavy give wait song will. List...</td>\n",
       "    </tr>\n",
       "  </tbody>\n",
       "</table>\n",
       "</div>"
      ],
      "text/plain": [
       "   review_id  book_id       username  \\\n",
       "0          1        1   brandtandrea   \n",
       "1          2        1     ryanfranco   \n",
       "2          3        2       lorichen   \n",
       "3          4        3  johnsonamanda   \n",
       "4          5        3    scotttamara   \n",
       "\n",
       "                                                text  \n",
       "0  Mention society tell send professor analysis. ...  \n",
       "1  Foot glass pretty audience hit themselves. Amo...  \n",
       "2  Listen treat keep worry. Miss husband tax but ...  \n",
       "3  Finally month interesting blue could nature cu...  \n",
       "4  Nation purpose heavy give wait song will. List...  "
      ]
     },
     "execution_count": 6,
     "metadata": {},
     "output_type": "execute_result"
    }
   ],
   "source": [
    "# составляем SQL запрос и сохраняем его в переменной\n",
    "query = \"\"\"\n",
    "        SELECT *\n",
    "        FROM reviews\n",
    "        LIMIT 5;\n",
    "        \"\"\"\n",
    "# выполняем SQL запрос\n",
    "answer = pd.io.sql.read_sql(query, con = engine)\n",
    "answer"
   ]
  },
  {
   "cell_type": "markdown",
   "id": "6c580291",
   "metadata": {},
   "source": [
    "Данные изучили. Они в поредке. Соответствуют описанию, которое мы получили. Переходим к анализу базы данных."
   ]
  },
  {
   "cell_type": "markdown",
   "id": "1844b6b8",
   "metadata": {},
   "source": [
    "## Анализ базы данных"
   ]
  },
  {
   "cell_type": "markdown",
   "id": "3d6011ed",
   "metadata": {},
   "source": [
    "### считаем количество книг, вышедших после 1 января 2000 года:"
   ]
  },
  {
   "cell_type": "code",
   "execution_count": 7,
   "id": "ffdd2474",
   "metadata": {},
   "outputs": [
    {
     "data": {
      "text/html": [
       "<div>\n",
       "<style scoped>\n",
       "    .dataframe tbody tr th:only-of-type {\n",
       "        vertical-align: middle;\n",
       "    }\n",
       "\n",
       "    .dataframe tbody tr th {\n",
       "        vertical-align: top;\n",
       "    }\n",
       "\n",
       "    .dataframe thead th {\n",
       "        text-align: right;\n",
       "    }\n",
       "</style>\n",
       "<table border=\"1\" class=\"dataframe\">\n",
       "  <thead>\n",
       "    <tr style=\"text-align: right;\">\n",
       "      <th></th>\n",
       "      <th>books_cnt</th>\n",
       "    </tr>\n",
       "  </thead>\n",
       "  <tbody>\n",
       "    <tr>\n",
       "      <th>0</th>\n",
       "      <td>819</td>\n",
       "    </tr>\n",
       "  </tbody>\n",
       "</table>\n",
       "</div>"
      ],
      "text/plain": [
       "   books_cnt\n",
       "0        819"
      ]
     },
     "execution_count": 7,
     "metadata": {},
     "output_type": "execute_result"
    }
   ],
   "source": [
    "# составляем SQL запрос и сохраняем его в переменной\n",
    "query = \"\"\"\n",
    "        SELECT COUNT(book_id) as books_cnt\n",
    "        FROM books\n",
    "        WHERE publication_date > '2000-01-01';\n",
    "        \"\"\"\n",
    "# выполняем SQL запрос\n",
    "answer = pd.io.sql.read_sql(query, con = engine)\n",
    "answer"
   ]
  },
  {
   "cell_type": "markdown",
   "id": "fc07cffb",
   "metadata": {},
   "source": [
    "После 1 января 2000 года вышло 819 книг."
   ]
  },
  {
   "cell_type": "markdown",
   "id": "bc908c88",
   "metadata": {},
   "source": [
    "### посчитаем количество обзоров и среднюю оценку для каждой книги:"
   ]
  },
  {
   "cell_type": "code",
   "execution_count": 8,
   "id": "cfff14de",
   "metadata": {},
   "outputs": [
    {
     "data": {
      "text/html": [
       "<div>\n",
       "<style scoped>\n",
       "    .dataframe tbody tr th:only-of-type {\n",
       "        vertical-align: middle;\n",
       "    }\n",
       "\n",
       "    .dataframe tbody tr th {\n",
       "        vertical-align: top;\n",
       "    }\n",
       "\n",
       "    .dataframe thead th {\n",
       "        text-align: right;\n",
       "    }\n",
       "</style>\n",
       "<table border=\"1\" class=\"dataframe\">\n",
       "  <thead>\n",
       "    <tr style=\"text-align: right;\">\n",
       "      <th></th>\n",
       "      <th>title</th>\n",
       "      <th>review_cnt</th>\n",
       "      <th>avg_rating</th>\n",
       "    </tr>\n",
       "  </thead>\n",
       "  <tbody>\n",
       "    <tr>\n",
       "      <th>0</th>\n",
       "      <td>A Dirty Job (Grim Reaper  #1)</td>\n",
       "      <td>4</td>\n",
       "      <td>5.00</td>\n",
       "    </tr>\n",
       "    <tr>\n",
       "      <th>1</th>\n",
       "      <td>School's Out—Forever (Maximum Ride  #2)</td>\n",
       "      <td>3</td>\n",
       "      <td>5.00</td>\n",
       "    </tr>\n",
       "    <tr>\n",
       "      <th>2</th>\n",
       "      <td>Moneyball: The Art of Winning an Unfair Game</td>\n",
       "      <td>3</td>\n",
       "      <td>5.00</td>\n",
       "    </tr>\n",
       "    <tr>\n",
       "      <th>3</th>\n",
       "      <td>The Big Bad Wolf  (Alex Cross  #9)</td>\n",
       "      <td>2</td>\n",
       "      <td>5.00</td>\n",
       "    </tr>\n",
       "    <tr>\n",
       "      <th>4</th>\n",
       "      <td>Welcome to Temptation (Dempseys  #1)</td>\n",
       "      <td>2</td>\n",
       "      <td>5.00</td>\n",
       "    </tr>\n",
       "    <tr>\n",
       "      <th>...</th>\n",
       "      <td>...</td>\n",
       "      <td>...</td>\n",
       "      <td>...</td>\n",
       "    </tr>\n",
       "    <tr>\n",
       "      <th>995</th>\n",
       "      <td>The World Is Flat: A Brief History of the Twen...</td>\n",
       "      <td>3</td>\n",
       "      <td>2.25</td>\n",
       "    </tr>\n",
       "    <tr>\n",
       "      <th>996</th>\n",
       "      <td>Drowning Ruth</td>\n",
       "      <td>3</td>\n",
       "      <td>2.00</td>\n",
       "    </tr>\n",
       "    <tr>\n",
       "      <th>997</th>\n",
       "      <td>His Excellency: George Washington</td>\n",
       "      <td>2</td>\n",
       "      <td>2.00</td>\n",
       "    </tr>\n",
       "    <tr>\n",
       "      <th>998</th>\n",
       "      <td>Junky</td>\n",
       "      <td>2</td>\n",
       "      <td>2.00</td>\n",
       "    </tr>\n",
       "    <tr>\n",
       "      <th>999</th>\n",
       "      <td>Harvesting the Heart</td>\n",
       "      <td>2</td>\n",
       "      <td>1.50</td>\n",
       "    </tr>\n",
       "  </tbody>\n",
       "</table>\n",
       "<p>1000 rows × 3 columns</p>\n",
       "</div>"
      ],
      "text/plain": [
       "                                                 title  review_cnt  avg_rating\n",
       "0                        A Dirty Job (Grim Reaper  #1)           4        5.00\n",
       "1              School's Out—Forever (Maximum Ride  #2)           3        5.00\n",
       "2         Moneyball: The Art of Winning an Unfair Game           3        5.00\n",
       "3                   The Big Bad Wolf  (Alex Cross  #9)           2        5.00\n",
       "4                 Welcome to Temptation (Dempseys  #1)           2        5.00\n",
       "..                                                 ...         ...         ...\n",
       "995  The World Is Flat: A Brief History of the Twen...           3        2.25\n",
       "996                                      Drowning Ruth           3        2.00\n",
       "997                  His Excellency: George Washington           2        2.00\n",
       "998                                              Junky           2        2.00\n",
       "999                               Harvesting the Heart           2        1.50\n",
       "\n",
       "[1000 rows x 3 columns]"
      ]
     },
     "execution_count": 8,
     "metadata": {},
     "output_type": "execute_result"
    }
   ],
   "source": [
    "# составляем SQL запрос и сохраняем его в переменной\n",
    "query = \"\"\"\n",
    "        SELECT title,\n",
    "               COUNT(DISTINCT review_id) AS review_cnt,\n",
    "               ROUND(AVG(rating), 2) AS avg_rating\n",
    "        FROM books AS b \n",
    "        LEFT JOIN ratings AS ra ON b.book_id = ra.book_id\n",
    "        LEFT JOIN reviews AS re ON b.book_id = re.book_id\n",
    "        GROUP BY b.book_id\n",
    "        ORDER BY avg_rating DESC, \n",
    "                 review_cnt DESC;\n",
    "        \"\"\"\n",
    "# выполняем SQL запрос\n",
    "answer = pd.io.sql.read_sql(query, con = engine)\n",
    "answer"
   ]
  },
  {
   "cell_type": "markdown",
   "id": "e4a757d8",
   "metadata": {},
   "source": [
    "Мы видим все книги, хранящиеся в базе данных, с их информацией о среднем рейтинге и количеству обзоров, отсортированные соответственно по рейтингу и количеству обзоров.\n",
    "\n",
    "\n",
    "Книга с самым высокоим рейтингом и большим числом обзоров - это `A Dirty Job (Grim Reaper #1)`;\n",
    "\n",
    "Самый низкий рейтинг и малое количество обзоров у книги `Harvesting the Heart`.\t"
   ]
  },
  {
   "cell_type": "markdown",
   "id": "ad32a358",
   "metadata": {},
   "source": [
    "### Определим издательство, которое выпустило наибольшее число книг толще 50 страниц (исключаем брошюры):"
   ]
  },
  {
   "cell_type": "code",
   "execution_count": 9,
   "id": "0faf7543",
   "metadata": {},
   "outputs": [
    {
     "data": {
      "text/html": [
       "<div>\n",
       "<style scoped>\n",
       "    .dataframe tbody tr th:only-of-type {\n",
       "        vertical-align: middle;\n",
       "    }\n",
       "\n",
       "    .dataframe tbody tr th {\n",
       "        vertical-align: top;\n",
       "    }\n",
       "\n",
       "    .dataframe thead th {\n",
       "        text-align: right;\n",
       "    }\n",
       "</style>\n",
       "<table border=\"1\" class=\"dataframe\">\n",
       "  <thead>\n",
       "    <tr style=\"text-align: right;\">\n",
       "      <th></th>\n",
       "      <th>publisher</th>\n",
       "      <th>books_cnt</th>\n",
       "    </tr>\n",
       "  </thead>\n",
       "  <tbody>\n",
       "    <tr>\n",
       "      <th>0</th>\n",
       "      <td>Penguin Books</td>\n",
       "      <td>42</td>\n",
       "    </tr>\n",
       "  </tbody>\n",
       "</table>\n",
       "</div>"
      ],
      "text/plain": [
       "       publisher  books_cnt\n",
       "0  Penguin Books         42"
      ]
     },
     "execution_count": 9,
     "metadata": {},
     "output_type": "execute_result"
    }
   ],
   "source": [
    "# составляем SQL запрос и сохраняем его в переменной\n",
    "query = \"\"\"  \n",
    "        SELECT publisher,\n",
    "               COUNT(book_id) AS books_cnt\n",
    "        FROM publishers AS p\n",
    "        INNER JOIN books AS b ON p.publisher_id = b.publisher_id\n",
    "        WHERE num_pages > 50\n",
    "        GROUP BY publisher\n",
    "        ORDER BY books_cnt DESC\n",
    "        LIMIT 1;                             \n",
    "        \"\"\"\n",
    "# выполняем SQL запрос\n",
    "answer = pd.io.sql.read_sql(query, con = engine)\n",
    "answer"
   ]
  },
  {
   "cell_type": "markdown",
   "id": "92db0c9e",
   "metadata": {},
   "source": [
    "Издательство `Penguin Books` выпустило больше всего книг, а именно 42."
   ]
  },
  {
   "cell_type": "markdown",
   "id": "eaf546f6",
   "metadata": {},
   "source": [
    "### Определим автора с самой высокой средней оценкой книг (книги с 50 и более оценками):"
   ]
  },
  {
   "cell_type": "code",
   "execution_count": 10,
   "id": "65e76c58",
   "metadata": {},
   "outputs": [
    {
     "data": {
      "text/html": [
       "<div>\n",
       "<style scoped>\n",
       "    .dataframe tbody tr th:only-of-type {\n",
       "        vertical-align: middle;\n",
       "    }\n",
       "\n",
       "    .dataframe tbody tr th {\n",
       "        vertical-align: top;\n",
       "    }\n",
       "\n",
       "    .dataframe thead th {\n",
       "        text-align: right;\n",
       "    }\n",
       "</style>\n",
       "<table border=\"1\" class=\"dataframe\">\n",
       "  <thead>\n",
       "    <tr style=\"text-align: right;\">\n",
       "      <th></th>\n",
       "      <th>author</th>\n",
       "      <th>avg_rating</th>\n",
       "    </tr>\n",
       "  </thead>\n",
       "  <tbody>\n",
       "    <tr>\n",
       "      <th>0</th>\n",
       "      <td>J.K. Rowling/Mary GrandPré</td>\n",
       "      <td>4.29</td>\n",
       "    </tr>\n",
       "  </tbody>\n",
       "</table>\n",
       "</div>"
      ],
      "text/plain": [
       "                       author  avg_rating\n",
       "0  J.K. Rowling/Mary GrandPré        4.29"
      ]
     },
     "execution_count": 10,
     "metadata": {},
     "output_type": "execute_result"
    }
   ],
   "source": [
    "# составляем SQL запрос и сохраняем его в переменной\n",
    "query = \"\"\"  \n",
    "        SELECT author,\n",
    "               ROUND(AVG(rating), 2) AS avg_rating\n",
    "        FROM authors AS a\n",
    "        JOIN books AS b ON a.author_id = b.author_id\n",
    "        JOIN ratings AS r ON b.book_id = r.book_id\n",
    "        WHERE b.book_id IN (\n",
    "                            SELECT book_id\n",
    "                            FROM ratings \n",
    "                            GROUP BY book_id\n",
    "                            HAVING COUNT(rating_id) >= 50\n",
    "                            ORDER BY COUNT(rating_id) DESC\n",
    "                            )\n",
    "        GROUP BY author\n",
    "        ORDER BY avg_rating DESC\n",
    "        LIMIT 1;                             \n",
    "        \"\"\"\n",
    "# выполняем SQL запрос\n",
    "answer = pd.io.sql.read_sql(query, con = engine)\n",
    "answer"
   ]
  },
  {
   "cell_type": "markdown",
   "id": "705ace8b",
   "metadata": {},
   "source": [
    "Видим, что автор с самой высокой средней оценкой книг (c 50 и более оценками) - это `J.K. Rowling/Mary GrandPré` со средней оценкой книг равной `4.29`."
   ]
  },
  {
   "cell_type": "markdown",
   "id": "d47ad488",
   "metadata": {},
   "source": [
    "### Посчитаем среднее количество обзоров от пользователей, которые поставили больше 50 оценок:"
   ]
  },
  {
   "cell_type": "code",
   "execution_count": 11,
   "id": "a5d3063e",
   "metadata": {},
   "outputs": [
    {
     "data": {
      "text/html": [
       "<div>\n",
       "<style scoped>\n",
       "    .dataframe tbody tr th:only-of-type {\n",
       "        vertical-align: middle;\n",
       "    }\n",
       "\n",
       "    .dataframe tbody tr th {\n",
       "        vertical-align: top;\n",
       "    }\n",
       "\n",
       "    .dataframe thead th {\n",
       "        text-align: right;\n",
       "    }\n",
       "</style>\n",
       "<table border=\"1\" class=\"dataframe\">\n",
       "  <thead>\n",
       "    <tr style=\"text-align: right;\">\n",
       "      <th></th>\n",
       "      <th>avg_review_cnt</th>\n",
       "    </tr>\n",
       "  </thead>\n",
       "  <tbody>\n",
       "    <tr>\n",
       "      <th>0</th>\n",
       "      <td>24.33</td>\n",
       "    </tr>\n",
       "  </tbody>\n",
       "</table>\n",
       "</div>"
      ],
      "text/plain": [
       "   avg_review_cnt\n",
       "0           24.33"
      ]
     },
     "execution_count": 11,
     "metadata": {},
     "output_type": "execute_result"
    }
   ],
   "source": [
    "# составляем SQL запрос и сохраняем его в переменной\n",
    "query = \"\"\"  \n",
    "        SELECT ROUND(AVG(review_cnt), 2) as avg_review_cnt\n",
    "        FROM (\n",
    "              SELECT username, \n",
    "                     COUNT(review_id) AS review_cnt\n",
    "              FROM reviews \n",
    "              WHERE username IN (\n",
    "                                 SELECT username\n",
    "                                 FROM ratings\n",
    "                                 GROUP BY username\n",
    "                                 HAVING COUNT(rating_id) > 50\n",
    "                                 )\n",
    "              GROUP BY  username\n",
    "              ) AS counter;                             \n",
    "        \"\"\"\n",
    "# выполняем SQL запрос\n",
    "answer = pd.io.sql.read_sql(query, con = engine)\n",
    "answer"
   ]
  },
  {
   "cell_type": "markdown",
   "id": "bd12dd42",
   "metadata": {},
   "source": [
    "Cреднее количество обзоров от пользователей, которые поставили больше 50 оценок равно `24.33`."
   ]
  },
  {
   "cell_type": "markdown",
   "id": "f933a917",
   "metadata": {},
   "source": [
    "## Выводы"
   ]
  },
  {
   "cell_type": "markdown",
   "id": "3fc1bcc2",
   "metadata": {},
   "source": [
    "Мы провели анализ базы данных и выявили следующие моменты:\n",
    "\n",
    "1. С 1 января 2000 года было выпущено 819 книг;\n",
    "2. Книга с самым высокоим совокупным рейтингом и числом обзоров - это `A Dirty Job (Grim Reaper #1)`;\n",
    "3. Больше всего книг выпустило издательство `Penguin Books` - 42;\n",
    "4. Автор с самой высокой (4.29) средней оценкой книг (c 50 и более оценками) - это `J.K. Rowling/Mary GrandPré`;\n",
    "5. Cреднее количество обзоров от пользователей, которые поставили больше 50 оценок равно - `24.33`."
   ]
  }
 ],
 "metadata": {
  "kernelspec": {
   "display_name": "Python 3 (ipykernel)",
   "language": "python",
   "name": "python3"
  },
  "language_info": {
   "codemirror_mode": {
    "name": "ipython",
    "version": 3
   },
   "file_extension": ".py",
   "mimetype": "text/x-python",
   "name": "python",
   "nbconvert_exporter": "python",
   "pygments_lexer": "ipython3",
   "version": "3.9.13"
  }
 },
 "nbformat": 4,
 "nbformat_minor": 5
}
