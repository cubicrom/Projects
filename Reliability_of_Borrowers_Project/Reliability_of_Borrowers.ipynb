{
 "cells": [
  {
   "cell_type": "markdown",
   "id": "dc1b957b",
   "metadata": {
    "deletable": false,
    "editable": false,
    "id": "c81daeeb"
   },
   "source": [
    "# Исследование надежности заемщиков"
   ]
  },
  {
   "cell_type": "markdown",
   "id": "740931b7",
   "metadata": {
    "deletable": false,
    "editable": false,
    "id": "-G3EJWzf62s6"
   },
   "source": [
    "Это первая часть проекта, она будет проверена автоматически. Вторую часть проверит ревьюер. "
   ]
  },
  {
   "cell_type": "markdown",
   "id": "f4b90f80",
   "metadata": {
    "deletable": false,
    "editable": false,
    "id": "744d7639"
   },
   "source": [
    "## Откройте таблицу и изучите общую информацию о данных"
   ]
  },
  {
   "cell_type": "markdown",
   "id": "0953c22c",
   "metadata": {
    "deletable": false,
    "editable": false,
    "id": "e7a14c31",
    "tags": [
     "start_task"
    ]
   },
   "source": [
    "**Задание 1. Импортируйте библиотеку pandas. Считайте данные из csv-файла в датафрейм и сохраните в переменную `data`. Путь к файлу:**\n",
    "\n",
    "`/datasets/data.csv`"
   ]
  },
  {
   "cell_type": "code",
   "execution_count": 2,
   "id": "12e33c1a",
   "metadata": {
    "id": "7bcf75c9"
   },
   "outputs": [],
   "source": [
    "import pandas as pd # импортируйте библиотеку pandas"
   ]
  },
  {
   "cell_type": "code",
   "execution_count": 3,
   "id": "f2c08ca8",
   "metadata": {
    "id": "4d240ee2"
   },
   "outputs": [],
   "source": [
    "data = pd.read_csv('/datasets/data.csv') # прочитайте csv-файл"
   ]
  },
  {
   "cell_type": "markdown",
   "id": "09863c1f",
   "metadata": {
    "deletable": false,
    "editable": false,
    "id": "b8038fe3",
    "tags": [
     "start_task"
    ]
   },
   "source": [
    "**Задание 2. Выведите первые 20 строчек датафрейма `data` на экран.**"
   ]
  },
  {
   "cell_type": "code",
   "execution_count": 4,
   "id": "7a5e9258",
   "metadata": {
    "id": "2a7cab99"
   },
   "outputs": [
    {
     "data": {
      "text/html": [
       "<div>\n",
       "<style scoped>\n",
       "    .dataframe tbody tr th:only-of-type {\n",
       "        vertical-align: middle;\n",
       "    }\n",
       "\n",
       "    .dataframe tbody tr th {\n",
       "        vertical-align: top;\n",
       "    }\n",
       "\n",
       "    .dataframe thead th {\n",
       "        text-align: right;\n",
       "    }\n",
       "</style>\n",
       "<table border=\"1\" class=\"dataframe\">\n",
       "  <thead>\n",
       "    <tr style=\"text-align: right;\">\n",
       "      <th></th>\n",
       "      <th>children</th>\n",
       "      <th>days_employed</th>\n",
       "      <th>dob_years</th>\n",
       "      <th>education</th>\n",
       "      <th>education_id</th>\n",
       "      <th>family_status</th>\n",
       "      <th>family_status_id</th>\n",
       "      <th>gender</th>\n",
       "      <th>income_type</th>\n",
       "      <th>debt</th>\n",
       "      <th>total_income</th>\n",
       "      <th>purpose</th>\n",
       "    </tr>\n",
       "  </thead>\n",
       "  <tbody>\n",
       "    <tr>\n",
       "      <th>0</th>\n",
       "      <td>1</td>\n",
       "      <td>-8437.673028</td>\n",
       "      <td>42</td>\n",
       "      <td>высшее</td>\n",
       "      <td>0</td>\n",
       "      <td>женат / замужем</td>\n",
       "      <td>0</td>\n",
       "      <td>F</td>\n",
       "      <td>сотрудник</td>\n",
       "      <td>0</td>\n",
       "      <td>253875.639453</td>\n",
       "      <td>покупка жилья</td>\n",
       "    </tr>\n",
       "    <tr>\n",
       "      <th>1</th>\n",
       "      <td>1</td>\n",
       "      <td>-4024.803754</td>\n",
       "      <td>36</td>\n",
       "      <td>среднее</td>\n",
       "      <td>1</td>\n",
       "      <td>женат / замужем</td>\n",
       "      <td>0</td>\n",
       "      <td>F</td>\n",
       "      <td>сотрудник</td>\n",
       "      <td>0</td>\n",
       "      <td>112080.014102</td>\n",
       "      <td>приобретение автомобиля</td>\n",
       "    </tr>\n",
       "    <tr>\n",
       "      <th>2</th>\n",
       "      <td>0</td>\n",
       "      <td>-5623.422610</td>\n",
       "      <td>33</td>\n",
       "      <td>Среднее</td>\n",
       "      <td>1</td>\n",
       "      <td>женат / замужем</td>\n",
       "      <td>0</td>\n",
       "      <td>M</td>\n",
       "      <td>сотрудник</td>\n",
       "      <td>0</td>\n",
       "      <td>145885.952297</td>\n",
       "      <td>покупка жилья</td>\n",
       "    </tr>\n",
       "    <tr>\n",
       "      <th>3</th>\n",
       "      <td>3</td>\n",
       "      <td>-4124.747207</td>\n",
       "      <td>32</td>\n",
       "      <td>среднее</td>\n",
       "      <td>1</td>\n",
       "      <td>женат / замужем</td>\n",
       "      <td>0</td>\n",
       "      <td>M</td>\n",
       "      <td>сотрудник</td>\n",
       "      <td>0</td>\n",
       "      <td>267628.550329</td>\n",
       "      <td>дополнительное образование</td>\n",
       "    </tr>\n",
       "    <tr>\n",
       "      <th>4</th>\n",
       "      <td>0</td>\n",
       "      <td>340266.072047</td>\n",
       "      <td>53</td>\n",
       "      <td>среднее</td>\n",
       "      <td>1</td>\n",
       "      <td>гражданский брак</td>\n",
       "      <td>1</td>\n",
       "      <td>F</td>\n",
       "      <td>пенсионер</td>\n",
       "      <td>0</td>\n",
       "      <td>158616.077870</td>\n",
       "      <td>сыграть свадьбу</td>\n",
       "    </tr>\n",
       "    <tr>\n",
       "      <th>5</th>\n",
       "      <td>0</td>\n",
       "      <td>-926.185831</td>\n",
       "      <td>27</td>\n",
       "      <td>высшее</td>\n",
       "      <td>0</td>\n",
       "      <td>гражданский брак</td>\n",
       "      <td>1</td>\n",
       "      <td>M</td>\n",
       "      <td>компаньон</td>\n",
       "      <td>0</td>\n",
       "      <td>255763.565419</td>\n",
       "      <td>покупка жилья</td>\n",
       "    </tr>\n",
       "    <tr>\n",
       "      <th>6</th>\n",
       "      <td>0</td>\n",
       "      <td>-2879.202052</td>\n",
       "      <td>43</td>\n",
       "      <td>высшее</td>\n",
       "      <td>0</td>\n",
       "      <td>женат / замужем</td>\n",
       "      <td>0</td>\n",
       "      <td>F</td>\n",
       "      <td>компаньон</td>\n",
       "      <td>0</td>\n",
       "      <td>240525.971920</td>\n",
       "      <td>операции с жильем</td>\n",
       "    </tr>\n",
       "    <tr>\n",
       "      <th>7</th>\n",
       "      <td>0</td>\n",
       "      <td>-152.779569</td>\n",
       "      <td>50</td>\n",
       "      <td>СРЕДНЕЕ</td>\n",
       "      <td>1</td>\n",
       "      <td>женат / замужем</td>\n",
       "      <td>0</td>\n",
       "      <td>M</td>\n",
       "      <td>сотрудник</td>\n",
       "      <td>0</td>\n",
       "      <td>135823.934197</td>\n",
       "      <td>образование</td>\n",
       "    </tr>\n",
       "    <tr>\n",
       "      <th>8</th>\n",
       "      <td>2</td>\n",
       "      <td>-6929.865299</td>\n",
       "      <td>35</td>\n",
       "      <td>ВЫСШЕЕ</td>\n",
       "      <td>0</td>\n",
       "      <td>гражданский брак</td>\n",
       "      <td>1</td>\n",
       "      <td>F</td>\n",
       "      <td>сотрудник</td>\n",
       "      <td>0</td>\n",
       "      <td>95856.832424</td>\n",
       "      <td>на проведение свадьбы</td>\n",
       "    </tr>\n",
       "    <tr>\n",
       "      <th>9</th>\n",
       "      <td>0</td>\n",
       "      <td>-2188.756445</td>\n",
       "      <td>41</td>\n",
       "      <td>среднее</td>\n",
       "      <td>1</td>\n",
       "      <td>женат / замужем</td>\n",
       "      <td>0</td>\n",
       "      <td>M</td>\n",
       "      <td>сотрудник</td>\n",
       "      <td>0</td>\n",
       "      <td>144425.938277</td>\n",
       "      <td>покупка жилья для семьи</td>\n",
       "    </tr>\n",
       "    <tr>\n",
       "      <th>10</th>\n",
       "      <td>2</td>\n",
       "      <td>-4171.483647</td>\n",
       "      <td>36</td>\n",
       "      <td>высшее</td>\n",
       "      <td>0</td>\n",
       "      <td>женат / замужем</td>\n",
       "      <td>0</td>\n",
       "      <td>M</td>\n",
       "      <td>компаньон</td>\n",
       "      <td>0</td>\n",
       "      <td>113943.491460</td>\n",
       "      <td>покупка недвижимости</td>\n",
       "    </tr>\n",
       "    <tr>\n",
       "      <th>11</th>\n",
       "      <td>0</td>\n",
       "      <td>-792.701887</td>\n",
       "      <td>40</td>\n",
       "      <td>среднее</td>\n",
       "      <td>1</td>\n",
       "      <td>женат / замужем</td>\n",
       "      <td>0</td>\n",
       "      <td>F</td>\n",
       "      <td>сотрудник</td>\n",
       "      <td>0</td>\n",
       "      <td>77069.234271</td>\n",
       "      <td>покупка коммерческой недвижимости</td>\n",
       "    </tr>\n",
       "    <tr>\n",
       "      <th>12</th>\n",
       "      <td>0</td>\n",
       "      <td>NaN</td>\n",
       "      <td>65</td>\n",
       "      <td>среднее</td>\n",
       "      <td>1</td>\n",
       "      <td>гражданский брак</td>\n",
       "      <td>1</td>\n",
       "      <td>M</td>\n",
       "      <td>пенсионер</td>\n",
       "      <td>0</td>\n",
       "      <td>NaN</td>\n",
       "      <td>сыграть свадьбу</td>\n",
       "    </tr>\n",
       "    <tr>\n",
       "      <th>13</th>\n",
       "      <td>0</td>\n",
       "      <td>-1846.641941</td>\n",
       "      <td>54</td>\n",
       "      <td>неоконченное высшее</td>\n",
       "      <td>2</td>\n",
       "      <td>женат / замужем</td>\n",
       "      <td>0</td>\n",
       "      <td>F</td>\n",
       "      <td>сотрудник</td>\n",
       "      <td>0</td>\n",
       "      <td>130458.228857</td>\n",
       "      <td>приобретение автомобиля</td>\n",
       "    </tr>\n",
       "    <tr>\n",
       "      <th>14</th>\n",
       "      <td>0</td>\n",
       "      <td>-1844.956182</td>\n",
       "      <td>56</td>\n",
       "      <td>высшее</td>\n",
       "      <td>0</td>\n",
       "      <td>гражданский брак</td>\n",
       "      <td>1</td>\n",
       "      <td>F</td>\n",
       "      <td>компаньон</td>\n",
       "      <td>1</td>\n",
       "      <td>165127.911772</td>\n",
       "      <td>покупка жилой недвижимости</td>\n",
       "    </tr>\n",
       "    <tr>\n",
       "      <th>15</th>\n",
       "      <td>1</td>\n",
       "      <td>-972.364419</td>\n",
       "      <td>26</td>\n",
       "      <td>среднее</td>\n",
       "      <td>1</td>\n",
       "      <td>женат / замужем</td>\n",
       "      <td>0</td>\n",
       "      <td>F</td>\n",
       "      <td>сотрудник</td>\n",
       "      <td>0</td>\n",
       "      <td>116820.904450</td>\n",
       "      <td>строительство собственной недвижимости</td>\n",
       "    </tr>\n",
       "    <tr>\n",
       "      <th>16</th>\n",
       "      <td>0</td>\n",
       "      <td>-1719.934226</td>\n",
       "      <td>35</td>\n",
       "      <td>среднее</td>\n",
       "      <td>1</td>\n",
       "      <td>женат / замужем</td>\n",
       "      <td>0</td>\n",
       "      <td>F</td>\n",
       "      <td>сотрудник</td>\n",
       "      <td>0</td>\n",
       "      <td>289202.704229</td>\n",
       "      <td>недвижимость</td>\n",
       "    </tr>\n",
       "    <tr>\n",
       "      <th>17</th>\n",
       "      <td>0</td>\n",
       "      <td>-2369.999720</td>\n",
       "      <td>33</td>\n",
       "      <td>высшее</td>\n",
       "      <td>0</td>\n",
       "      <td>гражданский брак</td>\n",
       "      <td>1</td>\n",
       "      <td>M</td>\n",
       "      <td>сотрудник</td>\n",
       "      <td>0</td>\n",
       "      <td>90410.586745</td>\n",
       "      <td>строительство недвижимости</td>\n",
       "    </tr>\n",
       "    <tr>\n",
       "      <th>18</th>\n",
       "      <td>0</td>\n",
       "      <td>400281.136913</td>\n",
       "      <td>53</td>\n",
       "      <td>среднее</td>\n",
       "      <td>1</td>\n",
       "      <td>вдовец / вдова</td>\n",
       "      <td>2</td>\n",
       "      <td>F</td>\n",
       "      <td>пенсионер</td>\n",
       "      <td>0</td>\n",
       "      <td>56823.777243</td>\n",
       "      <td>на покупку подержанного автомобиля</td>\n",
       "    </tr>\n",
       "    <tr>\n",
       "      <th>19</th>\n",
       "      <td>0</td>\n",
       "      <td>-10038.818549</td>\n",
       "      <td>48</td>\n",
       "      <td>СРЕДНЕЕ</td>\n",
       "      <td>1</td>\n",
       "      <td>в разводе</td>\n",
       "      <td>3</td>\n",
       "      <td>F</td>\n",
       "      <td>сотрудник</td>\n",
       "      <td>0</td>\n",
       "      <td>242831.107982</td>\n",
       "      <td>на покупку своего автомобиля</td>\n",
       "    </tr>\n",
       "  </tbody>\n",
       "</table>\n",
       "</div>"
      ],
      "text/plain": [
       "    children  days_employed  dob_years            education  education_id  \\\n",
       "0          1   -8437.673028         42               высшее             0   \n",
       "1          1   -4024.803754         36              среднее             1   \n",
       "2          0   -5623.422610         33              Среднее             1   \n",
       "3          3   -4124.747207         32              среднее             1   \n",
       "4          0  340266.072047         53              среднее             1   \n",
       "5          0    -926.185831         27               высшее             0   \n",
       "6          0   -2879.202052         43               высшее             0   \n",
       "7          0    -152.779569         50              СРЕДНЕЕ             1   \n",
       "8          2   -6929.865299         35               ВЫСШЕЕ             0   \n",
       "9          0   -2188.756445         41              среднее             1   \n",
       "10         2   -4171.483647         36               высшее             0   \n",
       "11         0    -792.701887         40              среднее             1   \n",
       "12         0            NaN         65              среднее             1   \n",
       "13         0   -1846.641941         54  неоконченное высшее             2   \n",
       "14         0   -1844.956182         56               высшее             0   \n",
       "15         1    -972.364419         26              среднее             1   \n",
       "16         0   -1719.934226         35              среднее             1   \n",
       "17         0   -2369.999720         33               высшее             0   \n",
       "18         0  400281.136913         53              среднее             1   \n",
       "19         0  -10038.818549         48              СРЕДНЕЕ             1   \n",
       "\n",
       "       family_status  family_status_id gender income_type  debt  \\\n",
       "0    женат / замужем                 0      F   сотрудник     0   \n",
       "1    женат / замужем                 0      F   сотрудник     0   \n",
       "2    женат / замужем                 0      M   сотрудник     0   \n",
       "3    женат / замужем                 0      M   сотрудник     0   \n",
       "4   гражданский брак                 1      F   пенсионер     0   \n",
       "5   гражданский брак                 1      M   компаньон     0   \n",
       "6    женат / замужем                 0      F   компаньон     0   \n",
       "7    женат / замужем                 0      M   сотрудник     0   \n",
       "8   гражданский брак                 1      F   сотрудник     0   \n",
       "9    женат / замужем                 0      M   сотрудник     0   \n",
       "10   женат / замужем                 0      M   компаньон     0   \n",
       "11   женат / замужем                 0      F   сотрудник     0   \n",
       "12  гражданский брак                 1      M   пенсионер     0   \n",
       "13   женат / замужем                 0      F   сотрудник     0   \n",
       "14  гражданский брак                 1      F   компаньон     1   \n",
       "15   женат / замужем                 0      F   сотрудник     0   \n",
       "16   женат / замужем                 0      F   сотрудник     0   \n",
       "17  гражданский брак                 1      M   сотрудник     0   \n",
       "18    вдовец / вдова                 2      F   пенсионер     0   \n",
       "19         в разводе                 3      F   сотрудник     0   \n",
       "\n",
       "     total_income                                 purpose  \n",
       "0   253875.639453                           покупка жилья  \n",
       "1   112080.014102                 приобретение автомобиля  \n",
       "2   145885.952297                           покупка жилья  \n",
       "3   267628.550329              дополнительное образование  \n",
       "4   158616.077870                         сыграть свадьбу  \n",
       "5   255763.565419                           покупка жилья  \n",
       "6   240525.971920                       операции с жильем  \n",
       "7   135823.934197                             образование  \n",
       "8    95856.832424                   на проведение свадьбы  \n",
       "9   144425.938277                 покупка жилья для семьи  \n",
       "10  113943.491460                    покупка недвижимости  \n",
       "11   77069.234271       покупка коммерческой недвижимости  \n",
       "12            NaN                         сыграть свадьбу  \n",
       "13  130458.228857                 приобретение автомобиля  \n",
       "14  165127.911772              покупка жилой недвижимости  \n",
       "15  116820.904450  строительство собственной недвижимости  \n",
       "16  289202.704229                            недвижимость  \n",
       "17   90410.586745              строительство недвижимости  \n",
       "18   56823.777243      на покупку подержанного автомобиля  \n",
       "19  242831.107982            на покупку своего автомобиля  "
      ]
     },
     "execution_count": 4,
     "metadata": {},
     "output_type": "execute_result"
    }
   ],
   "source": [
    "data.head(20) # ваш код здесь"
   ]
  },
  {
   "cell_type": "markdown",
   "id": "886dee00",
   "metadata": {
    "deletable": false,
    "editable": false,
    "id": "1c12e233",
    "tags": [
     "start_task"
    ]
   },
   "source": [
    "**Задание 3. Выведите основную информацию о датафрейме с помощью метода `info()`.**"
   ]
  },
  {
   "cell_type": "code",
   "execution_count": 5,
   "id": "71b0fe39",
   "metadata": {
    "id": "2b757bca"
   },
   "outputs": [
    {
     "name": "stdout",
     "output_type": "stream",
     "text": [
      "<class 'pandas.core.frame.DataFrame'>\n",
      "RangeIndex: 21525 entries, 0 to 21524\n",
      "Data columns (total 12 columns):\n",
      " #   Column            Non-Null Count  Dtype  \n",
      "---  ------            --------------  -----  \n",
      " 0   children          21525 non-null  int64  \n",
      " 1   days_employed     19351 non-null  float64\n",
      " 2   dob_years         21525 non-null  int64  \n",
      " 3   education         21525 non-null  object \n",
      " 4   education_id      21525 non-null  int64  \n",
      " 5   family_status     21525 non-null  object \n",
      " 6   family_status_id  21525 non-null  int64  \n",
      " 7   gender            21525 non-null  object \n",
      " 8   income_type       21525 non-null  object \n",
      " 9   debt              21525 non-null  int64  \n",
      " 10  total_income      19351 non-null  float64\n",
      " 11  purpose           21525 non-null  object \n",
      "dtypes: float64(2), int64(5), object(5)\n",
      "memory usage: 2.0+ MB\n"
     ]
    }
   ],
   "source": [
    "data.info() # ваш код здесь"
   ]
  },
  {
   "cell_type": "markdown",
   "id": "a1383fab",
   "metadata": {
    "deletable": false,
    "editable": false,
    "id": "333ec665"
   },
   "source": [
    "## Предобработка данных"
   ]
  },
  {
   "cell_type": "markdown",
   "id": "eac8b9d1",
   "metadata": {
    "deletable": false,
    "editable": false,
    "id": "02d92d53"
   },
   "source": [
    "### Удаление пропусков"
   ]
  },
  {
   "cell_type": "markdown",
   "id": "33f7083e",
   "metadata": {
    "deletable": false,
    "editable": false,
    "id": "cd84967c",
    "tags": [
     "start_task"
    ]
   },
   "source": [
    "**Задание 4. Выведите количество пропущенных значений для каждого столбца. Используйте комбинацию двух методов.**"
   ]
  },
  {
   "cell_type": "code",
   "execution_count": 6,
   "id": "91b3cb4b",
   "metadata": {
    "id": "7f9b2309"
   },
   "outputs": [
    {
     "data": {
      "text/plain": [
       "children               0\n",
       "days_employed       2174\n",
       "dob_years              0\n",
       "education              0\n",
       "education_id           0\n",
       "family_status          0\n",
       "family_status_id       0\n",
       "gender                 0\n",
       "income_type            0\n",
       "debt                   0\n",
       "total_income        2174\n",
       "purpose                0\n",
       "dtype: int64"
      ]
     },
     "execution_count": 6,
     "metadata": {},
     "output_type": "execute_result"
    }
   ],
   "source": [
    "data.isna().sum() # ваш код здесь"
   ]
  },
  {
   "cell_type": "markdown",
   "id": "fcfc4ee6",
   "metadata": {
    "deletable": false,
    "editable": false,
    "id": "db86e27b",
    "tags": [
     "start_task"
    ]
   },
   "source": [
    "**Задание 5. В двух столбцах есть пропущенные значения. Один из них — `days_employed`. Пропуски в этом столбце вы обработаете на следующем этапе. Другой столбец с пропущенными значениями — `total_income` — хранит данные о доходах. На сумму дохода сильнее всего влияет тип занятости, поэтому заполнить пропуски в этом столбце нужно медианным значением по каждому типу из столбца `income_type`. Например, у человека с типом занятости `сотрудник` пропуск в столбце `total_income` должен быть заполнен медианным доходом среди всех записей с тем же типом.**"
   ]
  },
  {
   "cell_type": "code",
   "execution_count": 7,
   "id": "82ab7deb",
   "metadata": {
    "id": "42006a93"
   },
   "outputs": [],
   "source": [
    "data['total_income'] = \\\n",
    "data['total_income'].fillna(data.groupby('income_type')['total_income'].transform('median')) # ваш код здесь"
   ]
  },
  {
   "cell_type": "markdown",
   "id": "9fca47e1",
   "metadata": {
    "deletable": false,
    "editable": false,
    "id": "89da5ece"
   },
   "source": [
    "### Обработка аномальных значений"
   ]
  },
  {
   "cell_type": "markdown",
   "id": "091cd75c",
   "metadata": {
    "deletable": false,
    "editable": false,
    "id": "57964554",
    "tags": [
     "start_task"
    ]
   },
   "source": [
    "**Задание 6. В данных могут встречаться артефакты (аномалии) — значения, которые не отражают действительность и появились по какой-то ошибке. Таким артефактом будет отрицательное количество дней трудового стажа в столбце `days_employed`. Для реальных данных это нормально. Обработайте значения в этом столбце: замените все отрицательные значения положительными с помощью метода `abs()`.**"
   ]
  },
  {
   "cell_type": "code",
   "execution_count": 8,
   "id": "c357c6d7",
   "metadata": {
    "id": "f6f055bf"
   },
   "outputs": [],
   "source": [
    "data['days_employed'] = data['days_employed'].abs() # ваш код здесь"
   ]
  },
  {
   "cell_type": "markdown",
   "id": "27ea46e3",
   "metadata": {
    "deletable": false,
    "editable": false,
    "id": "6107dd2f",
    "tags": [
     "start_task"
    ]
   },
   "source": [
    "**Задание 7. Для каждого типа занятости выведите медианное значение трудового стажа `days_employed` в днях.**"
   ]
  },
  {
   "cell_type": "code",
   "execution_count": 9,
   "id": "990855f6",
   "metadata": {
    "id": "85a5faf6"
   },
   "outputs": [
    {
     "data": {
      "text/plain": [
       "income_type\n",
       "безработный        366413.652744\n",
       "в декрете            3296.759962\n",
       "госслужащий          2689.368353\n",
       "компаньон            1547.382223\n",
       "пенсионер          365213.306266\n",
       "предприниматель       520.848083\n",
       "сотрудник            1574.202821\n",
       "студент               578.751554\n",
       "Name: days_employed, dtype: float64"
      ]
     },
     "execution_count": 9,
     "metadata": {},
     "output_type": "execute_result"
    }
   ],
   "source": [
    "data.groupby('income_type')['days_employed'].median() # ваш код здесь"
   ]
  },
  {
   "cell_type": "markdown",
   "id": "410aa02d",
   "metadata": {
    "deletable": false,
    "editable": false,
    "id": "38d1a030"
   },
   "source": [
    "У двух типов (безработные и пенсионеры) получатся аномально большие значения. Исправить такие значения сложно, поэтому оставьте их как есть. Тем более этот столбец не понадобится вам для исследования."
   ]
  },
  {
   "cell_type": "markdown",
   "id": "443f8286",
   "metadata": {
    "deletable": false,
    "editable": false,
    "id": "d8a9f147",
    "tags": [
     "start_task"
    ]
   },
   "source": [
    "**Задание 8. Выведите перечень уникальных значений столбца `children`.**"
   ]
  },
  {
   "cell_type": "code",
   "execution_count": 10,
   "id": "fb56dfee",
   "metadata": {
    "id": "ef5056eb"
   },
   "outputs": [
    {
     "data": {
      "text/plain": [
       "array([ 1,  0,  3,  2, -1,  4, 20,  5])"
      ]
     },
     "execution_count": 10,
     "metadata": {},
     "output_type": "execute_result"
    }
   ],
   "source": [
    "data['children'].unique() # ваш код здесь"
   ]
  },
  {
   "cell_type": "markdown",
   "id": "24a67234",
   "metadata": {
    "deletable": false,
    "editable": false,
    "id": "40b9ebf2",
    "tags": [
     "start_task"
    ]
   },
   "source": [
    "**Задание 9. В столбце `children` есть два аномальных значения. Удалите строки, в которых встречаются такие аномальные значения из датафрейма `data`.**"
   ]
  },
  {
   "cell_type": "code",
   "execution_count": 11,
   "id": "64930be6",
   "metadata": {
    "id": "3ff9801d"
   },
   "outputs": [],
   "source": [
    "data = data.drop(data[(data['children'] == -1) | \n",
    "                      (data['children'] == 20)].index) # ваш код здесь"
   ]
  },
  {
   "cell_type": "markdown",
   "id": "2f25b577",
   "metadata": {
    "deletable": false,
    "editable": false,
    "id": "bbc4d0ce",
    "tags": [
     "start_task"
    ]
   },
   "source": [
    "**Задание 10. Ещё раз выведите перечень уникальных значений столбца `children`, чтобы убедиться, что артефакты удалены.**"
   ]
  },
  {
   "cell_type": "code",
   "execution_count": 12,
   "id": "a1c69877",
   "metadata": {
    "id": "ad4fa8b7"
   },
   "outputs": [
    {
     "data": {
      "text/plain": [
       "array([1, 0, 3, 2, 4, 5])"
      ]
     },
     "execution_count": 12,
     "metadata": {},
     "output_type": "execute_result"
    }
   ],
   "source": [
    "data['children'].unique() # ваш код здесь"
   ]
  },
  {
   "cell_type": "markdown",
   "id": "2fcfe89e",
   "metadata": {
    "deletable": false,
    "editable": false,
    "id": "75440b63"
   },
   "source": [
    "### Удаление пропусков (продолжение)"
   ]
  },
  {
   "cell_type": "markdown",
   "id": "c353df4f",
   "metadata": {
    "deletable": false,
    "editable": false,
    "id": "f4ea573f",
    "tags": [
     "start_task"
    ]
   },
   "source": [
    "**Задание 11. Заполните пропуски в столбце `days_employed` медианными значениями по каждому типу занятости `income_type`.**"
   ]
  },
  {
   "cell_type": "code",
   "execution_count": 13,
   "id": "017a6c06",
   "metadata": {
    "id": "af6b1a7e"
   },
   "outputs": [],
   "source": [
    "data['days_employed'] = \\\n",
    "data['days_employed'].fillna(data.groupby('income_type')['days_employed'].transform('median')) # ваш код здесь"
   ]
  },
  {
   "cell_type": "markdown",
   "id": "312988f8",
   "metadata": {
    "deletable": false,
    "editable": false,
    "id": "2753f40d",
    "tags": [
     "start_task"
    ]
   },
   "source": [
    "**Задание 12. Убедитесь, что все пропуски заполнены. Проверьте себя и ещё раз выведите количество пропущенных значений для каждого столбца с помощью двух методов.**"
   ]
  },
  {
   "cell_type": "code",
   "execution_count": 14,
   "id": "9caff4d2",
   "metadata": {
    "id": "55f78bc2"
   },
   "outputs": [
    {
     "data": {
      "text/plain": [
       "children            0\n",
       "days_employed       0\n",
       "dob_years           0\n",
       "education           0\n",
       "education_id        0\n",
       "family_status       0\n",
       "family_status_id    0\n",
       "gender              0\n",
       "income_type         0\n",
       "debt                0\n",
       "total_income        0\n",
       "purpose             0\n",
       "dtype: int64"
      ]
     },
     "execution_count": 14,
     "metadata": {},
     "output_type": "execute_result"
    }
   ],
   "source": [
    "data.isna().sum() # ваш код здесь"
   ]
  },
  {
   "cell_type": "markdown",
   "id": "9aa58114",
   "metadata": {
    "deletable": false,
    "editable": false,
    "id": "ddc81e43"
   },
   "source": [
    "### Изменение типов данных"
   ]
  },
  {
   "cell_type": "markdown",
   "id": "9670531e",
   "metadata": {
    "deletable": false,
    "editable": false,
    "id": "42d19d24",
    "tags": [
     "start_task"
    ]
   },
   "source": [
    "**Задание 13. Замените вещественный тип данных в столбце `total_income` на целочисленный с помощью метода `astype()`.**"
   ]
  },
  {
   "cell_type": "code",
   "execution_count": 15,
   "id": "9cb0f76f",
   "metadata": {
    "id": "920b65ad"
   },
   "outputs": [],
   "source": [
    "data['total_income'] = data['total_income'].astype('int') # ваш код здесь"
   ]
  },
  {
   "cell_type": "markdown",
   "id": "22ae8c30",
   "metadata": {
    "deletable": false,
    "editable": false,
    "id": "80c420ba"
   },
   "source": [
    "### Обработка дубликатов"
   ]
  },
  {
   "cell_type": "markdown",
   "id": "e449dbfb",
   "metadata": {
    "deletable": false,
    "editable": false,
    "tags": [
     "start_task"
    ]
   },
   "source": [
    "**Задание 14. Обработайте неявные дубликаты в столбце `education`. В этом столбце есть одни и те же значения, но записанные по-разному: с использованием заглавных и строчных букв. Приведите их к нижнему регистру. Проверьте остальные столбцы.**"
   ]
  },
  {
   "cell_type": "code",
   "execution_count": 16,
   "id": "8d3912e0",
   "metadata": {},
   "outputs": [],
   "source": [
    "data['education'] = data['education'].str.lower() # ваш код здесь"
   ]
  },
  {
   "cell_type": "markdown",
   "id": "171ecda0",
   "metadata": {
    "deletable": false,
    "editable": false,
    "id": "dc587695",
    "tags": [
     "start_task"
    ]
   },
   "source": [
    "**Задание 15. Выведите на экран количество строк-дубликатов в данных. Если такие строки присутствуют, удалите их.**"
   ]
  },
  {
   "cell_type": "code",
   "execution_count": 17,
   "id": "fa8e6354",
   "metadata": {
    "id": "3ee445e4"
   },
   "outputs": [
    {
     "data": {
      "text/plain": [
       "21397"
      ]
     },
     "execution_count": 17,
     "metadata": {},
     "output_type": "execute_result"
    }
   ],
   "source": [
    "data['education'].duplicated().sum() # посчитайте дубликаты"
   ]
  },
  {
   "cell_type": "code",
   "execution_count": 18,
   "id": "910789df",
   "metadata": {
    "id": "8575fe05"
   },
   "outputs": [
    {
     "data": {
      "text/plain": [
       "0                    высшее\n",
       "1                   среднее\n",
       "13      неоконченное высшее\n",
       "31                начальное\n",
       "2963         ученая степень\n",
       "Name: education, dtype: object"
      ]
     },
     "execution_count": 18,
     "metadata": {},
     "output_type": "execute_result"
    }
   ],
   "source": [
    "data['education'].drop_duplicates() # удалите дубликаты"
   ]
  },
  {
   "cell_type": "markdown",
   "id": "6f7948e7",
   "metadata": {
    "deletable": false,
    "editable": false,
    "id": "9904cf55"
   },
   "source": [
    "### Категоризация данных"
   ]
  },
  {
   "cell_type": "markdown",
   "id": "60d1b059",
   "metadata": {
    "deletable": false,
    "editable": false,
    "id": "72fcc8a2",
    "tags": [
     "start_task"
    ]
   },
   "source": [
    "**Задание 16. На основании диапазонов, указанных ниже, создайте в датафрейме `data` столбец `total_income_category` с категориями:**\n",
    "\n",
    "- 0–30000 — `'E'`;\n",
    "- 30001–50000 — `'D'`;\n",
    "- 50001–200000 — `'C'`;\n",
    "- 200001–1000000 — `'B'`;\n",
    "- 1000001 и выше — `'A'`.\n",
    "\n",
    "\n",
    "**Например, кредитополучателю с доходом 25000 нужно назначить категорию `'E'`, а клиенту, получающему 235000, — `'B'`. Используйте собственную функцию с именем `categorize_income()` и метод `apply()`.**"
   ]
  },
  {
   "cell_type": "code",
   "execution_count": 19,
   "id": "87001c12",
   "metadata": {
    "id": "e1771346"
   },
   "outputs": [],
   "source": [
    "def categorize_income(cat): # создайте функцию categorize_income()\n",
    "    if 0 <= cat <= 30000:\n",
    "        return 'E'\n",
    "    if 30001 <= cat <= 50000:\n",
    "        return 'D'\n",
    "    if 50001 <= cat <= 200000:\n",
    "        return 'C'\n",
    "    if 200001 <= cat <= 1000000:\n",
    "        return 'B'\n",
    "    if cat >= 1000001:\n",
    "        return 'A'"
   ]
  },
  {
   "cell_type": "code",
   "execution_count": 20,
   "id": "55411d46",
   "metadata": {
    "id": "d5f3586d"
   },
   "outputs": [],
   "source": [
    "data['total_income_category'] = data['total_income'].apply(categorize_income) # примените функцию методом apply()"
   ]
  },
  {
   "cell_type": "markdown",
   "id": "088291c1",
   "metadata": {
    "deletable": false,
    "editable": false,
    "id": "dde49b5c",
    "tags": [
     "start_task"
    ]
   },
   "source": [
    "**Задание 17. Выведите на экран перечень уникальных целей взятия кредита из столбца `purpose`.**"
   ]
  },
  {
   "cell_type": "code",
   "execution_count": 21,
   "id": "5060205a",
   "metadata": {
    "id": "f67ce9b3"
   },
   "outputs": [
    {
     "data": {
      "text/plain": [
       "array(['покупка жилья', 'приобретение автомобиля',\n",
       "       'дополнительное образование', 'сыграть свадьбу',\n",
       "       'операции с жильем', 'образование', 'на проведение свадьбы',\n",
       "       'покупка жилья для семьи', 'покупка недвижимости',\n",
       "       'покупка коммерческой недвижимости', 'покупка жилой недвижимости',\n",
       "       'строительство собственной недвижимости', 'недвижимость',\n",
       "       'строительство недвижимости', 'на покупку подержанного автомобиля',\n",
       "       'на покупку своего автомобиля',\n",
       "       'операции с коммерческой недвижимостью',\n",
       "       'строительство жилой недвижимости', 'жилье',\n",
       "       'операции со своей недвижимостью', 'автомобили',\n",
       "       'заняться образованием', 'сделка с подержанным автомобилем',\n",
       "       'получение образования', 'автомобиль', 'свадьба',\n",
       "       'получение дополнительного образования', 'покупка своего жилья',\n",
       "       'операции с недвижимостью', 'получение высшего образования',\n",
       "       'свой автомобиль', 'сделка с автомобилем',\n",
       "       'профильное образование', 'высшее образование',\n",
       "       'покупка жилья для сдачи', 'на покупку автомобиля', 'ремонт жилью',\n",
       "       'заняться высшим образованием'], dtype=object)"
      ]
     },
     "execution_count": 21,
     "metadata": {},
     "output_type": "execute_result"
    }
   ],
   "source": [
    "data['purpose'].unique() # ваш код здесь"
   ]
  },
  {
   "cell_type": "markdown",
   "id": "27c2d518",
   "metadata": {
    "deletable": false,
    "editable": false,
    "id": "85d0aef0",
    "tags": [
     "start_task"
    ]
   },
   "source": [
    "**Задание 18. Создайте функцию, которая на основании данных из столбца `purpose` сформирует новый столбец `purpose_category`, в который войдут следующие категории:**\n",
    "\n",
    "- `'операции с автомобилем'`,\n",
    "- `'операции с недвижимостью'`,\n",
    "- `'проведение свадьбы'`,\n",
    "- `'получение образования'`.\n",
    "\n",
    "**Например, если в столбце `purpose` находится подстрока `'на покупку автомобиля'`, то в столбце `purpose_category` должна появиться строка `'операции с автомобилем'`.**\n",
    "\n",
    "**Используйте собственную функцию с именем `categorize_purpose()` и метод `apply()`. Изучите данные в столбце `purpose` и определите, какие подстроки помогут вам правильно определить категорию.**"
   ]
  },
  {
   "cell_type": "code",
   "execution_count": 22,
   "id": "bf6d64e9",
   "metadata": {
    "id": "e149fab4"
   },
   "outputs": [],
   "source": [
    "def categorize_purpose(cat): # создайте функцию categorize_purpose()\n",
    "    if 'авто' in cat:\n",
    "        return 'операции с автомобилем'\n",
    "    if 'недвиж' in cat or 'жил' in cat:\n",
    "        return 'операции с недвижимостью'\n",
    "    if 'свад' in cat:\n",
    "        return 'проведение свадьбы'\n",
    "    if 'образ' in cat:\n",
    "        return 'получение образования'"
   ]
  },
  {
   "cell_type": "code",
   "execution_count": 23,
   "id": "bcc803b3",
   "metadata": {
    "id": "bf36e69b"
   },
   "outputs": [],
   "source": [
    "data['purpose_category'] = data['purpose'].apply(categorize_purpose) # примените функцию методом apply()"
   ]
  },
  {
   "cell_type": "markdown",
   "id": "6c148cfe",
   "metadata": {},
   "source": [
    "### Шаг 3. Исследуйте данные и ответьте на вопросы"
   ]
  },
  {
   "cell_type": "markdown",
   "id": "ee96bdbf",
   "metadata": {},
   "source": [
    "#### 3.1 Есть ли зависимость между количеством детей и возвратом кредита в срок?"
   ]
  },
  {
   "cell_type": "code",
   "execution_count": 25,
   "id": "285b4096",
   "metadata": {},
   "outputs": [
    {
     "data": {
      "text/plain": [
       "children\n",
       "0    0.075129\n",
       "1    0.092154\n",
       "2    0.094404\n",
       "3    0.081818\n",
       "4    0.097561\n",
       "5    0.000000\n",
       "Name: debt, dtype: float64"
      ]
     },
     "execution_count": 25,
     "metadata": {},
     "output_type": "execute_result"
    }
   ],
   "source": [
    "data.groupby('children')['debt'].mean()"
   ]
  },
  {
   "cell_type": "markdown",
   "id": "c3a1ec65",
   "metadata": {},
   "source": [
    "**Вывод:** Как мы видем выше, зависимость есть. Самыми опасными категориями являются лица, у которых 1, 2 и 4 ребенка. Иными словами, количество детей влияет на возврат кредита в срок. Как бы удивительно это не было, но доля не вернувших кредит в срок лиц с 5 детьми равна 0. Скорее всего это из-за того, что людей с 5 детьми, берущих кредит мало, и на данный момент все из них возвращали кредит в срок."
   ]
  },
  {
   "cell_type": "markdown",
   "id": "7df4b6c7",
   "metadata": {},
   "source": [
    "#### 3.2 Есть ли зависимость между семейным положением и возвратом кредита в срок?"
   ]
  },
  {
   "cell_type": "code",
   "execution_count": 26,
   "id": "1af443d6",
   "metadata": {},
   "outputs": [
    {
     "data": {
      "text/plain": [
       "family_status\n",
       "Не женат / не замужем    0.097535\n",
       "в разводе                0.070648\n",
       "вдовец / вдова           0.066176\n",
       "гражданский брак         0.092548\n",
       "женат / замужем          0.075354\n",
       "Name: debt, dtype: float64"
      ]
     },
     "execution_count": 26,
     "metadata": {},
     "output_type": "execute_result"
    }
   ],
   "source": [
    "data.groupby('family_status')['debt'].mean()"
   ]
  },
  {
   "cell_type": "markdown",
   "id": "e24ed2af",
   "metadata": {},
   "source": [
    "**Вывод:** Получается, что зависимость есть. По данным мы видим, что люди не состоящие в браке и состоящие в гражданском браке - самые опасные категории. Они чаще остальных не возвращают кредит в срок. Самой же безопасной категорией являются вдовцы и вдовы, а люди в разводе и состоящие в браке занимают среднее положение и почти идентичны друг другу."
   ]
  },
  {
   "cell_type": "markdown",
   "id": "35b6d358",
   "metadata": {},
   "source": [
    "#### 3.3 Есть ли зависимость между уровнем дохода и возвратом кредита в срок?"
   ]
  },
  {
   "cell_type": "code",
   "execution_count": 27,
   "id": "266ba575",
   "metadata": {},
   "outputs": [
    {
     "data": {
      "text/plain": [
       "total_income_category\n",
       "A    0.080000\n",
       "B    0.070602\n",
       "C    0.084605\n",
       "D    0.060172\n",
       "E    0.090909\n",
       "Name: debt, dtype: float64"
      ]
     },
     "execution_count": 27,
     "metadata": {},
     "output_type": "execute_result"
    }
   ],
   "source": [
    "data.groupby('total_income_category')['debt'].mean()"
   ]
  },
  {
   "cell_type": "markdown",
   "id": "011f9ca8",
   "metadata": {},
   "source": [
    "**Вывод:** Люди с самым маленьким заработком (категория Е) - наиболее опасная категория. Дальше идут люди, находящиеся в категории С. Люди которые зарабатывают больше миллиона рублей, казалось бы должны быть самой безопасной категорией, но не тут то было. Видимо когда денег больше, то и запросы больше, а об ответственности часто забывают. Самая безопасная категория здесь - это люди, относящиеся к категории D, то есть доход которых равен промежутку от 30 до 50 тысяч."
   ]
  },
  {
   "cell_type": "markdown",
   "id": "762ed97b",
   "metadata": {},
   "source": [
    "#### 3.4 Как разные цели кредита влияют на его возврат в срок?"
   ]
  },
  {
   "cell_type": "code",
   "execution_count": 28,
   "id": "6f76bb61",
   "metadata": {},
   "outputs": [
    {
     "data": {
      "text/plain": [
       "purpose_category\n",
       "операции с автомобилем      0.093284\n",
       "операции с недвижимостью    0.072356\n",
       "получение образования       0.092319\n",
       "проведение свадьбы          0.078306\n",
       "Name: debt, dtype: float64"
      ]
     },
     "execution_count": 28,
     "metadata": {},
     "output_type": "execute_result"
    }
   ],
   "source": [
    "data.groupby('purpose_category')['debt'].mean()"
   ]
  },
  {
   "cell_type": "markdown",
   "id": "e236d5b5",
   "metadata": {},
   "source": [
    "**Вывод:** Самые опасные категории - это операции с автомобилем и получение образования, а проведение свадьбы и операции с недвижимостью самые безопасные. Очень интересная зависимость, ведь в делах с недвижимостью крутятся большьшие деньги."
   ]
  },
  {
   "cell_type": "markdown",
   "id": "2c85df3c",
   "metadata": {},
   "source": [
    "#### 3.5 Приведите возможные причины появления пропусков в исходных данных."
   ]
  },
  {
   "cell_type": "markdown",
   "id": "764a4d08",
   "metadata": {},
   "source": [
    "*Ответ:* Пропуски в данных появляются:\n",
    "\n",
    "1. Совершенно случайно\n",
    "    * вероятность встретить пропуск не зависит ни от каких других значений. Пропуск может быть объяснен переменной, его легко восстановить;\n",
    "    \n",
    "    \n",
    "2. Случайно\n",
    "    * вероятность пропуска зависит от других значений в наборе данных, но не от значений собственного столбца;\n",
    "\n",
    "\n",
    "3. Не случайно\n",
    "    * вероятность пропуска зависит от других значений, в том числе и от значений собственного столбца."
   ]
  },
  {
   "cell_type": "markdown",
   "id": "25712eca",
   "metadata": {},
   "source": [
    "#### 3.6 Объясните, почему заполнить пропуски медианным значением — лучшее решение для количественных переменных."
   ]
  },
  {
   "cell_type": "markdown",
   "id": "d36c1cbc",
   "metadata": {},
   "source": [
    "*Ответ:* Потому что медианное значение наиболее приближено к реальному среднему, нежели среднее арифметическое, так как любое сильно выделяющееся значение очень сильно повлияет на него. Пример ниже:"
   ]
  },
  {
   "cell_type": "code",
   "execution_count": 29,
   "id": "84e53f2f",
   "metadata": {},
   "outputs": [
    {
     "name": "stdout",
     "output_type": "stream",
     "text": [
      "Среднее арифметическое равно: 19.166666666666668\n",
      "Медианное равно: 3.5\n"
     ]
    }
   ],
   "source": [
    "import pandas as pd\n",
    "\n",
    "mean = pd.Series ([1, 2, 3, 4, 5, 100])\n",
    "median = pd.Series ([1, 2, 3, 4, 5, 100])\n",
    "\n",
    "print('Среднее арифметическое равно:', mean.mean())\n",
    "print('Медианное равно:', median.median())"
   ]
  },
  {
   "cell_type": "markdown",
   "id": "ae4190b0",
   "metadata": {},
   "source": [
    "### Шаг 4: общий вывод."
   ]
  },
  {
   "cell_type": "markdown",
   "id": "ff82b603",
   "metadata": {},
   "source": [
    "# Про код:\n",
    "Мы превели достаточно большую и интересную работу. В данном исследовании мы применяли знания полученные из пройденных уроков, а именно:\n",
    "1. написание функций\n",
    "2. работа с библиотекой Pandas и её функциями и атрибутами\n",
    "3. искали и удаляли дубликаты \n",
    "4. применяли катигоризацию данных\n",
    "\n",
    "# Про результаты:\n",
    "На основе проведенной выше работы, мы можем сделать выводы и ответить на основные вопросы:\n",
    "\n",
    "1. Зависимость между количеством детей и возвратом кредита в срок есть. \n",
    "\n",
    "    * людей, имеющих 1, 2 и 4 детей, можно отнести к самой опасной категории;\n",
    "    * более безопасными категориями можно считать людей без детей и с 3 детьми;\n",
    "    * результаты показали, что категория людей с 5 детьми самая безопасная и в 100% случаев возращают крудит в срок, но я бы подверг этот вывод сомнению и провел бы доп исследование по этому вопросу. Тут может быть как и ошибка, так и нехватка данных.\n",
    "    \n",
    "\n",
    "2. Зависимость между семейным положением и возвратом кредита в срок есть.\n",
    "\n",
    "    * самыми опасными категориями являются лица не состоящие в браке, а также лица, состоящие в гражданском браке;\n",
    "    * люди в разводе и люди, состоящие в браке, в равной степени занимают среднее положение;\n",
    "    * самой же безопасной категорией являются вдовцы и вдовы.\n",
    "    \n",
    "\n",
    "3. Зависимость между уровнем дохода и возвратом кредита в срок есть.\n",
    "\n",
    "    * наиболее опасной является категория людей с самым маленьким заработком;\n",
    "    * середняком у нас будут категории А, В, С. Причем категории А и С практически идентичны, но уровень дохода у них максимально разный (> 1.000.000 против 50-200 тысяч);\n",
    "    * люди, относящиеся к категории D (заработок от 30 до 50 тысяч) - самая безопасная категория.\n",
    "    \n",
    "\n",
    "4. Разные цели кредита влияют на его возврат в срок.\n",
    "\n",
    "    * деньги взятые для операций с автомобилем и для образования возвращают в срок реже\n",
    "    * а вот деньги для операций с недвижимостью и для проведения свадьбы возращают в срок чаще\n",
    "    \n",
    "**Хотелось бы обратить внимание также и на то, что самые опасные категории зачастую ялвялются и самымими популярными. То есть семей с 1 и 2 явно больше, чем семей с 3 или 5 детьми. Кредит на авто берут чаще, чем кредит на свадьбу. Это не было учтено в ходе исследования, но может достаточно сильно повлиять на итоги исследования.**\n",
    "    \n",
    "# Портрет\n",
    "Получается, сейчас мы можем составить портреты самого безопсаного  и самого опасного для банка заемщика.\n",
    "\n",
    "*Безопасный* - человек без детей, вдовец/вдова, получающий от 30 до 50 тысяч в месяц\n",
    "\n",
    "*Опасный* - человек с 1-2 детьми, состоящий в браке или в разводе, зарабатывающий менее 30 тысяч в месяц"
   ]
  }
 ],
 "metadata": {
  "ExecuteTimeLog": [
   {
    "duration": 423,
    "start_time": "2022-08-27T10:03:47.224Z"
   },
   {
    "duration": 138,
    "start_time": "2022-08-27T10:03:47.649Z"
   },
   {
    "duration": 3,
    "start_time": "2022-08-27T10:03:47.789Z"
   },
   {
    "duration": 8,
    "start_time": "2022-08-27T10:03:47.794Z"
   },
   {
    "duration": 5,
    "start_time": "2022-08-27T10:03:47.804Z"
   },
   {
    "duration": 9,
    "start_time": "2022-08-27T10:03:47.810Z"
   },
   {
    "duration": 8,
    "start_time": "2022-08-27T10:03:47.821Z"
   },
   {
    "duration": 12,
    "start_time": "2022-08-27T10:03:47.831Z"
   },
   {
    "duration": 8,
    "start_time": "2022-08-27T10:03:47.844Z"
   },
   {
    "duration": 14,
    "start_time": "2022-08-27T10:03:47.854Z"
   },
   {
    "duration": 10,
    "start_time": "2022-08-27T10:03:47.870Z"
   },
   {
    "duration": 12,
    "start_time": "2022-08-27T10:03:47.881Z"
   },
   {
    "duration": 7,
    "start_time": "2022-08-27T10:03:47.895Z"
   },
   {
    "duration": 10,
    "start_time": "2022-08-27T10:03:47.905Z"
   },
   {
    "duration": 10,
    "start_time": "2022-08-27T10:03:47.917Z"
   },
   {
    "duration": 7,
    "start_time": "2022-08-27T10:03:47.929Z"
   },
   {
    "duration": 15,
    "start_time": "2022-08-27T10:03:47.938Z"
   },
   {
    "duration": 11,
    "start_time": "2022-08-27T10:03:47.955Z"
   },
   {
    "duration": 17,
    "start_time": "2022-08-27T10:03:47.967Z"
   },
   {
    "duration": 9,
    "start_time": "2022-08-27T10:03:47.986Z"
   },
   {
    "duration": 11,
    "start_time": "2022-08-27T10:03:47.997Z"
   },
   {
    "duration": 9,
    "start_time": "2022-08-27T10:03:48.010Z"
   },
   {
    "duration": 2,
    "start_time": "2022-08-27T10:04:34.875Z"
   },
   {
    "duration": 79,
    "start_time": "2022-08-27T10:04:34.879Z"
   },
   {
    "duration": 12,
    "start_time": "2022-08-27T10:04:34.959Z"
   },
   {
    "duration": 4,
    "start_time": "2022-08-27T10:04:34.973Z"
   },
   {
    "duration": 5,
    "start_time": "2022-08-27T10:04:34.979Z"
   },
   {
    "duration": 5,
    "start_time": "2022-08-27T10:04:34.985Z"
   },
   {
    "duration": 6,
    "start_time": "2022-08-27T10:04:34.992Z"
   },
   {
    "duration": 9,
    "start_time": "2022-08-27T10:04:35.000Z"
   },
   {
    "duration": 5,
    "start_time": "2022-08-27T10:04:35.011Z"
   },
   {
    "duration": 7,
    "start_time": "2022-08-27T10:04:35.018Z"
   },
   {
    "duration": 8,
    "start_time": "2022-08-27T10:04:35.026Z"
   },
   {
    "duration": 6,
    "start_time": "2022-08-27T10:04:35.036Z"
   },
   {
    "duration": 14,
    "start_time": "2022-08-27T10:04:35.043Z"
   },
   {
    "duration": 5,
    "start_time": "2022-08-27T10:04:35.060Z"
   },
   {
    "duration": 6,
    "start_time": "2022-08-27T10:04:35.067Z"
   },
   {
    "duration": 8,
    "start_time": "2022-08-27T10:04:35.075Z"
   },
   {
    "duration": 8,
    "start_time": "2022-08-27T10:04:35.085Z"
   },
   {
    "duration": 5,
    "start_time": "2022-08-27T10:04:35.095Z"
   },
   {
    "duration": 5,
    "start_time": "2022-08-27T10:04:35.102Z"
   },
   {
    "duration": 8,
    "start_time": "2022-08-27T10:04:35.108Z"
   },
   {
    "duration": 12,
    "start_time": "2022-08-27T10:04:35.118Z"
   },
   {
    "duration": 6,
    "start_time": "2022-08-27T10:04:35.132Z"
   },
   {
    "duration": 3,
    "start_time": "2022-08-27T10:04:48.307Z"
   },
   {
    "duration": 91,
    "start_time": "2022-08-27T10:04:48.312Z"
   },
   {
    "duration": 24,
    "start_time": "2022-08-27T10:04:48.405Z"
   },
   {
    "duration": 3,
    "start_time": "2022-08-27T10:04:48.431Z"
   },
   {
    "duration": 4,
    "start_time": "2022-08-27T10:04:48.437Z"
   },
   {
    "duration": 5,
    "start_time": "2022-08-27T10:04:48.442Z"
   },
   {
    "duration": 6,
    "start_time": "2022-08-27T10:04:48.449Z"
   },
   {
    "duration": 6,
    "start_time": "2022-08-27T10:04:48.456Z"
   },
   {
    "duration": 5,
    "start_time": "2022-08-27T10:04:48.464Z"
   },
   {
    "duration": 2,
    "start_time": "2022-08-27T10:04:48.492Z"
   },
   {
    "duration": 4,
    "start_time": "2022-08-27T10:04:48.496Z"
   },
   {
    "duration": 4,
    "start_time": "2022-08-27T10:04:48.502Z"
   },
   {
    "duration": 4,
    "start_time": "2022-08-27T10:04:48.508Z"
   },
   {
    "duration": 4,
    "start_time": "2022-08-27T10:04:48.515Z"
   },
   {
    "duration": 4,
    "start_time": "2022-08-27T10:04:48.521Z"
   },
   {
    "duration": 6,
    "start_time": "2022-08-27T10:04:48.527Z"
   },
   {
    "duration": 5,
    "start_time": "2022-08-27T10:04:48.534Z"
   },
   {
    "duration": 12,
    "start_time": "2022-08-27T10:04:48.540Z"
   },
   {
    "duration": 38,
    "start_time": "2022-08-27T10:04:48.554Z"
   },
   {
    "duration": 2,
    "start_time": "2022-08-27T10:04:48.594Z"
   },
   {
    "duration": 9,
    "start_time": "2022-08-27T10:04:48.598Z"
   },
   {
    "duration": 10,
    "start_time": "2022-08-27T10:04:48.609Z"
   },
   {
    "duration": 18,
    "start_time": "2022-08-27T10:05:22.910Z"
   },
   {
    "duration": 12,
    "start_time": "2022-08-27T10:06:52.520Z"
   },
   {
    "duration": 12,
    "start_time": "2022-08-27T10:07:26.760Z"
   },
   {
    "duration": 100,
    "start_time": "2022-08-27T10:19:05.092Z"
   },
   {
    "duration": 38,
    "start_time": "2022-08-27T10:19:12.842Z"
   },
   {
    "duration": 46,
    "start_time": "2022-08-27T10:19:16.054Z"
   },
   {
    "duration": 77,
    "start_time": "2022-08-27T10:23:51.280Z"
   },
   {
    "duration": 39,
    "start_time": "2022-08-27T10:24:01.078Z"
   },
   {
    "duration": 8,
    "start_time": "2022-08-27T10:27:13.734Z"
   },
   {
    "duration": 7,
    "start_time": "2022-08-27T10:27:34.269Z"
   },
   {
    "duration": 4,
    "start_time": "2022-08-27T10:30:59.322Z"
   },
   {
    "duration": 70,
    "start_time": "2022-08-27T10:33:26.684Z"
   },
   {
    "duration": 9,
    "start_time": "2022-08-27T10:34:44.079Z"
   },
   {
    "duration": 10,
    "start_time": "2022-08-27T10:35:08.823Z"
   },
   {
    "duration": 9,
    "start_time": "2022-08-27T10:35:33.424Z"
   },
   {
    "duration": 6,
    "start_time": "2022-08-27T10:36:12.308Z"
   },
   {
    "duration": 20,
    "start_time": "2022-08-27T10:38:43.820Z"
   },
   {
    "duration": 101,
    "start_time": "2022-08-27T10:40:34.889Z"
   },
   {
    "duration": 85,
    "start_time": "2022-08-27T10:41:17.064Z"
   },
   {
    "duration": 72,
    "start_time": "2022-08-27T10:41:53.630Z"
   },
   {
    "duration": 105,
    "start_time": "2022-08-27T10:43:07.368Z"
   },
   {
    "duration": 16,
    "start_time": "2022-08-27T10:43:14.303Z"
   },
   {
    "duration": 11,
    "start_time": "2022-08-27T10:43:27.886Z"
   },
   {
    "duration": 2,
    "start_time": "2022-08-27T10:43:42.821Z"
   },
   {
    "duration": 14,
    "start_time": "2022-08-27T10:50:34.730Z"
   },
   {
    "duration": 3,
    "start_time": "2022-08-27T10:50:40.737Z"
   },
   {
    "duration": 86,
    "start_time": "2022-08-27T10:50:40.742Z"
   },
   {
    "duration": 17,
    "start_time": "2022-08-27T10:50:40.830Z"
   },
   {
    "duration": 29,
    "start_time": "2022-08-27T10:50:40.849Z"
   },
   {
    "duration": 24,
    "start_time": "2022-08-27T10:50:40.879Z"
   },
   {
    "duration": 18,
    "start_time": "2022-08-27T10:50:40.905Z"
   },
   {
    "duration": 44,
    "start_time": "2022-08-27T10:50:40.925Z"
   },
   {
    "duration": 24,
    "start_time": "2022-08-27T10:50:40.971Z"
   },
   {
    "duration": 22,
    "start_time": "2022-08-27T10:50:40.998Z"
   },
   {
    "duration": 25,
    "start_time": "2022-08-27T10:50:41.021Z"
   },
   {
    "duration": 0,
    "start_time": "2022-08-27T10:50:41.047Z"
   },
   {
    "duration": 0,
    "start_time": "2022-08-27T10:50:41.049Z"
   },
   {
    "duration": 0,
    "start_time": "2022-08-27T10:50:41.050Z"
   },
   {
    "duration": 0,
    "start_time": "2022-08-27T10:50:41.051Z"
   },
   {
    "duration": 0,
    "start_time": "2022-08-27T10:50:41.052Z"
   },
   {
    "duration": 0,
    "start_time": "2022-08-27T10:50:41.054Z"
   },
   {
    "duration": 0,
    "start_time": "2022-08-27T10:50:41.055Z"
   },
   {
    "duration": 0,
    "start_time": "2022-08-27T10:50:41.055Z"
   },
   {
    "duration": 0,
    "start_time": "2022-08-27T10:50:41.057Z"
   },
   {
    "duration": 0,
    "start_time": "2022-08-27T10:50:41.058Z"
   },
   {
    "duration": 0,
    "start_time": "2022-08-27T10:50:41.060Z"
   },
   {
    "duration": 0,
    "start_time": "2022-08-27T10:50:41.061Z"
   },
   {
    "duration": 16,
    "start_time": "2022-08-27T10:56:38.321Z"
   },
   {
    "duration": 8,
    "start_time": "2022-08-27T10:57:33.050Z"
   },
   {
    "duration": 5,
    "start_time": "2022-08-27T10:57:44.966Z"
   },
   {
    "duration": 6,
    "start_time": "2022-08-27T10:57:49.955Z"
   },
   {
    "duration": 5,
    "start_time": "2022-08-27T10:58:04.100Z"
   },
   {
    "duration": 7,
    "start_time": "2022-08-27T11:03:46.522Z"
   },
   {
    "duration": 3,
    "start_time": "2022-08-27T11:03:50.603Z"
   },
   {
    "duration": 82,
    "start_time": "2022-08-27T11:03:50.609Z"
   },
   {
    "duration": 17,
    "start_time": "2022-08-27T11:03:50.693Z"
   },
   {
    "duration": 29,
    "start_time": "2022-08-27T11:03:50.711Z"
   },
   {
    "duration": 12,
    "start_time": "2022-08-27T11:03:50.743Z"
   },
   {
    "duration": 9,
    "start_time": "2022-08-27T11:03:50.757Z"
   },
   {
    "duration": 24,
    "start_time": "2022-08-27T11:03:50.768Z"
   },
   {
    "duration": 10,
    "start_time": "2022-08-27T11:03:50.794Z"
   },
   {
    "duration": 4,
    "start_time": "2022-08-27T11:03:50.806Z"
   },
   {
    "duration": 10,
    "start_time": "2022-08-27T11:03:50.812Z"
   },
   {
    "duration": 6,
    "start_time": "2022-08-27T11:03:50.824Z"
   },
   {
    "duration": 11,
    "start_time": "2022-08-27T11:03:50.832Z"
   },
   {
    "duration": 3,
    "start_time": "2022-08-27T11:03:50.845Z"
   },
   {
    "duration": 3,
    "start_time": "2022-08-27T11:03:50.851Z"
   },
   {
    "duration": 37,
    "start_time": "2022-08-27T11:03:50.856Z"
   },
   {
    "duration": 6,
    "start_time": "2022-08-27T11:03:50.895Z"
   },
   {
    "duration": 6,
    "start_time": "2022-08-27T11:03:50.903Z"
   },
   {
    "duration": 6,
    "start_time": "2022-08-27T11:03:50.911Z"
   },
   {
    "duration": 8,
    "start_time": "2022-08-27T11:03:50.918Z"
   },
   {
    "duration": 9,
    "start_time": "2022-08-27T11:03:50.927Z"
   },
   {
    "duration": 4,
    "start_time": "2022-08-27T11:03:50.938Z"
   },
   {
    "duration": 7,
    "start_time": "2022-08-27T11:03:50.943Z"
   },
   {
    "duration": 12,
    "start_time": "2022-08-27T11:04:20.290Z"
   },
   {
    "duration": 3,
    "start_time": "2022-08-27T11:04:23.573Z"
   },
   {
    "duration": 88,
    "start_time": "2022-08-27T11:04:23.578Z"
   },
   {
    "duration": 20,
    "start_time": "2022-08-27T11:04:23.668Z"
   },
   {
    "duration": 42,
    "start_time": "2022-08-27T11:04:23.690Z"
   },
   {
    "duration": 19,
    "start_time": "2022-08-27T11:04:23.735Z"
   },
   {
    "duration": 14,
    "start_time": "2022-08-27T11:04:23.756Z"
   },
   {
    "duration": 15,
    "start_time": "2022-08-27T11:04:23.771Z"
   },
   {
    "duration": 23,
    "start_time": "2022-08-27T11:04:23.788Z"
   },
   {
    "duration": 8,
    "start_time": "2022-08-27T11:04:23.813Z"
   },
   {
    "duration": 16,
    "start_time": "2022-08-27T11:04:23.822Z"
   },
   {
    "duration": 15,
    "start_time": "2022-08-27T11:04:23.839Z"
   },
   {
    "duration": 19,
    "start_time": "2022-08-27T11:04:23.855Z"
   },
   {
    "duration": 12,
    "start_time": "2022-08-27T11:04:23.876Z"
   },
   {
    "duration": 11,
    "start_time": "2022-08-27T11:04:23.891Z"
   },
   {
    "duration": 14,
    "start_time": "2022-08-27T11:04:23.904Z"
   },
   {
    "duration": 24,
    "start_time": "2022-08-27T11:04:23.920Z"
   },
   {
    "duration": 14,
    "start_time": "2022-08-27T11:04:23.947Z"
   },
   {
    "duration": 18,
    "start_time": "2022-08-27T11:04:23.963Z"
   },
   {
    "duration": 7,
    "start_time": "2022-08-27T11:04:23.984Z"
   },
   {
    "duration": 19,
    "start_time": "2022-08-27T11:04:23.993Z"
   },
   {
    "duration": 23,
    "start_time": "2022-08-27T11:04:24.014Z"
   },
   {
    "duration": 11,
    "start_time": "2022-08-27T11:04:24.040Z"
   },
   {
    "duration": 13,
    "start_time": "2022-08-27T11:05:31.526Z"
   },
   {
    "duration": 11,
    "start_time": "2022-08-27T11:05:34.778Z"
   },
   {
    "duration": 13,
    "start_time": "2022-08-27T11:05:38.655Z"
   },
   {
    "duration": 13,
    "start_time": "2022-08-27T11:05:40.074Z"
   },
   {
    "duration": 4,
    "start_time": "2022-08-27T11:05:43.975Z"
   },
   {
    "duration": 98,
    "start_time": "2022-08-27T11:05:43.981Z"
   },
   {
    "duration": 17,
    "start_time": "2022-08-27T11:05:44.081Z"
   },
   {
    "duration": 20,
    "start_time": "2022-08-27T11:05:44.100Z"
   },
   {
    "duration": 18,
    "start_time": "2022-08-27T11:05:44.124Z"
   },
   {
    "duration": 10,
    "start_time": "2022-08-27T11:05:44.144Z"
   },
   {
    "duration": 5,
    "start_time": "2022-08-27T11:05:44.156Z"
   },
   {
    "duration": 12,
    "start_time": "2022-08-27T11:05:44.193Z"
   },
   {
    "duration": 9,
    "start_time": "2022-08-27T11:05:44.208Z"
   },
   {
    "duration": 10,
    "start_time": "2022-08-27T11:05:44.219Z"
   },
   {
    "duration": 9,
    "start_time": "2022-08-27T11:05:44.231Z"
   },
   {
    "duration": 12,
    "start_time": "2022-08-27T11:05:44.242Z"
   },
   {
    "duration": 41,
    "start_time": "2022-08-27T11:05:44.256Z"
   },
   {
    "duration": 7,
    "start_time": "2022-08-27T11:05:44.300Z"
   },
   {
    "duration": 8,
    "start_time": "2022-08-27T11:05:44.309Z"
   },
   {
    "duration": 4,
    "start_time": "2022-08-27T11:05:44.320Z"
   },
   {
    "duration": 6,
    "start_time": "2022-08-27T11:05:44.327Z"
   },
   {
    "duration": 7,
    "start_time": "2022-08-27T11:05:44.335Z"
   },
   {
    "duration": 11,
    "start_time": "2022-08-27T11:05:44.343Z"
   },
   {
    "duration": 7,
    "start_time": "2022-08-27T11:05:44.356Z"
   },
   {
    "duration": 32,
    "start_time": "2022-08-27T11:05:44.365Z"
   },
   {
    "duration": 7,
    "start_time": "2022-08-27T11:05:44.398Z"
   },
   {
    "duration": 3,
    "start_time": "2022-08-27T11:06:37.724Z"
   },
   {
    "duration": 96,
    "start_time": "2022-08-27T11:06:37.729Z"
   },
   {
    "duration": 16,
    "start_time": "2022-08-27T11:06:37.826Z"
   },
   {
    "duration": 17,
    "start_time": "2022-08-27T11:06:37.844Z"
   },
   {
    "duration": 33,
    "start_time": "2022-08-27T11:06:37.865Z"
   },
   {
    "duration": 10,
    "start_time": "2022-08-27T11:06:37.900Z"
   },
   {
    "duration": 5,
    "start_time": "2022-08-27T11:06:37.912Z"
   },
   {
    "duration": 12,
    "start_time": "2022-08-27T11:06:37.919Z"
   },
   {
    "duration": 7,
    "start_time": "2022-08-27T11:06:37.932Z"
   },
   {
    "duration": 10,
    "start_time": "2022-08-27T11:06:37.940Z"
   },
   {
    "duration": 45,
    "start_time": "2022-08-27T11:06:37.952Z"
   },
   {
    "duration": 15,
    "start_time": "2022-08-27T11:06:37.999Z"
   },
   {
    "duration": 18,
    "start_time": "2022-08-27T11:06:38.016Z"
   },
   {
    "duration": 3,
    "start_time": "2022-08-27T11:06:38.038Z"
   },
   {
    "duration": 8,
    "start_time": "2022-08-27T11:06:38.043Z"
   },
   {
    "duration": 6,
    "start_time": "2022-08-27T11:06:38.053Z"
   },
   {
    "duration": 6,
    "start_time": "2022-08-27T11:06:38.061Z"
   },
   {
    "duration": 4,
    "start_time": "2022-08-27T11:06:38.092Z"
   },
   {
    "duration": 6,
    "start_time": "2022-08-27T11:06:38.097Z"
   },
   {
    "duration": 5,
    "start_time": "2022-08-27T11:06:38.105Z"
   },
   {
    "duration": 5,
    "start_time": "2022-08-27T11:06:38.111Z"
   },
   {
    "duration": 6,
    "start_time": "2022-08-27T11:06:38.117Z"
   },
   {
    "duration": 2731,
    "start_time": "2022-08-27T11:24:58.018Z"
   },
   {
    "duration": 2819,
    "start_time": "2022-08-27T11:25:37.100Z"
   },
   {
    "duration": 6,
    "start_time": "2022-08-27T11:29:52.779Z"
   },
   {
    "duration": 18,
    "start_time": "2022-08-27T11:30:04.953Z"
   },
   {
    "duration": 7,
    "start_time": "2022-08-27T11:35:31.229Z"
   },
   {
    "duration": 3,
    "start_time": "2022-08-27T11:35:35.306Z"
   },
   {
    "duration": 78,
    "start_time": "2022-08-27T11:35:35.311Z"
   },
   {
    "duration": 16,
    "start_time": "2022-08-27T11:35:35.390Z"
   },
   {
    "duration": 19,
    "start_time": "2022-08-27T11:35:35.408Z"
   },
   {
    "duration": 10,
    "start_time": "2022-08-27T11:35:35.429Z"
   },
   {
    "duration": 8,
    "start_time": "2022-08-27T11:35:35.441Z"
   },
   {
    "duration": 5,
    "start_time": "2022-08-27T11:35:35.450Z"
   },
   {
    "duration": 41,
    "start_time": "2022-08-27T11:35:35.456Z"
   },
   {
    "duration": 5,
    "start_time": "2022-08-27T11:35:35.499Z"
   },
   {
    "duration": 8,
    "start_time": "2022-08-27T11:35:35.505Z"
   },
   {
    "duration": 5,
    "start_time": "2022-08-27T11:35:35.514Z"
   },
   {
    "duration": 7,
    "start_time": "2022-08-27T11:35:35.521Z"
   },
   {
    "duration": 12,
    "start_time": "2022-08-27T11:35:35.530Z"
   },
   {
    "duration": 3,
    "start_time": "2022-08-27T11:35:35.546Z"
   },
   {
    "duration": 41,
    "start_time": "2022-08-27T11:35:35.551Z"
   },
   {
    "duration": 3,
    "start_time": "2022-08-27T11:35:35.593Z"
   },
   {
    "duration": 6,
    "start_time": "2022-08-27T11:35:35.598Z"
   },
   {
    "duration": 4,
    "start_time": "2022-08-27T11:35:35.606Z"
   },
   {
    "duration": 5,
    "start_time": "2022-08-27T11:35:35.612Z"
   },
   {
    "duration": 5,
    "start_time": "2022-08-27T11:35:35.619Z"
   },
   {
    "duration": 5,
    "start_time": "2022-08-27T11:35:35.625Z"
   },
   {
    "duration": 7,
    "start_time": "2022-08-27T11:35:35.631Z"
   },
   {
    "duration": 4,
    "start_time": "2022-08-27T11:38:07.495Z"
   },
   {
    "duration": 4,
    "start_time": "2022-08-27T11:40:57.928Z"
   },
   {
    "duration": 9,
    "start_time": "2022-08-27T11:42:16.524Z"
   },
   {
    "duration": 12,
    "start_time": "2022-08-27T11:43:02.825Z"
   },
   {
    "duration": 6,
    "start_time": "2022-08-27T11:43:48.327Z"
   },
   {
    "duration": 6,
    "start_time": "2022-08-27T11:44:25.115Z"
   },
   {
    "duration": 81,
    "start_time": "2022-08-27T11:50:51.887Z"
   },
   {
    "duration": 4,
    "start_time": "2022-08-27T11:51:00.049Z"
   },
   {
    "duration": 12,
    "start_time": "2022-08-27T11:52:55.913Z"
   },
   {
    "duration": 6,
    "start_time": "2022-08-27T11:53:34.047Z"
   },
   {
    "duration": 4,
    "start_time": "2022-08-27T11:57:26.542Z"
   },
   {
    "duration": 22,
    "start_time": "2022-08-27T11:58:37.811Z"
   },
   {
    "duration": 4,
    "start_time": "2022-08-27T12:01:37.323Z"
   },
   {
    "duration": 23,
    "start_time": "2022-08-27T12:01:39.991Z"
   },
   {
    "duration": 9,
    "start_time": "2022-08-27T12:01:49.228Z"
   },
   {
    "duration": 44,
    "start_time": "2022-08-31T13:30:20.010Z"
   },
   {
    "duration": 327,
    "start_time": "2022-08-31T13:30:28.316Z"
   },
   {
    "duration": 126,
    "start_time": "2022-08-31T13:30:28.645Z"
   },
   {
    "duration": 19,
    "start_time": "2022-08-31T13:30:28.773Z"
   },
   {
    "duration": 14,
    "start_time": "2022-08-31T13:30:28.794Z"
   },
   {
    "duration": 8,
    "start_time": "2022-08-31T13:30:28.810Z"
   },
   {
    "duration": 6,
    "start_time": "2022-08-31T13:30:28.819Z"
   },
   {
    "duration": 3,
    "start_time": "2022-08-31T13:30:28.826Z"
   },
   {
    "duration": 32,
    "start_time": "2022-08-31T13:30:28.830Z"
   },
   {
    "duration": 6,
    "start_time": "2022-08-31T13:30:28.864Z"
   },
   {
    "duration": 8,
    "start_time": "2022-08-31T13:30:28.872Z"
   },
   {
    "duration": 4,
    "start_time": "2022-08-31T13:30:28.881Z"
   },
   {
    "duration": 7,
    "start_time": "2022-08-31T13:30:28.887Z"
   },
   {
    "duration": 9,
    "start_time": "2022-08-31T13:30:28.896Z"
   },
   {
    "duration": 4,
    "start_time": "2022-08-31T13:30:28.907Z"
   },
   {
    "duration": 49,
    "start_time": "2022-08-31T13:30:28.913Z"
   },
   {
    "duration": 6,
    "start_time": "2022-08-31T13:30:28.963Z"
   },
   {
    "duration": 9,
    "start_time": "2022-08-31T13:30:28.970Z"
   },
   {
    "duration": 4,
    "start_time": "2022-08-31T13:30:28.980Z"
   },
   {
    "duration": 14,
    "start_time": "2022-08-31T13:30:28.986Z"
   },
   {
    "duration": 6,
    "start_time": "2022-08-31T13:30:29.001Z"
   },
   {
    "duration": 6,
    "start_time": "2022-08-31T13:30:29.008Z"
   },
   {
    "duration": 42,
    "start_time": "2022-08-31T13:30:29.015Z"
   },
   {
    "duration": 9,
    "start_time": "2022-08-31T13:30:29.058Z"
   },
   {
    "duration": 8,
    "start_time": "2022-08-31T13:31:44.053Z"
   },
   {
    "duration": 8,
    "start_time": "2022-08-31T13:32:29.075Z"
   },
   {
    "duration": 7,
    "start_time": "2022-08-31T13:33:45.768Z"
   },
   {
    "duration": 7,
    "start_time": "2022-08-31T13:34:29.724Z"
   },
   {
    "duration": 5,
    "start_time": "2022-08-31T13:35:56.808Z"
   }
  ],
  "colab": {
   "name": "dpp_template_part1.ipynb",
   "provenance": []
  },
  "kernelspec": {
   "display_name": "Python 3 (ipykernel)",
   "language": "python",
   "name": "python3"
  },
  "language_info": {
   "codemirror_mode": {
    "name": "ipython",
    "version": 3
   },
   "file_extension": ".py",
   "mimetype": "text/x-python",
   "name": "python",
   "nbconvert_exporter": "python",
   "pygments_lexer": "ipython3",
   "version": "3.9.13"
  },
  "toc": {
   "base_numbering": 1,
   "nav_menu": {},
   "number_sections": true,
   "sideBar": true,
   "skip_h1_title": true,
   "title_cell": "Table of Contents",
   "title_sidebar": "Contents",
   "toc_cell": false,
   "toc_position": {},
   "toc_section_display": true,
   "toc_window_display": false
  }
 },
 "nbformat": 4,
 "nbformat_minor": 5
}
