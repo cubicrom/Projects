{
 "cells": [
  {
   "cell_type": "markdown",
   "metadata": {},
   "source": [
    "# Приоритизация гипотез, запуск A/B-теста и анализ результатов"
   ]
  },
  {
   "cell_type": "markdown",
   "metadata": {},
   "source": [
    "Мы — аналитики крупного интернет-магазина. Вместе с отделом маркетинга мы подготовили список гипотез для увеличения выручки.\n",
    "\n",
    "**Нам будет необходимо:**\n",
    "\n",
    "1. приоритизовать гипотезы; \n",
    "\n",
    "2. запустить A/B-тест;\n",
    "\n",
    "3. проанализировать результаты."
   ]
  },
  {
   "cell_type": "markdown",
   "metadata": {},
   "source": [
    "## Импорт библиотек и ознакомление с данными"
   ]
  },
  {
   "cell_type": "code",
   "execution_count": 1,
   "metadata": {},
   "outputs": [],
   "source": [
    "#Импортируем необходимые библиотеки\n",
    "import pandas as pd\n",
    "import numpy as np\n",
    "import matplotlib.pyplot as plt\n",
    "import scipy.stats as stats"
   ]
  },
  {
   "cell_type": "code",
   "execution_count": 2,
   "metadata": {},
   "outputs": [
    {
     "data": {
      "text/html": [
       "<div>\n",
       "<style scoped>\n",
       "    .dataframe tbody tr th:only-of-type {\n",
       "        vertical-align: middle;\n",
       "    }\n",
       "\n",
       "    .dataframe tbody tr th {\n",
       "        vertical-align: top;\n",
       "    }\n",
       "\n",
       "    .dataframe thead th {\n",
       "        text-align: right;\n",
       "    }\n",
       "</style>\n",
       "<table border=\"1\" class=\"dataframe\">\n",
       "  <thead>\n",
       "    <tr style=\"text-align: right;\">\n",
       "      <th></th>\n",
       "      <th>Hypothesis</th>\n",
       "      <th>Reach</th>\n",
       "      <th>Impact</th>\n",
       "      <th>Confidence</th>\n",
       "      <th>Efforts</th>\n",
       "    </tr>\n",
       "  </thead>\n",
       "  <tbody>\n",
       "    <tr>\n",
       "      <th>0</th>\n",
       "      <td>Добавить два новых канала привлечения трафика,...</td>\n",
       "      <td>3</td>\n",
       "      <td>10</td>\n",
       "      <td>8</td>\n",
       "      <td>6</td>\n",
       "    </tr>\n",
       "    <tr>\n",
       "      <th>1</th>\n",
       "      <td>Запустить собственную службу доставки, что сок...</td>\n",
       "      <td>2</td>\n",
       "      <td>5</td>\n",
       "      <td>4</td>\n",
       "      <td>10</td>\n",
       "    </tr>\n",
       "    <tr>\n",
       "      <th>2</th>\n",
       "      <td>Добавить блоки рекомендаций товаров на сайт ин...</td>\n",
       "      <td>8</td>\n",
       "      <td>3</td>\n",
       "      <td>7</td>\n",
       "      <td>3</td>\n",
       "    </tr>\n",
       "    <tr>\n",
       "      <th>3</th>\n",
       "      <td>Изменить структура категорий, что увеличит кон...</td>\n",
       "      <td>8</td>\n",
       "      <td>3</td>\n",
       "      <td>3</td>\n",
       "      <td>8</td>\n",
       "    </tr>\n",
       "    <tr>\n",
       "      <th>4</th>\n",
       "      <td>Изменить цвет фона главной страницы, чтобы уве...</td>\n",
       "      <td>3</td>\n",
       "      <td>1</td>\n",
       "      <td>1</td>\n",
       "      <td>1</td>\n",
       "    </tr>\n",
       "    <tr>\n",
       "      <th>5</th>\n",
       "      <td>Добавить страницу отзывов клиентов о магазине,...</td>\n",
       "      <td>3</td>\n",
       "      <td>2</td>\n",
       "      <td>2</td>\n",
       "      <td>3</td>\n",
       "    </tr>\n",
       "    <tr>\n",
       "      <th>6</th>\n",
       "      <td>Показать на главной странице баннеры с актуаль...</td>\n",
       "      <td>5</td>\n",
       "      <td>3</td>\n",
       "      <td>8</td>\n",
       "      <td>3</td>\n",
       "    </tr>\n",
       "    <tr>\n",
       "      <th>7</th>\n",
       "      <td>Добавить форму подписки на все основные страни...</td>\n",
       "      <td>10</td>\n",
       "      <td>7</td>\n",
       "      <td>8</td>\n",
       "      <td>5</td>\n",
       "    </tr>\n",
       "    <tr>\n",
       "      <th>8</th>\n",
       "      <td>Запустить акцию, дающую скидку на товар в день...</td>\n",
       "      <td>1</td>\n",
       "      <td>9</td>\n",
       "      <td>9</td>\n",
       "      <td>5</td>\n",
       "    </tr>\n",
       "  </tbody>\n",
       "</table>\n",
       "</div>"
      ],
      "text/plain": [
       "                                          Hypothesis  Reach  Impact  \\\n",
       "0  Добавить два новых канала привлечения трафика,...      3      10   \n",
       "1  Запустить собственную службу доставки, что сок...      2       5   \n",
       "2  Добавить блоки рекомендаций товаров на сайт ин...      8       3   \n",
       "3  Изменить структура категорий, что увеличит кон...      8       3   \n",
       "4  Изменить цвет фона главной страницы, чтобы уве...      3       1   \n",
       "5  Добавить страницу отзывов клиентов о магазине,...      3       2   \n",
       "6  Показать на главной странице баннеры с актуаль...      5       3   \n",
       "7  Добавить форму подписки на все основные страни...     10       7   \n",
       "8  Запустить акцию, дающую скидку на товар в день...      1       9   \n",
       "\n",
       "   Confidence  Efforts  \n",
       "0           8        6  \n",
       "1           4       10  \n",
       "2           7        3  \n",
       "3           3        8  \n",
       "4           1        1  \n",
       "5           2        3  \n",
       "6           8        3  \n",
       "7           8        5  \n",
       "8           9        5  "
      ]
     },
     "metadata": {},
     "output_type": "display_data"
    },
    {
     "data": {
      "text/html": [
       "<div>\n",
       "<style scoped>\n",
       "    .dataframe tbody tr th:only-of-type {\n",
       "        vertical-align: middle;\n",
       "    }\n",
       "\n",
       "    .dataframe tbody tr th {\n",
       "        vertical-align: top;\n",
       "    }\n",
       "\n",
       "    .dataframe thead th {\n",
       "        text-align: right;\n",
       "    }\n",
       "</style>\n",
       "<table border=\"1\" class=\"dataframe\">\n",
       "  <thead>\n",
       "    <tr style=\"text-align: right;\">\n",
       "      <th></th>\n",
       "      <th>transactionId</th>\n",
       "      <th>visitorId</th>\n",
       "      <th>date</th>\n",
       "      <th>revenue</th>\n",
       "      <th>group</th>\n",
       "    </tr>\n",
       "  </thead>\n",
       "  <tbody>\n",
       "    <tr>\n",
       "      <th>0</th>\n",
       "      <td>3667963787</td>\n",
       "      <td>3312258926</td>\n",
       "      <td>2019-08-15</td>\n",
       "      <td>1650</td>\n",
       "      <td>B</td>\n",
       "    </tr>\n",
       "    <tr>\n",
       "      <th>1</th>\n",
       "      <td>2804400009</td>\n",
       "      <td>3642806036</td>\n",
       "      <td>2019-08-15</td>\n",
       "      <td>730</td>\n",
       "      <td>B</td>\n",
       "    </tr>\n",
       "    <tr>\n",
       "      <th>2</th>\n",
       "      <td>2961555356</td>\n",
       "      <td>4069496402</td>\n",
       "      <td>2019-08-15</td>\n",
       "      <td>400</td>\n",
       "      <td>A</td>\n",
       "    </tr>\n",
       "    <tr>\n",
       "      <th>3</th>\n",
       "      <td>3797467345</td>\n",
       "      <td>1196621759</td>\n",
       "      <td>2019-08-15</td>\n",
       "      <td>9759</td>\n",
       "      <td>B</td>\n",
       "    </tr>\n",
       "    <tr>\n",
       "      <th>4</th>\n",
       "      <td>2282983706</td>\n",
       "      <td>2322279887</td>\n",
       "      <td>2019-08-15</td>\n",
       "      <td>2308</td>\n",
       "      <td>B</td>\n",
       "    </tr>\n",
       "  </tbody>\n",
       "</table>\n",
       "</div>"
      ],
      "text/plain": [
       "   transactionId   visitorId        date  revenue group\n",
       "0     3667963787  3312258926  2019-08-15     1650     B\n",
       "1     2804400009  3642806036  2019-08-15      730     B\n",
       "2     2961555356  4069496402  2019-08-15      400     A\n",
       "3     3797467345  1196621759  2019-08-15     9759     B\n",
       "4     2282983706  2322279887  2019-08-15     2308     B"
      ]
     },
     "metadata": {},
     "output_type": "display_data"
    },
    {
     "data": {
      "text/html": [
       "<div>\n",
       "<style scoped>\n",
       "    .dataframe tbody tr th:only-of-type {\n",
       "        vertical-align: middle;\n",
       "    }\n",
       "\n",
       "    .dataframe tbody tr th {\n",
       "        vertical-align: top;\n",
       "    }\n",
       "\n",
       "    .dataframe thead th {\n",
       "        text-align: right;\n",
       "    }\n",
       "</style>\n",
       "<table border=\"1\" class=\"dataframe\">\n",
       "  <thead>\n",
       "    <tr style=\"text-align: right;\">\n",
       "      <th></th>\n",
       "      <th>date</th>\n",
       "      <th>group</th>\n",
       "      <th>visitors</th>\n",
       "    </tr>\n",
       "  </thead>\n",
       "  <tbody>\n",
       "    <tr>\n",
       "      <th>0</th>\n",
       "      <td>2019-08-01</td>\n",
       "      <td>A</td>\n",
       "      <td>719</td>\n",
       "    </tr>\n",
       "    <tr>\n",
       "      <th>1</th>\n",
       "      <td>2019-08-02</td>\n",
       "      <td>A</td>\n",
       "      <td>619</td>\n",
       "    </tr>\n",
       "    <tr>\n",
       "      <th>2</th>\n",
       "      <td>2019-08-03</td>\n",
       "      <td>A</td>\n",
       "      <td>507</td>\n",
       "    </tr>\n",
       "    <tr>\n",
       "      <th>3</th>\n",
       "      <td>2019-08-04</td>\n",
       "      <td>A</td>\n",
       "      <td>717</td>\n",
       "    </tr>\n",
       "    <tr>\n",
       "      <th>4</th>\n",
       "      <td>2019-08-05</td>\n",
       "      <td>A</td>\n",
       "      <td>756</td>\n",
       "    </tr>\n",
       "  </tbody>\n",
       "</table>\n",
       "</div>"
      ],
      "text/plain": [
       "         date group  visitors\n",
       "0  2019-08-01     A       719\n",
       "1  2019-08-02     A       619\n",
       "2  2019-08-03     A       507\n",
       "3  2019-08-04     A       717\n",
       "4  2019-08-05     A       756"
      ]
     },
     "execution_count": 2,
     "metadata": {},
     "output_type": "execute_result"
    }
   ],
   "source": [
    "#Создаем переменные, сохраняем в них таблицы и выводим их\n",
    "hyp_df = pd.read_csv('/datasets/hypothesis.csv')\n",
    "display(hyp_df)\n",
    "\n",
    "orders = pd.read_csv('/datasets/orders.csv')\n",
    "display(orders.head())\n",
    "\n",
    "visitors = pd.read_csv('/datasets/visitors.csv')\n",
    "visitors.head()"
   ]
  },
  {
   "cell_type": "code",
   "execution_count": 3,
   "metadata": {},
   "outputs": [
    {
     "name": "stdout",
     "output_type": "stream",
     "text": [
      "<class 'pandas.core.frame.DataFrame'>\n",
      "RangeIndex: 9 entries, 0 to 8\n",
      "Data columns (total 5 columns):\n",
      " #   Column      Non-Null Count  Dtype \n",
      "---  ------      --------------  ----- \n",
      " 0   Hypothesis  9 non-null      object\n",
      " 1   Reach       9 non-null      int64 \n",
      " 2   Impact      9 non-null      int64 \n",
      " 3   Confidence  9 non-null      int64 \n",
      " 4   Efforts     9 non-null      int64 \n",
      "dtypes: int64(4), object(1)\n",
      "memory usage: 488.0+ bytes\n"
     ]
    },
    {
     "data": {
      "text/plain": [
       "None"
      ]
     },
     "metadata": {},
     "output_type": "display_data"
    },
    {
     "name": "stdout",
     "output_type": "stream",
     "text": [
      "<class 'pandas.core.frame.DataFrame'>\n",
      "RangeIndex: 1197 entries, 0 to 1196\n",
      "Data columns (total 5 columns):\n",
      " #   Column         Non-Null Count  Dtype \n",
      "---  ------         --------------  ----- \n",
      " 0   transactionId  1197 non-null   int64 \n",
      " 1   visitorId      1197 non-null   int64 \n",
      " 2   date           1197 non-null   object\n",
      " 3   revenue        1197 non-null   int64 \n",
      " 4   group          1197 non-null   object\n",
      "dtypes: int64(3), object(2)\n",
      "memory usage: 46.9+ KB\n"
     ]
    },
    {
     "data": {
      "text/plain": [
       "None"
      ]
     },
     "metadata": {},
     "output_type": "display_data"
    },
    {
     "name": "stdout",
     "output_type": "stream",
     "text": [
      "<class 'pandas.core.frame.DataFrame'>\n",
      "RangeIndex: 62 entries, 0 to 61\n",
      "Data columns (total 3 columns):\n",
      " #   Column    Non-Null Count  Dtype \n",
      "---  ------    --------------  ----- \n",
      " 0   date      62 non-null     object\n",
      " 1   group     62 non-null     object\n",
      " 2   visitors  62 non-null     int64 \n",
      "dtypes: int64(1), object(2)\n",
      "memory usage: 1.6+ KB\n"
     ]
    }
   ],
   "source": [
    "#Выводим общую информацию о таблицах\n",
    "display(hyp_df.info())\n",
    "\n",
    "display(orders.info())\n",
    "\n",
    "visitors.info()"
   ]
  },
  {
   "cell_type": "markdown",
   "metadata": {},
   "source": [
    "После вывода общей информации о таблицах видно, что:\n",
    "\n",
    "1. в названиях столбцов используются заглавные буквы, что может привести к ошибкам;\n",
    "\n",
    "2. в таблицах `orders` и `visitors` неверный тип данных в столбцах с датами;\n",
    "\n",
    "**Подготовим данные к исследованию.**"
   ]
  },
  {
   "cell_type": "markdown",
   "metadata": {},
   "source": [
    "## Предобработка данных"
   ]
  },
  {
   "cell_type": "code",
   "execution_count": 4,
   "metadata": {},
   "outputs": [
    {
     "data": {
      "text/plain": [
       "Index(['hypothesis', 'reach', 'impact', 'confidence', 'efforts'], dtype='object')"
      ]
     },
     "metadata": {},
     "output_type": "display_data"
    },
    {
     "data": {
      "text/plain": [
       "Index(['transaction_id', 'visitor_id', 'date', 'revenue', 'group'], dtype='object')"
      ]
     },
     "execution_count": 4,
     "metadata": {},
     "output_type": "execute_result"
    }
   ],
   "source": [
    "#Приводим названия столбцов к удобному виду\n",
    "hyp_df.columns = hyp_df.columns.str.lower()\n",
    "display(hyp_df.columns)\n",
    "\n",
    "orders.columns = orders.columns.str.lower()\n",
    "orders = orders.rename(columns={'transactionid' : 'transaction_id', 'visitorid' : 'visitor_id'})\n",
    "orders.columns"
   ]
  },
  {
   "cell_type": "code",
   "execution_count": 5,
   "metadata": {},
   "outputs": [],
   "source": [
    "#Изменяем типы данных\n",
    "orders['date'] = pd.to_datetime(orders['date'])\n",
    "\n",
    "visitors['date'] = pd.to_datetime(visitors['date'])"
   ]
  },
  {
   "cell_type": "code",
   "execution_count": 6,
   "metadata": {},
   "outputs": [
    {
     "name": "stdout",
     "output_type": "stream",
     "text": [
      "количество явных дубликатов в таблице hyp_df: 0\n",
      "\n",
      "количество явных дубликатов в таблице orders: 0\n",
      "\n",
      "количество явных дубликатов в таблице visitors: 0\n"
     ]
    }
   ],
   "source": [
    "#Проверяем наличие явных дубликатов\n",
    "print('количество явных дубликатов в таблице hyp_df:', hyp_df.duplicated().sum())\n",
    "print()\n",
    "\n",
    "print('количество явных дубликатов в таблице orders:', orders.duplicated().sum())\n",
    "print()\n",
    "\n",
    "print('количество явных дубликатов в таблице visitors:', visitors.duplicated().sum())"
   ]
  },
  {
   "cell_type": "code",
   "execution_count": 7,
   "metadata": {},
   "outputs": [
    {
     "name": "stdout",
     "output_type": "stream",
     "text": [
      "<class 'pandas.core.frame.DataFrame'>\n",
      "RangeIndex: 9 entries, 0 to 8\n",
      "Data columns (total 5 columns):\n",
      " #   Column      Non-Null Count  Dtype \n",
      "---  ------      --------------  ----- \n",
      " 0   hypothesis  9 non-null      object\n",
      " 1   reach       9 non-null      int64 \n",
      " 2   impact      9 non-null      int64 \n",
      " 3   confidence  9 non-null      int64 \n",
      " 4   efforts     9 non-null      int64 \n",
      "dtypes: int64(4), object(1)\n",
      "memory usage: 488.0+ bytes\n"
     ]
    },
    {
     "data": {
      "text/plain": [
       "None"
      ]
     },
     "metadata": {},
     "output_type": "display_data"
    },
    {
     "name": "stdout",
     "output_type": "stream",
     "text": [
      "<class 'pandas.core.frame.DataFrame'>\n",
      "RangeIndex: 1197 entries, 0 to 1196\n",
      "Data columns (total 5 columns):\n",
      " #   Column          Non-Null Count  Dtype         \n",
      "---  ------          --------------  -----         \n",
      " 0   transaction_id  1197 non-null   int64         \n",
      " 1   visitor_id      1197 non-null   int64         \n",
      " 2   date            1197 non-null   datetime64[ns]\n",
      " 3   revenue         1197 non-null   int64         \n",
      " 4   group           1197 non-null   object        \n",
      "dtypes: datetime64[ns](1), int64(3), object(1)\n",
      "memory usage: 46.9+ KB\n"
     ]
    },
    {
     "data": {
      "text/plain": [
       "None"
      ]
     },
     "metadata": {},
     "output_type": "display_data"
    },
    {
     "name": "stdout",
     "output_type": "stream",
     "text": [
      "<class 'pandas.core.frame.DataFrame'>\n",
      "RangeIndex: 62 entries, 0 to 61\n",
      "Data columns (total 3 columns):\n",
      " #   Column    Non-Null Count  Dtype         \n",
      "---  ------    --------------  -----         \n",
      " 0   date      62 non-null     datetime64[ns]\n",
      " 1   group     62 non-null     object        \n",
      " 2   visitors  62 non-null     int64         \n",
      "dtypes: datetime64[ns](1), int64(1), object(1)\n",
      "memory usage: 1.6+ KB\n"
     ]
    }
   ],
   "source": [
    "#Проверяем изменения\n",
    "display(hyp_df.info())\n",
    "\n",
    "display(orders.info())\n",
    "\n",
    "visitors.info()"
   ]
  },
  {
   "cell_type": "markdown",
   "metadata": {},
   "source": [
    "Произвели предобработку данных:\n",
    "\n",
    "1. привели названия столбцов к удобному виду;\n",
    "\n",
    "2. изменили тип данных в столбцах с датами;\n",
    "\n",
    "3. проверили наличие дубликатов - отсутсвуют;\n",
    "\n",
    "4. проверили наличие пропусков - отсутсвуют;\n",
    "\n",
    "**Данные готовы к исследованию.**"
   ]
  },
  {
   "cell_type": "markdown",
   "metadata": {},
   "source": [
    "## Приоритизация гипотез"
   ]
  },
  {
   "cell_type": "code",
   "execution_count": 8,
   "metadata": {},
   "outputs": [
    {
     "data": {
      "text/html": [
       "<div>\n",
       "<style scoped>\n",
       "    .dataframe tbody tr th:only-of-type {\n",
       "        vertical-align: middle;\n",
       "    }\n",
       "\n",
       "    .dataframe tbody tr th {\n",
       "        vertical-align: top;\n",
       "    }\n",
       "\n",
       "    .dataframe thead th {\n",
       "        text-align: right;\n",
       "    }\n",
       "</style>\n",
       "<table border=\"1\" class=\"dataframe\">\n",
       "  <thead>\n",
       "    <tr style=\"text-align: right;\">\n",
       "      <th></th>\n",
       "      <th>hypothesis</th>\n",
       "      <th>reach</th>\n",
       "      <th>impact</th>\n",
       "      <th>confidence</th>\n",
       "      <th>efforts</th>\n",
       "    </tr>\n",
       "  </thead>\n",
       "  <tbody>\n",
       "    <tr>\n",
       "      <th>0</th>\n",
       "      <td>Добавить два новых канала привлечения трафика, что позволит привлекать на 30% больше пользователей</td>\n",
       "      <td>3</td>\n",
       "      <td>10</td>\n",
       "      <td>8</td>\n",
       "      <td>6</td>\n",
       "    </tr>\n",
       "    <tr>\n",
       "      <th>1</th>\n",
       "      <td>Запустить собственную службу доставки, что сократит срок доставки заказов</td>\n",
       "      <td>2</td>\n",
       "      <td>5</td>\n",
       "      <td>4</td>\n",
       "      <td>10</td>\n",
       "    </tr>\n",
       "    <tr>\n",
       "      <th>2</th>\n",
       "      <td>Добавить блоки рекомендаций товаров на сайт интернет магазина, чтобы повысить конверсию и средний чек заказа</td>\n",
       "      <td>8</td>\n",
       "      <td>3</td>\n",
       "      <td>7</td>\n",
       "      <td>3</td>\n",
       "    </tr>\n",
       "    <tr>\n",
       "      <th>3</th>\n",
       "      <td>Изменить структура категорий, что увеличит конверсию, т.к. пользователи быстрее найдут нужный товар</td>\n",
       "      <td>8</td>\n",
       "      <td>3</td>\n",
       "      <td>3</td>\n",
       "      <td>8</td>\n",
       "    </tr>\n",
       "    <tr>\n",
       "      <th>4</th>\n",
       "      <td>Изменить цвет фона главной страницы, чтобы увеличить вовлеченность пользователей</td>\n",
       "      <td>3</td>\n",
       "      <td>1</td>\n",
       "      <td>1</td>\n",
       "      <td>1</td>\n",
       "    </tr>\n",
       "    <tr>\n",
       "      <th>5</th>\n",
       "      <td>Добавить страницу отзывов клиентов о магазине, что позволит увеличить количество заказов</td>\n",
       "      <td>3</td>\n",
       "      <td>2</td>\n",
       "      <td>2</td>\n",
       "      <td>3</td>\n",
       "    </tr>\n",
       "    <tr>\n",
       "      <th>6</th>\n",
       "      <td>Показать на главной странице баннеры с актуальными акциями и распродажами, чтобы увеличить конверсию</td>\n",
       "      <td>5</td>\n",
       "      <td>3</td>\n",
       "      <td>8</td>\n",
       "      <td>3</td>\n",
       "    </tr>\n",
       "    <tr>\n",
       "      <th>7</th>\n",
       "      <td>Добавить форму подписки на все основные страницы, чтобы собрать базу клиентов для email-рассылок</td>\n",
       "      <td>10</td>\n",
       "      <td>7</td>\n",
       "      <td>8</td>\n",
       "      <td>5</td>\n",
       "    </tr>\n",
       "    <tr>\n",
       "      <th>8</th>\n",
       "      <td>Запустить акцию, дающую скидку на товар в день рождения</td>\n",
       "      <td>1</td>\n",
       "      <td>9</td>\n",
       "      <td>9</td>\n",
       "      <td>5</td>\n",
       "    </tr>\n",
       "  </tbody>\n",
       "</table>\n",
       "</div>"
      ],
      "text/plain": [
       "                                                                                                     hypothesis  \\\n",
       "0  Добавить два новых канала привлечения трафика, что позволит привлекать на 30% больше пользователей             \n",
       "1  Запустить собственную службу доставки, что сократит срок доставки заказов                                      \n",
       "2  Добавить блоки рекомендаций товаров на сайт интернет магазина, чтобы повысить конверсию и средний чек заказа   \n",
       "3  Изменить структура категорий, что увеличит конверсию, т.к. пользователи быстрее найдут нужный товар            \n",
       "4  Изменить цвет фона главной страницы, чтобы увеличить вовлеченность пользователей                               \n",
       "5  Добавить страницу отзывов клиентов о магазине, что позволит увеличить количество заказов                       \n",
       "6  Показать на главной странице баннеры с актуальными акциями и распродажами, чтобы увеличить конверсию           \n",
       "7  Добавить форму подписки на все основные страницы, чтобы собрать базу клиентов для email-рассылок               \n",
       "8  Запустить акцию, дающую скидку на товар в день рождения                                                        \n",
       "\n",
       "   reach  impact  confidence  efforts  \n",
       "0  3      10      8           6        \n",
       "1  2      5       4           10       \n",
       "2  8      3       7           3        \n",
       "3  8      3       3           8        \n",
       "4  3      1       1           1        \n",
       "5  3      2       2           3        \n",
       "6  5      3       8           3        \n",
       "7  10     7       8           5        \n",
       "8  1      9       9           5        "
      ]
     },
     "metadata": {},
     "output_type": "display_data"
    },
    {
     "data": {
      "text/html": [
       "<div>\n",
       "<style scoped>\n",
       "    .dataframe tbody tr th:only-of-type {\n",
       "        vertical-align: middle;\n",
       "    }\n",
       "\n",
       "    .dataframe tbody tr th {\n",
       "        vertical-align: top;\n",
       "    }\n",
       "\n",
       "    .dataframe thead th {\n",
       "        text-align: right;\n",
       "    }\n",
       "</style>\n",
       "<table border=\"1\" class=\"dataframe\">\n",
       "  <thead>\n",
       "    <tr style=\"text-align: right;\">\n",
       "      <th></th>\n",
       "      <th>hypothesis</th>\n",
       "      <th>ICE</th>\n",
       "    </tr>\n",
       "  </thead>\n",
       "  <tbody>\n",
       "    <tr>\n",
       "      <th>8</th>\n",
       "      <td>Запустить акцию, дающую скидку на товар в день рождения</td>\n",
       "      <td>16.200000</td>\n",
       "    </tr>\n",
       "    <tr>\n",
       "      <th>0</th>\n",
       "      <td>Добавить два новых канала привлечения трафика, что позволит привлекать на 30% больше пользователей</td>\n",
       "      <td>13.333333</td>\n",
       "    </tr>\n",
       "    <tr>\n",
       "      <th>7</th>\n",
       "      <td>Добавить форму подписки на все основные страницы, чтобы собрать базу клиентов для email-рассылок</td>\n",
       "      <td>11.200000</td>\n",
       "    </tr>\n",
       "    <tr>\n",
       "      <th>6</th>\n",
       "      <td>Показать на главной странице баннеры с актуальными акциями и распродажами, чтобы увеличить конверсию</td>\n",
       "      <td>8.000000</td>\n",
       "    </tr>\n",
       "    <tr>\n",
       "      <th>2</th>\n",
       "      <td>Добавить блоки рекомендаций товаров на сайт интернет магазина, чтобы повысить конверсию и средний чек заказа</td>\n",
       "      <td>7.000000</td>\n",
       "    </tr>\n",
       "    <tr>\n",
       "      <th>1</th>\n",
       "      <td>Запустить собственную службу доставки, что сократит срок доставки заказов</td>\n",
       "      <td>2.000000</td>\n",
       "    </tr>\n",
       "    <tr>\n",
       "      <th>5</th>\n",
       "      <td>Добавить страницу отзывов клиентов о магазине, что позволит увеличить количество заказов</td>\n",
       "      <td>1.333333</td>\n",
       "    </tr>\n",
       "    <tr>\n",
       "      <th>3</th>\n",
       "      <td>Изменить структура категорий, что увеличит конверсию, т.к. пользователи быстрее найдут нужный товар</td>\n",
       "      <td>1.125000</td>\n",
       "    </tr>\n",
       "    <tr>\n",
       "      <th>4</th>\n",
       "      <td>Изменить цвет фона главной страницы, чтобы увеличить вовлеченность пользователей</td>\n",
       "      <td>1.000000</td>\n",
       "    </tr>\n",
       "  </tbody>\n",
       "</table>\n",
       "</div>"
      ],
      "text/plain": [
       "                                                                                                     hypothesis  \\\n",
       "8  Запустить акцию, дающую скидку на товар в день рождения                                                        \n",
       "0  Добавить два новых канала привлечения трафика, что позволит привлекать на 30% больше пользователей             \n",
       "7  Добавить форму подписки на все основные страницы, чтобы собрать базу клиентов для email-рассылок               \n",
       "6  Показать на главной странице баннеры с актуальными акциями и распродажами, чтобы увеличить конверсию           \n",
       "2  Добавить блоки рекомендаций товаров на сайт интернет магазина, чтобы повысить конверсию и средний чек заказа   \n",
       "1  Запустить собственную службу доставки, что сократит срок доставки заказов                                      \n",
       "5  Добавить страницу отзывов клиентов о магазине, что позволит увеличить количество заказов                       \n",
       "3  Изменить структура категорий, что увеличит конверсию, т.к. пользователи быстрее найдут нужный товар            \n",
       "4  Изменить цвет фона главной страницы, чтобы увеличить вовлеченность пользователей                               \n",
       "\n",
       "         ICE  \n",
       "8  16.200000  \n",
       "0  13.333333  \n",
       "7  11.200000  \n",
       "6  8.000000   \n",
       "2  7.000000   \n",
       "1  2.000000   \n",
       "5  1.333333   \n",
       "3  1.125000   \n",
       "4  1.000000   "
      ]
     },
     "metadata": {},
     "output_type": "display_data"
    },
    {
     "data": {
      "text/html": [
       "<div>\n",
       "<style scoped>\n",
       "    .dataframe tbody tr th:only-of-type {\n",
       "        vertical-align: middle;\n",
       "    }\n",
       "\n",
       "    .dataframe tbody tr th {\n",
       "        vertical-align: top;\n",
       "    }\n",
       "\n",
       "    .dataframe thead th {\n",
       "        text-align: right;\n",
       "    }\n",
       "</style>\n",
       "<table border=\"1\" class=\"dataframe\">\n",
       "  <thead>\n",
       "    <tr style=\"text-align: right;\">\n",
       "      <th></th>\n",
       "      <th>hypothesis</th>\n",
       "      <th>RICE</th>\n",
       "    </tr>\n",
       "  </thead>\n",
       "  <tbody>\n",
       "    <tr>\n",
       "      <th>7</th>\n",
       "      <td>Добавить форму подписки на все основные страницы, чтобы собрать базу клиентов для email-рассылок</td>\n",
       "      <td>112.0</td>\n",
       "    </tr>\n",
       "    <tr>\n",
       "      <th>2</th>\n",
       "      <td>Добавить блоки рекомендаций товаров на сайт интернет магазина, чтобы повысить конверсию и средний чек заказа</td>\n",
       "      <td>56.0</td>\n",
       "    </tr>\n",
       "    <tr>\n",
       "      <th>0</th>\n",
       "      <td>Добавить два новых канала привлечения трафика, что позволит привлекать на 30% больше пользователей</td>\n",
       "      <td>40.0</td>\n",
       "    </tr>\n",
       "    <tr>\n",
       "      <th>6</th>\n",
       "      <td>Показать на главной странице баннеры с актуальными акциями и распродажами, чтобы увеличить конверсию</td>\n",
       "      <td>40.0</td>\n",
       "    </tr>\n",
       "    <tr>\n",
       "      <th>8</th>\n",
       "      <td>Запустить акцию, дающую скидку на товар в день рождения</td>\n",
       "      <td>16.2</td>\n",
       "    </tr>\n",
       "    <tr>\n",
       "      <th>3</th>\n",
       "      <td>Изменить структура категорий, что увеличит конверсию, т.к. пользователи быстрее найдут нужный товар</td>\n",
       "      <td>9.0</td>\n",
       "    </tr>\n",
       "    <tr>\n",
       "      <th>1</th>\n",
       "      <td>Запустить собственную службу доставки, что сократит срок доставки заказов</td>\n",
       "      <td>4.0</td>\n",
       "    </tr>\n",
       "    <tr>\n",
       "      <th>5</th>\n",
       "      <td>Добавить страницу отзывов клиентов о магазине, что позволит увеличить количество заказов</td>\n",
       "      <td>4.0</td>\n",
       "    </tr>\n",
       "    <tr>\n",
       "      <th>4</th>\n",
       "      <td>Изменить цвет фона главной страницы, чтобы увеличить вовлеченность пользователей</td>\n",
       "      <td>3.0</td>\n",
       "    </tr>\n",
       "  </tbody>\n",
       "</table>\n",
       "</div>"
      ],
      "text/plain": [
       "                                                                                                     hypothesis  \\\n",
       "7  Добавить форму подписки на все основные страницы, чтобы собрать базу клиентов для email-рассылок               \n",
       "2  Добавить блоки рекомендаций товаров на сайт интернет магазина, чтобы повысить конверсию и средний чек заказа   \n",
       "0  Добавить два новых канала привлечения трафика, что позволит привлекать на 30% больше пользователей             \n",
       "6  Показать на главной странице баннеры с актуальными акциями и распродажами, чтобы увеличить конверсию           \n",
       "8  Запустить акцию, дающую скидку на товар в день рождения                                                        \n",
       "3  Изменить структура категорий, что увеличит конверсию, т.к. пользователи быстрее найдут нужный товар            \n",
       "1  Запустить собственную службу доставки, что сократит срок доставки заказов                                      \n",
       "5  Добавить страницу отзывов клиентов о магазине, что позволит увеличить количество заказов                       \n",
       "4  Изменить цвет фона главной страницы, чтобы увеличить вовлеченность пользователей                               \n",
       "\n",
       "    RICE  \n",
       "7  112.0  \n",
       "2  56.0   \n",
       "0  40.0   \n",
       "6  40.0   \n",
       "8  16.2   \n",
       "3  9.0    \n",
       "1  4.0    \n",
       "5  4.0    \n",
       "4  3.0    "
      ]
     },
     "metadata": {},
     "output_type": "display_data"
    }
   ],
   "source": [
    "#Применяем фреймоврки ICE и RICE для приоритизации гипотез\n",
    "pd.set_option('display.max_colwidth', 0)\n",
    "\n",
    "display(hyp_df)\n",
    "\n",
    "hyp_df['ICE'] = (hyp_df['impact'] * hyp_df['confidence']) / hyp_df['efforts']\n",
    "\n",
    "hyp_df['RICE'] = (hyp_df['reach'] * hyp_df['impact'] * hyp_df['confidence']) / hyp_df['efforts']\n",
    "\n",
    "display(hyp_df[['hypothesis', 'ICE']].sort_values(by='ICE', ascending=False))\n",
    "\n",
    "display(hyp_df[['hypothesis', 'RICE']].sort_values(by='RICE', ascending=False))"
   ]
  },
  {
   "cell_type": "markdown",
   "metadata": {},
   "source": [
    "Мы произвели приоритизацию гипотез с помощью фреймворков ICE и RICE и можем сделать следующие выводы:\n",
    "\n",
    "1. гипотезы с ID 7 (*добавить форму подписки на все основные страницы, чтобы собрать базу клиентов для email-рассылок*) и 0 (*добавить два новых канала привлечения трафика, что позволит привлекать на 30% больше пользователей*) показывают себя достаточно хорошо из-за высоких показателей `reach` и `impact` соответственно;\n",
    "\n",
    "\n",
    "2. гипотеза с ID 8 (*запустить акцию, дающую скидку на товар в день рождения*) опустилась вниз из-за низкого значения `reach` (охват);\n",
    "\n",
    "\n",
    "3. остальные гипотезы остались на примерно тех же местах;\n",
    "\n",
    "\n",
    "Основные изменения произошли из-за включения парметра `reach` в подсчет. \n",
    "\n",
    "**Я предлагаю проверить теорию с ID 7 (*добавить форму подписки на все основные страницы, чтобы собрать базу клиентов для email-рассылок*), так как у нее самый большой охват и небольшие затраты.**"
   ]
  },
  {
   "cell_type": "markdown",
   "metadata": {},
   "source": [
    "## Анализ А/В теста"
   ]
  },
  {
   "cell_type": "markdown",
   "metadata": {},
   "source": [
    "### подготовка данных к составлению графиков:"
   ]
  },
  {
   "cell_type": "code",
   "execution_count": 9,
   "metadata": {},
   "outputs": [],
   "source": [
    "#создаем массив уникальных пар значений дат и групп теста\n",
    "dates_groups = orders[['date', 'group']].drop_duplicates()\n",
    "\n",
    "#получаем агрегированные кумулятивные данные о заказах\n",
    "orders_aggregated = dates_groups.apply(\n",
    "    lambda x: orders[\n",
    "        np.logical_and(\n",
    "            orders['date'] <= x['date'], \n",
    "            orders['group'] == x['group']\n",
    "        )\n",
    "    ].agg(\n",
    "        {\n",
    "            'date': 'max',\n",
    "            'group': 'max',\n",
    "            'transaction_id': 'nunique',\n",
    "            'visitor_id': 'nunique',\n",
    "            'revenue': 'sum',\n",
    "        }\n",
    "    ),\n",
    "    axis=1,\n",
    ").sort_values(by=['date', 'group'])\n",
    "\n",
    "#получаем агрегированные кумулятивные данные о посетителях\n",
    "visitors_aggregated = dates_groups.apply(\n",
    "    lambda x: visitors[\n",
    "        np.logical_and(\n",
    "            visitors['date'] <= x['date'], \n",
    "            visitors['group'] == x['group']\n",
    "        )\n",
    "    ].agg({'date': 'max', 'group': 'max', 'visitors': 'sum'}),\n",
    "    axis=1,\n",
    ").sort_values(by=['date', 'group'])\n",
    "\n",
    "#объединяем кумулятивные данные в одной таблице и присваиваем столбцам удобные названия\n",
    "cumulative_data = orders_aggregated.merge(\n",
    "    visitors_aggregated, \n",
    "    left_on=['date', 'group'], \n",
    "    right_on=['date', 'group']\n",
    ")\n",
    "cumulative_data.columns = [\n",
    "    'date',\n",
    "    'group',\n",
    "    'orders',\n",
    "    'buyers',\n",
    "    'revenue',\n",
    "    'visitors',\n",
    "]\n",
    "\n",
    "#таблица с кумулятивным количеством заказов и кумулятивной выручкой в группах\n",
    "cumulative_revenue_a = cumulative_data[cumulative_data['group'] == 'A'][['date', 'revenue', 'orders']]\n",
    "\n",
    "cumulative_revenue_b = cumulative_data[cumulative_data['group'] == 'B'][['date', 'revenue', 'orders']]"
   ]
  },
  {
   "cell_type": "markdown",
   "metadata": {},
   "source": [
    "### график кумулятивной выручки по группам:"
   ]
  },
  {
   "cell_type": "code",
   "execution_count": 10,
   "metadata": {},
   "outputs": [
    {
     "data": {
      "image/png": "[encoded data removed]",
      "text/plain": [
       "<Figure size 1080x360 with 1 Axes>"
      ]
     },
     "metadata": {
      "needs_background": "light"
     },
     "output_type": "display_data"
    }
   ],
   "source": [
    "plt.figure(figsize=(15, 5))\n",
    "\n",
    "plt.plot(cumulative_revenue_a['date'], cumulative_revenue_a['revenue'], label='A')\n",
    "\n",
    "plt.plot(cumulative_revenue_b['date'], cumulative_revenue_b['revenue'], label='B')\n",
    "\n",
    "plt.legend()\n",
    "plt.grid()\n",
    "plt.title('График кумулятивной выручки по группам')\n",
    "plt.xlabel('дата')\n",
    "plt.ylabel('выручка');"
   ]
  },
  {
   "cell_type": "markdown",
   "metadata": {},
   "source": [
    "Выручка почти равномерно увеличивается в течение всего теста. Однако график выручки группы \"В\" в одной точках резко растет. Это может сигнализировать о всплеске числа заказов, либо о появлении очень дорогих заказов в выборке. График группы \"А\" растет равномерно на протяжении всего теста."
   ]
  },
  {
   "cell_type": "markdown",
   "metadata": {},
   "source": [
    "### график кумулятивного среднего чека по группам:"
   ]
  },
  {
   "cell_type": "code",
   "execution_count": 11,
   "metadata": {
    "scrolled": true
   },
   "outputs": [
    {
     "data": {
      "image/png": "[encoded data removed]",
      "text/plain": [
       "<Figure size 1080x360 with 1 Axes>"
      ]
     },
     "metadata": {
      "needs_background": "light"
     },
     "output_type": "display_data"
    }
   ],
   "source": [
    "plt.figure(figsize=(15, 5))\n",
    "\n",
    "plt.plot(cumulative_revenue_a['date'], cumulative_revenue_a['revenue'] / cumulative_revenue_a['orders'], label='A')\n",
    "plt.plot(cumulative_revenue_b['date'], cumulative_revenue_b['revenue'] / cumulative_revenue_b['orders'], label='B')\n",
    "\n",
    "plt.legend()\n",
    "plt.grid()\n",
    "plt.title('График кумулятивного среднего чека по группам')\n",
    "plt.xlabel('дата')\n",
    "plt.ylabel('средний чек');"
   ]
  },
  {
   "cell_type": "markdown",
   "metadata": {},
   "source": [
    "Кумулятивное значение среднего чека у группы \"В\" также резко вырастает 18 августа, как и на предыдущем графике. Надо будет ниже анализировать выбросы, по такой выборке делать выводы рано. График группы \"А\" нестабилен: сначала падает, потом растет, затем выходит на плато."
   ]
  },
  {
   "cell_type": "markdown",
   "metadata": {},
   "source": [
    "### график относительного изменения кумулятивного среднего чека группы B к группе A:"
   ]
  },
  {
   "cell_type": "code",
   "execution_count": 12,
   "metadata": {
    "scrolled": true
   },
   "outputs": [
    {
     "data": {
      "image/png": "[encoded data removed]",
      "text/plain": [
       "<Figure size 1080x360 with 1 Axes>"
      ]
     },
     "metadata": {
      "needs_background": "light"
     },
     "output_type": "display_data"
    }
   ],
   "source": [
    "#создаем таблицу средних чеков групп\n",
    "merged_cumulative_revenue = cumulative_revenue_a.merge(\n",
    "    cumulative_revenue_b, \n",
    "    left_on='date', \n",
    "    right_on='date', \n",
    "    how='left', \n",
    "    suffixes=['A', 'B']\n",
    ")\n",
    "\n",
    "plt.figure(figsize=(15, 5))\n",
    "\n",
    "plt.plot(\n",
    "    merged_cumulative_revenue['date'], \n",
    "    (merged_cumulative_revenue['revenueB'] \n",
    "     / merged_cumulative_revenue['ordersB']) \n",
    "    / (merged_cumulative_revenue['revenueA'] \n",
    "       / merged_cumulative_revenue['ordersA']) \n",
    "    - 1\n",
    ")\n",
    "\n",
    "plt.axhline(y=0, color='black', linestyle='--')\n",
    "plt.grid()\n",
    "plt.title('График относительного изменения кумулятивного среднего чека группы B к группе A')\n",
    "plt.xlabel('дата')\n",
    "plt.ylabel('относительное изменение');"
   ]
  },
  {
   "cell_type": "markdown",
   "metadata": {},
   "source": [
    "Опять же видим резкий скачок 18 августа - скорее всего в этот день был совершен крупный заказ."
   ]
  },
  {
   "cell_type": "markdown",
   "metadata": {},
   "source": [
    "### график кумулятивного среднего количества заказов по группам:"
   ]
  },
  {
   "cell_type": "code",
   "execution_count": 13,
   "metadata": {},
   "outputs": [
    {
     "data": {
      "image/png": "[encoded data removed]",
      "text/plain": [
       "<Figure size 1080x360 with 1 Axes>"
      ]
     },
     "metadata": {
      "needs_background": "light"
     },
     "output_type": "display_data"
    }
   ],
   "source": [
    "#добавляем столбец конверсии, то есть оформления заказа\n",
    "cumulative_data['avg_orders'] = cumulative_data['orders'] / cumulative_data['visitors']\n",
    "\n",
    "cumulative_data_a = cumulative_data[cumulative_data['group'] == 'A']\n",
    "\n",
    "cumulative_data_b = cumulative_data[cumulative_data['group'] == 'B']\n",
    "\n",
    "plt.figure(figsize=(15, 5))\n",
    "\n",
    "plt.plot(cumulative_data_a['date'], cumulative_data_a['avg_orders'], label='A')\n",
    "plt.plot(cumulative_data_b['date'], cumulative_data_b['avg_orders'], label='B')\n",
    "\n",
    "plt.legend()\n",
    "plt.grid()\n",
    "plt.title('График кумулятивного среднего количества заказов по группам')\n",
    "plt.xlabel('дата')\n",
    "plt.ylabel('кумулятивное среднее количество заказов');"
   ]
  },
  {
   "cell_type": "markdown",
   "metadata": {},
   "source": [
    "В начале теста сегмент \"А\" имел большее среднее количество заказов, но затем сегмент \"В\" 6 августа вырвался вперед и зафиксировался на примерном уровне 0.034. Сегмент \"А\" также стабилизировался на показателе 0.03. Вначале исследования оба сегмента показывали себя нестабильно, но затем стабилизировались."
   ]
  },
  {
   "cell_type": "markdown",
   "metadata": {},
   "source": [
    "### график относительного изменения кумулятивного среднего количества заказов группы B к группе A:"
   ]
  },
  {
   "cell_type": "code",
   "execution_count": 14,
   "metadata": {},
   "outputs": [
    {
     "data": {
      "image/png": "[encoded data removed]",
      "text/plain": [
       "<Figure size 1080x360 with 1 Axes>"
      ]
     },
     "metadata": {
      "needs_background": "light"
     },
     "output_type": "display_data"
    }
   ],
   "source": [
    "#строим таблицу кумулятивных данных групп\n",
    "merged_cumulative_conversions = (\n",
    "    cumulative_data_a[['date', 'avg_orders']]\n",
    "    .merge(cumulative_data_b[['date', 'avg_orders']], \n",
    "           left_on='date', \n",
    "           right_on='date', \n",
    "           how='left', \n",
    "           suffixes=['A', 'B']\n",
    "          )\n",
    ")\n",
    "\n",
    "plt.figure(figsize=(15, 5))\n",
    "\n",
    "plt.plot(\n",
    "    merged_cumulative_conversions['date'], \n",
    "    merged_cumulative_conversions['avg_ordersB'] / merged_cumulative_conversions['avg_ordersA'] - 1, \n",
    "    label='Относительный прирост среднего количетсва заказов группы B относительно группы A'\n",
    ")\n",
    "\n",
    "plt.legend()\n",
    "plt.axhline(y=0, color='black', linestyle='--')\n",
    "plt.axhline(y=0.138, color='grey', linestyle='--')\n",
    "plt.grid()\n",
    "plt.title('График относительного изменения кумулятивного среднего количества заказов группы B к группе A')\n",
    "plt.xlabel('дата')\n",
    "plt.ylabel('относительное изменение');"
   ]
  },
  {
   "cell_type": "markdown",
   "metadata": {},
   "source": [
    "Группа \"В\" почти сразу вышла в лидеры и показывает результаты на 13.8% лучше группы \"А\"."
   ]
  },
  {
   "cell_type": "markdown",
   "metadata": {},
   "source": [
    "### точечный график количества заказов по пользователям:"
   ]
  },
  {
   "cell_type": "code",
   "execution_count": 15,
   "metadata": {},
   "outputs": [
    {
     "data": {
      "image/png": "[encoded data removed]",
      "text/plain": [
       "<Figure size 1080x360 with 1 Axes>"
      ]
     },
     "metadata": {
      "needs_background": "light"
     },
     "output_type": "display_data"
    }
   ],
   "source": [
    "#создаем таблицу с пользоватлеями и их количеством заказов\n",
    "orders_by_users = (\n",
    "    orders.groupby('visitor_id', as_index=False)\n",
    "    .agg({'transaction_id': 'nunique'})\n",
    ")\n",
    "orders_by_users.columns = ['visitor_id', 'orders']\n",
    "\n",
    "#создаем переменную равную серии чисел от 0 до количества наблюдений в orders_вy_users\n",
    "x_values = pd.Series(range(0, len(orders_by_users)))\n",
    "\n",
    "#выводим график\n",
    "plt.figure(figsize=(15, 5))\n",
    "\n",
    "plt.scatter(x_values, orders_by_users['orders'])\n",
    "plt.title('Точечный график количества заказов по пользователям')\n",
    "plt.xlabel('количество наблюдений')\n",
    "plt.ylabel('количество заказов');"
   ]
  },
  {
   "cell_type": "markdown",
   "metadata": {},
   "source": [
    "По графику видим, что основная часть визиторов не делала заказ больше 2 раз."
   ]
  },
  {
   "cell_type": "markdown",
   "metadata": {},
   "source": [
    "### 95-й и 99-й перцентили количества заказов на пользователя:"
   ]
  },
  {
   "cell_type": "code",
   "execution_count": 16,
   "metadata": {},
   "outputs": [
    {
     "name": "stdout",
     "output_type": "stream",
     "text": [
      "95% пользователей совершили 2 и менее заказов\n",
      "\n",
      "99% пользователей совершили 4 и менее заказов\n"
     ]
    }
   ],
   "source": [
    "#методом percentile из библиотеки NumPy считаем перцентили\n",
    "print('95% пользователей совершили', round(np.percentile(orders_by_users['orders'], 95)), 'и менее заказов')\n",
    "print()\n",
    "print('99% пользователей совершили', round(np.percentile(orders_by_users['orders'], 99)), 'и менее заказов')"
   ]
  },
  {
   "cell_type": "markdown",
   "metadata": {},
   "source": [
    "Эти цифры подтверждают вывод выше: только 5% визиторов делали больше 2 закзов и только 1% больше 4. \n",
    "\n",
    "Следовательно, можем сделать вывод, что **совершение 3 и более заказов будем считатеть аномалией.**"
   ]
  },
  {
   "cell_type": "markdown",
   "metadata": {},
   "source": [
    "### точечный график стоимостей заказов:"
   ]
  },
  {
   "cell_type": "code",
   "execution_count": 17,
   "metadata": {},
   "outputs": [
    {
     "data": {
      "image/png": "[encoded data removed]",
      "text/plain": [
       "<Figure size 1080x360 with 1 Axes>"
      ]
     },
     "metadata": {
      "needs_background": "light"
     },
     "output_type": "display_data"
    }
   ],
   "source": [
    "#создаем переменную равную серии чисел от 0 до количества наблюдений в orders['revenue']\n",
    "x_values = pd.Series(range(0, len(orders['revenue'])))\n",
    "\n",
    "#выводим график\n",
    "plt.figure(figsize=(15, 5))\n",
    "\n",
    "plt.scatter(x_values, orders['revenue'])\n",
    "\n",
    "plt.ticklabel_format(axis='y', style='plain')\n",
    "plt.title('Точечный график cтоимостей заказов')\n",
    "plt.xlabel('количество наблюдений')\n",
    "plt.ylabel('стоимость заказа');"
   ]
  },
  {
   "cell_type": "markdown",
   "metadata": {},
   "source": [
    "По графику мы видим, что основная часть заказов находится около 0, из-за маштаба плохо видно, но мы рассмотрим этот график ближе ниже, а пока мы видим, что есть явные выбросы - заказ на 1.200.000."
   ]
  },
  {
   "cell_type": "code",
   "execution_count": 18,
   "metadata": {},
   "outputs": [
    {
     "data": {
      "image/png": "[encoded data removed]",
      "text/plain": [
       "<Figure size 1080x360 with 1 Axes>"
      ]
     },
     "metadata": {
      "needs_background": "light"
     },
     "output_type": "display_data"
    }
   ],
   "source": [
    "plt.figure(figsize=(15, 5))\n",
    "\n",
    "plt.scatter(x_values, orders['revenue'])\n",
    "\n",
    "plt.ticklabel_format(axis='y', style='plain')\n",
    "plt.title('Точечный график cтоимостей заказов')\n",
    "plt.xlabel('количество наблюдений')\n",
    "plt.ylabel('стоимость заказа')\n",
    "plt.ylim(0, 100000);"
   ]
  },
  {
   "cell_type": "markdown",
   "metadata": {},
   "source": [
    "Уменьшив маштаб, мы видим, что основная доля заказов не превышает по стоимости 30.000."
   ]
  },
  {
   "cell_type": "markdown",
   "metadata": {},
   "source": [
    "### 95-й и 99-й перцентили стоимости заказов:"
   ]
  },
  {
   "cell_type": "code",
   "execution_count": 19,
   "metadata": {},
   "outputs": [
    {
     "name": "stdout",
     "output_type": "stream",
     "text": [
      "95% заказов стоят менее 28000\n",
      "\n",
      "99% заказов стоят менее 58233\n"
     ]
    }
   ],
   "source": [
    "#методом percentile из библиотеки NumPy считаем перцентили\n",
    "print('95% заказов стоят менее', round(np.percentile(orders['revenue'], 95)))\n",
    "print()\n",
    "print('99% заказов стоят менее', round(np.percentile(orders['revenue'], 99)))"
   ]
  },
  {
   "cell_type": "markdown",
   "metadata": {},
   "source": [
    "По цифрам мы видим, что основные заказы приходятся на стоимость до 28.000, больше этой суммы заказывает только 5% пользователей и 1% заказывает на суммы более 58.000. Наши выводы выше также подтвердились!\n",
    "\n",
    "**Будем считать, что стоимость заказа более 28.000 является аномалией.**"
   ]
  },
  {
   "cell_type": "markdown",
   "metadata": {},
   "source": [
    "### подготовка данных к расчету статестически значимых различий:"
   ]
  },
  {
   "cell_type": "code",
   "execution_count": 20,
   "metadata": {},
   "outputs": [],
   "source": [
    "#создаем таблицу с дневным посещением для группы А\n",
    "visitors_a_daily = visitors[visitors['group'] == 'A'][['date', 'visitors']]\n",
    "visitors_a_daily.columns = ['date', 'visitors_per_date_a']\n",
    "\n",
    "#создаем таблицу с дневным кумулятивным посещением для группы А\n",
    "visitors_a_cummulative = visitors_a_daily.apply(\n",
    "    lambda x: visitors_a_daily[visitors_a_daily['date'] <= x['date']].agg(\n",
    "        {'date': 'max', 'visitors_per_date_a': 'sum'}\n",
    "    ),\n",
    "    axis=1,\n",
    ")\n",
    "visitors_a_cummulative.columns = ['date', 'visitors_cummulative_a']\n",
    "\n",
    "#создаем таблицу с дневным посещением для группы B\n",
    "visitors_b_daily = visitors[visitors['group'] == 'B'][['date', 'visitors']]\n",
    "visitors_b_daily.columns = ['date', 'visitors_per_date_b']\n",
    "\n",
    "#создаем таблицу с дневным кумулятвным посещением для группы B\n",
    "visitors_b_cummulative = visitors_b_daily.apply(\n",
    "    lambda x: visitors_b_daily[visitors_b_daily['date'] <= x['date']].agg(\n",
    "        {'date': 'max', 'visitors_per_date_b': 'sum'}\n",
    "    ),\n",
    "    axis=1,\n",
    ")\n",
    "visitors_b_cummulative.columns = ['date', 'visitors_cummulative_b']\n",
    "\n",
    "#создаем таблицу с дневным количеством заказов для группы А\n",
    "orders_a_daily = (\n",
    "    orders[orders['group'] == 'A'][['date', 'transaction_id', 'visitor_id', 'revenue']]\n",
    "    .groupby('date', as_index=False)\n",
    "    .agg({'transaction_id': pd.Series.nunique, 'revenue': 'sum'})\n",
    ")\n",
    "orders_a_daily.columns = ['date', 'orders_per_date_a', 'revenue_per_date_a']\n",
    "\n",
    "#создаем таблицу с дневным кумулятивным количеством заказов для группы А\n",
    "orders_a_cummulative = orders_a_daily.apply(\n",
    "    lambda x: orders_a_daily[orders_a_daily['date'] <= x['date']].agg(\n",
    "        {'date': 'max', 'orders_per_date_a': 'sum', 'revenue_per_date_a': 'sum'}\n",
    "    ),\n",
    "    axis=1,\n",
    ").sort_values(by=['date'])\n",
    "orders_a_cummulative.columns = [\n",
    "    'date',\n",
    "    'orders_cummulative_a',\n",
    "    'revenue_cummulative_a',\n",
    "]\n",
    "\n",
    "#создаем таблицу с дневным количеством заказов для группы В\n",
    "orders_b_daily = (\n",
    "    orders[orders['group'] == 'B'][['date', 'transaction_id', 'visitor_id', 'revenue']]\n",
    "    .groupby('date', as_index=False)\n",
    "    .agg({'transaction_id': pd.Series.nunique, 'revenue': 'sum'})\n",
    ")\n",
    "orders_b_daily.columns = ['date', 'orders_per_date_b', 'revenue_per_date_b']\n",
    "\n",
    "#создаем таблицу с дневным кумулятивным количеством заказов для группы В\n",
    "orders_b_cummulative = orders_b_daily.apply(\n",
    "    lambda x: orders_b_daily[orders_b_daily['date'] <= x['date']].agg(\n",
    "        {'date': 'max', 'orders_per_date_b': 'sum', 'revenue_per_date_b': 'sum'}\n",
    "    ),\n",
    "    axis=1,\n",
    ").sort_values(by=['date'])\n",
    "orders_b_cummulative.columns = [\n",
    "    'date',\n",
    "    'orders_cummulative_b',\n",
    "    'revenue_cummulative_b',\n",
    "]\n",
    "\n",
    "#Объединяем все данные в одну таблицу\n",
    "data = (\n",
    "    orders_a_daily.merge(\n",
    "        orders_b_daily, left_on='date', right_on='date', how='left'\n",
    "    )\n",
    "    .merge(orders_a_cummulative, left_on='date', right_on='date', how='left')\n",
    "    .merge(orders_b_cummulative, left_on='date', right_on='date', how='left')\n",
    "    .merge(visitors_a_daily, left_on='date', right_on='date', how='left')\n",
    "    .merge(visitors_b_daily, left_on='date', right_on='date', how='left')\n",
    "    .merge(visitors_a_cummulative, left_on='date', right_on='date', how='left')\n",
    "    .merge(visitors_b_cummulative, left_on='date', right_on='date', how='left')\n",
    ")\n",
    "\n",
    "#считаем заказы по юзерам для группы А\n",
    "orders_by_users_a = (\n",
    "    orders[orders['group'] == 'A']\n",
    "    .groupby('visitor_id', as_index=False)\n",
    "    .agg({'transaction_id' : pd.Series.nunique})\n",
    ")\n",
    "\n",
    "orders_by_users_a.columns = ['user_id', 'orders']\n",
    "\n",
    "#считаем заказы по юзерам для группы А\n",
    "orders_by_users_b = (\n",
    "    orders[orders['group'] == 'B']\n",
    "    .groupby('visitor_id', as_index=False)\n",
    "    .agg({'transaction_id' : pd.Series.nunique})\n",
    ")\n",
    "\n",
    "orders_by_users_b.columns = ['user_id', 'orders']\n",
    "\n",
    "#переменная, в которой пользователям из группы А будет соответствовать количество заказов\n",
    "sample_a = pd.concat(\n",
    "    [\n",
    "        orders_by_users_a['orders'], \n",
    "        pd.Series(\n",
    "            0, \n",
    "            index=np.arange(\n",
    "                data['visitors_per_date_a'].sum() - len(orders_by_users_a['orders'])\n",
    "            ), \n",
    "            name='orders',\n",
    "        ),\n",
    "    ], \n",
    "    axis=0,\n",
    ")\n",
    "\n",
    "#переменная, в которой пользователям из группы В будет соответствовать количество заказов\n",
    "sample_b = pd.concat(\n",
    "    [\n",
    "        orders_by_users_b['orders'], \n",
    "        pd.Series(\n",
    "            0, \n",
    "            index=np.arange(\n",
    "                data['visitors_per_date_b'].sum() - len(orders_by_users_b['orders'])\n",
    "            ), \n",
    "            name='orders',\n",
    "        ),\n",
    "    ], \n",
    "    axis=0,\n",
    ")"
   ]
  },
  {
   "cell_type": "markdown",
   "metadata": {},
   "source": [
    "Сформулируем гипотезы, которые будем проверять ниже:\n",
    "\n",
    "Н0: между группами \"А\" и \"В\" нет статестических важных различий в среднем количестве заказов и в среднем чеке заказа\n",
    "\n",
    "Н1: между группами \"А\" и \"В\" есть статестически важные различия в среднем количестве заказов и в среднем чеке заказа"
   ]
  },
  {
   "cell_type": "markdown",
   "metadata": {},
   "source": [
    "### статистическая значимость различий в среднем количестве заказов между группами по «сырым» данным:"
   ]
  },
  {
   "cell_type": "markdown",
   "metadata": {},
   "source": [
    "Сделаем несколько ремарок, далее в исселодовании везде будут применятся такие параметры:\n",
    "\n",
    "1. уровень alpha установим равный 0.05;\n",
    "\n",
    "2. в ходе исследования будем пользоваться статистическим U-критерием Манна-Уитни."
   ]
  },
  {
   "cell_type": "markdown",
   "metadata": {},
   "source": [
    "Сформулируем гипотезы, которые будем проверять ниже (по сырым данным):\n",
    "\n",
    "Н0: между группами \"А\" и \"В\" нет статестических важных различий в среднем количестве заказов\n",
    "\n",
    "Н1: между группами \"А\" и \"В\" есть статестически важные различия в среднем количестве заказов"
   ]
  },
  {
   "cell_type": "code",
   "execution_count": 21,
   "metadata": {},
   "outputs": [],
   "source": [
    "alpha = .05\n",
    "\n",
    "results = stats.mannwhitneyu(sample_a, sample_b)"
   ]
  },
  {
   "cell_type": "code",
   "execution_count": 22,
   "metadata": {},
   "outputs": [
    {
     "name": "stdout",
     "output_type": "stream",
     "text": [
      "p-значение:  0.017\n",
      "Отвергаем нулевую гипотезу: разница статистически значима\n",
      "\n",
      "Относительная победа группы \"В\" равна: 0.138\n"
     ]
    }
   ],
   "source": [
    "#выводим p-value и отношение среднего количества заказов\n",
    "print('p-значение: ', round(results.pvalue, 3))\n",
    "\n",
    "if results.pvalue < alpha:\n",
    "    print('Отвергаем нулевую гипотезу: разница статистически значима')\n",
    "else:\n",
    "    print(\n",
    "        'Не получилось отвергнуть нулевую гипотезу, вывод о различии сделать нельзя'\n",
    "    ) \n",
    "print()    \n",
    "print('Относительная победа группы \"В\" равна:', \"{0:.3f}\".format(sample_b.mean() / sample_a.mean() - 1))"
   ]
  },
  {
   "cell_type": "markdown",
   "metadata": {},
   "source": [
    "Данные цифры нам говорят, что в среднем количестве заказов между группами есть статестически значимые различия, а среднее количество заказов группы \"В\" по отношению к группе \"А\" на 13.8% выше, что тоже является подтверждением наших выводов выше."
   ]
  },
  {
   "cell_type": "markdown",
   "metadata": {},
   "source": [
    "### статистическая значимость различий в среднем чеке заказа между группами по «сырым» данным:"
   ]
  },
  {
   "cell_type": "markdown",
   "metadata": {},
   "source": [
    "Сформулируем гипотезы, которые будем проверять ниже (по сырым данным):\n",
    "\n",
    "Н0: между группами \"А\" и \"В\" нет статестических важных различий в среднем чеке заказа\n",
    "\n",
    "Н1: между группами \"А\" и \"В\" есть статестически важные различия в среднем чеке заказа"
   ]
  },
  {
   "cell_type": "code",
   "execution_count": 23,
   "metadata": {},
   "outputs": [],
   "source": [
    "results = stats.mannwhitneyu(\n",
    "    orders[orders['group'] == 'A']['revenue'], \n",
    "    orders[orders['group'] == 'B']['revenue']\n",
    ")"
   ]
  },
  {
   "cell_type": "code",
   "execution_count": 24,
   "metadata": {},
   "outputs": [
    {
     "name": "stdout",
     "output_type": "stream",
     "text": [
      "p-значение:  0.729\n",
      "Не получилось отвергнуть нулевую гипотезу, вывод о различии сделать нельзя\n",
      "\n",
      "Относительная победа группы \"В\" над группой \"А\" равна: 0.259\n"
     ]
    }
   ],
   "source": [
    "#выводим p-value и различие в среднем чеке заказа\n",
    "print('p-значение: ', round(results.pvalue, 3))\n",
    "\n",
    "if results.pvalue < alpha:\n",
    "    print('Отвергаем нулевую гипотезу: разница статистически значима')\n",
    "else:\n",
    "    print(\n",
    "        'Не получилось отвергнуть нулевую гипотезу, вывод о различии сделать нельзя'\n",
    "    ) \n",
    "print()\n",
    "print(\n",
    "    'Относительная победа группы \"В\" над группой \"А\" равна:',\n",
    "    '{0:.3f}'.format(orders[orders['group'] == 'B']['revenue']\n",
    "    .mean() / orders[orders['group'] == 'A']['revenue'].mean() - 1)\n",
    ")"
   ]
  },
  {
   "cell_type": "markdown",
   "metadata": {},
   "source": [
    "p-value сильно больше 0.05, значит, что различий в среднем чеке между группами нет. А наблюдаемое превышение среднего чека группы \"В\" на почти 26% выше среднего чека группы \"А\" не является значимым, было получено случайно. "
   ]
  },
  {
   "cell_type": "markdown",
   "metadata": {},
   "source": [
    "### очистка данных от выбросов:"
   ]
  },
  {
   "cell_type": "markdown",
   "metadata": {},
   "source": [
    "Основываясь на данных, полученных выше, принимаем аномальными значениями:\n",
    "\n",
    "1. количество заказов равное 3 и выше;\n",
    "2. стоимость заказа более 28.000."
   ]
  },
  {
   "cell_type": "code",
   "execution_count": 25,
   "metadata": {},
   "outputs": [],
   "source": [
    "#создаем таблицу с юзерами, у которых более 2 заказов\n",
    "users_with_many_orders = pd.concat(\n",
    "    [\n",
    "        orders_by_users_a[orders_by_users_a['orders'] > np.percentile(orders_by_users['orders'], 95)]['user_id'],\n",
    "        orders_by_users_b[orders_by_users_b['orders'] > np.percentile(orders_by_users['orders'], 95)]['user_id'],\n",
    "    ],\n",
    "    axis=0,\n",
    ")\n",
    "\n",
    "#создаем таблицу с юзерами, у которых стоимость заказа более 28000\n",
    "users_with_expensive_orders = orders[orders['revenue'] > (np.percentile(orders['revenue'], 95))]['visitor_id']\n",
    "\n",
    "#объединяем таблицы\n",
    "a_b_normal_users = (\n",
    "    pd.concat([users_with_many_orders, users_with_expensive_orders], axis=0)\n",
    "    .drop_duplicates()\n",
    "    .sort_values()\n",
    ")"
   ]
  },
  {
   "cell_type": "code",
   "execution_count": 26,
   "metadata": {},
   "outputs": [],
   "source": [
    "#создаем отфильтрованные таблицы двух групп\n",
    "sample_a_filtered = pd.concat(\n",
    "    [\n",
    "        orders_by_users_a[\n",
    "            np.logical_not(orders_by_users_a['user_id'].isin(a_b_normal_users))\n",
    "        ]['orders'],\n",
    "        pd.Series(\n",
    "            0,\n",
    "            index=np.arange(\n",
    "                data['visitors_per_date_a'].sum() - len(orders_by_users_a['orders'])\n",
    "            ),\n",
    "            name='orders',\n",
    "        ),\n",
    "    ],\n",
    "    axis=0,\n",
    ")\n",
    "\n",
    "sample_b_filtered = pd.concat(\n",
    "    [\n",
    "        orders_by_users_b[\n",
    "            np.logical_not(orders_by_users_b['user_id'].isin(a_b_normal_users))\n",
    "        ]['orders'],\n",
    "        pd.Series(\n",
    "            0,\n",
    "            index=np.arange(\n",
    "                data['visitors_per_date_b'].sum() - len(orders_by_users_b['orders'])\n",
    "            ),\n",
    "            name='orders',\n",
    "        ),\n",
    "    ],\n",
    "    axis=0,\n",
    ")"
   ]
  },
  {
   "cell_type": "markdown",
   "metadata": {},
   "source": [
    "### статистическая значимость различий в среднем количестве заказов между группами по «очищенным» данным:"
   ]
  },
  {
   "cell_type": "markdown",
   "metadata": {},
   "source": [
    "Сформулируем гипотезы, которые будем проверять ниже (по очищенным данным):\n",
    "\n",
    "Н0: между группами \"А\" и \"В\" нет статестических важных различий в среднем количестве заказов\n",
    "\n",
    "Н1: между группами \"А\" и \"В\" есть статестически важные различия в среднем количестве заказов"
   ]
  },
  {
   "cell_type": "code",
   "execution_count": 27,
   "metadata": {},
   "outputs": [],
   "source": [
    "results = stats.mannwhitneyu(sample_a_filtered, sample_b_filtered)"
   ]
  },
  {
   "cell_type": "code",
   "execution_count": 28,
   "metadata": {},
   "outputs": [
    {
     "name": "stdout",
     "output_type": "stream",
     "text": [
      "p-значение:  0.013\n",
      "Отвергаем нулевую гипотезу: разница статистически значима\n",
      "\n",
      "Относительная победа группы \"В\" равна: 0.173\n"
     ]
    }
   ],
   "source": [
    "print('p-значение: ', round(results.pvalue, 3))\n",
    "\n",
    "if results.pvalue < alpha:\n",
    "    print('Отвергаем нулевую гипотезу: разница статистически значима')\n",
    "else:\n",
    "    print(\n",
    "        'Не получилось отвергнуть нулевую гипотезу, вывод о различии сделать нельзя'\n",
    "    ) \n",
    "print()\n",
    "\n",
    "print('Относительная победа группы \"В\" равна:', '{0:.3f}'.format(sample_b_filtered.mean() / sample_a_filtered.mean() - 1))"
   ]
  },
  {
   "cell_type": "markdown",
   "metadata": {},
   "source": [
    "Очистка данных сделала ситуацию еще лучше. Статистическая значимость достигнута, значит, сегмент \"В\" по среднему количеству заказов лучше сегмента \"А\" (причем на 17.3%)."
   ]
  },
  {
   "cell_type": "markdown",
   "metadata": {},
   "source": [
    "### статистическая значимость различий в среднем чеке заказа между группами по «очищенным» данным:"
   ]
  },
  {
   "cell_type": "markdown",
   "metadata": {},
   "source": [
    "Сформулируем гипотезы, которые будем проверять ниже (по очищенным данным):\n",
    "\n",
    "Н0: между группами \"А\" и \"В\" нет статестических важных различий в среднем чеке заказа\n",
    "\n",
    "Н1: между группами \"А\" и \"В\" есть статестически важные различия в среднем чеке заказа"
   ]
  },
  {
   "cell_type": "code",
   "execution_count": 29,
   "metadata": {},
   "outputs": [],
   "source": [
    "results = stats.mannwhitneyu(\n",
    "    orders[\n",
    "        np.logical_and(\n",
    "            orders['group'] == 'A',\n",
    "            np.logical_not(orders['visitor_id'].isin(a_b_normal_users)),\n",
    "        )\n",
    "    ]['revenue'],\n",
    "    orders[\n",
    "         np.logical_and(\n",
    "              orders['group'] == 'B',\n",
    "              np.logical_not(orders['visitor_id'].isin(a_b_normal_users)),\n",
    "       )\n",
    "     ]['revenue'],\n",
    " )"
   ]
  },
  {
   "cell_type": "code",
   "execution_count": 30,
   "metadata": {},
   "outputs": [
    {
     "name": "stdout",
     "output_type": "stream",
     "text": [
      "p-значение:  0.738\n",
      "Не получилось отвергнуть нулевую гипотезу, вывод о различии сделать нельзя\n",
      "\n",
      "Относительная победа группы \"В\" над группой \"А\" равна: -0.020\n"
     ]
    }
   ],
   "source": [
    "print('p-значение: ', round(results.pvalue, 3))\n",
    "\n",
    "if results.pvalue < alpha:\n",
    "    print('Отвергаем нулевую гипотезу: разница статистически значима')\n",
    "else:\n",
    "    print(\n",
    "        'Не получилось отвергнуть нулевую гипотезу, вывод о различии сделать нельзя'\n",
    "    ) \n",
    "print()\n",
    "\n",
    "print(\n",
    "    'Относительная победа группы \"В\" над группой \"А\" равна:',\n",
    "    '{0:.3f}'.format(\n",
    "        orders[\n",
    "            np.logical_and(\n",
    "                orders['group'] == 'B',\n",
    "                np.logical_not(orders['visitor_id'].isin(a_b_normal_users)),\n",
    "            )\n",
    "        ]['revenue'].mean()\n",
    "        / orders[\n",
    "            np.logical_and(\n",
    "                orders['group'] == 'A',\n",
    "                np.logical_not(orders['visitor_id'].isin(a_b_normal_users)),\n",
    "            )\n",
    "        ]['revenue'].mean()\n",
    "        - 1\n",
    "    )\n",
    ")"
   ]
  },
  {
   "cell_type": "markdown",
   "metadata": {},
   "source": [
    "Видим как фильтрация изменила наши данные, в общем плане ничего не изменилось, но средний чек заказа группы \"В\" стал на 2% хуже чем у группы \"А\". Но гипотеза о том, что это никак не влияет на статистиу подтвердилась - мы не можем сделать выводы о различии двух групп по этому критерию."
   ]
  },
  {
   "cell_type": "markdown",
   "metadata": {},
   "source": [
    "## Принятие решения по результатам теста"
   ]
  },
  {
   "cell_type": "markdown",
   "metadata": {},
   "source": [
    "Исходя из имеющихся фактов:\n",
    "\n",
    "1. есть статистически значимое различие в среднем количестве заказов между группами как по сырым данным, так и после фильтрации аномалий;\n",
    "\n",
    "2. нет статистически значимого различия в среднем чеке заказа между группами как по сырым данным, так и после фильтрации аномалий;\n",
    "\n",
    "3. график относительного изменения кумулятивного среднего количества заказов между группами сообщает, что результаты группы B лучше группы A: имеют тенденцию к росту, либо зафиксировались около среднего значения;\n",
    "\n",
    "4. график различия среднего чека колеблется - сделать из этого графика определённые выводы нельзя (после фильтрации значения сильно изменлись).\n",
    "\n",
    "Исходя из всего выше перечисленного делаем вывод, что группа \"В\" является победителем и **принимаем решение: остановить тест и признать его успешным!**"
   ]
  },
  {
   "cell_type": "markdown",
   "metadata": {},
   "source": [
    "## Вывод"
   ]
  },
  {
   "cell_type": "markdown",
   "metadata": {},
   "source": [
    "1. Вначале исследования мы произвели проверку гипотез с помощью фреймворков `ICE` и `RICE` и пришли к выводу, что гипотеза с ID номером 7 достаточно перспективная: у нее хороший охват и совсем небольшие затраты;\n",
    "\n",
    "2. Далее мы перешли к проверке результатов А/В теста:\n",
    "\n",
    "    * мы построили графики и увидели, что показатели группы \"В\" лучше показателей группы \"А\" (кумулятивный чек, кумулятивная выручка, кумулятивное среднее количество заказов выше у группы \"В\");\n",
    "    * обнаружили странности со средним чеком группы \"В\" и произвели очитску от аномальных значений;\n",
    "    * после проведения фильтрации наши выводы почти не изменились, но было выявлено, что у группы \"В\" средний чек на 2% хуже, чем у группы \"А\", но это не повлияло на общие результаты теста;\n",
    "    \n",
    "3. По итогам теста группа \"В\" показала результаты, а именно:\n",
    "    \n",
    "    * среднее количество заказов у группы \"В\" выше, чем у группы \"А\" на 17%;\n",
    "    * средний чек после фильтрации данных на 2% хуже, чем у группы \"А\", но этот показатель не имеет статестической значимости\n",
    "\n",
    "и было принято решение завершить тестирование и признать его успешным."
   ]
  }
 ],
 "metadata": {
  "ExecuteTimeLog": [
   {
    "duration": 8,
    "start_time": "2022-12-01T18:12:20.072Z"
   },
   {
    "duration": 4,
    "start_time": "2022-12-01T18:12:24.137Z"
   },
   {
    "duration": 370,
    "start_time": "2022-12-01T18:14:43.892Z"
   },
   {
    "duration": 62,
    "start_time": "2022-12-01T18:15:43.579Z"
   },
   {
    "duration": 3,
    "start_time": "2022-12-01T18:15:45.796Z"
   },
   {
    "duration": 78,
    "start_time": "2022-12-01T18:15:46.471Z"
   },
   {
    "duration": 36,
    "start_time": "2022-12-01T18:15:56.660Z"
   },
   {
    "duration": 30,
    "start_time": "2022-12-01T18:16:07.608Z"
   },
   {
    "duration": 94,
    "start_time": "2022-12-01T18:17:00.451Z"
   },
   {
    "duration": 81,
    "start_time": "2022-12-01T18:17:36.627Z"
   },
   {
    "duration": 4,
    "start_time": "2022-12-01T18:18:32.743Z"
   },
   {
    "duration": 3,
    "start_time": "2022-12-01T18:18:43.351Z"
   },
   {
    "duration": 7,
    "start_time": "2022-12-01T18:18:47.256Z"
   },
   {
    "duration": 7,
    "start_time": "2022-12-01T18:18:58.177Z"
   },
   {
    "duration": 7,
    "start_time": "2022-12-01T18:19:17.090Z"
   },
   {
    "duration": 7,
    "start_time": "2022-12-01T18:20:50.988Z"
   },
   {
    "duration": 7,
    "start_time": "2022-12-01T18:21:11.642Z"
   },
   {
    "duration": 7,
    "start_time": "2022-12-01T18:21:32.045Z"
   },
   {
    "duration": 28,
    "start_time": "2022-12-01T18:21:50.664Z"
   },
   {
    "duration": 30,
    "start_time": "2022-12-01T18:21:56.231Z"
   },
   {
    "duration": 7,
    "start_time": "2022-12-01T18:21:57.914Z"
   },
   {
    "duration": 5,
    "start_time": "2022-12-01T18:22:05.067Z"
   },
   {
    "duration": 86,
    "start_time": "2022-12-01T18:23:43.421Z"
   },
   {
    "duration": 350,
    "start_time": "2022-12-01T18:23:57.087Z"
   },
   {
    "duration": 92,
    "start_time": "2022-12-01T18:23:57.439Z"
   },
   {
    "duration": 59,
    "start_time": "2022-12-01T18:23:57.533Z"
   },
   {
    "duration": 85,
    "start_time": "2022-12-01T18:25:47.234Z"
   },
   {
    "duration": 27,
    "start_time": "2022-12-01T18:26:20.217Z"
   },
   {
    "duration": 4,
    "start_time": "2022-12-01T18:35:21.620Z"
   },
   {
    "duration": 9,
    "start_time": "2022-12-01T18:35:26.493Z"
   },
   {
    "duration": 10,
    "start_time": "2022-12-01T18:38:52.572Z"
   },
   {
    "duration": 381,
    "start_time": "2022-12-01T18:40:37.352Z"
   },
   {
    "duration": 87,
    "start_time": "2022-12-01T18:40:37.736Z"
   },
   {
    "duration": 0,
    "start_time": "2022-12-01T18:40:37.824Z"
   },
   {
    "duration": 0,
    "start_time": "2022-12-01T18:40:37.826Z"
   },
   {
    "duration": 0,
    "start_time": "2022-12-01T18:40:37.827Z"
   },
   {
    "duration": 390,
    "start_time": "2022-12-01T18:40:57.048Z"
   },
   {
    "duration": 91,
    "start_time": "2022-12-01T18:40:57.439Z"
   },
   {
    "duration": 26,
    "start_time": "2022-12-01T18:40:57.531Z"
   },
   {
    "duration": 7,
    "start_time": "2022-12-01T18:40:57.558Z"
   },
   {
    "duration": 5,
    "start_time": "2022-12-01T18:40:57.568Z"
   },
   {
    "duration": 7,
    "start_time": "2022-12-01T18:42:09.203Z"
   },
   {
    "duration": 6,
    "start_time": "2022-12-01T18:45:50.396Z"
   },
   {
    "duration": 28,
    "start_time": "2022-12-01T18:46:30.749Z"
   },
   {
    "duration": 10,
    "start_time": "2022-12-01T18:47:16.911Z"
   },
   {
    "duration": 15,
    "start_time": "2022-12-01T18:49:45.351Z"
   },
   {
    "duration": 68,
    "start_time": "2022-12-01T18:49:53.351Z"
   },
   {
    "duration": 74,
    "start_time": "2022-12-01T18:50:06.192Z"
   },
   {
    "duration": 11,
    "start_time": "2022-12-01T18:50:11.316Z"
   },
   {
    "duration": 8,
    "start_time": "2022-12-01T18:50:18.153Z"
   },
   {
    "duration": 13,
    "start_time": "2022-12-01T18:50:41.143Z"
   },
   {
    "duration": 8,
    "start_time": "2022-12-01T18:50:46.905Z"
   },
   {
    "duration": 27,
    "start_time": "2022-12-01T18:51:17.853Z"
   },
   {
    "duration": 31,
    "start_time": "2022-12-01T18:51:22.713Z"
   },
   {
    "duration": 24,
    "start_time": "2022-12-01T18:51:31.383Z"
   },
   {
    "duration": 32,
    "start_time": "2022-12-01T18:51:35.926Z"
   },
   {
    "duration": 52,
    "start_time": "2022-12-02T12:00:39.617Z"
   },
   {
    "duration": 472,
    "start_time": "2022-12-02T12:01:59.536Z"
   },
   {
    "duration": 244,
    "start_time": "2022-12-02T12:02:00.011Z"
   },
   {
    "duration": 29,
    "start_time": "2022-12-02T12:02:00.257Z"
   },
   {
    "duration": 29,
    "start_time": "2022-12-02T12:02:00.288Z"
   },
   {
    "duration": 26,
    "start_time": "2022-12-02T12:02:00.319Z"
   },
   {
    "duration": 35,
    "start_time": "2022-12-02T12:02:00.347Z"
   },
   {
    "duration": 61,
    "start_time": "2022-12-02T12:02:00.384Z"
   },
   {
    "duration": 75,
    "start_time": "2022-12-02T12:02:00.446Z"
   },
   {
    "duration": 13,
    "start_time": "2022-12-02T12:02:43.657Z"
   },
   {
    "duration": 12,
    "start_time": "2022-12-02T12:04:29.696Z"
   },
   {
    "duration": 31,
    "start_time": "2022-12-02T12:05:20.847Z"
   },
   {
    "duration": 28,
    "start_time": "2022-12-02T12:11:52.201Z"
   },
   {
    "duration": 429,
    "start_time": "2022-12-02T12:12:02.337Z"
   },
   {
    "duration": 96,
    "start_time": "2022-12-02T12:12:02.768Z"
   },
   {
    "duration": 30,
    "start_time": "2022-12-02T12:12:02.866Z"
   },
   {
    "duration": 28,
    "start_time": "2022-12-02T12:12:02.898Z"
   },
   {
    "duration": 17,
    "start_time": "2022-12-02T12:12:02.928Z"
   },
   {
    "duration": 30,
    "start_time": "2022-12-02T12:12:02.947Z"
   },
   {
    "duration": 54,
    "start_time": "2022-12-02T12:12:02.979Z"
   },
   {
    "duration": 29,
    "start_time": "2022-12-02T12:12:03.035Z"
   },
   {
    "duration": 55,
    "start_time": "2022-12-03T17:08:18.878Z"
   },
   {
    "duration": 411,
    "start_time": "2022-12-03T17:16:50.660Z"
   },
   {
    "duration": 248,
    "start_time": "2022-12-03T17:16:51.073Z"
   },
   {
    "duration": 25,
    "start_time": "2022-12-03T17:16:51.322Z"
   },
   {
    "duration": 7,
    "start_time": "2022-12-03T17:16:51.348Z"
   },
   {
    "duration": 6,
    "start_time": "2022-12-03T17:16:51.357Z"
   },
   {
    "duration": 14,
    "start_time": "2022-12-03T17:16:51.365Z"
   },
   {
    "duration": 27,
    "start_time": "2022-12-03T17:16:51.380Z"
   },
   {
    "duration": 24,
    "start_time": "2022-12-03T17:16:51.409Z"
   },
   {
    "duration": 100,
    "start_time": "2022-12-03T17:16:51.434Z"
   },
   {
    "duration": 773,
    "start_time": "2022-12-03T17:17:40.645Z"
   },
   {
    "duration": 92,
    "start_time": "2022-12-03T17:17:41.420Z"
   },
   {
    "duration": 27,
    "start_time": "2022-12-03T17:17:41.514Z"
   },
   {
    "duration": 7,
    "start_time": "2022-12-03T17:17:41.543Z"
   },
   {
    "duration": 7,
    "start_time": "2022-12-03T17:17:41.552Z"
   },
   {
    "duration": 10,
    "start_time": "2022-12-03T17:17:41.561Z"
   },
   {
    "duration": 24,
    "start_time": "2022-12-03T17:17:41.578Z"
   },
   {
    "duration": 21,
    "start_time": "2022-12-03T17:17:41.604Z"
   },
   {
    "duration": 108,
    "start_time": "2022-12-03T17:17:41.627Z"
   },
   {
    "duration": 504,
    "start_time": "2022-12-03T17:18:38.858Z"
   },
   {
    "duration": 443,
    "start_time": "2022-12-03T17:20:59.978Z"
   },
   {
    "duration": 438,
    "start_time": "2022-12-03T17:22:02.611Z"
   },
   {
    "duration": 483,
    "start_time": "2022-12-03T17:22:19.625Z"
   },
   {
    "duration": 419,
    "start_time": "2022-12-03T17:23:01.791Z"
   },
   {
    "duration": 508,
    "start_time": "2022-12-03T17:23:12.305Z"
   },
   {
    "duration": 533,
    "start_time": "2022-12-03T17:23:43.169Z"
   },
   {
    "duration": 560,
    "start_time": "2022-12-03T17:23:54.741Z"
   },
   {
    "duration": 532,
    "start_time": "2022-12-03T17:24:00.897Z"
   },
   {
    "duration": 437,
    "start_time": "2022-12-03T17:24:07.409Z"
   },
   {
    "duration": 457,
    "start_time": "2022-12-03T17:25:16.851Z"
   },
   {
    "duration": 526,
    "start_time": "2022-12-03T17:26:11.768Z"
   },
   {
    "duration": 502,
    "start_time": "2022-12-03T17:26:44.239Z"
   },
   {
    "duration": 560,
    "start_time": "2022-12-03T17:26:53.808Z"
   },
   {
    "duration": 633,
    "start_time": "2022-12-03T17:27:32.812Z"
   },
   {
    "duration": 495,
    "start_time": "2022-12-03T17:27:40.827Z"
   },
   {
    "duration": 489,
    "start_time": "2022-12-03T17:27:51.268Z"
   },
   {
    "duration": 165,
    "start_time": "2022-12-03T17:29:40.625Z"
   },
   {
    "duration": 178,
    "start_time": "2022-12-03T17:29:44.935Z"
   },
   {
    "duration": 6,
    "start_time": "2022-12-03T17:30:24.100Z"
   },
   {
    "duration": 4,
    "start_time": "2022-12-03T17:30:38.953Z"
   },
   {
    "duration": 190,
    "start_time": "2022-12-03T17:31:00.904Z"
   },
   {
    "duration": 216,
    "start_time": "2022-12-03T17:31:35.594Z"
   },
   {
    "duration": 209,
    "start_time": "2022-12-03T17:31:51.323Z"
   },
   {
    "duration": 345,
    "start_time": "2022-12-03T17:41:04.656Z"
   },
   {
    "duration": 289,
    "start_time": "2022-12-03T17:41:25.713Z"
   },
   {
    "duration": 297,
    "start_time": "2022-12-03T17:41:32.937Z"
   },
   {
    "duration": 390,
    "start_time": "2022-12-03T17:41:48.634Z"
   },
   {
    "duration": 322,
    "start_time": "2022-12-03T17:43:43.301Z"
   },
   {
    "duration": 344,
    "start_time": "2022-12-03T17:43:56.304Z"
   },
   {
    "duration": 326,
    "start_time": "2022-12-03T17:44:06.233Z"
   },
   {
    "duration": 202,
    "start_time": "2022-12-03T17:51:54.629Z"
   },
   {
    "duration": 190,
    "start_time": "2022-12-03T17:52:09.906Z"
   },
   {
    "duration": 244,
    "start_time": "2022-12-03T17:53:17.898Z"
   },
   {
    "duration": 250,
    "start_time": "2022-12-03T17:54:07.673Z"
   },
   {
    "duration": 445,
    "start_time": "2022-12-03T17:55:31.673Z"
   },
   {
    "duration": 357,
    "start_time": "2022-12-03T17:56:35.541Z"
   },
   {
    "duration": 324,
    "start_time": "2022-12-03T17:56:59.570Z"
   },
   {
    "duration": 436,
    "start_time": "2022-12-03T17:57:50.129Z"
   },
   {
    "duration": 380,
    "start_time": "2022-12-03T17:58:00.450Z"
   },
   {
    "duration": 367,
    "start_time": "2022-12-03T17:58:30.076Z"
   },
   {
    "duration": 338,
    "start_time": "2022-12-03T17:59:05.904Z"
   },
   {
    "duration": 339,
    "start_time": "2022-12-03T18:00:29.399Z"
   },
   {
    "duration": 353,
    "start_time": "2022-12-03T18:00:34.201Z"
   },
   {
    "duration": 344,
    "start_time": "2022-12-03T18:00:39.239Z"
   },
   {
    "duration": 239,
    "start_time": "2022-12-03T18:12:38.415Z"
   },
   {
    "duration": 256,
    "start_time": "2022-12-03T18:13:11.400Z"
   },
   {
    "duration": 790,
    "start_time": "2022-12-05T10:41:35.913Z"
   },
   {
    "duration": 237,
    "start_time": "2022-12-05T10:41:36.705Z"
   },
   {
    "duration": 35,
    "start_time": "2022-12-05T10:41:36.944Z"
   },
   {
    "duration": 8,
    "start_time": "2022-12-05T10:41:36.981Z"
   },
   {
    "duration": 6,
    "start_time": "2022-12-05T10:41:36.991Z"
   },
   {
    "duration": 25,
    "start_time": "2022-12-05T10:41:36.999Z"
   },
   {
    "duration": 26,
    "start_time": "2022-12-05T10:41:37.025Z"
   },
   {
    "duration": 24,
    "start_time": "2022-12-05T10:41:37.053Z"
   },
   {
    "duration": 593,
    "start_time": "2022-12-05T10:41:37.079Z"
   },
   {
    "duration": 214,
    "start_time": "2022-12-05T10:41:37.674Z"
   },
   {
    "duration": 383,
    "start_time": "2022-12-05T10:41:37.890Z"
   },
   {
    "duration": 285,
    "start_time": "2022-12-05T10:41:38.274Z"
   },
   {
    "duration": 337,
    "start_time": "2022-12-05T10:41:38.561Z"
   },
   {
    "duration": 140,
    "start_time": "2022-12-05T10:41:38.900Z"
   },
   {
    "duration": 127,
    "start_time": "2022-12-05T10:43:33.143Z"
   },
   {
    "duration": 662,
    "start_time": "2022-12-05T10:49:04.407Z"
   },
   {
    "duration": 91,
    "start_time": "2022-12-05T10:49:05.071Z"
   },
   {
    "duration": 27,
    "start_time": "2022-12-05T10:49:05.164Z"
   },
   {
    "duration": 7,
    "start_time": "2022-12-05T10:49:05.193Z"
   },
   {
    "duration": 24,
    "start_time": "2022-12-05T10:49:05.202Z"
   },
   {
    "duration": 27,
    "start_time": "2022-12-05T10:49:05.228Z"
   },
   {
    "duration": 34,
    "start_time": "2022-12-05T10:49:05.257Z"
   },
   {
    "duration": 23,
    "start_time": "2022-12-05T10:49:05.292Z"
   },
   {
    "duration": 560,
    "start_time": "2022-12-05T10:49:05.317Z"
   },
   {
    "duration": 234,
    "start_time": "2022-12-05T10:49:05.879Z"
   },
   {
    "duration": 323,
    "start_time": "2022-12-05T10:49:06.114Z"
   },
   {
    "duration": 79,
    "start_time": "2022-12-05T10:49:06.438Z"
   },
   {
    "duration": 0,
    "start_time": "2022-12-05T10:49:06.518Z"
   },
   {
    "duration": 0,
    "start_time": "2022-12-05T10:49:06.520Z"
   },
   {
    "duration": 278,
    "start_time": "2022-12-05T10:50:07.599Z"
   },
   {
    "duration": 610,
    "start_time": "2022-12-05T10:50:16.261Z"
   },
   {
    "duration": 93,
    "start_time": "2022-12-05T10:50:16.873Z"
   },
   {
    "duration": 42,
    "start_time": "2022-12-05T10:50:16.969Z"
   },
   {
    "duration": 10,
    "start_time": "2022-12-05T10:50:17.013Z"
   },
   {
    "duration": 18,
    "start_time": "2022-12-05T10:50:17.025Z"
   },
   {
    "duration": 24,
    "start_time": "2022-12-05T10:50:17.045Z"
   },
   {
    "duration": 44,
    "start_time": "2022-12-05T10:50:17.071Z"
   },
   {
    "duration": 24,
    "start_time": "2022-12-05T10:50:17.117Z"
   },
   {
    "duration": 603,
    "start_time": "2022-12-05T10:50:17.143Z"
   },
   {
    "duration": 213,
    "start_time": "2022-12-05T10:50:17.748Z"
   },
   {
    "duration": 301,
    "start_time": "2022-12-05T10:50:17.962Z"
   },
   {
    "duration": 292,
    "start_time": "2022-12-05T10:50:18.265Z"
   },
   {
    "duration": 342,
    "start_time": "2022-12-05T10:50:18.559Z"
   },
   {
    "duration": 146,
    "start_time": "2022-12-05T10:50:18.903Z"
   },
   {
    "duration": 131,
    "start_time": "2022-12-05T10:51:06.291Z"
   },
   {
    "duration": 146,
    "start_time": "2022-12-05T10:51:26.849Z"
   },
   {
    "duration": 148,
    "start_time": "2022-12-05T10:51:55.367Z"
   },
   {
    "duration": 125,
    "start_time": "2022-12-05T10:52:05.572Z"
   },
   {
    "duration": 66,
    "start_time": "2022-12-05T10:53:00.198Z"
   },
   {
    "duration": 5,
    "start_time": "2022-12-05T10:53:07.313Z"
   },
   {
    "duration": 6,
    "start_time": "2022-12-05T10:53:16.469Z"
   },
   {
    "duration": 8,
    "start_time": "2022-12-05T10:55:02.378Z"
   },
   {
    "duration": 10,
    "start_time": "2022-12-05T10:55:10.618Z"
   },
   {
    "duration": 146,
    "start_time": "2022-12-05T10:55:16.400Z"
   },
   {
    "duration": 157,
    "start_time": "2022-12-05T10:55:33.538Z"
   },
   {
    "duration": 6,
    "start_time": "2022-12-05T10:57:06.927Z"
   },
   {
    "duration": 151,
    "start_time": "2022-12-05T11:02:05.302Z"
   },
   {
    "duration": 121,
    "start_time": "2022-12-05T11:02:21.202Z"
   },
   {
    "duration": 203,
    "start_time": "2022-12-05T11:02:42.339Z"
   },
   {
    "duration": 143,
    "start_time": "2022-12-05T11:12:08.758Z"
   },
   {
    "duration": 154,
    "start_time": "2022-12-05T11:13:24.643Z"
   },
   {
    "duration": 8,
    "start_time": "2022-12-05T11:14:53.566Z"
   },
   {
    "duration": 8,
    "start_time": "2022-12-05T11:15:24.368Z"
   },
   {
    "duration": 7,
    "start_time": "2022-12-05T11:15:41.779Z"
   },
   {
    "duration": 7,
    "start_time": "2022-12-05T11:16:17.253Z"
   },
   {
    "duration": 6,
    "start_time": "2022-12-05T11:16:24.298Z"
   },
   {
    "duration": 151,
    "start_time": "2022-12-05T11:17:25.415Z"
   },
   {
    "duration": 190,
    "start_time": "2022-12-05T11:18:35.247Z"
   },
   {
    "duration": 160,
    "start_time": "2022-12-05T11:18:44.213Z"
   },
   {
    "duration": 165,
    "start_time": "2022-12-05T11:18:54.063Z"
   },
   {
    "duration": 167,
    "start_time": "2022-12-05T11:18:59.181Z"
   },
   {
    "duration": 158,
    "start_time": "2022-12-05T11:19:20.672Z"
   },
   {
    "duration": 164,
    "start_time": "2022-12-05T11:19:41.820Z"
   },
   {
    "duration": 347,
    "start_time": "2022-12-05T11:20:05.610Z"
   },
   {
    "duration": 82,
    "start_time": "2022-12-05T11:21:37.807Z"
   },
   {
    "duration": 163,
    "start_time": "2022-12-05T11:21:47.292Z"
   },
   {
    "duration": 189,
    "start_time": "2022-12-05T11:22:04.442Z"
   },
   {
    "duration": 9,
    "start_time": "2022-12-05T11:24:08.572Z"
   },
   {
    "duration": 5,
    "start_time": "2022-12-05T11:24:50.875Z"
   },
   {
    "duration": 5,
    "start_time": "2022-12-05T11:25:04.945Z"
   },
   {
    "duration": 6,
    "start_time": "2022-12-05T11:26:15.598Z"
   },
   {
    "duration": 87,
    "start_time": "2022-12-05T11:46:16.422Z"
   },
   {
    "duration": 654,
    "start_time": "2022-12-05T11:47:29.969Z"
   },
   {
    "duration": 91,
    "start_time": "2022-12-05T11:47:30.625Z"
   },
   {
    "duration": 28,
    "start_time": "2022-12-05T11:47:30.718Z"
   },
   {
    "duration": 8,
    "start_time": "2022-12-05T11:47:30.748Z"
   },
   {
    "duration": 23,
    "start_time": "2022-12-05T11:47:30.757Z"
   },
   {
    "duration": 16,
    "start_time": "2022-12-05T11:47:30.782Z"
   },
   {
    "duration": 32,
    "start_time": "2022-12-05T11:47:30.813Z"
   },
   {
    "duration": 25,
    "start_time": "2022-12-05T11:47:30.847Z"
   },
   {
    "duration": 660,
    "start_time": "2022-12-05T11:47:30.874Z"
   },
   {
    "duration": 212,
    "start_time": "2022-12-05T11:47:31.536Z"
   },
   {
    "duration": 310,
    "start_time": "2022-12-05T11:47:31.750Z"
   },
   {
    "duration": 296,
    "start_time": "2022-12-05T11:47:32.061Z"
   },
   {
    "duration": 340,
    "start_time": "2022-12-05T11:47:32.359Z"
   },
   {
    "duration": 173,
    "start_time": "2022-12-05T11:47:32.701Z"
   },
   {
    "duration": 6,
    "start_time": "2022-12-05T11:47:32.875Z"
   },
   {
    "duration": 174,
    "start_time": "2022-12-05T11:47:32.883Z"
   },
   {
    "duration": 170,
    "start_time": "2022-12-05T11:47:33.060Z"
   },
   {
    "duration": 6,
    "start_time": "2022-12-05T11:47:33.232Z"
   },
   {
    "duration": 419,
    "start_time": "2022-12-05T11:47:33.240Z"
   },
   {
    "duration": 1100,
    "start_time": "2022-12-05T11:48:02.443Z"
   },
   {
    "duration": 93,
    "start_time": "2022-12-05T11:48:03.545Z"
   },
   {
    "duration": 31,
    "start_time": "2022-12-05T11:48:03.639Z"
   },
   {
    "duration": 8,
    "start_time": "2022-12-05T11:48:03.672Z"
   },
   {
    "duration": 14,
    "start_time": "2022-12-05T11:48:03.681Z"
   },
   {
    "duration": 22,
    "start_time": "2022-12-05T11:48:03.697Z"
   },
   {
    "duration": 37,
    "start_time": "2022-12-05T11:48:03.721Z"
   },
   {
    "duration": 25,
    "start_time": "2022-12-05T11:48:03.759Z"
   },
   {
    "duration": 584,
    "start_time": "2022-12-05T11:48:03.785Z"
   },
   {
    "duration": 214,
    "start_time": "2022-12-05T11:48:04.372Z"
   },
   {
    "duration": 356,
    "start_time": "2022-12-05T11:48:04.588Z"
   },
   {
    "duration": 240,
    "start_time": "2022-12-05T11:48:04.946Z"
   },
   {
    "duration": 361,
    "start_time": "2022-12-05T11:48:05.188Z"
   },
   {
    "duration": 156,
    "start_time": "2022-12-05T11:48:05.551Z"
   },
   {
    "duration": 8,
    "start_time": "2022-12-05T11:48:05.708Z"
   },
   {
    "duration": 177,
    "start_time": "2022-12-05T11:48:05.718Z"
   },
   {
    "duration": 169,
    "start_time": "2022-12-05T11:48:05.896Z"
   },
   {
    "duration": 4,
    "start_time": "2022-12-05T11:48:06.067Z"
   },
   {
    "duration": 440,
    "start_time": "2022-12-05T11:48:06.073Z"
   },
   {
    "duration": 1285,
    "start_time": "2022-12-05T14:12:33.399Z"
   },
   {
    "duration": 241,
    "start_time": "2022-12-05T14:12:34.686Z"
   },
   {
    "duration": 32,
    "start_time": "2022-12-05T14:12:34.928Z"
   },
   {
    "duration": 8,
    "start_time": "2022-12-05T14:12:34.962Z"
   },
   {
    "duration": 7,
    "start_time": "2022-12-05T14:12:34.971Z"
   },
   {
    "duration": 12,
    "start_time": "2022-12-05T14:12:34.979Z"
   },
   {
    "duration": 31,
    "start_time": "2022-12-05T14:12:34.993Z"
   },
   {
    "duration": 26,
    "start_time": "2022-12-05T14:12:35.053Z"
   },
   {
    "duration": 592,
    "start_time": "2022-12-05T14:12:35.081Z"
   },
   {
    "duration": 210,
    "start_time": "2022-12-05T14:12:35.675Z"
   },
   {
    "duration": 321,
    "start_time": "2022-12-05T14:12:35.887Z"
   },
   {
    "duration": 224,
    "start_time": "2022-12-05T14:12:36.210Z"
   },
   {
    "duration": 339,
    "start_time": "2022-12-05T14:12:36.436Z"
   },
   {
    "duration": 144,
    "start_time": "2022-12-05T14:12:36.777Z"
   },
   {
    "duration": 5,
    "start_time": "2022-12-05T14:12:36.923Z"
   },
   {
    "duration": 162,
    "start_time": "2022-12-05T14:12:36.929Z"
   },
   {
    "duration": 154,
    "start_time": "2022-12-05T14:12:37.093Z"
   },
   {
    "duration": 5,
    "start_time": "2022-12-05T14:12:37.251Z"
   },
   {
    "duration": 414,
    "start_time": "2022-12-05T14:12:37.258Z"
   },
   {
    "duration": 320,
    "start_time": "2022-12-05T14:14:16.512Z"
   },
   {
    "duration": 72,
    "start_time": "2022-12-05T14:14:56.781Z"
   },
   {
    "duration": 305,
    "start_time": "2022-12-05T14:15:10.178Z"
   },
   {
    "duration": 313,
    "start_time": "2022-12-05T14:15:46.992Z"
   },
   {
    "duration": 11,
    "start_time": "2022-12-05T14:20:24.474Z"
   },
   {
    "duration": 10,
    "start_time": "2022-12-05T14:25:40.778Z"
   },
   {
    "duration": 11,
    "start_time": "2022-12-05T14:26:02.854Z"
   },
   {
    "duration": 5,
    "start_time": "2022-12-05T14:26:58.482Z"
   },
   {
    "duration": 264,
    "start_time": "2022-12-05T14:39:40.007Z"
   },
   {
    "duration": 198,
    "start_time": "2022-12-05T14:39:46.528Z"
   },
   {
    "duration": 200,
    "start_time": "2022-12-05T14:40:03.722Z"
   },
   {
    "duration": 293,
    "start_time": "2022-12-05T14:40:37.374Z"
   },
   {
    "duration": 272,
    "start_time": "2022-12-05T14:40:55.798Z"
   },
   {
    "duration": 288,
    "start_time": "2022-12-05T14:41:47.134Z"
   },
   {
    "duration": 305,
    "start_time": "2022-12-05T14:42:20.288Z"
   },
   {
    "duration": 21,
    "start_time": "2022-12-05T14:42:59.779Z"
   },
   {
    "duration": 359,
    "start_time": "2022-12-05T14:43:02.138Z"
   },
   {
    "duration": 1032,
    "start_time": "2022-12-05T14:43:16.462Z"
   },
   {
    "duration": 94,
    "start_time": "2022-12-05T14:43:17.496Z"
   },
   {
    "duration": 26,
    "start_time": "2022-12-05T14:43:17.591Z"
   },
   {
    "duration": 8,
    "start_time": "2022-12-05T14:43:17.618Z"
   },
   {
    "duration": 8,
    "start_time": "2022-12-05T14:43:17.627Z"
   },
   {
    "duration": 19,
    "start_time": "2022-12-05T14:43:17.636Z"
   },
   {
    "duration": 29,
    "start_time": "2022-12-05T14:43:17.656Z"
   },
   {
    "duration": 22,
    "start_time": "2022-12-05T14:43:17.686Z"
   },
   {
    "duration": 289,
    "start_time": "2022-12-05T14:43:17.710Z"
   },
   {
    "duration": 276,
    "start_time": "2022-12-05T14:43:18.002Z"
   },
   {
    "duration": 211,
    "start_time": "2022-12-05T14:43:18.280Z"
   },
   {
    "duration": 283,
    "start_time": "2022-12-05T14:43:18.493Z"
   },
   {
    "duration": 236,
    "start_time": "2022-12-05T14:43:18.778Z"
   },
   {
    "duration": 378,
    "start_time": "2022-12-05T14:43:19.016Z"
   },
   {
    "duration": 158,
    "start_time": "2022-12-05T14:43:19.396Z"
   },
   {
    "duration": 6,
    "start_time": "2022-12-05T14:43:19.556Z"
   },
   {
    "duration": 163,
    "start_time": "2022-12-05T14:43:19.563Z"
   },
   {
    "duration": 162,
    "start_time": "2022-12-05T14:43:19.728Z"
   },
   {
    "duration": 6,
    "start_time": "2022-12-05T14:43:19.892Z"
   },
   {
    "duration": 399,
    "start_time": "2022-12-05T14:43:19.900Z"
   },
   {
    "duration": 21,
    "start_time": "2022-12-05T14:43:20.300Z"
   },
   {
    "duration": 29,
    "start_time": "2022-12-05T14:43:20.323Z"
   },
   {
    "duration": 1205,
    "start_time": "2022-12-05T14:49:58.501Z"
   },
   {
    "duration": 1098,
    "start_time": "2022-12-05T14:50:15.905Z"
   },
   {
    "duration": 1154,
    "start_time": "2022-12-05T14:50:21.471Z"
   },
   {
    "duration": 1118,
    "start_time": "2022-12-05T14:50:44.458Z"
   },
   {
    "duration": 93,
    "start_time": "2022-12-05T14:50:45.578Z"
   },
   {
    "duration": 27,
    "start_time": "2022-12-05T14:50:45.673Z"
   },
   {
    "duration": 23,
    "start_time": "2022-12-05T14:50:45.702Z"
   },
   {
    "duration": 12,
    "start_time": "2022-12-05T14:50:45.727Z"
   },
   {
    "duration": 34,
    "start_time": "2022-12-05T14:50:45.741Z"
   },
   {
    "duration": 48,
    "start_time": "2022-12-05T14:50:45.776Z"
   },
   {
    "duration": 23,
    "start_time": "2022-12-05T14:50:45.826Z"
   },
   {
    "duration": 264,
    "start_time": "2022-12-05T14:50:45.851Z"
   },
   {
    "duration": 283,
    "start_time": "2022-12-05T14:50:46.118Z"
   },
   {
    "duration": 205,
    "start_time": "2022-12-05T14:50:46.403Z"
   },
   {
    "duration": 295,
    "start_time": "2022-12-05T14:50:46.610Z"
   },
   {
    "duration": 234,
    "start_time": "2022-12-05T14:50:46.907Z"
   },
   {
    "duration": 349,
    "start_time": "2022-12-05T14:50:47.143Z"
   },
   {
    "duration": 144,
    "start_time": "2022-12-05T14:50:47.494Z"
   },
   {
    "duration": 14,
    "start_time": "2022-12-05T14:50:47.639Z"
   },
   {
    "duration": 166,
    "start_time": "2022-12-05T14:50:47.654Z"
   },
   {
    "duration": 155,
    "start_time": "2022-12-05T14:50:47.822Z"
   },
   {
    "duration": 5,
    "start_time": "2022-12-05T14:50:47.979Z"
   },
   {
    "duration": 424,
    "start_time": "2022-12-05T14:50:47.986Z"
   },
   {
    "duration": 21,
    "start_time": "2022-12-05T14:50:48.412Z"
   },
   {
    "duration": 23,
    "start_time": "2022-12-05T14:50:48.435Z"
   },
   {
    "duration": 1215,
    "start_time": "2022-12-05T14:50:48.460Z"
   },
   {
    "duration": 1186,
    "start_time": "2022-12-05T14:51:30.198Z"
   },
   {
    "duration": 1101,
    "start_time": "2022-12-05T14:51:46.074Z"
   },
   {
    "duration": 1095,
    "start_time": "2022-12-05T14:51:55.025Z"
   },
   {
    "duration": 1196,
    "start_time": "2022-12-05T14:52:00.310Z"
   },
   {
    "duration": 321,
    "start_time": "2022-12-05T14:53:41.412Z"
   },
   {
    "duration": 1183,
    "start_time": "2022-12-05T14:53:49.081Z"
   },
   {
    "duration": 1017,
    "start_time": "2022-12-05T14:54:16.702Z"
   },
   {
    "duration": 92,
    "start_time": "2022-12-05T14:54:17.720Z"
   },
   {
    "duration": 26,
    "start_time": "2022-12-05T14:54:17.814Z"
   },
   {
    "duration": 7,
    "start_time": "2022-12-05T14:54:17.842Z"
   },
   {
    "duration": 8,
    "start_time": "2022-12-05T14:54:17.851Z"
   },
   {
    "duration": 10,
    "start_time": "2022-12-05T14:54:17.861Z"
   },
   {
    "duration": 25,
    "start_time": "2022-12-05T14:54:17.873Z"
   },
   {
    "duration": 22,
    "start_time": "2022-12-05T14:54:17.899Z"
   },
   {
    "duration": 275,
    "start_time": "2022-12-05T14:54:17.953Z"
   },
   {
    "duration": 290,
    "start_time": "2022-12-05T14:54:18.231Z"
   },
   {
    "duration": 223,
    "start_time": "2022-12-05T14:54:18.523Z"
   },
   {
    "duration": 343,
    "start_time": "2022-12-05T14:54:18.748Z"
   },
   {
    "duration": 250,
    "start_time": "2022-12-05T14:54:19.093Z"
   },
   {
    "duration": 359,
    "start_time": "2022-12-05T14:54:19.344Z"
   },
   {
    "duration": 152,
    "start_time": "2022-12-05T14:54:19.705Z"
   },
   {
    "duration": 5,
    "start_time": "2022-12-05T14:54:19.859Z"
   },
   {
    "duration": 181,
    "start_time": "2022-12-05T14:54:19.866Z"
   },
   {
    "duration": 176,
    "start_time": "2022-12-05T14:54:20.049Z"
   },
   {
    "duration": 6,
    "start_time": "2022-12-05T14:54:20.227Z"
   },
   {
    "duration": 426,
    "start_time": "2022-12-05T14:54:20.235Z"
   },
   {
    "duration": 21,
    "start_time": "2022-12-05T14:54:20.663Z"
   },
   {
    "duration": 12,
    "start_time": "2022-12-05T14:54:20.686Z"
   },
   {
    "duration": 1217,
    "start_time": "2022-12-05T14:54:20.700Z"
   },
   {
    "duration": 9,
    "start_time": "2022-12-05T15:15:42.241Z"
   },
   {
    "duration": 1024,
    "start_time": "2022-12-05T15:15:58.409Z"
   },
   {
    "duration": 91,
    "start_time": "2022-12-05T15:15:59.435Z"
   },
   {
    "duration": 27,
    "start_time": "2022-12-05T15:15:59.527Z"
   },
   {
    "duration": 8,
    "start_time": "2022-12-05T15:15:59.555Z"
   },
   {
    "duration": 8,
    "start_time": "2022-12-05T15:15:59.565Z"
   },
   {
    "duration": 11,
    "start_time": "2022-12-05T15:15:59.574Z"
   },
   {
    "duration": 25,
    "start_time": "2022-12-05T15:15:59.586Z"
   },
   {
    "duration": 49,
    "start_time": "2022-12-05T15:15:59.613Z"
   },
   {
    "duration": 278,
    "start_time": "2022-12-05T15:15:59.663Z"
   },
   {
    "duration": 285,
    "start_time": "2022-12-05T15:15:59.943Z"
   },
   {
    "duration": 215,
    "start_time": "2022-12-05T15:16:00.230Z"
   },
   {
    "duration": 335,
    "start_time": "2022-12-05T15:16:00.452Z"
   },
   {
    "duration": 236,
    "start_time": "2022-12-05T15:16:00.788Z"
   },
   {
    "duration": 375,
    "start_time": "2022-12-05T15:16:01.027Z"
   },
   {
    "duration": 158,
    "start_time": "2022-12-05T15:16:01.404Z"
   },
   {
    "duration": 5,
    "start_time": "2022-12-05T15:16:01.564Z"
   },
   {
    "duration": 170,
    "start_time": "2022-12-05T15:16:01.571Z"
   },
   {
    "duration": 160,
    "start_time": "2022-12-05T15:16:01.743Z"
   },
   {
    "duration": 5,
    "start_time": "2022-12-05T15:16:01.905Z"
   },
   {
    "duration": 444,
    "start_time": "2022-12-05T15:16:01.912Z"
   },
   {
    "duration": 21,
    "start_time": "2022-12-05T15:16:02.357Z"
   },
   {
    "duration": 12,
    "start_time": "2022-12-05T15:16:02.381Z"
   },
   {
    "duration": 31,
    "start_time": "2022-12-05T15:16:02.395Z"
   },
   {
    "duration": 9,
    "start_time": "2022-12-05T15:20:44.936Z"
   },
   {
    "duration": 111,
    "start_time": "2022-12-05T15:24:31.469Z"
   },
   {
    "duration": 31,
    "start_time": "2022-12-05T15:24:38.022Z"
   },
   {
    "duration": 19,
    "start_time": "2022-12-05T15:24:46.514Z"
   },
   {
    "duration": 5,
    "start_time": "2022-12-05T15:24:53.975Z"
   },
   {
    "duration": 6,
    "start_time": "2022-12-05T15:24:58.803Z"
   },
   {
    "duration": 9,
    "start_time": "2022-12-05T15:25:27.427Z"
   },
   {
    "duration": 1071,
    "start_time": "2022-12-05T15:25:53.774Z"
   },
   {
    "duration": 93,
    "start_time": "2022-12-05T15:25:54.847Z"
   },
   {
    "duration": 30,
    "start_time": "2022-12-05T15:25:54.942Z"
   },
   {
    "duration": 8,
    "start_time": "2022-12-05T15:25:54.974Z"
   },
   {
    "duration": 13,
    "start_time": "2022-12-05T15:25:54.983Z"
   },
   {
    "duration": 12,
    "start_time": "2022-12-05T15:25:54.997Z"
   },
   {
    "duration": 53,
    "start_time": "2022-12-05T15:25:55.010Z"
   },
   {
    "duration": 24,
    "start_time": "2022-12-05T15:25:55.065Z"
   },
   {
    "duration": 290,
    "start_time": "2022-12-05T15:25:55.090Z"
   },
   {
    "duration": 290,
    "start_time": "2022-12-05T15:25:55.382Z"
   },
   {
    "duration": 214,
    "start_time": "2022-12-05T15:25:55.674Z"
   },
   {
    "duration": 297,
    "start_time": "2022-12-05T15:25:55.890Z"
   },
   {
    "duration": 229,
    "start_time": "2022-12-05T15:25:56.189Z"
   },
   {
    "duration": 350,
    "start_time": "2022-12-05T15:25:56.420Z"
   },
   {
    "duration": 143,
    "start_time": "2022-12-05T15:25:56.771Z"
   },
   {
    "duration": 5,
    "start_time": "2022-12-05T15:25:56.916Z"
   },
   {
    "duration": 164,
    "start_time": "2022-12-05T15:25:56.922Z"
   },
   {
    "duration": 155,
    "start_time": "2022-12-05T15:25:57.088Z"
   },
   {
    "duration": 10,
    "start_time": "2022-12-05T15:25:57.244Z"
   },
   {
    "duration": 416,
    "start_time": "2022-12-05T15:25:57.256Z"
   },
   {
    "duration": 20,
    "start_time": "2022-12-05T15:25:57.673Z"
   },
   {
    "duration": 9,
    "start_time": "2022-12-05T15:25:57.694Z"
   },
   {
    "duration": 10,
    "start_time": "2022-12-05T15:25:57.705Z"
   },
   {
    "duration": 1240,
    "start_time": "2022-12-05T15:25:57.716Z"
   },
   {
    "duration": 0,
    "start_time": "2022-12-05T15:25:58.958Z"
   },
   {
    "duration": 983,
    "start_time": "2022-12-05T15:26:19.511Z"
   },
   {
    "duration": 91,
    "start_time": "2022-12-05T15:26:20.496Z"
   },
   {
    "duration": 26,
    "start_time": "2022-12-05T15:26:20.589Z"
   },
   {
    "duration": 8,
    "start_time": "2022-12-05T15:26:20.617Z"
   },
   {
    "duration": 5,
    "start_time": "2022-12-05T15:26:20.627Z"
   },
   {
    "duration": 18,
    "start_time": "2022-12-05T15:26:20.634Z"
   },
   {
    "duration": 25,
    "start_time": "2022-12-05T15:26:20.654Z"
   },
   {
    "duration": 22,
    "start_time": "2022-12-05T15:26:20.681Z"
   },
   {
    "duration": 301,
    "start_time": "2022-12-05T15:26:20.705Z"
   },
   {
    "duration": 283,
    "start_time": "2022-12-05T15:26:21.009Z"
   },
   {
    "duration": 205,
    "start_time": "2022-12-05T15:26:21.294Z"
   },
   {
    "duration": 289,
    "start_time": "2022-12-05T15:26:21.501Z"
   },
   {
    "duration": 230,
    "start_time": "2022-12-05T15:26:21.792Z"
   },
   {
    "duration": 382,
    "start_time": "2022-12-05T15:26:22.024Z"
   },
   {
    "duration": 184,
    "start_time": "2022-12-05T15:26:22.408Z"
   },
   {
    "duration": 5,
    "start_time": "2022-12-05T15:26:22.594Z"
   },
   {
    "duration": 163,
    "start_time": "2022-12-05T15:26:22.601Z"
   },
   {
    "duration": 154,
    "start_time": "2022-12-05T15:26:22.765Z"
   },
   {
    "duration": 5,
    "start_time": "2022-12-05T15:26:22.921Z"
   },
   {
    "duration": 418,
    "start_time": "2022-12-05T15:26:22.927Z"
   },
   {
    "duration": 25,
    "start_time": "2022-12-05T15:26:23.346Z"
   },
   {
    "duration": 9,
    "start_time": "2022-12-05T15:26:23.373Z"
   },
   {
    "duration": 18,
    "start_time": "2022-12-05T15:26:23.383Z"
   },
   {
    "duration": 8,
    "start_time": "2022-12-05T15:26:23.403Z"
   },
   {
    "duration": 20,
    "start_time": "2022-12-05T15:26:23.412Z"
   },
   {
    "duration": 21,
    "start_time": "2022-12-05T15:26:35.999Z"
   },
   {
    "duration": 1466,
    "start_time": "2022-12-05T15:30:38.682Z"
   },
   {
    "duration": 14,
    "start_time": "2022-12-05T15:30:58.306Z"
   },
   {
    "duration": 1009,
    "start_time": "2022-12-05T15:49:57.787Z"
   },
   {
    "duration": 91,
    "start_time": "2022-12-05T15:49:58.798Z"
   },
   {
    "duration": 26,
    "start_time": "2022-12-05T15:49:58.891Z"
   },
   {
    "duration": 8,
    "start_time": "2022-12-05T15:49:58.918Z"
   },
   {
    "duration": 6,
    "start_time": "2022-12-05T15:49:58.928Z"
   },
   {
    "duration": 21,
    "start_time": "2022-12-05T15:49:58.935Z"
   },
   {
    "duration": 29,
    "start_time": "2022-12-05T15:49:58.958Z"
   },
   {
    "duration": 24,
    "start_time": "2022-12-05T15:49:58.988Z"
   },
   {
    "duration": 289,
    "start_time": "2022-12-05T15:49:59.019Z"
   },
   {
    "duration": 274,
    "start_time": "2022-12-05T15:49:59.310Z"
   },
   {
    "duration": 209,
    "start_time": "2022-12-05T15:49:59.585Z"
   },
   {
    "duration": 285,
    "start_time": "2022-12-05T15:49:59.795Z"
   },
   {
    "duration": 245,
    "start_time": "2022-12-05T15:50:00.082Z"
   },
   {
    "duration": 353,
    "start_time": "2022-12-05T15:50:00.329Z"
   },
   {
    "duration": 146,
    "start_time": "2022-12-05T15:50:00.683Z"
   },
   {
    "duration": 5,
    "start_time": "2022-12-05T15:50:00.831Z"
   },
   {
    "duration": 186,
    "start_time": "2022-12-05T15:50:00.837Z"
   },
   {
    "duration": 165,
    "start_time": "2022-12-05T15:50:01.026Z"
   },
   {
    "duration": 6,
    "start_time": "2022-12-05T15:50:01.193Z"
   },
   {
    "duration": 408,
    "start_time": "2022-12-05T15:50:01.201Z"
   },
   {
    "duration": 22,
    "start_time": "2022-12-05T15:50:01.611Z"
   },
   {
    "duration": 26,
    "start_time": "2022-12-05T15:50:01.635Z"
   },
   {
    "duration": 36,
    "start_time": "2022-12-05T15:50:01.662Z"
   },
   {
    "duration": 20,
    "start_time": "2022-12-05T15:50:01.700Z"
   },
   {
    "duration": 38,
    "start_time": "2022-12-05T15:50:01.722Z"
   },
   {
    "duration": 38,
    "start_time": "2022-12-05T15:50:01.762Z"
   },
   {
    "duration": 1058,
    "start_time": "2022-12-05T15:59:03.949Z"
   },
   {
    "duration": 93,
    "start_time": "2022-12-05T15:59:05.009Z"
   },
   {
    "duration": 27,
    "start_time": "2022-12-05T15:59:05.104Z"
   },
   {
    "duration": 7,
    "start_time": "2022-12-05T15:59:05.133Z"
   },
   {
    "duration": 8,
    "start_time": "2022-12-05T15:59:05.142Z"
   },
   {
    "duration": 10,
    "start_time": "2022-12-05T15:59:05.151Z"
   },
   {
    "duration": 23,
    "start_time": "2022-12-05T15:59:05.163Z"
   },
   {
    "duration": 22,
    "start_time": "2022-12-05T15:59:05.187Z"
   },
   {
    "duration": 293,
    "start_time": "2022-12-05T15:59:05.210Z"
   },
   {
    "duration": 274,
    "start_time": "2022-12-05T15:59:05.504Z"
   },
   {
    "duration": 209,
    "start_time": "2022-12-05T15:59:05.779Z"
   },
   {
    "duration": 296,
    "start_time": "2022-12-05T15:59:05.990Z"
   },
   {
    "duration": 232,
    "start_time": "2022-12-05T15:59:06.288Z"
   },
   {
    "duration": 358,
    "start_time": "2022-12-05T15:59:06.522Z"
   },
   {
    "duration": 149,
    "start_time": "2022-12-05T15:59:06.882Z"
   },
   {
    "duration": 6,
    "start_time": "2022-12-05T15:59:07.033Z"
   },
   {
    "duration": 169,
    "start_time": "2022-12-05T15:59:07.040Z"
   },
   {
    "duration": 157,
    "start_time": "2022-12-05T15:59:07.211Z"
   },
   {
    "duration": 5,
    "start_time": "2022-12-05T15:59:07.370Z"
   },
   {
    "duration": 401,
    "start_time": "2022-12-05T15:59:07.376Z"
   },
   {
    "duration": 20,
    "start_time": "2022-12-05T15:59:07.778Z"
   },
   {
    "duration": 11,
    "start_time": "2022-12-05T15:59:07.800Z"
   },
   {
    "duration": 21,
    "start_time": "2022-12-05T15:59:07.813Z"
   },
   {
    "duration": 20,
    "start_time": "2022-12-05T15:59:07.835Z"
   },
   {
    "duration": 20,
    "start_time": "2022-12-05T15:59:07.857Z"
   },
   {
    "duration": 14,
    "start_time": "2022-12-05T15:59:07.879Z"
   },
   {
    "duration": 1388,
    "start_time": "2022-12-05T16:14:40.745Z"
   },
   {
    "duration": 245,
    "start_time": "2022-12-05T16:14:42.136Z"
   },
   {
    "duration": 27,
    "start_time": "2022-12-05T16:14:42.383Z"
   },
   {
    "duration": 9,
    "start_time": "2022-12-05T16:14:42.412Z"
   },
   {
    "duration": 8,
    "start_time": "2022-12-05T16:14:42.422Z"
   },
   {
    "duration": 10,
    "start_time": "2022-12-05T16:14:42.432Z"
   },
   {
    "duration": 26,
    "start_time": "2022-12-05T16:14:42.450Z"
   },
   {
    "duration": 32,
    "start_time": "2022-12-05T16:14:42.478Z"
   },
   {
    "duration": 312,
    "start_time": "2022-12-05T16:14:42.512Z"
   },
   {
    "duration": 309,
    "start_time": "2022-12-05T16:14:42.827Z"
   },
   {
    "duration": 243,
    "start_time": "2022-12-05T16:14:43.138Z"
   },
   {
    "duration": 362,
    "start_time": "2022-12-05T16:14:43.383Z"
   },
   {
    "duration": 281,
    "start_time": "2022-12-05T16:14:43.746Z"
   },
   {
    "duration": 394,
    "start_time": "2022-12-05T16:14:44.029Z"
   },
   {
    "duration": 173,
    "start_time": "2022-12-05T16:14:44.425Z"
   },
   {
    "duration": 7,
    "start_time": "2022-12-05T16:14:44.600Z"
   },
   {
    "duration": 195,
    "start_time": "2022-12-05T16:14:44.609Z"
   },
   {
    "duration": 189,
    "start_time": "2022-12-05T16:14:44.807Z"
   },
   {
    "duration": 6,
    "start_time": "2022-12-05T16:14:44.997Z"
   },
   {
    "duration": 493,
    "start_time": "2022-12-05T16:14:45.005Z"
   },
   {
    "duration": 30,
    "start_time": "2022-12-05T16:14:45.500Z"
   },
   {
    "duration": 26,
    "start_time": "2022-12-05T16:14:45.532Z"
   },
   {
    "duration": 10,
    "start_time": "2022-12-05T16:14:45.560Z"
   },
   {
    "duration": 12,
    "start_time": "2022-12-05T16:14:45.572Z"
   },
   {
    "duration": 28,
    "start_time": "2022-12-05T16:14:45.586Z"
   },
   {
    "duration": 43,
    "start_time": "2022-12-05T16:14:45.617Z"
   },
   {
    "duration": 1149,
    "start_time": "2022-12-05T16:34:26.078Z"
   },
   {
    "duration": 97,
    "start_time": "2022-12-05T16:34:27.228Z"
   },
   {
    "duration": 26,
    "start_time": "2022-12-05T16:34:27.327Z"
   },
   {
    "duration": 13,
    "start_time": "2022-12-05T16:34:27.355Z"
   },
   {
    "duration": 14,
    "start_time": "2022-12-05T16:34:27.370Z"
   },
   {
    "duration": 13,
    "start_time": "2022-12-05T16:34:27.386Z"
   },
   {
    "duration": 29,
    "start_time": "2022-12-05T16:34:27.401Z"
   },
   {
    "duration": 28,
    "start_time": "2022-12-05T16:34:27.451Z"
   },
   {
    "duration": 317,
    "start_time": "2022-12-05T16:34:27.481Z"
   },
   {
    "duration": 319,
    "start_time": "2022-12-05T16:34:27.801Z"
   },
   {
    "duration": 243,
    "start_time": "2022-12-05T16:34:28.122Z"
   },
   {
    "duration": 364,
    "start_time": "2022-12-05T16:34:28.366Z"
   },
   {
    "duration": 302,
    "start_time": "2022-12-05T16:34:28.733Z"
   },
   {
    "duration": 384,
    "start_time": "2022-12-05T16:34:29.037Z"
   },
   {
    "duration": 176,
    "start_time": "2022-12-05T16:34:29.422Z"
   },
   {
    "duration": 7,
    "start_time": "2022-12-05T16:34:29.600Z"
   },
   {
    "duration": 229,
    "start_time": "2022-12-05T16:34:29.610Z"
   },
   {
    "duration": 194,
    "start_time": "2022-12-05T16:34:29.841Z"
   },
   {
    "duration": 5,
    "start_time": "2022-12-05T16:34:30.037Z"
   },
   {
    "duration": 455,
    "start_time": "2022-12-05T16:34:30.052Z"
   },
   {
    "duration": 24,
    "start_time": "2022-12-05T16:34:30.509Z"
   },
   {
    "duration": 24,
    "start_time": "2022-12-05T16:34:30.535Z"
   },
   {
    "duration": 25,
    "start_time": "2022-12-05T16:34:30.561Z"
   },
   {
    "duration": 39,
    "start_time": "2022-12-05T16:34:30.588Z"
   },
   {
    "duration": 58,
    "start_time": "2022-12-05T16:34:30.629Z"
   },
   {
    "duration": 14,
    "start_time": "2022-12-05T16:34:30.688Z"
   },
   {
    "duration": 1242,
    "start_time": "2022-12-06T10:10:20.917Z"
   },
   {
    "duration": 288,
    "start_time": "2022-12-06T10:10:22.161Z"
   },
   {
    "duration": 34,
    "start_time": "2022-12-06T10:10:22.452Z"
   },
   {
    "duration": 10,
    "start_time": "2022-12-06T10:10:22.489Z"
   },
   {
    "duration": 8,
    "start_time": "2022-12-06T10:10:22.501Z"
   },
   {
    "duration": 15,
    "start_time": "2022-12-06T10:10:22.510Z"
   },
   {
    "duration": 27,
    "start_time": "2022-12-06T10:10:22.527Z"
   },
   {
    "duration": 43,
    "start_time": "2022-12-06T10:10:22.556Z"
   },
   {
    "duration": 284,
    "start_time": "2022-12-06T10:10:22.600Z"
   },
   {
    "duration": 299,
    "start_time": "2022-12-06T10:10:22.885Z"
   },
   {
    "duration": 206,
    "start_time": "2022-12-06T10:10:23.186Z"
   },
   {
    "duration": 354,
    "start_time": "2022-12-06T10:10:23.397Z"
   },
   {
    "duration": 226,
    "start_time": "2022-12-06T10:10:23.752Z"
   },
   {
    "duration": 351,
    "start_time": "2022-12-06T10:10:23.981Z"
   },
   {
    "duration": 155,
    "start_time": "2022-12-06T10:10:24.334Z"
   },
   {
    "duration": 5,
    "start_time": "2022-12-06T10:10:24.497Z"
   },
   {
    "duration": 163,
    "start_time": "2022-12-06T10:10:24.503Z"
   },
   {
    "duration": 150,
    "start_time": "2022-12-06T10:10:24.668Z"
   },
   {
    "duration": 5,
    "start_time": "2022-12-06T10:10:24.820Z"
   },
   {
    "duration": 470,
    "start_time": "2022-12-06T10:10:24.827Z"
   },
   {
    "duration": 22,
    "start_time": "2022-12-06T10:10:25.299Z"
   },
   {
    "duration": 11,
    "start_time": "2022-12-06T10:10:25.323Z"
   },
   {
    "duration": 23,
    "start_time": "2022-12-06T10:10:25.335Z"
   },
   {
    "duration": 25,
    "start_time": "2022-12-06T10:10:25.360Z"
   },
   {
    "duration": 42,
    "start_time": "2022-12-06T10:10:25.387Z"
   },
   {
    "duration": 13,
    "start_time": "2022-12-06T10:10:25.431Z"
   },
   {
    "duration": 25,
    "start_time": "2022-12-06T10:10:51.573Z"
   },
   {
    "duration": 1267,
    "start_time": "2022-12-06T10:11:14.187Z"
   },
   {
    "duration": 93,
    "start_time": "2022-12-06T10:11:15.457Z"
   },
   {
    "duration": 26,
    "start_time": "2022-12-06T10:11:15.551Z"
   },
   {
    "duration": 7,
    "start_time": "2022-12-06T10:11:15.580Z"
   },
   {
    "duration": 7,
    "start_time": "2022-12-06T10:11:15.588Z"
   },
   {
    "duration": 11,
    "start_time": "2022-12-06T10:11:15.596Z"
   },
   {
    "duration": 32,
    "start_time": "2022-12-06T10:11:15.609Z"
   },
   {
    "duration": 23,
    "start_time": "2022-12-06T10:11:15.643Z"
   },
   {
    "duration": 299,
    "start_time": "2022-12-06T10:11:15.668Z"
   },
   {
    "duration": 277,
    "start_time": "2022-12-06T10:11:15.971Z"
   },
   {
    "duration": 211,
    "start_time": "2022-12-06T10:11:16.249Z"
   },
   {
    "duration": 326,
    "start_time": "2022-12-06T10:11:16.462Z"
   },
   {
    "duration": 213,
    "start_time": "2022-12-06T10:11:16.789Z"
   },
   {
    "duration": 325,
    "start_time": "2022-12-06T10:11:17.005Z"
   },
   {
    "duration": 146,
    "start_time": "2022-12-06T10:11:17.332Z"
   },
   {
    "duration": 6,
    "start_time": "2022-12-06T10:11:17.480Z"
   },
   {
    "duration": 156,
    "start_time": "2022-12-06T10:11:17.498Z"
   },
   {
    "duration": 150,
    "start_time": "2022-12-06T10:11:17.657Z"
   },
   {
    "duration": 6,
    "start_time": "2022-12-06T10:11:17.809Z"
   },
   {
    "duration": 419,
    "start_time": "2022-12-06T10:11:17.817Z"
   },
   {
    "duration": 22,
    "start_time": "2022-12-06T10:11:18.238Z"
   },
   {
    "duration": 11,
    "start_time": "2022-12-06T10:11:18.261Z"
   },
   {
    "duration": 29,
    "start_time": "2022-12-06T10:11:18.273Z"
   },
   {
    "duration": 11,
    "start_time": "2022-12-06T10:11:18.303Z"
   },
   {
    "duration": 24,
    "start_time": "2022-12-06T10:11:18.316Z"
   },
   {
    "duration": 11,
    "start_time": "2022-12-06T10:11:18.342Z"
   },
   {
    "duration": 120,
    "start_time": "2022-12-06T10:25:00.191Z"
   },
   {
    "duration": 1271,
    "start_time": "2022-12-06T10:25:09.380Z"
   },
   {
    "duration": 102,
    "start_time": "2022-12-06T10:25:10.653Z"
   },
   {
    "duration": 25,
    "start_time": "2022-12-06T10:25:10.756Z"
   },
   {
    "duration": 6,
    "start_time": "2022-12-06T10:25:10.783Z"
   },
   {
    "duration": 10,
    "start_time": "2022-12-06T10:25:10.791Z"
   },
   {
    "duration": 18,
    "start_time": "2022-12-06T10:25:10.809Z"
   },
   {
    "duration": 25,
    "start_time": "2022-12-06T10:25:10.829Z"
   },
   {
    "duration": 22,
    "start_time": "2022-12-06T10:25:10.855Z"
   },
   {
    "duration": 285,
    "start_time": "2022-12-06T10:25:10.879Z"
   },
   {
    "duration": 285,
    "start_time": "2022-12-06T10:25:11.166Z"
   },
   {
    "duration": 213,
    "start_time": "2022-12-06T10:25:11.452Z"
   },
   {
    "duration": 376,
    "start_time": "2022-12-06T10:25:11.666Z"
   },
   {
    "duration": 225,
    "start_time": "2022-12-06T10:25:12.043Z"
   },
   {
    "duration": 371,
    "start_time": "2022-12-06T10:25:12.270Z"
   },
   {
    "duration": 146,
    "start_time": "2022-12-06T10:25:12.643Z"
   },
   {
    "duration": 12,
    "start_time": "2022-12-06T10:25:12.791Z"
   },
   {
    "duration": 161,
    "start_time": "2022-12-06T10:25:12.804Z"
   },
   {
    "duration": 160,
    "start_time": "2022-12-06T10:25:12.966Z"
   },
   {
    "duration": 5,
    "start_time": "2022-12-06T10:25:13.127Z"
   },
   {
    "duration": 428,
    "start_time": "2022-12-06T10:25:13.133Z"
   },
   {
    "duration": 20,
    "start_time": "2022-12-06T10:25:13.563Z"
   },
   {
    "duration": 29,
    "start_time": "2022-12-06T10:25:13.584Z"
   },
   {
    "duration": 8,
    "start_time": "2022-12-06T10:25:13.614Z"
   },
   {
    "duration": 8,
    "start_time": "2022-12-06T10:25:13.623Z"
   },
   {
    "duration": 24,
    "start_time": "2022-12-06T10:25:13.632Z"
   },
   {
    "duration": 15,
    "start_time": "2022-12-06T10:25:13.657Z"
   },
   {
    "duration": 5,
    "start_time": "2022-12-06T10:27:33.762Z"
   },
   {
    "duration": 1056,
    "start_time": "2022-12-06T10:49:16.078Z"
   },
   {
    "duration": 92,
    "start_time": "2022-12-06T10:49:17.136Z"
   },
   {
    "duration": 25,
    "start_time": "2022-12-06T10:49:17.229Z"
   },
   {
    "duration": 7,
    "start_time": "2022-12-06T10:49:17.255Z"
   },
   {
    "duration": 5,
    "start_time": "2022-12-06T10:49:17.263Z"
   },
   {
    "duration": 9,
    "start_time": "2022-12-06T10:49:17.270Z"
   },
   {
    "duration": 33,
    "start_time": "2022-12-06T10:49:17.280Z"
   },
   {
    "duration": 20,
    "start_time": "2022-12-06T10:49:17.315Z"
   },
   {
    "duration": 289,
    "start_time": "2022-12-06T10:49:17.336Z"
   },
   {
    "duration": 272,
    "start_time": "2022-12-06T10:49:17.627Z"
   },
   {
    "duration": 206,
    "start_time": "2022-12-06T10:49:17.900Z"
   },
   {
    "duration": 319,
    "start_time": "2022-12-06T10:49:18.108Z"
   },
   {
    "duration": 218,
    "start_time": "2022-12-06T10:49:18.429Z"
   },
   {
    "duration": 324,
    "start_time": "2022-12-06T10:49:18.648Z"
   },
   {
    "duration": 141,
    "start_time": "2022-12-06T10:49:18.974Z"
   },
   {
    "duration": 5,
    "start_time": "2022-12-06T10:49:19.116Z"
   },
   {
    "duration": 176,
    "start_time": "2022-12-06T10:49:19.123Z"
   },
   {
    "duration": 151,
    "start_time": "2022-12-06T10:49:19.301Z"
   },
   {
    "duration": 4,
    "start_time": "2022-12-06T10:49:19.454Z"
   },
   {
    "duration": 413,
    "start_time": "2022-12-06T10:49:19.460Z"
   },
   {
    "duration": 3,
    "start_time": "2022-12-06T10:49:19.875Z"
   },
   {
    "duration": 0,
    "start_time": "2022-12-06T10:49:19.880Z"
   },
   {
    "duration": 0,
    "start_time": "2022-12-06T10:49:19.881Z"
   },
   {
    "duration": 0,
    "start_time": "2022-12-06T10:49:19.882Z"
   },
   {
    "duration": 0,
    "start_time": "2022-12-06T10:49:19.884Z"
   },
   {
    "duration": 0,
    "start_time": "2022-12-06T10:49:19.885Z"
   },
   {
    "duration": 0,
    "start_time": "2022-12-06T10:49:19.897Z"
   },
   {
    "duration": 108,
    "start_time": "2022-12-06T10:49:32.101Z"
   },
   {
    "duration": 22,
    "start_time": "2022-12-06T10:49:48.043Z"
   },
   {
    "duration": 10,
    "start_time": "2022-12-06T10:49:50.574Z"
   },
   {
    "duration": 20,
    "start_time": "2022-12-06T10:50:18.210Z"
   },
   {
    "duration": 9,
    "start_time": "2022-12-06T10:50:18.883Z"
   },
   {
    "duration": 22,
    "start_time": "2022-12-06T10:50:32.190Z"
   },
   {
    "duration": 3,
    "start_time": "2022-12-06T10:50:32.764Z"
   },
   {
    "duration": 25,
    "start_time": "2022-12-06T10:50:41.147Z"
   },
   {
    "duration": 24,
    "start_time": "2022-12-06T10:50:56.649Z"
   },
   {
    "duration": 23,
    "start_time": "2022-12-06T10:51:26.039Z"
   },
   {
    "duration": 25,
    "start_time": "2022-12-06T10:51:44.936Z"
   },
   {
    "duration": 31,
    "start_time": "2022-12-06T10:51:45.654Z"
   },
   {
    "duration": 22,
    "start_time": "2022-12-06T10:51:50.386Z"
   },
   {
    "duration": 22,
    "start_time": "2022-12-06T10:51:51.152Z"
   },
   {
    "duration": 23,
    "start_time": "2022-12-06T10:52:03.502Z"
   },
   {
    "duration": 5,
    "start_time": "2022-12-06T10:52:52.757Z"
   },
   {
    "duration": 5,
    "start_time": "2022-12-06T10:59:20.087Z"
   },
   {
    "duration": 6,
    "start_time": "2022-12-06T10:59:43.957Z"
   },
   {
    "duration": 11,
    "start_time": "2022-12-06T11:08:02.893Z"
   },
   {
    "duration": 1091,
    "start_time": "2022-12-06T11:08:14.057Z"
   },
   {
    "duration": 105,
    "start_time": "2022-12-06T11:08:15.150Z"
   },
   {
    "duration": 25,
    "start_time": "2022-12-06T11:08:15.257Z"
   },
   {
    "duration": 6,
    "start_time": "2022-12-06T11:08:15.284Z"
   },
   {
    "duration": 14,
    "start_time": "2022-12-06T11:08:15.292Z"
   },
   {
    "duration": 11,
    "start_time": "2022-12-06T11:08:15.307Z"
   },
   {
    "duration": 22,
    "start_time": "2022-12-06T11:08:15.320Z"
   },
   {
    "duration": 22,
    "start_time": "2022-12-06T11:08:15.344Z"
   },
   {
    "duration": 298,
    "start_time": "2022-12-06T11:08:15.367Z"
   },
   {
    "duration": 281,
    "start_time": "2022-12-06T11:08:15.667Z"
   },
   {
    "duration": 202,
    "start_time": "2022-12-06T11:08:15.950Z"
   },
   {
    "duration": 305,
    "start_time": "2022-12-06T11:08:16.154Z"
   },
   {
    "duration": 236,
    "start_time": "2022-12-06T11:08:16.461Z"
   },
   {
    "duration": 330,
    "start_time": "2022-12-06T11:08:16.699Z"
   },
   {
    "duration": 136,
    "start_time": "2022-12-06T11:08:17.031Z"
   },
   {
    "duration": 5,
    "start_time": "2022-12-06T11:08:17.169Z"
   },
   {
    "duration": 169,
    "start_time": "2022-12-06T11:08:17.176Z"
   },
   {
    "duration": 158,
    "start_time": "2022-12-06T11:08:17.346Z"
   },
   {
    "duration": 5,
    "start_time": "2022-12-06T11:08:17.506Z"
   },
   {
    "duration": 400,
    "start_time": "2022-12-06T11:08:17.512Z"
   },
   {
    "duration": 21,
    "start_time": "2022-12-06T11:08:17.913Z"
   },
   {
    "duration": 5,
    "start_time": "2022-12-06T11:08:17.935Z"
   },
   {
    "duration": 44,
    "start_time": "2022-12-06T11:08:17.941Z"
   },
   {
    "duration": 0,
    "start_time": "2022-12-06T11:08:17.986Z"
   },
   {
    "duration": 0,
    "start_time": "2022-12-06T11:08:17.988Z"
   },
   {
    "duration": 0,
    "start_time": "2022-12-06T11:08:17.989Z"
   },
   {
    "duration": 0,
    "start_time": "2022-12-06T11:08:17.990Z"
   },
   {
    "duration": 0,
    "start_time": "2022-12-06T11:08:17.991Z"
   },
   {
    "duration": 8,
    "start_time": "2022-12-06T11:09:10.867Z"
   },
   {
    "duration": 10,
    "start_time": "2022-12-06T11:09:13.780Z"
   },
   {
    "duration": 7,
    "start_time": "2022-12-06T11:10:31.984Z"
   },
   {
    "duration": 5,
    "start_time": "2022-12-06T11:10:51.348Z"
   },
   {
    "duration": 6,
    "start_time": "2022-12-06T11:11:04.222Z"
   },
   {
    "duration": 4,
    "start_time": "2022-12-06T11:15:32.469Z"
   },
   {
    "duration": 4,
    "start_time": "2022-12-06T11:15:56.588Z"
   },
   {
    "duration": 6,
    "start_time": "2022-12-06T11:16:12.712Z"
   },
   {
    "duration": 8,
    "start_time": "2022-12-06T11:16:32.573Z"
   },
   {
    "duration": 11,
    "start_time": "2022-12-06T11:16:54.701Z"
   },
   {
    "duration": 11,
    "start_time": "2022-12-06T11:17:36.224Z"
   },
   {
    "duration": 13,
    "start_time": "2022-12-06T11:17:56.195Z"
   },
   {
    "duration": 8,
    "start_time": "2022-12-06T11:18:16.853Z"
   },
   {
    "duration": 8,
    "start_time": "2022-12-06T11:18:57.902Z"
   },
   {
    "duration": 1224,
    "start_time": "2022-12-06T11:19:03.724Z"
   },
   {
    "duration": 91,
    "start_time": "2022-12-06T11:19:04.950Z"
   },
   {
    "duration": 26,
    "start_time": "2022-12-06T11:19:05.043Z"
   },
   {
    "duration": 7,
    "start_time": "2022-12-06T11:19:05.070Z"
   },
   {
    "duration": 16,
    "start_time": "2022-12-06T11:19:05.079Z"
   },
   {
    "duration": 13,
    "start_time": "2022-12-06T11:19:05.097Z"
   },
   {
    "duration": 22,
    "start_time": "2022-12-06T11:19:05.111Z"
   },
   {
    "duration": 21,
    "start_time": "2022-12-06T11:19:05.134Z"
   },
   {
    "duration": 288,
    "start_time": "2022-12-06T11:19:05.156Z"
   },
   {
    "duration": 271,
    "start_time": "2022-12-06T11:19:05.445Z"
   },
   {
    "duration": 203,
    "start_time": "2022-12-06T11:19:05.718Z"
   },
   {
    "duration": 297,
    "start_time": "2022-12-06T11:19:05.923Z"
   },
   {
    "duration": 213,
    "start_time": "2022-12-06T11:19:06.222Z"
   },
   {
    "duration": 298,
    "start_time": "2022-12-06T11:19:06.438Z"
   },
   {
    "duration": 144,
    "start_time": "2022-12-06T11:19:06.738Z"
   },
   {
    "duration": 14,
    "start_time": "2022-12-06T11:19:06.884Z"
   },
   {
    "duration": 152,
    "start_time": "2022-12-06T11:19:06.899Z"
   },
   {
    "duration": 157,
    "start_time": "2022-12-06T11:19:07.053Z"
   },
   {
    "duration": 4,
    "start_time": "2022-12-06T11:19:07.212Z"
   },
   {
    "duration": 397,
    "start_time": "2022-12-06T11:19:07.217Z"
   },
   {
    "duration": 19,
    "start_time": "2022-12-06T11:19:07.616Z"
   },
   {
    "duration": 5,
    "start_time": "2022-12-06T11:19:07.637Z"
   },
   {
    "duration": 11,
    "start_time": "2022-12-06T11:19:07.643Z"
   },
   {
    "duration": 6,
    "start_time": "2022-12-06T11:19:07.655Z"
   },
   {
    "duration": 38,
    "start_time": "2022-12-06T11:19:07.662Z"
   },
   {
    "duration": 106,
    "start_time": "2022-12-06T11:19:07.701Z"
   },
   {
    "duration": 68,
    "start_time": "2022-12-06T11:19:07.808Z"
   },
   {
    "duration": 14,
    "start_time": "2022-12-06T11:19:07.877Z"
   },
   {
    "duration": 4,
    "start_time": "2022-12-06T11:21:31.600Z"
   },
   {
    "duration": 5,
    "start_time": "2022-12-06T11:22:06.707Z"
   },
   {
    "duration": 20,
    "start_time": "2022-12-06T11:22:11.900Z"
   },
   {
    "duration": 4,
    "start_time": "2022-12-06T11:22:12.300Z"
   },
   {
    "duration": 5,
    "start_time": "2022-12-06T11:22:52.388Z"
   },
   {
    "duration": 4,
    "start_time": "2022-12-06T11:27:33.081Z"
   },
   {
    "duration": 10,
    "start_time": "2022-12-06T11:27:42.059Z"
   },
   {
    "duration": 9,
    "start_time": "2022-12-06T11:28:46.849Z"
   },
   {
    "duration": 1045,
    "start_time": "2022-12-06T11:29:14.799Z"
   },
   {
    "duration": 92,
    "start_time": "2022-12-06T11:29:15.845Z"
   },
   {
    "duration": 32,
    "start_time": "2022-12-06T11:29:15.938Z"
   },
   {
    "duration": 15,
    "start_time": "2022-12-06T11:29:15.972Z"
   },
   {
    "duration": 16,
    "start_time": "2022-12-06T11:29:15.989Z"
   },
   {
    "duration": 20,
    "start_time": "2022-12-06T11:29:16.007Z"
   },
   {
    "duration": 31,
    "start_time": "2022-12-06T11:29:16.029Z"
   },
   {
    "duration": 22,
    "start_time": "2022-12-06T11:29:16.062Z"
   },
   {
    "duration": 272,
    "start_time": "2022-12-06T11:29:16.085Z"
   },
   {
    "duration": 268,
    "start_time": "2022-12-06T11:29:16.359Z"
   },
   {
    "duration": 204,
    "start_time": "2022-12-06T11:29:16.628Z"
   },
   {
    "duration": 293,
    "start_time": "2022-12-06T11:29:16.834Z"
   },
   {
    "duration": 229,
    "start_time": "2022-12-06T11:29:17.128Z"
   },
   {
    "duration": 331,
    "start_time": "2022-12-06T11:29:17.359Z"
   },
   {
    "duration": 145,
    "start_time": "2022-12-06T11:29:17.692Z"
   },
   {
    "duration": 5,
    "start_time": "2022-12-06T11:29:17.839Z"
   },
   {
    "duration": 168,
    "start_time": "2022-12-06T11:29:17.845Z"
   },
   {
    "duration": 162,
    "start_time": "2022-12-06T11:29:18.015Z"
   },
   {
    "duration": 4,
    "start_time": "2022-12-06T11:29:18.179Z"
   },
   {
    "duration": 413,
    "start_time": "2022-12-06T11:29:18.185Z"
   },
   {
    "duration": 20,
    "start_time": "2022-12-06T11:29:18.599Z"
   },
   {
    "duration": 4,
    "start_time": "2022-12-06T11:29:18.621Z"
   },
   {
    "duration": 13,
    "start_time": "2022-12-06T11:29:18.626Z"
   },
   {
    "duration": 10,
    "start_time": "2022-12-06T11:29:18.641Z"
   },
   {
    "duration": 11,
    "start_time": "2022-12-06T11:29:18.652Z"
   },
   {
    "duration": 9,
    "start_time": "2022-12-06T11:29:18.664Z"
   },
   {
    "duration": 22,
    "start_time": "2022-12-06T11:29:18.696Z"
   },
   {
    "duration": 5,
    "start_time": "2022-12-06T11:29:18.721Z"
   },
   {
    "duration": 20,
    "start_time": "2022-12-06T11:29:18.728Z"
   },
   {
    "duration": 8,
    "start_time": "2022-12-06T11:29:18.749Z"
   },
   {
    "duration": 11,
    "start_time": "2022-12-06T11:30:18.349Z"
   },
   {
    "duration": 10,
    "start_time": "2022-12-06T11:30:19.156Z"
   },
   {
    "duration": 1028,
    "start_time": "2022-12-06T11:39:36.514Z"
   },
   {
    "duration": 92,
    "start_time": "2022-12-06T11:39:37.544Z"
   },
   {
    "duration": 24,
    "start_time": "2022-12-06T11:39:37.637Z"
   },
   {
    "duration": 6,
    "start_time": "2022-12-06T11:39:37.663Z"
   },
   {
    "duration": 21,
    "start_time": "2022-12-06T11:39:37.670Z"
   },
   {
    "duration": 12,
    "start_time": "2022-12-06T11:39:37.692Z"
   },
   {
    "duration": 27,
    "start_time": "2022-12-06T11:39:37.706Z"
   },
   {
    "duration": 21,
    "start_time": "2022-12-06T11:39:37.734Z"
   },
   {
    "duration": 279,
    "start_time": "2022-12-06T11:39:37.757Z"
   },
   {
    "duration": 266,
    "start_time": "2022-12-06T11:39:38.039Z"
   },
   {
    "duration": 210,
    "start_time": "2022-12-06T11:39:38.306Z"
   },
   {
    "duration": 318,
    "start_time": "2022-12-06T11:39:38.518Z"
   },
   {
    "duration": 243,
    "start_time": "2022-12-06T11:39:38.838Z"
   },
   {
    "duration": 342,
    "start_time": "2022-12-06T11:39:39.082Z"
   },
   {
    "duration": 139,
    "start_time": "2022-12-06T11:39:39.425Z"
   },
   {
    "duration": 5,
    "start_time": "2022-12-06T11:39:39.566Z"
   },
   {
    "duration": 165,
    "start_time": "2022-12-06T11:39:39.572Z"
   },
   {
    "duration": 152,
    "start_time": "2022-12-06T11:39:39.739Z"
   },
   {
    "duration": 4,
    "start_time": "2022-12-06T11:39:39.897Z"
   },
   {
    "duration": 443,
    "start_time": "2022-12-06T11:39:39.903Z"
   },
   {
    "duration": 19,
    "start_time": "2022-12-06T11:39:40.347Z"
   },
   {
    "duration": 4,
    "start_time": "2022-12-06T11:39:40.368Z"
   },
   {
    "duration": 24,
    "start_time": "2022-12-06T11:39:40.373Z"
   },
   {
    "duration": 6,
    "start_time": "2022-12-06T11:39:40.399Z"
   },
   {
    "duration": 9,
    "start_time": "2022-12-06T11:39:40.406Z"
   },
   {
    "duration": 12,
    "start_time": "2022-12-06T11:39:40.417Z"
   },
   {
    "duration": 26,
    "start_time": "2022-12-06T11:39:40.430Z"
   },
   {
    "duration": 5,
    "start_time": "2022-12-06T11:39:40.459Z"
   },
   {
    "duration": 10,
    "start_time": "2022-12-06T11:39:40.466Z"
   },
   {
    "duration": 23,
    "start_time": "2022-12-06T11:39:40.478Z"
   }
  ],
  "kernelspec": {
   "display_name": "Python 3 (ipykernel)",
   "language": "python",
   "name": "python3"
  },
  "language_info": {
   "codemirror_mode": {
    "name": "ipython",
    "version": 3
   },
   "file_extension": ".py",
   "mimetype": "text/x-python",
   "name": "python",
   "nbconvert_exporter": "python",
   "pygments_lexer": "ipython3",
   "version": "3.9.5"
  },
  "toc": {
   "base_numbering": 1,
   "nav_menu": {},
   "number_sections": true,
   "sideBar": true,
   "skip_h1_title": true,
   "title_cell": "Table of Contents",
   "title_sidebar": "Contents",
   "toc_cell": false,
   "toc_position": {},
   "toc_section_display": true,
   "toc_window_display": false
  }
 },
 "nbformat": 4,
 "nbformat_minor": 2
}
