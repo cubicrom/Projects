{
 "cells": [
  {
   "cell_type": "markdown",
   "metadata": {},
   "source": [
    "# Исследование объявлений о продаже квартир\n",
    "\n",
    "В вашем распоряжении данные сервиса Яндекс.Недвижимость — архив объявлений о продаже квартир в Санкт-Петербурге и соседних населённых пунктов за несколько лет. Нужно научиться определять рыночную стоимость объектов недвижимости. Ваша задача — установить параметры. Это позволит построить автоматизированную систему: она отследит аномалии и мошенническую деятельность. \n",
    "\n",
    "По каждой квартире на продажу доступны два вида данных. Первые вписаны пользователем, вторые — получены автоматически на основе картографических данных. Например, расстояние до центра, аэропорта, ближайшего парка и водоёма. "
   ]
  },
  {
   "cell_type": "markdown",
   "metadata": {},
   "source": [
    "## Откройте файл с данными и изучите общую информацию. "
   ]
  },
  {
   "cell_type": "code",
   "execution_count": 1,
   "metadata": {},
   "outputs": [],
   "source": [
    "import pandas as pd #Импортируем библиотеку"
   ]
  },
  {
   "cell_type": "code",
   "execution_count": 2,
   "metadata": {},
   "outputs": [
    {
     "data": {
      "text/html": [
       "<div>\n",
       "<style scoped>\n",
       "    .dataframe tbody tr th:only-of-type {\n",
       "        vertical-align: middle;\n",
       "    }\n",
       "\n",
       "    .dataframe tbody tr th {\n",
       "        vertical-align: top;\n",
       "    }\n",
       "\n",
       "    .dataframe thead th {\n",
       "        text-align: right;\n",
       "    }\n",
       "</style>\n",
       "<table border=\"1\" class=\"dataframe\">\n",
       "  <thead>\n",
       "    <tr style=\"text-align: right;\">\n",
       "      <th></th>\n",
       "      <th>total_images</th>\n",
       "      <th>last_price</th>\n",
       "      <th>total_area</th>\n",
       "      <th>first_day_exposition</th>\n",
       "      <th>rooms</th>\n",
       "      <th>ceiling_height</th>\n",
       "      <th>floors_total</th>\n",
       "      <th>living_area</th>\n",
       "      <th>floor</th>\n",
       "      <th>is_apartment</th>\n",
       "      <th>studio</th>\n",
       "      <th>open_plan</th>\n",
       "      <th>kitchen_area</th>\n",
       "      <th>balcony</th>\n",
       "      <th>locality_name</th>\n",
       "      <th>airports_nearest</th>\n",
       "      <th>cityCenters_nearest</th>\n",
       "      <th>parks_around3000</th>\n",
       "      <th>parks_nearest</th>\n",
       "      <th>ponds_around3000</th>\n",
       "      <th>ponds_nearest</th>\n",
       "      <th>days_exposition</th>\n",
       "    </tr>\n",
       "  </thead>\n",
       "  <tbody>\n",
       "    <tr>\n",
       "      <th>0</th>\n",
       "      <td>20</td>\n",
       "      <td>13000000.0</td>\n",
       "      <td>108.00</td>\n",
       "      <td>2019-03-07T00:00:00</td>\n",
       "      <td>3</td>\n",
       "      <td>2.70</td>\n",
       "      <td>16.0</td>\n",
       "      <td>51.00</td>\n",
       "      <td>8</td>\n",
       "      <td>NaN</td>\n",
       "      <td>False</td>\n",
       "      <td>False</td>\n",
       "      <td>25.00</td>\n",
       "      <td>NaN</td>\n",
       "      <td>Санкт-Петербург</td>\n",
       "      <td>18863.0</td>\n",
       "      <td>16028.0</td>\n",
       "      <td>1.0</td>\n",
       "      <td>482.0</td>\n",
       "      <td>2.0</td>\n",
       "      <td>755.0</td>\n",
       "      <td>NaN</td>\n",
       "    </tr>\n",
       "    <tr>\n",
       "      <th>1</th>\n",
       "      <td>7</td>\n",
       "      <td>3350000.0</td>\n",
       "      <td>40.40</td>\n",
       "      <td>2018-12-04T00:00:00</td>\n",
       "      <td>1</td>\n",
       "      <td>NaN</td>\n",
       "      <td>11.0</td>\n",
       "      <td>18.60</td>\n",
       "      <td>1</td>\n",
       "      <td>NaN</td>\n",
       "      <td>False</td>\n",
       "      <td>False</td>\n",
       "      <td>11.00</td>\n",
       "      <td>2.0</td>\n",
       "      <td>посёлок Шушары</td>\n",
       "      <td>12817.0</td>\n",
       "      <td>18603.0</td>\n",
       "      <td>0.0</td>\n",
       "      <td>NaN</td>\n",
       "      <td>0.0</td>\n",
       "      <td>NaN</td>\n",
       "      <td>81.0</td>\n",
       "    </tr>\n",
       "    <tr>\n",
       "      <th>2</th>\n",
       "      <td>10</td>\n",
       "      <td>5196000.0</td>\n",
       "      <td>56.00</td>\n",
       "      <td>2015-08-20T00:00:00</td>\n",
       "      <td>2</td>\n",
       "      <td>NaN</td>\n",
       "      <td>5.0</td>\n",
       "      <td>34.30</td>\n",
       "      <td>4</td>\n",
       "      <td>NaN</td>\n",
       "      <td>False</td>\n",
       "      <td>False</td>\n",
       "      <td>8.30</td>\n",
       "      <td>0.0</td>\n",
       "      <td>Санкт-Петербург</td>\n",
       "      <td>21741.0</td>\n",
       "      <td>13933.0</td>\n",
       "      <td>1.0</td>\n",
       "      <td>90.0</td>\n",
       "      <td>2.0</td>\n",
       "      <td>574.0</td>\n",
       "      <td>558.0</td>\n",
       "    </tr>\n",
       "    <tr>\n",
       "      <th>3</th>\n",
       "      <td>0</td>\n",
       "      <td>64900000.0</td>\n",
       "      <td>159.00</td>\n",
       "      <td>2015-07-24T00:00:00</td>\n",
       "      <td>3</td>\n",
       "      <td>NaN</td>\n",
       "      <td>14.0</td>\n",
       "      <td>NaN</td>\n",
       "      <td>9</td>\n",
       "      <td>NaN</td>\n",
       "      <td>False</td>\n",
       "      <td>False</td>\n",
       "      <td>NaN</td>\n",
       "      <td>0.0</td>\n",
       "      <td>Санкт-Петербург</td>\n",
       "      <td>28098.0</td>\n",
       "      <td>6800.0</td>\n",
       "      <td>2.0</td>\n",
       "      <td>84.0</td>\n",
       "      <td>3.0</td>\n",
       "      <td>234.0</td>\n",
       "      <td>424.0</td>\n",
       "    </tr>\n",
       "    <tr>\n",
       "      <th>4</th>\n",
       "      <td>2</td>\n",
       "      <td>10000000.0</td>\n",
       "      <td>100.00</td>\n",
       "      <td>2018-06-19T00:00:00</td>\n",
       "      <td>2</td>\n",
       "      <td>3.03</td>\n",
       "      <td>14.0</td>\n",
       "      <td>32.00</td>\n",
       "      <td>13</td>\n",
       "      <td>NaN</td>\n",
       "      <td>False</td>\n",
       "      <td>False</td>\n",
       "      <td>41.00</td>\n",
       "      <td>NaN</td>\n",
       "      <td>Санкт-Петербург</td>\n",
       "      <td>31856.0</td>\n",
       "      <td>8098.0</td>\n",
       "      <td>2.0</td>\n",
       "      <td>112.0</td>\n",
       "      <td>1.0</td>\n",
       "      <td>48.0</td>\n",
       "      <td>121.0</td>\n",
       "    </tr>\n",
       "    <tr>\n",
       "      <th>5</th>\n",
       "      <td>10</td>\n",
       "      <td>2890000.0</td>\n",
       "      <td>30.40</td>\n",
       "      <td>2018-09-10T00:00:00</td>\n",
       "      <td>1</td>\n",
       "      <td>NaN</td>\n",
       "      <td>12.0</td>\n",
       "      <td>14.40</td>\n",
       "      <td>5</td>\n",
       "      <td>NaN</td>\n",
       "      <td>False</td>\n",
       "      <td>False</td>\n",
       "      <td>9.10</td>\n",
       "      <td>NaN</td>\n",
       "      <td>городской посёлок Янино-1</td>\n",
       "      <td>NaN</td>\n",
       "      <td>NaN</td>\n",
       "      <td>NaN</td>\n",
       "      <td>NaN</td>\n",
       "      <td>NaN</td>\n",
       "      <td>NaN</td>\n",
       "      <td>55.0</td>\n",
       "    </tr>\n",
       "    <tr>\n",
       "      <th>6</th>\n",
       "      <td>6</td>\n",
       "      <td>3700000.0</td>\n",
       "      <td>37.30</td>\n",
       "      <td>2017-11-02T00:00:00</td>\n",
       "      <td>1</td>\n",
       "      <td>NaN</td>\n",
       "      <td>26.0</td>\n",
       "      <td>10.60</td>\n",
       "      <td>6</td>\n",
       "      <td>NaN</td>\n",
       "      <td>False</td>\n",
       "      <td>False</td>\n",
       "      <td>14.40</td>\n",
       "      <td>1.0</td>\n",
       "      <td>посёлок Парголово</td>\n",
       "      <td>52996.0</td>\n",
       "      <td>19143.0</td>\n",
       "      <td>0.0</td>\n",
       "      <td>NaN</td>\n",
       "      <td>0.0</td>\n",
       "      <td>NaN</td>\n",
       "      <td>155.0</td>\n",
       "    </tr>\n",
       "    <tr>\n",
       "      <th>7</th>\n",
       "      <td>5</td>\n",
       "      <td>7915000.0</td>\n",
       "      <td>71.60</td>\n",
       "      <td>2019-04-18T00:00:00</td>\n",
       "      <td>2</td>\n",
       "      <td>NaN</td>\n",
       "      <td>24.0</td>\n",
       "      <td>NaN</td>\n",
       "      <td>22</td>\n",
       "      <td>NaN</td>\n",
       "      <td>False</td>\n",
       "      <td>False</td>\n",
       "      <td>18.90</td>\n",
       "      <td>2.0</td>\n",
       "      <td>Санкт-Петербург</td>\n",
       "      <td>23982.0</td>\n",
       "      <td>11634.0</td>\n",
       "      <td>0.0</td>\n",
       "      <td>NaN</td>\n",
       "      <td>0.0</td>\n",
       "      <td>NaN</td>\n",
       "      <td>NaN</td>\n",
       "    </tr>\n",
       "    <tr>\n",
       "      <th>8</th>\n",
       "      <td>20</td>\n",
       "      <td>2900000.0</td>\n",
       "      <td>33.16</td>\n",
       "      <td>2018-05-23T00:00:00</td>\n",
       "      <td>1</td>\n",
       "      <td>NaN</td>\n",
       "      <td>27.0</td>\n",
       "      <td>15.43</td>\n",
       "      <td>26</td>\n",
       "      <td>NaN</td>\n",
       "      <td>False</td>\n",
       "      <td>False</td>\n",
       "      <td>8.81</td>\n",
       "      <td>NaN</td>\n",
       "      <td>посёлок Мурино</td>\n",
       "      <td>NaN</td>\n",
       "      <td>NaN</td>\n",
       "      <td>NaN</td>\n",
       "      <td>NaN</td>\n",
       "      <td>NaN</td>\n",
       "      <td>NaN</td>\n",
       "      <td>189.0</td>\n",
       "    </tr>\n",
       "    <tr>\n",
       "      <th>9</th>\n",
       "      <td>18</td>\n",
       "      <td>5400000.0</td>\n",
       "      <td>61.00</td>\n",
       "      <td>2017-02-26T00:00:00</td>\n",
       "      <td>3</td>\n",
       "      <td>2.50</td>\n",
       "      <td>9.0</td>\n",
       "      <td>43.60</td>\n",
       "      <td>7</td>\n",
       "      <td>NaN</td>\n",
       "      <td>False</td>\n",
       "      <td>False</td>\n",
       "      <td>6.50</td>\n",
       "      <td>2.0</td>\n",
       "      <td>Санкт-Петербург</td>\n",
       "      <td>50898.0</td>\n",
       "      <td>15008.0</td>\n",
       "      <td>0.0</td>\n",
       "      <td>NaN</td>\n",
       "      <td>0.0</td>\n",
       "      <td>NaN</td>\n",
       "      <td>289.0</td>\n",
       "    </tr>\n",
       "    <tr>\n",
       "      <th>10</th>\n",
       "      <td>5</td>\n",
       "      <td>5050000.0</td>\n",
       "      <td>39.60</td>\n",
       "      <td>2017-11-16T00:00:00</td>\n",
       "      <td>1</td>\n",
       "      <td>2.67</td>\n",
       "      <td>12.0</td>\n",
       "      <td>20.30</td>\n",
       "      <td>3</td>\n",
       "      <td>NaN</td>\n",
       "      <td>False</td>\n",
       "      <td>False</td>\n",
       "      <td>8.50</td>\n",
       "      <td>NaN</td>\n",
       "      <td>Санкт-Петербург</td>\n",
       "      <td>38357.0</td>\n",
       "      <td>13878.0</td>\n",
       "      <td>1.0</td>\n",
       "      <td>310.0</td>\n",
       "      <td>2.0</td>\n",
       "      <td>553.0</td>\n",
       "      <td>137.0</td>\n",
       "    </tr>\n",
       "    <tr>\n",
       "      <th>11</th>\n",
       "      <td>9</td>\n",
       "      <td>3300000.0</td>\n",
       "      <td>44.00</td>\n",
       "      <td>2018-08-27T00:00:00</td>\n",
       "      <td>2</td>\n",
       "      <td>NaN</td>\n",
       "      <td>5.0</td>\n",
       "      <td>31.00</td>\n",
       "      <td>4</td>\n",
       "      <td>False</td>\n",
       "      <td>False</td>\n",
       "      <td>False</td>\n",
       "      <td>6.00</td>\n",
       "      <td>1.0</td>\n",
       "      <td>Ломоносов</td>\n",
       "      <td>48252.0</td>\n",
       "      <td>51677.0</td>\n",
       "      <td>0.0</td>\n",
       "      <td>NaN</td>\n",
       "      <td>0.0</td>\n",
       "      <td>NaN</td>\n",
       "      <td>7.0</td>\n",
       "    </tr>\n",
       "    <tr>\n",
       "      <th>12</th>\n",
       "      <td>10</td>\n",
       "      <td>3890000.0</td>\n",
       "      <td>54.00</td>\n",
       "      <td>2016-06-30T00:00:00</td>\n",
       "      <td>2</td>\n",
       "      <td>NaN</td>\n",
       "      <td>5.0</td>\n",
       "      <td>30.00</td>\n",
       "      <td>5</td>\n",
       "      <td>NaN</td>\n",
       "      <td>False</td>\n",
       "      <td>False</td>\n",
       "      <td>9.00</td>\n",
       "      <td>0.0</td>\n",
       "      <td>Сертолово</td>\n",
       "      <td>NaN</td>\n",
       "      <td>NaN</td>\n",
       "      <td>NaN</td>\n",
       "      <td>NaN</td>\n",
       "      <td>NaN</td>\n",
       "      <td>NaN</td>\n",
       "      <td>90.0</td>\n",
       "    </tr>\n",
       "    <tr>\n",
       "      <th>13</th>\n",
       "      <td>20</td>\n",
       "      <td>3550000.0</td>\n",
       "      <td>42.80</td>\n",
       "      <td>2017-07-01T00:00:00</td>\n",
       "      <td>2</td>\n",
       "      <td>2.56</td>\n",
       "      <td>5.0</td>\n",
       "      <td>27.00</td>\n",
       "      <td>5</td>\n",
       "      <td>NaN</td>\n",
       "      <td>False</td>\n",
       "      <td>False</td>\n",
       "      <td>5.20</td>\n",
       "      <td>1.0</td>\n",
       "      <td>Петергоф</td>\n",
       "      <td>37868.0</td>\n",
       "      <td>33058.0</td>\n",
       "      <td>1.0</td>\n",
       "      <td>294.0</td>\n",
       "      <td>3.0</td>\n",
       "      <td>298.0</td>\n",
       "      <td>366.0</td>\n",
       "    </tr>\n",
       "    <tr>\n",
       "      <th>14</th>\n",
       "      <td>1</td>\n",
       "      <td>4400000.0</td>\n",
       "      <td>36.00</td>\n",
       "      <td>2016-06-23T00:00:00</td>\n",
       "      <td>1</td>\n",
       "      <td>NaN</td>\n",
       "      <td>6.0</td>\n",
       "      <td>17.00</td>\n",
       "      <td>1</td>\n",
       "      <td>NaN</td>\n",
       "      <td>False</td>\n",
       "      <td>False</td>\n",
       "      <td>8.00</td>\n",
       "      <td>0.0</td>\n",
       "      <td>Пушкин</td>\n",
       "      <td>20782.0</td>\n",
       "      <td>30759.0</td>\n",
       "      <td>0.0</td>\n",
       "      <td>NaN</td>\n",
       "      <td>1.0</td>\n",
       "      <td>96.0</td>\n",
       "      <td>203.0</td>\n",
       "    </tr>\n",
       "    <tr>\n",
       "      <th>15</th>\n",
       "      <td>16</td>\n",
       "      <td>4650000.0</td>\n",
       "      <td>39.00</td>\n",
       "      <td>2017-11-18T00:00:00</td>\n",
       "      <td>1</td>\n",
       "      <td>NaN</td>\n",
       "      <td>14.0</td>\n",
       "      <td>20.50</td>\n",
       "      <td>5</td>\n",
       "      <td>NaN</td>\n",
       "      <td>False</td>\n",
       "      <td>False</td>\n",
       "      <td>7.60</td>\n",
       "      <td>1.0</td>\n",
       "      <td>Санкт-Петербург</td>\n",
       "      <td>12900.0</td>\n",
       "      <td>14259.0</td>\n",
       "      <td>1.0</td>\n",
       "      <td>590.0</td>\n",
       "      <td>1.0</td>\n",
       "      <td>296.0</td>\n",
       "      <td>19.0</td>\n",
       "    </tr>\n",
       "    <tr>\n",
       "      <th>16</th>\n",
       "      <td>11</td>\n",
       "      <td>6700000.0</td>\n",
       "      <td>82.00</td>\n",
       "      <td>2017-11-23T00:00:00</td>\n",
       "      <td>3</td>\n",
       "      <td>3.05</td>\n",
       "      <td>5.0</td>\n",
       "      <td>55.60</td>\n",
       "      <td>1</td>\n",
       "      <td>NaN</td>\n",
       "      <td>False</td>\n",
       "      <td>False</td>\n",
       "      <td>9.00</td>\n",
       "      <td>NaN</td>\n",
       "      <td>Санкт-Петербург</td>\n",
       "      <td>22108.0</td>\n",
       "      <td>10698.0</td>\n",
       "      <td>3.0</td>\n",
       "      <td>420.0</td>\n",
       "      <td>0.0</td>\n",
       "      <td>NaN</td>\n",
       "      <td>397.0</td>\n",
       "    </tr>\n",
       "    <tr>\n",
       "      <th>17</th>\n",
       "      <td>6</td>\n",
       "      <td>4180000.0</td>\n",
       "      <td>36.00</td>\n",
       "      <td>2016-09-09T00:00:00</td>\n",
       "      <td>1</td>\n",
       "      <td>NaN</td>\n",
       "      <td>17.0</td>\n",
       "      <td>16.50</td>\n",
       "      <td>7</td>\n",
       "      <td>NaN</td>\n",
       "      <td>False</td>\n",
       "      <td>False</td>\n",
       "      <td>11.00</td>\n",
       "      <td>1.0</td>\n",
       "      <td>Санкт-Петербург</td>\n",
       "      <td>33564.0</td>\n",
       "      <td>14616.0</td>\n",
       "      <td>0.0</td>\n",
       "      <td>NaN</td>\n",
       "      <td>1.0</td>\n",
       "      <td>859.0</td>\n",
       "      <td>571.0</td>\n",
       "    </tr>\n",
       "    <tr>\n",
       "      <th>18</th>\n",
       "      <td>8</td>\n",
       "      <td>3250000.0</td>\n",
       "      <td>31.00</td>\n",
       "      <td>2017-01-27T00:00:00</td>\n",
       "      <td>1</td>\n",
       "      <td>2.50</td>\n",
       "      <td>5.0</td>\n",
       "      <td>19.40</td>\n",
       "      <td>2</td>\n",
       "      <td>NaN</td>\n",
       "      <td>False</td>\n",
       "      <td>False</td>\n",
       "      <td>5.60</td>\n",
       "      <td>1.0</td>\n",
       "      <td>Санкт-Петербург</td>\n",
       "      <td>44060.0</td>\n",
       "      <td>10842.0</td>\n",
       "      <td>1.0</td>\n",
       "      <td>759.0</td>\n",
       "      <td>0.0</td>\n",
       "      <td>NaN</td>\n",
       "      <td>168.0</td>\n",
       "    </tr>\n",
       "    <tr>\n",
       "      <th>19</th>\n",
       "      <td>16</td>\n",
       "      <td>14200000.0</td>\n",
       "      <td>121.00</td>\n",
       "      <td>2019-01-09T00:00:00</td>\n",
       "      <td>3</td>\n",
       "      <td>2.75</td>\n",
       "      <td>16.0</td>\n",
       "      <td>76.00</td>\n",
       "      <td>8</td>\n",
       "      <td>NaN</td>\n",
       "      <td>False</td>\n",
       "      <td>False</td>\n",
       "      <td>12.00</td>\n",
       "      <td>NaN</td>\n",
       "      <td>Санкт-Петербург</td>\n",
       "      <td>38900.0</td>\n",
       "      <td>12843.0</td>\n",
       "      <td>0.0</td>\n",
       "      <td>NaN</td>\n",
       "      <td>0.0</td>\n",
       "      <td>NaN</td>\n",
       "      <td>97.0</td>\n",
       "    </tr>\n",
       "  </tbody>\n",
       "</table>\n",
       "</div>"
      ],
      "text/plain": [
       "    total_images  last_price  total_area first_day_exposition  rooms  \\\n",
       "0             20  13000000.0      108.00  2019-03-07T00:00:00      3   \n",
       "1              7   3350000.0       40.40  2018-12-04T00:00:00      1   \n",
       "2             10   5196000.0       56.00  2015-08-20T00:00:00      2   \n",
       "3              0  64900000.0      159.00  2015-07-24T00:00:00      3   \n",
       "4              2  10000000.0      100.00  2018-06-19T00:00:00      2   \n",
       "5             10   2890000.0       30.40  2018-09-10T00:00:00      1   \n",
       "6              6   3700000.0       37.30  2017-11-02T00:00:00      1   \n",
       "7              5   7915000.0       71.60  2019-04-18T00:00:00      2   \n",
       "8             20   2900000.0       33.16  2018-05-23T00:00:00      1   \n",
       "9             18   5400000.0       61.00  2017-02-26T00:00:00      3   \n",
       "10             5   5050000.0       39.60  2017-11-16T00:00:00      1   \n",
       "11             9   3300000.0       44.00  2018-08-27T00:00:00      2   \n",
       "12            10   3890000.0       54.00  2016-06-30T00:00:00      2   \n",
       "13            20   3550000.0       42.80  2017-07-01T00:00:00      2   \n",
       "14             1   4400000.0       36.00  2016-06-23T00:00:00      1   \n",
       "15            16   4650000.0       39.00  2017-11-18T00:00:00      1   \n",
       "16            11   6700000.0       82.00  2017-11-23T00:00:00      3   \n",
       "17             6   4180000.0       36.00  2016-09-09T00:00:00      1   \n",
       "18             8   3250000.0       31.00  2017-01-27T00:00:00      1   \n",
       "19            16  14200000.0      121.00  2019-01-09T00:00:00      3   \n",
       "\n",
       "    ceiling_height  floors_total  living_area  floor is_apartment  studio  \\\n",
       "0             2.70          16.0        51.00      8          NaN   False   \n",
       "1              NaN          11.0        18.60      1          NaN   False   \n",
       "2              NaN           5.0        34.30      4          NaN   False   \n",
       "3              NaN          14.0          NaN      9          NaN   False   \n",
       "4             3.03          14.0        32.00     13          NaN   False   \n",
       "5              NaN          12.0        14.40      5          NaN   False   \n",
       "6              NaN          26.0        10.60      6          NaN   False   \n",
       "7              NaN          24.0          NaN     22          NaN   False   \n",
       "8              NaN          27.0        15.43     26          NaN   False   \n",
       "9             2.50           9.0        43.60      7          NaN   False   \n",
       "10            2.67          12.0        20.30      3          NaN   False   \n",
       "11             NaN           5.0        31.00      4        False   False   \n",
       "12             NaN           5.0        30.00      5          NaN   False   \n",
       "13            2.56           5.0        27.00      5          NaN   False   \n",
       "14             NaN           6.0        17.00      1          NaN   False   \n",
       "15             NaN          14.0        20.50      5          NaN   False   \n",
       "16            3.05           5.0        55.60      1          NaN   False   \n",
       "17             NaN          17.0        16.50      7          NaN   False   \n",
       "18            2.50           5.0        19.40      2          NaN   False   \n",
       "19            2.75          16.0        76.00      8          NaN   False   \n",
       "\n",
       "    open_plan  kitchen_area  balcony              locality_name  \\\n",
       "0       False         25.00      NaN            Санкт-Петербург   \n",
       "1       False         11.00      2.0             посёлок Шушары   \n",
       "2       False          8.30      0.0            Санкт-Петербург   \n",
       "3       False           NaN      0.0            Санкт-Петербург   \n",
       "4       False         41.00      NaN            Санкт-Петербург   \n",
       "5       False          9.10      NaN  городской посёлок Янино-1   \n",
       "6       False         14.40      1.0          посёлок Парголово   \n",
       "7       False         18.90      2.0            Санкт-Петербург   \n",
       "8       False          8.81      NaN             посёлок Мурино   \n",
       "9       False          6.50      2.0            Санкт-Петербург   \n",
       "10      False          8.50      NaN            Санкт-Петербург   \n",
       "11      False          6.00      1.0                  Ломоносов   \n",
       "12      False          9.00      0.0                  Сертолово   \n",
       "13      False          5.20      1.0                   Петергоф   \n",
       "14      False          8.00      0.0                     Пушкин   \n",
       "15      False          7.60      1.0            Санкт-Петербург   \n",
       "16      False          9.00      NaN            Санкт-Петербург   \n",
       "17      False         11.00      1.0            Санкт-Петербург   \n",
       "18      False          5.60      1.0            Санкт-Петербург   \n",
       "19      False         12.00      NaN            Санкт-Петербург   \n",
       "\n",
       "    airports_nearest  cityCenters_nearest  parks_around3000  parks_nearest  \\\n",
       "0            18863.0              16028.0               1.0          482.0   \n",
       "1            12817.0              18603.0               0.0            NaN   \n",
       "2            21741.0              13933.0               1.0           90.0   \n",
       "3            28098.0               6800.0               2.0           84.0   \n",
       "4            31856.0               8098.0               2.0          112.0   \n",
       "5                NaN                  NaN               NaN            NaN   \n",
       "6            52996.0              19143.0               0.0            NaN   \n",
       "7            23982.0              11634.0               0.0            NaN   \n",
       "8                NaN                  NaN               NaN            NaN   \n",
       "9            50898.0              15008.0               0.0            NaN   \n",
       "10           38357.0              13878.0               1.0          310.0   \n",
       "11           48252.0              51677.0               0.0            NaN   \n",
       "12               NaN                  NaN               NaN            NaN   \n",
       "13           37868.0              33058.0               1.0          294.0   \n",
       "14           20782.0              30759.0               0.0            NaN   \n",
       "15           12900.0              14259.0               1.0          590.0   \n",
       "16           22108.0              10698.0               3.0          420.0   \n",
       "17           33564.0              14616.0               0.0            NaN   \n",
       "18           44060.0              10842.0               1.0          759.0   \n",
       "19           38900.0              12843.0               0.0            NaN   \n",
       "\n",
       "    ponds_around3000  ponds_nearest  days_exposition  \n",
       "0                2.0          755.0              NaN  \n",
       "1                0.0            NaN             81.0  \n",
       "2                2.0          574.0            558.0  \n",
       "3                3.0          234.0            424.0  \n",
       "4                1.0           48.0            121.0  \n",
       "5                NaN            NaN             55.0  \n",
       "6                0.0            NaN            155.0  \n",
       "7                0.0            NaN              NaN  \n",
       "8                NaN            NaN            189.0  \n",
       "9                0.0            NaN            289.0  \n",
       "10               2.0          553.0            137.0  \n",
       "11               0.0            NaN              7.0  \n",
       "12               NaN            NaN             90.0  \n",
       "13               3.0          298.0            366.0  \n",
       "14               1.0           96.0            203.0  \n",
       "15               1.0          296.0             19.0  \n",
       "16               0.0            NaN            397.0  \n",
       "17               1.0          859.0            571.0  \n",
       "18               0.0            NaN            168.0  \n",
       "19               0.0            NaN             97.0  "
      ]
     },
     "execution_count": 2,
     "metadata": {},
     "output_type": "execute_result"
    }
   ],
   "source": [
    "#Смотрим на первые 20 строк таблицы\n",
    "\n",
    "df = pd.read_csv('/datasets/real_estate_data.csv', sep='\\t')\n",
    "pd.set_option('display.max_columns', None)\n",
    "\n",
    "df.head(20)"
   ]
  },
  {
   "cell_type": "code",
   "execution_count": 3,
   "metadata": {},
   "outputs": [
    {
     "name": "stdout",
     "output_type": "stream",
     "text": [
      "<class 'pandas.core.frame.DataFrame'>\n",
      "RangeIndex: 23699 entries, 0 to 23698\n",
      "Data columns (total 22 columns):\n",
      " #   Column                Non-Null Count  Dtype  \n",
      "---  ------                --------------  -----  \n",
      " 0   total_images          23699 non-null  int64  \n",
      " 1   last_price            23699 non-null  float64\n",
      " 2   total_area            23699 non-null  float64\n",
      " 3   first_day_exposition  23699 non-null  object \n",
      " 4   rooms                 23699 non-null  int64  \n",
      " 5   ceiling_height        14504 non-null  float64\n",
      " 6   floors_total          23613 non-null  float64\n",
      " 7   living_area           21796 non-null  float64\n",
      " 8   floor                 23699 non-null  int64  \n",
      " 9   is_apartment          2775 non-null   object \n",
      " 10  studio                23699 non-null  bool   \n",
      " 11  open_plan             23699 non-null  bool   \n",
      " 12  kitchen_area          21421 non-null  float64\n",
      " 13  balcony               12180 non-null  float64\n",
      " 14  locality_name         23650 non-null  object \n",
      " 15  airports_nearest      18157 non-null  float64\n",
      " 16  cityCenters_nearest   18180 non-null  float64\n",
      " 17  parks_around3000      18181 non-null  float64\n",
      " 18  parks_nearest         8079 non-null   float64\n",
      " 19  ponds_around3000      18181 non-null  float64\n",
      " 20  ponds_nearest         9110 non-null   float64\n",
      " 21  days_exposition       20518 non-null  float64\n",
      "dtypes: bool(2), float64(14), int64(3), object(3)\n",
      "memory usage: 3.7+ MB\n"
     ]
    }
   ],
   "source": [
    "df.info() #Выводим общую информацию о таблице"
   ]
  },
  {
   "cell_type": "code",
   "execution_count": 4,
   "metadata": {},
   "outputs": [
    {
     "data": {
      "image/png": "[encoded data removed]",
      "text/plain": [
       "<Figure size 1080x1440 with 20 Axes>"
      ]
     },
     "metadata": {
      "needs_background": "light"
     },
     "output_type": "display_data"
    }
   ],
   "source": [
    "df.hist(figsize=(15, 20)); #Визуализируем, чтобы понять состояние данных"
   ]
  },
  {
   "cell_type": "markdown",
   "metadata": {},
   "source": [
    "**Вывод:** По общей информации мы видим, что в данных достаточно много пропусков (например, в столбце `is_apartment` данных всего 2.775, против 23.699 в столбце `total_images`). Также есть столбцы с некоректными типами данных (тот же столбец `is_apartment` должен содержать в себе булев тип данных). Далее мы будем проводить предобработку данных."
   ]
  },
  {
   "cell_type": "markdown",
   "metadata": {},
   "source": [
    "## Предобработка данных"
   ]
  },
  {
   "cell_type": "markdown",
   "metadata": {},
   "source": [
    "### Изучение и удаление пропусков"
   ]
  },
  {
   "cell_type": "code",
   "execution_count": 5,
   "metadata": {},
   "outputs": [
    {
     "data": {
      "text/plain": [
       "total_images                0\n",
       "last_price                  0\n",
       "total_area                  0\n",
       "first_day_exposition        0\n",
       "rooms                       0\n",
       "ceiling_height           9195\n",
       "floors_total               86\n",
       "living_area              1903\n",
       "floor                       0\n",
       "is_apartment            20924\n",
       "studio                      0\n",
       "open_plan                   0\n",
       "kitchen_area             2278\n",
       "balcony                 11519\n",
       "locality_name              49\n",
       "airports_nearest         5542\n",
       "cityCenters_nearest      5519\n",
       "parks_around3000         5518\n",
       "parks_nearest           15620\n",
       "ponds_around3000         5518\n",
       "ponds_nearest           14589\n",
       "days_exposition          3181\n",
       "dtype: int64"
      ]
     },
     "execution_count": 5,
     "metadata": {},
     "output_type": "execute_result"
    }
   ],
   "source": [
    "df.isna().sum() #Проверяем есть ли пропуски и в каких столбцах"
   ]
  },
  {
   "cell_type": "code",
   "execution_count": 6,
   "metadata": {},
   "outputs": [],
   "source": [
    "#Произведем замену там, где это возможно\n",
    "\n",
    "columns_to_replace = ['balcony', 'parks_around3000', 'ponds_around3000']\n",
    "for columns in columns_to_replace:\n",
    "    df[columns] = df[columns].fillna(0)"
   ]
  },
  {
   "cell_type": "markdown",
   "metadata": {},
   "source": [
    "Заменили данные значения на 0, так как скорее всего они не указаны, потому что балконов, парков в пределах 3 км и прудов в пределах 3 км нет."
   ]
  },
  {
   "cell_type": "code",
   "execution_count": 7,
   "metadata": {},
   "outputs": [],
   "source": [
    "df = df.dropna(subset=['floors_total', 'locality_name']).reset_index(drop=True) \n",
    "\n",
    "#Удалили эти пропуски из таблицы, так как они незначительно влияют на исследование "
   ]
  },
  {
   "cell_type": "code",
   "execution_count": 8,
   "metadata": {},
   "outputs": [],
   "source": [
    "df['is_apartment'] = df['is_apartment'].fillna(False) \n",
    "\n",
    "#Заполнили данное значение на False, так как вероятно, что если не указано, что это апартаменты, значит это что-то иное"
   ]
  },
  {
   "cell_type": "code",
   "execution_count": 9,
   "metadata": {},
   "outputs": [
    {
     "data": {
      "text/plain": [
       "count       23565.000000\n",
       "mean      6540058.260004\n",
       "std      10910934.721514\n",
       "min         12190.000000\n",
       "25%       3400000.000000\n",
       "50%       4646000.000000\n",
       "75%       6790000.000000\n",
       "max     763000000.000000\n",
       "Name: last_price, dtype: float64"
      ]
     },
     "execution_count": 9,
     "metadata": {},
     "output_type": "execute_result"
    }
   ],
   "source": [
    "pd.options.display.float_format = '{:3f}'.format\n",
    "df['last_price'].describe() \n",
    "\n",
    "# Заполняем пропуски в высоте потолков"
   ]
  },
  {
   "cell_type": "code",
   "execution_count": 10,
   "metadata": {},
   "outputs": [],
   "source": [
    "#Разделили жилье на категории и теперь можем выяснить высоту потолков в определенных категориях\n",
    "def price_for_ceilings(last_price): \n",
    "    if 1500000 <= last_price <= 5000000:\n",
    "        return 'эконом'\n",
    "    if 5000001 <= last_price <= 8000000:\n",
    "        return 'комфорт'\n",
    "    if 8000001 <= last_price <= 10000000:\n",
    "        return 'бизнес'\n",
    "    if 10000001 <= last_price <= 30000000:\n",
    "        return 'элит'\n",
    "    \n",
    "df['category'] = df['last_price'].apply(price_for_ceilings)"
   ]
  },
  {
   "cell_type": "code",
   "execution_count": 11,
   "metadata": {},
   "outputs": [],
   "source": [
    "df['ceiling_height'] = \\\n",
    "df['ceiling_height'].fillna(df.groupby('category')['ceiling_height'].transform('median')) \n",
    "\n",
    "#Заменяем пропущенные значения на медианные по категориям стоимости"
   ]
  },
  {
   "cell_type": "code",
   "execution_count": 12,
   "metadata": {},
   "outputs": [],
   "source": [
    "df['living_area'] = \\\n",
    "df['living_area'].fillna(df.groupby('rooms')['living_area'].transform('median'))\n",
    "\n",
    "#Заменили пропуски медианной площадью по количеству комнат"
   ]
  },
  {
   "cell_type": "code",
   "execution_count": 13,
   "metadata": {},
   "outputs": [
    {
     "data": {
      "text/plain": [
       "total_images                0\n",
       "last_price                  0\n",
       "total_area                  0\n",
       "first_day_exposition        0\n",
       "rooms                       0\n",
       "ceiling_height            439\n",
       "floors_total                0\n",
       "living_area                 0\n",
       "floor                       0\n",
       "is_apartment                0\n",
       "studio                      0\n",
       "open_plan                   0\n",
       "kitchen_area             2222\n",
       "balcony                     0\n",
       "locality_name               0\n",
       "airports_nearest         5524\n",
       "cityCenters_nearest      5501\n",
       "parks_around3000            0\n",
       "parks_nearest           15535\n",
       "ponds_around3000            0\n",
       "ponds_nearest           14529\n",
       "days_exposition          3171\n",
       "category                  961\n",
       "dtype: int64"
      ]
     },
     "execution_count": 13,
     "metadata": {},
     "output_type": "execute_result"
    }
   ],
   "source": [
    "df.isna().sum() #Еще раз проверяем пропуски"
   ]
  },
  {
   "cell_type": "markdown",
   "metadata": {},
   "source": [
    "Оставшиеся пропуски убрать на данном этапе либо очень сложно, либо невозможно. Оставшиеся пропуски в `ceiling_height` скорее всего выбивающиеся значения, далее избавимся от них (вряд ли квартира может стоить менее 1.500.000). Пропуски в `kitchen_area` убрать на данном этапе сложно, так как неизвестно как их расчитывать. Можно предположить, что от общей площади можно вычесть жилую площадь, но помимо кухни в общую площадь входят и другие помещения (туалет, коридор и тд). Пока просто зафиксируем. Пропуски во всех столбцах с `nearest` убрать невозможно, так как мы не можем предугадать расстояние. Была мысль убрать их групировкой по `locality_name`, но ведь данные могут получится далекими от реальности. Тем более сначала надо поработать с названиями этих населенных пунктов. По поводу высоты потолков я долго размышлял, как можно их расчитать и единственное логичное решение я увидел такое. Пропуски в `days_exposition` убрать нельзя, так как некоторые объявления на момент сбора статистики могли быть еще активными, может там много аномальных значений, далее проверим это.\n",
    "\n",
    "По всем остальным пунктам я высказал свое мнения в ячейках с кодом.\n",
    "\n",
    "\n",
    "Пропуски в данных появляются:\n",
    "\n",
    "1. Совершенно случайно\n",
    "* вероятность встретить пропуск не зависит ни от каких других значений. Пропуск может быть объяснен переменной, его легко восстановить;\n",
    "\n",
    "2. Случайно\n",
    "* вероятность пропуска зависит от других значений в наборе данных, но не от значений собственного столбца;\n",
    "\n",
    "3. Не случайно\n",
    "* вероятность пропуска зависит от других значений, в том числе и от значений собственного столбца."
   ]
  },
  {
   "cell_type": "markdown",
   "metadata": {},
   "source": [
    "### Проверяем типы данных"
   ]
  },
  {
   "cell_type": "code",
   "execution_count": 14,
   "metadata": {},
   "outputs": [
    {
     "name": "stdout",
     "output_type": "stream",
     "text": [
      "<class 'pandas.core.frame.DataFrame'>\n",
      "RangeIndex: 23565 entries, 0 to 23564\n",
      "Data columns (total 23 columns):\n",
      " #   Column                Non-Null Count  Dtype  \n",
      "---  ------                --------------  -----  \n",
      " 0   total_images          23565 non-null  int64  \n",
      " 1   last_price            23565 non-null  float64\n",
      " 2   total_area            23565 non-null  float64\n",
      " 3   first_day_exposition  23565 non-null  object \n",
      " 4   rooms                 23565 non-null  int64  \n",
      " 5   ceiling_height        23126 non-null  float64\n",
      " 6   floors_total          23565 non-null  float64\n",
      " 7   living_area           23565 non-null  float64\n",
      " 8   floor                 23565 non-null  int64  \n",
      " 9   is_apartment          23565 non-null  bool   \n",
      " 10  studio                23565 non-null  bool   \n",
      " 11  open_plan             23565 non-null  bool   \n",
      " 12  kitchen_area          21343 non-null  float64\n",
      " 13  balcony               23565 non-null  float64\n",
      " 14  locality_name         23565 non-null  object \n",
      " 15  airports_nearest      18041 non-null  float64\n",
      " 16  cityCenters_nearest   18064 non-null  float64\n",
      " 17  parks_around3000      23565 non-null  float64\n",
      " 18  parks_nearest         8030 non-null   float64\n",
      " 19  ponds_around3000      23565 non-null  float64\n",
      " 20  ponds_nearest         9036 non-null   float64\n",
      " 21  days_exposition       20394 non-null  float64\n",
      " 22  category              22604 non-null  object \n",
      "dtypes: bool(3), float64(14), int64(3), object(3)\n",
      "memory usage: 3.7+ MB\n"
     ]
    }
   ],
   "source": [
    "df.info() #Еще раз выведем инфо, чтобы посмотреть на типы данных в столбцах"
   ]
  },
  {
   "cell_type": "code",
   "execution_count": 15,
   "metadata": {},
   "outputs": [],
   "source": [
    "df['first_day_exposition'] = df['first_day_exposition'].astype('datetime64') \n",
    "\n",
    "#Поменяли тип данных c object на datetime64 для удобной работы с датой"
   ]
  },
  {
   "cell_type": "code",
   "execution_count": 16,
   "metadata": {},
   "outputs": [],
   "source": [
    "change_type = ['last_price', 'floors_total', 'balcony', 'parks_around3000', 'ponds_around3000']\n",
    "for value in change_type:\n",
    "    df[value] = df[value].astype(int)\n",
    "\n",
    "#Поменяли тип данных в этих столбцах на int64, так как данные единицы могут выражаться только целыми числами"
   ]
  },
  {
   "cell_type": "code",
   "execution_count": 17,
   "metadata": {},
   "outputs": [
    {
     "name": "stdout",
     "output_type": "stream",
     "text": [
      "<class 'pandas.core.frame.DataFrame'>\n",
      "RangeIndex: 23565 entries, 0 to 23564\n",
      "Data columns (total 23 columns):\n",
      " #   Column                Non-Null Count  Dtype         \n",
      "---  ------                --------------  -----         \n",
      " 0   total_images          23565 non-null  int64         \n",
      " 1   last_price            23565 non-null  int64         \n",
      " 2   total_area            23565 non-null  float64       \n",
      " 3   first_day_exposition  23565 non-null  datetime64[ns]\n",
      " 4   rooms                 23565 non-null  int64         \n",
      " 5   ceiling_height        23126 non-null  float64       \n",
      " 6   floors_total          23565 non-null  int64         \n",
      " 7   living_area           23565 non-null  float64       \n",
      " 8   floor                 23565 non-null  int64         \n",
      " 9   is_apartment          23565 non-null  bool          \n",
      " 10  studio                23565 non-null  bool          \n",
      " 11  open_plan             23565 non-null  bool          \n",
      " 12  kitchen_area          21343 non-null  float64       \n",
      " 13  balcony               23565 non-null  int64         \n",
      " 14  locality_name         23565 non-null  object        \n",
      " 15  airports_nearest      18041 non-null  float64       \n",
      " 16  cityCenters_nearest   18064 non-null  float64       \n",
      " 17  parks_around3000      23565 non-null  int64         \n",
      " 18  parks_nearest         8030 non-null   float64       \n",
      " 19  ponds_around3000      23565 non-null  int64         \n",
      " 20  ponds_nearest         9036 non-null   float64       \n",
      " 21  days_exposition       20394 non-null  float64       \n",
      " 22  category              22604 non-null  object        \n",
      "dtypes: bool(3), datetime64[ns](1), float64(9), int64(8), object(2)\n",
      "memory usage: 3.7+ MB\n"
     ]
    }
   ],
   "source": [
    "df.info() #Проверим изменения"
   ]
  },
  {
   "cell_type": "markdown",
   "metadata": {},
   "source": [
    "Мы изменили типы данных в тех столбцах, где это было либо необходимо, либо удобно. В столбце `first_day_exposition` надо было поменять тип для дальнейшего удобства работы с ним. В остальных случаях типы данных были заменены с float64 на int64, так как данные значения не могут быть дробными числами. К примеру, не может быть 2.5 балконов или парков. Также можно поменять тип данных в столбце `days_exposition`, но там есть пропуски, которые не может обработать int64, конечно, можно заменить на Int64. Сделаем это дальше, если понадобится."
   ]
  },
  {
   "cell_type": "markdown",
   "metadata": {},
   "source": [
    "### Обработка неявных дубликатов"
   ]
  },
  {
   "cell_type": "code",
   "execution_count": 18,
   "metadata": {},
   "outputs": [
    {
     "data": {
      "text/plain": [
       "array(['Санкт-Петербург', 'посёлок Шушары', 'городской посёлок Янино-1',\n",
       "       'посёлок Парголово', 'посёлок Мурино', 'Ломоносов', 'Сертолово',\n",
       "       'Петергоф', 'Пушкин', 'деревня Кудрово', 'Коммунар', 'Колпино',\n",
       "       'поселок городского типа Красный Бор', 'Гатчина', 'поселок Мурино',\n",
       "       'деревня Фёдоровское', 'Выборг', 'Кронштадт', 'Кировск',\n",
       "       'деревня Новое Девяткино', 'посёлок Металлострой',\n",
       "       'посёлок городского типа Лебяжье',\n",
       "       'посёлок городского типа Сиверский', 'поселок Молодцово',\n",
       "       'поселок городского типа Кузьмоловский',\n",
       "       'садовое товарищество Новая Ропша', 'Павловск',\n",
       "       'деревня Пикколово', 'Всеволожск', 'Волхов', 'Кингисепп',\n",
       "       'Приозерск', 'Сестрорецк', 'деревня Куттузи', 'посёлок Аннино',\n",
       "       'поселок городского типа Ефимовский', 'посёлок Плодовое',\n",
       "       'деревня Заклинье', 'поселок Торковичи', 'поселок Первомайское',\n",
       "       'Красное Село', 'посёлок Понтонный', 'Сясьстрой', 'деревня Старая',\n",
       "       'деревня Лесколово', 'посёлок Новый Свет', 'Сланцы',\n",
       "       'село Путилово', 'Ивангород', 'Мурино', 'Шлиссельбург',\n",
       "       'Никольское', 'Зеленогорск', 'Сосновый Бор', 'поселок Новый Свет',\n",
       "       'деревня Оржицы', 'деревня Кальтино', 'Кудрово',\n",
       "       'поселок Романовка', 'посёлок Бугры', 'поселок Бугры',\n",
       "       'поселок городского типа Рощино', 'Кириши', 'Луга', 'Волосово',\n",
       "       'Отрадное', 'село Павлово', 'поселок Оредеж', 'село Копорье',\n",
       "       'посёлок городского типа Красный Бор', 'посёлок Молодёжное',\n",
       "       'Тихвин', 'посёлок Победа', 'деревня Нурма',\n",
       "       'поселок городского типа Синявино', 'Тосно',\n",
       "       'посёлок городского типа Кузьмоловский', 'посёлок Стрельна',\n",
       "       'Бокситогорск', 'посёлок Александровская', 'деревня Лопухинка',\n",
       "       'Пикалёво', 'поселок Терволово',\n",
       "       'поселок городского типа Советский', 'Подпорожье',\n",
       "       'посёлок Петровское', 'посёлок городского типа Токсово',\n",
       "       'поселок Сельцо', 'посёлок городского типа Вырица',\n",
       "       'деревня Кипень', 'деревня Келози', 'деревня Вартемяги',\n",
       "       'посёлок Тельмана', 'поселок Севастьяново',\n",
       "       'городской поселок Большая Ижора', 'городской посёлок Павлово',\n",
       "       'деревня Агалатово', 'посёлок Новогорелово',\n",
       "       'городской посёлок Лесогорский', 'деревня Лаголово',\n",
       "       'поселок Цвелодубово', 'поселок городского типа Рахья',\n",
       "       'поселок городского типа Вырица', 'деревня Белогорка',\n",
       "       'поселок Заводской', 'городской посёлок Новоселье',\n",
       "       'деревня Большие Колпаны', 'деревня Горбунки', 'деревня Батово',\n",
       "       'деревня Заневка', 'деревня Иссад', 'Приморск',\n",
       "       'городской посёлок Фёдоровское', 'деревня Мистолово',\n",
       "       'Новая Ладога', 'поселок Зимитицы', 'поселок Барышево',\n",
       "       'деревня Разметелево', 'поселок городского типа имени Свердлова',\n",
       "       'деревня Пеники', 'поселок Рябово', 'деревня Пудомяги',\n",
       "       'поселок станции Корнево', 'деревня Низино', 'деревня Бегуницы',\n",
       "       'посёлок Поляны', 'городской посёлок Мга', 'поселок Елизаветино',\n",
       "       'посёлок городского типа Кузнечное', 'деревня Колтуши',\n",
       "       'поселок Запорожское', 'посёлок городского типа Рощино',\n",
       "       'деревня Гостилицы', 'деревня Малое Карлино',\n",
       "       'посёлок Мичуринское', 'посёлок городского типа имени Морозова',\n",
       "       'посёлок Песочный', 'посёлок Сосново', 'деревня Аро',\n",
       "       'поселок Ильичёво', 'посёлок городского типа Тайцы',\n",
       "       'деревня Малое Верево', 'деревня Извара', 'поселок станции Вещево',\n",
       "       'село Паша', 'деревня Калитино',\n",
       "       'посёлок городского типа Ульяновка', 'деревня Чудской Бор',\n",
       "       'поселок городского типа Дубровка', 'деревня Мины',\n",
       "       'поселок Войсковицы', 'посёлок городского типа имени Свердлова',\n",
       "       'деревня Коркино', 'посёлок Ропша',\n",
       "       'поселок городского типа Приладожский', 'посёлок Щеглово',\n",
       "       'посёлок Гаврилово', 'Лодейное Поле', 'деревня Рабитицы',\n",
       "       'поселок городского типа Никольский', 'деревня Кузьмолово',\n",
       "       'деревня Малые Колпаны', 'поселок Тельмана',\n",
       "       'посёлок Петро-Славянка', 'городской посёлок Назия',\n",
       "       'посёлок Репино', 'посёлок Ильичёво', 'поселок Углово',\n",
       "       'поселок Старая Малукса', 'садовое товарищество Рахья',\n",
       "       'поселок Аннино', 'поселок Победа', 'деревня Меньково',\n",
       "       'деревня Старые Бегуницы', 'посёлок Сапёрный', 'поселок Семрино',\n",
       "       'поселок Гаврилово', 'поселок Глажево', 'поселок Кобринское',\n",
       "       'деревня Гарболово', 'деревня Юкки',\n",
       "       'поселок станции Приветнинское', 'деревня Мануйлово',\n",
       "       'деревня Пчева', 'поселок Поляны', 'поселок Цвылёво',\n",
       "       'поселок Мельниково', 'посёлок Пудость', 'посёлок Усть-Луга',\n",
       "       'Светогорск', 'Любань', 'поселок Селезнёво',\n",
       "       'поселок городского типа Рябово', 'Каменногорск', 'деревня Кривко',\n",
       "       'поселок Глебычево', 'деревня Парицы', 'поселок Жилпосёлок',\n",
       "       'посёлок городского типа Мга', 'городской поселок Янино-1',\n",
       "       'посёлок Войскорово', 'село Никольское', 'посёлок Терволово',\n",
       "       'поселок Стеклянный', 'посёлок городского типа Важины',\n",
       "       'посёлок Мыза-Ивановка', 'село Русско-Высоцкое',\n",
       "       'поселок городского типа Лебяжье',\n",
       "       'поселок городского типа Форносово', 'село Старая Ладога',\n",
       "       'поселок Житково', 'городской посёлок Виллози', 'деревня Лампово',\n",
       "       'деревня Шпаньково', 'деревня Лаврики', 'посёлок Сумино',\n",
       "       'посёлок Возрождение', 'деревня Старосиверская',\n",
       "       'посёлок Кикерино', 'поселок Возрождение',\n",
       "       'деревня Старое Хинколово', 'посёлок Пригородный',\n",
       "       'посёлок Торфяное', 'городской посёлок Будогощь',\n",
       "       'поселок Суходолье', 'поселок Красная Долина', 'деревня Хапо-Ое',\n",
       "       'поселок городского типа Дружная Горка', 'поселок Лисий Нос',\n",
       "       'деревня Яльгелево', 'посёлок Стеклянный', 'село Рождествено',\n",
       "       'деревня Старополье', 'посёлок Левашово', 'деревня Сяськелево',\n",
       "       'деревня Камышовка',\n",
       "       'садоводческое некоммерческое товарищество Лесная Поляна',\n",
       "       'деревня Хязельки', 'поселок Жилгородок',\n",
       "       'посёлок городского типа Павлово', 'деревня Ялгино',\n",
       "       'поселок Новый Учхоз', 'городской посёлок Рощино',\n",
       "       'поселок Гончарово', 'поселок Почап', 'посёлок Сапёрное',\n",
       "       'посёлок Платформа 69-й километр', 'поселок Каложицы',\n",
       "       'деревня Фалилеево', 'деревня Пельгора',\n",
       "       'поселок городского типа Лесогорский', 'деревня Торошковичи',\n",
       "       'посёлок Белоостров', 'посёлок Алексеевка', 'поселок Серебрянский',\n",
       "       'поселок Лукаши', 'поселок Петровское', 'деревня Щеглово',\n",
       "       'поселок Мичуринское', 'деревня Тарасово', 'поселок Кингисеппский',\n",
       "       'посёлок при железнодорожной станции Вещево', 'поселок Ушаки',\n",
       "       'деревня Котлы', 'деревня Сижно', 'деревня Торосово',\n",
       "       'посёлок Форт Красная Горка', 'деревня Новолисино',\n",
       "       'посёлок станции Громово', 'деревня Глинка', 'посёлок Мельниково',\n",
       "       'поселок городского типа Назия', 'деревня Старая Пустошь',\n",
       "       'поселок Коммунары', 'поселок Починок',\n",
       "       'посёлок городского типа Вознесенье', 'деревня Разбегаево',\n",
       "       'посёлок городского типа Рябово', 'поселок Гладкое',\n",
       "       'посёлок при железнодорожной станции Приветнинское',\n",
       "       'поселок Тёсово-4', 'посёлок Жилгородок', 'деревня Бор',\n",
       "       'посёлок Коробицыно', 'деревня Большая Вруда', 'деревня Курковицы',\n",
       "       'посёлок Лисий Нос', 'городской посёлок Советский',\n",
       "       'посёлок Кобралово', 'деревня Суоранда', 'поселок Кобралово',\n",
       "       'поселок городского типа Кондратьево',\n",
       "       'коттеджный поселок Счастье', 'поселок Любань', 'деревня Реброво',\n",
       "       'деревня Зимитицы', 'деревня Тойворово', 'поселок Семиозерье',\n",
       "       'поселок Лесное', 'поселок Совхозный', 'поселок Усть-Луга',\n",
       "       'посёлок Ленинское', 'посёлок Суйда',\n",
       "       'посёлок городского типа Форносово', 'деревня Нижние Осельки',\n",
       "       'посёлок станции Свирь', 'поселок Перово', 'Высоцк',\n",
       "       'поселок Гарболово', 'село Шум', 'поселок Котельский',\n",
       "       'поселок станции Лужайка', 'деревня Большая Пустомержа',\n",
       "       'поселок Красносельское', 'деревня Вахнова Кара', 'деревня Пижма',\n",
       "       'коттеджный поселок Кивеннапа Север', 'поселок Коробицыно',\n",
       "       'поселок Ромашки', 'посёлок Перово', 'деревня Каськово',\n",
       "       'деревня Куровицы', 'посёлок Плоское', 'поселок Сумино',\n",
       "       'поселок городского типа Большая Ижора', 'поселок Кирпичное',\n",
       "       'деревня Ям-Тесово', 'деревня Раздолье', 'деревня Терпилицы',\n",
       "       'поселок городского типа Токсово', 'посёлок Шугозеро',\n",
       "       'деревня Ваганово', 'поселок Пушное', 'садовое товарищество Садко',\n",
       "       'посёлок Усть-Ижора', 'деревня Выскатка',\n",
       "       'городской посёлок Свирьстрой', 'поселок Громово',\n",
       "       'деревня Кисельня', 'посёлок Старая Малукса',\n",
       "       'деревня Трубников Бор', 'поселок Калитино',\n",
       "       'посёлок Высокоключевой', 'садовое товарищество Приладожский',\n",
       "       'посёлок Пансионат Зелёный Бор', 'деревня Ненимяки',\n",
       "       'поселок Пансионат Зелёный Бор', 'деревня Снегирёвка',\n",
       "       'деревня Рапполово', 'деревня Пустынка', 'поселок Рабитицы',\n",
       "       'деревня Большой Сабск', 'деревня Русско', 'деревня Лупполово',\n",
       "       'деревня Большое Рейзино', 'деревня Малая Романовка',\n",
       "       'поселок Дружноселье', 'поселок Пчевжа', 'поселок Володарское',\n",
       "       'деревня Нижняя', 'коттеджный посёлок Лесное', 'деревня Тихковицы',\n",
       "       'деревня Борисова Грива', 'посёлок Дзержинского'], dtype=object)"
      ]
     },
     "execution_count": 18,
     "metadata": {},
     "output_type": "execute_result"
    }
   ],
   "source": [
    "df['locality_name'].unique() #Выведем список всех уникальных значений в locality_name"
   ]
  },
  {
   "cell_type": "code",
   "execution_count": 19,
   "metadata": {},
   "outputs": [
    {
     "data": {
      "text/plain": [
       "array(['Санкт-Петербург', 'Шушары', 'Янино-1', 'Парголово', 'Мурино',\n",
       "       'Ломоносов', 'Сертолово', 'Петергоф', 'Пушкин', 'Кудрово',\n",
       "       'Коммунар', 'Колпино', 'Красный Бор', 'Гатчина', 'Фёдоровское',\n",
       "       'Выборг', 'Кронштадт', 'Кировск', 'Новое Девяткино',\n",
       "       'Металлострой', 'Лебяжье', 'Сиверский', 'Молодцово',\n",
       "       'Кузьмоловский', 'Новая Ропша', 'Павловск', 'Пикколово',\n",
       "       'Всеволожск', 'Волхов', 'Кингисепп', 'Приозерск', 'Сестрорецк',\n",
       "       'Куттузи', 'Аннино', 'Ефимовский', 'Плодовое', 'Заклинье',\n",
       "       'Торковичи', 'Первомайское', 'Красное Село', 'Понтонный',\n",
       "       'Сясьстрой', 'Старая', 'Лесколово', 'Новый Свет', 'Сланцы',\n",
       "       'Путилово', 'Ивангород', 'Шлиссельбург', 'Никольское',\n",
       "       'Зеленогорск', 'Сосновый Бор', 'Оржицы', 'Кальтино', 'Романовка',\n",
       "       'Бугры', 'Рощино', 'Кириши', 'Луга', 'Волосово', 'Отрадное',\n",
       "       'Павлово', 'Оредеж', 'Копорье', 'Молодёжное', 'Тихвин', 'Победа',\n",
       "       'Нурма', 'Синявино', 'Тосно', 'Стрельна', 'Бокситогорск',\n",
       "       'Александровская', 'Лопухинка', 'Пикалёво', 'Терволово',\n",
       "       'Советский', 'Подпорожье', 'Петровское', 'Токсово', 'Сельцо',\n",
       "       'Вырица', 'Кипень', 'Келози', 'Вартемяги', 'Тельмана',\n",
       "       'Севастьяново', 'Большая Ижора', 'Агалатово', 'Новогорелово',\n",
       "       'Лесогорский', 'Лаголово', 'Цвелодубово', 'Рахья', 'Белогорка',\n",
       "       'Заводской', 'Новоселье', 'Большие Колпаны', 'Горбунки', 'Батово',\n",
       "       'Заневка', 'Иссад', 'Приморск', 'Мистолово', 'Новая Ладога',\n",
       "       'Зимитицы', 'Барышево', 'Разметелево', 'Свердлова', 'Пеники',\n",
       "       'Рябово', 'Пудомяги', 'Корнево', 'Низино', 'Бегуницы', 'Поляны',\n",
       "       'Мга', 'Елизаветино', 'Кузнечное', 'Колтуши', 'Запорожское',\n",
       "       'Гостилицы', 'Малое Карлино', 'Мичуринское', 'Морозова',\n",
       "       'Песочный', 'Сосново', 'Аро', 'Ильичёво', 'Тайцы', 'Малое Верево',\n",
       "       'Извара', 'Вещево', 'Паша', 'Калитино', 'Ульяновка', 'Чудской Бор',\n",
       "       'Дубровка', 'Мины', 'Войсковицы', 'Коркино', 'Ропша',\n",
       "       'Приладожский', 'Щеглово', 'Гаврилово', 'Лодейное Поле',\n",
       "       'Рабитицы', 'Никольский', 'Кузьмолово', 'Малые Колпаны',\n",
       "       'Петро-Славянка', 'Назия', 'Репино', 'Углово', 'Старая Малукса',\n",
       "       'Меньково', 'Старые Бегуницы', 'Сапёрный', 'Семрино', 'Глажево',\n",
       "       'Кобринское', 'Гарболово', 'Юкки', 'Приветнинское', 'Мануйлово',\n",
       "       'Пчева', 'Цвылёво', 'Мельниково', 'Пудость', 'Усть-Луга',\n",
       "       'Светогорск', 'Любань', 'Селезнёво', 'Каменногорск', 'Кривко',\n",
       "       'Глебычево', 'Парицы', 'Жилпоселок', 'Войскорово', 'Стеклянный',\n",
       "       'Важины', 'Мыза-Ивановка', 'Русско-Высоцкое', 'Форносово',\n",
       "       'Старая Ладога', 'Житково', 'Виллози', 'Лампово', 'Шпаньково',\n",
       "       'Лаврики', 'Сумино', 'Возрождение', 'Старосиверская', 'Кикерино',\n",
       "       'Старое Хинколово', 'Пригородный', 'Торфяное', 'Будогощь',\n",
       "       'Суходолье', 'Красная Долина', 'Хапо-Ое', 'Дружная Горка',\n",
       "       'Лисий Нос', 'Яльгелево', 'Рождествено', 'Старополье', 'Левашово',\n",
       "       'Сяськелево', 'Камышовка', 'Лесная Поляна', 'Хязельки',\n",
       "       'Жилгородок', 'Ялгино', 'Новый Учхоз', 'Гончарово', 'Почап',\n",
       "       'Сапёрное', 'Платформа 69-', 'Каложицы', 'Фалилеево', 'Пельгора',\n",
       "       'Торошковичи', 'Белоостров', 'Алексеевка', 'Серебрянский',\n",
       "       'Лукаши', 'Тарасово', 'Кингисеппский', 'Ушаки', 'Котлы', 'Сижно',\n",
       "       'Торосово', 'Форт Красная Горка', 'Новолисино', 'Громово',\n",
       "       'Глинка', 'Старая Пустошь', 'Коммунары', 'Починок', 'Вознесенье',\n",
       "       'Разбегаево', 'Гладкое', 'Тёсово-4', 'Бор', 'Коробицыно',\n",
       "       'Большая Вруда', 'Курковицы', 'Кобралово', 'Суоранда',\n",
       "       'Кондратьево', 'Счастье', 'Реброво', 'Тойворово', 'Семиозерье',\n",
       "       'Лесное', 'Совхозный', 'Ленинское', 'Суйда', 'Нижние Осельки',\n",
       "       'Свирь', 'Перово', 'Высоцк', 'Шум', 'Котельский', 'Лужайка',\n",
       "       'Большая Пустомержа', 'Красносельское', 'Вахнова Кара', 'Пижма',\n",
       "       'Кивеннапа Север', 'Ромашки', 'Каськово', 'Куровицы', 'Плоское',\n",
       "       'Кирпичное', 'Ям-Тесово', 'Раздолье', 'Терпилицы', 'Шугозеро',\n",
       "       'Ваганово', 'Пушное', 'Садко', 'Усть-Ижора', 'Выскатка',\n",
       "       'Свирьстрой', 'Кисельня', 'Трубников Бор', 'Высокоключевой',\n",
       "       'Пансионат Зелёный Бор', 'Ненимяки', 'Снегирёвка', 'Рапполово',\n",
       "       'Пустынка', 'Большой Сабск', 'Русско', 'Лупполово',\n",
       "       'Большое Рейзино', 'Малая Романовка', 'Дружноселье', 'Пчевжа',\n",
       "       'Володарское', 'Нижняя', 'Тихковицы', 'Борисова Грива',\n",
       "       'Дзержинского'], dtype=object)"
      ]
     },
     "execution_count": 19,
     "metadata": {},
     "output_type": "execute_result"
    }
   ],
   "source": [
    "import re #Избавились от неявных дубликатов. Оставили только названия населенных пунктов\n",
    "\n",
    "\n",
    "df['locality_name'] = df['locality_name'].replace('посёлок', 'поселок', regex=True)\n",
    "\n",
    "def only_upper(row):\n",
    "    return re.sub(r'\\b[а-я]+\\s*', \"\", row['locality_name']).strip()\n",
    "\n",
    "df['locality_name_short'] = df.apply(only_upper, axis=1)\n",
    "\n",
    "df['locality_name_short'].unique()"
   ]
  },
  {
   "cell_type": "markdown",
   "metadata": {},
   "source": [
    "Долго думал, как более верно убрать эти дубликаты, много чего перепробывал (и обычный replace() и тд), но решил остановится на этом варианте, тк он показался мне достаточно логичным. Я отбросил все подписи и оставил только имена личные. Согласен, что вариант не идеальный, но такое ощущение, что в данном проекте все сделано так, чтобы тебе пришлось чем-то жертвовать и выбирать наиболее оптимальный, по твоему мнению, вариант."
   ]
  },
  {
   "cell_type": "markdown",
   "metadata": {},
   "source": [
    "### Редкие и аномальные значения"
   ]
  },
  {
   "cell_type": "code",
   "execution_count": 20,
   "metadata": {
    "scrolled": true
   },
   "outputs": [
    {
     "data": {
      "text/html": [
       "<div>\n",
       "<style scoped>\n",
       "    .dataframe tbody tr th:only-of-type {\n",
       "        vertical-align: middle;\n",
       "    }\n",
       "\n",
       "    .dataframe tbody tr th {\n",
       "        vertical-align: top;\n",
       "    }\n",
       "\n",
       "    .dataframe thead th {\n",
       "        text-align: right;\n",
       "    }\n",
       "</style>\n",
       "<table border=\"1\" class=\"dataframe\">\n",
       "  <thead>\n",
       "    <tr style=\"text-align: right;\">\n",
       "      <th></th>\n",
       "      <th>total_images</th>\n",
       "      <th>last_price</th>\n",
       "      <th>total_area</th>\n",
       "      <th>rooms</th>\n",
       "      <th>ceiling_height</th>\n",
       "      <th>floors_total</th>\n",
       "      <th>living_area</th>\n",
       "      <th>floor</th>\n",
       "      <th>kitchen_area</th>\n",
       "      <th>balcony</th>\n",
       "      <th>airports_nearest</th>\n",
       "      <th>cityCenters_nearest</th>\n",
       "      <th>parks_around3000</th>\n",
       "      <th>parks_nearest</th>\n",
       "      <th>ponds_around3000</th>\n",
       "      <th>ponds_nearest</th>\n",
       "      <th>days_exposition</th>\n",
       "    </tr>\n",
       "  </thead>\n",
       "  <tbody>\n",
       "    <tr>\n",
       "      <th>count</th>\n",
       "      <td>23565.000000</td>\n",
       "      <td>23565.000000</td>\n",
       "      <td>23565.000000</td>\n",
       "      <td>23565.000000</td>\n",
       "      <td>23126.000000</td>\n",
       "      <td>23565.000000</td>\n",
       "      <td>23565.000000</td>\n",
       "      <td>23565.000000</td>\n",
       "      <td>21343.000000</td>\n",
       "      <td>23565.000000</td>\n",
       "      <td>18041.000000</td>\n",
       "      <td>18064.000000</td>\n",
       "      <td>23565.000000</td>\n",
       "      <td>8030.000000</td>\n",
       "      <td>23565.000000</td>\n",
       "      <td>9036.000000</td>\n",
       "      <td>20394.000000</td>\n",
       "    </tr>\n",
       "    <tr>\n",
       "      <th>mean</th>\n",
       "      <td>9.878421</td>\n",
       "      <td>6540058.260004</td>\n",
       "      <td>60.322824</td>\n",
       "      <td>2.070656</td>\n",
       "      <td>2.726541</td>\n",
       "      <td>10.675875</td>\n",
       "      <td>34.324899</td>\n",
       "      <td>5.878124</td>\n",
       "      <td>10.560994</td>\n",
       "      <td>0.593677</td>\n",
       "      <td>28797.082701</td>\n",
       "      <td>14192.656056</td>\n",
       "      <td>0.468831</td>\n",
       "      <td>490.580448</td>\n",
       "      <td>0.589900</td>\n",
       "      <td>518.289509</td>\n",
       "      <td>180.741395</td>\n",
       "    </tr>\n",
       "    <tr>\n",
       "      <th>std</th>\n",
       "      <td>5.681156</td>\n",
       "      <td>10910934.721514</td>\n",
       "      <td>35.657060</td>\n",
       "      <td>1.078591</td>\n",
       "      <td>1.003343</td>\n",
       "      <td>6.594823</td>\n",
       "      <td>21.722006</td>\n",
       "      <td>4.871485</td>\n",
       "      <td>5.900630</td>\n",
       "      <td>0.960660</td>\n",
       "      <td>12632.499735</td>\n",
       "      <td>8613.348153</td>\n",
       "      <td>0.748403</td>\n",
       "      <td>341.572956</td>\n",
       "      <td>0.883966</td>\n",
       "      <td>278.009558</td>\n",
       "      <td>219.732782</td>\n",
       "    </tr>\n",
       "    <tr>\n",
       "      <th>min</th>\n",
       "      <td>0.000000</td>\n",
       "      <td>12190.000000</td>\n",
       "      <td>12.000000</td>\n",
       "      <td>0.000000</td>\n",
       "      <td>1.000000</td>\n",
       "      <td>1.000000</td>\n",
       "      <td>2.000000</td>\n",
       "      <td>1.000000</td>\n",
       "      <td>1.300000</td>\n",
       "      <td>0.000000</td>\n",
       "      <td>0.000000</td>\n",
       "      <td>181.000000</td>\n",
       "      <td>0.000000</td>\n",
       "      <td>1.000000</td>\n",
       "      <td>0.000000</td>\n",
       "      <td>13.000000</td>\n",
       "      <td>1.000000</td>\n",
       "    </tr>\n",
       "    <tr>\n",
       "      <th>25%</th>\n",
       "      <td>6.000000</td>\n",
       "      <td>3400000.000000</td>\n",
       "      <td>40.000000</td>\n",
       "      <td>1.000000</td>\n",
       "      <td>2.570000</td>\n",
       "      <td>5.000000</td>\n",
       "      <td>18.400000</td>\n",
       "      <td>2.000000</td>\n",
       "      <td>7.000000</td>\n",
       "      <td>0.000000</td>\n",
       "      <td>18565.000000</td>\n",
       "      <td>9238.000000</td>\n",
       "      <td>0.000000</td>\n",
       "      <td>288.000000</td>\n",
       "      <td>0.000000</td>\n",
       "      <td>293.000000</td>\n",
       "      <td>45.000000</td>\n",
       "    </tr>\n",
       "    <tr>\n",
       "      <th>50%</th>\n",
       "      <td>9.000000</td>\n",
       "      <td>4646000.000000</td>\n",
       "      <td>52.000000</td>\n",
       "      <td>2.000000</td>\n",
       "      <td>2.600000</td>\n",
       "      <td>9.000000</td>\n",
       "      <td>30.300000</td>\n",
       "      <td>4.000000</td>\n",
       "      <td>9.100000</td>\n",
       "      <td>0.000000</td>\n",
       "      <td>26757.000000</td>\n",
       "      <td>13096.500000</td>\n",
       "      <td>0.000000</td>\n",
       "      <td>455.000000</td>\n",
       "      <td>0.000000</td>\n",
       "      <td>503.000000</td>\n",
       "      <td>95.000000</td>\n",
       "    </tr>\n",
       "    <tr>\n",
       "      <th>75%</th>\n",
       "      <td>14.000000</td>\n",
       "      <td>6790000.000000</td>\n",
       "      <td>69.700000</td>\n",
       "      <td>3.000000</td>\n",
       "      <td>2.750000</td>\n",
       "      <td>16.000000</td>\n",
       "      <td>42.700000</td>\n",
       "      <td>8.000000</td>\n",
       "      <td>12.000000</td>\n",
       "      <td>1.000000</td>\n",
       "      <td>37273.000000</td>\n",
       "      <td>16285.000000</td>\n",
       "      <td>1.000000</td>\n",
       "      <td>612.000000</td>\n",
       "      <td>1.000000</td>\n",
       "      <td>730.000000</td>\n",
       "      <td>231.000000</td>\n",
       "    </tr>\n",
       "    <tr>\n",
       "      <th>max</th>\n",
       "      <td>50.000000</td>\n",
       "      <td>763000000.000000</td>\n",
       "      <td>900.000000</td>\n",
       "      <td>19.000000</td>\n",
       "      <td>100.000000</td>\n",
       "      <td>60.000000</td>\n",
       "      <td>409.700000</td>\n",
       "      <td>33.000000</td>\n",
       "      <td>112.000000</td>\n",
       "      <td>5.000000</td>\n",
       "      <td>84869.000000</td>\n",
       "      <td>65968.000000</td>\n",
       "      <td>3.000000</td>\n",
       "      <td>3190.000000</td>\n",
       "      <td>3.000000</td>\n",
       "      <td>1344.000000</td>\n",
       "      <td>1580.000000</td>\n",
       "    </tr>\n",
       "  </tbody>\n",
       "</table>\n",
       "</div>"
      ],
      "text/plain": [
       "       total_images       last_price   total_area        rooms  \\\n",
       "count  23565.000000     23565.000000 23565.000000 23565.000000   \n",
       "mean       9.878421   6540058.260004    60.322824     2.070656   \n",
       "std        5.681156  10910934.721514    35.657060     1.078591   \n",
       "min        0.000000     12190.000000    12.000000     0.000000   \n",
       "25%        6.000000   3400000.000000    40.000000     1.000000   \n",
       "50%        9.000000   4646000.000000    52.000000     2.000000   \n",
       "75%       14.000000   6790000.000000    69.700000     3.000000   \n",
       "max       50.000000 763000000.000000   900.000000    19.000000   \n",
       "\n",
       "       ceiling_height  floors_total  living_area        floor  kitchen_area  \\\n",
       "count    23126.000000  23565.000000 23565.000000 23565.000000  21343.000000   \n",
       "mean         2.726541     10.675875    34.324899     5.878124     10.560994   \n",
       "std          1.003343      6.594823    21.722006     4.871485      5.900630   \n",
       "min          1.000000      1.000000     2.000000     1.000000      1.300000   \n",
       "25%          2.570000      5.000000    18.400000     2.000000      7.000000   \n",
       "50%          2.600000      9.000000    30.300000     4.000000      9.100000   \n",
       "75%          2.750000     16.000000    42.700000     8.000000     12.000000   \n",
       "max        100.000000     60.000000   409.700000    33.000000    112.000000   \n",
       "\n",
       "           balcony  airports_nearest  cityCenters_nearest  parks_around3000  \\\n",
       "count 23565.000000      18041.000000         18064.000000      23565.000000   \n",
       "mean      0.593677      28797.082701         14192.656056          0.468831   \n",
       "std       0.960660      12632.499735          8613.348153          0.748403   \n",
       "min       0.000000          0.000000           181.000000          0.000000   \n",
       "25%       0.000000      18565.000000          9238.000000          0.000000   \n",
       "50%       0.000000      26757.000000         13096.500000          0.000000   \n",
       "75%       1.000000      37273.000000         16285.000000          1.000000   \n",
       "max       5.000000      84869.000000         65968.000000          3.000000   \n",
       "\n",
       "       parks_nearest  ponds_around3000  ponds_nearest  days_exposition  \n",
       "count    8030.000000      23565.000000    9036.000000     20394.000000  \n",
       "mean      490.580448          0.589900     518.289509       180.741395  \n",
       "std       341.572956          0.883966     278.009558       219.732782  \n",
       "min         1.000000          0.000000      13.000000         1.000000  \n",
       "25%       288.000000          0.000000     293.000000        45.000000  \n",
       "50%       455.000000          0.000000     503.000000        95.000000  \n",
       "75%       612.000000          1.000000     730.000000       231.000000  \n",
       "max      3190.000000          3.000000    1344.000000      1580.000000  "
      ]
     },
     "execution_count": 20,
     "metadata": {},
     "output_type": "execute_result"
    }
   ],
   "source": [
    "df.describe()"
   ]
  },
  {
   "cell_type": "markdown",
   "metadata": {},
   "source": [
    "Постараемся отфильтровать данные в нормальных значениях. `last_price` сделаем в пределах разумных значений 1.5 млн - 30 млн. `total_area` отфильтруем в соотвествии со всеми тенденциями: низ трогать не будем, верх сделаем 200 квадратов. Переходим к `rooms`. 0 комнат вряд ли может быть, да и судя по графикам больше 6(**объясню!** этот этап я делаю уже после того, как построил графики ниже и посмотрел выбросы, понимаю, что в конечной редакции этого уже не будет видно, потому что срезы я сделаю раньше. Но я не знаю как поступить иначе. Задание написано кривовато, поэтому делаю так) - это уже огромная редкость. Так что обозначим такие границы. Далее `ceiling_height`. Во-первых, мы знаем, что там есть значения, вписаные с ошибкой. Мы обработаем сначала их, а потом сделаем срез от 2 до 3 м. - это самые популярные значения. `floors_total` ограничим сверху 30 этажами, далее идут явные редкие значения. `living_area` минимум 12, максимум 80. `floor` сделаем максимум 30. `kitchen_area` судя по статистике максимум 30, далее идуч очень редкие значения. Наверно также уберем аномалии в `days_exposition` - вряд ли объявление будет висеть более 1 года."
   ]
  },
  {
   "cell_type": "code",
   "execution_count": 21,
   "metadata": {},
   "outputs": [],
   "source": [
    "df = df.loc[(df['last_price'] >= 1500000) & (df['last_price'] <= 30000000)]"
   ]
  },
  {
   "cell_type": "code",
   "execution_count": 22,
   "metadata": {},
   "outputs": [],
   "source": [
    "df = df.loc[(df['total_area'] >= 12) & (df['total_area'] <= 200)]"
   ]
  },
  {
   "cell_type": "code",
   "execution_count": 23,
   "metadata": {},
   "outputs": [],
   "source": [
    "df = df.loc[(df['rooms'] >= 1) & (df['rooms'] <= 6)]"
   ]
  },
  {
   "cell_type": "code",
   "execution_count": 24,
   "metadata": {},
   "outputs": [],
   "source": [
    "df['ceiling_height'] = df['ceiling_height'].apply(lambda x: x * 0.1 if x > 25 else x)\n",
    "df = df.loc[(df['ceiling_height'] >= 2) & (df['ceiling_height'] <= 3)]"
   ]
  },
  {
   "cell_type": "code",
   "execution_count": 25,
   "metadata": {
    "scrolled": true
   },
   "outputs": [
    {
     "data": {
      "text/html": [
       "<div>\n",
       "<style scoped>\n",
       "    .dataframe tbody tr th:only-of-type {\n",
       "        vertical-align: middle;\n",
       "    }\n",
       "\n",
       "    .dataframe tbody tr th {\n",
       "        vertical-align: top;\n",
       "    }\n",
       "\n",
       "    .dataframe thead th {\n",
       "        text-align: right;\n",
       "    }\n",
       "</style>\n",
       "<table border=\"1\" class=\"dataframe\">\n",
       "  <thead>\n",
       "    <tr style=\"text-align: right;\">\n",
       "      <th></th>\n",
       "      <th>total_images</th>\n",
       "      <th>last_price</th>\n",
       "      <th>total_area</th>\n",
       "      <th>rooms</th>\n",
       "      <th>ceiling_height</th>\n",
       "      <th>floors_total</th>\n",
       "      <th>living_area</th>\n",
       "      <th>floor</th>\n",
       "      <th>kitchen_area</th>\n",
       "      <th>balcony</th>\n",
       "      <th>airports_nearest</th>\n",
       "      <th>cityCenters_nearest</th>\n",
       "      <th>parks_around3000</th>\n",
       "      <th>parks_nearest</th>\n",
       "      <th>ponds_around3000</th>\n",
       "      <th>ponds_nearest</th>\n",
       "      <th>days_exposition</th>\n",
       "    </tr>\n",
       "  </thead>\n",
       "  <tbody>\n",
       "    <tr>\n",
       "      <th>count</th>\n",
       "      <td>20978.000000</td>\n",
       "      <td>20978.000000</td>\n",
       "      <td>20978.000000</td>\n",
       "      <td>20978.000000</td>\n",
       "      <td>20978.000000</td>\n",
       "      <td>20978.000000</td>\n",
       "      <td>20978.000000</td>\n",
       "      <td>20978.000000</td>\n",
       "      <td>19170.000000</td>\n",
       "      <td>20978.000000</td>\n",
       "      <td>16240.000000</td>\n",
       "      <td>16259.000000</td>\n",
       "      <td>20978.000000</td>\n",
       "      <td>6774.000000</td>\n",
       "      <td>20978.000000</td>\n",
       "      <td>7810.000000</td>\n",
       "      <td>18352.000000</td>\n",
       "    </tr>\n",
       "    <tr>\n",
       "      <th>mean</th>\n",
       "      <td>9.855182</td>\n",
       "      <td>5518629.258414</td>\n",
       "      <td>56.274009</td>\n",
       "      <td>1.997521</td>\n",
       "      <td>2.652491</td>\n",
       "      <td>11.160835</td>\n",
       "      <td>31.867131</td>\n",
       "      <td>6.099438</td>\n",
       "      <td>10.114601</td>\n",
       "      <td>0.619268</td>\n",
       "      <td>29137.948337</td>\n",
       "      <td>14956.509256</td>\n",
       "      <td>0.428020</td>\n",
       "      <td>501.647623</td>\n",
       "      <td>0.552150</td>\n",
       "      <td>530.646095</td>\n",
       "      <td>175.114647</td>\n",
       "    </tr>\n",
       "    <tr>\n",
       "      <th>std</th>\n",
       "      <td>5.640592</td>\n",
       "      <td>3513080.651780</td>\n",
       "      <td>23.343680</td>\n",
       "      <td>0.929663</td>\n",
       "      <td>0.142469</td>\n",
       "      <td>6.624020</td>\n",
       "      <td>15.262732</td>\n",
       "      <td>4.977906</td>\n",
       "      <td>4.764469</td>\n",
       "      <td>0.975851</td>\n",
       "      <td>12987.919645</td>\n",
       "      <td>8410.893644</td>\n",
       "      <td>0.703840</td>\n",
       "      <td>347.350349</td>\n",
       "      <td>0.843683</td>\n",
       "      <td>277.876874</td>\n",
       "      <td>214.030315</td>\n",
       "    </tr>\n",
       "    <tr>\n",
       "      <th>min</th>\n",
       "      <td>0.000000</td>\n",
       "      <td>1500000.000000</td>\n",
       "      <td>12.000000</td>\n",
       "      <td>1.000000</td>\n",
       "      <td>2.000000</td>\n",
       "      <td>1.000000</td>\n",
       "      <td>2.000000</td>\n",
       "      <td>1.000000</td>\n",
       "      <td>1.300000</td>\n",
       "      <td>0.000000</td>\n",
       "      <td>0.000000</td>\n",
       "      <td>399.000000</td>\n",
       "      <td>0.000000</td>\n",
       "      <td>1.000000</td>\n",
       "      <td>0.000000</td>\n",
       "      <td>13.000000</td>\n",
       "      <td>1.000000</td>\n",
       "    </tr>\n",
       "    <tr>\n",
       "      <th>25%</th>\n",
       "      <td>6.000000</td>\n",
       "      <td>3480000.000000</td>\n",
       "      <td>40.000000</td>\n",
       "      <td>1.000000</td>\n",
       "      <td>2.570000</td>\n",
       "      <td>5.000000</td>\n",
       "      <td>18.100000</td>\n",
       "      <td>2.000000</td>\n",
       "      <td>7.000000</td>\n",
       "      <td>0.000000</td>\n",
       "      <td>18079.000000</td>\n",
       "      <td>10652.000000</td>\n",
       "      <td>0.000000</td>\n",
       "      <td>299.000000</td>\n",
       "      <td>0.000000</td>\n",
       "      <td>310.000000</td>\n",
       "      <td>44.000000</td>\n",
       "    </tr>\n",
       "    <tr>\n",
       "      <th>50%</th>\n",
       "      <td>9.000000</td>\n",
       "      <td>4550000.000000</td>\n",
       "      <td>51.000000</td>\n",
       "      <td>2.000000</td>\n",
       "      <td>2.600000</td>\n",
       "      <td>9.000000</td>\n",
       "      <td>30.000000</td>\n",
       "      <td>5.000000</td>\n",
       "      <td>9.000000</td>\n",
       "      <td>0.000000</td>\n",
       "      <td>27679.000000</td>\n",
       "      <td>13564.000000</td>\n",
       "      <td>0.000000</td>\n",
       "      <td>464.000000</td>\n",
       "      <td>0.000000</td>\n",
       "      <td>516.000000</td>\n",
       "      <td>92.000000</td>\n",
       "    </tr>\n",
       "    <tr>\n",
       "      <th>75%</th>\n",
       "      <td>14.000000</td>\n",
       "      <td>6300000.000000</td>\n",
       "      <td>66.275000</td>\n",
       "      <td>3.000000</td>\n",
       "      <td>2.700000</td>\n",
       "      <td>16.000000</td>\n",
       "      <td>41.000000</td>\n",
       "      <td>8.000000</td>\n",
       "      <td>11.500000</td>\n",
       "      <td>1.000000</td>\n",
       "      <td>38166.500000</td>\n",
       "      <td>16619.000000</td>\n",
       "      <td>1.000000</td>\n",
       "      <td>621.000000</td>\n",
       "      <td>1.000000</td>\n",
       "      <td>745.000000</td>\n",
       "      <td>221.000000</td>\n",
       "    </tr>\n",
       "    <tr>\n",
       "      <th>max</th>\n",
       "      <td>50.000000</td>\n",
       "      <td>30000000.000000</td>\n",
       "      <td>200.000000</td>\n",
       "      <td>6.000000</td>\n",
       "      <td>3.000000</td>\n",
       "      <td>60.000000</td>\n",
       "      <td>159.600000</td>\n",
       "      <td>33.000000</td>\n",
       "      <td>65.000000</td>\n",
       "      <td>5.000000</td>\n",
       "      <td>84869.000000</td>\n",
       "      <td>65968.000000</td>\n",
       "      <td>3.000000</td>\n",
       "      <td>3190.000000</td>\n",
       "      <td>3.000000</td>\n",
       "      <td>1344.000000</td>\n",
       "      <td>1580.000000</td>\n",
       "    </tr>\n",
       "  </tbody>\n",
       "</table>\n",
       "</div>"
      ],
      "text/plain": [
       "       total_images      last_price   total_area        rooms  ceiling_height  \\\n",
       "count  20978.000000    20978.000000 20978.000000 20978.000000    20978.000000   \n",
       "mean       9.855182  5518629.258414    56.274009     1.997521        2.652491   \n",
       "std        5.640592  3513080.651780    23.343680     0.929663        0.142469   \n",
       "min        0.000000  1500000.000000    12.000000     1.000000        2.000000   \n",
       "25%        6.000000  3480000.000000    40.000000     1.000000        2.570000   \n",
       "50%        9.000000  4550000.000000    51.000000     2.000000        2.600000   \n",
       "75%       14.000000  6300000.000000    66.275000     3.000000        2.700000   \n",
       "max       50.000000 30000000.000000   200.000000     6.000000        3.000000   \n",
       "\n",
       "       floors_total  living_area        floor  kitchen_area      balcony  \\\n",
       "count  20978.000000 20978.000000 20978.000000  19170.000000 20978.000000   \n",
       "mean      11.160835    31.867131     6.099438     10.114601     0.619268   \n",
       "std        6.624020    15.262732     4.977906      4.764469     0.975851   \n",
       "min        1.000000     2.000000     1.000000      1.300000     0.000000   \n",
       "25%        5.000000    18.100000     2.000000      7.000000     0.000000   \n",
       "50%        9.000000    30.000000     5.000000      9.000000     0.000000   \n",
       "75%       16.000000    41.000000     8.000000     11.500000     1.000000   \n",
       "max       60.000000   159.600000    33.000000     65.000000     5.000000   \n",
       "\n",
       "       airports_nearest  cityCenters_nearest  parks_around3000  parks_nearest  \\\n",
       "count      16240.000000         16259.000000      20978.000000    6774.000000   \n",
       "mean       29137.948337         14956.509256          0.428020     501.647623   \n",
       "std        12987.919645          8410.893644          0.703840     347.350349   \n",
       "min            0.000000           399.000000          0.000000       1.000000   \n",
       "25%        18079.000000         10652.000000          0.000000     299.000000   \n",
       "50%        27679.000000         13564.000000          0.000000     464.000000   \n",
       "75%        38166.500000         16619.000000          1.000000     621.000000   \n",
       "max        84869.000000         65968.000000          3.000000    3190.000000   \n",
       "\n",
       "       ponds_around3000  ponds_nearest  days_exposition  \n",
       "count      20978.000000    7810.000000     18352.000000  \n",
       "mean           0.552150     530.646095       175.114647  \n",
       "std            0.843683     277.876874       214.030315  \n",
       "min            0.000000      13.000000         1.000000  \n",
       "25%            0.000000     310.000000        44.000000  \n",
       "50%            0.000000     516.000000        92.000000  \n",
       "75%            1.000000     745.000000       221.000000  \n",
       "max            3.000000    1344.000000      1580.000000  "
      ]
     },
     "execution_count": 25,
     "metadata": {},
     "output_type": "execute_result"
    }
   ],
   "source": [
    "df.describe()"
   ]
  },
  {
   "cell_type": "markdown",
   "metadata": {},
   "source": [
    "Убрали достаточно много значений, но это не беда. Мы убрали достаточно сильно выделяющиеся значения. Как я писал выше я составлял графики до того, как провести фильтрацию, поэтому я смог сравнить и понять, что статистика не поменялась. А это говорит о том, что мы действительно убрали только выбросы, а оснонвые значения, пригодные для анализа, остались неизменными."
   ]
  },
  {
   "cell_type": "markdown",
   "metadata": {},
   "source": [
    "## Посчитайте и добавьте в таблицу новые столбцы"
   ]
  },
  {
   "cell_type": "code",
   "execution_count": 26,
   "metadata": {},
   "outputs": [],
   "source": [
    "df['price_1m2'] = df['last_price'] / df['total_area'] #Стоимость 1 квадратного метра"
   ]
  },
  {
   "cell_type": "code",
   "execution_count": 27,
   "metadata": {},
   "outputs": [],
   "source": [
    "df['publication_day_of_week'] = df['first_day_exposition'].dt.weekday #День недели публикации"
   ]
  },
  {
   "cell_type": "code",
   "execution_count": 28,
   "metadata": {},
   "outputs": [],
   "source": [
    "df['publication_month'] = df['first_day_exposition'].dt.month #Месяц публикации"
   ]
  },
  {
   "cell_type": "code",
   "execution_count": 29,
   "metadata": {},
   "outputs": [],
   "source": [
    "df['publication_year'] = df['first_day_exposition'].dt.year #Год публикации"
   ]
  },
  {
   "cell_type": "code",
   "execution_count": 30,
   "metadata": {},
   "outputs": [],
   "source": [
    "def type_of_floor(df): #Обозначили тип этажа квартиры через функцию\n",
    "    if df.floor == 1:\n",
    "        return 'первый'\n",
    "    elif df.floor == df.floors_total:\n",
    "        return 'последний'\n",
    "    else:\n",
    "        return 'другой'\n",
    "\n",
    "df['floor_type'] = df.apply(type_of_floor, axis=1)"
   ]
  },
  {
   "cell_type": "code",
   "execution_count": 31,
   "metadata": {},
   "outputs": [],
   "source": [
    "df['cityCenters_km'] = df['cityCenters_nearest'] / 1000 #Расстояние до центра в км\n",
    "df['cityCenters_km'] = df['cityCenters_km'].round()"
   ]
  },
  {
   "cell_type": "markdown",
   "metadata": {},
   "source": [
    "Добавили новые столбцы, для более подробного описания характеристик помещений."
   ]
  },
  {
   "cell_type": "markdown",
   "metadata": {},
   "source": [
    "## Проведите исследовательский анализ данных"
   ]
  },
  {
   "cell_type": "markdown",
   "metadata": {},
   "source": [
    "### Изучаем параметры объектов"
   ]
  },
  {
   "cell_type": "code",
   "execution_count": 32,
   "metadata": {},
   "outputs": [
    {
     "name": "stdout",
     "output_type": "stream",
     "text": [
      "count   20978.000000\n",
      "mean       56.274009\n",
      "std        23.343680\n",
      "min        12.000000\n",
      "25%        40.000000\n",
      "50%        51.000000\n",
      "75%        66.275000\n",
      "max       200.000000\n",
      "Name: total_area, dtype: float64\n"
     ]
    },
    {
     "data": {
      "image/png": "[encoded data removed]",
      "text/plain": [
       "<Figure size 432x288 with 1 Axes>"
      ]
     },
     "metadata": {
      "needs_background": "light"
     },
     "output_type": "display_data"
    }
   ],
   "source": [
    "print(df['total_area'].describe())\n",
    "df['total_area'].hist(bins=50);"
   ]
  },
  {
   "cell_type": "markdown",
   "metadata": {},
   "source": [
    "По гистограмме видно, что основная часть опубликованной недвижимости имеет общую площадь около 50 кв.м. (около двух тысяч объявлений). Квартир с площадью примерно 100 кв.м. уже примерно в несколько раз меньше."
   ]
  },
  {
   "cell_type": "code",
   "execution_count": 33,
   "metadata": {},
   "outputs": [
    {
     "name": "stdout",
     "output_type": "stream",
     "text": [
      "count   20978.000000\n",
      "mean       31.867131\n",
      "std        15.262732\n",
      "min         2.000000\n",
      "25%        18.100000\n",
      "50%        30.000000\n",
      "75%        41.000000\n",
      "max       159.600000\n",
      "Name: living_area, dtype: float64\n"
     ]
    },
    {
     "data": {
      "image/png": "[encoded data removed]",
      "text/plain": [
       "<Figure size 432x288 with 1 Axes>"
      ]
     },
     "metadata": {
      "needs_background": "light"
     },
     "output_type": "display_data"
    }
   ],
   "source": [
    "print(df['living_area'].describe())\n",
    "df['living_area'].hist(bins=50);"
   ]
  },
  {
   "cell_type": "markdown",
   "metadata": {},
   "source": [
    "Основная часть помещений имеет жилую площадь около 30 кв.м. Что интересно квартир с жилой площадью на 10 кв.м. больше уже 2 раза меньше. Есть также бум около 20 кв. м. скорее всего это студии. Они стали популярны последнее время."
   ]
  },
  {
   "cell_type": "code",
   "execution_count": 34,
   "metadata": {},
   "outputs": [
    {
     "name": "stdout",
     "output_type": "stream",
     "text": [
      "count   19170.000000\n",
      "mean       10.114601\n",
      "std         4.764469\n",
      "min         1.300000\n",
      "25%         7.000000\n",
      "50%         9.000000\n",
      "75%        11.500000\n",
      "max        65.000000\n",
      "Name: kitchen_area, dtype: float64\n"
     ]
    },
    {
     "data": {
      "image/png": "[encoded data removed]",
      "text/plain": [
       "<Figure size 432x288 with 1 Axes>"
      ]
     },
     "metadata": {
      "needs_background": "light"
     },
     "output_type": "display_data"
    }
   ],
   "source": [
    "print(df['kitchen_area'].describe())\n",
    "df['kitchen_area'].hist(bins=50);"
   ]
  },
  {
   "cell_type": "markdown",
   "metadata": {},
   "source": [
    "Большинство кухонь имеют площадь около 10 кв.м. Владельцев кухонь с площадью в 20 кв.м. примерно в 10 раз меньше."
   ]
  },
  {
   "cell_type": "code",
   "execution_count": 35,
   "metadata": {},
   "outputs": [
    {
     "name": "stdout",
     "output_type": "stream",
     "text": [
      "count      20978.000000\n",
      "mean     5518629.258414\n",
      "std      3513080.651780\n",
      "min      1500000.000000\n",
      "25%      3480000.000000\n",
      "50%      4550000.000000\n",
      "75%      6300000.000000\n",
      "max     30000000.000000\n",
      "Name: last_price, dtype: float64\n"
     ]
    },
    {
     "data": {
      "image/png": "[encoded data removed]",
      "text/plain": [
       "<Figure size 432x288 with 1 Axes>"
      ]
     },
     "metadata": {
      "needs_background": "light"
     },
     "output_type": "display_data"
    }
   ],
   "source": [
    "print(df['last_price'].describe())\n",
    "(df['last_price'] / 1000000).hist(bins=50);"
   ]
  },
  {
   "cell_type": "markdown",
   "metadata": {},
   "source": [
    "Большая часть квартир продается в ценовом диапозоне от 3.5 млн до 5 млн."
   ]
  },
  {
   "cell_type": "code",
   "execution_count": 36,
   "metadata": {},
   "outputs": [
    {
     "name": "stdout",
     "output_type": "stream",
     "text": [
      "count   20978.000000\n",
      "mean        1.997521\n",
      "std         0.929663\n",
      "min         1.000000\n",
      "25%         1.000000\n",
      "50%         2.000000\n",
      "75%         3.000000\n",
      "max         6.000000\n",
      "Name: rooms, dtype: float64\n"
     ]
    },
    {
     "data": {
      "image/png": "[encoded data removed]",
      "text/plain": [
       "<Figure size 432x288 with 1 Axes>"
      ]
     },
     "metadata": {
      "needs_background": "light"
     },
     "output_type": "display_data"
    }
   ],
   "source": [
    "print(df['rooms'].describe())\n",
    "df['rooms'].hist(bins = df['rooms'].max());"
   ]
  },
  {
   "cell_type": "markdown",
   "metadata": {},
   "source": [
    "Основная часть квартир имеет 2 комнаты. Также огромное количество однокомнатных квартир, а вот квартир с 3+ комнатами совсем мало."
   ]
  },
  {
   "cell_type": "code",
   "execution_count": 37,
   "metadata": {},
   "outputs": [
    {
     "name": "stdout",
     "output_type": "stream",
     "text": [
      "count   20978.000000\n",
      "mean        2.652491\n",
      "std         0.142469\n",
      "min         2.000000\n",
      "25%         2.570000\n",
      "50%         2.600000\n",
      "75%         2.700000\n",
      "max         3.000000\n",
      "Name: ceiling_height, dtype: float64\n"
     ]
    },
    {
     "data": {
      "image/png": "[encoded data removed]",
      "text/plain": [
       "<Figure size 432x288 with 1 Axes>"
      ]
     },
     "metadata": {
      "needs_background": "light"
     },
     "output_type": "display_data"
    }
   ],
   "source": [
    "print(df['ceiling_height'].describe())\n",
    "df['ceiling_height'].hist(bins=50);"
   ]
  },
  {
   "cell_type": "markdown",
   "metadata": {},
   "source": [
    "Большая часть квартир имеет потолки высотой примерно 2.5 метра."
   ]
  },
  {
   "cell_type": "code",
   "execution_count": 38,
   "metadata": {},
   "outputs": [
    {
     "name": "stdout",
     "output_type": "stream",
     "text": [
      "count   20978.000000\n",
      "mean        6.099438\n",
      "std         4.977906\n",
      "min         1.000000\n",
      "25%         2.000000\n",
      "50%         5.000000\n",
      "75%         8.000000\n",
      "max        33.000000\n",
      "Name: floor, dtype: float64\n"
     ]
    },
    {
     "data": {
      "image/png": "[encoded data removed]",
      "text/plain": [
       "<Figure size 432x288 with 1 Axes>"
      ]
     },
     "metadata": {
      "needs_background": "light"
     },
     "output_type": "display_data"
    }
   ],
   "source": [
    "print(df['floor'].describe())\n",
    "df['floor'].hist(bins=50);"
   ]
  },
  {
   "cell_type": "markdown",
   "metadata": {},
   "source": [
    "Больше всего квартир продается на 1-5 этажах. Далее идет сильный спад. Это логичное, если учесть, что в Питере есть ограничения на высоту зданий."
   ]
  },
  {
   "cell_type": "code",
   "execution_count": 39,
   "metadata": {},
   "outputs": [
    {
     "name": "stdout",
     "output_type": "stream",
     "text": [
      "count      20978\n",
      "unique         3\n",
      "top       другой\n",
      "freq       15706\n",
      "Name: floor_type, dtype: object\n"
     ]
    },
    {
     "data": {
      "image/png": "[encoded data removed]",
      "text/plain": [
       "<Figure size 432x288 with 1 Axes>"
      ]
     },
     "metadata": {
      "needs_background": "light"
     },
     "output_type": "display_data"
    }
   ],
   "source": [
    "print(df['floor_type'].describe())\n",
    "df['floor_type'].hist(bins=5);"
   ]
  },
  {
   "cell_type": "markdown",
   "metadata": {},
   "source": [
    "Тут все логично. Квартир на промежуточных этажах явно будет больше, чем на первом и последнем. А вот что интересно, так это то, что квартир на первом и последнем этажах почти одинаково."
   ]
  },
  {
   "cell_type": "code",
   "execution_count": 40,
   "metadata": {},
   "outputs": [
    {
     "name": "stdout",
     "output_type": "stream",
     "text": [
      "count   20978.000000\n",
      "mean       11.160835\n",
      "std         6.624020\n",
      "min         1.000000\n",
      "25%         5.000000\n",
      "50%         9.000000\n",
      "75%        16.000000\n",
      "max        60.000000\n",
      "Name: floors_total, dtype: float64\n"
     ]
    },
    {
     "data": {
      "image/png": "[encoded data removed]",
      "text/plain": [
       "<Figure size 432x288 with 1 Axes>"
      ]
     },
     "metadata": {
      "needs_background": "light"
     },
     "output_type": "display_data"
    }
   ],
   "source": [
    "print(df['floors_total'].describe())\n",
    "df['floors_total'].hist(bins=50);"
   ]
  },
  {
   "cell_type": "markdown",
   "metadata": {},
   "source": [
    "В основном дома, в которых продаются помещения, имеют около 9 этажей, но самый популярный вариант - 5 этажей. Опять же все упирается в ограничения по высоте."
   ]
  },
  {
   "cell_type": "code",
   "execution_count": 41,
   "metadata": {},
   "outputs": [
    {
     "name": "stdout",
     "output_type": "stream",
     "text": [
      "count   16259.000000\n",
      "mean    14956.509256\n",
      "std      8410.893644\n",
      "min       399.000000\n",
      "25%     10652.000000\n",
      "50%     13564.000000\n",
      "75%     16619.000000\n",
      "max     65968.000000\n",
      "Name: cityCenters_nearest, dtype: float64\n"
     ]
    },
    {
     "data": {
      "image/png": "[encoded data removed]",
      "text/plain": [
       "<Figure size 432x288 with 1 Axes>"
      ]
     },
     "metadata": {
      "needs_background": "light"
     },
     "output_type": "display_data"
    }
   ],
   "source": [
    "print(df['cityCenters_nearest'].describe())\n",
    "df['cityCenters_nearest'].hist(bins=50);"
   ]
  },
  {
   "cell_type": "markdown",
   "metadata": {},
   "source": [
    "Основная часть помещений находся на расстоянии в 10-15 км от центра. В целом логично, ведь область активно застраивается, а найти квартиру в центре все сложнее."
   ]
  },
  {
   "cell_type": "code",
   "execution_count": 42,
   "metadata": {},
   "outputs": [
    {
     "name": "stdout",
     "output_type": "stream",
     "text": [
      "count   16240.000000\n",
      "mean    29137.948337\n",
      "std     12987.919645\n",
      "min         0.000000\n",
      "25%     18079.000000\n",
      "50%     27679.000000\n",
      "75%     38166.500000\n",
      "max     84869.000000\n",
      "Name: airports_nearest, dtype: float64\n"
     ]
    },
    {
     "data": {
      "image/png": "[encoded data removed]",
      "text/plain": [
       "<Figure size 432x288 with 1 Axes>"
      ]
     },
     "metadata": {
      "needs_background": "light"
     },
     "output_type": "display_data"
    }
   ],
   "source": [
    "print(df['airports_nearest'].describe())\n",
    "df['airports_nearest'].hist(bins=50);"
   ]
  },
  {
   "cell_type": "markdown",
   "metadata": {},
   "source": [
    "Здесь мы имеем достаточно большой разброс, но в целом можно определить, что большая часть помещений находится в 20-30 км от ближайшего аэропорта."
   ]
  },
  {
   "cell_type": "code",
   "execution_count": 43,
   "metadata": {},
   "outputs": [
    {
     "name": "stdout",
     "output_type": "stream",
     "text": [
      "count   6774.000000\n",
      "mean     501.647623\n",
      "std      347.350349\n",
      "min        1.000000\n",
      "25%      299.000000\n",
      "50%      464.000000\n",
      "75%      621.000000\n",
      "max     3190.000000\n",
      "Name: parks_nearest, dtype: float64\n"
     ]
    },
    {
     "data": {
      "image/png": "[encoded data removed]",
      "text/plain": [
       "<Figure size 432x288 with 1 Axes>"
      ]
     },
     "metadata": {
      "needs_background": "light"
     },
     "output_type": "display_data"
    }
   ],
   "source": [
    "print(df['parks_nearest'].describe())\n",
    "df['parks_nearest'].hist(bins=50);"
   ]
  },
  {
   "cell_type": "markdown",
   "metadata": {},
   "source": [
    "Получается, что в Питере и области достаточно много парков. Каждая квартира имеет ближайший парк примерно в 450 метрах!"
   ]
  },
  {
   "cell_type": "code",
   "execution_count": 44,
   "metadata": {},
   "outputs": [
    {
     "name": "stdout",
     "output_type": "stream",
     "text": [
      "count   20978.000000\n",
      "mean        2.565307\n",
      "std         1.794583\n",
      "min         0.000000\n",
      "25%         1.000000\n",
      "50%         3.000000\n",
      "75%         4.000000\n",
      "max         6.000000\n",
      "Name: publication_day_of_week, dtype: float64\n"
     ]
    },
    {
     "data": {
      "image/png": "[encoded data removed]",
      "text/plain": [
       "<Figure size 432x288 with 1 Axes>"
      ]
     },
     "metadata": {
      "needs_background": "light"
     },
     "output_type": "display_data"
    }
   ],
   "source": [
    "print(df['publication_day_of_week'].describe())\n",
    "df['publication_day_of_week'].hist(bins=50);"
   ]
  },
  {
   "cell_type": "markdown",
   "metadata": {},
   "source": [
    "Больше всего объявлений выкладывают по вторникам и четвергам. Заметно меньше по выходным."
   ]
  },
  {
   "cell_type": "code",
   "execution_count": 45,
   "metadata": {},
   "outputs": [
    {
     "name": "stdout",
     "output_type": "stream",
     "text": [
      "count   20978.000000\n",
      "mean        6.409334\n",
      "std         3.493018\n",
      "min         1.000000\n",
      "25%         3.000000\n",
      "50%         6.000000\n",
      "75%        10.000000\n",
      "max        12.000000\n",
      "Name: publication_month, dtype: float64\n"
     ]
    },
    {
     "data": {
      "image/png": "[encoded data removed]",
      "text/plain": [
       "<Figure size 432x288 with 1 Axes>"
      ]
     },
     "metadata": {
      "needs_background": "light"
     },
     "output_type": "display_data"
    }
   ],
   "source": [
    "print(df['publication_month'].describe())\n",
    "df['publication_month'].hist(bins=50);"
   ]
  },
  {
   "cell_type": "markdown",
   "metadata": {},
   "source": [
    "Рост продаж квартир приходится на начало и конец года. Интересно почему?"
   ]
  },
  {
   "cell_type": "markdown",
   "metadata": {},
   "source": [
    "Мы визуализировали данные и нашли интересные факты. Полноценные выводы делать рано, но суть происходящего стала яснее. Работаем дальше."
   ]
  },
  {
   "cell_type": "markdown",
   "metadata": {},
   "source": [
    "### Изучение динамики продажи квартир"
   ]
  },
  {
   "cell_type": "code",
   "execution_count": 46,
   "metadata": {},
   "outputs": [
    {
     "name": "stdout",
     "output_type": "stream",
     "text": [
      "count   18352.000000\n",
      "mean      175.114647\n",
      "std       214.030315\n",
      "min         1.000000\n",
      "25%        44.000000\n",
      "50%        92.000000\n",
      "75%       221.000000\n",
      "max      1580.000000\n",
      "Name: days_exposition, dtype: float64\n"
     ]
    },
    {
     "data": {
      "image/png": "[encoded data removed]",
      "text/plain": [
       "<Figure size 432x288 with 1 Axes>"
      ]
     },
     "metadata": {
      "needs_background": "light"
     },
     "output_type": "display_data"
    }
   ],
   "source": [
    "print(df['days_exposition'].describe())\n",
    "df['days_exposition'].hist(bins=50);"
   ]
  },
  {
   "cell_type": "markdown",
   "metadata": {},
   "source": [
    "В целом по графику и выведенной информации все видно. Объявления в среднем продаются до 75 дней, так нам говорит медиана. Она более устойчива к различным большим значениям. Среднее говорит о продаже квартир в целом до 105 дней. Разница примерно в месяц, но я бы больше верил медиане. Также по графику видно, что большая часть квартир вообще продается в период до 30-40 дней. То есть исходя из всего, можно сделать вывод, что пары месяцев достаточно, чтобы продать квартиру."
   ]
  },
  {
   "cell_type": "markdown",
   "metadata": {},
   "source": [
    "### Факторы влияющие на общую стоимость объекта "
   ]
  },
  {
   "cell_type": "code",
   "execution_count": 47,
   "metadata": {},
   "outputs": [],
   "source": [
    "import matplotlib.pyplot as plt"
   ]
  },
  {
   "cell_type": "code",
   "execution_count": 48,
   "metadata": {},
   "outputs": [
    {
     "data": {
      "image/png": "[encoded data removed]",
      "text/plain": [
       "<Figure size 864x360 with 1 Axes>"
      ]
     },
     "metadata": {
      "needs_background": "light"
     },
     "output_type": "display_data"
    }
   ],
   "source": [
    "pivot_total = df.pivot_table(index='total_area', values='last_price').reset_index()\n",
    "\n",
    "pivot_total.plot(\n",
    "     x='total_area',\n",
    "     y='last_price',\n",
    "     title='Зависимость цены от общей площади',\n",
    "     rot=0,\n",
    "     alpha=0.5,\n",
    "     kind='scatter',\n",
    "     figsize=(12, 5),\n",
    ");\n",
    "plt.ticklabel_format(axis='y', style='plain')"
   ]
  },
  {
   "cell_type": "code",
   "execution_count": 49,
   "metadata": {},
   "outputs": [
    {
     "data": {
      "text/plain": [
       "0.7758034153315482"
      ]
     },
     "execution_count": 49,
     "metadata": {},
     "output_type": "execute_result"
    }
   ],
   "source": [
    "df['last_price'].corr(df['total_area'])"
   ]
  },
  {
   "cell_type": "markdown",
   "metadata": {},
   "source": [
    "Значений очень много, а я так и не разобрался как сделать так, чтобы значения по оси х было видно :/. Но в целом видно, что зависимость есть: чем больше площадь, тем больше и цена, но также видим, что внутри групп есть и исключения (когда площадь больше, но цена ниже). Это бывает, но на тенденцию особо не влияет. Корреляция достаточно сильная."
   ]
  },
  {
   "cell_type": "code",
   "execution_count": 50,
   "metadata": {},
   "outputs": [
    {
     "data": {
      "image/png": "[encoded data removed]",
      "text/plain": [
       "<Figure size 864x360 with 1 Axes>"
      ]
     },
     "metadata": {
      "needs_background": "light"
     },
     "output_type": "display_data"
    }
   ],
   "source": [
    "pivot_total = df.pivot_table(index='living_area', values='last_price').reset_index()\n",
    "\n",
    "pivot_total.plot(\n",
    "     x='living_area',\n",
    "     y='last_price',\n",
    "     title='Зависимость цены от жилой площади',\n",
    "     rot=0,\n",
    "     alpha=0.5,\n",
    "     kind='scatter',\n",
    "     figsize=(12, 5),\n",
    ");\n",
    "plt.ticklabel_format(axis='y', style='plain')"
   ]
  },
  {
   "cell_type": "code",
   "execution_count": 51,
   "metadata": {},
   "outputs": [
    {
     "data": {
      "text/plain": [
       "0.6209710338458658"
      ]
     },
     "execution_count": 51,
     "metadata": {},
     "output_type": "execute_result"
    }
   ],
   "source": [
    "df['last_price'].corr(df['living_area'])"
   ]
  },
  {
   "cell_type": "markdown",
   "metadata": {},
   "source": [
    "Та же проблема. Но кстати не особо видно явной связи между ценой и жилой площадью, она есть, но достаточно мизерная."
   ]
  },
  {
   "cell_type": "code",
   "execution_count": 52,
   "metadata": {},
   "outputs": [
    {
     "data": {
      "image/png": "[encoded data removed]",
      "text/plain": [
       "<Figure size 864x360 with 1 Axes>"
      ]
     },
     "metadata": {
      "needs_background": "light"
     },
     "output_type": "display_data"
    }
   ],
   "source": [
    "pivot_total = df.pivot_table(index='kitchen_area', values='last_price').reset_index()\n",
    "\n",
    "pivot_total.plot(\n",
    "     x='kitchen_area',\n",
    "     y='last_price',\n",
    "     title='Зависимость цены от площади кухни',\n",
    "     rot=0,\n",
    "     alpha=0.5,\n",
    "     kind='scatter',\n",
    "     figsize=(12, 5),\n",
    ");\n",
    "plt.ticklabel_format(axis='y', style='plain')"
   ]
  },
  {
   "cell_type": "code",
   "execution_count": 53,
   "metadata": {},
   "outputs": [
    {
     "data": {
      "text/plain": [
       "0.5955419656997333"
      ]
     },
     "execution_count": 53,
     "metadata": {},
     "output_type": "execute_result"
    }
   ],
   "source": [
    "df['last_price'].corr(df['kitchen_area'])"
   ]
  },
  {
   "cell_type": "markdown",
   "metadata": {},
   "source": [
    "Зависимость цены от площади кухни тоже не такая явная."
   ]
  },
  {
   "cell_type": "code",
   "execution_count": 54,
   "metadata": {},
   "outputs": [
    {
     "data": {
      "image/png": "[encoded data removed]",
      "text/plain": [
       "<Figure size 432x288 with 1 Axes>"
      ]
     },
     "metadata": {
      "needs_background": "light"
     },
     "output_type": "display_data"
    }
   ],
   "source": [
    "pivot_total = df.pivot_table(index='rooms', values='last_price').reset_index()\n",
    "\n",
    "pivot_total.plot(\n",
    "     x='rooms',\n",
    "     y='last_price',\n",
    "     title='Зависимость цены от количества комнат',\n",
    "     rot=0,\n",
    "     kind='bar',\n",
    ");\n",
    "plt.ticklabel_format(axis='y', style='plain')"
   ]
  },
  {
   "cell_type": "code",
   "execution_count": 55,
   "metadata": {},
   "outputs": [
    {
     "data": {
      "text/plain": [
       "0.4671390391500344"
      ]
     },
     "execution_count": 55,
     "metadata": {},
     "output_type": "execute_result"
    }
   ],
   "source": [
    "df['last_price'].corr(df['rooms'])"
   ]
  },
  {
   "cell_type": "markdown",
   "metadata": {},
   "source": [
    "По графику видно, что присутствует яркая прямая зависимость цены от количества комнат. Чем их больше, тем выше цена. Я уверен, что есть примеры, когда комнат меньше, но цена больше. Но в целом тенденция такая, как на графике."
   ]
  },
  {
   "cell_type": "code",
   "execution_count": 56,
   "metadata": {},
   "outputs": [
    {
     "data": {
      "image/png": "[encoded data removed]",
      "text/plain": [
       "<Figure size 432x288 with 1 Axes>"
      ]
     },
     "metadata": {
      "needs_background": "light"
     },
     "output_type": "display_data"
    }
   ],
   "source": [
    "pivot_total = df.pivot_table(index='floor_type', values='last_price').reset_index()\n",
    "\n",
    "pivot_total.plot(\n",
    "     x='floor_type',\n",
    "     y='last_price',\n",
    "     title='Зависимость цены от типа этажа',\n",
    "     rot=0,\n",
    "     kind='bar',\n",
    ");\n",
    "plt.ticklabel_format(axis='y', style='plain')"
   ]
  },
  {
   "cell_type": "markdown",
   "metadata": {},
   "source": [
    "Сложно определить какую-то зависимость, но можно заметить, что цена квартир на первом этаже, как правило, ниже. Недавно изучал подобную ифнормацию - это правда, квартиры на первых этажах чуть дешевле."
   ]
  },
  {
   "cell_type": "code",
   "execution_count": 57,
   "metadata": {},
   "outputs": [
    {
     "data": {
      "image/png": "[encoded data removed]",
      "text/plain": [
       "<Figure size 432x288 with 1 Axes>"
      ]
     },
     "metadata": {
      "needs_background": "light"
     },
     "output_type": "display_data"
    }
   ],
   "source": [
    "pivot_total = df.pivot_table(index='publication_day_of_week', values='last_price').reset_index()\n",
    "\n",
    "pivot_total.plot(\n",
    "     x='publication_day_of_week',\n",
    "     y='last_price',\n",
    "     title='Зависимость цены от дня недели',\n",
    "     rot=0,\n",
    "     kind='bar',\n",
    ");\n",
    "plt.ticklabel_format(axis='y', style='plain')"
   ]
  },
  {
   "cell_type": "markdown",
   "metadata": {},
   "source": [
    "Вот здесь можно четко сказать, что зависимости цены от дня недели публикации объявления нет!"
   ]
  },
  {
   "cell_type": "code",
   "execution_count": 58,
   "metadata": {},
   "outputs": [
    {
     "data": {
      "image/png": "[encoded data removed]",
      "text/plain": [
       "<Figure size 432x288 with 1 Axes>"
      ]
     },
     "metadata": {
      "needs_background": "light"
     },
     "output_type": "display_data"
    }
   ],
   "source": [
    "pivot_total = df.pivot_table(index='publication_month', values='last_price').reset_index()\n",
    "\n",
    "pivot_total.plot(\n",
    "     x='publication_month',\n",
    "     y='last_price',\n",
    "     title='Зависимость цены от месяца года',\n",
    "     rot=0,\n",
    "     kind='bar',\n",
    ");\n",
    "plt.ticklabel_format(axis='y', style='plain')"
   ]
  },
  {
   "cell_type": "markdown",
   "metadata": {},
   "source": [
    "То же самое и про месяц."
   ]
  },
  {
   "cell_type": "code",
   "execution_count": 59,
   "metadata": {},
   "outputs": [
    {
     "data": {
      "image/png": "[encoded data removed]",
      "text/plain": [
       "<Figure size 432x288 with 1 Axes>"
      ]
     },
     "metadata": {
      "needs_background": "light"
     },
     "output_type": "display_data"
    }
   ],
   "source": [
    "pivot_total = df.pivot_table(index='publication_year', values='last_price').reset_index()\n",
    "\n",
    "pivot_total.plot(\n",
    "     x='publication_year',\n",
    "     y='last_price',\n",
    "     title='Зависимость цены от года публикации',\n",
    "     rot=0,\n",
    "     kind='bar',\n",
    ");\n",
    "plt.ticklabel_format(axis='y', style='plain')"
   ]
  },
  {
   "cell_type": "markdown",
   "metadata": {},
   "source": [
    "Год туда же."
   ]
  },
  {
   "cell_type": "markdown",
   "metadata": {},
   "source": [
    "Это исследование было достаточно показтельным, хотя где-то в глубине души я догадывался, что будет очень сильная связь цены и общей площади. Графики и корреляция это подтверждают. Было интересно и сложно, но больше интересно."
   ]
  },
  {
   "cell_type": "markdown",
   "metadata": {},
   "source": [
    "### Средняя цена 1 кв.м."
   ]
  },
  {
   "cell_type": "code",
   "execution_count": 60,
   "metadata": {},
   "outputs": [
    {
     "data": {
      "text/html": [
       "<div>\n",
       "<style scoped>\n",
       "    .dataframe tbody tr th:only-of-type {\n",
       "        vertical-align: middle;\n",
       "    }\n",
       "\n",
       "    .dataframe tbody tr th {\n",
       "        vertical-align: top;\n",
       "    }\n",
       "\n",
       "    .dataframe thead th {\n",
       "        text-align: right;\n",
       "    }\n",
       "</style>\n",
       "<table border=\"1\" class=\"dataframe\">\n",
       "  <thead>\n",
       "    <tr style=\"text-align: right;\">\n",
       "      <th></th>\n",
       "      <th>count</th>\n",
       "      <th>mean</th>\n",
       "    </tr>\n",
       "    <tr>\n",
       "      <th>locality_name_short</th>\n",
       "      <th></th>\n",
       "      <th></th>\n",
       "    </tr>\n",
       "  </thead>\n",
       "  <tbody>\n",
       "    <tr>\n",
       "      <th>Санкт-Петербург</th>\n",
       "      <td>13916</td>\n",
       "      <td>109182.867174</td>\n",
       "    </tr>\n",
       "    <tr>\n",
       "      <th>Мурино</th>\n",
       "      <td>559</td>\n",
       "      <td>85469.354687</td>\n",
       "    </tr>\n",
       "    <tr>\n",
       "      <th>Кудрово</th>\n",
       "      <td>449</td>\n",
       "      <td>95083.103822</td>\n",
       "    </tr>\n",
       "    <tr>\n",
       "      <th>Шушары</th>\n",
       "      <td>434</td>\n",
       "      <td>78254.497583</td>\n",
       "    </tr>\n",
       "    <tr>\n",
       "      <th>Всеволожск</th>\n",
       "      <td>383</td>\n",
       "      <td>68887.339181</td>\n",
       "    </tr>\n",
       "    <tr>\n",
       "      <th>Пушкин</th>\n",
       "      <td>347</td>\n",
       "      <td>102298.577380</td>\n",
       "    </tr>\n",
       "    <tr>\n",
       "      <th>Колпино</th>\n",
       "      <td>327</td>\n",
       "      <td>75375.283038</td>\n",
       "    </tr>\n",
       "    <tr>\n",
       "      <th>Парголово</th>\n",
       "      <td>322</td>\n",
       "      <td>90448.423806</td>\n",
       "    </tr>\n",
       "    <tr>\n",
       "      <th>Гатчина</th>\n",
       "      <td>296</td>\n",
       "      <td>69382.233570</td>\n",
       "    </tr>\n",
       "    <tr>\n",
       "      <th>Выборг</th>\n",
       "      <td>213</td>\n",
       "      <td>58884.649490</td>\n",
       "    </tr>\n",
       "  </tbody>\n",
       "</table>\n",
       "</div>"
      ],
      "text/plain": [
       "                     count          mean\n",
       "locality_name_short                     \n",
       "Санкт-Петербург      13916 109182.867174\n",
       "Мурино                 559  85469.354687\n",
       "Кудрово                449  95083.103822\n",
       "Шушары                 434  78254.497583\n",
       "Всеволожск             383  68887.339181\n",
       "Пушкин                 347 102298.577380\n",
       "Колпино                327  75375.283038\n",
       "Парголово              322  90448.423806\n",
       "Гатчина                296  69382.233570\n",
       "Выборг                 213  58884.649490"
      ]
     },
     "execution_count": 60,
     "metadata": {},
     "output_type": "execute_result"
    }
   ],
   "source": [
    "locality_pivot = df.pivot_table(index='locality_name_short', values='price_1m2', aggfunc=('mean', 'count'))\n",
    "locality_pivot = locality_pivot.sort_values(by='count', ascending=False)\n",
    "locality_pivot.head(10)\n",
    "#Сделаем сводную таблицу с количеством объявлений и средней стоимостью квадратного метра"
   ]
  },
  {
   "cell_type": "markdown",
   "metadata": {},
   "source": [
    "Здесь показаны 10 населенных пунктов с наибольшим количеством объявлений и средней стоимостью за 1 кв.м. Достаточно логично, что Питер будет сильно отличаться от области."
   ]
  },
  {
   "cell_type": "code",
   "execution_count": 61,
   "metadata": {},
   "outputs": [
    {
     "data": {
      "text/html": [
       "<div>\n",
       "<style scoped>\n",
       "    .dataframe tbody tr th:only-of-type {\n",
       "        vertical-align: middle;\n",
       "    }\n",
       "\n",
       "    .dataframe tbody tr th {\n",
       "        vertical-align: top;\n",
       "    }\n",
       "\n",
       "    .dataframe thead th {\n",
       "        text-align: right;\n",
       "    }\n",
       "</style>\n",
       "<table border=\"1\" class=\"dataframe\">\n",
       "  <thead>\n",
       "    <tr style=\"text-align: right;\">\n",
       "      <th></th>\n",
       "      <th>count</th>\n",
       "      <th>mean</th>\n",
       "    </tr>\n",
       "    <tr>\n",
       "      <th>locality_name_short</th>\n",
       "      <th></th>\n",
       "      <th></th>\n",
       "    </tr>\n",
       "  </thead>\n",
       "  <tbody>\n",
       "    <tr>\n",
       "      <th>Санкт-Петербург</th>\n",
       "      <td>13916</td>\n",
       "      <td>109182.867174</td>\n",
       "    </tr>\n",
       "    <tr>\n",
       "      <th>Зеленогорск</th>\n",
       "      <td>23</td>\n",
       "      <td>106043.631251</td>\n",
       "    </tr>\n",
       "    <tr>\n",
       "      <th>Бор</th>\n",
       "      <td>1</td>\n",
       "      <td>105539.261570</td>\n",
       "    </tr>\n",
       "    <tr>\n",
       "      <th>Репино</th>\n",
       "      <td>4</td>\n",
       "      <td>104238.614786</td>\n",
       "    </tr>\n",
       "    <tr>\n",
       "      <th>Пушкин</th>\n",
       "      <td>347</td>\n",
       "      <td>102298.577380</td>\n",
       "    </tr>\n",
       "    <tr>\n",
       "      <th>Сестрорецк</th>\n",
       "      <td>176</td>\n",
       "      <td>101018.230338</td>\n",
       "    </tr>\n",
       "    <tr>\n",
       "      <th>Лисий Нос</th>\n",
       "      <td>3</td>\n",
       "      <td>100660.814239</td>\n",
       "    </tr>\n",
       "    <tr>\n",
       "      <th>Мистолово</th>\n",
       "      <td>11</td>\n",
       "      <td>98549.976709</td>\n",
       "    </tr>\n",
       "    <tr>\n",
       "      <th>Левашово</th>\n",
       "      <td>1</td>\n",
       "      <td>96997.690531</td>\n",
       "    </tr>\n",
       "    <tr>\n",
       "      <th>Кудрово</th>\n",
       "      <td>449</td>\n",
       "      <td>95083.103822</td>\n",
       "    </tr>\n",
       "  </tbody>\n",
       "</table>\n",
       "</div>"
      ],
      "text/plain": [
       "                     count          mean\n",
       "locality_name_short                     \n",
       "Санкт-Петербург      13916 109182.867174\n",
       "Зеленогорск             23 106043.631251\n",
       "Бор                      1 105539.261570\n",
       "Репино                   4 104238.614786\n",
       "Пушкин                 347 102298.577380\n",
       "Сестрорецк             176 101018.230338\n",
       "Лисий Нос                3 100660.814239\n",
       "Мистолово               11  98549.976709\n",
       "Левашово                 1  96997.690531\n",
       "Кудрово                449  95083.103822"
      ]
     },
     "execution_count": 61,
     "metadata": {},
     "output_type": "execute_result"
    }
   ],
   "source": [
    "locality_pivot = locality_pivot.sort_values(by='mean', ascending=False)\n",
    "locality_pivot.head(10)"
   ]
  },
  {
   "cell_type": "markdown",
   "metadata": {},
   "source": [
    "Здесь выделены 10 населеных пунктов с самым дорогим квадратным метром."
   ]
  },
  {
   "cell_type": "code",
   "execution_count": 62,
   "metadata": {},
   "outputs": [
    {
     "data": {
      "text/html": [
       "<div>\n",
       "<style scoped>\n",
       "    .dataframe tbody tr th:only-of-type {\n",
       "        vertical-align: middle;\n",
       "    }\n",
       "\n",
       "    .dataframe tbody tr th {\n",
       "        vertical-align: top;\n",
       "    }\n",
       "\n",
       "    .dataframe thead th {\n",
       "        text-align: right;\n",
       "    }\n",
       "</style>\n",
       "<table border=\"1\" class=\"dataframe\">\n",
       "  <thead>\n",
       "    <tr style=\"text-align: right;\">\n",
       "      <th></th>\n",
       "      <th>count</th>\n",
       "      <th>mean</th>\n",
       "    </tr>\n",
       "    <tr>\n",
       "      <th>locality_name_short</th>\n",
       "      <th></th>\n",
       "      <th></th>\n",
       "    </tr>\n",
       "  </thead>\n",
       "  <tbody>\n",
       "    <tr>\n",
       "      <th>Бокситогорск</th>\n",
       "      <td>1</td>\n",
       "      <td>19230.769231</td>\n",
       "    </tr>\n",
       "    <tr>\n",
       "      <th>Никольский</th>\n",
       "      <td>1</td>\n",
       "      <td>20862.308762</td>\n",
       "    </tr>\n",
       "    <tr>\n",
       "      <th>Сланцы</th>\n",
       "      <td>5</td>\n",
       "      <td>22378.697637</td>\n",
       "    </tr>\n",
       "    <tr>\n",
       "      <th>Пикалёво</th>\n",
       "      <td>1</td>\n",
       "      <td>22458.628842</td>\n",
       "    </tr>\n",
       "    <tr>\n",
       "      <th>Пижма</th>\n",
       "      <td>1</td>\n",
       "      <td>22641.509434</td>\n",
       "    </tr>\n",
       "    <tr>\n",
       "      <th>Извара</th>\n",
       "      <td>1</td>\n",
       "      <td>24038.461538</td>\n",
       "    </tr>\n",
       "    <tr>\n",
       "      <th>Возрождение</th>\n",
       "      <td>2</td>\n",
       "      <td>26893.661363</td>\n",
       "    </tr>\n",
       "    <tr>\n",
       "      <th>Шпаньково</th>\n",
       "      <td>1</td>\n",
       "      <td>27352.941176</td>\n",
       "    </tr>\n",
       "    <tr>\n",
       "      <th>Красносельское</th>\n",
       "      <td>1</td>\n",
       "      <td>27419.354839</td>\n",
       "    </tr>\n",
       "    <tr>\n",
       "      <th>Паша</th>\n",
       "      <td>1</td>\n",
       "      <td>27627.118644</td>\n",
       "    </tr>\n",
       "  </tbody>\n",
       "</table>\n",
       "</div>"
      ],
      "text/plain": [
       "                     count         mean\n",
       "locality_name_short                    \n",
       "Бокситогорск             1 19230.769231\n",
       "Никольский               1 20862.308762\n",
       "Сланцы                   5 22378.697637\n",
       "Пикалёво                 1 22458.628842\n",
       "Пижма                    1 22641.509434\n",
       "Извара                   1 24038.461538\n",
       "Возрождение              2 26893.661363\n",
       "Шпаньково                1 27352.941176\n",
       "Красносельское           1 27419.354839\n",
       "Паша                     1 27627.118644"
      ]
     },
     "execution_count": 62,
     "metadata": {},
     "output_type": "execute_result"
    }
   ],
   "source": [
    "locality_pivot = locality_pivot.sort_values(by='mean')\n",
    "locality_pivot.head(10)"
   ]
  },
  {
   "cell_type": "markdown",
   "metadata": {},
   "source": [
    "Здесь выделены 10 населеных пунктов с самым дешевым квадратным метром."
   ]
  },
  {
   "cell_type": "markdown",
   "metadata": {},
   "source": [
    "Сделаем краткий вывод. Логично, что в Питере больше всего объявлений и что там самы дорогой квадратный метр. Дальше по сводным таблицам хорошо видно, как разнится стоимость в зависимости от населеного пункта."
   ]
  },
  {
   "cell_type": "markdown",
   "metadata": {},
   "source": [
    "### Цена каждого километра"
   ]
  },
  {
   "cell_type": "code",
   "execution_count": 63,
   "metadata": {},
   "outputs": [
    {
     "data": {
      "image/png": "[encoded data removed]",
      "text/plain": [
       "<Figure size 864x360 with 1 Axes>"
      ]
     },
     "metadata": {
      "needs_background": "light"
     },
     "output_type": "display_data"
    }
   ],
   "source": [
    "df_km = df.loc[df['locality_name_short'] == 'Санкт-Петербург']\n",
    "\n",
    "df_km = df_km.pivot_table(index='cityCenters_km', values='price_1m2', aggfunc='mean')\n",
    "\n",
    "df_km.plot(\n",
    "     title='Средняя цена каждого километра от центра',\n",
    "     rot=90,\n",
    "     kind='bar',\n",
    "     figsize=(12, 5),\n",
    ");"
   ]
  },
  {
   "cell_type": "markdown",
   "metadata": {},
   "source": [
    "Как мы видим по графику стоимость километра действительно падает в процессе удаления от центра. Но на стоимость километра влиятет не только квадратура, но и остальные показатели."
   ]
  },
  {
   "cell_type": "markdown",
   "metadata": {},
   "source": [
    "## Общий вывод"
   ]
  },
  {
   "cell_type": "markdown",
   "metadata": {},
   "source": [
    "Проект был очень объемный и интересный. \n",
    "\n",
    "\n",
    "* Мы выполнили предобработку данных:\n",
    "\n",
    "1. Нашли пропуски и обработали их (удалили там, где было возможно; заменили, где смогли; оставили пропуски, которые не смогли заменить);\n",
    "\n",
    "2. Обработали дубликаты названий населеных пунктов и приведи их к единому виду;\n",
    "\n",
    "3. Изменили типы данных там, где это было нужно сделать;\n",
    "\n",
    "4. Нашли и убрали аномальные или сильно выбивающиеся значения (наши данные уменьшились, но статистика стала качественней).\n",
    "\n",
    "* Дополнили таблицу вспомогательной информацией и визуализировали ее, чтобы посмотреть на данные:\n",
    "\n",
    "1. Большая часть опубликованных помещений имеет общую площадь 30-50 кв.м.;\n",
    "\n",
    "2. В основном жилая площадь помещений равняется 30-40 кв. м.;\n",
    "\n",
    "3. Кухни имеют как правило размер около 10 кв.м;\n",
    "\n",
    "4. Основная часть помещений проадется в диапозоне между 3.5 и 5 млн руб.;\n",
    "\n",
    "5. Комнат в основном до 3;\n",
    "\n",
    "6. Чаще всего встречаются потолки высотой 2.5 метра;\n",
    "\n",
    "7. Чаще всего встречаются 5 этажные и 9 этажные дома (это обусловлено особенностями застройки Питера);\n",
    "\n",
    "8. В среднем помещения находятся на расстоянии 10-15 км от центра;\n",
    "\n",
    "9. Ближайший аэропорт располагается как правило в 20-30 км;\n",
    "\n",
    "10. А парки наоборот очень близко - 450 метров;\n",
    "\n",
    "11. Чаще всего объявления выкладывают по вторникам и четвергам в начале и конце года.\n",
    "\n",
    "* Изучили их, нашли интересные особенности и зависимости, которые существуют на рынке недвижимости:\n",
    "\n",
    "1. В среднем квартиры в Питере и области продаются около 3 месяцев;\n",
    "\n",
    "2. Общая площадь помещения больше всего влияет на его стоимость;\n",
    "\n",
    "3. Стало известно, что квартиры на 1 этаже стоят как правило дешевле остальных;\n",
    "\n",
    "4. День, месяц, год публикации вообще не влияет на стоимость помещения;\n",
    "\n",
    "5. Больше всего объявлений размещено в Питере, а также там один из самых дорогих квадратных метров;\n",
    "\n",
    "6. Самый дешевый квадртаный метр в Лен. области в городе Бокситогорск;\n",
    "\n",
    "7. Километр действительно дешевеет в зависимости от удаления от центра.\n"
   ]
  }
 ],
 "metadata": {
  "ExecuteTimeLog": [
   {
    "duration": 692,
    "start_time": "2022-09-16T19:02:13.471Z"
   },
   {
    "duration": 114,
    "start_time": "2022-09-16T19:02:57.722Z"
   },
   {
    "duration": 137,
    "start_time": "2022-09-16T19:03:13.333Z"
   },
   {
    "duration": 115,
    "start_time": "2022-09-16T19:03:29.119Z"
   },
   {
    "duration": 15,
    "start_time": "2022-09-16T19:05:17.263Z"
   },
   {
    "duration": 13,
    "start_time": "2022-09-16T19:05:59.920Z"
   },
   {
    "duration": 110,
    "start_time": "2022-09-16T19:07:35.869Z"
   },
   {
    "duration": 17,
    "start_time": "2022-09-16T19:07:37.116Z"
   },
   {
    "duration": 1654,
    "start_time": "2022-09-16T19:07:54.214Z"
   },
   {
    "duration": 1822,
    "start_time": "2022-09-16T19:08:21.300Z"
   },
   {
    "duration": 3602,
    "start_time": "2022-09-16T19:09:19.214Z"
   },
   {
    "duration": 1960,
    "start_time": "2022-09-16T19:09:34.928Z"
   },
   {
    "duration": 1563,
    "start_time": "2022-09-16T19:09:47.473Z"
   },
   {
    "duration": 528,
    "start_time": "2022-09-16T19:40:54.774Z"
   },
   {
    "duration": 15,
    "start_time": "2022-09-16T19:40:55.304Z"
   },
   {
    "duration": 2344,
    "start_time": "2022-09-16T19:40:55.321Z"
   },
   {
    "duration": 1385,
    "start_time": "2022-09-16T19:42:01.480Z"
   },
   {
    "duration": 2036,
    "start_time": "2022-09-16T19:42:12.172Z"
   },
   {
    "duration": 2,
    "start_time": "2022-09-16T19:43:22.241Z"
   },
   {
    "duration": 784,
    "start_time": "2022-09-18T12:22:14.172Z"
   },
   {
    "duration": 9,
    "start_time": "2022-09-18T12:22:56.215Z"
   },
   {
    "duration": 2561,
    "start_time": "2022-09-18T12:32:31.455Z"
   },
   {
    "duration": 2079,
    "start_time": "2022-09-18T12:32:36.604Z"
   },
   {
    "duration": 10,
    "start_time": "2022-09-18T12:32:45.044Z"
   },
   {
    "duration": 131,
    "start_time": "2022-09-18T12:32:50.606Z"
   },
   {
    "duration": 15,
    "start_time": "2022-09-18T12:32:50.739Z"
   },
   {
    "duration": 2148,
    "start_time": "2022-09-18T12:32:50.756Z"
   },
   {
    "duration": 11,
    "start_time": "2022-09-18T12:32:52.906Z"
   },
   {
    "duration": 145,
    "start_time": "2022-09-18T12:38:34.374Z"
   },
   {
    "duration": 14,
    "start_time": "2022-09-18T12:38:34.522Z"
   },
   {
    "duration": 2157,
    "start_time": "2022-09-18T12:38:34.537Z"
   },
   {
    "duration": 14,
    "start_time": "2022-09-18T12:38:36.695Z"
   },
   {
    "duration": 133,
    "start_time": "2022-09-18T12:38:36.713Z"
   },
   {
    "duration": 30,
    "start_time": "2022-09-18T12:38:48.897Z"
   },
   {
    "duration": 30,
    "start_time": "2022-09-18T12:39:14.470Z"
   },
   {
    "duration": 1660,
    "start_time": "2022-09-18T12:43:25.453Z"
   },
   {
    "duration": 1142,
    "start_time": "2022-09-18T12:44:13.091Z"
   },
   {
    "duration": 26,
    "start_time": "2022-09-18T12:44:26.248Z"
   },
   {
    "duration": 137,
    "start_time": "2022-09-18T12:45:53.702Z"
   },
   {
    "duration": 13,
    "start_time": "2022-09-18T12:45:53.841Z"
   },
   {
    "duration": 2260,
    "start_time": "2022-09-18T12:45:53.856Z"
   },
   {
    "duration": 10,
    "start_time": "2022-09-18T12:45:56.117Z"
   },
   {
    "duration": 9,
    "start_time": "2022-09-18T12:45:56.130Z"
   },
   {
    "duration": 110,
    "start_time": "2022-09-18T12:49:13.815Z"
   },
   {
    "duration": 75,
    "start_time": "2022-09-18T12:49:37.611Z"
   },
   {
    "duration": 16,
    "start_time": "2022-09-18T12:52:21.397Z"
   },
   {
    "duration": 58,
    "start_time": "2022-09-18T12:53:13.267Z"
   },
   {
    "duration": 139,
    "start_time": "2022-09-18T12:56:03.548Z"
   },
   {
    "duration": 18,
    "start_time": "2022-09-18T12:56:03.693Z"
   },
   {
    "duration": 2223,
    "start_time": "2022-09-18T12:56:03.713Z"
   },
   {
    "duration": 10,
    "start_time": "2022-09-18T12:56:05.939Z"
   },
   {
    "duration": 6,
    "start_time": "2022-09-18T12:56:05.951Z"
   },
   {
    "duration": 71,
    "start_time": "2022-09-18T12:56:05.959Z"
   },
   {
    "duration": 8,
    "start_time": "2022-09-18T12:56:06.032Z"
   },
   {
    "duration": 133,
    "start_time": "2022-09-18T13:04:41.904Z"
   },
   {
    "duration": 15,
    "start_time": "2022-09-18T13:04:42.039Z"
   },
   {
    "duration": 2128,
    "start_time": "2022-09-18T13:04:42.055Z"
   },
   {
    "duration": 13,
    "start_time": "2022-09-18T13:04:44.190Z"
   },
   {
    "duration": 9,
    "start_time": "2022-09-18T13:04:44.205Z"
   },
   {
    "duration": 11,
    "start_time": "2022-09-18T13:04:44.216Z"
   },
   {
    "duration": 8,
    "start_time": "2022-09-18T13:04:44.229Z"
   },
   {
    "duration": 6,
    "start_time": "2022-09-18T13:10:45.797Z"
   },
   {
    "duration": 11,
    "start_time": "2022-09-18T13:11:11.860Z"
   },
   {
    "duration": 8,
    "start_time": "2022-09-18T13:12:18.466Z"
   },
   {
    "duration": 14,
    "start_time": "2022-09-18T13:12:30.050Z"
   },
   {
    "duration": 25,
    "start_time": "2022-09-18T13:15:25.547Z"
   },
   {
    "duration": 40,
    "start_time": "2022-09-18T13:17:23.786Z"
   },
   {
    "duration": 121,
    "start_time": "2022-09-18T13:17:59.301Z"
   },
   {
    "duration": 219,
    "start_time": "2022-09-18T13:17:59.423Z"
   },
   {
    "duration": 2127,
    "start_time": "2022-09-18T13:17:59.644Z"
   },
   {
    "duration": 30,
    "start_time": "2022-09-18T13:18:01.773Z"
   },
   {
    "duration": 12,
    "start_time": "2022-09-18T13:18:01.809Z"
   },
   {
    "duration": 16,
    "start_time": "2022-09-18T13:18:01.823Z"
   },
   {
    "duration": 8,
    "start_time": "2022-09-18T13:18:01.841Z"
   },
   {
    "duration": 46,
    "start_time": "2022-09-18T13:18:01.851Z"
   },
   {
    "duration": 34,
    "start_time": "2022-09-18T13:19:55.860Z"
   },
   {
    "duration": 10,
    "start_time": "2022-09-18T13:20:35.653Z"
   },
   {
    "duration": 40,
    "start_time": "2022-09-18T13:20:40.457Z"
   },
   {
    "duration": 8,
    "start_time": "2022-09-18T13:21:29.655Z"
   },
   {
    "duration": 29,
    "start_time": "2022-09-18T13:21:38.202Z"
   },
   {
    "duration": 564,
    "start_time": "2022-09-18T13:36:51.483Z"
   },
   {
    "duration": 14,
    "start_time": "2022-09-18T13:36:52.049Z"
   },
   {
    "duration": 2172,
    "start_time": "2022-09-18T13:36:52.064Z"
   },
   {
    "duration": 9,
    "start_time": "2022-09-18T13:36:54.238Z"
   },
   {
    "duration": 5,
    "start_time": "2022-09-18T13:36:54.249Z"
   },
   {
    "duration": 22,
    "start_time": "2022-09-18T13:36:54.255Z"
   },
   {
    "duration": 12,
    "start_time": "2022-09-18T13:36:54.279Z"
   },
   {
    "duration": 12,
    "start_time": "2022-09-18T13:39:58.756Z"
   },
   {
    "duration": 15,
    "start_time": "2022-09-18T13:45:09.889Z"
   },
   {
    "duration": 52,
    "start_time": "2022-09-18T13:45:19.875Z"
   },
   {
    "duration": 95,
    "start_time": "2022-09-18T13:46:10.515Z"
   },
   {
    "duration": 528,
    "start_time": "2022-09-18T13:49:35.873Z"
   },
   {
    "duration": 16,
    "start_time": "2022-09-18T13:49:36.404Z"
   },
   {
    "duration": 2494,
    "start_time": "2022-09-18T13:49:36.422Z"
   },
   {
    "duration": 10,
    "start_time": "2022-09-18T13:49:38.918Z"
   },
   {
    "duration": 7,
    "start_time": "2022-09-18T13:49:38.930Z"
   },
   {
    "duration": 16,
    "start_time": "2022-09-18T13:49:38.939Z"
   },
   {
    "duration": 6,
    "start_time": "2022-09-18T13:49:38.956Z"
   },
   {
    "duration": 7,
    "start_time": "2022-09-18T13:49:38.964Z"
   },
   {
    "duration": 49,
    "start_time": "2022-09-19T09:37:47.184Z"
   },
   {
    "duration": 745,
    "start_time": "2022-09-19T09:37:52.144Z"
   },
   {
    "duration": 15,
    "start_time": "2022-09-19T09:37:52.891Z"
   },
   {
    "duration": 2472,
    "start_time": "2022-09-19T09:37:52.907Z"
   },
   {
    "duration": 11,
    "start_time": "2022-09-19T09:37:55.381Z"
   },
   {
    "duration": 11,
    "start_time": "2022-09-19T09:37:55.394Z"
   },
   {
    "duration": 19,
    "start_time": "2022-09-19T09:37:55.407Z"
   },
   {
    "duration": 7,
    "start_time": "2022-09-19T09:37:55.428Z"
   },
   {
    "duration": 17,
    "start_time": "2022-09-19T09:37:55.437Z"
   },
   {
    "duration": 5,
    "start_time": "2022-09-19T09:41:11.318Z"
   },
   {
    "duration": 9,
    "start_time": "2022-09-19T09:42:31.136Z"
   },
   {
    "duration": 127,
    "start_time": "2022-09-19T09:50:39.158Z"
   },
   {
    "duration": 14,
    "start_time": "2022-09-19T09:50:39.287Z"
   },
   {
    "duration": 2021,
    "start_time": "2022-09-19T09:50:39.303Z"
   },
   {
    "duration": 11,
    "start_time": "2022-09-19T09:50:41.326Z"
   },
   {
    "duration": 11,
    "start_time": "2022-09-19T09:50:41.340Z"
   },
   {
    "duration": 26,
    "start_time": "2022-09-19T09:50:41.352Z"
   },
   {
    "duration": 16,
    "start_time": "2022-09-19T09:50:41.380Z"
   },
   {
    "duration": 17,
    "start_time": "2022-09-19T09:50:41.397Z"
   },
   {
    "duration": 384,
    "start_time": "2022-09-19T09:50:41.416Z"
   },
   {
    "duration": 10,
    "start_time": "2022-09-19T09:51:04.572Z"
   },
   {
    "duration": 370,
    "start_time": "2022-09-19T09:59:09.852Z"
   },
   {
    "duration": 316,
    "start_time": "2022-09-19T10:00:06.747Z"
   },
   {
    "duration": 866,
    "start_time": "2022-09-19T10:00:27.511Z"
   },
   {
    "duration": 820,
    "start_time": "2022-09-19T10:02:06.864Z"
   },
   {
    "duration": 19,
    "start_time": "2022-09-19T10:02:29.107Z"
   },
   {
    "duration": 1334,
    "start_time": "2022-09-19T10:04:33.021Z"
   },
   {
    "duration": 110,
    "start_time": "2022-09-19T10:04:37.233Z"
   },
   {
    "duration": 15,
    "start_time": "2022-09-19T10:04:37.345Z"
   },
   {
    "duration": 2202,
    "start_time": "2022-09-19T10:04:37.361Z"
   },
   {
    "duration": 9,
    "start_time": "2022-09-19T10:04:39.565Z"
   },
   {
    "duration": 9,
    "start_time": "2022-09-19T10:04:39.576Z"
   },
   {
    "duration": 14,
    "start_time": "2022-09-19T10:04:39.587Z"
   },
   {
    "duration": 19,
    "start_time": "2022-09-19T10:04:39.603Z"
   },
   {
    "duration": 13,
    "start_time": "2022-09-19T10:04:39.624Z"
   },
   {
    "duration": 10891,
    "start_time": "2022-09-19T10:04:39.639Z"
   },
   {
    "duration": 47,
    "start_time": "2022-09-19T10:05:36.100Z"
   },
   {
    "duration": 8,
    "start_time": "2022-09-19T10:09:39.408Z"
   },
   {
    "duration": 8,
    "start_time": "2022-09-19T10:09:48.123Z"
   },
   {
    "duration": 14,
    "start_time": "2022-09-19T10:10:00.970Z"
   },
   {
    "duration": 40,
    "start_time": "2022-09-19T10:10:15.247Z"
   },
   {
    "duration": 14,
    "start_time": "2022-09-19T10:10:48.369Z"
   },
   {
    "duration": 122,
    "start_time": "2022-09-19T10:20:50.047Z"
   },
   {
    "duration": 16,
    "start_time": "2022-09-19T10:20:50.171Z"
   },
   {
    "duration": 2037,
    "start_time": "2022-09-19T10:20:50.189Z"
   },
   {
    "duration": 11,
    "start_time": "2022-09-19T10:20:52.228Z"
   },
   {
    "duration": 13,
    "start_time": "2022-09-19T10:20:52.242Z"
   },
   {
    "duration": 21,
    "start_time": "2022-09-19T10:20:52.256Z"
   },
   {
    "duration": 23,
    "start_time": "2022-09-19T10:20:52.279Z"
   },
   {
    "duration": 11,
    "start_time": "2022-09-19T10:20:52.304Z"
   },
   {
    "duration": 53,
    "start_time": "2022-09-19T10:20:52.317Z"
   },
   {
    "duration": 16,
    "start_time": "2022-09-19T10:20:52.372Z"
   },
   {
    "duration": 113,
    "start_time": "2022-09-19T10:26:12.357Z"
   },
   {
    "duration": 15,
    "start_time": "2022-09-19T10:26:12.472Z"
   },
   {
    "duration": 2119,
    "start_time": "2022-09-19T10:26:12.489Z"
   },
   {
    "duration": 15,
    "start_time": "2022-09-19T10:26:14.610Z"
   },
   {
    "duration": 9,
    "start_time": "2022-09-19T10:26:14.627Z"
   },
   {
    "duration": 11,
    "start_time": "2022-09-19T10:26:14.638Z"
   },
   {
    "duration": 6,
    "start_time": "2022-09-19T10:26:14.651Z"
   },
   {
    "duration": 18,
    "start_time": "2022-09-19T10:26:14.659Z"
   },
   {
    "duration": 13,
    "start_time": "2022-09-19T10:26:14.679Z"
   },
   {
    "duration": 32,
    "start_time": "2022-09-19T10:26:14.694Z"
   },
   {
    "duration": 9,
    "start_time": "2022-09-19T10:27:45.518Z"
   },
   {
    "duration": 9,
    "start_time": "2022-09-19T10:37:39.245Z"
   },
   {
    "duration": 14,
    "start_time": "2022-09-19T10:37:50.332Z"
   },
   {
    "duration": 116,
    "start_time": "2022-09-19T10:54:30.345Z"
   },
   {
    "duration": 16,
    "start_time": "2022-09-19T10:54:30.463Z"
   },
   {
    "duration": 2103,
    "start_time": "2022-09-19T10:54:30.481Z"
   },
   {
    "duration": 9,
    "start_time": "2022-09-19T10:54:32.586Z"
   },
   {
    "duration": 6,
    "start_time": "2022-09-19T10:54:32.597Z"
   },
   {
    "duration": 10,
    "start_time": "2022-09-19T10:54:32.620Z"
   },
   {
    "duration": 9,
    "start_time": "2022-09-19T10:54:32.632Z"
   },
   {
    "duration": 17,
    "start_time": "2022-09-19T10:54:32.643Z"
   },
   {
    "duration": 22,
    "start_time": "2022-09-19T10:54:32.662Z"
   },
   {
    "duration": 10,
    "start_time": "2022-09-19T10:54:32.686Z"
   },
   {
    "duration": 10,
    "start_time": "2022-09-19T10:54:32.698Z"
   },
   {
    "duration": 22,
    "start_time": "2022-09-19T10:54:32.709Z"
   },
   {
    "duration": 45,
    "start_time": "2022-09-19T10:54:32.733Z"
   },
   {
    "duration": 10,
    "start_time": "2022-09-19T10:54:53.506Z"
   },
   {
    "duration": 15,
    "start_time": "2022-09-19T10:55:05.471Z"
   },
   {
    "duration": 571,
    "start_time": "2022-09-19T10:56:00.312Z"
   },
   {
    "duration": 17,
    "start_time": "2022-09-19T10:56:00.885Z"
   },
   {
    "duration": 2454,
    "start_time": "2022-09-19T10:56:00.905Z"
   },
   {
    "duration": 10,
    "start_time": "2022-09-19T10:56:03.361Z"
   },
   {
    "duration": 5,
    "start_time": "2022-09-19T10:56:03.373Z"
   },
   {
    "duration": 19,
    "start_time": "2022-09-19T10:56:03.380Z"
   },
   {
    "duration": 6,
    "start_time": "2022-09-19T10:56:03.401Z"
   },
   {
    "duration": 19,
    "start_time": "2022-09-19T10:56:03.409Z"
   },
   {
    "duration": 20,
    "start_time": "2022-09-19T10:56:03.430Z"
   },
   {
    "duration": 7,
    "start_time": "2022-09-19T10:56:03.452Z"
   },
   {
    "duration": 24,
    "start_time": "2022-09-19T10:56:03.460Z"
   },
   {
    "duration": 28,
    "start_time": "2022-09-19T10:56:03.485Z"
   },
   {
    "duration": 45,
    "start_time": "2022-09-19T10:56:03.516Z"
   },
   {
    "duration": 24,
    "start_time": "2022-09-19T11:00:52.470Z"
   },
   {
    "duration": 12,
    "start_time": "2022-09-19T11:01:36.221Z"
   },
   {
    "duration": 5,
    "start_time": "2022-09-19T11:02:21.493Z"
   },
   {
    "duration": 16,
    "start_time": "2022-09-19T11:02:28.232Z"
   },
   {
    "duration": 18,
    "start_time": "2022-09-19T11:06:32.742Z"
   },
   {
    "duration": 115,
    "start_time": "2022-09-19T11:11:47.967Z"
   },
   {
    "duration": 15,
    "start_time": "2022-09-19T11:11:48.083Z"
   },
   {
    "duration": 2184,
    "start_time": "2022-09-19T11:11:48.100Z"
   },
   {
    "duration": 9,
    "start_time": "2022-09-19T11:11:50.286Z"
   },
   {
    "duration": 22,
    "start_time": "2022-09-19T11:11:50.298Z"
   },
   {
    "duration": 10,
    "start_time": "2022-09-19T11:11:50.322Z"
   },
   {
    "duration": 12,
    "start_time": "2022-09-19T11:11:50.334Z"
   },
   {
    "duration": 12,
    "start_time": "2022-09-19T11:11:50.347Z"
   },
   {
    "duration": 13,
    "start_time": "2022-09-19T11:11:50.361Z"
   },
   {
    "duration": 10,
    "start_time": "2022-09-19T11:11:50.375Z"
   },
   {
    "duration": 9,
    "start_time": "2022-09-19T11:11:50.387Z"
   },
   {
    "duration": 38,
    "start_time": "2022-09-19T11:11:50.397Z"
   },
   {
    "duration": 8,
    "start_time": "2022-09-19T11:11:50.437Z"
   },
   {
    "duration": 26,
    "start_time": "2022-09-19T11:11:50.447Z"
   },
   {
    "duration": 6,
    "start_time": "2022-09-19T11:14:18.558Z"
   },
   {
    "duration": 114,
    "start_time": "2022-09-19T11:14:26.969Z"
   },
   {
    "duration": 14,
    "start_time": "2022-09-19T11:14:27.085Z"
   },
   {
    "duration": 2226,
    "start_time": "2022-09-19T11:14:27.100Z"
   },
   {
    "duration": 10,
    "start_time": "2022-09-19T11:14:29.327Z"
   },
   {
    "duration": 5,
    "start_time": "2022-09-19T11:14:29.339Z"
   },
   {
    "duration": 11,
    "start_time": "2022-09-19T11:14:29.345Z"
   },
   {
    "duration": 6,
    "start_time": "2022-09-19T11:14:29.358Z"
   },
   {
    "duration": 13,
    "start_time": "2022-09-19T11:14:29.365Z"
   },
   {
    "duration": 40,
    "start_time": "2022-09-19T11:14:29.380Z"
   },
   {
    "duration": 8,
    "start_time": "2022-09-19T11:14:29.422Z"
   },
   {
    "duration": 14,
    "start_time": "2022-09-19T11:14:29.431Z"
   },
   {
    "duration": 17,
    "start_time": "2022-09-19T11:14:29.446Z"
   },
   {
    "duration": 8,
    "start_time": "2022-09-19T11:14:29.465Z"
   },
   {
    "duration": 11,
    "start_time": "2022-09-19T11:14:29.476Z"
   },
   {
    "duration": 18,
    "start_time": "2022-09-19T11:14:52.816Z"
   },
   {
    "duration": 6,
    "start_time": "2022-09-19T11:16:08.801Z"
   },
   {
    "duration": 15,
    "start_time": "2022-09-19T11:16:46.346Z"
   },
   {
    "duration": 44,
    "start_time": "2022-09-19T11:23:49.964Z"
   },
   {
    "duration": 119,
    "start_time": "2022-09-19T11:26:48.429Z"
   },
   {
    "duration": 15,
    "start_time": "2022-09-19T11:26:48.550Z"
   },
   {
    "duration": 2314,
    "start_time": "2022-09-19T11:26:48.567Z"
   },
   {
    "duration": 11,
    "start_time": "2022-09-19T11:26:50.884Z"
   },
   {
    "duration": 5,
    "start_time": "2022-09-19T11:26:50.897Z"
   },
   {
    "duration": 12,
    "start_time": "2022-09-19T11:26:50.921Z"
   },
   {
    "duration": 11,
    "start_time": "2022-09-19T11:26:50.936Z"
   },
   {
    "duration": 33,
    "start_time": "2022-09-19T11:26:50.948Z"
   },
   {
    "duration": 15,
    "start_time": "2022-09-19T11:26:50.983Z"
   },
   {
    "duration": 17,
    "start_time": "2022-09-19T11:26:51.000Z"
   },
   {
    "duration": 6,
    "start_time": "2022-09-19T11:26:51.019Z"
   },
   {
    "duration": 18,
    "start_time": "2022-09-19T11:26:51.027Z"
   },
   {
    "duration": 22,
    "start_time": "2022-09-19T11:26:51.046Z"
   },
   {
    "duration": 9,
    "start_time": "2022-09-19T11:26:51.071Z"
   },
   {
    "duration": 28,
    "start_time": "2022-09-19T11:26:51.082Z"
   },
   {
    "duration": 19,
    "start_time": "2022-09-19T11:26:51.112Z"
   },
   {
    "duration": 7,
    "start_time": "2022-09-19T11:33:51.672Z"
   },
   {
    "duration": 8,
    "start_time": "2022-09-19T11:36:45.943Z"
   },
   {
    "duration": 8,
    "start_time": "2022-09-19T11:36:49.932Z"
   },
   {
    "duration": 118,
    "start_time": "2022-09-19T11:48:05.860Z"
   },
   {
    "duration": 14,
    "start_time": "2022-09-19T11:48:05.980Z"
   },
   {
    "duration": 2046,
    "start_time": "2022-09-19T11:48:05.996Z"
   },
   {
    "duration": 10,
    "start_time": "2022-09-19T11:48:08.044Z"
   },
   {
    "duration": 19,
    "start_time": "2022-09-19T11:48:08.056Z"
   },
   {
    "duration": 41,
    "start_time": "2022-09-19T11:48:08.077Z"
   },
   {
    "duration": 13,
    "start_time": "2022-09-19T11:48:08.120Z"
   },
   {
    "duration": 40,
    "start_time": "2022-09-19T11:48:08.135Z"
   },
   {
    "duration": 51,
    "start_time": "2022-09-19T11:48:08.177Z"
   },
   {
    "duration": 29,
    "start_time": "2022-09-19T11:48:08.230Z"
   },
   {
    "duration": 27,
    "start_time": "2022-09-19T11:48:08.260Z"
   },
   {
    "duration": 38,
    "start_time": "2022-09-19T11:48:08.289Z"
   },
   {
    "duration": 24,
    "start_time": "2022-09-19T11:48:08.328Z"
   },
   {
    "duration": 20,
    "start_time": "2022-09-19T11:48:08.355Z"
   },
   {
    "duration": 32,
    "start_time": "2022-09-19T11:48:08.377Z"
   },
   {
    "duration": 44,
    "start_time": "2022-09-19T11:48:08.411Z"
   },
   {
    "duration": 28,
    "start_time": "2022-09-19T11:48:08.457Z"
   },
   {
    "duration": 3406,
    "start_time": "2022-09-19T11:48:08.487Z"
   },
   {
    "duration": 55,
    "start_time": "2022-09-19T11:53:18.584Z"
   },
   {
    "duration": 66,
    "start_time": "2022-09-19T11:53:29.546Z"
   },
   {
    "duration": 49,
    "start_time": "2022-09-20T08:08:38.642Z"
   },
   {
    "duration": 684,
    "start_time": "2022-09-20T08:08:44.379Z"
   },
   {
    "duration": 15,
    "start_time": "2022-09-20T08:08:45.065Z"
   },
   {
    "duration": 2569,
    "start_time": "2022-09-20T08:08:45.082Z"
   },
   {
    "duration": 10,
    "start_time": "2022-09-20T08:08:47.653Z"
   },
   {
    "duration": 23,
    "start_time": "2022-09-20T08:08:47.665Z"
   },
   {
    "duration": 49,
    "start_time": "2022-09-20T08:08:47.690Z"
   },
   {
    "duration": 33,
    "start_time": "2022-09-20T08:08:47.740Z"
   },
   {
    "duration": 19,
    "start_time": "2022-09-20T08:08:47.775Z"
   },
   {
    "duration": 40,
    "start_time": "2022-09-20T08:08:47.797Z"
   },
   {
    "duration": 63,
    "start_time": "2022-09-20T08:08:47.839Z"
   },
   {
    "duration": 46,
    "start_time": "2022-09-20T08:08:47.904Z"
   },
   {
    "duration": 34,
    "start_time": "2022-09-20T08:08:47.951Z"
   },
   {
    "duration": 44,
    "start_time": "2022-09-20T08:08:47.987Z"
   },
   {
    "duration": 25,
    "start_time": "2022-09-20T08:08:48.034Z"
   },
   {
    "duration": 30,
    "start_time": "2022-09-20T08:08:48.061Z"
   },
   {
    "duration": 38,
    "start_time": "2022-09-20T08:08:48.092Z"
   },
   {
    "duration": 21,
    "start_time": "2022-09-20T08:08:48.132Z"
   },
   {
    "duration": 109,
    "start_time": "2022-09-20T08:08:48.155Z"
   },
   {
    "duration": 60,
    "start_time": "2022-09-20T08:08:48.266Z"
   },
   {
    "duration": 67,
    "start_time": "2022-09-20T08:09:20.414Z"
   },
   {
    "duration": 8,
    "start_time": "2022-09-20T08:09:27.581Z"
   },
   {
    "duration": 12,
    "start_time": "2022-09-20T08:09:39.106Z"
   },
   {
    "duration": 66,
    "start_time": "2022-09-20T08:09:42.278Z"
   },
   {
    "duration": 73,
    "start_time": "2022-09-20T08:15:48.255Z"
   },
   {
    "duration": 66,
    "start_time": "2022-09-20T08:15:53.172Z"
   },
   {
    "duration": 64,
    "start_time": "2022-09-20T08:15:58.737Z"
   },
   {
    "duration": 8,
    "start_time": "2022-09-20T08:20:24.327Z"
   },
   {
    "duration": 12,
    "start_time": "2022-09-20T08:20:29.292Z"
   },
   {
    "duration": 54,
    "start_time": "2022-09-20T08:22:47.079Z"
   },
   {
    "duration": 49,
    "start_time": "2022-09-20T08:23:01.854Z"
   },
   {
    "duration": 33,
    "start_time": "2022-09-20T08:23:43.455Z"
   },
   {
    "duration": 149,
    "start_time": "2022-09-20T08:23:46.095Z"
   },
   {
    "duration": 17,
    "start_time": "2022-09-20T08:23:46.247Z"
   },
   {
    "duration": 2273,
    "start_time": "2022-09-20T08:23:46.266Z"
   },
   {
    "duration": 10,
    "start_time": "2022-09-20T08:23:48.540Z"
   },
   {
    "duration": 11,
    "start_time": "2022-09-20T08:23:48.552Z"
   },
   {
    "duration": 13,
    "start_time": "2022-09-20T08:23:48.564Z"
   },
   {
    "duration": 6,
    "start_time": "2022-09-20T08:23:48.579Z"
   },
   {
    "duration": 40,
    "start_time": "2022-09-20T08:23:48.587Z"
   },
   {
    "duration": 23,
    "start_time": "2022-09-20T08:23:48.629Z"
   },
   {
    "duration": 11,
    "start_time": "2022-09-20T08:23:48.655Z"
   },
   {
    "duration": 7,
    "start_time": "2022-09-20T08:23:48.670Z"
   },
   {
    "duration": 15,
    "start_time": "2022-09-20T08:23:48.678Z"
   },
   {
    "duration": 36,
    "start_time": "2022-09-20T08:23:48.694Z"
   },
   {
    "duration": 8,
    "start_time": "2022-09-20T08:23:48.734Z"
   },
   {
    "duration": 21,
    "start_time": "2022-09-20T08:23:48.743Z"
   },
   {
    "duration": 24,
    "start_time": "2022-09-20T08:23:48.766Z"
   },
   {
    "duration": 33,
    "start_time": "2022-09-20T08:23:48.792Z"
   },
   {
    "duration": 58,
    "start_time": "2022-09-20T08:23:48.828Z"
   },
   {
    "duration": 45,
    "start_time": "2022-09-20T08:24:17.931Z"
   },
   {
    "duration": 156,
    "start_time": "2022-09-20T08:27:21.693Z"
   },
   {
    "duration": 26,
    "start_time": "2022-09-20T08:27:21.852Z"
   },
   {
    "duration": 2263,
    "start_time": "2022-09-20T08:27:21.880Z"
   },
   {
    "duration": 11,
    "start_time": "2022-09-20T08:27:24.145Z"
   },
   {
    "duration": 10,
    "start_time": "2022-09-20T08:27:24.159Z"
   },
   {
    "duration": 17,
    "start_time": "2022-09-20T08:27:24.171Z"
   },
   {
    "duration": 8,
    "start_time": "2022-09-20T08:27:24.190Z"
   },
   {
    "duration": 12,
    "start_time": "2022-09-20T08:27:24.221Z"
   },
   {
    "duration": 21,
    "start_time": "2022-09-20T08:27:24.235Z"
   },
   {
    "duration": 10,
    "start_time": "2022-09-20T08:27:24.258Z"
   },
   {
    "duration": 7,
    "start_time": "2022-09-20T08:27:24.270Z"
   },
   {
    "duration": 49,
    "start_time": "2022-09-20T08:27:24.279Z"
   },
   {
    "duration": 21,
    "start_time": "2022-09-20T08:27:24.330Z"
   },
   {
    "duration": 18,
    "start_time": "2022-09-20T08:27:24.354Z"
   },
   {
    "duration": 15,
    "start_time": "2022-09-20T08:27:24.374Z"
   },
   {
    "duration": 39,
    "start_time": "2022-09-20T08:27:24.391Z"
   },
   {
    "duration": 9,
    "start_time": "2022-09-20T08:27:24.432Z"
   },
   {
    "duration": 33,
    "start_time": "2022-09-20T08:27:24.443Z"
   },
   {
    "duration": 86,
    "start_time": "2022-09-20T08:27:24.490Z"
   },
   {
    "duration": 4,
    "start_time": "2022-09-20T08:39:59.531Z"
   },
   {
    "duration": 5,
    "start_time": "2022-09-20T08:40:03.054Z"
   },
   {
    "duration": 15,
    "start_time": "2022-09-20T08:40:04.867Z"
   },
   {
    "duration": 38,
    "start_time": "2022-09-20T08:41:26.204Z"
   },
   {
    "duration": 37,
    "start_time": "2022-09-20T08:41:30.002Z"
   },
   {
    "duration": 8,
    "start_time": "2022-09-20T08:41:35.643Z"
   },
   {
    "duration": 8,
    "start_time": "2022-09-20T08:41:43.058Z"
   },
   {
    "duration": 111,
    "start_time": "2022-09-20T08:48:34.180Z"
   },
   {
    "duration": 15,
    "start_time": "2022-09-20T08:48:34.292Z"
   },
   {
    "duration": 2077,
    "start_time": "2022-09-20T08:48:34.308Z"
   },
   {
    "duration": 12,
    "start_time": "2022-09-20T08:48:36.387Z"
   },
   {
    "duration": 28,
    "start_time": "2022-09-20T08:48:36.401Z"
   },
   {
    "duration": 11,
    "start_time": "2022-09-20T08:48:36.431Z"
   },
   {
    "duration": 10,
    "start_time": "2022-09-20T08:48:36.444Z"
   },
   {
    "duration": 18,
    "start_time": "2022-09-20T08:48:36.456Z"
   },
   {
    "duration": 14,
    "start_time": "2022-09-20T08:48:36.476Z"
   },
   {
    "duration": 17,
    "start_time": "2022-09-20T08:48:36.491Z"
   },
   {
    "duration": 12,
    "start_time": "2022-09-20T08:48:36.510Z"
   },
   {
    "duration": 31,
    "start_time": "2022-09-20T08:48:36.524Z"
   },
   {
    "duration": 15,
    "start_time": "2022-09-20T08:48:36.557Z"
   },
   {
    "duration": 9,
    "start_time": "2022-09-20T08:48:36.575Z"
   },
   {
    "duration": 10,
    "start_time": "2022-09-20T08:48:36.586Z"
   },
   {
    "duration": 27,
    "start_time": "2022-09-20T08:48:36.597Z"
   },
   {
    "duration": 8,
    "start_time": "2022-09-20T08:48:36.626Z"
   },
   {
    "duration": 36,
    "start_time": "2022-09-20T08:48:36.637Z"
   },
   {
    "duration": 222,
    "start_time": "2022-09-20T08:48:36.674Z"
   },
   {
    "duration": 558,
    "start_time": "2022-09-20T08:57:46.351Z"
   },
   {
    "duration": 21,
    "start_time": "2022-09-20T08:57:46.911Z"
   },
   {
    "duration": 2565,
    "start_time": "2022-09-20T08:57:46.934Z"
   },
   {
    "duration": 10,
    "start_time": "2022-09-20T08:57:49.501Z"
   },
   {
    "duration": 25,
    "start_time": "2022-09-20T08:57:49.512Z"
   },
   {
    "duration": 23,
    "start_time": "2022-09-20T08:57:49.538Z"
   },
   {
    "duration": 6,
    "start_time": "2022-09-20T08:57:49.563Z"
   },
   {
    "duration": 16,
    "start_time": "2022-09-20T08:57:49.571Z"
   },
   {
    "duration": 15,
    "start_time": "2022-09-20T08:57:49.589Z"
   },
   {
    "duration": 24,
    "start_time": "2022-09-20T08:57:49.606Z"
   },
   {
    "duration": 24,
    "start_time": "2022-09-20T08:57:49.633Z"
   },
   {
    "duration": 16,
    "start_time": "2022-09-20T08:57:49.659Z"
   },
   {
    "duration": 16,
    "start_time": "2022-09-20T08:57:49.677Z"
   },
   {
    "duration": 10,
    "start_time": "2022-09-20T08:57:49.695Z"
   },
   {
    "duration": 23,
    "start_time": "2022-09-20T08:57:49.707Z"
   },
   {
    "duration": 15,
    "start_time": "2022-09-20T08:57:49.732Z"
   },
   {
    "duration": 9,
    "start_time": "2022-09-20T08:57:49.749Z"
   },
   {
    "duration": 294,
    "start_time": "2022-09-20T08:57:49.759Z"
   },
   {
    "duration": 77,
    "start_time": "2022-09-20T08:57:50.055Z"
   },
   {
    "duration": 351,
    "start_time": "2022-09-20T08:58:03.378Z"
   },
   {
    "duration": 369,
    "start_time": "2022-09-20T08:58:19.947Z"
   },
   {
    "duration": 253,
    "start_time": "2022-09-20T08:59:51.319Z"
   },
   {
    "duration": 551,
    "start_time": "2022-09-20T10:15:40.445Z"
   },
   {
    "duration": 15,
    "start_time": "2022-09-20T10:15:40.998Z"
   },
   {
    "duration": 2328,
    "start_time": "2022-09-20T10:15:41.015Z"
   },
   {
    "duration": 9,
    "start_time": "2022-09-20T10:15:43.345Z"
   },
   {
    "duration": 17,
    "start_time": "2022-09-20T10:15:43.357Z"
   },
   {
    "duration": 28,
    "start_time": "2022-09-20T10:15:43.376Z"
   },
   {
    "duration": 20,
    "start_time": "2022-09-20T10:15:43.406Z"
   },
   {
    "duration": 28,
    "start_time": "2022-09-20T10:15:43.428Z"
   },
   {
    "duration": 24,
    "start_time": "2022-09-20T10:15:43.458Z"
   },
   {
    "duration": 33,
    "start_time": "2022-09-20T10:15:43.484Z"
   },
   {
    "duration": 28,
    "start_time": "2022-09-20T10:15:43.518Z"
   },
   {
    "duration": 21,
    "start_time": "2022-09-20T10:15:43.548Z"
   },
   {
    "duration": 28,
    "start_time": "2022-09-20T10:15:43.571Z"
   },
   {
    "duration": 9,
    "start_time": "2022-09-20T10:15:43.602Z"
   },
   {
    "duration": 31,
    "start_time": "2022-09-20T10:15:43.612Z"
   },
   {
    "duration": 35,
    "start_time": "2022-09-20T10:15:43.644Z"
   },
   {
    "duration": 12,
    "start_time": "2022-09-20T10:15:43.680Z"
   },
   {
    "duration": 278,
    "start_time": "2022-09-20T10:15:43.694Z"
   },
   {
    "duration": 66,
    "start_time": "2022-09-20T10:15:43.975Z"
   },
   {
    "duration": 582,
    "start_time": "2022-09-20T10:15:59.066Z"
   },
   {
    "duration": 3,
    "start_time": "2022-09-20T10:16:09.441Z"
   },
   {
    "duration": 39,
    "start_time": "2022-09-20T10:16:14.479Z"
   },
   {
    "duration": 60,
    "start_time": "2022-09-20T10:18:20.041Z"
   },
   {
    "duration": 44,
    "start_time": "2022-09-20T10:18:55.906Z"
   },
   {
    "duration": 75,
    "start_time": "2022-09-20T10:19:39.447Z"
   },
   {
    "duration": 53,
    "start_time": "2022-09-20T10:19:49.063Z"
   },
   {
    "duration": 57,
    "start_time": "2022-09-20T10:21:36.960Z"
   },
   {
    "duration": 59,
    "start_time": "2022-09-20T10:22:01.380Z"
   },
   {
    "duration": 56,
    "start_time": "2022-09-20T10:22:24.274Z"
   },
   {
    "duration": 39,
    "start_time": "2022-09-20T10:22:34.876Z"
   },
   {
    "duration": 42,
    "start_time": "2022-09-20T10:22:44.625Z"
   },
   {
    "duration": 42,
    "start_time": "2022-09-20T10:23:18.218Z"
   },
   {
    "duration": 56,
    "start_time": "2022-09-20T12:24:11.075Z"
   },
   {
    "duration": 1132,
    "start_time": "2022-09-20T12:24:19.296Z"
   },
   {
    "duration": 16,
    "start_time": "2022-09-20T12:24:20.430Z"
   },
   {
    "duration": 2542,
    "start_time": "2022-09-20T12:24:20.448Z"
   },
   {
    "duration": 10,
    "start_time": "2022-09-20T12:24:22.992Z"
   },
   {
    "duration": 5,
    "start_time": "2022-09-20T12:24:23.004Z"
   },
   {
    "duration": 14,
    "start_time": "2022-09-20T12:24:23.010Z"
   },
   {
    "duration": 6,
    "start_time": "2022-09-20T12:24:23.026Z"
   },
   {
    "duration": 11,
    "start_time": "2022-09-20T12:24:23.033Z"
   },
   {
    "duration": 36,
    "start_time": "2022-09-20T12:24:23.046Z"
   },
   {
    "duration": 18,
    "start_time": "2022-09-20T12:24:23.083Z"
   },
   {
    "duration": 12,
    "start_time": "2022-09-20T12:24:23.102Z"
   },
   {
    "duration": 9,
    "start_time": "2022-09-20T12:24:23.116Z"
   },
   {
    "duration": 15,
    "start_time": "2022-09-20T12:24:23.126Z"
   },
   {
    "duration": 8,
    "start_time": "2022-09-20T12:24:23.143Z"
   },
   {
    "duration": 9,
    "start_time": "2022-09-20T12:24:23.152Z"
   },
   {
    "duration": 21,
    "start_time": "2022-09-20T12:24:23.176Z"
   },
   {
    "duration": 13,
    "start_time": "2022-09-20T12:24:23.199Z"
   },
   {
    "duration": 72,
    "start_time": "2022-09-20T12:24:23.214Z"
   },
   {
    "duration": 65,
    "start_time": "2022-09-20T12:24:23.288Z"
   },
   {
    "duration": 68,
    "start_time": "2022-09-20T12:24:42.655Z"
   },
   {
    "duration": 283,
    "start_time": "2022-09-20T12:24:58.615Z"
   },
   {
    "duration": 375,
    "start_time": "2022-09-20T12:26:21.221Z"
   },
   {
    "duration": 316,
    "start_time": "2022-09-20T12:26:52.690Z"
   },
   {
    "duration": 7,
    "start_time": "2022-09-20T12:26:59.504Z"
   },
   {
    "duration": 8,
    "start_time": "2022-09-20T12:27:05.863Z"
   },
   {
    "duration": 327,
    "start_time": "2022-09-20T12:27:18.262Z"
   },
   {
    "duration": 307,
    "start_time": "2022-09-20T12:27:22.967Z"
   },
   {
    "duration": 515,
    "start_time": "2022-09-20T12:31:31.128Z"
   },
   {
    "duration": 22,
    "start_time": "2022-09-20T12:31:31.645Z"
   },
   {
    "duration": 2316,
    "start_time": "2022-09-20T12:31:31.680Z"
   },
   {
    "duration": 9,
    "start_time": "2022-09-20T12:31:33.998Z"
   },
   {
    "duration": 7,
    "start_time": "2022-09-20T12:31:34.009Z"
   },
   {
    "duration": 18,
    "start_time": "2022-09-20T12:31:34.018Z"
   },
   {
    "duration": 7,
    "start_time": "2022-09-20T12:31:34.037Z"
   },
   {
    "duration": 18,
    "start_time": "2022-09-20T12:31:34.045Z"
   },
   {
    "duration": 17,
    "start_time": "2022-09-20T12:31:34.065Z"
   },
   {
    "duration": 14,
    "start_time": "2022-09-20T12:31:34.083Z"
   },
   {
    "duration": 8,
    "start_time": "2022-09-20T12:31:34.098Z"
   },
   {
    "duration": 10,
    "start_time": "2022-09-20T12:31:34.108Z"
   },
   {
    "duration": 17,
    "start_time": "2022-09-20T12:31:34.120Z"
   },
   {
    "duration": 7,
    "start_time": "2022-09-20T12:31:34.140Z"
   },
   {
    "duration": 11,
    "start_time": "2022-09-20T12:31:34.148Z"
   },
   {
    "duration": 35,
    "start_time": "2022-09-20T12:31:34.160Z"
   },
   {
    "duration": 7,
    "start_time": "2022-09-20T12:31:34.197Z"
   },
   {
    "duration": 327,
    "start_time": "2022-09-20T12:31:34.205Z"
   },
   {
    "duration": 75,
    "start_time": "2022-09-20T12:31:34.533Z"
   },
   {
    "duration": 282,
    "start_time": "2022-09-20T12:31:46.090Z"
   },
   {
    "duration": 374,
    "start_time": "2022-09-20T12:32:35.123Z"
   },
   {
    "duration": 299,
    "start_time": "2022-09-20T12:32:35.953Z"
   },
   {
    "duration": 318,
    "start_time": "2022-09-20T12:32:48.056Z"
   },
   {
    "duration": 351,
    "start_time": "2022-09-20T12:34:35.857Z"
   },
   {
    "duration": 14,
    "start_time": "2022-09-20T12:36:23.601Z"
   },
   {
    "duration": 15,
    "start_time": "2022-09-20T12:36:37.476Z"
   },
   {
    "duration": 45,
    "start_time": "2022-09-20T12:36:48.017Z"
   },
   {
    "duration": 72,
    "start_time": "2022-09-20T12:37:38.776Z"
   },
   {
    "duration": 372,
    "start_time": "2022-09-20T12:38:46.059Z"
   },
   {
    "duration": 331,
    "start_time": "2022-09-20T12:38:58.745Z"
   },
   {
    "duration": 37,
    "start_time": "2022-09-20T12:44:05.622Z"
   },
   {
    "duration": 262,
    "start_time": "2022-09-20T12:46:30.234Z"
   },
   {
    "duration": 491,
    "start_time": "2022-09-20T12:46:38.828Z"
   },
   {
    "duration": 21,
    "start_time": "2022-09-20T12:46:39.321Z"
   },
   {
    "duration": 2357,
    "start_time": "2022-09-20T12:46:39.344Z"
   },
   {
    "duration": 10,
    "start_time": "2022-09-20T12:46:41.704Z"
   },
   {
    "duration": 21,
    "start_time": "2022-09-20T12:46:41.717Z"
   },
   {
    "duration": 21,
    "start_time": "2022-09-20T12:46:41.741Z"
   },
   {
    "duration": 8,
    "start_time": "2022-09-20T12:46:41.767Z"
   },
   {
    "duration": 35,
    "start_time": "2022-09-20T12:46:41.779Z"
   },
   {
    "duration": 12,
    "start_time": "2022-09-20T12:46:41.816Z"
   },
   {
    "duration": 16,
    "start_time": "2022-09-20T12:46:41.829Z"
   },
   {
    "duration": 9,
    "start_time": "2022-09-20T12:46:41.846Z"
   },
   {
    "duration": 10,
    "start_time": "2022-09-20T12:46:41.857Z"
   },
   {
    "duration": 18,
    "start_time": "2022-09-20T12:46:41.868Z"
   },
   {
    "duration": 10,
    "start_time": "2022-09-20T12:46:41.893Z"
   },
   {
    "duration": 13,
    "start_time": "2022-09-20T12:46:41.905Z"
   },
   {
    "duration": 23,
    "start_time": "2022-09-20T12:46:41.920Z"
   },
   {
    "duration": 7,
    "start_time": "2022-09-20T12:46:41.945Z"
   },
   {
    "duration": 286,
    "start_time": "2022-09-20T12:46:41.954Z"
   },
   {
    "duration": 69,
    "start_time": "2022-09-20T12:46:42.241Z"
   },
   {
    "duration": 329,
    "start_time": "2022-09-20T12:46:51.990Z"
   },
   {
    "duration": 340,
    "start_time": "2022-09-20T12:47:17.532Z"
   },
   {
    "duration": 366,
    "start_time": "2022-09-20T12:48:16.330Z"
   },
   {
    "duration": 298,
    "start_time": "2022-09-20T12:48:38.399Z"
   },
   {
    "duration": 9,
    "start_time": "2022-09-20T12:49:23.673Z"
   },
   {
    "duration": 271,
    "start_time": "2022-09-20T12:49:32.555Z"
   },
   {
    "duration": 571,
    "start_time": "2022-09-20T12:49:51.957Z"
   },
   {
    "duration": 15,
    "start_time": "2022-09-20T12:49:52.530Z"
   },
   {
    "duration": 2342,
    "start_time": "2022-09-20T12:49:52.547Z"
   },
   {
    "duration": 10,
    "start_time": "2022-09-20T12:49:54.892Z"
   },
   {
    "duration": 5,
    "start_time": "2022-09-20T12:49:54.905Z"
   },
   {
    "duration": 20,
    "start_time": "2022-09-20T12:49:54.912Z"
   },
   {
    "duration": 6,
    "start_time": "2022-09-20T12:49:54.934Z"
   },
   {
    "duration": 15,
    "start_time": "2022-09-20T12:49:54.941Z"
   },
   {
    "duration": 23,
    "start_time": "2022-09-20T12:49:54.957Z"
   },
   {
    "duration": 7,
    "start_time": "2022-09-20T12:49:54.981Z"
   },
   {
    "duration": 22,
    "start_time": "2022-09-20T12:49:54.990Z"
   },
   {
    "duration": 17,
    "start_time": "2022-09-20T12:49:55.013Z"
   },
   {
    "duration": 22,
    "start_time": "2022-09-20T12:49:55.031Z"
   },
   {
    "duration": 7,
    "start_time": "2022-09-20T12:49:55.056Z"
   },
   {
    "duration": 9,
    "start_time": "2022-09-20T12:49:55.064Z"
   },
   {
    "duration": 21,
    "start_time": "2022-09-20T12:49:55.074Z"
   },
   {
    "duration": 12,
    "start_time": "2022-09-20T12:49:55.096Z"
   },
   {
    "duration": 344,
    "start_time": "2022-09-20T12:49:55.109Z"
   },
   {
    "duration": 88,
    "start_time": "2022-09-20T12:49:55.455Z"
   },
   {
    "duration": 7,
    "start_time": "2022-09-20T12:50:18.522Z"
   },
   {
    "duration": 291,
    "start_time": "2022-09-20T12:50:23.761Z"
   },
   {
    "duration": 489,
    "start_time": "2022-09-20T12:51:39.236Z"
   },
   {
    "duration": 310,
    "start_time": "2022-09-20T12:52:26.414Z"
   },
   {
    "duration": 448,
    "start_time": "2022-09-20T12:53:05.041Z"
   },
   {
    "duration": 311,
    "start_time": "2022-09-20T12:53:28.399Z"
   },
   {
    "duration": 529,
    "start_time": "2022-09-20T12:55:00.675Z"
   },
   {
    "duration": 319,
    "start_time": "2022-09-20T12:55:23.411Z"
   },
   {
    "duration": 291,
    "start_time": "2022-09-20T12:57:28.016Z"
   },
   {
    "duration": 298,
    "start_time": "2022-09-20T12:58:06.648Z"
   },
   {
    "duration": 522,
    "start_time": "2022-09-20T12:58:55.331Z"
   },
   {
    "duration": 94,
    "start_time": "2022-09-20T13:16:50.471Z"
   },
   {
    "duration": 74,
    "start_time": "2022-09-20T13:17:09.744Z"
   },
   {
    "duration": 64,
    "start_time": "2022-09-20T13:17:17.646Z"
   },
   {
    "duration": 572,
    "start_time": "2022-09-20T13:17:33.256Z"
   },
   {
    "duration": 17,
    "start_time": "2022-09-20T13:17:33.830Z"
   },
   {
    "duration": 2619,
    "start_time": "2022-09-20T13:17:33.849Z"
   },
   {
    "duration": 17,
    "start_time": "2022-09-20T13:17:36.471Z"
   },
   {
    "duration": 19,
    "start_time": "2022-09-20T13:17:36.491Z"
   },
   {
    "duration": 18,
    "start_time": "2022-09-20T13:17:36.512Z"
   },
   {
    "duration": 9,
    "start_time": "2022-09-20T13:17:36.532Z"
   },
   {
    "duration": 13,
    "start_time": "2022-09-20T13:17:36.543Z"
   },
   {
    "duration": 12,
    "start_time": "2022-09-20T13:17:36.558Z"
   },
   {
    "duration": 34,
    "start_time": "2022-09-20T13:17:36.580Z"
   },
   {
    "duration": 8,
    "start_time": "2022-09-20T13:17:36.616Z"
   },
   {
    "duration": 13,
    "start_time": "2022-09-20T13:17:36.626Z"
   },
   {
    "duration": 21,
    "start_time": "2022-09-20T13:17:36.642Z"
   },
   {
    "duration": 11,
    "start_time": "2022-09-20T13:17:36.667Z"
   },
   {
    "duration": 29,
    "start_time": "2022-09-20T13:17:36.681Z"
   },
   {
    "duration": 17,
    "start_time": "2022-09-20T13:17:36.712Z"
   },
   {
    "duration": 6,
    "start_time": "2022-09-20T13:17:36.731Z"
   },
   {
    "duration": 336,
    "start_time": "2022-09-20T13:17:36.739Z"
   },
   {
    "duration": 93,
    "start_time": "2022-09-20T13:17:37.077Z"
   },
   {
    "duration": 109,
    "start_time": "2022-09-20T13:17:37.172Z"
   },
   {
    "duration": 126,
    "start_time": "2022-09-20T13:17:58.472Z"
   },
   {
    "duration": 143,
    "start_time": "2022-09-20T13:18:45.728Z"
   },
   {
    "duration": 628,
    "start_time": "2022-09-20T13:18:52.674Z"
   },
   {
    "duration": 671,
    "start_time": "2022-09-20T13:19:14.193Z"
   },
   {
    "duration": 100,
    "start_time": "2022-09-20T13:19:29.496Z"
   },
   {
    "duration": 59,
    "start_time": "2022-09-20T13:21:15.336Z"
   },
   {
    "duration": 600,
    "start_time": "2022-09-20T13:21:34.793Z"
   },
   {
    "duration": 20,
    "start_time": "2022-09-20T13:21:35.395Z"
   },
   {
    "duration": 2579,
    "start_time": "2022-09-20T13:21:35.417Z"
   },
   {
    "duration": 10,
    "start_time": "2022-09-20T13:21:37.998Z"
   },
   {
    "duration": 13,
    "start_time": "2022-09-20T13:21:38.010Z"
   },
   {
    "duration": 23,
    "start_time": "2022-09-20T13:21:38.025Z"
   },
   {
    "duration": 8,
    "start_time": "2022-09-20T13:21:38.050Z"
   },
   {
    "duration": 15,
    "start_time": "2022-09-20T13:21:38.060Z"
   },
   {
    "duration": 27,
    "start_time": "2022-09-20T13:21:38.080Z"
   },
   {
    "duration": 17,
    "start_time": "2022-09-20T13:21:38.108Z"
   },
   {
    "duration": 8,
    "start_time": "2022-09-20T13:21:38.127Z"
   },
   {
    "duration": 20,
    "start_time": "2022-09-20T13:21:38.137Z"
   },
   {
    "duration": 14,
    "start_time": "2022-09-20T13:21:38.158Z"
   },
   {
    "duration": 13,
    "start_time": "2022-09-20T13:21:38.175Z"
   },
   {
    "duration": 18,
    "start_time": "2022-09-20T13:21:38.189Z"
   },
   {
    "duration": 17,
    "start_time": "2022-09-20T13:21:38.208Z"
   },
   {
    "duration": 10,
    "start_time": "2022-09-20T13:21:38.226Z"
   },
   {
    "duration": 330,
    "start_time": "2022-09-20T13:21:38.238Z"
   },
   {
    "duration": 76,
    "start_time": "2022-09-20T13:21:38.570Z"
   },
   {
    "duration": 865,
    "start_time": "2022-09-20T13:21:38.648Z"
   },
   {
    "duration": 575,
    "start_time": "2022-09-20T13:21:55.965Z"
   },
   {
    "duration": 21,
    "start_time": "2022-09-20T13:21:56.541Z"
   },
   {
    "duration": 2429,
    "start_time": "2022-09-20T13:21:56.564Z"
   },
   {
    "duration": 9,
    "start_time": "2022-09-20T13:21:58.995Z"
   },
   {
    "duration": 21,
    "start_time": "2022-09-20T13:21:59.006Z"
   },
   {
    "duration": 15,
    "start_time": "2022-09-20T13:21:59.028Z"
   },
   {
    "duration": 5,
    "start_time": "2022-09-20T13:21:59.045Z"
   },
   {
    "duration": 17,
    "start_time": "2022-09-20T13:21:59.052Z"
   },
   {
    "duration": 21,
    "start_time": "2022-09-20T13:21:59.071Z"
   },
   {
    "duration": 13,
    "start_time": "2022-09-20T13:21:59.094Z"
   },
   {
    "duration": 7,
    "start_time": "2022-09-20T13:21:59.108Z"
   },
   {
    "duration": 13,
    "start_time": "2022-09-20T13:21:59.116Z"
   },
   {
    "duration": 15,
    "start_time": "2022-09-20T13:21:59.130Z"
   },
   {
    "duration": 8,
    "start_time": "2022-09-20T13:21:59.147Z"
   },
   {
    "duration": 26,
    "start_time": "2022-09-20T13:21:59.156Z"
   },
   {
    "duration": 18,
    "start_time": "2022-09-20T13:21:59.184Z"
   },
   {
    "duration": 10,
    "start_time": "2022-09-20T13:21:59.204Z"
   },
   {
    "duration": 314,
    "start_time": "2022-09-20T13:21:59.215Z"
   },
   {
    "duration": 73,
    "start_time": "2022-09-20T13:21:59.531Z"
   },
   {
    "duration": 36,
    "start_time": "2022-09-20T13:21:59.606Z"
   },
   {
    "duration": 565,
    "start_time": "2022-09-20T13:23:41.545Z"
   },
   {
    "duration": 15,
    "start_time": "2022-09-20T13:23:42.111Z"
   },
   {
    "duration": 2625,
    "start_time": "2022-09-20T13:23:42.128Z"
   },
   {
    "duration": 10,
    "start_time": "2022-09-20T13:23:44.755Z"
   },
   {
    "duration": 12,
    "start_time": "2022-09-20T13:23:44.768Z"
   },
   {
    "duration": 34,
    "start_time": "2022-09-20T13:23:44.781Z"
   },
   {
    "duration": 7,
    "start_time": "2022-09-20T13:23:44.816Z"
   },
   {
    "duration": 17,
    "start_time": "2022-09-20T13:23:44.825Z"
   },
   {
    "duration": 12,
    "start_time": "2022-09-20T13:23:44.844Z"
   },
   {
    "duration": 15,
    "start_time": "2022-09-20T13:23:44.858Z"
   },
   {
    "duration": 11,
    "start_time": "2022-09-20T13:23:44.875Z"
   },
   {
    "duration": 19,
    "start_time": "2022-09-20T13:23:44.887Z"
   },
   {
    "duration": 14,
    "start_time": "2022-09-20T13:23:44.907Z"
   },
   {
    "duration": 8,
    "start_time": "2022-09-20T13:23:44.923Z"
   },
   {
    "duration": 10,
    "start_time": "2022-09-20T13:23:44.932Z"
   },
   {
    "duration": 18,
    "start_time": "2022-09-20T13:23:44.944Z"
   },
   {
    "duration": 18,
    "start_time": "2022-09-20T13:23:44.964Z"
   },
   {
    "duration": 310,
    "start_time": "2022-09-20T13:23:44.985Z"
   },
   {
    "duration": 107,
    "start_time": "2022-09-20T13:23:45.298Z"
   },
   {
    "duration": 43,
    "start_time": "2022-09-20T13:23:45.408Z"
   },
   {
    "duration": 8,
    "start_time": "2022-09-20T13:26:35.704Z"
   },
   {
    "duration": 127,
    "start_time": "2022-09-20T13:26:50.897Z"
   },
   {
    "duration": 21,
    "start_time": "2022-09-20T13:27:02.773Z"
   },
   {
    "duration": 117,
    "start_time": "2022-09-20T13:29:42.789Z"
   },
   {
    "duration": 37,
    "start_time": "2022-09-20T13:31:51.193Z"
   },
   {
    "duration": 35,
    "start_time": "2022-09-20T13:32:46.333Z"
   },
   {
    "duration": 4,
    "start_time": "2022-09-20T13:33:56.949Z"
   },
   {
    "duration": 6,
    "start_time": "2022-09-20T13:35:43.338Z"
   },
   {
    "duration": 41,
    "start_time": "2022-09-20T13:35:48.490Z"
   },
   {
    "duration": 6,
    "start_time": "2022-09-20T13:36:09.360Z"
   },
   {
    "duration": 6,
    "start_time": "2022-09-20T13:38:34.033Z"
   },
   {
    "duration": 40,
    "start_time": "2022-09-20T13:38:38.992Z"
   },
   {
    "duration": 45,
    "start_time": "2022-09-20T13:39:12.675Z"
   },
   {
    "duration": 500,
    "start_time": "2022-09-20T13:39:43.824Z"
   },
   {
    "duration": 14,
    "start_time": "2022-09-20T13:39:44.328Z"
   },
   {
    "duration": 2396,
    "start_time": "2022-09-20T13:39:44.344Z"
   },
   {
    "duration": 9,
    "start_time": "2022-09-20T13:39:46.743Z"
   },
   {
    "duration": 5,
    "start_time": "2022-09-20T13:39:46.755Z"
   },
   {
    "duration": 21,
    "start_time": "2022-09-20T13:39:46.762Z"
   },
   {
    "duration": 8,
    "start_time": "2022-09-20T13:39:46.789Z"
   },
   {
    "duration": 13,
    "start_time": "2022-09-20T13:39:46.798Z"
   },
   {
    "duration": 12,
    "start_time": "2022-09-20T13:39:46.812Z"
   },
   {
    "duration": 19,
    "start_time": "2022-09-20T13:39:46.825Z"
   },
   {
    "duration": 10,
    "start_time": "2022-09-20T13:39:46.846Z"
   },
   {
    "duration": 18,
    "start_time": "2022-09-20T13:39:46.858Z"
   },
   {
    "duration": 24,
    "start_time": "2022-09-20T13:39:46.878Z"
   },
   {
    "duration": 9,
    "start_time": "2022-09-20T13:39:46.904Z"
   },
   {
    "duration": 28,
    "start_time": "2022-09-20T13:39:46.914Z"
   },
   {
    "duration": 22,
    "start_time": "2022-09-20T13:39:46.944Z"
   },
   {
    "duration": 28,
    "start_time": "2022-09-20T13:39:46.968Z"
   },
   {
    "duration": 326,
    "start_time": "2022-09-20T13:39:46.998Z"
   },
   {
    "duration": 75,
    "start_time": "2022-09-20T13:39:47.325Z"
   },
   {
    "duration": 9,
    "start_time": "2022-09-20T13:39:47.402Z"
   },
   {
    "duration": 119,
    "start_time": "2022-09-20T13:39:47.413Z"
   },
   {
    "duration": 4,
    "start_time": "2022-09-20T13:39:47.534Z"
   },
   {
    "duration": 15,
    "start_time": "2022-09-20T13:39:47.540Z"
   },
   {
    "duration": 14,
    "start_time": "2022-09-20T13:39:47.557Z"
   },
   {
    "duration": 27,
    "start_time": "2022-09-20T13:39:47.573Z"
   },
   {
    "duration": 241,
    "start_time": "2022-09-20T13:44:17.272Z"
   },
   {
    "duration": 551,
    "start_time": "2022-09-20T13:46:18.493Z"
   },
   {
    "duration": 544,
    "start_time": "2022-09-20T13:46:32.072Z"
   },
   {
    "duration": 574,
    "start_time": "2022-09-20T13:53:38.365Z"
   },
   {
    "duration": 21,
    "start_time": "2022-09-20T13:53:38.942Z"
   },
   {
    "duration": 2448,
    "start_time": "2022-09-20T13:53:38.965Z"
   },
   {
    "duration": 11,
    "start_time": "2022-09-20T13:53:41.415Z"
   },
   {
    "duration": 6,
    "start_time": "2022-09-20T13:53:41.428Z"
   },
   {
    "duration": 17,
    "start_time": "2022-09-20T13:53:41.435Z"
   },
   {
    "duration": 7,
    "start_time": "2022-09-20T13:53:41.453Z"
   },
   {
    "duration": 20,
    "start_time": "2022-09-20T13:53:41.461Z"
   },
   {
    "duration": 26,
    "start_time": "2022-09-20T13:53:41.482Z"
   },
   {
    "duration": 10,
    "start_time": "2022-09-20T13:53:41.511Z"
   },
   {
    "duration": 18,
    "start_time": "2022-09-20T13:53:41.523Z"
   },
   {
    "duration": 19,
    "start_time": "2022-09-20T13:53:41.547Z"
   },
   {
    "duration": 24,
    "start_time": "2022-09-20T13:53:41.568Z"
   },
   {
    "duration": 25,
    "start_time": "2022-09-20T13:53:41.595Z"
   },
   {
    "duration": 14,
    "start_time": "2022-09-20T13:53:41.623Z"
   },
   {
    "duration": 29,
    "start_time": "2022-09-20T13:53:41.639Z"
   },
   {
    "duration": 16,
    "start_time": "2022-09-20T13:53:41.670Z"
   },
   {
    "duration": 323,
    "start_time": "2022-09-20T13:53:41.693Z"
   },
   {
    "duration": 98,
    "start_time": "2022-09-20T13:53:42.018Z"
   },
   {
    "duration": 12,
    "start_time": "2022-09-20T13:53:42.118Z"
   },
   {
    "duration": 132,
    "start_time": "2022-09-20T13:53:42.133Z"
   },
   {
    "duration": 15,
    "start_time": "2022-09-20T13:53:42.267Z"
   },
   {
    "duration": 23,
    "start_time": "2022-09-20T13:53:42.284Z"
   },
   {
    "duration": 6,
    "start_time": "2022-09-20T13:53:42.309Z"
   },
   {
    "duration": 10,
    "start_time": "2022-09-20T13:53:42.316Z"
   },
   {
    "duration": 595,
    "start_time": "2022-09-20T13:53:42.328Z"
   },
   {
    "duration": 1210,
    "start_time": "2022-09-20T13:53:42.924Z"
   },
   {
    "duration": 27,
    "start_time": "2022-09-20T13:54:00.998Z"
   },
   {
    "duration": 20,
    "start_time": "2022-09-20T13:54:47.036Z"
   },
   {
    "duration": 512,
    "start_time": "2022-09-20T14:00:16.314Z"
   },
   {
    "duration": 15,
    "start_time": "2022-09-20T14:00:16.827Z"
   },
   {
    "duration": 2385,
    "start_time": "2022-09-20T14:00:16.844Z"
   },
   {
    "duration": 10,
    "start_time": "2022-09-20T14:00:19.232Z"
   },
   {
    "duration": 4,
    "start_time": "2022-09-20T14:00:19.244Z"
   },
   {
    "duration": 15,
    "start_time": "2022-09-20T14:00:19.250Z"
   },
   {
    "duration": 6,
    "start_time": "2022-09-20T14:00:19.266Z"
   },
   {
    "duration": 21,
    "start_time": "2022-09-20T14:00:19.273Z"
   },
   {
    "duration": 11,
    "start_time": "2022-09-20T14:00:19.295Z"
   },
   {
    "duration": 10,
    "start_time": "2022-09-20T14:00:19.308Z"
   },
   {
    "duration": 10,
    "start_time": "2022-09-20T14:00:19.319Z"
   },
   {
    "duration": 12,
    "start_time": "2022-09-20T14:00:19.331Z"
   },
   {
    "duration": 16,
    "start_time": "2022-09-20T14:00:19.344Z"
   },
   {
    "duration": 8,
    "start_time": "2022-09-20T14:00:19.362Z"
   },
   {
    "duration": 13,
    "start_time": "2022-09-20T14:00:19.371Z"
   },
   {
    "duration": 28,
    "start_time": "2022-09-20T14:00:19.385Z"
   },
   {
    "duration": 6,
    "start_time": "2022-09-20T14:00:19.414Z"
   },
   {
    "duration": 284,
    "start_time": "2022-09-20T14:00:19.422Z"
   },
   {
    "duration": 61,
    "start_time": "2022-09-20T14:00:19.707Z"
   },
   {
    "duration": 14,
    "start_time": "2022-09-20T14:00:19.779Z"
   },
   {
    "duration": 107,
    "start_time": "2022-09-20T14:00:19.794Z"
   },
   {
    "duration": 4,
    "start_time": "2022-09-20T14:00:19.903Z"
   },
   {
    "duration": 12,
    "start_time": "2022-09-20T14:00:19.908Z"
   },
   {
    "duration": 6,
    "start_time": "2022-09-20T14:00:19.921Z"
   },
   {
    "duration": 6,
    "start_time": "2022-09-20T14:00:19.928Z"
   },
   {
    "duration": 567,
    "start_time": "2022-09-20T14:00:19.935Z"
   },
   {
    "duration": 14,
    "start_time": "2022-09-20T14:00:20.504Z"
   },
   {
    "duration": 29,
    "start_time": "2022-09-20T14:01:00.451Z"
   },
   {
    "duration": 27,
    "start_time": "2022-09-20T14:01:32.293Z"
   },
   {
    "duration": 9,
    "start_time": "2022-09-20T14:01:40.302Z"
   },
   {
    "duration": 16,
    "start_time": "2022-09-20T14:01:46.932Z"
   },
   {
    "duration": 13,
    "start_time": "2022-09-20T14:02:06.137Z"
   },
   {
    "duration": 32,
    "start_time": "2022-09-20T14:02:34.489Z"
   },
   {
    "duration": 14,
    "start_time": "2022-09-20T14:03:04.739Z"
   },
   {
    "duration": 16,
    "start_time": "2022-09-20T14:03:43.773Z"
   },
   {
    "duration": 9,
    "start_time": "2022-09-20T14:04:23.389Z"
   },
   {
    "duration": 82,
    "start_time": "2022-09-20T14:07:38.134Z"
   },
   {
    "duration": 19,
    "start_time": "2022-09-20T14:07:43.727Z"
   },
   {
    "duration": 19,
    "start_time": "2022-09-20T14:07:53.546Z"
   },
   {
    "duration": 7,
    "start_time": "2022-09-20T14:08:22.652Z"
   },
   {
    "duration": 116,
    "start_time": "2022-09-20T14:10:42.389Z"
   },
   {
    "duration": 169,
    "start_time": "2022-09-20T14:10:51.537Z"
   },
   {
    "duration": 110,
    "start_time": "2022-09-20T14:11:19.459Z"
   },
   {
    "duration": 112,
    "start_time": "2022-09-20T14:11:47.617Z"
   },
   {
    "duration": 118,
    "start_time": "2022-09-20T14:13:34.928Z"
   },
   {
    "duration": 130,
    "start_time": "2022-09-20T14:13:38.502Z"
   },
   {
    "duration": 119,
    "start_time": "2022-09-20T14:13:45.971Z"
   },
   {
    "duration": 196,
    "start_time": "2022-09-20T14:13:59.699Z"
   },
   {
    "duration": 252,
    "start_time": "2022-09-20T14:14:09.919Z"
   },
   {
    "duration": 124,
    "start_time": "2022-09-20T14:14:17.283Z"
   },
   {
    "duration": 177,
    "start_time": "2022-09-20T14:14:21.789Z"
   },
   {
    "duration": 199,
    "start_time": "2022-09-20T14:15:20.146Z"
   },
   {
    "duration": 522,
    "start_time": "2022-09-20T14:20:11.327Z"
   },
   {
    "duration": 14,
    "start_time": "2022-09-20T14:20:11.851Z"
   },
   {
    "duration": 2393,
    "start_time": "2022-09-20T14:20:11.867Z"
   },
   {
    "duration": 9,
    "start_time": "2022-09-20T14:20:14.262Z"
   },
   {
    "duration": 22,
    "start_time": "2022-09-20T14:20:14.273Z"
   },
   {
    "duration": 15,
    "start_time": "2022-09-20T14:20:14.296Z"
   },
   {
    "duration": 6,
    "start_time": "2022-09-20T14:20:14.312Z"
   },
   {
    "duration": 22,
    "start_time": "2022-09-20T14:20:14.319Z"
   },
   {
    "duration": 11,
    "start_time": "2022-09-20T14:20:14.343Z"
   },
   {
    "duration": 11,
    "start_time": "2022-09-20T14:20:14.355Z"
   },
   {
    "duration": 31,
    "start_time": "2022-09-20T14:20:14.367Z"
   },
   {
    "duration": 9,
    "start_time": "2022-09-20T14:20:14.399Z"
   },
   {
    "duration": 25,
    "start_time": "2022-09-20T14:20:14.409Z"
   },
   {
    "duration": 7,
    "start_time": "2022-09-20T14:20:14.436Z"
   },
   {
    "duration": 12,
    "start_time": "2022-09-20T14:20:14.445Z"
   },
   {
    "duration": 24,
    "start_time": "2022-09-20T14:20:14.458Z"
   },
   {
    "duration": 16,
    "start_time": "2022-09-20T14:20:14.483Z"
   },
   {
    "duration": 301,
    "start_time": "2022-09-20T14:20:14.501Z"
   },
   {
    "duration": 61,
    "start_time": "2022-09-20T14:20:14.804Z"
   },
   {
    "duration": 15,
    "start_time": "2022-09-20T14:20:14.876Z"
   },
   {
    "duration": 112,
    "start_time": "2022-09-20T14:20:14.892Z"
   },
   {
    "duration": 3,
    "start_time": "2022-09-20T14:20:15.006Z"
   },
   {
    "duration": 37,
    "start_time": "2022-09-20T14:20:15.011Z"
   },
   {
    "duration": 15,
    "start_time": "2022-09-20T14:20:15.049Z"
   },
   {
    "duration": 39,
    "start_time": "2022-09-20T14:20:15.065Z"
   },
   {
    "duration": 621,
    "start_time": "2022-09-20T14:20:15.106Z"
   },
   {
    "duration": 6,
    "start_time": "2022-09-20T14:20:15.729Z"
   },
   {
    "duration": 191,
    "start_time": "2022-09-20T14:20:15.737Z"
   },
   {
    "duration": 218,
    "start_time": "2022-09-20T14:20:15.929Z"
   },
   {
    "duration": 190,
    "start_time": "2022-09-20T14:20:16.149Z"
   },
   {
    "duration": 210,
    "start_time": "2022-09-20T14:20:45.869Z"
   },
   {
    "duration": 142,
    "start_time": "2022-09-20T14:20:56.676Z"
   },
   {
    "duration": 1382,
    "start_time": "2022-09-20T14:21:22.220Z"
   },
   {
    "duration": 203,
    "start_time": "2022-09-20T14:21:41.015Z"
   },
   {
    "duration": 137,
    "start_time": "2022-09-20T14:21:51.508Z"
   },
   {
    "duration": 206,
    "start_time": "2022-09-20T14:22:01.445Z"
   },
   {
    "duration": 866,
    "start_time": "2022-09-20T14:22:15.201Z"
   },
   {
    "duration": 183,
    "start_time": "2022-09-20T14:22:20.961Z"
   },
   {
    "duration": 185,
    "start_time": "2022-09-20T14:23:12.909Z"
   },
   {
    "duration": 198,
    "start_time": "2022-09-20T14:24:02.594Z"
   },
   {
    "duration": 186,
    "start_time": "2022-09-20T14:24:32.511Z"
   },
   {
    "duration": 1750,
    "start_time": "2022-09-20T14:25:04.407Z"
   },
   {
    "duration": 186,
    "start_time": "2022-09-20T14:25:25.621Z"
   },
   {
    "duration": 224,
    "start_time": "2022-09-20T14:26:27.336Z"
   },
   {
    "duration": 175,
    "start_time": "2022-09-20T14:27:34.851Z"
   },
   {
    "duration": 191,
    "start_time": "2022-09-20T14:27:38.493Z"
   },
   {
    "duration": 1416,
    "start_time": "2022-09-20T14:29:31.434Z"
   },
   {
    "duration": 5,
    "start_time": "2022-09-20T14:31:37.513Z"
   },
   {
    "duration": 239,
    "start_time": "2022-09-20T14:34:53.990Z"
   },
   {
    "duration": 179,
    "start_time": "2022-09-20T14:35:37.914Z"
   },
   {
    "duration": 178,
    "start_time": "2022-09-20T14:36:43.575Z"
   },
   {
    "duration": 182,
    "start_time": "2022-09-20T14:36:47.862Z"
   },
   {
    "duration": 441,
    "start_time": "2022-09-20T14:37:06.157Z"
   },
   {
    "duration": 57,
    "start_time": "2022-09-21T08:46:23.370Z"
   },
   {
    "duration": 616,
    "start_time": "2022-09-21T08:46:31.537Z"
   },
   {
    "duration": 14,
    "start_time": "2022-09-21T08:46:32.155Z"
   },
   {
    "duration": 2424,
    "start_time": "2022-09-21T08:46:32.171Z"
   },
   {
    "duration": 13,
    "start_time": "2022-09-21T08:46:34.597Z"
   },
   {
    "duration": 26,
    "start_time": "2022-09-21T08:46:34.612Z"
   },
   {
    "duration": 24,
    "start_time": "2022-09-21T08:46:34.639Z"
   },
   {
    "duration": 19,
    "start_time": "2022-09-21T08:46:34.665Z"
   },
   {
    "duration": 33,
    "start_time": "2022-09-21T08:46:34.686Z"
   },
   {
    "duration": 20,
    "start_time": "2022-09-21T08:46:34.721Z"
   },
   {
    "duration": 27,
    "start_time": "2022-09-21T08:46:34.742Z"
   },
   {
    "duration": 15,
    "start_time": "2022-09-21T08:46:34.771Z"
   },
   {
    "duration": 41,
    "start_time": "2022-09-21T08:46:34.787Z"
   },
   {
    "duration": 14,
    "start_time": "2022-09-21T08:46:34.830Z"
   },
   {
    "duration": 13,
    "start_time": "2022-09-21T08:46:34.847Z"
   },
   {
    "duration": 9,
    "start_time": "2022-09-21T08:46:34.861Z"
   },
   {
    "duration": 14,
    "start_time": "2022-09-21T08:46:34.872Z"
   },
   {
    "duration": 18,
    "start_time": "2022-09-21T08:46:34.888Z"
   },
   {
    "duration": 299,
    "start_time": "2022-09-21T08:46:34.907Z"
   },
   {
    "duration": 66,
    "start_time": "2022-09-21T08:46:35.208Z"
   },
   {
    "duration": 26,
    "start_time": "2022-09-21T08:46:35.276Z"
   },
   {
    "duration": 177,
    "start_time": "2022-09-21T08:46:35.304Z"
   },
   {
    "duration": 7,
    "start_time": "2022-09-21T08:46:35.482Z"
   },
   {
    "duration": 19,
    "start_time": "2022-09-21T08:46:35.490Z"
   },
   {
    "duration": 7,
    "start_time": "2022-09-21T08:46:35.511Z"
   },
   {
    "duration": 6,
    "start_time": "2022-09-21T08:46:35.520Z"
   },
   {
    "duration": 518,
    "start_time": "2022-09-21T08:46:35.527Z"
   },
   {
    "duration": 8,
    "start_time": "2022-09-21T08:46:36.047Z"
   },
   {
    "duration": 193,
    "start_time": "2022-09-21T08:46:36.056Z"
   },
   {
    "duration": 217,
    "start_time": "2022-09-21T08:46:36.251Z"
   },
   {
    "duration": 208,
    "start_time": "2022-09-21T08:46:36.471Z"
   },
   {
    "duration": 210,
    "start_time": "2022-09-21T08:46:36.681Z"
   },
   {
    "duration": 221,
    "start_time": "2022-09-21T08:46:36.893Z"
   },
   {
    "duration": 296,
    "start_time": "2022-09-21T08:46:37.116Z"
   },
   {
    "duration": 214,
    "start_time": "2022-09-21T08:46:37.413Z"
   },
   {
    "duration": 191,
    "start_time": "2022-09-21T08:46:37.630Z"
   },
   {
    "duration": 197,
    "start_time": "2022-09-21T08:46:37.823Z"
   },
   {
    "duration": 222,
    "start_time": "2022-09-21T08:46:38.022Z"
   },
   {
    "duration": 194,
    "start_time": "2022-09-21T08:46:38.245Z"
   },
   {
    "duration": 199,
    "start_time": "2022-09-21T08:46:38.440Z"
   },
   {
    "duration": 220,
    "start_time": "2022-09-21T08:46:38.640Z"
   },
   {
    "duration": 192,
    "start_time": "2022-09-21T08:46:38.863Z"
   },
   {
    "duration": 207,
    "start_time": "2022-09-21T08:47:14.272Z"
   },
   {
    "duration": 315,
    "start_time": "2022-09-21T08:47:17.852Z"
   },
   {
    "duration": 531,
    "start_time": "2022-09-21T09:05:56.447Z"
   },
   {
    "duration": 25,
    "start_time": "2022-09-21T09:05:56.980Z"
   },
   {
    "duration": 213,
    "start_time": "2022-09-21T09:06:00.943Z"
   },
   {
    "duration": 194,
    "start_time": "2022-09-21T09:06:01.158Z"
   },
   {
    "duration": 217,
    "start_time": "2022-09-21T09:06:01.354Z"
   },
   {
    "duration": 207,
    "start_time": "2022-09-21T09:06:01.572Z"
   },
   {
    "duration": 277,
    "start_time": "2022-09-21T09:06:01.781Z"
   },
   {
    "duration": 248,
    "start_time": "2022-09-21T09:06:02.061Z"
   },
   {
    "duration": 231,
    "start_time": "2022-09-21T09:06:02.312Z"
   },
   {
    "duration": 307,
    "start_time": "2022-09-21T09:06:02.545Z"
   },
   {
    "duration": 197,
    "start_time": "2022-09-21T09:06:02.854Z"
   },
   {
    "duration": 254,
    "start_time": "2022-09-21T09:06:03.053Z"
   },
   {
    "duration": 200,
    "start_time": "2022-09-21T09:06:03.309Z"
   },
   {
    "duration": 206,
    "start_time": "2022-09-21T09:06:03.511Z"
   },
   {
    "duration": 234,
    "start_time": "2022-09-21T09:06:03.718Z"
   },
   {
    "duration": 203,
    "start_time": "2022-09-21T09:06:03.956Z"
   },
   {
    "duration": 23,
    "start_time": "2022-09-21T09:06:57.615Z"
   },
   {
    "duration": 19,
    "start_time": "2022-09-21T09:07:23.968Z"
   },
   {
    "duration": 13,
    "start_time": "2022-09-21T09:07:45.807Z"
   },
   {
    "duration": 87,
    "start_time": "2022-09-21T09:08:17.990Z"
   },
   {
    "duration": 12,
    "start_time": "2022-09-21T09:08:48.083Z"
   },
   {
    "duration": 629,
    "start_time": "2022-09-21T09:09:52.348Z"
   },
   {
    "duration": 22,
    "start_time": "2022-09-21T09:09:52.979Z"
   },
   {
    "duration": 2763,
    "start_time": "2022-09-21T09:09:53.006Z"
   },
   {
    "duration": 10,
    "start_time": "2022-09-21T09:09:55.771Z"
   },
   {
    "duration": 33,
    "start_time": "2022-09-21T09:09:55.783Z"
   },
   {
    "duration": 30,
    "start_time": "2022-09-21T09:09:55.818Z"
   },
   {
    "duration": 10,
    "start_time": "2022-09-21T09:09:55.849Z"
   },
   {
    "duration": 23,
    "start_time": "2022-09-21T09:09:55.861Z"
   },
   {
    "duration": 40,
    "start_time": "2022-09-21T09:09:55.885Z"
   },
   {
    "duration": 42,
    "start_time": "2022-09-21T09:09:55.929Z"
   },
   {
    "duration": 10,
    "start_time": "2022-09-21T09:09:55.973Z"
   },
   {
    "duration": 52,
    "start_time": "2022-09-21T09:09:55.985Z"
   },
   {
    "duration": 36,
    "start_time": "2022-09-21T09:09:56.039Z"
   },
   {
    "duration": 8,
    "start_time": "2022-09-21T09:09:56.076Z"
   },
   {
    "duration": 62,
    "start_time": "2022-09-21T09:09:56.086Z"
   },
   {
    "duration": 37,
    "start_time": "2022-09-21T09:09:56.149Z"
   },
   {
    "duration": 39,
    "start_time": "2022-09-21T09:09:56.188Z"
   },
   {
    "duration": 345,
    "start_time": "2022-09-21T09:09:56.229Z"
   },
   {
    "duration": 78,
    "start_time": "2022-09-21T09:09:56.576Z"
   },
   {
    "duration": 6,
    "start_time": "2022-09-21T09:09:56.656Z"
   },
   {
    "duration": 24,
    "start_time": "2022-09-21T09:09:56.664Z"
   },
   {
    "duration": 29,
    "start_time": "2022-09-21T09:09:56.692Z"
   },
   {
    "duration": 26,
    "start_time": "2022-09-21T09:09:56.722Z"
   },
   {
    "duration": 8,
    "start_time": "2022-09-21T09:09:56.750Z"
   },
   {
    "duration": 11,
    "start_time": "2022-09-21T09:09:56.760Z"
   },
   {
    "duration": 570,
    "start_time": "2022-09-21T09:09:56.773Z"
   },
   {
    "duration": 9,
    "start_time": "2022-09-21T09:09:57.345Z"
   },
   {
    "duration": 318,
    "start_time": "2022-09-21T09:09:57.359Z"
   },
   {
    "duration": 252,
    "start_time": "2022-09-21T09:09:57.679Z"
   },
   {
    "duration": 236,
    "start_time": "2022-09-21T09:09:57.935Z"
   },
   {
    "duration": 259,
    "start_time": "2022-09-21T09:09:58.173Z"
   },
   {
    "duration": 269,
    "start_time": "2022-09-21T09:09:58.434Z"
   },
   {
    "duration": 235,
    "start_time": "2022-09-21T09:09:58.708Z"
   },
   {
    "duration": 297,
    "start_time": "2022-09-21T09:09:58.945Z"
   },
   {
    "duration": 276,
    "start_time": "2022-09-21T09:09:59.244Z"
   },
   {
    "duration": 263,
    "start_time": "2022-09-21T09:09:59.522Z"
   },
   {
    "duration": 296,
    "start_time": "2022-09-21T09:09:59.787Z"
   },
   {
    "duration": 251,
    "start_time": "2022-09-21T09:10:00.085Z"
   },
   {
    "duration": 375,
    "start_time": "2022-09-21T09:10:00.339Z"
   },
   {
    "duration": 304,
    "start_time": "2022-09-21T09:10:00.717Z"
   },
   {
    "duration": 300,
    "start_time": "2022-09-21T09:10:01.024Z"
   },
   {
    "duration": 9,
    "start_time": "2022-09-21T09:26:04.045Z"
   },
   {
    "duration": 596,
    "start_time": "2022-09-21T09:27:07.088Z"
   },
   {
    "duration": 24,
    "start_time": "2022-09-21T09:27:07.686Z"
   },
   {
    "duration": 2474,
    "start_time": "2022-09-21T09:27:07.711Z"
   },
   {
    "duration": 16,
    "start_time": "2022-09-21T09:27:10.188Z"
   },
   {
    "duration": 8,
    "start_time": "2022-09-21T09:27:10.205Z"
   },
   {
    "duration": 17,
    "start_time": "2022-09-21T09:27:10.214Z"
   },
   {
    "duration": 6,
    "start_time": "2022-09-21T09:27:10.233Z"
   },
   {
    "duration": 14,
    "start_time": "2022-09-21T09:27:10.241Z"
   },
   {
    "duration": 43,
    "start_time": "2022-09-21T09:27:10.257Z"
   },
   {
    "duration": 8,
    "start_time": "2022-09-21T09:27:10.304Z"
   },
   {
    "duration": 9,
    "start_time": "2022-09-21T09:27:10.314Z"
   },
   {
    "duration": 12,
    "start_time": "2022-09-21T09:27:10.325Z"
   },
   {
    "duration": 16,
    "start_time": "2022-09-21T09:27:10.339Z"
   },
   {
    "duration": 9,
    "start_time": "2022-09-21T09:27:10.357Z"
   },
   {
    "duration": 14,
    "start_time": "2022-09-21T09:27:10.390Z"
   },
   {
    "duration": 17,
    "start_time": "2022-09-21T09:27:10.406Z"
   },
   {
    "duration": 6,
    "start_time": "2022-09-21T09:27:10.425Z"
   },
   {
    "duration": 330,
    "start_time": "2022-09-21T09:27:10.433Z"
   },
   {
    "duration": 91,
    "start_time": "2022-09-21T09:27:10.766Z"
   },
   {
    "duration": 6,
    "start_time": "2022-09-21T09:27:10.859Z"
   },
   {
    "duration": 10,
    "start_time": "2022-09-21T09:27:10.867Z"
   },
   {
    "duration": 27,
    "start_time": "2022-09-21T09:27:10.879Z"
   },
   {
    "duration": 10,
    "start_time": "2022-09-21T09:27:10.908Z"
   },
   {
    "duration": 6,
    "start_time": "2022-09-21T09:27:10.919Z"
   },
   {
    "duration": 6,
    "start_time": "2022-09-21T09:27:10.927Z"
   },
   {
    "duration": 6,
    "start_time": "2022-09-21T09:27:10.934Z"
   },
   {
    "duration": 6,
    "start_time": "2022-09-21T09:27:10.941Z"
   },
   {
    "duration": 7,
    "start_time": "2022-09-21T09:27:10.950Z"
   },
   {
    "duration": 84,
    "start_time": "2022-09-21T09:27:10.959Z"
   },
   {
    "duration": 4,
    "start_time": "2022-09-21T09:27:11.045Z"
   },
   {
    "duration": 9,
    "start_time": "2022-09-21T09:27:11.050Z"
   },
   {
    "duration": 7,
    "start_time": "2022-09-21T09:27:11.060Z"
   },
   {
    "duration": 7,
    "start_time": "2022-09-21T09:27:11.069Z"
   },
   {
    "duration": 335,
    "start_time": "2022-09-21T09:27:11.078Z"
   },
   {
    "duration": 6,
    "start_time": "2022-09-21T09:27:11.415Z"
   },
   {
    "duration": 232,
    "start_time": "2022-09-21T09:27:11.422Z"
   },
   {
    "duration": 335,
    "start_time": "2022-09-21T09:27:11.656Z"
   },
   {
    "duration": 229,
    "start_time": "2022-09-21T09:27:11.999Z"
   },
   {
    "duration": 220,
    "start_time": "2022-09-21T09:27:12.230Z"
   },
   {
    "duration": 202,
    "start_time": "2022-09-21T09:27:12.451Z"
   },
   {
    "duration": 229,
    "start_time": "2022-09-21T09:27:12.654Z"
   },
   {
    "duration": 216,
    "start_time": "2022-09-21T09:27:12.888Z"
   },
   {
    "duration": 179,
    "start_time": "2022-09-21T09:27:13.106Z"
   },
   {
    "duration": 214,
    "start_time": "2022-09-21T09:27:13.292Z"
   },
   {
    "duration": 205,
    "start_time": "2022-09-21T09:27:13.508Z"
   },
   {
    "duration": 200,
    "start_time": "2022-09-21T09:27:13.715Z"
   },
   {
    "duration": 199,
    "start_time": "2022-09-21T09:27:13.917Z"
   },
   {
    "duration": 298,
    "start_time": "2022-09-21T09:27:14.118Z"
   },
   {
    "duration": 199,
    "start_time": "2022-09-21T09:27:14.418Z"
   },
   {
    "duration": 9,
    "start_time": "2022-09-21T09:28:07.273Z"
   },
   {
    "duration": 71,
    "start_time": "2022-09-21T09:28:16.380Z"
   },
   {
    "duration": 11,
    "start_time": "2022-09-21T09:32:55.055Z"
   },
   {
    "duration": 545,
    "start_time": "2022-09-21T09:33:03.264Z"
   },
   {
    "duration": 14,
    "start_time": "2022-09-21T09:33:03.811Z"
   },
   {
    "duration": 2594,
    "start_time": "2022-09-21T09:33:03.827Z"
   },
   {
    "duration": 10,
    "start_time": "2022-09-21T09:33:06.424Z"
   },
   {
    "duration": 16,
    "start_time": "2022-09-21T09:33:06.436Z"
   },
   {
    "duration": 24,
    "start_time": "2022-09-21T09:33:06.454Z"
   },
   {
    "duration": 8,
    "start_time": "2022-09-21T09:33:06.480Z"
   },
   {
    "duration": 23,
    "start_time": "2022-09-21T09:33:06.491Z"
   },
   {
    "duration": 13,
    "start_time": "2022-09-21T09:33:06.515Z"
   },
   {
    "duration": 10,
    "start_time": "2022-09-21T09:33:06.530Z"
   },
   {
    "duration": 6,
    "start_time": "2022-09-21T09:33:06.542Z"
   },
   {
    "duration": 11,
    "start_time": "2022-09-21T09:33:06.549Z"
   },
   {
    "duration": 40,
    "start_time": "2022-09-21T09:33:06.562Z"
   },
   {
    "duration": 8,
    "start_time": "2022-09-21T09:33:06.604Z"
   },
   {
    "duration": 11,
    "start_time": "2022-09-21T09:33:06.613Z"
   },
   {
    "duration": 15,
    "start_time": "2022-09-21T09:33:06.626Z"
   },
   {
    "duration": 7,
    "start_time": "2022-09-21T09:33:06.643Z"
   },
   {
    "duration": 351,
    "start_time": "2022-09-21T09:33:06.652Z"
   },
   {
    "duration": 69,
    "start_time": "2022-09-21T09:33:07.006Z"
   },
   {
    "duration": 18,
    "start_time": "2022-09-21T09:33:07.077Z"
   },
   {
    "duration": 7,
    "start_time": "2022-09-21T09:33:07.105Z"
   },
   {
    "duration": 13,
    "start_time": "2022-09-21T09:33:07.114Z"
   },
   {
    "duration": 13,
    "start_time": "2022-09-21T09:33:07.129Z"
   },
   {
    "duration": 7,
    "start_time": "2022-09-21T09:33:07.144Z"
   },
   {
    "duration": 8,
    "start_time": "2022-09-21T09:33:07.152Z"
   },
   {
    "duration": 39,
    "start_time": "2022-09-21T09:33:07.161Z"
   },
   {
    "duration": 12,
    "start_time": "2022-09-21T09:33:07.202Z"
   },
   {
    "duration": 6,
    "start_time": "2022-09-21T09:33:07.218Z"
   },
   {
    "duration": 59,
    "start_time": "2022-09-21T09:33:07.226Z"
   },
   {
    "duration": 15,
    "start_time": "2022-09-21T09:33:07.287Z"
   },
   {
    "duration": 8,
    "start_time": "2022-09-21T09:33:07.304Z"
   },
   {
    "duration": 9,
    "start_time": "2022-09-21T09:33:07.313Z"
   },
   {
    "duration": 5,
    "start_time": "2022-09-21T09:33:07.324Z"
   },
   {
    "duration": 309,
    "start_time": "2022-09-21T09:33:07.331Z"
   },
   {
    "duration": 6,
    "start_time": "2022-09-21T09:33:07.642Z"
   },
   {
    "duration": 250,
    "start_time": "2022-09-21T09:33:07.650Z"
   },
   {
    "duration": 281,
    "start_time": "2022-09-21T09:33:07.902Z"
   },
   {
    "duration": 231,
    "start_time": "2022-09-21T09:33:08.185Z"
   },
   {
    "duration": 224,
    "start_time": "2022-09-21T09:33:08.418Z"
   },
   {
    "duration": 199,
    "start_time": "2022-09-21T09:33:08.644Z"
   },
   {
    "duration": 223,
    "start_time": "2022-09-21T09:33:08.845Z"
   },
   {
    "duration": 206,
    "start_time": "2022-09-21T09:33:09.070Z"
   },
   {
    "duration": 196,
    "start_time": "2022-09-21T09:33:09.278Z"
   },
   {
    "duration": 202,
    "start_time": "2022-09-21T09:33:09.475Z"
   },
   {
    "duration": 216,
    "start_time": "2022-09-21T09:33:09.679Z"
   },
   {
    "duration": 202,
    "start_time": "2022-09-21T09:33:09.901Z"
   },
   {
    "duration": 214,
    "start_time": "2022-09-21T09:33:10.104Z"
   },
   {
    "duration": 298,
    "start_time": "2022-09-21T09:33:10.320Z"
   },
   {
    "duration": 223,
    "start_time": "2022-09-21T09:33:10.620Z"
   },
   {
    "duration": 10,
    "start_time": "2022-09-21T09:33:47.013Z"
   },
   {
    "duration": 16,
    "start_time": "2022-09-21T09:34:06.113Z"
   },
   {
    "duration": 9,
    "start_time": "2022-09-21T09:35:24.225Z"
   },
   {
    "duration": 67,
    "start_time": "2022-09-21T09:35:27.001Z"
   },
   {
    "duration": 16,
    "start_time": "2022-09-21T09:35:35.862Z"
   },
   {
    "duration": 7,
    "start_time": "2022-09-21T09:43:54.371Z"
   },
   {
    "duration": 15,
    "start_time": "2022-09-21T09:44:14.876Z"
   },
   {
    "duration": 17,
    "start_time": "2022-09-21T09:45:31.850Z"
   },
   {
    "duration": 14,
    "start_time": "2022-09-21T09:45:44.128Z"
   },
   {
    "duration": 4,
    "start_time": "2022-09-21T09:49:16.216Z"
   },
   {
    "duration": 42,
    "start_time": "2022-09-21T09:49:20.813Z"
   },
   {
    "duration": 51,
    "start_time": "2022-09-21T09:49:29.486Z"
   },
   {
    "duration": 81,
    "start_time": "2022-09-21T09:50:37.260Z"
   },
   {
    "duration": 7,
    "start_time": "2022-09-21T09:51:57.151Z"
   },
   {
    "duration": 46,
    "start_time": "2022-09-21T09:52:04.069Z"
   },
   {
    "duration": 42,
    "start_time": "2022-09-21T09:52:20.713Z"
   },
   {
    "duration": 6,
    "start_time": "2022-09-21T09:52:26.159Z"
   },
   {
    "duration": 5,
    "start_time": "2022-09-21T09:58:13.803Z"
   },
   {
    "duration": 238,
    "start_time": "2022-09-21T10:07:55.973Z"
   },
   {
    "duration": 21,
    "start_time": "2022-09-21T10:18:56.064Z"
   },
   {
    "duration": 87,
    "start_time": "2022-09-21T10:22:07.321Z"
   },
   {
    "duration": 1984,
    "start_time": "2022-09-21T10:22:21.248Z"
   },
   {
    "duration": 1408,
    "start_time": "2022-09-21T10:23:23.162Z"
   },
   {
    "duration": 21,
    "start_time": "2022-09-21T10:23:57.492Z"
   },
   {
    "duration": 165,
    "start_time": "2022-09-21T10:24:20.368Z"
   },
   {
    "duration": 1346,
    "start_time": "2022-09-21T10:24:48.988Z"
   },
   {
    "duration": 172,
    "start_time": "2022-09-21T10:25:05.135Z"
   },
   {
    "duration": 18566,
    "start_time": "2022-09-21T10:25:17.240Z"
   },
   {
    "duration": 18750,
    "start_time": "2022-09-21T10:25:39.501Z"
   },
   {
    "duration": 19290,
    "start_time": "2022-09-21T10:27:01.158Z"
   },
   {
    "duration": 3,
    "start_time": "2022-09-21T10:27:50.374Z"
   },
   {
    "duration": 19857,
    "start_time": "2022-09-21T10:27:51.306Z"
   },
   {
    "duration": 1595,
    "start_time": "2022-09-21T10:29:01.709Z"
   },
   {
    "duration": 33,
    "start_time": "2022-09-21T10:30:37.674Z"
   },
   {
    "duration": 18,
    "start_time": "2022-09-21T10:30:57.218Z"
   },
   {
    "duration": 122,
    "start_time": "2022-09-21T10:32:02.808Z"
   },
   {
    "duration": 18,
    "start_time": "2022-09-21T10:32:02.932Z"
   },
   {
    "duration": 2280,
    "start_time": "2022-09-21T10:32:02.952Z"
   },
   {
    "duration": 11,
    "start_time": "2022-09-21T10:32:05.235Z"
   },
   {
    "duration": 22,
    "start_time": "2022-09-21T10:32:05.249Z"
   },
   {
    "duration": 26,
    "start_time": "2022-09-21T10:32:05.273Z"
   },
   {
    "duration": 41,
    "start_time": "2022-09-21T10:32:05.301Z"
   },
   {
    "duration": 29,
    "start_time": "2022-09-21T10:32:05.344Z"
   },
   {
    "duration": 53,
    "start_time": "2022-09-21T10:32:05.375Z"
   },
   {
    "duration": 30,
    "start_time": "2022-09-21T10:32:05.431Z"
   },
   {
    "duration": 33,
    "start_time": "2022-09-21T10:32:05.463Z"
   },
   {
    "duration": 32,
    "start_time": "2022-09-21T10:32:05.506Z"
   },
   {
    "duration": 18,
    "start_time": "2022-09-21T10:32:05.543Z"
   },
   {
    "duration": 8,
    "start_time": "2022-09-21T10:32:05.564Z"
   },
   {
    "duration": 16,
    "start_time": "2022-09-21T10:32:05.573Z"
   },
   {
    "duration": 61,
    "start_time": "2022-09-21T10:32:05.591Z"
   },
   {
    "duration": 51,
    "start_time": "2022-09-21T10:32:05.654Z"
   },
   {
    "duration": 368,
    "start_time": "2022-09-21T10:32:05.707Z"
   },
   {
    "duration": 91,
    "start_time": "2022-09-21T10:32:06.077Z"
   },
   {
    "duration": 24,
    "start_time": "2022-09-21T10:32:06.171Z"
   },
   {
    "duration": 14,
    "start_time": "2022-09-21T10:32:06.197Z"
   },
   {
    "duration": 11,
    "start_time": "2022-09-21T10:32:06.214Z"
   },
   {
    "duration": 15,
    "start_time": "2022-09-21T10:32:06.228Z"
   },
   {
    "duration": 8,
    "start_time": "2022-09-21T10:32:06.246Z"
   },
   {
    "duration": 37,
    "start_time": "2022-09-21T10:32:06.257Z"
   },
   {
    "duration": 13,
    "start_time": "2022-09-21T10:32:06.296Z"
   },
   {
    "duration": 16,
    "start_time": "2022-09-21T10:32:06.311Z"
   },
   {
    "duration": 8,
    "start_time": "2022-09-21T10:32:06.329Z"
   },
   {
    "duration": 74,
    "start_time": "2022-09-21T10:32:06.339Z"
   },
   {
    "duration": 6,
    "start_time": "2022-09-21T10:32:06.415Z"
   },
   {
    "duration": 15,
    "start_time": "2022-09-21T10:32:06.423Z"
   },
   {
    "duration": 10,
    "start_time": "2022-09-21T10:32:06.440Z"
   },
   {
    "duration": 12,
    "start_time": "2022-09-21T10:32:06.453Z"
   },
   {
    "duration": 369,
    "start_time": "2022-09-21T10:32:06.467Z"
   },
   {
    "duration": 5,
    "start_time": "2022-09-21T10:32:06.838Z"
   },
   {
    "duration": 249,
    "start_time": "2022-09-21T10:32:06.844Z"
   },
   {
    "duration": 232,
    "start_time": "2022-09-21T10:32:07.095Z"
   },
   {
    "duration": 736,
    "start_time": "2022-09-21T10:32:07.330Z"
   },
   {
    "duration": 247,
    "start_time": "2022-09-21T10:32:08.069Z"
   },
   {
    "duration": 750,
    "start_time": "2022-09-21T10:32:11.071Z"
   },
   {
    "duration": 24,
    "start_time": "2022-09-21T10:32:11.828Z"
   },
   {
    "duration": 2859,
    "start_time": "2022-09-21T10:32:11.854Z"
   },
   {
    "duration": 15,
    "start_time": "2022-09-21T10:32:14.716Z"
   },
   {
    "duration": 6,
    "start_time": "2022-09-21T10:32:14.733Z"
   },
   {
    "duration": 23,
    "start_time": "2022-09-21T10:32:14.741Z"
   },
   {
    "duration": 8,
    "start_time": "2022-09-21T10:32:14.767Z"
   },
   {
    "duration": 43,
    "start_time": "2022-09-21T10:32:14.778Z"
   },
   {
    "duration": 12,
    "start_time": "2022-09-21T10:32:14.823Z"
   },
   {
    "duration": 8,
    "start_time": "2022-09-21T10:32:14.839Z"
   },
   {
    "duration": 7,
    "start_time": "2022-09-21T10:32:14.849Z"
   },
   {
    "duration": 12,
    "start_time": "2022-09-21T10:32:14.858Z"
   },
   {
    "duration": 34,
    "start_time": "2022-09-21T10:32:14.873Z"
   },
   {
    "duration": 8,
    "start_time": "2022-09-21T10:32:14.909Z"
   },
   {
    "duration": 16,
    "start_time": "2022-09-21T10:32:14.920Z"
   },
   {
    "duration": 23,
    "start_time": "2022-09-21T10:32:14.939Z"
   },
   {
    "duration": 30,
    "start_time": "2022-09-21T10:32:14.965Z"
   },
   {
    "duration": 342,
    "start_time": "2022-09-21T10:32:15.000Z"
   },
   {
    "duration": 99,
    "start_time": "2022-09-21T10:32:15.344Z"
   },
   {
    "duration": 10,
    "start_time": "2022-09-21T10:32:15.445Z"
   },
   {
    "duration": 10,
    "start_time": "2022-09-21T10:32:15.457Z"
   },
   {
    "duration": 12,
    "start_time": "2022-09-21T10:32:15.488Z"
   },
   {
    "duration": 38,
    "start_time": "2022-09-21T10:32:15.502Z"
   },
   {
    "duration": 9,
    "start_time": "2022-09-21T10:32:15.542Z"
   },
   {
    "duration": 9,
    "start_time": "2022-09-21T10:32:15.553Z"
   },
   {
    "duration": 6,
    "start_time": "2022-09-21T10:32:15.565Z"
   },
   {
    "duration": 6,
    "start_time": "2022-09-21T10:32:15.573Z"
   },
   {
    "duration": 31,
    "start_time": "2022-09-21T10:32:15.595Z"
   },
   {
    "duration": 61,
    "start_time": "2022-09-21T10:32:15.628Z"
   },
   {
    "duration": 14,
    "start_time": "2022-09-21T10:32:15.693Z"
   },
   {
    "duration": 17,
    "start_time": "2022-09-21T10:32:15.713Z"
   },
   {
    "duration": 10,
    "start_time": "2022-09-21T10:32:15.732Z"
   },
   {
    "duration": 13,
    "start_time": "2022-09-21T10:32:15.745Z"
   },
   {
    "duration": 356,
    "start_time": "2022-09-21T10:32:15.760Z"
   },
   {
    "duration": 6,
    "start_time": "2022-09-21T10:32:16.118Z"
   },
   {
    "duration": 253,
    "start_time": "2022-09-21T10:32:16.126Z"
   },
   {
    "duration": 353,
    "start_time": "2022-09-21T10:32:16.389Z"
   },
   {
    "duration": 290,
    "start_time": "2022-09-21T10:32:16.744Z"
   },
   {
    "duration": 232,
    "start_time": "2022-09-21T10:32:17.037Z"
   },
   {
    "duration": 248,
    "start_time": "2022-09-21T10:32:17.270Z"
   },
   {
    "duration": 219,
    "start_time": "2022-09-21T10:32:17.520Z"
   },
   {
    "duration": 229,
    "start_time": "2022-09-21T10:32:17.741Z"
   },
   {
    "duration": 247,
    "start_time": "2022-09-21T10:32:17.972Z"
   },
   {
    "duration": 302,
    "start_time": "2022-09-21T10:32:18.221Z"
   },
   {
    "duration": 301,
    "start_time": "2022-09-21T10:32:18.525Z"
   },
   {
    "duration": 249,
    "start_time": "2022-09-21T10:32:18.831Z"
   },
   {
    "duration": 231,
    "start_time": "2022-09-21T10:32:19.082Z"
   },
   {
    "duration": 336,
    "start_time": "2022-09-21T10:32:19.316Z"
   },
   {
    "duration": 223,
    "start_time": "2022-09-21T10:32:19.654Z"
   },
   {
    "duration": 300,
    "start_time": "2022-09-21T10:32:19.879Z"
   },
   {
    "duration": 13,
    "start_time": "2022-09-21T10:32:20.180Z"
   },
   {
    "duration": 126,
    "start_time": "2022-09-21T10:32:20.196Z"
   },
   {
    "duration": 20721,
    "start_time": "2022-09-21T10:33:28.530Z"
   },
   {
    "duration": 19923,
    "start_time": "2022-09-21T10:35:20.596Z"
   },
   {
    "duration": 0,
    "start_time": "2022-09-21T10:37:27.717Z"
   },
   {
    "duration": 0,
    "start_time": "2022-09-21T10:37:27.719Z"
   },
   {
    "duration": 112,
    "start_time": "2022-09-21T10:37:39.742Z"
   },
   {
    "duration": 1624,
    "start_time": "2022-09-21T10:37:47.976Z"
   },
   {
    "duration": 1305,
    "start_time": "2022-09-21T10:38:06.833Z"
   },
   {
    "duration": 17,
    "start_time": "2022-09-21T10:38:15.539Z"
   },
   {
    "duration": 572,
    "start_time": "2022-09-21T10:38:38.506Z"
   },
   {
    "duration": 27,
    "start_time": "2022-09-21T10:38:39.080Z"
   },
   {
    "duration": 2429,
    "start_time": "2022-09-21T10:38:39.108Z"
   },
   {
    "duration": 12,
    "start_time": "2022-09-21T10:38:41.539Z"
   },
   {
    "duration": 13,
    "start_time": "2022-09-21T10:38:41.554Z"
   },
   {
    "duration": 18,
    "start_time": "2022-09-21T10:38:41.569Z"
   },
   {
    "duration": 8,
    "start_time": "2022-09-21T10:38:41.595Z"
   },
   {
    "duration": 14,
    "start_time": "2022-09-21T10:38:41.605Z"
   },
   {
    "duration": 13,
    "start_time": "2022-09-21T10:38:41.620Z"
   },
   {
    "duration": 10,
    "start_time": "2022-09-21T10:38:41.635Z"
   },
   {
    "duration": 11,
    "start_time": "2022-09-21T10:38:41.646Z"
   },
   {
    "duration": 13,
    "start_time": "2022-09-21T10:38:41.659Z"
   },
   {
    "duration": 37,
    "start_time": "2022-09-21T10:38:41.673Z"
   },
   {
    "duration": 8,
    "start_time": "2022-09-21T10:38:41.715Z"
   },
   {
    "duration": 14,
    "start_time": "2022-09-21T10:38:41.725Z"
   },
   {
    "duration": 15,
    "start_time": "2022-09-21T10:38:41.741Z"
   },
   {
    "duration": 7,
    "start_time": "2022-09-21T10:38:41.757Z"
   },
   {
    "duration": 377,
    "start_time": "2022-09-21T10:38:41.794Z"
   },
   {
    "duration": 74,
    "start_time": "2022-09-21T10:38:42.173Z"
   },
   {
    "duration": 6,
    "start_time": "2022-09-21T10:38:42.248Z"
   },
   {
    "duration": 10,
    "start_time": "2022-09-21T10:38:42.256Z"
   },
   {
    "duration": 5,
    "start_time": "2022-09-21T10:38:42.268Z"
   },
   {
    "duration": 37,
    "start_time": "2022-09-21T10:38:42.274Z"
   },
   {
    "duration": 5,
    "start_time": "2022-09-21T10:38:42.313Z"
   },
   {
    "duration": 8,
    "start_time": "2022-09-21T10:38:42.320Z"
   },
   {
    "duration": 6,
    "start_time": "2022-09-21T10:38:42.329Z"
   },
   {
    "duration": 5,
    "start_time": "2022-09-21T10:38:42.337Z"
   },
   {
    "duration": 7,
    "start_time": "2022-09-21T10:38:42.344Z"
   },
   {
    "duration": 85,
    "start_time": "2022-09-21T10:38:42.352Z"
   },
   {
    "duration": 5,
    "start_time": "2022-09-21T10:38:42.438Z"
   },
   {
    "duration": 16,
    "start_time": "2022-09-21T10:38:42.444Z"
   },
   {
    "duration": 6,
    "start_time": "2022-09-21T10:38:42.462Z"
   },
   {
    "duration": 5,
    "start_time": "2022-09-21T10:38:42.470Z"
   },
   {
    "duration": 302,
    "start_time": "2022-09-21T10:38:42.476Z"
   },
   {
    "duration": 23,
    "start_time": "2022-09-21T10:38:42.780Z"
   },
   {
    "duration": 198,
    "start_time": "2022-09-21T10:38:42.805Z"
   },
   {
    "duration": 281,
    "start_time": "2022-09-21T10:38:43.004Z"
   },
   {
    "duration": 221,
    "start_time": "2022-09-21T10:38:43.286Z"
   },
   {
    "duration": 204,
    "start_time": "2022-09-21T10:38:43.509Z"
   },
   {
    "duration": 197,
    "start_time": "2022-09-21T10:38:43.715Z"
   },
   {
    "duration": 207,
    "start_time": "2022-09-21T10:38:43.916Z"
   },
   {
    "duration": 201,
    "start_time": "2022-09-21T10:38:44.125Z"
   },
   {
    "duration": 194,
    "start_time": "2022-09-21T10:38:44.327Z"
   },
   {
    "duration": 206,
    "start_time": "2022-09-21T10:38:44.523Z"
   },
   {
    "duration": 210,
    "start_time": "2022-09-21T10:38:44.731Z"
   },
   {
    "duration": 197,
    "start_time": "2022-09-21T10:38:44.943Z"
   },
   {
    "duration": 213,
    "start_time": "2022-09-21T10:38:45.142Z"
   },
   {
    "duration": 326,
    "start_time": "2022-09-21T10:38:45.357Z"
   },
   {
    "duration": 222,
    "start_time": "2022-09-21T10:38:45.685Z"
   },
   {
    "duration": 214,
    "start_time": "2022-09-21T10:38:45.908Z"
   },
   {
    "duration": 2,
    "start_time": "2022-09-21T10:38:46.124Z"
   },
   {
    "duration": 18991,
    "start_time": "2022-09-21T10:38:46.128Z"
   },
   {
    "duration": 2951,
    "start_time": "2022-09-21T10:40:57.342Z"
   },
   {
    "duration": 1580,
    "start_time": "2022-09-21T10:41:22.036Z"
   },
   {
    "duration": 1387,
    "start_time": "2022-09-21T10:42:02.453Z"
   },
   {
    "duration": 1609,
    "start_time": "2022-09-21T10:42:29.856Z"
   },
   {
    "duration": 20921,
    "start_time": "2022-09-21T10:42:46.507Z"
   },
   {
    "duration": 20037,
    "start_time": "2022-09-21T10:46:00.868Z"
   },
   {
    "duration": 20178,
    "start_time": "2022-09-21T10:46:21.444Z"
   },
   {
    "duration": 135,
    "start_time": "2022-09-21T10:47:42.683Z"
   },
   {
    "duration": 20101,
    "start_time": "2022-09-21T10:47:48.044Z"
   },
   {
    "duration": 162,
    "start_time": "2022-09-21T10:48:47.389Z"
   },
   {
    "duration": 15379,
    "start_time": "2022-09-21T10:49:36.965Z"
   },
   {
    "duration": 9402,
    "start_time": "2022-09-21T10:50:12.403Z"
   },
   {
    "duration": 174,
    "start_time": "2022-09-21T10:50:45.261Z"
   },
   {
    "duration": 204,
    "start_time": "2022-09-21T10:51:46.616Z"
   },
   {
    "duration": 24563,
    "start_time": "2022-09-21T10:52:36.479Z"
   },
   {
    "duration": 112,
    "start_time": "2022-09-21T10:53:19.924Z"
   },
   {
    "duration": 16931,
    "start_time": "2022-09-21T10:53:30.164Z"
   },
   {
    "duration": 17422,
    "start_time": "2022-09-21T10:54:53.716Z"
   },
   {
    "duration": 0,
    "start_time": "2022-09-21T10:55:56.702Z"
   },
   {
    "duration": 18708,
    "start_time": "2022-09-21T10:57:14.211Z"
   },
   {
    "duration": 423,
    "start_time": "2022-09-21T10:58:34.884Z"
   },
   {
    "duration": 1630,
    "start_time": "2022-09-21T10:59:13.718Z"
   },
   {
    "duration": 11,
    "start_time": "2022-09-21T10:59:31.562Z"
   },
   {
    "duration": 16,
    "start_time": "2022-09-21T10:59:53.489Z"
   },
   {
    "duration": 23718,
    "start_time": "2022-09-21T11:00:17.873Z"
   },
   {
    "duration": 20,
    "start_time": "2022-09-21T11:13:52.796Z"
   },
   {
    "duration": 8,
    "start_time": "2022-09-21T11:14:40.254Z"
   },
   {
    "duration": 761,
    "start_time": "2022-09-21T11:15:14.085Z"
   },
   {
    "duration": 24,
    "start_time": "2022-09-21T11:15:14.848Z"
   },
   {
    "duration": 3485,
    "start_time": "2022-09-21T11:15:14.874Z"
   },
   {
    "duration": 18,
    "start_time": "2022-09-21T11:15:18.367Z"
   },
   {
    "duration": 52,
    "start_time": "2022-09-21T11:15:18.388Z"
   },
   {
    "duration": 24,
    "start_time": "2022-09-21T11:15:18.443Z"
   },
   {
    "duration": 8,
    "start_time": "2022-09-21T11:15:18.470Z"
   },
   {
    "duration": 54,
    "start_time": "2022-09-21T11:15:18.480Z"
   },
   {
    "duration": 20,
    "start_time": "2022-09-21T11:15:18.536Z"
   },
   {
    "duration": 35,
    "start_time": "2022-09-21T11:15:18.562Z"
   },
   {
    "duration": 42,
    "start_time": "2022-09-21T11:15:18.600Z"
   },
   {
    "duration": 25,
    "start_time": "2022-09-21T11:15:18.644Z"
   },
   {
    "duration": 40,
    "start_time": "2022-09-21T11:15:18.671Z"
   },
   {
    "duration": 35,
    "start_time": "2022-09-21T11:15:18.722Z"
   },
   {
    "duration": 13,
    "start_time": "2022-09-21T11:15:18.760Z"
   },
   {
    "duration": 29,
    "start_time": "2022-09-21T11:15:18.775Z"
   },
   {
    "duration": 36,
    "start_time": "2022-09-21T11:15:18.806Z"
   },
   {
    "duration": 489,
    "start_time": "2022-09-21T11:15:18.845Z"
   },
   {
    "duration": 107,
    "start_time": "2022-09-21T11:15:19.337Z"
   },
   {
    "duration": 27,
    "start_time": "2022-09-21T11:15:19.450Z"
   },
   {
    "duration": 59,
    "start_time": "2022-09-21T11:15:19.480Z"
   },
   {
    "duration": 9,
    "start_time": "2022-09-21T11:15:19.541Z"
   },
   {
    "duration": 24,
    "start_time": "2022-09-21T11:15:19.552Z"
   },
   {
    "duration": 9,
    "start_time": "2022-09-21T11:15:19.578Z"
   },
   {
    "duration": 50,
    "start_time": "2022-09-21T11:15:19.594Z"
   },
   {
    "duration": 12,
    "start_time": "2022-09-21T11:15:19.646Z"
   },
   {
    "duration": 13,
    "start_time": "2022-09-21T11:15:19.660Z"
   },
   {
    "duration": 8,
    "start_time": "2022-09-21T11:15:19.678Z"
   },
   {
    "duration": 132,
    "start_time": "2022-09-21T11:15:19.688Z"
   },
   {
    "duration": 11,
    "start_time": "2022-09-21T11:15:19.828Z"
   },
   {
    "duration": 21,
    "start_time": "2022-09-21T11:15:19.841Z"
   },
   {
    "duration": 21,
    "start_time": "2022-09-21T11:15:19.867Z"
   },
   {
    "duration": 41,
    "start_time": "2022-09-21T11:15:19.898Z"
   },
   {
    "duration": 505,
    "start_time": "2022-09-21T11:15:19.941Z"
   },
   {
    "duration": 6,
    "start_time": "2022-09-21T11:15:20.449Z"
   },
   {
    "duration": 344,
    "start_time": "2022-09-21T11:15:20.458Z"
   },
   {
    "duration": 418,
    "start_time": "2022-09-21T11:15:20.805Z"
   },
   {
    "duration": 293,
    "start_time": "2022-09-21T11:15:21.225Z"
   },
   {
    "duration": 326,
    "start_time": "2022-09-21T11:15:21.526Z"
   },
   {
    "duration": 265,
    "start_time": "2022-09-21T11:15:21.868Z"
   },
   {
    "duration": 294,
    "start_time": "2022-09-21T11:15:22.135Z"
   },
   {
    "duration": 271,
    "start_time": "2022-09-21T11:15:22.431Z"
   },
   {
    "duration": 263,
    "start_time": "2022-09-21T11:15:22.704Z"
   },
   {
    "duration": 339,
    "start_time": "2022-09-21T11:15:22.973Z"
   },
   {
    "duration": 348,
    "start_time": "2022-09-21T11:15:23.321Z"
   },
   {
    "duration": 371,
    "start_time": "2022-09-21T11:15:23.680Z"
   },
   {
    "duration": 328,
    "start_time": "2022-09-21T11:15:24.058Z"
   },
   {
    "duration": 473,
    "start_time": "2022-09-21T11:15:24.393Z"
   },
   {
    "duration": 343,
    "start_time": "2022-09-21T11:15:24.870Z"
   },
   {
    "duration": 405,
    "start_time": "2022-09-21T11:15:25.222Z"
   },
   {
    "duration": 7,
    "start_time": "2022-09-21T11:15:25.636Z"
   },
   {
    "duration": 388,
    "start_time": "2022-09-21T11:15:25.650Z"
   },
   {
    "duration": 0,
    "start_time": "2022-09-21T11:15:26.046Z"
   },
   {
    "duration": 0,
    "start_time": "2022-09-21T11:15:26.054Z"
   },
   {
    "duration": 0,
    "start_time": "2022-09-21T11:15:26.060Z"
   },
   {
    "duration": 0,
    "start_time": "2022-09-21T11:15:26.066Z"
   },
   {
    "duration": 0,
    "start_time": "2022-09-21T11:15:26.072Z"
   },
   {
    "duration": 0,
    "start_time": "2022-09-21T11:15:26.075Z"
   },
   {
    "duration": 27698,
    "start_time": "2022-09-21T11:15:53.784Z"
   },
   {
    "duration": 20,
    "start_time": "2022-09-21T11:16:21.492Z"
   },
   {
    "duration": 25705,
    "start_time": "2022-09-21T11:24:59.455Z"
   },
   {
    "duration": 18,
    "start_time": "2022-09-21T11:28:27.744Z"
   },
   {
    "duration": 18,
    "start_time": "2022-09-21T11:37:46.942Z"
   },
   {
    "duration": 17,
    "start_time": "2022-09-21T11:37:50.969Z"
   },
   {
    "duration": 628,
    "start_time": "2022-09-21T11:38:01.317Z"
   },
   {
    "duration": 24,
    "start_time": "2022-09-21T11:38:01.948Z"
   },
   {
    "duration": 2675,
    "start_time": "2022-09-21T11:38:01.974Z"
   },
   {
    "duration": 10,
    "start_time": "2022-09-21T11:38:04.651Z"
   },
   {
    "duration": 4,
    "start_time": "2022-09-21T11:38:04.664Z"
   },
   {
    "duration": 20,
    "start_time": "2022-09-21T11:38:04.670Z"
   },
   {
    "duration": 15,
    "start_time": "2022-09-21T11:38:04.696Z"
   },
   {
    "duration": 15,
    "start_time": "2022-09-21T11:38:04.720Z"
   },
   {
    "duration": 12,
    "start_time": "2022-09-21T11:38:04.737Z"
   },
   {
    "duration": 9,
    "start_time": "2022-09-21T11:38:04.751Z"
   },
   {
    "duration": 7,
    "start_time": "2022-09-21T11:38:04.762Z"
   },
   {
    "duration": 10,
    "start_time": "2022-09-21T11:38:04.771Z"
   },
   {
    "duration": 22,
    "start_time": "2022-09-21T11:38:04.789Z"
   },
   {
    "duration": 15,
    "start_time": "2022-09-21T11:38:04.815Z"
   },
   {
    "duration": 10,
    "start_time": "2022-09-21T11:38:04.832Z"
   },
   {
    "duration": 16,
    "start_time": "2022-09-21T11:38:04.844Z"
   },
   {
    "duration": 31,
    "start_time": "2022-09-21T11:38:04.863Z"
   },
   {
    "duration": 353,
    "start_time": "2022-09-21T11:38:04.905Z"
   },
   {
    "duration": 101,
    "start_time": "2022-09-21T11:38:05.260Z"
   },
   {
    "duration": 8,
    "start_time": "2022-09-21T11:38:05.363Z"
   },
   {
    "duration": 47,
    "start_time": "2022-09-21T11:38:05.374Z"
   },
   {
    "duration": 12,
    "start_time": "2022-09-21T11:38:05.424Z"
   },
   {
    "duration": 12,
    "start_time": "2022-09-21T11:38:05.438Z"
   },
   {
    "duration": 7,
    "start_time": "2022-09-21T11:38:05.453Z"
   },
   {
    "duration": 7,
    "start_time": "2022-09-21T11:38:05.462Z"
   },
   {
    "duration": 8,
    "start_time": "2022-09-21T11:38:05.470Z"
   },
   {
    "duration": 9,
    "start_time": "2022-09-21T11:38:05.480Z"
   },
   {
    "duration": 21,
    "start_time": "2022-09-21T11:38:05.491Z"
   },
   {
    "duration": 83,
    "start_time": "2022-09-21T11:38:05.514Z"
   },
   {
    "duration": 9,
    "start_time": "2022-09-21T11:38:05.599Z"
   },
   {
    "duration": 21,
    "start_time": "2022-09-21T11:38:05.610Z"
   },
   {
    "duration": 7,
    "start_time": "2022-09-21T11:38:05.636Z"
   },
   {
    "duration": 9,
    "start_time": "2022-09-21T11:38:05.645Z"
   },
   {
    "duration": 340,
    "start_time": "2022-09-21T11:38:05.656Z"
   },
   {
    "duration": 5,
    "start_time": "2022-09-21T11:38:05.998Z"
   },
   {
    "duration": 250,
    "start_time": "2022-09-21T11:38:06.004Z"
   },
   {
    "duration": 351,
    "start_time": "2022-09-21T11:38:06.256Z"
   },
   {
    "duration": 233,
    "start_time": "2022-09-21T11:38:06.611Z"
   },
   {
    "duration": 280,
    "start_time": "2022-09-21T11:38:06.846Z"
   },
   {
    "duration": 258,
    "start_time": "2022-09-21T11:38:07.128Z"
   },
   {
    "duration": 271,
    "start_time": "2022-09-21T11:38:07.392Z"
   },
   {
    "duration": 264,
    "start_time": "2022-09-21T11:38:07.665Z"
   },
   {
    "duration": 238,
    "start_time": "2022-09-21T11:38:07.931Z"
   },
   {
    "duration": 252,
    "start_time": "2022-09-21T11:38:08.172Z"
   },
   {
    "duration": 288,
    "start_time": "2022-09-21T11:38:08.425Z"
   },
   {
    "duration": 270,
    "start_time": "2022-09-21T11:38:08.716Z"
   },
   {
    "duration": 247,
    "start_time": "2022-09-21T11:38:08.990Z"
   },
   {
    "duration": 342,
    "start_time": "2022-09-21T11:38:09.239Z"
   },
   {
    "duration": 240,
    "start_time": "2022-09-21T11:38:09.583Z"
   },
   {
    "duration": 247,
    "start_time": "2022-09-21T11:38:09.825Z"
   },
   {
    "duration": 3,
    "start_time": "2022-09-21T11:38:10.074Z"
   },
   {
    "duration": 22464,
    "start_time": "2022-09-21T11:38:10.078Z"
   },
   {
    "duration": 6,
    "start_time": "2022-09-21T11:38:32.544Z"
   },
   {
    "duration": 16850,
    "start_time": "2022-09-21T11:38:32.551Z"
   },
   {
    "duration": 10027,
    "start_time": "2022-09-21T11:38:49.413Z"
   },
   {
    "duration": 183,
    "start_time": "2022-09-21T11:38:59.442Z"
   },
   {
    "duration": 5,
    "start_time": "2022-09-21T11:38:59.627Z"
   },
   {
    "duration": 167,
    "start_time": "2022-09-21T11:38:59.634Z"
   },
   {
    "duration": 24458,
    "start_time": "2022-09-21T11:38:59.805Z"
   },
   {
    "duration": 15,
    "start_time": "2022-09-21T11:39:24.265Z"
   },
   {
    "duration": 24,
    "start_time": "2022-09-21T11:40:21.156Z"
   },
   {
    "duration": 134,
    "start_time": "2022-09-21T11:41:43.916Z"
   },
   {
    "duration": 28,
    "start_time": "2022-09-21T11:41:56.969Z"
   },
   {
    "duration": 27,
    "start_time": "2022-09-21T11:42:06.771Z"
   },
   {
    "duration": 23,
    "start_time": "2022-09-21T11:42:19.843Z"
   },
   {
    "duration": 26,
    "start_time": "2022-09-21T11:42:25.215Z"
   },
   {
    "duration": 35,
    "start_time": "2022-09-21T11:43:58.484Z"
   },
   {
    "duration": 10,
    "start_time": "2022-09-21T11:44:44.239Z"
   },
   {
    "duration": 9,
    "start_time": "2022-09-21T11:44:48.842Z"
   },
   {
    "duration": 9,
    "start_time": "2022-09-21T11:47:40.028Z"
   },
   {
    "duration": 9,
    "start_time": "2022-09-21T11:47:44.141Z"
   },
   {
    "duration": 6,
    "start_time": "2022-09-21T11:51:00.843Z"
   },
   {
    "duration": 18,
    "start_time": "2022-09-21T11:51:31.586Z"
   },
   {
    "duration": 9027,
    "start_time": "2022-09-21T11:52:34.701Z"
   },
   {
    "duration": 23151,
    "start_time": "2022-09-21T11:52:43.730Z"
   },
   {
    "duration": 620,
    "start_time": "2022-09-21T11:56:50.354Z"
   },
   {
    "duration": 37,
    "start_time": "2022-09-21T11:56:50.977Z"
   },
   {
    "duration": 2922,
    "start_time": "2022-09-21T11:56:51.019Z"
   },
   {
    "duration": 10,
    "start_time": "2022-09-21T11:56:53.944Z"
   },
   {
    "duration": 11,
    "start_time": "2022-09-21T11:56:53.956Z"
   },
   {
    "duration": 42,
    "start_time": "2022-09-21T11:56:53.968Z"
   },
   {
    "duration": 29,
    "start_time": "2022-09-21T11:56:54.012Z"
   },
   {
    "duration": 17,
    "start_time": "2022-09-21T11:56:54.043Z"
   },
   {
    "duration": 39,
    "start_time": "2022-09-21T11:56:54.062Z"
   },
   {
    "duration": 25,
    "start_time": "2022-09-21T11:56:54.111Z"
   },
   {
    "duration": 14,
    "start_time": "2022-09-21T11:56:54.138Z"
   },
   {
    "duration": 18,
    "start_time": "2022-09-21T11:56:54.154Z"
   },
   {
    "duration": 26,
    "start_time": "2022-09-21T11:56:54.174Z"
   },
   {
    "duration": 37,
    "start_time": "2022-09-21T11:56:54.203Z"
   },
   {
    "duration": 16,
    "start_time": "2022-09-21T11:56:54.242Z"
   },
   {
    "duration": 24,
    "start_time": "2022-09-21T11:56:54.261Z"
   },
   {
    "duration": 28,
    "start_time": "2022-09-21T11:56:54.287Z"
   },
   {
    "duration": 359,
    "start_time": "2022-09-21T11:56:54.317Z"
   },
   {
    "duration": 89,
    "start_time": "2022-09-21T11:56:54.677Z"
   },
   {
    "duration": 7,
    "start_time": "2022-09-21T11:56:54.768Z"
   },
   {
    "duration": 39,
    "start_time": "2022-09-21T11:56:54.788Z"
   },
   {
    "duration": 17,
    "start_time": "2022-09-21T11:56:54.829Z"
   },
   {
    "duration": 18,
    "start_time": "2022-09-21T11:56:54.848Z"
   },
   {
    "duration": 6,
    "start_time": "2022-09-21T11:56:54.869Z"
   },
   {
    "duration": 25,
    "start_time": "2022-09-21T11:56:54.877Z"
   },
   {
    "duration": 30,
    "start_time": "2022-09-21T11:56:54.904Z"
   },
   {
    "duration": 7,
    "start_time": "2022-09-21T11:56:54.936Z"
   },
   {
    "duration": 10,
    "start_time": "2022-09-21T11:56:54.948Z"
   },
   {
    "duration": 75,
    "start_time": "2022-09-21T11:56:54.960Z"
   },
   {
    "duration": 5,
    "start_time": "2022-09-21T11:56:55.038Z"
   },
   {
    "duration": 32,
    "start_time": "2022-09-21T11:56:55.045Z"
   },
   {
    "duration": 57,
    "start_time": "2022-09-21T11:56:55.079Z"
   },
   {
    "duration": 16,
    "start_time": "2022-09-21T11:56:55.138Z"
   },
   {
    "duration": 365,
    "start_time": "2022-09-21T11:56:55.156Z"
   },
   {
    "duration": 7,
    "start_time": "2022-09-21T11:56:55.523Z"
   },
   {
    "duration": 239,
    "start_time": "2022-09-21T11:56:55.532Z"
   },
   {
    "duration": 347,
    "start_time": "2022-09-21T11:56:55.774Z"
   },
   {
    "duration": 235,
    "start_time": "2022-09-21T11:56:56.122Z"
   },
   {
    "duration": 238,
    "start_time": "2022-09-21T11:56:56.359Z"
   },
   {
    "duration": 292,
    "start_time": "2022-09-21T11:56:56.602Z"
   },
   {
    "duration": 262,
    "start_time": "2022-09-21T11:56:56.900Z"
   },
   {
    "duration": 282,
    "start_time": "2022-09-21T11:56:57.165Z"
   },
   {
    "duration": 214,
    "start_time": "2022-09-21T11:56:57.450Z"
   },
   {
    "duration": 257,
    "start_time": "2022-09-21T11:56:57.667Z"
   },
   {
    "duration": 302,
    "start_time": "2022-09-21T11:56:57.927Z"
   },
   {
    "duration": 282,
    "start_time": "2022-09-21T11:56:58.232Z"
   },
   {
    "duration": 247,
    "start_time": "2022-09-21T11:56:58.516Z"
   },
   {
    "duration": 371,
    "start_time": "2022-09-21T11:56:58.765Z"
   },
   {
    "duration": 237,
    "start_time": "2022-09-21T11:56:59.143Z"
   },
   {
    "duration": 257,
    "start_time": "2022-09-21T11:56:59.389Z"
   },
   {
    "duration": 3,
    "start_time": "2022-09-21T11:56:59.649Z"
   },
   {
    "duration": 21705,
    "start_time": "2022-09-21T11:56:59.654Z"
   },
   {
    "duration": 7,
    "start_time": "2022-09-21T11:57:21.361Z"
   },
   {
    "duration": 18438,
    "start_time": "2022-09-21T11:57:21.371Z"
   },
   {
    "duration": 15,
    "start_time": "2022-09-21T11:57:39.816Z"
   },
   {
    "duration": 10925,
    "start_time": "2022-09-21T11:57:39.833Z"
   },
   {
    "duration": 8,
    "start_time": "2022-09-21T11:57:50.760Z"
   },
   {
    "duration": 251,
    "start_time": "2022-09-21T11:57:50.771Z"
   },
   {
    "duration": 7,
    "start_time": "2022-09-21T11:57:51.025Z"
   },
   {
    "duration": 171,
    "start_time": "2022-09-21T11:57:51.034Z"
   },
   {
    "duration": 44,
    "start_time": "2022-09-21T11:58:16.454Z"
   },
   {
    "duration": 14,
    "start_time": "2022-09-21T11:58:16.502Z"
   },
   {
    "duration": 28,
    "start_time": "2022-09-21T11:58:16.518Z"
   },
   {
    "duration": 24933,
    "start_time": "2022-09-21T11:58:16.553Z"
   },
   {
    "duration": 232,
    "start_time": "2022-09-21T11:59:13.143Z"
   },
   {
    "duration": 206,
    "start_time": "2022-09-21T11:59:27.516Z"
   },
   {
    "duration": 211,
    "start_time": "2022-09-21T11:59:48.340Z"
   },
   {
    "duration": 185,
    "start_time": "2022-09-21T12:00:12.848Z"
   },
   {
    "duration": 89,
    "start_time": "2022-09-21T12:13:48.013Z"
   },
   {
    "duration": 11,
    "start_time": "2022-09-21T12:13:54.160Z"
   },
   {
    "duration": 17,
    "start_time": "2022-09-21T12:13:59.828Z"
   },
   {
    "duration": 50,
    "start_time": "2022-09-21T12:15:52.561Z"
   },
   {
    "duration": 203,
    "start_time": "2022-09-21T12:18:18.301Z"
   },
   {
    "duration": 183,
    "start_time": "2022-09-21T12:19:42.717Z"
   },
   {
    "duration": 196,
    "start_time": "2022-09-21T12:19:52.617Z"
   },
   {
    "duration": 201,
    "start_time": "2022-09-21T12:20:37.077Z"
   },
   {
    "duration": 485,
    "start_time": "2022-09-21T12:21:25.449Z"
   },
   {
    "duration": 191,
    "start_time": "2022-09-21T12:23:03.963Z"
   },
   {
    "duration": 1398,
    "start_time": "2022-09-21T12:27:00.947Z"
   },
   {
    "duration": 1670,
    "start_time": "2022-09-21T12:27:41.275Z"
   },
   {
    "duration": 45,
    "start_time": "2022-09-21T19:00:01.207Z"
   },
   {
    "duration": 719,
    "start_time": "2022-09-21T19:01:51.306Z"
   },
   {
    "duration": 14,
    "start_time": "2022-09-21T19:01:52.026Z"
   },
   {
    "duration": 2223,
    "start_time": "2022-09-21T19:01:52.041Z"
   },
   {
    "duration": 9,
    "start_time": "2022-09-21T19:01:54.267Z"
   },
   {
    "duration": 18,
    "start_time": "2022-09-21T19:01:54.277Z"
   },
   {
    "duration": 33,
    "start_time": "2022-09-21T19:01:54.297Z"
   },
   {
    "duration": 18,
    "start_time": "2022-09-21T19:01:54.332Z"
   },
   {
    "duration": 40,
    "start_time": "2022-09-21T19:01:54.352Z"
   },
   {
    "duration": 27,
    "start_time": "2022-09-21T19:01:54.394Z"
   },
   {
    "duration": 20,
    "start_time": "2022-09-21T19:01:54.424Z"
   },
   {
    "duration": 17,
    "start_time": "2022-09-21T19:01:54.446Z"
   },
   {
    "duration": 19,
    "start_time": "2022-09-21T19:01:54.464Z"
   },
   {
    "duration": 24,
    "start_time": "2022-09-21T19:01:54.485Z"
   },
   {
    "duration": 15,
    "start_time": "2022-09-21T19:01:54.511Z"
   },
   {
    "duration": 25,
    "start_time": "2022-09-21T19:01:54.528Z"
   },
   {
    "duration": 27,
    "start_time": "2022-09-21T19:01:54.555Z"
   },
   {
    "duration": 8,
    "start_time": "2022-09-21T19:01:54.584Z"
   },
   {
    "duration": 298,
    "start_time": "2022-09-21T19:01:54.593Z"
   },
   {
    "duration": 61,
    "start_time": "2022-09-21T19:01:54.892Z"
   },
   {
    "duration": 6,
    "start_time": "2022-09-21T19:01:54.955Z"
   },
   {
    "duration": 14,
    "start_time": "2022-09-21T19:01:54.977Z"
   },
   {
    "duration": 15,
    "start_time": "2022-09-21T19:01:54.992Z"
   },
   {
    "duration": 20,
    "start_time": "2022-09-21T19:01:55.009Z"
   },
   {
    "duration": 25,
    "start_time": "2022-09-21T19:01:55.031Z"
   },
   {
    "duration": 21,
    "start_time": "2022-09-21T19:01:55.058Z"
   },
   {
    "duration": 22,
    "start_time": "2022-09-21T19:01:55.081Z"
   },
   {
    "duration": 30,
    "start_time": "2022-09-21T19:01:55.105Z"
   },
   {
    "duration": 18,
    "start_time": "2022-09-21T19:01:55.139Z"
   },
   {
    "duration": 97,
    "start_time": "2022-09-21T19:01:55.158Z"
   },
   {
    "duration": 5,
    "start_time": "2022-09-21T19:01:55.258Z"
   },
   {
    "duration": 23,
    "start_time": "2022-09-21T19:01:55.265Z"
   },
   {
    "duration": 15,
    "start_time": "2022-09-21T19:01:55.290Z"
   },
   {
    "duration": 24,
    "start_time": "2022-09-21T19:01:55.307Z"
   },
   {
    "duration": 304,
    "start_time": "2022-09-21T19:01:55.333Z"
   },
   {
    "duration": 4,
    "start_time": "2022-09-21T19:01:55.639Z"
   },
   {
    "duration": 267,
    "start_time": "2022-09-21T19:01:55.645Z"
   },
   {
    "duration": 208,
    "start_time": "2022-09-21T19:01:55.914Z"
   },
   {
    "duration": 168,
    "start_time": "2022-09-21T19:01:56.124Z"
   },
   {
    "duration": 176,
    "start_time": "2022-09-21T19:01:56.293Z"
   },
   {
    "duration": 169,
    "start_time": "2022-09-21T19:01:56.471Z"
   },
   {
    "duration": 188,
    "start_time": "2022-09-21T19:01:56.642Z"
   },
   {
    "duration": 197,
    "start_time": "2022-09-21T19:01:56.833Z"
   },
   {
    "duration": 170,
    "start_time": "2022-09-21T19:01:57.031Z"
   },
   {
    "duration": 173,
    "start_time": "2022-09-21T19:01:57.203Z"
   },
   {
    "duration": 184,
    "start_time": "2022-09-21T19:01:57.378Z"
   },
   {
    "duration": 252,
    "start_time": "2022-09-21T19:01:57.564Z"
   },
   {
    "duration": 175,
    "start_time": "2022-09-21T19:01:57.998Z"
   },
   {
    "duration": 168,
    "start_time": "2022-09-21T19:01:58.177Z"
   },
   {
    "duration": 185,
    "start_time": "2022-09-21T19:01:58.347Z"
   },
   {
    "duration": 2,
    "start_time": "2022-09-21T19:01:58.534Z"
   },
   {
    "duration": 16658,
    "start_time": "2022-09-21T19:01:58.537Z"
   },
   {
    "duration": 5,
    "start_time": "2022-09-21T19:02:15.196Z"
   },
   {
    "duration": 13058,
    "start_time": "2022-09-21T19:02:15.202Z"
   },
   {
    "duration": 4,
    "start_time": "2022-09-21T19:02:28.262Z"
   },
   {
    "duration": 8050,
    "start_time": "2022-09-21T19:02:28.277Z"
   },
   {
    "duration": 5,
    "start_time": "2022-09-21T19:02:36.329Z"
   },
   {
    "duration": 150,
    "start_time": "2022-09-21T19:02:36.335Z"
   },
   {
    "duration": 5,
    "start_time": "2022-09-21T19:02:36.486Z"
   },
   {
    "duration": 144,
    "start_time": "2022-09-21T19:02:36.493Z"
   },
   {
    "duration": 158,
    "start_time": "2022-09-21T19:02:36.639Z"
   },
   {
    "duration": 203,
    "start_time": "2022-09-21T19:02:36.798Z"
   },
   {
    "duration": 186,
    "start_time": "2022-09-21T19:02:37.004Z"
   },
   {
    "duration": 24,
    "start_time": "2022-09-21T19:02:37.191Z"
   },
   {
    "duration": 9,
    "start_time": "2022-09-21T19:02:37.217Z"
   },
   {
    "duration": 18,
    "start_time": "2022-09-21T19:02:37.228Z"
   },
   {
    "duration": 35,
    "start_time": "2022-09-21T19:04:31.849Z"
   },
   {
    "duration": 15,
    "start_time": "2022-09-21T19:06:08.376Z"
   },
   {
    "duration": 136,
    "start_time": "2022-09-21T19:06:25.598Z"
   },
   {
    "duration": 269,
    "start_time": "2022-09-21T19:06:31.055Z"
   },
   {
    "duration": 257,
    "start_time": "2022-09-21T19:06:41.868Z"
   },
   {
    "duration": 1886,
    "start_time": "2022-09-21T19:09:00.969Z"
   },
   {
    "duration": 543,
    "start_time": "2022-09-21T19:09:18.561Z"
   },
   {
    "duration": 15,
    "start_time": "2022-09-21T19:09:19.106Z"
   },
   {
    "duration": 2154,
    "start_time": "2022-09-21T19:09:19.122Z"
   },
   {
    "duration": 9,
    "start_time": "2022-09-21T19:09:21.278Z"
   },
   {
    "duration": 4,
    "start_time": "2022-09-21T19:09:21.289Z"
   },
   {
    "duration": 16,
    "start_time": "2022-09-21T19:09:21.294Z"
   },
   {
    "duration": 6,
    "start_time": "2022-09-21T19:09:21.311Z"
   },
   {
    "duration": 12,
    "start_time": "2022-09-21T19:09:21.318Z"
   },
   {
    "duration": 11,
    "start_time": "2022-09-21T19:09:21.331Z"
   },
   {
    "duration": 7,
    "start_time": "2022-09-21T19:09:21.343Z"
   },
   {
    "duration": 5,
    "start_time": "2022-09-21T19:09:21.377Z"
   },
   {
    "duration": 17,
    "start_time": "2022-09-21T19:09:21.384Z"
   },
   {
    "duration": 17,
    "start_time": "2022-09-21T19:09:21.403Z"
   },
   {
    "duration": 10,
    "start_time": "2022-09-21T19:09:21.423Z"
   },
   {
    "duration": 11,
    "start_time": "2022-09-21T19:09:21.434Z"
   },
   {
    "duration": 14,
    "start_time": "2022-09-21T19:09:21.447Z"
   },
   {
    "duration": 19,
    "start_time": "2022-09-21T19:09:21.462Z"
   },
   {
    "duration": 264,
    "start_time": "2022-09-21T19:09:21.483Z"
   },
   {
    "duration": 66,
    "start_time": "2022-09-21T19:09:21.748Z"
   },
   {
    "duration": 5,
    "start_time": "2022-09-21T19:09:21.816Z"
   },
   {
    "duration": 8,
    "start_time": "2022-09-21T19:09:21.822Z"
   },
   {
    "duration": 5,
    "start_time": "2022-09-21T19:09:21.832Z"
   },
   {
    "duration": 9,
    "start_time": "2022-09-21T19:09:21.839Z"
   },
   {
    "duration": 5,
    "start_time": "2022-09-21T19:09:21.849Z"
   },
   {
    "duration": 25,
    "start_time": "2022-09-21T19:09:21.855Z"
   },
   {
    "duration": 5,
    "start_time": "2022-09-21T19:09:21.881Z"
   },
   {
    "duration": 5,
    "start_time": "2022-09-21T19:09:21.887Z"
   },
   {
    "duration": 6,
    "start_time": "2022-09-21T19:09:21.893Z"
   },
   {
    "duration": 51,
    "start_time": "2022-09-21T19:09:21.900Z"
   },
   {
    "duration": 25,
    "start_time": "2022-09-21T19:09:21.952Z"
   },
   {
    "duration": 7,
    "start_time": "2022-09-21T19:09:21.979Z"
   },
   {
    "duration": 4,
    "start_time": "2022-09-21T19:09:21.987Z"
   },
   {
    "duration": 4,
    "start_time": "2022-09-21T19:09:21.993Z"
   },
   {
    "duration": 267,
    "start_time": "2022-09-21T19:09:21.999Z"
   },
   {
    "duration": 8,
    "start_time": "2022-09-21T19:09:22.268Z"
   },
   {
    "duration": 189,
    "start_time": "2022-09-21T19:09:22.278Z"
   },
   {
    "duration": 257,
    "start_time": "2022-09-21T19:09:22.469Z"
   },
   {
    "duration": 170,
    "start_time": "2022-09-21T19:09:22.728Z"
   },
   {
    "duration": 178,
    "start_time": "2022-09-21T19:09:22.900Z"
   },
   {
    "duration": 159,
    "start_time": "2022-09-21T19:09:23.080Z"
   },
   {
    "duration": 180,
    "start_time": "2022-09-21T19:09:23.242Z"
   },
   {
    "duration": 171,
    "start_time": "2022-09-21T19:09:23.424Z"
   },
   {
    "duration": 166,
    "start_time": "2022-09-21T19:09:23.597Z"
   },
   {
    "duration": 175,
    "start_time": "2022-09-21T19:09:23.765Z"
   },
   {
    "duration": 174,
    "start_time": "2022-09-21T19:09:23.942Z"
   },
   {
    "duration": 171,
    "start_time": "2022-09-21T19:09:24.117Z"
   },
   {
    "duration": 168,
    "start_time": "2022-09-21T19:09:24.290Z"
   },
   {
    "duration": 246,
    "start_time": "2022-09-21T19:09:24.460Z"
   },
   {
    "duration": 171,
    "start_time": "2022-09-21T19:09:24.708Z"
   },
   {
    "duration": 188,
    "start_time": "2022-09-21T19:09:24.880Z"
   },
   {
    "duration": 7,
    "start_time": "2022-09-21T19:09:25.070Z"
   },
   {
    "duration": 16487,
    "start_time": "2022-09-21T19:09:25.078Z"
   },
   {
    "duration": 10,
    "start_time": "2022-09-21T19:09:41.568Z"
   },
   {
    "duration": 12879,
    "start_time": "2022-09-21T19:09:41.580Z"
   },
   {
    "duration": 5,
    "start_time": "2022-09-21T19:09:54.461Z"
   },
   {
    "duration": 7949,
    "start_time": "2022-09-21T19:09:54.468Z"
   },
   {
    "duration": 5,
    "start_time": "2022-09-21T19:10:02.419Z"
   },
   {
    "duration": 144,
    "start_time": "2022-09-21T19:10:02.425Z"
   },
   {
    "duration": 8,
    "start_time": "2022-09-21T19:10:02.570Z"
   },
   {
    "duration": 130,
    "start_time": "2022-09-21T19:10:02.580Z"
   },
   {
    "duration": 145,
    "start_time": "2022-09-21T19:10:02.712Z"
   },
   {
    "duration": 175,
    "start_time": "2022-09-21T19:10:02.859Z"
   },
   {
    "duration": 142,
    "start_time": "2022-09-21T19:10:03.035Z"
   },
   {
    "duration": 21,
    "start_time": "2022-09-21T19:10:03.178Z"
   },
   {
    "duration": 8,
    "start_time": "2022-09-21T19:10:03.201Z"
   },
   {
    "duration": 9,
    "start_time": "2022-09-21T19:10:03.211Z"
   },
   {
    "duration": 4044,
    "start_time": "2022-09-21T19:10:03.221Z"
   },
   {
    "duration": 602,
    "start_time": "2022-09-21T19:10:11.594Z"
   },
   {
    "duration": 14,
    "start_time": "2022-09-21T19:10:12.198Z"
   },
   {
    "duration": 2195,
    "start_time": "2022-09-21T19:10:12.214Z"
   },
   {
    "duration": 9,
    "start_time": "2022-09-21T19:10:14.411Z"
   },
   {
    "duration": 12,
    "start_time": "2022-09-21T19:10:14.422Z"
   },
   {
    "duration": 15,
    "start_time": "2022-09-21T19:10:14.436Z"
   },
   {
    "duration": 5,
    "start_time": "2022-09-21T19:10:14.453Z"
   },
   {
    "duration": 18,
    "start_time": "2022-09-21T19:10:14.460Z"
   },
   {
    "duration": 12,
    "start_time": "2022-09-21T19:10:14.480Z"
   },
   {
    "duration": 12,
    "start_time": "2022-09-21T19:10:14.494Z"
   },
   {
    "duration": 7,
    "start_time": "2022-09-21T19:10:14.508Z"
   },
   {
    "duration": 11,
    "start_time": "2022-09-21T19:10:14.516Z"
   },
   {
    "duration": 14,
    "start_time": "2022-09-21T19:10:14.529Z"
   },
   {
    "duration": 7,
    "start_time": "2022-09-21T19:10:14.544Z"
   },
   {
    "duration": 34,
    "start_time": "2022-09-21T19:10:14.553Z"
   },
   {
    "duration": 14,
    "start_time": "2022-09-21T19:10:14.589Z"
   },
   {
    "duration": 7,
    "start_time": "2022-09-21T19:10:14.605Z"
   },
   {
    "duration": 284,
    "start_time": "2022-09-21T19:10:14.614Z"
   },
   {
    "duration": 63,
    "start_time": "2022-09-21T19:10:14.900Z"
   },
   {
    "duration": 7,
    "start_time": "2022-09-21T19:10:14.976Z"
   },
   {
    "duration": 11,
    "start_time": "2022-09-21T19:10:14.985Z"
   },
   {
    "duration": 15,
    "start_time": "2022-09-21T19:10:14.997Z"
   },
   {
    "duration": 25,
    "start_time": "2022-09-21T19:10:15.014Z"
   },
   {
    "duration": 17,
    "start_time": "2022-09-21T19:10:15.041Z"
   },
   {
    "duration": 16,
    "start_time": "2022-09-21T19:10:15.060Z"
   },
   {
    "duration": 19,
    "start_time": "2022-09-21T19:10:15.078Z"
   },
   {
    "duration": 9,
    "start_time": "2022-09-21T19:10:15.100Z"
   },
   {
    "duration": 25,
    "start_time": "2022-09-21T19:10:15.112Z"
   },
   {
    "duration": 65,
    "start_time": "2022-09-21T19:10:15.139Z"
   },
   {
    "duration": 3,
    "start_time": "2022-09-21T19:10:15.206Z"
   },
   {
    "duration": 17,
    "start_time": "2022-09-21T19:10:15.211Z"
   },
   {
    "duration": 9,
    "start_time": "2022-09-21T19:10:15.230Z"
   },
   {
    "duration": 17,
    "start_time": "2022-09-21T19:10:15.241Z"
   },
   {
    "duration": 350,
    "start_time": "2022-09-21T19:10:15.259Z"
   },
   {
    "duration": 94,
    "start_time": "2022-09-21T19:10:15.611Z"
   },
   {
    "duration": 0,
    "start_time": "2022-09-21T19:10:15.706Z"
   },
   {
    "duration": 0,
    "start_time": "2022-09-21T19:10:15.708Z"
   },
   {
    "duration": 0,
    "start_time": "2022-09-21T19:10:15.709Z"
   },
   {
    "duration": 0,
    "start_time": "2022-09-21T19:10:15.710Z"
   },
   {
    "duration": 0,
    "start_time": "2022-09-21T19:10:15.710Z"
   },
   {
    "duration": 0,
    "start_time": "2022-09-21T19:10:15.711Z"
   },
   {
    "duration": 0,
    "start_time": "2022-09-21T19:10:15.712Z"
   },
   {
    "duration": 0,
    "start_time": "2022-09-21T19:10:15.713Z"
   },
   {
    "duration": 0,
    "start_time": "2022-09-21T19:10:15.714Z"
   },
   {
    "duration": 1,
    "start_time": "2022-09-21T19:10:15.714Z"
   },
   {
    "duration": 0,
    "start_time": "2022-09-21T19:10:15.716Z"
   },
   {
    "duration": 0,
    "start_time": "2022-09-21T19:10:15.717Z"
   },
   {
    "duration": 0,
    "start_time": "2022-09-21T19:10:15.718Z"
   },
   {
    "duration": 0,
    "start_time": "2022-09-21T19:10:15.719Z"
   },
   {
    "duration": 0,
    "start_time": "2022-09-21T19:10:15.720Z"
   },
   {
    "duration": 0,
    "start_time": "2022-09-21T19:10:15.721Z"
   },
   {
    "duration": 0,
    "start_time": "2022-09-21T19:10:15.722Z"
   },
   {
    "duration": 0,
    "start_time": "2022-09-21T19:10:15.723Z"
   },
   {
    "duration": 0,
    "start_time": "2022-09-21T19:10:15.724Z"
   },
   {
    "duration": 0,
    "start_time": "2022-09-21T19:10:15.726Z"
   },
   {
    "duration": 0,
    "start_time": "2022-09-21T19:10:15.726Z"
   },
   {
    "duration": 0,
    "start_time": "2022-09-21T19:10:15.728Z"
   },
   {
    "duration": 0,
    "start_time": "2022-09-21T19:10:15.729Z"
   },
   {
    "duration": 0,
    "start_time": "2022-09-21T19:10:15.730Z"
   },
   {
    "duration": 1,
    "start_time": "2022-09-21T19:10:15.730Z"
   },
   {
    "duration": 0,
    "start_time": "2022-09-21T19:10:15.731Z"
   },
   {
    "duration": 0,
    "start_time": "2022-09-21T19:10:15.732Z"
   },
   {
    "duration": 0,
    "start_time": "2022-09-21T19:10:15.776Z"
   },
   {
    "duration": 0,
    "start_time": "2022-09-21T19:10:15.777Z"
   },
   {
    "duration": 0,
    "start_time": "2022-09-21T19:10:15.778Z"
   },
   {
    "duration": 0,
    "start_time": "2022-09-21T19:10:15.779Z"
   },
   {
    "duration": 0,
    "start_time": "2022-09-21T19:10:15.780Z"
   },
   {
    "duration": 541,
    "start_time": "2022-09-21T19:10:32.073Z"
   },
   {
    "duration": 14,
    "start_time": "2022-09-21T19:10:32.616Z"
   },
   {
    "duration": 2113,
    "start_time": "2022-09-21T19:10:32.631Z"
   },
   {
    "duration": 10,
    "start_time": "2022-09-21T19:10:34.746Z"
   },
   {
    "duration": 4,
    "start_time": "2022-09-21T19:10:34.758Z"
   },
   {
    "duration": 14,
    "start_time": "2022-09-21T19:10:34.764Z"
   },
   {
    "duration": 5,
    "start_time": "2022-09-21T19:10:34.780Z"
   },
   {
    "duration": 12,
    "start_time": "2022-09-21T19:10:34.787Z"
   },
   {
    "duration": 11,
    "start_time": "2022-09-21T19:10:34.800Z"
   },
   {
    "duration": 14,
    "start_time": "2022-09-21T19:10:34.813Z"
   },
   {
    "duration": 16,
    "start_time": "2022-09-21T19:10:34.829Z"
   },
   {
    "duration": 15,
    "start_time": "2022-09-21T19:10:34.846Z"
   },
   {
    "duration": 24,
    "start_time": "2022-09-21T19:10:34.863Z"
   },
   {
    "duration": 8,
    "start_time": "2022-09-21T19:10:34.892Z"
   },
   {
    "duration": 11,
    "start_time": "2022-09-21T19:10:34.901Z"
   },
   {
    "duration": 15,
    "start_time": "2022-09-21T19:10:34.914Z"
   },
   {
    "duration": 10,
    "start_time": "2022-09-21T19:10:34.930Z"
   },
   {
    "duration": 310,
    "start_time": "2022-09-21T19:10:34.942Z"
   },
   {
    "duration": 89,
    "start_time": "2022-09-21T19:10:35.254Z"
   },
   {
    "duration": 8,
    "start_time": "2022-09-21T19:10:35.345Z"
   },
   {
    "duration": 44,
    "start_time": "2022-09-21T19:10:35.357Z"
   },
   {
    "duration": 31,
    "start_time": "2022-09-21T19:10:35.403Z"
   },
   {
    "duration": 38,
    "start_time": "2022-09-21T19:10:35.436Z"
   },
   {
    "duration": 48,
    "start_time": "2022-09-21T19:10:35.476Z"
   },
   {
    "duration": 27,
    "start_time": "2022-09-21T19:10:35.526Z"
   },
   {
    "duration": 12,
    "start_time": "2022-09-21T19:10:35.554Z"
   },
   {
    "duration": 47,
    "start_time": "2022-09-21T19:10:35.567Z"
   },
   {
    "duration": 36,
    "start_time": "2022-09-21T19:10:35.616Z"
   },
   {
    "duration": 69,
    "start_time": "2022-09-21T19:10:35.654Z"
   },
   {
    "duration": 3,
    "start_time": "2022-09-21T19:10:35.725Z"
   },
   {
    "duration": 14,
    "start_time": "2022-09-21T19:10:35.730Z"
   },
   {
    "duration": 9,
    "start_time": "2022-09-21T19:10:35.745Z"
   },
   {
    "duration": 22,
    "start_time": "2022-09-21T19:10:35.755Z"
   },
   {
    "duration": 303,
    "start_time": "2022-09-21T19:10:35.778Z"
   },
   {
    "duration": 5,
    "start_time": "2022-09-21T19:10:36.083Z"
   },
   {
    "duration": 188,
    "start_time": "2022-09-21T19:10:36.089Z"
   },
   {
    "duration": 280,
    "start_time": "2022-09-21T19:10:36.278Z"
   },
   {
    "duration": 198,
    "start_time": "2022-09-21T19:10:36.560Z"
   },
   {
    "duration": 204,
    "start_time": "2022-09-21T19:10:36.759Z"
   },
   {
    "duration": 208,
    "start_time": "2022-09-21T19:10:36.965Z"
   },
   {
    "duration": 191,
    "start_time": "2022-09-21T19:10:37.179Z"
   },
   {
    "duration": 178,
    "start_time": "2022-09-21T19:10:37.376Z"
   },
   {
    "duration": 166,
    "start_time": "2022-09-21T19:10:37.556Z"
   },
   {
    "duration": 199,
    "start_time": "2022-09-21T19:10:37.724Z"
   },
   {
    "duration": 177,
    "start_time": "2022-09-21T19:10:37.925Z"
   },
   {
    "duration": 167,
    "start_time": "2022-09-21T19:10:38.103Z"
   },
   {
    "duration": 173,
    "start_time": "2022-09-21T19:10:38.272Z"
   },
   {
    "duration": 247,
    "start_time": "2022-09-21T19:10:38.446Z"
   },
   {
    "duration": 183,
    "start_time": "2022-09-21T19:10:38.694Z"
   },
   {
    "duration": 200,
    "start_time": "2022-09-21T19:10:38.879Z"
   },
   {
    "duration": 3,
    "start_time": "2022-09-21T19:10:39.081Z"
   },
   {
    "duration": 16047,
    "start_time": "2022-09-21T19:10:39.085Z"
   },
   {
    "duration": 5,
    "start_time": "2022-09-21T19:10:55.134Z"
   },
   {
    "duration": 12892,
    "start_time": "2022-09-21T19:10:55.141Z"
   },
   {
    "duration": 5,
    "start_time": "2022-09-21T19:11:08.034Z"
   },
   {
    "duration": 7936,
    "start_time": "2022-09-21T19:11:08.041Z"
   },
   {
    "duration": 5,
    "start_time": "2022-09-21T19:11:15.979Z"
   },
   {
    "duration": 150,
    "start_time": "2022-09-21T19:11:15.986Z"
   },
   {
    "duration": 5,
    "start_time": "2022-09-21T19:11:16.138Z"
   },
   {
    "duration": 144,
    "start_time": "2022-09-21T19:11:16.144Z"
   },
   {
    "duration": 141,
    "start_time": "2022-09-21T19:11:16.290Z"
   },
   {
    "duration": 176,
    "start_time": "2022-09-21T19:11:16.433Z"
   },
   {
    "duration": 143,
    "start_time": "2022-09-21T19:11:16.610Z"
   },
   {
    "duration": 30,
    "start_time": "2022-09-21T19:11:16.754Z"
   },
   {
    "duration": 8,
    "start_time": "2022-09-21T19:11:16.786Z"
   },
   {
    "duration": 8,
    "start_time": "2022-09-21T19:11:16.797Z"
   },
   {
    "duration": 7729,
    "start_time": "2022-09-21T19:11:16.807Z"
   },
   {
    "duration": 1488,
    "start_time": "2022-09-21T19:12:07.059Z"
   },
   {
    "duration": 1520,
    "start_time": "2022-09-21T19:12:25.479Z"
   },
   {
    "duration": 2524,
    "start_time": "2022-09-21T19:12:39.026Z"
   },
   {
    "duration": 1341,
    "start_time": "2022-09-21T19:12:58.570Z"
   },
   {
    "duration": 269,
    "start_time": "2022-09-21T19:13:29.762Z"
   },
   {
    "duration": 267,
    "start_time": "2022-09-21T19:13:39.396Z"
   },
   {
    "duration": 399,
    "start_time": "2022-09-21T19:14:02.534Z"
   },
   {
    "duration": 291,
    "start_time": "2022-09-21T19:14:11.861Z"
   },
   {
    "duration": 535,
    "start_time": "2022-09-21T19:47:17.780Z"
   },
   {
    "duration": 18,
    "start_time": "2022-09-21T19:47:18.317Z"
   },
   {
    "duration": 2079,
    "start_time": "2022-09-21T19:47:18.337Z"
   },
   {
    "duration": 9,
    "start_time": "2022-09-21T19:47:20.418Z"
   },
   {
    "duration": 7,
    "start_time": "2022-09-21T19:47:20.429Z"
   },
   {
    "duration": 24,
    "start_time": "2022-09-21T19:47:20.437Z"
   },
   {
    "duration": 6,
    "start_time": "2022-09-21T19:47:20.462Z"
   },
   {
    "duration": 12,
    "start_time": "2022-09-21T19:47:20.469Z"
   },
   {
    "duration": 10,
    "start_time": "2022-09-21T19:47:20.482Z"
   },
   {
    "duration": 15,
    "start_time": "2022-09-21T19:47:20.494Z"
   },
   {
    "duration": 11,
    "start_time": "2022-09-21T19:47:20.511Z"
   },
   {
    "duration": 10,
    "start_time": "2022-09-21T19:47:20.524Z"
   },
   {
    "duration": 14,
    "start_time": "2022-09-21T19:47:20.535Z"
   },
   {
    "duration": 25,
    "start_time": "2022-09-21T19:47:20.552Z"
   },
   {
    "duration": 19,
    "start_time": "2022-09-21T19:47:20.579Z"
   },
   {
    "duration": 33,
    "start_time": "2022-09-21T19:47:20.600Z"
   },
   {
    "duration": 7,
    "start_time": "2022-09-21T19:47:20.635Z"
   },
   {
    "duration": 275,
    "start_time": "2022-09-21T19:47:20.643Z"
   },
   {
    "duration": 70,
    "start_time": "2022-09-21T19:47:20.919Z"
   },
   {
    "duration": 6,
    "start_time": "2022-09-21T19:47:20.991Z"
   },
   {
    "duration": 9,
    "start_time": "2022-09-21T19:47:20.999Z"
   },
   {
    "duration": 6,
    "start_time": "2022-09-21T19:47:21.009Z"
   },
   {
    "duration": 11,
    "start_time": "2022-09-21T19:47:21.017Z"
   },
   {
    "duration": 6,
    "start_time": "2022-09-21T19:47:21.030Z"
   },
   {
    "duration": 6,
    "start_time": "2022-09-21T19:47:21.038Z"
   },
   {
    "duration": 33,
    "start_time": "2022-09-21T19:47:21.046Z"
   },
   {
    "duration": 5,
    "start_time": "2022-09-21T19:47:21.081Z"
   },
   {
    "duration": 11,
    "start_time": "2022-09-21T19:47:21.088Z"
   },
   {
    "duration": 55,
    "start_time": "2022-09-21T19:47:21.102Z"
   },
   {
    "duration": 18,
    "start_time": "2022-09-21T19:47:21.159Z"
   },
   {
    "duration": 9,
    "start_time": "2022-09-21T19:47:21.178Z"
   },
   {
    "duration": 7,
    "start_time": "2022-09-21T19:47:21.188Z"
   },
   {
    "duration": 8,
    "start_time": "2022-09-21T19:47:21.197Z"
   },
   {
    "duration": 269,
    "start_time": "2022-09-21T19:47:21.207Z"
   },
   {
    "duration": 5,
    "start_time": "2022-09-21T19:47:21.478Z"
   },
   {
    "duration": 269,
    "start_time": "2022-09-21T19:47:21.676Z"
   },
   {
    "duration": 174,
    "start_time": "2022-09-21T19:47:21.946Z"
   },
   {
    "duration": 187,
    "start_time": "2022-09-21T19:47:22.121Z"
   },
   {
    "duration": 169,
    "start_time": "2022-09-21T19:47:22.309Z"
   },
   {
    "duration": 191,
    "start_time": "2022-09-21T19:47:22.482Z"
   },
   {
    "duration": 182,
    "start_time": "2022-09-21T19:47:22.676Z"
   },
   {
    "duration": 165,
    "start_time": "2022-09-21T19:47:22.860Z"
   },
   {
    "duration": 207,
    "start_time": "2022-09-21T19:47:23.027Z"
   },
   {
    "duration": 193,
    "start_time": "2022-09-21T19:47:23.236Z"
   },
   {
    "duration": 185,
    "start_time": "2022-09-21T19:47:23.430Z"
   },
   {
    "duration": 199,
    "start_time": "2022-09-21T19:47:23.617Z"
   },
   {
    "duration": 269,
    "start_time": "2022-09-21T19:47:23.817Z"
   },
   {
    "duration": 178,
    "start_time": "2022-09-21T19:47:24.088Z"
   },
   {
    "duration": 199,
    "start_time": "2022-09-21T19:47:24.267Z"
   },
   {
    "duration": 8,
    "start_time": "2022-09-21T19:47:24.468Z"
   },
   {
    "duration": 16766,
    "start_time": "2022-09-21T19:47:24.478Z"
   },
   {
    "duration": 6,
    "start_time": "2022-09-21T19:47:41.245Z"
   },
   {
    "duration": 13133,
    "start_time": "2022-09-21T19:47:41.252Z"
   },
   {
    "duration": 6,
    "start_time": "2022-09-21T19:47:54.387Z"
   },
   {
    "duration": 7955,
    "start_time": "2022-09-21T19:47:54.395Z"
   },
   {
    "duration": 6,
    "start_time": "2022-09-21T19:48:02.351Z"
   },
   {
    "duration": 139,
    "start_time": "2022-09-21T19:48:02.358Z"
   },
   {
    "duration": 4,
    "start_time": "2022-09-21T19:48:02.499Z"
   },
   {
    "duration": 140,
    "start_time": "2022-09-21T19:48:02.504Z"
   },
   {
    "duration": 147,
    "start_time": "2022-09-21T19:48:02.645Z"
   },
   {
    "duration": 173,
    "start_time": "2022-09-21T19:48:02.794Z"
   },
   {
    "duration": 141,
    "start_time": "2022-09-21T19:48:02.968Z"
   },
   {
    "duration": 19,
    "start_time": "2022-09-21T19:48:03.111Z"
   },
   {
    "duration": 7,
    "start_time": "2022-09-21T19:48:03.132Z"
   },
   {
    "duration": 9,
    "start_time": "2022-09-21T19:48:03.140Z"
   },
   {
    "duration": 299,
    "start_time": "2022-09-21T19:48:03.150Z"
   },
   {
    "duration": 165,
    "start_time": "2022-09-21T19:52:23.467Z"
   },
   {
    "duration": 491,
    "start_time": "2022-09-21T20:11:18.146Z"
   },
   {
    "duration": 14,
    "start_time": "2022-09-21T20:11:18.640Z"
   },
   {
    "duration": 1884,
    "start_time": "2022-09-21T20:11:18.656Z"
   },
   {
    "duration": 9,
    "start_time": "2022-09-21T20:11:20.542Z"
   },
   {
    "duration": 7,
    "start_time": "2022-09-21T20:11:20.553Z"
   },
   {
    "duration": 15,
    "start_time": "2022-09-21T20:11:20.562Z"
   },
   {
    "duration": 6,
    "start_time": "2022-09-21T20:11:20.579Z"
   },
   {
    "duration": 32,
    "start_time": "2022-09-21T20:11:20.586Z"
   },
   {
    "duration": 11,
    "start_time": "2022-09-21T20:11:20.620Z"
   },
   {
    "duration": 14,
    "start_time": "2022-09-21T20:11:20.633Z"
   },
   {
    "duration": 16,
    "start_time": "2022-09-21T20:11:20.649Z"
   },
   {
    "duration": 17,
    "start_time": "2022-09-21T20:11:20.666Z"
   },
   {
    "duration": 36,
    "start_time": "2022-09-21T20:11:20.684Z"
   },
   {
    "duration": 7,
    "start_time": "2022-09-21T20:11:20.722Z"
   },
   {
    "duration": 13,
    "start_time": "2022-09-21T20:11:20.730Z"
   },
   {
    "duration": 15,
    "start_time": "2022-09-21T20:11:20.744Z"
   },
   {
    "duration": 21,
    "start_time": "2022-09-21T20:11:20.761Z"
   },
   {
    "duration": 306,
    "start_time": "2022-09-21T20:11:20.784Z"
   },
   {
    "duration": 63,
    "start_time": "2022-09-21T20:11:21.092Z"
   },
   {
    "duration": 6,
    "start_time": "2022-09-21T20:11:21.156Z"
   },
   {
    "duration": 6,
    "start_time": "2022-09-21T20:11:21.163Z"
   },
   {
    "duration": 6,
    "start_time": "2022-09-21T20:11:21.170Z"
   },
   {
    "duration": 34,
    "start_time": "2022-09-21T20:11:21.178Z"
   },
   {
    "duration": 6,
    "start_time": "2022-09-21T20:11:21.213Z"
   },
   {
    "duration": 7,
    "start_time": "2022-09-21T20:11:21.220Z"
   },
   {
    "duration": 5,
    "start_time": "2022-09-21T20:11:21.228Z"
   },
   {
    "duration": 5,
    "start_time": "2022-09-21T20:11:21.234Z"
   },
   {
    "duration": 6,
    "start_time": "2022-09-21T20:11:21.242Z"
   },
   {
    "duration": 76,
    "start_time": "2022-09-21T20:11:21.249Z"
   },
   {
    "duration": 4,
    "start_time": "2022-09-21T20:11:21.327Z"
   },
   {
    "duration": 8,
    "start_time": "2022-09-21T20:11:21.332Z"
   },
   {
    "duration": 5,
    "start_time": "2022-09-21T20:11:21.341Z"
   },
   {
    "duration": 4,
    "start_time": "2022-09-21T20:11:21.347Z"
   },
   {
    "duration": 304,
    "start_time": "2022-09-21T20:11:21.352Z"
   },
   {
    "duration": 5,
    "start_time": "2022-09-21T20:11:21.658Z"
   },
   {
    "duration": 172,
    "start_time": "2022-09-21T20:11:21.664Z"
   },
   {
    "duration": 233,
    "start_time": "2022-09-21T20:11:21.838Z"
   },
   {
    "duration": 157,
    "start_time": "2022-09-21T20:11:22.073Z"
   },
   {
    "duration": 171,
    "start_time": "2022-09-21T20:11:22.232Z"
   },
   {
    "duration": 152,
    "start_time": "2022-09-21T20:11:22.404Z"
   },
   {
    "duration": 172,
    "start_time": "2022-09-21T20:11:22.557Z"
   },
   {
    "duration": 162,
    "start_time": "2022-09-21T20:11:22.731Z"
   },
   {
    "duration": 154,
    "start_time": "2022-09-21T20:11:22.894Z"
   },
   {
    "duration": 167,
    "start_time": "2022-09-21T20:11:23.049Z"
   },
   {
    "duration": 180,
    "start_time": "2022-09-21T20:11:23.217Z"
   },
   {
    "duration": 155,
    "start_time": "2022-09-21T20:11:23.399Z"
   },
   {
    "duration": 159,
    "start_time": "2022-09-21T20:11:23.556Z"
   },
   {
    "duration": 227,
    "start_time": "2022-09-21T20:11:23.717Z"
   },
   {
    "duration": 171,
    "start_time": "2022-09-21T20:11:23.945Z"
   },
   {
    "duration": 175,
    "start_time": "2022-09-21T20:11:24.118Z"
   },
   {
    "duration": 3,
    "start_time": "2022-09-21T20:11:24.294Z"
   },
   {
    "duration": 14245,
    "start_time": "2022-09-21T20:11:24.299Z"
   },
   {
    "duration": 5,
    "start_time": "2022-09-21T20:11:38.546Z"
   },
   {
    "duration": 11564,
    "start_time": "2022-09-21T20:11:38.552Z"
   },
   {
    "duration": 7,
    "start_time": "2022-09-21T20:11:50.118Z"
   },
   {
    "duration": 6990,
    "start_time": "2022-09-21T20:11:50.126Z"
   },
   {
    "duration": 7,
    "start_time": "2022-09-21T20:11:57.117Z"
   },
   {
    "duration": 139,
    "start_time": "2022-09-21T20:11:57.125Z"
   },
   {
    "duration": 5,
    "start_time": "2022-09-21T20:11:57.266Z"
   },
   {
    "duration": 128,
    "start_time": "2022-09-21T20:11:57.273Z"
   },
   {
    "duration": 134,
    "start_time": "2022-09-21T20:11:57.408Z"
   },
   {
    "duration": 157,
    "start_time": "2022-09-21T20:11:57.544Z"
   },
   {
    "duration": 133,
    "start_time": "2022-09-21T20:11:57.702Z"
   },
   {
    "duration": 19,
    "start_time": "2022-09-21T20:11:57.837Z"
   },
   {
    "duration": 7,
    "start_time": "2022-09-21T20:11:57.857Z"
   },
   {
    "duration": 7,
    "start_time": "2022-09-21T20:11:57.866Z"
   },
   {
    "duration": 278,
    "start_time": "2022-09-21T20:11:57.875Z"
   },
   {
    "duration": 512,
    "start_time": "2022-09-22T19:14:14.953Z"
   },
   {
    "duration": 14,
    "start_time": "2022-09-22T19:14:15.467Z"
   },
   {
    "duration": 2333,
    "start_time": "2022-09-22T19:14:15.483Z"
   },
   {
    "duration": 11,
    "start_time": "2022-09-22T19:14:17.819Z"
   },
   {
    "duration": 9,
    "start_time": "2022-09-22T19:14:17.831Z"
   },
   {
    "duration": 18,
    "start_time": "2022-09-22T19:14:17.842Z"
   },
   {
    "duration": 7,
    "start_time": "2022-09-22T19:14:17.862Z"
   },
   {
    "duration": 12,
    "start_time": "2022-09-22T19:14:17.870Z"
   },
   {
    "duration": 15,
    "start_time": "2022-09-22T19:14:17.884Z"
   },
   {
    "duration": 9,
    "start_time": "2022-09-22T19:14:17.902Z"
   },
   {
    "duration": 6,
    "start_time": "2022-09-22T19:14:17.912Z"
   },
   {
    "duration": 10,
    "start_time": "2022-09-22T19:14:17.919Z"
   },
   {
    "duration": 15,
    "start_time": "2022-09-22T19:14:17.931Z"
   },
   {
    "duration": 8,
    "start_time": "2022-09-22T19:14:17.948Z"
   },
   {
    "duration": 42,
    "start_time": "2022-09-22T19:14:17.957Z"
   },
   {
    "duration": 17,
    "start_time": "2022-09-22T19:14:18.001Z"
   },
   {
    "duration": 8,
    "start_time": "2022-09-22T19:14:18.020Z"
   },
   {
    "duration": 317,
    "start_time": "2022-09-22T19:14:18.030Z"
   },
   {
    "duration": 71,
    "start_time": "2022-09-22T19:14:18.349Z"
   },
   {
    "duration": 7,
    "start_time": "2022-09-22T19:14:18.422Z"
   },
   {
    "duration": 7,
    "start_time": "2022-09-22T19:14:18.431Z"
   },
   {
    "duration": 8,
    "start_time": "2022-09-22T19:14:18.439Z"
   },
   {
    "duration": 12,
    "start_time": "2022-09-22T19:14:18.448Z"
   },
   {
    "duration": 37,
    "start_time": "2022-09-22T19:14:18.462Z"
   },
   {
    "duration": 5,
    "start_time": "2022-09-22T19:14:18.501Z"
   },
   {
    "duration": 5,
    "start_time": "2022-09-22T19:14:18.508Z"
   },
   {
    "duration": 5,
    "start_time": "2022-09-22T19:14:18.514Z"
   },
   {
    "duration": 6,
    "start_time": "2022-09-22T19:14:18.523Z"
   },
   {
    "duration": 76,
    "start_time": "2022-09-22T19:14:18.530Z"
   },
   {
    "duration": 4,
    "start_time": "2022-09-22T19:14:18.607Z"
   },
   {
    "duration": 8,
    "start_time": "2022-09-22T19:14:18.612Z"
   },
   {
    "duration": 5,
    "start_time": "2022-09-22T19:14:18.621Z"
   },
   {
    "duration": 12,
    "start_time": "2022-09-22T19:14:18.627Z"
   },
   {
    "duration": 284,
    "start_time": "2022-09-22T19:14:18.641Z"
   },
   {
    "duration": 5,
    "start_time": "2022-09-22T19:14:18.926Z"
   },
   {
    "duration": 196,
    "start_time": "2022-09-22T19:14:18.932Z"
   },
   {
    "duration": 287,
    "start_time": "2022-09-22T19:14:19.130Z"
   },
   {
    "duration": 190,
    "start_time": "2022-09-22T19:14:19.418Z"
   },
   {
    "duration": 197,
    "start_time": "2022-09-22T19:14:19.610Z"
   },
   {
    "duration": 179,
    "start_time": "2022-09-22T19:14:19.808Z"
   },
   {
    "duration": 202,
    "start_time": "2022-09-22T19:14:19.989Z"
   },
   {
    "duration": 192,
    "start_time": "2022-09-22T19:14:20.195Z"
   },
   {
    "duration": 166,
    "start_time": "2022-09-22T19:14:20.389Z"
   },
   {
    "duration": 188,
    "start_time": "2022-09-22T19:14:20.557Z"
   },
   {
    "duration": 200,
    "start_time": "2022-09-22T19:14:20.747Z"
   },
   {
    "duration": 188,
    "start_time": "2022-09-22T19:14:20.949Z"
   },
   {
    "duration": 193,
    "start_time": "2022-09-22T19:14:21.139Z"
   },
   {
    "duration": 290,
    "start_time": "2022-09-22T19:14:21.335Z"
   },
   {
    "duration": 190,
    "start_time": "2022-09-22T19:14:21.627Z"
   },
   {
    "duration": 216,
    "start_time": "2022-09-22T19:14:21.819Z"
   },
   {
    "duration": 3,
    "start_time": "2022-09-22T19:14:22.037Z"
   },
   {
    "duration": 17302,
    "start_time": "2022-09-22T19:14:22.042Z"
   },
   {
    "duration": 6,
    "start_time": "2022-09-22T19:14:39.345Z"
   },
   {
    "duration": 14122,
    "start_time": "2022-09-22T19:14:39.353Z"
   },
   {
    "duration": 6,
    "start_time": "2022-09-22T19:14:53.477Z"
   },
   {
    "duration": 8510,
    "start_time": "2022-09-22T19:14:53.496Z"
   },
   {
    "duration": 6,
    "start_time": "2022-09-22T19:15:02.009Z"
   },
   {
    "duration": 170,
    "start_time": "2022-09-22T19:15:02.017Z"
   },
   {
    "duration": 10,
    "start_time": "2022-09-22T19:15:02.189Z"
   },
   {
    "duration": 146,
    "start_time": "2022-09-22T19:15:02.201Z"
   },
   {
    "duration": 156,
    "start_time": "2022-09-22T19:15:02.349Z"
   },
   {
    "duration": 190,
    "start_time": "2022-09-22T19:15:02.508Z"
   },
   {
    "duration": 165,
    "start_time": "2022-09-22T19:15:02.700Z"
   },
   {
    "duration": 29,
    "start_time": "2022-09-22T19:15:02.867Z"
   },
   {
    "duration": 10,
    "start_time": "2022-09-22T19:15:02.898Z"
   },
   {
    "duration": 26,
    "start_time": "2022-09-22T19:15:02.910Z"
   },
   {
    "duration": 313,
    "start_time": "2022-09-22T19:15:02.938Z"
   },
   {
    "duration": 16,
    "start_time": "2022-09-22T19:35:05.249Z"
   },
   {
    "duration": 7,
    "start_time": "2022-09-22T19:35:50.404Z"
   },
   {
    "duration": 438,
    "start_time": "2022-09-23T09:03:07.074Z"
   },
   {
    "duration": 184,
    "start_time": "2022-09-23T09:03:07.514Z"
   },
   {
    "duration": 16,
    "start_time": "2022-09-23T09:03:07.700Z"
   },
   {
    "duration": 2398,
    "start_time": "2022-09-23T09:03:07.718Z"
   },
   {
    "duration": 11,
    "start_time": "2022-09-23T09:03:10.118Z"
   },
   {
    "duration": 8,
    "start_time": "2022-09-23T09:03:10.130Z"
   },
   {
    "duration": 35,
    "start_time": "2022-09-23T09:03:10.140Z"
   },
   {
    "duration": 7,
    "start_time": "2022-09-23T09:03:10.177Z"
   },
   {
    "duration": 40,
    "start_time": "2022-09-23T09:03:10.186Z"
   },
   {
    "duration": 28,
    "start_time": "2022-09-23T09:03:10.229Z"
   },
   {
    "duration": 29,
    "start_time": "2022-09-23T09:03:10.259Z"
   },
   {
    "duration": 21,
    "start_time": "2022-09-23T09:03:10.289Z"
   },
   {
    "duration": 22,
    "start_time": "2022-09-23T09:03:10.312Z"
   },
   {
    "duration": 17,
    "start_time": "2022-09-23T09:03:10.336Z"
   },
   {
    "duration": 12,
    "start_time": "2022-09-23T09:03:10.354Z"
   },
   {
    "duration": 10,
    "start_time": "2022-09-23T09:03:10.368Z"
   },
   {
    "duration": 18,
    "start_time": "2022-09-23T09:03:10.379Z"
   },
   {
    "duration": 9,
    "start_time": "2022-09-23T09:03:10.398Z"
   },
   {
    "duration": 294,
    "start_time": "2022-09-23T09:03:10.408Z"
   },
   {
    "duration": 65,
    "start_time": "2022-09-23T09:03:10.703Z"
   },
   {
    "duration": 6,
    "start_time": "2022-09-23T09:03:10.770Z"
   },
   {
    "duration": 22,
    "start_time": "2022-09-23T09:03:10.777Z"
   },
   {
    "duration": 28,
    "start_time": "2022-09-23T09:03:10.801Z"
   },
   {
    "duration": 21,
    "start_time": "2022-09-23T09:03:10.830Z"
   },
   {
    "duration": 12,
    "start_time": "2022-09-23T09:03:10.852Z"
   },
   {
    "duration": 14,
    "start_time": "2022-09-23T09:03:10.866Z"
   },
   {
    "duration": 18,
    "start_time": "2022-09-23T09:03:10.881Z"
   },
   {
    "duration": 13,
    "start_time": "2022-09-23T09:03:10.902Z"
   },
   {
    "duration": 9,
    "start_time": "2022-09-23T09:03:10.916Z"
   },
   {
    "duration": 66,
    "start_time": "2022-09-23T09:03:10.926Z"
   },
   {
    "duration": 4,
    "start_time": "2022-09-23T09:03:10.994Z"
   },
   {
    "duration": 16,
    "start_time": "2022-09-23T09:03:10.999Z"
   },
   {
    "duration": 26,
    "start_time": "2022-09-23T09:03:11.016Z"
   },
   {
    "duration": 17,
    "start_time": "2022-09-23T09:03:11.044Z"
   },
   {
    "duration": 266,
    "start_time": "2022-09-23T09:03:11.062Z"
   },
   {
    "duration": 4,
    "start_time": "2022-09-23T09:03:11.329Z"
   },
   {
    "duration": 291,
    "start_time": "2022-09-23T09:03:11.335Z"
   },
   {
    "duration": 204,
    "start_time": "2022-09-23T09:03:11.628Z"
   },
   {
    "duration": 190,
    "start_time": "2022-09-23T09:03:11.833Z"
   },
   {
    "duration": 196,
    "start_time": "2022-09-23T09:03:12.025Z"
   },
   {
    "duration": 182,
    "start_time": "2022-09-23T09:03:12.223Z"
   },
   {
    "duration": 204,
    "start_time": "2022-09-23T09:03:12.407Z"
   },
   {
    "duration": 194,
    "start_time": "2022-09-23T09:03:12.612Z"
   },
   {
    "duration": 195,
    "start_time": "2022-09-23T09:03:12.808Z"
   },
   {
    "duration": 189,
    "start_time": "2022-09-23T09:03:13.004Z"
   },
   {
    "duration": 187,
    "start_time": "2022-09-23T09:03:13.195Z"
   },
   {
    "duration": 277,
    "start_time": "2022-09-23T09:03:13.384Z"
   },
   {
    "duration": 192,
    "start_time": "2022-09-23T09:03:13.663Z"
   },
   {
    "duration": 191,
    "start_time": "2022-09-23T09:03:13.857Z"
   },
   {
    "duration": 191,
    "start_time": "2022-09-23T09:03:14.050Z"
   },
   {
    "duration": 197,
    "start_time": "2022-09-23T09:03:14.242Z"
   },
   {
    "duration": 2,
    "start_time": "2022-09-23T09:03:14.441Z"
   },
   {
    "duration": 16952,
    "start_time": "2022-09-23T09:03:14.444Z"
   },
   {
    "duration": 6,
    "start_time": "2022-09-23T09:03:31.398Z"
   },
   {
    "duration": 13673,
    "start_time": "2022-09-23T09:03:31.405Z"
   },
   {
    "duration": 18,
    "start_time": "2022-09-23T09:03:45.079Z"
   },
   {
    "duration": 8545,
    "start_time": "2022-09-23T09:03:45.099Z"
   },
   {
    "duration": 6,
    "start_time": "2022-09-23T09:03:53.645Z"
   },
   {
    "duration": 166,
    "start_time": "2022-09-23T09:03:53.653Z"
   },
   {
    "duration": 5,
    "start_time": "2022-09-23T09:03:53.821Z"
   },
   {
    "duration": 143,
    "start_time": "2022-09-23T09:03:53.828Z"
   },
   {
    "duration": 153,
    "start_time": "2022-09-23T09:03:53.973Z"
   },
   {
    "duration": 196,
    "start_time": "2022-09-23T09:03:54.127Z"
   },
   {
    "duration": 146,
    "start_time": "2022-09-23T09:03:54.325Z"
   },
   {
    "duration": 29,
    "start_time": "2022-09-23T09:03:54.472Z"
   },
   {
    "duration": 9,
    "start_time": "2022-09-23T09:03:54.502Z"
   },
   {
    "duration": 20,
    "start_time": "2022-09-23T09:03:54.513Z"
   },
   {
    "duration": 291,
    "start_time": "2022-09-23T09:03:54.535Z"
   },
   {
    "duration": 425,
    "start_time": "2022-09-23T09:11:21.870Z"
   },
   {
    "duration": 135,
    "start_time": "2022-09-23T09:11:22.297Z"
   },
   {
    "duration": 15,
    "start_time": "2022-09-23T09:11:22.434Z"
   },
   {
    "duration": 2165,
    "start_time": "2022-09-23T09:11:22.451Z"
   },
   {
    "duration": 9,
    "start_time": "2022-09-23T09:11:24.618Z"
   },
   {
    "duration": 7,
    "start_time": "2022-09-23T09:11:24.629Z"
   },
   {
    "duration": 16,
    "start_time": "2022-09-23T09:11:24.637Z"
   },
   {
    "duration": 6,
    "start_time": "2022-09-23T09:11:24.655Z"
   },
   {
    "duration": 12,
    "start_time": "2022-09-23T09:11:24.663Z"
   },
   {
    "duration": 28,
    "start_time": "2022-09-23T09:11:24.678Z"
   },
   {
    "duration": 11,
    "start_time": "2022-09-23T09:11:24.708Z"
   },
   {
    "duration": 6,
    "start_time": "2022-09-23T09:11:24.721Z"
   },
   {
    "duration": 10,
    "start_time": "2022-09-23T09:11:24.729Z"
   },
   {
    "duration": 15,
    "start_time": "2022-09-23T09:11:24.741Z"
   },
   {
    "duration": 9,
    "start_time": "2022-09-23T09:11:24.758Z"
   },
   {
    "duration": 9,
    "start_time": "2022-09-23T09:11:24.794Z"
   },
   {
    "duration": 15,
    "start_time": "2022-09-23T09:11:24.805Z"
   },
   {
    "duration": 8,
    "start_time": "2022-09-23T09:11:24.822Z"
   },
   {
    "duration": 303,
    "start_time": "2022-09-23T09:11:24.832Z"
   },
   {
    "duration": 76,
    "start_time": "2022-09-23T09:11:25.136Z"
   },
   {
    "duration": 7,
    "start_time": "2022-09-23T09:11:25.214Z"
   },
   {
    "duration": 8,
    "start_time": "2022-09-23T09:11:25.222Z"
   },
   {
    "duration": 6,
    "start_time": "2022-09-23T09:11:25.232Z"
   },
   {
    "duration": 11,
    "start_time": "2022-09-23T09:11:25.239Z"
   },
   {
    "duration": 92,
    "start_time": "2022-09-23T09:11:25.252Z"
   },
   {
    "duration": 5,
    "start_time": "2022-09-23T09:11:25.346Z"
   },
   {
    "duration": 19,
    "start_time": "2022-09-23T09:11:25.353Z"
   },
   {
    "duration": 6,
    "start_time": "2022-09-23T09:11:25.376Z"
   },
   {
    "duration": 15,
    "start_time": "2022-09-23T09:11:25.384Z"
   },
   {
    "duration": 442,
    "start_time": "2022-09-23T09:11:25.400Z"
   },
   {
    "duration": 6,
    "start_time": "2022-09-23T09:11:25.844Z"
   },
   {
    "duration": 285,
    "start_time": "2022-09-23T09:11:25.851Z"
   },
   {
    "duration": 252,
    "start_time": "2022-09-23T09:11:26.138Z"
   },
   {
    "duration": 217,
    "start_time": "2022-09-23T09:11:26.395Z"
   },
   {
    "duration": 230,
    "start_time": "2022-09-23T09:11:26.614Z"
   },
   {
    "duration": 191,
    "start_time": "2022-09-23T09:11:26.846Z"
   },
   {
    "duration": 187,
    "start_time": "2022-09-23T09:11:27.040Z"
   },
   {
    "duration": 185,
    "start_time": "2022-09-23T09:11:27.229Z"
   },
   {
    "duration": 195,
    "start_time": "2022-09-23T09:11:27.416Z"
   },
   {
    "duration": 175,
    "start_time": "2022-09-23T09:11:27.612Z"
   },
   {
    "duration": 183,
    "start_time": "2022-09-23T09:11:27.796Z"
   },
   {
    "duration": 270,
    "start_time": "2022-09-23T09:11:27.981Z"
   },
   {
    "duration": 185,
    "start_time": "2022-09-23T09:11:28.253Z"
   },
   {
    "duration": 185,
    "start_time": "2022-09-23T09:11:28.440Z"
   },
   {
    "duration": 180,
    "start_time": "2022-09-23T09:11:28.627Z"
   },
   {
    "duration": 207,
    "start_time": "2022-09-23T09:11:28.809Z"
   },
   {
    "duration": 3,
    "start_time": "2022-09-23T09:11:29.018Z"
   },
   {
    "duration": 22779,
    "start_time": "2022-09-23T09:11:29.022Z"
   },
   {
    "duration": 6,
    "start_time": "2022-09-23T09:11:51.802Z"
   },
   {
    "duration": 18680,
    "start_time": "2022-09-23T09:11:51.809Z"
   },
   {
    "duration": 7,
    "start_time": "2022-09-23T09:12:10.491Z"
   },
   {
    "duration": 11368,
    "start_time": "2022-09-23T09:12:10.499Z"
   },
   {
    "duration": 6,
    "start_time": "2022-09-23T09:12:21.868Z"
   },
   {
    "duration": 169,
    "start_time": "2022-09-23T09:12:21.876Z"
   },
   {
    "duration": 6,
    "start_time": "2022-09-23T09:12:22.047Z"
   },
   {
    "duration": 152,
    "start_time": "2022-09-23T09:12:22.055Z"
   },
   {
    "duration": 346,
    "start_time": "2022-09-23T09:12:22.209Z"
   },
   {
    "duration": 189,
    "start_time": "2022-09-23T09:12:22.557Z"
   },
   {
    "duration": 156,
    "start_time": "2022-09-23T09:12:22.747Z"
   },
   {
    "duration": 26,
    "start_time": "2022-09-23T09:12:22.906Z"
   },
   {
    "duration": 9,
    "start_time": "2022-09-23T09:12:22.934Z"
   },
   {
    "duration": 16,
    "start_time": "2022-09-23T09:12:22.944Z"
   },
   {
    "duration": 333,
    "start_time": "2022-09-23T09:12:22.962Z"
   },
   {
    "duration": 189,
    "start_time": "2022-09-23T09:14:03.450Z"
   },
   {
    "duration": 168,
    "start_time": "2022-09-23T09:16:15.420Z"
   },
   {
    "duration": 188,
    "start_time": "2022-09-23T09:16:27.956Z"
   },
   {
    "duration": 209,
    "start_time": "2022-09-23T09:16:41.520Z"
   },
   {
    "duration": 177,
    "start_time": "2022-09-23T09:16:45.032Z"
   },
   {
    "duration": 264,
    "start_time": "2022-09-23T09:16:54.697Z"
   },
   {
    "duration": 73,
    "start_time": "2022-09-23T09:18:54.971Z"
   },
   {
    "duration": 131,
    "start_time": "2022-09-23T09:19:01.105Z"
   },
   {
    "duration": 142,
    "start_time": "2022-09-23T09:21:11.677Z"
   },
   {
    "duration": 193,
    "start_time": "2022-09-23T09:28:30.181Z"
   },
   {
    "duration": 195,
    "start_time": "2022-09-23T09:29:55.214Z"
   },
   {
    "duration": 181,
    "start_time": "2022-09-23T09:30:00.047Z"
   },
   {
    "duration": 194,
    "start_time": "2022-09-23T09:30:46.403Z"
   },
   {
    "duration": 76,
    "start_time": "2022-09-23T09:31:04.400Z"
   },
   {
    "duration": 162,
    "start_time": "2022-09-23T09:31:08.734Z"
   },
   {
    "duration": 414,
    "start_time": "2022-09-23T09:45:38.089Z"
   },
   {
    "duration": 136,
    "start_time": "2022-09-23T09:45:38.505Z"
   },
   {
    "duration": 16,
    "start_time": "2022-09-23T09:45:38.643Z"
   },
   {
    "duration": 2259,
    "start_time": "2022-09-23T09:45:38.661Z"
   },
   {
    "duration": 10,
    "start_time": "2022-09-23T09:45:40.923Z"
   },
   {
    "duration": 5,
    "start_time": "2022-09-23T09:45:40.935Z"
   },
   {
    "duration": 16,
    "start_time": "2022-09-23T09:45:40.941Z"
   },
   {
    "duration": 6,
    "start_time": "2022-09-23T09:45:40.959Z"
   },
   {
    "duration": 11,
    "start_time": "2022-09-23T09:45:40.966Z"
   },
   {
    "duration": 23,
    "start_time": "2022-09-23T09:45:40.980Z"
   },
   {
    "duration": 9,
    "start_time": "2022-09-23T09:45:41.005Z"
   },
   {
    "duration": 6,
    "start_time": "2022-09-23T09:45:41.016Z"
   },
   {
    "duration": 24,
    "start_time": "2022-09-23T09:45:41.025Z"
   },
   {
    "duration": 16,
    "start_time": "2022-09-23T09:45:41.050Z"
   },
   {
    "duration": 8,
    "start_time": "2022-09-23T09:45:41.067Z"
   },
   {
    "duration": 8,
    "start_time": "2022-09-23T09:45:41.096Z"
   },
   {
    "duration": 17,
    "start_time": "2022-09-23T09:45:41.105Z"
   },
   {
    "duration": 6,
    "start_time": "2022-09-23T09:45:41.124Z"
   },
   {
    "duration": 323,
    "start_time": "2022-09-23T09:45:41.132Z"
   },
   {
    "duration": 76,
    "start_time": "2022-09-23T09:45:41.456Z"
   },
   {
    "duration": 8,
    "start_time": "2022-09-23T09:45:41.534Z"
   },
   {
    "duration": 6,
    "start_time": "2022-09-23T09:45:41.544Z"
   },
   {
    "duration": 7,
    "start_time": "2022-09-23T09:45:41.552Z"
   },
   {
    "duration": 38,
    "start_time": "2022-09-23T09:45:41.561Z"
   },
   {
    "duration": 65,
    "start_time": "2022-09-23T09:45:41.601Z"
   },
   {
    "duration": 5,
    "start_time": "2022-09-23T09:45:41.667Z"
   },
   {
    "duration": 24,
    "start_time": "2022-09-23T09:45:41.674Z"
   },
   {
    "duration": 6,
    "start_time": "2022-09-23T09:45:41.703Z"
   },
   {
    "duration": 8,
    "start_time": "2022-09-23T09:45:41.711Z"
   },
   {
    "duration": 452,
    "start_time": "2022-09-23T09:45:41.721Z"
   },
   {
    "duration": 6,
    "start_time": "2022-09-23T09:45:42.175Z"
   },
   {
    "duration": 291,
    "start_time": "2022-09-23T09:45:42.183Z"
   },
   {
    "duration": 216,
    "start_time": "2022-09-23T09:45:42.476Z"
   },
   {
    "duration": 213,
    "start_time": "2022-09-23T09:45:42.694Z"
   },
   {
    "duration": 189,
    "start_time": "2022-09-23T09:45:42.908Z"
   },
   {
    "duration": 153,
    "start_time": "2022-09-23T09:45:43.099Z"
   },
   {
    "duration": 189,
    "start_time": "2022-09-23T09:45:43.254Z"
   },
   {
    "duration": 182,
    "start_time": "2022-09-23T09:45:43.445Z"
   },
   {
    "duration": 130,
    "start_time": "2022-09-23T09:45:43.629Z"
   },
   {
    "duration": 183,
    "start_time": "2022-09-23T09:45:43.761Z"
   },
   {
    "duration": 186,
    "start_time": "2022-09-23T09:45:43.946Z"
   },
   {
    "duration": 269,
    "start_time": "2022-09-23T09:45:44.133Z"
   },
   {
    "duration": 180,
    "start_time": "2022-09-23T09:45:44.404Z"
   },
   {
    "duration": 186,
    "start_time": "2022-09-23T09:45:44.585Z"
   },
   {
    "duration": 189,
    "start_time": "2022-09-23T09:45:44.772Z"
   },
   {
    "duration": 208,
    "start_time": "2022-09-23T09:45:44.963Z"
   },
   {
    "duration": 3,
    "start_time": "2022-09-23T09:45:45.172Z"
   },
   {
    "duration": 187,
    "start_time": "2022-09-23T09:45:45.177Z"
   },
   {
    "duration": 5,
    "start_time": "2022-09-23T09:45:45.366Z"
   },
   {
    "duration": 179,
    "start_time": "2022-09-23T09:45:45.372Z"
   },
   {
    "duration": 4,
    "start_time": "2022-09-23T09:45:45.553Z"
   },
   {
    "duration": 163,
    "start_time": "2022-09-23T09:45:45.559Z"
   },
   {
    "duration": 6,
    "start_time": "2022-09-23T09:45:45.723Z"
   },
   {
    "duration": 156,
    "start_time": "2022-09-23T09:45:45.730Z"
   },
   {
    "duration": 9,
    "start_time": "2022-09-23T09:45:45.888Z"
   },
   {
    "duration": 137,
    "start_time": "2022-09-23T09:45:45.899Z"
   },
   {
    "duration": 231,
    "start_time": "2022-09-23T09:45:46.038Z"
   },
   {
    "duration": 184,
    "start_time": "2022-09-23T09:45:46.271Z"
   },
   {
    "duration": 148,
    "start_time": "2022-09-23T09:45:46.457Z"
   },
   {
    "duration": 20,
    "start_time": "2022-09-23T09:45:46.607Z"
   },
   {
    "duration": 10,
    "start_time": "2022-09-23T09:45:46.628Z"
   },
   {
    "duration": 11,
    "start_time": "2022-09-23T09:45:46.640Z"
   },
   {
    "duration": 372,
    "start_time": "2022-09-23T09:45:46.653Z"
   },
   {
    "duration": 369,
    "start_time": "2022-09-23T21:00:33.456Z"
   },
   {
    "duration": 169,
    "start_time": "2022-09-23T21:00:33.827Z"
   },
   {
    "duration": 19,
    "start_time": "2022-09-23T21:00:33.998Z"
   },
   {
    "duration": 2074,
    "start_time": "2022-09-23T21:00:34.019Z"
   },
   {
    "duration": 8,
    "start_time": "2022-09-23T21:00:36.095Z"
   },
   {
    "duration": 4,
    "start_time": "2022-09-23T21:00:36.105Z"
   },
   {
    "duration": 14,
    "start_time": "2022-09-23T21:00:36.111Z"
   },
   {
    "duration": 6,
    "start_time": "2022-09-23T21:00:36.126Z"
   },
   {
    "duration": 13,
    "start_time": "2022-09-23T21:00:36.133Z"
   },
   {
    "duration": 11,
    "start_time": "2022-09-23T21:00:36.148Z"
   },
   {
    "duration": 6,
    "start_time": "2022-09-23T21:00:36.160Z"
   },
   {
    "duration": 10,
    "start_time": "2022-09-23T21:00:36.167Z"
   },
   {
    "duration": 31,
    "start_time": "2022-09-23T21:00:36.178Z"
   },
   {
    "duration": 16,
    "start_time": "2022-09-23T21:00:36.212Z"
   },
   {
    "duration": 7,
    "start_time": "2022-09-23T21:00:36.230Z"
   },
   {
    "duration": 9,
    "start_time": "2022-09-23T21:00:36.238Z"
   },
   {
    "duration": 16,
    "start_time": "2022-09-23T21:00:36.249Z"
   },
   {
    "duration": 8,
    "start_time": "2022-09-23T21:00:36.267Z"
   },
   {
    "duration": 291,
    "start_time": "2022-09-23T21:00:36.310Z"
   },
   {
    "duration": 63,
    "start_time": "2022-09-23T21:00:36.602Z"
   },
   {
    "duration": 7,
    "start_time": "2022-09-23T21:00:36.667Z"
   },
   {
    "duration": 7,
    "start_time": "2022-09-23T21:00:36.675Z"
   },
   {
    "duration": 31,
    "start_time": "2022-09-23T21:00:36.683Z"
   },
   {
    "duration": 15,
    "start_time": "2022-09-23T21:00:36.716Z"
   },
   {
    "duration": 54,
    "start_time": "2022-09-23T21:00:36.732Z"
   },
   {
    "duration": 3,
    "start_time": "2022-09-23T21:00:36.788Z"
   },
   {
    "duration": 4,
    "start_time": "2022-09-23T21:00:36.809Z"
   },
   {
    "duration": 7,
    "start_time": "2022-09-23T21:00:36.814Z"
   },
   {
    "duration": 5,
    "start_time": "2022-09-23T21:00:36.822Z"
   },
   {
    "duration": 459,
    "start_time": "2022-09-23T21:00:36.828Z"
   },
   {
    "duration": 6,
    "start_time": "2022-09-23T21:00:37.289Z"
   },
   {
    "duration": 250,
    "start_time": "2022-09-23T21:00:37.297Z"
   },
   {
    "duration": 184,
    "start_time": "2022-09-23T21:00:37.548Z"
   },
   {
    "duration": 175,
    "start_time": "2022-09-23T21:00:37.734Z"
   },
   {
    "duration": 160,
    "start_time": "2022-09-23T21:00:37.910Z"
   },
   {
    "duration": 125,
    "start_time": "2022-09-23T21:00:38.072Z"
   },
   {
    "duration": 166,
    "start_time": "2022-09-23T21:00:38.199Z"
   },
   {
    "duration": 169,
    "start_time": "2022-09-23T21:00:38.367Z"
   },
   {
    "duration": 126,
    "start_time": "2022-09-23T21:00:38.538Z"
   },
   {
    "duration": 167,
    "start_time": "2022-09-23T21:00:38.666Z"
   },
   {
    "duration": 177,
    "start_time": "2022-09-23T21:00:38.837Z"
   },
   {
    "duration": 224,
    "start_time": "2022-09-23T21:00:39.015Z"
   },
   {
    "duration": 172,
    "start_time": "2022-09-23T21:00:39.240Z"
   },
   {
    "duration": 188,
    "start_time": "2022-09-23T21:00:39.413Z"
   },
   {
    "duration": 157,
    "start_time": "2022-09-23T21:00:39.603Z"
   },
   {
    "duration": 176,
    "start_time": "2022-09-23T21:00:39.762Z"
   },
   {
    "duration": 3,
    "start_time": "2022-09-23T21:00:39.939Z"
   },
   {
    "duration": 173,
    "start_time": "2022-09-23T21:00:39.943Z"
   },
   {
    "duration": 5,
    "start_time": "2022-09-23T21:00:40.117Z"
   },
   {
    "duration": 191,
    "start_time": "2022-09-23T21:00:40.123Z"
   },
   {
    "duration": 5,
    "start_time": "2022-09-23T21:00:40.315Z"
   },
   {
    "duration": 171,
    "start_time": "2022-09-23T21:00:40.322Z"
   },
   {
    "duration": 5,
    "start_time": "2022-09-23T21:00:40.494Z"
   },
   {
    "duration": 155,
    "start_time": "2022-09-23T21:00:40.501Z"
   },
   {
    "duration": 5,
    "start_time": "2022-09-23T21:00:40.657Z"
   },
   {
    "duration": 135,
    "start_time": "2022-09-23T21:00:40.664Z"
   },
   {
    "duration": 209,
    "start_time": "2022-09-23T21:00:40.801Z"
   },
   {
    "duration": 162,
    "start_time": "2022-09-23T21:00:41.011Z"
   },
   {
    "duration": 134,
    "start_time": "2022-09-23T21:00:41.175Z"
   },
   {
    "duration": 19,
    "start_time": "2022-09-23T21:00:41.310Z"
   },
   {
    "duration": 6,
    "start_time": "2022-09-23T21:00:41.331Z"
   },
   {
    "duration": 9,
    "start_time": "2022-09-23T21:00:41.339Z"
   },
   {
    "duration": 303,
    "start_time": "2022-09-23T21:00:41.350Z"
   },
   {
    "duration": 17,
    "start_time": "2022-09-23T21:00:52.588Z"
   },
   {
    "duration": 71,
    "start_time": "2022-09-23T21:00:58.363Z"
   },
   {
    "duration": 423,
    "start_time": "2023-02-16T18:21:57.867Z"
   },
   {
    "duration": 712,
    "start_time": "2023-02-16T18:21:58.292Z"
   },
   {
    "duration": 17,
    "start_time": "2023-02-16T18:21:59.007Z"
   },
   {
    "duration": 2537,
    "start_time": "2023-02-16T18:21:59.027Z"
   },
   {
    "duration": 10,
    "start_time": "2023-02-16T18:22:01.566Z"
   },
   {
    "duration": 26,
    "start_time": "2023-02-16T18:22:01.578Z"
   },
   {
    "duration": 33,
    "start_time": "2023-02-16T18:22:01.606Z"
   },
   {
    "duration": 10,
    "start_time": "2023-02-16T18:22:01.641Z"
   },
   {
    "duration": 30,
    "start_time": "2023-02-16T18:22:01.653Z"
   },
   {
    "duration": 31,
    "start_time": "2023-02-16T18:22:01.686Z"
   },
   {
    "duration": 26,
    "start_time": "2023-02-16T18:22:01.719Z"
   },
   {
    "duration": 39,
    "start_time": "2023-02-16T18:22:01.747Z"
   },
   {
    "duration": 14,
    "start_time": "2023-02-16T18:22:01.788Z"
   },
   {
    "duration": 27,
    "start_time": "2023-02-16T18:22:01.804Z"
   },
   {
    "duration": 51,
    "start_time": "2023-02-16T18:22:01.833Z"
   },
   {
    "duration": 24,
    "start_time": "2023-02-16T18:22:01.886Z"
   },
   {
    "duration": 37,
    "start_time": "2023-02-16T18:22:01.913Z"
   },
   {
    "duration": 8,
    "start_time": "2023-02-16T18:22:01.952Z"
   },
   {
    "duration": 292,
    "start_time": "2023-02-16T18:22:01.961Z"
   },
   {
    "duration": 82,
    "start_time": "2023-02-16T18:22:02.255Z"
   },
   {
    "duration": 6,
    "start_time": "2023-02-16T18:22:02.339Z"
   },
   {
    "duration": 21,
    "start_time": "2023-02-16T18:22:02.347Z"
   },
   {
    "duration": 33,
    "start_time": "2023-02-16T18:22:02.370Z"
   },
   {
    "duration": 43,
    "start_time": "2023-02-16T18:22:02.405Z"
   },
   {
    "duration": 80,
    "start_time": "2023-02-16T18:22:02.450Z"
   },
   {
    "duration": 4,
    "start_time": "2023-02-16T18:22:02.532Z"
   },
   {
    "duration": 20,
    "start_time": "2023-02-16T18:22:02.537Z"
   },
   {
    "duration": 24,
    "start_time": "2023-02-16T18:22:02.561Z"
   },
   {
    "duration": 12,
    "start_time": "2023-02-16T18:22:02.587Z"
   },
   {
    "duration": 520,
    "start_time": "2023-02-16T18:22:02.600Z"
   },
   {
    "duration": 4,
    "start_time": "2023-02-16T18:22:03.122Z"
   },
   {
    "duration": 200,
    "start_time": "2023-02-16T18:22:03.137Z"
   },
   {
    "duration": 212,
    "start_time": "2023-02-16T18:22:03.339Z"
   },
   {
    "duration": 200,
    "start_time": "2023-02-16T18:22:03.553Z"
   },
   {
    "duration": 196,
    "start_time": "2023-02-16T18:22:03.755Z"
   },
   {
    "duration": 145,
    "start_time": "2023-02-16T18:22:03.953Z"
   },
   {
    "duration": 187,
    "start_time": "2023-02-16T18:22:04.100Z"
   },
   {
    "duration": 214,
    "start_time": "2023-02-16T18:22:04.289Z"
   },
   {
    "duration": 152,
    "start_time": "2023-02-16T18:22:04.505Z"
   },
   {
    "duration": 191,
    "start_time": "2023-02-16T18:22:04.659Z"
   },
   {
    "duration": 312,
    "start_time": "2023-02-16T18:22:04.851Z"
   },
   {
    "duration": 180,
    "start_time": "2023-02-16T18:22:05.165Z"
   },
   {
    "duration": 195,
    "start_time": "2023-02-16T18:22:05.347Z"
   },
   {
    "duration": 187,
    "start_time": "2023-02-16T18:22:05.543Z"
   },
   {
    "duration": 171,
    "start_time": "2023-02-16T18:22:05.731Z"
   },
   {
    "duration": 200,
    "start_time": "2023-02-16T18:22:05.904Z"
   },
   {
    "duration": 4,
    "start_time": "2023-02-16T18:22:06.106Z"
   },
   {
    "duration": 187,
    "start_time": "2023-02-16T18:22:06.111Z"
   },
   {
    "duration": 6,
    "start_time": "2023-02-16T18:22:06.300Z"
   },
   {
    "duration": 181,
    "start_time": "2023-02-16T18:22:06.307Z"
   },
   {
    "duration": 5,
    "start_time": "2023-02-16T18:22:06.490Z"
   },
   {
    "duration": 170,
    "start_time": "2023-02-16T18:22:06.496Z"
   },
   {
    "duration": 6,
    "start_time": "2023-02-16T18:22:06.667Z"
   },
   {
    "duration": 164,
    "start_time": "2023-02-16T18:22:06.674Z"
   },
   {
    "duration": 6,
    "start_time": "2023-02-16T18:22:06.839Z"
   },
   {
    "duration": 244,
    "start_time": "2023-02-16T18:22:06.846Z"
   },
   {
    "duration": 146,
    "start_time": "2023-02-16T18:22:07.093Z"
   },
   {
    "duration": 198,
    "start_time": "2023-02-16T18:22:07.241Z"
   },
   {
    "duration": 150,
    "start_time": "2023-02-16T18:22:07.440Z"
   },
   {
    "duration": 22,
    "start_time": "2023-02-16T18:22:07.592Z"
   },
   {
    "duration": 24,
    "start_time": "2023-02-16T18:22:07.616Z"
   },
   {
    "duration": 32,
    "start_time": "2023-02-16T18:22:07.642Z"
   },
   {
    "duration": 329,
    "start_time": "2023-02-16T18:22:07.676Z"
   }
  ],
  "kernelspec": {
   "display_name": "Python 3 (ipykernel)",
   "language": "python",
   "name": "python3"
  },
  "language_info": {
   "codemirror_mode": {
    "name": "ipython",
    "version": 3
   },
   "file_extension": ".py",
   "mimetype": "text/x-python",
   "name": "python",
   "nbconvert_exporter": "python",
   "pygments_lexer": "ipython3",
   "version": "3.9.5"
  },
  "toc": {
   "base_numbering": 1,
   "nav_menu": {},
   "number_sections": true,
   "sideBar": true,
   "skip_h1_title": true,
   "title_cell": "Table of Contents",
   "title_sidebar": "Contents",
   "toc_cell": false,
   "toc_position": {},
   "toc_section_display": true,
   "toc_window_display": false
  }
 },
 "nbformat": 4,
 "nbformat_minor": 2
}
