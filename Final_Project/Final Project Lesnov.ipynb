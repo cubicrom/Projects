{
 "cells": [
  {
   "cell_type": "markdown",
   "id": "070f63e2",
   "metadata": {},
   "source": [
    "# Исследование оттока клиентов банка «Метанпром»"
   ]
  },
  {
   "cell_type": "markdown",
   "id": "77cb8ac7",
   "metadata": {},
   "source": [
    "**Задача:**\n",
    "\n",
    "Проанализировать клиентов регионального банка и выделить сегменты клиентов, которые склонны уходить из банка.\n",
    "\n",
    "- Провести исследовательский анализ данных,\n",
    "- Выделить портреты клиентов, которые склонны уходить из банка,\n",
    "- Сформулировать и проверить статистические гипотезы.\n",
    "    \n",
    "    *Проверить гипотезу различия дохода между теми клиентами, которые ушли и теми, которые остались.*\n",
    "    \n",
    "    *Проверить гипотезу различия кредитного рейтинга между теми клиентами, которые ушли и теми, которые остались.*\n",
    "    \n",
    "    \n",
    "**Описание датасета**\n",
    "\n",
    "Датасет содержит данные о клиентах банка «Метанпром». Банк располагается в Ярославле и областных городах: Ростов Великий и Рыбинск.\n",
    "\n",
    "Столбцы:\n",
    "\n",
    "- `USERID` — идентификатор пользователя,\n",
    "- `score` — баллы кредитного скоринга,\n",
    "- `city` — город,\n",
    "- `gender` — пол,\n",
    "- `age` — возраст,\n",
    "- `equity` — оценка собственности,\n",
    "- `balance` — баланс на счёте,\n",
    "- `products` — количество продуктов, которыми пользуется клиент,\n",
    "- `credit_card` — есть ли кредитная карта,\n",
    "- `last_activity` — активный клиент,\n",
    "- `EST_SALARY` — заработная плата клиента,\n",
    "- `churn` — ушёл или нет."
   ]
  },
  {
   "cell_type": "markdown",
   "id": "2803d444",
   "metadata": {},
   "source": [
    "## Презентация:"
   ]
  },
  {
   "cell_type": "markdown",
   "id": "b88b5bd4",
   "metadata": {},
   "source": [
    "<https://drive.google.com/file/d/1oicmuVghT1ioHwfNvZZ7lhSt8tt470hG/view?usp=sharing>"
   ]
  },
  {
   "cell_type": "markdown",
   "id": "8579f691",
   "metadata": {},
   "source": [
    "## Дашборд:"
   ]
  },
  {
   "cell_type": "markdown",
   "id": "2baeab07",
   "metadata": {},
   "source": [
    "<https://public.tableau.com/views/Salarydistofbanksclients/Dashboard1?:language=en-US&publish=yes&:display_count=n&:origin=viz_share_link>"
   ]
  },
  {
   "cell_type": "markdown",
   "id": "7c411c79",
   "metadata": {},
   "source": [
    "## Импорт библиотек и выгрузка данных"
   ]
  },
  {
   "cell_type": "code",
   "execution_count": 1,
   "id": "94660e72",
   "metadata": {},
   "outputs": [],
   "source": [
    "# импортируем необходимые библиотеки\n",
    "import pandas as pd\n",
    "import matplotlib.pyplot as plt\n",
    "import seaborn as sns\n",
    "import scipy.stats as stats"
   ]
  },
  {
   "cell_type": "code",
   "execution_count": 2,
   "id": "ed1d3338",
   "metadata": {},
   "outputs": [
    {
     "data": {
      "text/html": [
       "<div>\n",
       "<style scoped>\n",
       "    .dataframe tbody tr th:only-of-type {\n",
       "        vertical-align: middle;\n",
       "    }\n",
       "\n",
       "    .dataframe tbody tr th {\n",
       "        vertical-align: top;\n",
       "    }\n",
       "\n",
       "    .dataframe thead th {\n",
       "        text-align: right;\n",
       "    }\n",
       "</style>\n",
       "<table border=\"1\" class=\"dataframe\">\n",
       "  <thead>\n",
       "    <tr style=\"text-align: right;\">\n",
       "      <th></th>\n",
       "      <th>USERID</th>\n",
       "      <th>score</th>\n",
       "      <th>city</th>\n",
       "      <th>gender</th>\n",
       "      <th>age</th>\n",
       "      <th>equity</th>\n",
       "      <th>balance</th>\n",
       "      <th>products</th>\n",
       "      <th>credit_card</th>\n",
       "      <th>last_activity</th>\n",
       "      <th>EST_SALARY</th>\n",
       "      <th>churn</th>\n",
       "    </tr>\n",
       "  </thead>\n",
       "  <tbody>\n",
       "    <tr>\n",
       "      <th>0</th>\n",
       "      <td>183012</td>\n",
       "      <td>850.0</td>\n",
       "      <td>Рыбинск</td>\n",
       "      <td>Ж</td>\n",
       "      <td>25</td>\n",
       "      <td>1</td>\n",
       "      <td>59214.82</td>\n",
       "      <td>2</td>\n",
       "      <td>0</td>\n",
       "      <td>1</td>\n",
       "      <td>75719.14</td>\n",
       "      <td>1</td>\n",
       "    </tr>\n",
       "    <tr>\n",
       "      <th>1</th>\n",
       "      <td>146556</td>\n",
       "      <td>861.0</td>\n",
       "      <td>Рыбинск</td>\n",
       "      <td>Ж</td>\n",
       "      <td>37</td>\n",
       "      <td>5</td>\n",
       "      <td>850594.33</td>\n",
       "      <td>3</td>\n",
       "      <td>1</td>\n",
       "      <td>0</td>\n",
       "      <td>86621.77</td>\n",
       "      <td>0</td>\n",
       "    </tr>\n",
       "    <tr>\n",
       "      <th>2</th>\n",
       "      <td>120722</td>\n",
       "      <td>892.0</td>\n",
       "      <td>Рыбинск</td>\n",
       "      <td>Ж</td>\n",
       "      <td>30</td>\n",
       "      <td>0</td>\n",
       "      <td>NaN</td>\n",
       "      <td>1</td>\n",
       "      <td>1</td>\n",
       "      <td>1</td>\n",
       "      <td>107683.34</td>\n",
       "      <td>0</td>\n",
       "    </tr>\n",
       "    <tr>\n",
       "      <th>3</th>\n",
       "      <td>225363</td>\n",
       "      <td>866.0</td>\n",
       "      <td>Ярославль</td>\n",
       "      <td>Ж</td>\n",
       "      <td>51</td>\n",
       "      <td>5</td>\n",
       "      <td>1524746.26</td>\n",
       "      <td>2</td>\n",
       "      <td>0</td>\n",
       "      <td>1</td>\n",
       "      <td>174423.53</td>\n",
       "      <td>1</td>\n",
       "    </tr>\n",
       "    <tr>\n",
       "      <th>4</th>\n",
       "      <td>157978</td>\n",
       "      <td>730.0</td>\n",
       "      <td>Ярославль</td>\n",
       "      <td>М</td>\n",
       "      <td>34</td>\n",
       "      <td>5</td>\n",
       "      <td>174.00</td>\n",
       "      <td>1</td>\n",
       "      <td>1</td>\n",
       "      <td>0</td>\n",
       "      <td>67353.16</td>\n",
       "      <td>1</td>\n",
       "    </tr>\n",
       "  </tbody>\n",
       "</table>\n",
       "</div>"
      ],
      "text/plain": [
       "   USERID  score       city gender  age  equity     balance  products  \\\n",
       "0  183012  850.0    Рыбинск      Ж   25       1    59214.82         2   \n",
       "1  146556  861.0    Рыбинск      Ж   37       5   850594.33         3   \n",
       "2  120722  892.0    Рыбинск      Ж   30       0         NaN         1   \n",
       "3  225363  866.0  Ярославль      Ж   51       5  1524746.26         2   \n",
       "4  157978  730.0  Ярославль      М   34       5      174.00         1   \n",
       "\n",
       "   credit_card  last_activity  EST_SALARY  churn  \n",
       "0            0              1    75719.14      1  \n",
       "1            1              0    86621.77      0  \n",
       "2            1              1   107683.34      0  \n",
       "3            0              1   174423.53      1  \n",
       "4            1              0    67353.16      1  "
      ]
     },
     "execution_count": 2,
     "metadata": {},
     "output_type": "execute_result"
    }
   ],
   "source": [
    "# сохраняем ссылку на данные в переменную\n",
    "path = \"https://drive.google.com/uc?export=download&id=1-U61mhTz_N1ARjy2XSAZ7IlQqGjeqP0F\"\n",
    "\n",
    "# сохраняем данные в переменную\n",
    "data = pd.read_csv(path)\n",
    "\n",
    "\n",
    "# выводим данные для ознакомления\n",
    "data.head()"
   ]
  },
  {
   "cell_type": "code",
   "execution_count": 3,
   "id": "d990439f",
   "metadata": {},
   "outputs": [
    {
     "name": "stdout",
     "output_type": "stream",
     "text": [
      "<class 'pandas.core.frame.DataFrame'>\n",
      "RangeIndex: 10000 entries, 0 to 9999\n",
      "Data columns (total 12 columns):\n",
      " #   Column         Non-Null Count  Dtype  \n",
      "---  ------         --------------  -----  \n",
      " 0   USERID         10000 non-null  int64  \n",
      " 1   score          10000 non-null  float64\n",
      " 2   city           10000 non-null  object \n",
      " 3   gender         10000 non-null  object \n",
      " 4   age            10000 non-null  int64  \n",
      " 5   equity         10000 non-null  int64  \n",
      " 6   balance        7705 non-null   float64\n",
      " 7   products       10000 non-null  int64  \n",
      " 8   credit_card    10000 non-null  int64  \n",
      " 9   last_activity  10000 non-null  int64  \n",
      " 10  EST_SALARY     10000 non-null  float64\n",
      " 11  churn          10000 non-null  int64  \n",
      "dtypes: float64(3), int64(7), object(2)\n",
      "memory usage: 937.6+ KB\n"
     ]
    }
   ],
   "source": [
    "# выводим общую информацию о таблице\n",
    "data.info()"
   ]
  },
  {
   "cell_type": "markdown",
   "id": "886d3035",
   "metadata": {},
   "source": [
    "Данные выгружены, необходимые библиотеки импортированы.\n",
    "\n",
    "Видим, что есть проблемы с данными, переходим к предобработке."
   ]
  },
  {
   "cell_type": "markdown",
   "id": "af4cbd6e",
   "metadata": {},
   "source": [
    "## Предобработка данных"
   ]
  },
  {
   "cell_type": "markdown",
   "id": "d85804a8",
   "metadata": {},
   "source": [
    "### корректность наименований колонок:"
   ]
  },
  {
   "cell_type": "code",
   "execution_count": 4,
   "id": "6052d5c2",
   "metadata": {},
   "outputs": [
    {
     "data": {
      "text/plain": [
       "Index(['USERID', 'score', 'city', 'gender', 'age', 'equity', 'balance',\n",
       "       'products', 'credit_card', 'last_activity', 'EST_SALARY', 'churn'],\n",
       "      dtype='object')"
      ]
     },
     "execution_count": 4,
     "metadata": {},
     "output_type": "execute_result"
    }
   ],
   "source": [
    "# проверяем корректность наименований столбцов\n",
    "data.columns"
   ]
  },
  {
   "cell_type": "markdown",
   "id": "1eeb1132",
   "metadata": {},
   "source": [
    "Видим, что наименования столбцов имеют неудобный вид:\n",
    "* не приведены к snake_case;\n",
    "* начинаются с заглавных букв."
   ]
  },
  {
   "cell_type": "code",
   "execution_count": 5,
   "id": "a928bc2c",
   "metadata": {},
   "outputs": [
    {
     "data": {
      "text/plain": [
       "Index(['user_id', 'score', 'city', 'gender', 'age', 'equity', 'balance',\n",
       "       'products', 'credit_card', 'last_activity', 'est_salary', 'churn'],\n",
       "      dtype='object')"
      ]
     },
     "execution_count": 5,
     "metadata": {},
     "output_type": "execute_result"
    }
   ],
   "source": [
    "# приводим наименования столбцов к нижнему регистру\n",
    "data.columns = data.columns.str.lower()\n",
    "\n",
    "#применяем snake_case\n",
    "data = data.rename(columns={'userid' : 'user_id'})\n",
    "\n",
    "#производим проверку\n",
    "data.columns"
   ]
  },
  {
   "cell_type": "markdown",
   "id": "2861235f",
   "metadata": {},
   "source": [
    "Наименования столбцов приведены к удобному виду."
   ]
  },
  {
   "cell_type": "markdown",
   "id": "a33b5b60",
   "metadata": {},
   "source": [
    "### наличие и обработка пропусков:"
   ]
  },
  {
   "cell_type": "code",
   "execution_count": 6,
   "id": "e69d7e33",
   "metadata": {},
   "outputs": [
    {
     "data": {
      "text/plain": [
       "user_id             0\n",
       "score               0\n",
       "city                0\n",
       "gender              0\n",
       "age                 0\n",
       "equity              0\n",
       "balance          2295\n",
       "products            0\n",
       "credit_card         0\n",
       "last_activity       0\n",
       "est_salary          0\n",
       "churn               0\n",
       "dtype: int64"
      ]
     },
     "execution_count": 6,
     "metadata": {},
     "output_type": "execute_result"
    }
   ],
   "source": [
    "# проверяем наличие пропусков в данных\n",
    "data.isna().sum()"
   ]
  },
  {
   "cell_type": "markdown",
   "id": "0488f131",
   "metadata": {},
   "source": [
    "Видим, что есть 2.295 (это 22.95% от общего числа данных) пропусков в колонке `balance`. Заполнить их на данный момент мы не можем, так как эти данные носят личный характер. Попробуем ниже найти какие-либо взаимосвязи и посмотрим получится ли заполнить эти пропуски."
   ]
  },
  {
   "cell_type": "code",
   "execution_count": 7,
   "id": "36bdbbf9",
   "metadata": {},
   "outputs": [
    {
     "data": {
      "image/png": "[encoded data removed]",
      "text/plain": [
       "<Figure size 2000x1500 with 2 Axes>"
      ]
     },
     "metadata": {},
     "output_type": "display_data"
    }
   ],
   "source": [
    "# строим хит-мэп по матрице корреляций\n",
    "corr = data[data['balance'].isna() == True].corr()\n",
    "\n",
    "plt.figure(figsize=(20, 15))\n",
    "\n",
    "sns.heatmap(corr, annot = True, fmt = '0.2f');\n",
    "\n",
    "plt.title('Корреляция признаков у клиентов с пропуском данных в балансе');"
   ]
  },
  {
   "cell_type": "markdown",
   "id": "1dd4c69a",
   "metadata": {},
   "source": [
    "По графику видим, что нет ни одной сильной зависимости. Корреляция с другими данными очень низкая, а это значит, что достоверно заполнить пропуски у нас не выйдет, а значит оставим их без изменений."
   ]
  },
  {
   "cell_type": "markdown",
   "id": "64e2a05c",
   "metadata": {},
   "source": [
    "### наличие и обработка дубликатов:"
   ]
  },
  {
   "cell_type": "code",
   "execution_count": 8,
   "id": "23e2274c",
   "metadata": {},
   "outputs": [
    {
     "name": "stdout",
     "output_type": "stream",
     "text": [
      "Количество дубликатов в данных равно: 1\n"
     ]
    }
   ],
   "source": [
    "# проверим наличие явных дубликатов\n",
    "print('Количество дубликатов в данных равно:', data.duplicated().sum())"
   ]
  },
  {
   "cell_type": "markdown",
   "id": "7e79389b",
   "metadata": {},
   "source": [
    "Видим, что в данных есть один явный дубликат. Избавимся от него."
   ]
  },
  {
   "cell_type": "code",
   "execution_count": 9,
   "id": "7bdc0e46",
   "metadata": {},
   "outputs": [],
   "source": [
    "# избавляемся от дубликата\n",
    "data = data.drop_duplicates().reset_index(drop=True)"
   ]
  },
  {
   "cell_type": "code",
   "execution_count": 10,
   "id": "3e16d52f",
   "metadata": {},
   "outputs": [
    {
     "data": {
      "text/plain": [
       "array(['Рыбинск', 'Ярославль', 'Ростов'], dtype=object)"
      ]
     },
     "execution_count": 10,
     "metadata": {},
     "output_type": "execute_result"
    }
   ],
   "source": [
    "# проверим неявные дубликаты в названиях городов\n",
    "data['city'].unique()"
   ]
  },
  {
   "cell_type": "code",
   "execution_count": 11,
   "id": "89356e0b",
   "metadata": {},
   "outputs": [
    {
     "data": {
      "text/plain": [
       "array(['Ж', 'М'], dtype=object)"
      ]
     },
     "execution_count": 11,
     "metadata": {},
     "output_type": "execute_result"
    }
   ],
   "source": [
    "# проверим неявные дубликаты в разделителе полов\n",
    "data['gender'].unique()"
   ]
  },
  {
   "cell_type": "markdown",
   "id": "0852635b",
   "metadata": {},
   "source": [
    "Проверили датасет на наличие явных дубликатов и правильность написания категориальных данных. Выявили 1 явный дубль в данных и удалили его."
   ]
  },
  {
   "cell_type": "markdown",
   "id": "6c24a56d",
   "metadata": {},
   "source": [
    "### проверка соответствия типов данных:"
   ]
  },
  {
   "cell_type": "code",
   "execution_count": 12,
   "id": "ceee03ab",
   "metadata": {},
   "outputs": [
    {
     "name": "stdout",
     "output_type": "stream",
     "text": [
      "<class 'pandas.core.frame.DataFrame'>\n",
      "RangeIndex: 9999 entries, 0 to 9998\n",
      "Data columns (total 12 columns):\n",
      " #   Column         Non-Null Count  Dtype  \n",
      "---  ------         --------------  -----  \n",
      " 0   user_id        9999 non-null   int64  \n",
      " 1   score          9999 non-null   float64\n",
      " 2   city           9999 non-null   object \n",
      " 3   gender         9999 non-null   object \n",
      " 4   age            9999 non-null   int64  \n",
      " 5   equity         9999 non-null   int64  \n",
      " 6   balance        7705 non-null   float64\n",
      " 7   products       9999 non-null   int64  \n",
      " 8   credit_card    9999 non-null   int64  \n",
      " 9   last_activity  9999 non-null   int64  \n",
      " 10  est_salary     9999 non-null   float64\n",
      " 11  churn          9999 non-null   int64  \n",
      "dtypes: float64(3), int64(7), object(2)\n",
      "memory usage: 937.5+ KB\n"
     ]
    }
   ],
   "source": [
    "# выводим общую информацию по данным\n",
    "data.info()"
   ]
  },
  {
   "cell_type": "markdown",
   "id": "ce4333f2",
   "metadata": {},
   "source": [
    "Видим, что все типы соответствуют данным, никаких исправлений не требуется."
   ]
  },
  {
   "cell_type": "markdown",
   "id": "1ab20587",
   "metadata": {},
   "source": [
    "### наличие и обработка выбросов:"
   ]
  },
  {
   "cell_type": "code",
   "execution_count": 13,
   "id": "77be697e",
   "metadata": {},
   "outputs": [
    {
     "data": {
      "text/html": [
       "<style type=\"text/css\">\n",
       "</style>\n",
       "<table id=\"T_586f2\">\n",
       "  <thead>\n",
       "    <tr>\n",
       "      <th class=\"blank level0\" >&nbsp;</th>\n",
       "      <th id=\"T_586f2_level0_col0\" class=\"col_heading level0 col0\" >score</th>\n",
       "      <th id=\"T_586f2_level0_col1\" class=\"col_heading level0 col1\" >age</th>\n",
       "      <th id=\"T_586f2_level0_col2\" class=\"col_heading level0 col2\" >equity</th>\n",
       "      <th id=\"T_586f2_level0_col3\" class=\"col_heading level0 col3\" >balance</th>\n",
       "      <th id=\"T_586f2_level0_col4\" class=\"col_heading level0 col4\" >products</th>\n",
       "      <th id=\"T_586f2_level0_col5\" class=\"col_heading level0 col5\" >credit_card</th>\n",
       "      <th id=\"T_586f2_level0_col6\" class=\"col_heading level0 col6\" >last_activity</th>\n",
       "      <th id=\"T_586f2_level0_col7\" class=\"col_heading level0 col7\" >est_salary</th>\n",
       "      <th id=\"T_586f2_level0_col8\" class=\"col_heading level0 col8\" >churn</th>\n",
       "    </tr>\n",
       "  </thead>\n",
       "  <tbody>\n",
       "    <tr>\n",
       "      <th id=\"T_586f2_level0_row0\" class=\"row_heading level0 row0\" >count</th>\n",
       "      <td id=\"T_586f2_row0_col0\" class=\"data row0 col0\" >9999.00</td>\n",
       "      <td id=\"T_586f2_row0_col1\" class=\"data row0 col1\" >9999.00</td>\n",
       "      <td id=\"T_586f2_row0_col2\" class=\"data row0 col2\" >9999.00</td>\n",
       "      <td id=\"T_586f2_row0_col3\" class=\"data row0 col3\" >7705.00</td>\n",
       "      <td id=\"T_586f2_row0_col4\" class=\"data row0 col4\" >9999.00</td>\n",
       "      <td id=\"T_586f2_row0_col5\" class=\"data row0 col5\" >9999.00</td>\n",
       "      <td id=\"T_586f2_row0_col6\" class=\"data row0 col6\" >9999.00</td>\n",
       "      <td id=\"T_586f2_row0_col7\" class=\"data row0 col7\" >9999.00</td>\n",
       "      <td id=\"T_586f2_row0_col8\" class=\"data row0 col8\" >9999.00</td>\n",
       "    </tr>\n",
       "    <tr>\n",
       "      <th id=\"T_586f2_level0_row1\" class=\"row_heading level0 row1\" >mean</th>\n",
       "      <td id=\"T_586f2_row1_col0\" class=\"data row1 col0\" >848.69</td>\n",
       "      <td id=\"T_586f2_row1_col1\" class=\"data row1 col1\" >42.84</td>\n",
       "      <td id=\"T_586f2_row1_col2\" class=\"data row1 col2\" >2.63</td>\n",
       "      <td id=\"T_586f2_row1_col3\" class=\"data row1 col3\" >827794.31</td>\n",
       "      <td id=\"T_586f2_row1_col4\" class=\"data row1 col4\" >1.87</td>\n",
       "      <td id=\"T_586f2_row1_col5\" class=\"data row1 col5\" >0.68</td>\n",
       "      <td id=\"T_586f2_row1_col6\" class=\"data row1 col6\" >0.52</td>\n",
       "      <td id=\"T_586f2_row1_col7\" class=\"data row1 col7\" >147843.48</td>\n",
       "      <td id=\"T_586f2_row1_col8\" class=\"data row1 col8\" >0.18</td>\n",
       "    </tr>\n",
       "    <tr>\n",
       "      <th id=\"T_586f2_level0_row2\" class=\"row_heading level0 row2\" >std</th>\n",
       "      <td id=\"T_586f2_row2_col0\" class=\"data row2 col0\" >65.45</td>\n",
       "      <td id=\"T_586f2_row2_col1\" class=\"data row2 col1\" >12.13</td>\n",
       "      <td id=\"T_586f2_row2_col2\" class=\"data row2 col2\" >1.98</td>\n",
       "      <td id=\"T_586f2_row2_col3\" class=\"data row2 col3\" >1980614.15</td>\n",
       "      <td id=\"T_586f2_row2_col4\" class=\"data row2 col4\" >0.80</td>\n",
       "      <td id=\"T_586f2_row2_col5\" class=\"data row2 col5\" >0.47</td>\n",
       "      <td id=\"T_586f2_row2_col6\" class=\"data row2 col6\" >0.50</td>\n",
       "      <td id=\"T_586f2_row2_col7\" class=\"data row2 col7\" >139375.83</td>\n",
       "      <td id=\"T_586f2_row2_col8\" class=\"data row2 col8\" >0.39</td>\n",
       "    </tr>\n",
       "    <tr>\n",
       "      <th id=\"T_586f2_level0_row3\" class=\"row_heading level0 row3\" >min</th>\n",
       "      <td id=\"T_586f2_row3_col0\" class=\"data row3 col0\" >642.00</td>\n",
       "      <td id=\"T_586f2_row3_col1\" class=\"data row3 col1\" >18.00</td>\n",
       "      <td id=\"T_586f2_row3_col2\" class=\"data row3 col2\" >0.00</td>\n",
       "      <td id=\"T_586f2_row3_col3\" class=\"data row3 col3\" >0.00</td>\n",
       "      <td id=\"T_586f2_row3_col4\" class=\"data row3 col4\" >0.00</td>\n",
       "      <td id=\"T_586f2_row3_col5\" class=\"data row3 col5\" >0.00</td>\n",
       "      <td id=\"T_586f2_row3_col6\" class=\"data row3 col6\" >0.00</td>\n",
       "      <td id=\"T_586f2_row3_col7\" class=\"data row3 col7\" >2546.30</td>\n",
       "      <td id=\"T_586f2_row3_col8\" class=\"data row3 col8\" >0.00</td>\n",
       "    </tr>\n",
       "    <tr>\n",
       "      <th id=\"T_586f2_level0_row4\" class=\"row_heading level0 row4\" >25%</th>\n",
       "      <td id=\"T_586f2_row4_col0\" class=\"data row4 col0\" >802.00</td>\n",
       "      <td id=\"T_586f2_row4_col1\" class=\"data row4 col1\" >34.00</td>\n",
       "      <td id=\"T_586f2_row4_col2\" class=\"data row4 col2\" >0.00</td>\n",
       "      <td id=\"T_586f2_row4_col3\" class=\"data row4 col3\" >295554.16</td>\n",
       "      <td id=\"T_586f2_row4_col4\" class=\"data row4 col4\" >1.00</td>\n",
       "      <td id=\"T_586f2_row4_col5\" class=\"data row4 col5\" >0.00</td>\n",
       "      <td id=\"T_586f2_row4_col6\" class=\"data row4 col6\" >0.00</td>\n",
       "      <td id=\"T_586f2_row4_col7\" class=\"data row4 col7\" >75251.78</td>\n",
       "      <td id=\"T_586f2_row4_col8\" class=\"data row4 col8\" >0.00</td>\n",
       "    </tr>\n",
       "    <tr>\n",
       "      <th id=\"T_586f2_level0_row5\" class=\"row_heading level0 row5\" >50%</th>\n",
       "      <td id=\"T_586f2_row5_col0\" class=\"data row5 col0\" >853.00</td>\n",
       "      <td id=\"T_586f2_row5_col1\" class=\"data row5 col1\" >40.00</td>\n",
       "      <td id=\"T_586f2_row5_col2\" class=\"data row5 col2\" >3.00</td>\n",
       "      <td id=\"T_586f2_row5_col3\" class=\"data row5 col3\" >524272.20</td>\n",
       "      <td id=\"T_586f2_row5_col4\" class=\"data row5 col4\" >2.00</td>\n",
       "      <td id=\"T_586f2_row5_col5\" class=\"data row5 col5\" >1.00</td>\n",
       "      <td id=\"T_586f2_row5_col6\" class=\"data row5 col6\" >1.00</td>\n",
       "      <td id=\"T_586f2_row5_col7\" class=\"data row5 col7\" >119654.70</td>\n",
       "      <td id=\"T_586f2_row5_col8\" class=\"data row5 col8\" >0.00</td>\n",
       "    </tr>\n",
       "    <tr>\n",
       "      <th id=\"T_586f2_level0_row6\" class=\"row_heading level0 row6\" >75%</th>\n",
       "      <td id=\"T_586f2_row6_col0\" class=\"data row6 col0\" >900.00</td>\n",
       "      <td id=\"T_586f2_row6_col1\" class=\"data row6 col1\" >51.00</td>\n",
       "      <td id=\"T_586f2_row6_col2\" class=\"data row6 col2\" >4.00</td>\n",
       "      <td id=\"T_586f2_row6_col3\" class=\"data row6 col3\" >980705.85</td>\n",
       "      <td id=\"T_586f2_row6_col4\" class=\"data row6 col4\" >2.00</td>\n",
       "      <td id=\"T_586f2_row6_col5\" class=\"data row6 col5\" >1.00</td>\n",
       "      <td id=\"T_586f2_row6_col6\" class=\"data row6 col6\" >1.00</td>\n",
       "      <td id=\"T_586f2_row6_col7\" class=\"data row6 col7\" >174499.66</td>\n",
       "      <td id=\"T_586f2_row6_col8\" class=\"data row6 col8\" >0.00</td>\n",
       "    </tr>\n",
       "    <tr>\n",
       "      <th id=\"T_586f2_level0_row7\" class=\"row_heading level0 row7\" >max</th>\n",
       "      <td id=\"T_586f2_row7_col0\" class=\"data row7 col0\" >1000.00</td>\n",
       "      <td id=\"T_586f2_row7_col1\" class=\"data row7 col1\" >86.00</td>\n",
       "      <td id=\"T_586f2_row7_col2\" class=\"data row7 col2\" >9.00</td>\n",
       "      <td id=\"T_586f2_row7_col3\" class=\"data row7 col3\" >119113552.01</td>\n",
       "      <td id=\"T_586f2_row7_col4\" class=\"data row7 col4\" >5.00</td>\n",
       "      <td id=\"T_586f2_row7_col5\" class=\"data row7 col5\" >1.00</td>\n",
       "      <td id=\"T_586f2_row7_col6\" class=\"data row7 col6\" >1.00</td>\n",
       "      <td id=\"T_586f2_row7_col7\" class=\"data row7 col7\" >1395064.45</td>\n",
       "      <td id=\"T_586f2_row7_col8\" class=\"data row7 col8\" >1.00</td>\n",
       "    </tr>\n",
       "  </tbody>\n",
       "</table>\n"
      ],
      "text/plain": [
       "<pandas.io.formats.style.Styler at 0x118eb5f1bb0>"
      ]
     },
     "execution_count": 13,
     "metadata": {},
     "output_type": "execute_result"
    }
   ],
   "source": [
    "# смотрим распределение по каждому столбцу датафрейма\n",
    "data.drop('user_id', axis=1).describe().style.format('{:.2f}')"
   ]
  },
  {
   "cell_type": "markdown",
   "id": "a2457997",
   "metadata": {},
   "source": [
    "Видим, что средние и медианные значения в категориях близки - значит распределение на данном этапе около нормального."
   ]
  },
  {
   "cell_type": "markdown",
   "id": "c27d1691",
   "metadata": {},
   "source": [
    "#### определим функцию для построения боксплотов"
   ]
  },
  {
   "cell_type": "code",
   "execution_count": 14,
   "id": "a1a33f76",
   "metadata": {},
   "outputs": [],
   "source": [
    "# боксплот по столбцу\n",
    "def data_box(column, title):\n",
    "    fig = plt.figure(figsize=(10, 5))\n",
    "    data.boxplot(column)\n",
    "    plt.title(title)\n",
    "    plt.ylabel('количество')\n",
    "    plt.show()\n",
    "    \n",
    "# боксплот по столбцу с лимитом\n",
    "def data_box_lim(column, title, min_lim, max_lim):\n",
    "    fig = plt.figure(figsize=(10, 5))\n",
    "    data.boxplot(column)\n",
    "    plt.title(title)\n",
    "    plt.ylabel('количество')\n",
    "    plt.ylim(min_lim, max_lim)\n",
    "    plt.show()"
   ]
  },
  {
   "cell_type": "markdown",
   "id": "da91baff",
   "metadata": {},
   "source": [
    "#### в баллах кредитного рейтинга"
   ]
  },
  {
   "cell_type": "code",
   "execution_count": 15,
   "id": "3b9b8392",
   "metadata": {},
   "outputs": [
    {
     "data": {
      "image/png": "[encoded data removed]",
      "text/plain": [
       "<Figure size 1000x500 with 1 Axes>"
      ]
     },
     "metadata": {},
     "output_type": "display_data"
    }
   ],
   "source": [
    "# строим диаграмму размаха по баллам кредитного рейтинга\n",
    "data_box('score', 'Диаграмма размаха по баллам кредитного рейтинга')"
   ]
  },
  {
   "cell_type": "markdown",
   "id": "85feff66",
   "metadata": {},
   "source": [
    "Видим, что есть выбросы, проставим лимиты и посмотрим на значения ближе. Медианный рейтинг равен примерно 855, 5 персентиль - 655, 95 равен 1000."
   ]
  },
  {
   "cell_type": "code",
   "execution_count": 16,
   "id": "63f97465",
   "metadata": {},
   "outputs": [
    {
     "data": {
      "image/png": "[encoded data removed]",
      "text/plain": [
       "<Figure size 1000x500 with 1 Axes>"
      ]
     },
     "metadata": {},
     "output_type": "display_data"
    }
   ],
   "source": [
    "# строим диаграмму размаха по баллам кредитного рейтинга c лимитом\n",
    "data_box_lim('score', 'Диаграмма размаха по баллам кредитного рейтинга', 640, 660)"
   ]
  },
  {
   "cell_type": "markdown",
   "id": "bba564ea",
   "metadata": {},
   "source": [
    "Видим, что есть клиенты с очень низким кредитным рейтингом. Их не очень много, посмотрим на них в таблице."
   ]
  },
  {
   "cell_type": "code",
   "execution_count": 17,
   "id": "466cc593",
   "metadata": {},
   "outputs": [
    {
     "data": {
      "text/html": [
       "<div>\n",
       "<style scoped>\n",
       "    .dataframe tbody tr th:only-of-type {\n",
       "        vertical-align: middle;\n",
       "    }\n",
       "\n",
       "    .dataframe tbody tr th {\n",
       "        vertical-align: top;\n",
       "    }\n",
       "\n",
       "    .dataframe thead th {\n",
       "        text-align: right;\n",
       "    }\n",
       "</style>\n",
       "<table border=\"1\" class=\"dataframe\">\n",
       "  <thead>\n",
       "    <tr style=\"text-align: right;\">\n",
       "      <th></th>\n",
       "      <th>user_id</th>\n",
       "      <th>score</th>\n",
       "      <th>city</th>\n",
       "      <th>gender</th>\n",
       "      <th>age</th>\n",
       "      <th>equity</th>\n",
       "      <th>balance</th>\n",
       "      <th>products</th>\n",
       "      <th>credit_card</th>\n",
       "      <th>last_activity</th>\n",
       "      <th>est_salary</th>\n",
       "      <th>churn</th>\n",
       "    </tr>\n",
       "  </thead>\n",
       "  <tbody>\n",
       "    <tr>\n",
       "      <th>263</th>\n",
       "      <td>210814</td>\n",
       "      <td>652.0</td>\n",
       "      <td>Ярославль</td>\n",
       "      <td>М</td>\n",
       "      <td>34</td>\n",
       "      <td>0</td>\n",
       "      <td>NaN</td>\n",
       "      <td>1</td>\n",
       "      <td>1</td>\n",
       "      <td>1</td>\n",
       "      <td>188786.49</td>\n",
       "      <td>0</td>\n",
       "    </tr>\n",
       "    <tr>\n",
       "      <th>265</th>\n",
       "      <td>157448</td>\n",
       "      <td>649.0</td>\n",
       "      <td>Рыбинск</td>\n",
       "      <td>М</td>\n",
       "      <td>37</td>\n",
       "      <td>0</td>\n",
       "      <td>NaN</td>\n",
       "      <td>1</td>\n",
       "      <td>1</td>\n",
       "      <td>1</td>\n",
       "      <td>81942.85</td>\n",
       "      <td>0</td>\n",
       "    </tr>\n",
       "    <tr>\n",
       "      <th>533</th>\n",
       "      <td>146648</td>\n",
       "      <td>649.0</td>\n",
       "      <td>Ярославль</td>\n",
       "      <td>М</td>\n",
       "      <td>33</td>\n",
       "      <td>0</td>\n",
       "      <td>NaN</td>\n",
       "      <td>1</td>\n",
       "      <td>1</td>\n",
       "      <td>1</td>\n",
       "      <td>149318.49</td>\n",
       "      <td>0</td>\n",
       "    </tr>\n",
       "    <tr>\n",
       "      <th>921</th>\n",
       "      <td>179302</td>\n",
       "      <td>646.0</td>\n",
       "      <td>Ярославль</td>\n",
       "      <td>М</td>\n",
       "      <td>37</td>\n",
       "      <td>0</td>\n",
       "      <td>NaN</td>\n",
       "      <td>1</td>\n",
       "      <td>1</td>\n",
       "      <td>1</td>\n",
       "      <td>148297.71</td>\n",
       "      <td>0</td>\n",
       "    </tr>\n",
       "    <tr>\n",
       "      <th>1291</th>\n",
       "      <td>181159</td>\n",
       "      <td>651.0</td>\n",
       "      <td>Ярославль</td>\n",
       "      <td>М</td>\n",
       "      <td>35</td>\n",
       "      <td>0</td>\n",
       "      <td>NaN</td>\n",
       "      <td>1</td>\n",
       "      <td>1</td>\n",
       "      <td>1</td>\n",
       "      <td>180550.90</td>\n",
       "      <td>0</td>\n",
       "    </tr>\n",
       "    <tr>\n",
       "      <th>1304</th>\n",
       "      <td>157084</td>\n",
       "      <td>653.0</td>\n",
       "      <td>Рыбинск</td>\n",
       "      <td>М</td>\n",
       "      <td>53</td>\n",
       "      <td>0</td>\n",
       "      <td>NaN</td>\n",
       "      <td>2</td>\n",
       "      <td>1</td>\n",
       "      <td>0</td>\n",
       "      <td>72345.06</td>\n",
       "      <td>0</td>\n",
       "    </tr>\n",
       "    <tr>\n",
       "      <th>2501</th>\n",
       "      <td>208801</td>\n",
       "      <td>650.0</td>\n",
       "      <td>Ярославль</td>\n",
       "      <td>М</td>\n",
       "      <td>56</td>\n",
       "      <td>0</td>\n",
       "      <td>NaN</td>\n",
       "      <td>1</td>\n",
       "      <td>1</td>\n",
       "      <td>0</td>\n",
       "      <td>119643.06</td>\n",
       "      <td>0</td>\n",
       "    </tr>\n",
       "    <tr>\n",
       "      <th>2532</th>\n",
       "      <td>151179</td>\n",
       "      <td>642.0</td>\n",
       "      <td>Рыбинск</td>\n",
       "      <td>М</td>\n",
       "      <td>69</td>\n",
       "      <td>0</td>\n",
       "      <td>NaN</td>\n",
       "      <td>1</td>\n",
       "      <td>1</td>\n",
       "      <td>1</td>\n",
       "      <td>35917.41</td>\n",
       "      <td>0</td>\n",
       "    </tr>\n",
       "    <tr>\n",
       "      <th>3008</th>\n",
       "      <td>156535</td>\n",
       "      <td>652.0</td>\n",
       "      <td>Рыбинск</td>\n",
       "      <td>М</td>\n",
       "      <td>55</td>\n",
       "      <td>0</td>\n",
       "      <td>NaN</td>\n",
       "      <td>2</td>\n",
       "      <td>1</td>\n",
       "      <td>1</td>\n",
       "      <td>60374.86</td>\n",
       "      <td>0</td>\n",
       "    </tr>\n",
       "    <tr>\n",
       "      <th>3168</th>\n",
       "      <td>173067</td>\n",
       "      <td>649.0</td>\n",
       "      <td>Ярославль</td>\n",
       "      <td>М</td>\n",
       "      <td>46</td>\n",
       "      <td>0</td>\n",
       "      <td>NaN</td>\n",
       "      <td>1</td>\n",
       "      <td>1</td>\n",
       "      <td>1</td>\n",
       "      <td>121654.31</td>\n",
       "      <td>0</td>\n",
       "    </tr>\n",
       "    <tr>\n",
       "      <th>3711</th>\n",
       "      <td>140889</td>\n",
       "      <td>653.0</td>\n",
       "      <td>Рыбинск</td>\n",
       "      <td>Ж</td>\n",
       "      <td>53</td>\n",
       "      <td>0</td>\n",
       "      <td>NaN</td>\n",
       "      <td>1</td>\n",
       "      <td>1</td>\n",
       "      <td>1</td>\n",
       "      <td>119719.33</td>\n",
       "      <td>0</td>\n",
       "    </tr>\n",
       "    <tr>\n",
       "      <th>3838</th>\n",
       "      <td>213401</td>\n",
       "      <td>652.0</td>\n",
       "      <td>Рыбинск</td>\n",
       "      <td>М</td>\n",
       "      <td>40</td>\n",
       "      <td>0</td>\n",
       "      <td>NaN</td>\n",
       "      <td>1</td>\n",
       "      <td>1</td>\n",
       "      <td>0</td>\n",
       "      <td>206397.27</td>\n",
       "      <td>0</td>\n",
       "    </tr>\n",
       "    <tr>\n",
       "      <th>4071</th>\n",
       "      <td>164000</td>\n",
       "      <td>648.0</td>\n",
       "      <td>Ярославль</td>\n",
       "      <td>М</td>\n",
       "      <td>28</td>\n",
       "      <td>0</td>\n",
       "      <td>NaN</td>\n",
       "      <td>1</td>\n",
       "      <td>1</td>\n",
       "      <td>0</td>\n",
       "      <td>27790.15</td>\n",
       "      <td>0</td>\n",
       "    </tr>\n",
       "    <tr>\n",
       "      <th>4306</th>\n",
       "      <td>128243</td>\n",
       "      <td>651.0</td>\n",
       "      <td>Ярославль</td>\n",
       "      <td>Ж</td>\n",
       "      <td>58</td>\n",
       "      <td>0</td>\n",
       "      <td>NaN</td>\n",
       "      <td>1</td>\n",
       "      <td>1</td>\n",
       "      <td>1</td>\n",
       "      <td>118797.63</td>\n",
       "      <td>0</td>\n",
       "    </tr>\n",
       "    <tr>\n",
       "      <th>4690</th>\n",
       "      <td>135725</td>\n",
       "      <td>648.0</td>\n",
       "      <td>Ярославль</td>\n",
       "      <td>Ж</td>\n",
       "      <td>59</td>\n",
       "      <td>0</td>\n",
       "      <td>NaN</td>\n",
       "      <td>1</td>\n",
       "      <td>1</td>\n",
       "      <td>1</td>\n",
       "      <td>50326.03</td>\n",
       "      <td>0</td>\n",
       "    </tr>\n",
       "    <tr>\n",
       "      <th>5131</th>\n",
       "      <td>213745</td>\n",
       "      <td>646.0</td>\n",
       "      <td>Рыбинск</td>\n",
       "      <td>Ж</td>\n",
       "      <td>25</td>\n",
       "      <td>0</td>\n",
       "      <td>NaN</td>\n",
       "      <td>2</td>\n",
       "      <td>1</td>\n",
       "      <td>0</td>\n",
       "      <td>60562.33</td>\n",
       "      <td>0</td>\n",
       "    </tr>\n",
       "    <tr>\n",
       "      <th>5151</th>\n",
       "      <td>161519</td>\n",
       "      <td>654.0</td>\n",
       "      <td>Ярославль</td>\n",
       "      <td>М</td>\n",
       "      <td>39</td>\n",
       "      <td>0</td>\n",
       "      <td>NaN</td>\n",
       "      <td>1</td>\n",
       "      <td>1</td>\n",
       "      <td>1</td>\n",
       "      <td>193628.61</td>\n",
       "      <td>0</td>\n",
       "    </tr>\n",
       "    <tr>\n",
       "      <th>5413</th>\n",
       "      <td>118962</td>\n",
       "      <td>652.0</td>\n",
       "      <td>Ярославль</td>\n",
       "      <td>М</td>\n",
       "      <td>37</td>\n",
       "      <td>0</td>\n",
       "      <td>NaN</td>\n",
       "      <td>1</td>\n",
       "      <td>1</td>\n",
       "      <td>1</td>\n",
       "      <td>154508.84</td>\n",
       "      <td>0</td>\n",
       "    </tr>\n",
       "    <tr>\n",
       "      <th>5469</th>\n",
       "      <td>199619</td>\n",
       "      <td>652.0</td>\n",
       "      <td>Ярославль</td>\n",
       "      <td>Ж</td>\n",
       "      <td>38</td>\n",
       "      <td>0</td>\n",
       "      <td>NaN</td>\n",
       "      <td>1</td>\n",
       "      <td>1</td>\n",
       "      <td>0</td>\n",
       "      <td>97378.43</td>\n",
       "      <td>0</td>\n",
       "    </tr>\n",
       "    <tr>\n",
       "      <th>5974</th>\n",
       "      <td>175445</td>\n",
       "      <td>653.0</td>\n",
       "      <td>Ярославль</td>\n",
       "      <td>М</td>\n",
       "      <td>35</td>\n",
       "      <td>0</td>\n",
       "      <td>NaN</td>\n",
       "      <td>1</td>\n",
       "      <td>1</td>\n",
       "      <td>0</td>\n",
       "      <td>81670.79</td>\n",
       "      <td>0</td>\n",
       "    </tr>\n",
       "    <tr>\n",
       "      <th>6454</th>\n",
       "      <td>169067</td>\n",
       "      <td>649.0</td>\n",
       "      <td>Ярославль</td>\n",
       "      <td>М</td>\n",
       "      <td>55</td>\n",
       "      <td>0</td>\n",
       "      <td>NaN</td>\n",
       "      <td>1</td>\n",
       "      <td>1</td>\n",
       "      <td>1</td>\n",
       "      <td>130672.40</td>\n",
       "      <td>0</td>\n",
       "    </tr>\n",
       "    <tr>\n",
       "      <th>6751</th>\n",
       "      <td>182172</td>\n",
       "      <td>649.0</td>\n",
       "      <td>Ярославль</td>\n",
       "      <td>М</td>\n",
       "      <td>38</td>\n",
       "      <td>0</td>\n",
       "      <td>NaN</td>\n",
       "      <td>1</td>\n",
       "      <td>1</td>\n",
       "      <td>1</td>\n",
       "      <td>170288.90</td>\n",
       "      <td>0</td>\n",
       "    </tr>\n",
       "    <tr>\n",
       "      <th>6847</th>\n",
       "      <td>161547</td>\n",
       "      <td>653.0</td>\n",
       "      <td>Ярославль</td>\n",
       "      <td>М</td>\n",
       "      <td>45</td>\n",
       "      <td>0</td>\n",
       "      <td>NaN</td>\n",
       "      <td>1</td>\n",
       "      <td>1</td>\n",
       "      <td>1</td>\n",
       "      <td>190422.99</td>\n",
       "      <td>0</td>\n",
       "    </tr>\n",
       "    <tr>\n",
       "      <th>6871</th>\n",
       "      <td>117059</td>\n",
       "      <td>652.0</td>\n",
       "      <td>Ярославль</td>\n",
       "      <td>Ж</td>\n",
       "      <td>30</td>\n",
       "      <td>0</td>\n",
       "      <td>NaN</td>\n",
       "      <td>1</td>\n",
       "      <td>1</td>\n",
       "      <td>1</td>\n",
       "      <td>41050.07</td>\n",
       "      <td>0</td>\n",
       "    </tr>\n",
       "    <tr>\n",
       "      <th>7066</th>\n",
       "      <td>187450</td>\n",
       "      <td>642.0</td>\n",
       "      <td>Ростов</td>\n",
       "      <td>Ж</td>\n",
       "      <td>64</td>\n",
       "      <td>0</td>\n",
       "      <td>NaN</td>\n",
       "      <td>1</td>\n",
       "      <td>1</td>\n",
       "      <td>0</td>\n",
       "      <td>26429.40</td>\n",
       "      <td>0</td>\n",
       "    </tr>\n",
       "    <tr>\n",
       "      <th>7069</th>\n",
       "      <td>155677</td>\n",
       "      <td>650.0</td>\n",
       "      <td>Ярославль</td>\n",
       "      <td>Ж</td>\n",
       "      <td>65</td>\n",
       "      <td>0</td>\n",
       "      <td>NaN</td>\n",
       "      <td>1</td>\n",
       "      <td>1</td>\n",
       "      <td>1</td>\n",
       "      <td>29850.52</td>\n",
       "      <td>0</td>\n",
       "    </tr>\n",
       "    <tr>\n",
       "      <th>7355</th>\n",
       "      <td>204545</td>\n",
       "      <td>652.0</td>\n",
       "      <td>Рыбинск</td>\n",
       "      <td>М</td>\n",
       "      <td>68</td>\n",
       "      <td>1</td>\n",
       "      <td>NaN</td>\n",
       "      <td>1</td>\n",
       "      <td>1</td>\n",
       "      <td>1</td>\n",
       "      <td>55230.71</td>\n",
       "      <td>0</td>\n",
       "    </tr>\n",
       "    <tr>\n",
       "      <th>7371</th>\n",
       "      <td>124277</td>\n",
       "      <td>653.0</td>\n",
       "      <td>Ярославль</td>\n",
       "      <td>М</td>\n",
       "      <td>29</td>\n",
       "      <td>0</td>\n",
       "      <td>NaN</td>\n",
       "      <td>1</td>\n",
       "      <td>1</td>\n",
       "      <td>1</td>\n",
       "      <td>175693.54</td>\n",
       "      <td>0</td>\n",
       "    </tr>\n",
       "    <tr>\n",
       "      <th>8086</th>\n",
       "      <td>200957</td>\n",
       "      <td>653.0</td>\n",
       "      <td>Ярославль</td>\n",
       "      <td>М</td>\n",
       "      <td>45</td>\n",
       "      <td>0</td>\n",
       "      <td>NaN</td>\n",
       "      <td>1</td>\n",
       "      <td>1</td>\n",
       "      <td>0</td>\n",
       "      <td>103685.39</td>\n",
       "      <td>0</td>\n",
       "    </tr>\n",
       "    <tr>\n",
       "      <th>8619</th>\n",
       "      <td>224732</td>\n",
       "      <td>653.0</td>\n",
       "      <td>Ярославль</td>\n",
       "      <td>М</td>\n",
       "      <td>39</td>\n",
       "      <td>0</td>\n",
       "      <td>NaN</td>\n",
       "      <td>2</td>\n",
       "      <td>1</td>\n",
       "      <td>1</td>\n",
       "      <td>87181.47</td>\n",
       "      <td>0</td>\n",
       "    </tr>\n",
       "    <tr>\n",
       "      <th>8659</th>\n",
       "      <td>177273</td>\n",
       "      <td>653.0</td>\n",
       "      <td>Рыбинск</td>\n",
       "      <td>Ж</td>\n",
       "      <td>40</td>\n",
       "      <td>0</td>\n",
       "      <td>NaN</td>\n",
       "      <td>1</td>\n",
       "      <td>1</td>\n",
       "      <td>1</td>\n",
       "      <td>145628.58</td>\n",
       "      <td>0</td>\n",
       "    </tr>\n",
       "    <tr>\n",
       "      <th>9329</th>\n",
       "      <td>196787</td>\n",
       "      <td>649.0</td>\n",
       "      <td>Ярославль</td>\n",
       "      <td>Ж</td>\n",
       "      <td>32</td>\n",
       "      <td>0</td>\n",
       "      <td>NaN</td>\n",
       "      <td>1</td>\n",
       "      <td>1</td>\n",
       "      <td>1</td>\n",
       "      <td>102880.16</td>\n",
       "      <td>0</td>\n",
       "    </tr>\n",
       "    <tr>\n",
       "      <th>9826</th>\n",
       "      <td>174930</td>\n",
       "      <td>649.0</td>\n",
       "      <td>Рыбинск</td>\n",
       "      <td>Ж</td>\n",
       "      <td>60</td>\n",
       "      <td>0</td>\n",
       "      <td>NaN</td>\n",
       "      <td>1</td>\n",
       "      <td>1</td>\n",
       "      <td>0</td>\n",
       "      <td>64781.16</td>\n",
       "      <td>0</td>\n",
       "    </tr>\n",
       "  </tbody>\n",
       "</table>\n",
       "</div>"
      ],
      "text/plain": [
       "      user_id  score       city gender  age  equity  balance  products  \\\n",
       "263    210814  652.0  Ярославль      М   34       0      NaN         1   \n",
       "265    157448  649.0    Рыбинск      М   37       0      NaN         1   \n",
       "533    146648  649.0  Ярославль      М   33       0      NaN         1   \n",
       "921    179302  646.0  Ярославль      М   37       0      NaN         1   \n",
       "1291   181159  651.0  Ярославль      М   35       0      NaN         1   \n",
       "1304   157084  653.0    Рыбинск      М   53       0      NaN         2   \n",
       "2501   208801  650.0  Ярославль      М   56       0      NaN         1   \n",
       "2532   151179  642.0    Рыбинск      М   69       0      NaN         1   \n",
       "3008   156535  652.0    Рыбинск      М   55       0      NaN         2   \n",
       "3168   173067  649.0  Ярославль      М   46       0      NaN         1   \n",
       "3711   140889  653.0    Рыбинск      Ж   53       0      NaN         1   \n",
       "3838   213401  652.0    Рыбинск      М   40       0      NaN         1   \n",
       "4071   164000  648.0  Ярославль      М   28       0      NaN         1   \n",
       "4306   128243  651.0  Ярославль      Ж   58       0      NaN         1   \n",
       "4690   135725  648.0  Ярославль      Ж   59       0      NaN         1   \n",
       "5131   213745  646.0    Рыбинск      Ж   25       0      NaN         2   \n",
       "5151   161519  654.0  Ярославль      М   39       0      NaN         1   \n",
       "5413   118962  652.0  Ярославль      М   37       0      NaN         1   \n",
       "5469   199619  652.0  Ярославль      Ж   38       0      NaN         1   \n",
       "5974   175445  653.0  Ярославль      М   35       0      NaN         1   \n",
       "6454   169067  649.0  Ярославль      М   55       0      NaN         1   \n",
       "6751   182172  649.0  Ярославль      М   38       0      NaN         1   \n",
       "6847   161547  653.0  Ярославль      М   45       0      NaN         1   \n",
       "6871   117059  652.0  Ярославль      Ж   30       0      NaN         1   \n",
       "7066   187450  642.0     Ростов      Ж   64       0      NaN         1   \n",
       "7069   155677  650.0  Ярославль      Ж   65       0      NaN         1   \n",
       "7355   204545  652.0    Рыбинск      М   68       1      NaN         1   \n",
       "7371   124277  653.0  Ярославль      М   29       0      NaN         1   \n",
       "8086   200957  653.0  Ярославль      М   45       0      NaN         1   \n",
       "8619   224732  653.0  Ярославль      М   39       0      NaN         2   \n",
       "8659   177273  653.0    Рыбинск      Ж   40       0      NaN         1   \n",
       "9329   196787  649.0  Ярославль      Ж   32       0      NaN         1   \n",
       "9826   174930  649.0    Рыбинск      Ж   60       0      NaN         1   \n",
       "\n",
       "      credit_card  last_activity  est_salary  churn  \n",
       "263             1              1   188786.49      0  \n",
       "265             1              1    81942.85      0  \n",
       "533             1              1   149318.49      0  \n",
       "921             1              1   148297.71      0  \n",
       "1291            1              1   180550.90      0  \n",
       "1304            1              0    72345.06      0  \n",
       "2501            1              0   119643.06      0  \n",
       "2532            1              1    35917.41      0  \n",
       "3008            1              1    60374.86      0  \n",
       "3168            1              1   121654.31      0  \n",
       "3711            1              1   119719.33      0  \n",
       "3838            1              0   206397.27      0  \n",
       "4071            1              0    27790.15      0  \n",
       "4306            1              1   118797.63      0  \n",
       "4690            1              1    50326.03      0  \n",
       "5131            1              0    60562.33      0  \n",
       "5151            1              1   193628.61      0  \n",
       "5413            1              1   154508.84      0  \n",
       "5469            1              0    97378.43      0  \n",
       "5974            1              0    81670.79      0  \n",
       "6454            1              1   130672.40      0  \n",
       "6751            1              1   170288.90      0  \n",
       "6847            1              1   190422.99      0  \n",
       "6871            1              1    41050.07      0  \n",
       "7066            1              0    26429.40      0  \n",
       "7069            1              1    29850.52      0  \n",
       "7355            1              1    55230.71      0  \n",
       "7371            1              1   175693.54      0  \n",
       "8086            1              0   103685.39      0  \n",
       "8619            1              1    87181.47      0  \n",
       "8659            1              1   145628.58      0  \n",
       "9329            1              1   102880.16      0  \n",
       "9826            1              0    64781.16      0  "
      ]
     },
     "execution_count": 17,
     "metadata": {},
     "output_type": "execute_result"
    }
   ],
   "source": [
    "# строим таблицу с клиентами с самыми низкими кредитными рейтингами\n",
    "data[data['score'] < 655]"
   ]
  },
  {
   "cell_type": "markdown",
   "id": "392d6505",
   "metadata": {},
   "source": [
    "Я не стану удалять эти данные, так как можно заметить, что клиенты, имеющие экстремально низкие рейтинги, все владеют кредитными картами и не покинули банк."
   ]
  },
  {
   "cell_type": "markdown",
   "id": "0d8fb598",
   "metadata": {},
   "source": [
    "#### в возрасте"
   ]
  },
  {
   "cell_type": "code",
   "execution_count": 18,
   "id": "67e8934c",
   "metadata": {},
   "outputs": [
    {
     "data": {
      "image/png": "[encoded data removed]",
      "text/plain": [
       "<Figure size 1000x500 with 1 Axes>"
      ]
     },
     "metadata": {},
     "output_type": "display_data"
    }
   ],
   "source": [
    "# строим диаграмму размаха по возрасту\n",
    "data_box('age', 'Диаграмма размаха по возрасту')"
   ]
  },
  {
   "cell_type": "markdown",
   "id": "b0db1c42",
   "metadata": {},
   "source": [
    "Медианный возраст клиентов равен 40 годам, минимальный 18, максимальный больше 80. Расммотрим верхнюю часть ближе."
   ]
  },
  {
   "cell_type": "code",
   "execution_count": 19,
   "id": "8e059ae0",
   "metadata": {},
   "outputs": [
    {
     "data": {
      "image/png": "[encoded data removed]",
      "text/plain": [
       "<Figure size 1000x500 with 1 Axes>"
      ]
     },
     "metadata": {},
     "output_type": "display_data"
    }
   ],
   "source": [
    "# строим диаграмму размаха по возрасту c лимитом\n",
    "data_box_lim('age', 'Диаграмма размаха по возрасту', 70, 90)"
   ]
  },
  {
   "cell_type": "markdown",
   "id": "c14647c7",
   "metadata": {},
   "source": [
    "Есть клиенты возрастом старше 76 лет, что выходит за нормы, посмотрим в таблице."
   ]
  },
  {
   "cell_type": "code",
   "execution_count": 20,
   "id": "b2662311",
   "metadata": {},
   "outputs": [
    {
     "data": {
      "text/html": [
       "<div>\n",
       "<style scoped>\n",
       "    .dataframe tbody tr th:only-of-type {\n",
       "        vertical-align: middle;\n",
       "    }\n",
       "\n",
       "    .dataframe tbody tr th {\n",
       "        vertical-align: top;\n",
       "    }\n",
       "\n",
       "    .dataframe thead th {\n",
       "        text-align: right;\n",
       "    }\n",
       "</style>\n",
       "<table border=\"1\" class=\"dataframe\">\n",
       "  <thead>\n",
       "    <tr style=\"text-align: right;\">\n",
       "      <th></th>\n",
       "      <th>user_id</th>\n",
       "      <th>score</th>\n",
       "      <th>city</th>\n",
       "      <th>gender</th>\n",
       "      <th>age</th>\n",
       "      <th>equity</th>\n",
       "      <th>balance</th>\n",
       "      <th>products</th>\n",
       "      <th>credit_card</th>\n",
       "      <th>last_activity</th>\n",
       "      <th>est_salary</th>\n",
       "      <th>churn</th>\n",
       "    </tr>\n",
       "  </thead>\n",
       "  <tbody>\n",
       "    <tr>\n",
       "      <th>219</th>\n",
       "      <td>161758</td>\n",
       "      <td>754.0</td>\n",
       "      <td>Ярославль</td>\n",
       "      <td>Ж</td>\n",
       "      <td>80</td>\n",
       "      <td>1</td>\n",
       "      <td>332616.82</td>\n",
       "      <td>3</td>\n",
       "      <td>0</td>\n",
       "      <td>1</td>\n",
       "      <td>114804.27</td>\n",
       "      <td>0</td>\n",
       "    </tr>\n",
       "    <tr>\n",
       "      <th>255</th>\n",
       "      <td>219624</td>\n",
       "      <td>906.0</td>\n",
       "      <td>Ростов</td>\n",
       "      <td>Ж</td>\n",
       "      <td>77</td>\n",
       "      <td>0</td>\n",
       "      <td>NaN</td>\n",
       "      <td>1</td>\n",
       "      <td>1</td>\n",
       "      <td>0</td>\n",
       "      <td>138937.87</td>\n",
       "      <td>0</td>\n",
       "    </tr>\n",
       "    <tr>\n",
       "      <th>396</th>\n",
       "      <td>205650</td>\n",
       "      <td>869.0</td>\n",
       "      <td>Ростов</td>\n",
       "      <td>Ж</td>\n",
       "      <td>80</td>\n",
       "      <td>4</td>\n",
       "      <td>570064.04</td>\n",
       "      <td>2</td>\n",
       "      <td>0</td>\n",
       "      <td>0</td>\n",
       "      <td>25503.20</td>\n",
       "      <td>0</td>\n",
       "    </tr>\n",
       "    <tr>\n",
       "      <th>414</th>\n",
       "      <td>129007</td>\n",
       "      <td>708.0</td>\n",
       "      <td>Рыбинск</td>\n",
       "      <td>Ж</td>\n",
       "      <td>78</td>\n",
       "      <td>0</td>\n",
       "      <td>NaN</td>\n",
       "      <td>1</td>\n",
       "      <td>1</td>\n",
       "      <td>1</td>\n",
       "      <td>342387.74</td>\n",
       "      <td>0</td>\n",
       "    </tr>\n",
       "    <tr>\n",
       "      <th>505</th>\n",
       "      <td>205035</td>\n",
       "      <td>725.0</td>\n",
       "      <td>Рыбинск</td>\n",
       "      <td>Ж</td>\n",
       "      <td>77</td>\n",
       "      <td>3</td>\n",
       "      <td>73.00</td>\n",
       "      <td>2</td>\n",
       "      <td>0</td>\n",
       "      <td>1</td>\n",
       "      <td>8729.84</td>\n",
       "      <td>0</td>\n",
       "    </tr>\n",
       "    <tr>\n",
       "      <th>540</th>\n",
       "      <td>188460</td>\n",
       "      <td>720.0</td>\n",
       "      <td>Ярославль</td>\n",
       "      <td>Ж</td>\n",
       "      <td>80</td>\n",
       "      <td>0</td>\n",
       "      <td>NaN</td>\n",
       "      <td>1</td>\n",
       "      <td>1</td>\n",
       "      <td>1</td>\n",
       "      <td>153804.84</td>\n",
       "      <td>0</td>\n",
       "    </tr>\n",
       "    <tr>\n",
       "      <th>1017</th>\n",
       "      <td>116085</td>\n",
       "      <td>832.0</td>\n",
       "      <td>Ярославль</td>\n",
       "      <td>Ж</td>\n",
       "      <td>81</td>\n",
       "      <td>1</td>\n",
       "      <td>363743.96</td>\n",
       "      <td>2</td>\n",
       "      <td>0</td>\n",
       "      <td>0</td>\n",
       "      <td>36681.22</td>\n",
       "      <td>0</td>\n",
       "    </tr>\n",
       "    <tr>\n",
       "      <th>1115</th>\n",
       "      <td>186415</td>\n",
       "      <td>917.0</td>\n",
       "      <td>Рыбинск</td>\n",
       "      <td>Ж</td>\n",
       "      <td>77</td>\n",
       "      <td>3</td>\n",
       "      <td>1787688.72</td>\n",
       "      <td>3</td>\n",
       "      <td>1</td>\n",
       "      <td>0</td>\n",
       "      <td>73650.19</td>\n",
       "      <td>0</td>\n",
       "    </tr>\n",
       "    <tr>\n",
       "      <th>1283</th>\n",
       "      <td>127231</td>\n",
       "      <td>796.0</td>\n",
       "      <td>Рыбинск</td>\n",
       "      <td>Ж</td>\n",
       "      <td>80</td>\n",
       "      <td>1</td>\n",
       "      <td>347590.32</td>\n",
       "      <td>2</td>\n",
       "      <td>1</td>\n",
       "      <td>0</td>\n",
       "      <td>27123.50</td>\n",
       "      <td>0</td>\n",
       "    </tr>\n",
       "    <tr>\n",
       "      <th>1621</th>\n",
       "      <td>151166</td>\n",
       "      <td>916.0</td>\n",
       "      <td>Рыбинск</td>\n",
       "      <td>Ж</td>\n",
       "      <td>83</td>\n",
       "      <td>0</td>\n",
       "      <td>NaN</td>\n",
       "      <td>1</td>\n",
       "      <td>1</td>\n",
       "      <td>1</td>\n",
       "      <td>55681.82</td>\n",
       "      <td>0</td>\n",
       "    </tr>\n",
       "    <tr>\n",
       "      <th>1987</th>\n",
       "      <td>219132</td>\n",
       "      <td>827.0</td>\n",
       "      <td>Рыбинск</td>\n",
       "      <td>Ж</td>\n",
       "      <td>82</td>\n",
       "      <td>3</td>\n",
       "      <td>275391.31</td>\n",
       "      <td>3</td>\n",
       "      <td>0</td>\n",
       "      <td>0</td>\n",
       "      <td>59205.90</td>\n",
       "      <td>0</td>\n",
       "    </tr>\n",
       "    <tr>\n",
       "      <th>2076</th>\n",
       "      <td>134342</td>\n",
       "      <td>876.0</td>\n",
       "      <td>Ярославль</td>\n",
       "      <td>Ж</td>\n",
       "      <td>78</td>\n",
       "      <td>5</td>\n",
       "      <td>2059854.80</td>\n",
       "      <td>2</td>\n",
       "      <td>1</td>\n",
       "      <td>1</td>\n",
       "      <td>81278.75</td>\n",
       "      <td>0</td>\n",
       "    </tr>\n",
       "    <tr>\n",
       "      <th>2795</th>\n",
       "      <td>214518</td>\n",
       "      <td>820.0</td>\n",
       "      <td>Ярославль</td>\n",
       "      <td>Ж</td>\n",
       "      <td>83</td>\n",
       "      <td>3</td>\n",
       "      <td>1137456.03</td>\n",
       "      <td>3</td>\n",
       "      <td>0</td>\n",
       "      <td>0</td>\n",
       "      <td>18037.97</td>\n",
       "      <td>0</td>\n",
       "    </tr>\n",
       "    <tr>\n",
       "      <th>3272</th>\n",
       "      <td>207759</td>\n",
       "      <td>888.0</td>\n",
       "      <td>Ярославль</td>\n",
       "      <td>Ж</td>\n",
       "      <td>84</td>\n",
       "      <td>3</td>\n",
       "      <td>1287558.90</td>\n",
       "      <td>3</td>\n",
       "      <td>0</td>\n",
       "      <td>1</td>\n",
       "      <td>97982.17</td>\n",
       "      <td>0</td>\n",
       "    </tr>\n",
       "    <tr>\n",
       "      <th>4263</th>\n",
       "      <td>168328</td>\n",
       "      <td>889.0</td>\n",
       "      <td>Рыбинск</td>\n",
       "      <td>Ж</td>\n",
       "      <td>77</td>\n",
       "      <td>4</td>\n",
       "      <td>1240389.42</td>\n",
       "      <td>1</td>\n",
       "      <td>1</td>\n",
       "      <td>1</td>\n",
       "      <td>55688.23</td>\n",
       "      <td>0</td>\n",
       "    </tr>\n",
       "    <tr>\n",
       "      <th>4387</th>\n",
       "      <td>117913</td>\n",
       "      <td>658.0</td>\n",
       "      <td>Рыбинск</td>\n",
       "      <td>Ж</td>\n",
       "      <td>81</td>\n",
       "      <td>0</td>\n",
       "      <td>NaN</td>\n",
       "      <td>1</td>\n",
       "      <td>1</td>\n",
       "      <td>1</td>\n",
       "      <td>105088.10</td>\n",
       "      <td>0</td>\n",
       "    </tr>\n",
       "    <tr>\n",
       "      <th>4671</th>\n",
       "      <td>137654</td>\n",
       "      <td>836.0</td>\n",
       "      <td>Рыбинск</td>\n",
       "      <td>Ж</td>\n",
       "      <td>77</td>\n",
       "      <td>5</td>\n",
       "      <td>556009.74</td>\n",
       "      <td>2</td>\n",
       "      <td>1</td>\n",
       "      <td>1</td>\n",
       "      <td>12040.56</td>\n",
       "      <td>0</td>\n",
       "    </tr>\n",
       "    <tr>\n",
       "      <th>4703</th>\n",
       "      <td>219171</td>\n",
       "      <td>851.0</td>\n",
       "      <td>Ростов</td>\n",
       "      <td>Ж</td>\n",
       "      <td>80</td>\n",
       "      <td>3</td>\n",
       "      <td>411612.85</td>\n",
       "      <td>1</td>\n",
       "      <td>1</td>\n",
       "      <td>1</td>\n",
       "      <td>22280.91</td>\n",
       "      <td>0</td>\n",
       "    </tr>\n",
       "    <tr>\n",
       "      <th>4808</th>\n",
       "      <td>123464</td>\n",
       "      <td>846.0</td>\n",
       "      <td>Ярославль</td>\n",
       "      <td>Ж</td>\n",
       "      <td>80</td>\n",
       "      <td>1</td>\n",
       "      <td>182518.55</td>\n",
       "      <td>2</td>\n",
       "      <td>0</td>\n",
       "      <td>0</td>\n",
       "      <td>80769.31</td>\n",
       "      <td>0</td>\n",
       "    </tr>\n",
       "    <tr>\n",
       "      <th>4890</th>\n",
       "      <td>154468</td>\n",
       "      <td>879.0</td>\n",
       "      <td>Ростов</td>\n",
       "      <td>Ж</td>\n",
       "      <td>77</td>\n",
       "      <td>3</td>\n",
       "      <td>368364.95</td>\n",
       "      <td>2</td>\n",
       "      <td>0</td>\n",
       "      <td>1</td>\n",
       "      <td>60056.40</td>\n",
       "      <td>0</td>\n",
       "    </tr>\n",
       "    <tr>\n",
       "      <th>5037</th>\n",
       "      <td>167867</td>\n",
       "      <td>810.0</td>\n",
       "      <td>Ярославль</td>\n",
       "      <td>Ж</td>\n",
       "      <td>77</td>\n",
       "      <td>5</td>\n",
       "      <td>1248818.04</td>\n",
       "      <td>2</td>\n",
       "      <td>1</td>\n",
       "      <td>1</td>\n",
       "      <td>142895.94</td>\n",
       "      <td>0</td>\n",
       "    </tr>\n",
       "    <tr>\n",
       "      <th>5602</th>\n",
       "      <td>151854</td>\n",
       "      <td>707.0</td>\n",
       "      <td>Ярославль</td>\n",
       "      <td>Ж</td>\n",
       "      <td>81</td>\n",
       "      <td>0</td>\n",
       "      <td>NaN</td>\n",
       "      <td>1</td>\n",
       "      <td>1</td>\n",
       "      <td>0</td>\n",
       "      <td>102360.77</td>\n",
       "      <td>0</td>\n",
       "    </tr>\n",
       "    <tr>\n",
       "      <th>5673</th>\n",
       "      <td>147965</td>\n",
       "      <td>854.0</td>\n",
       "      <td>Ярославль</td>\n",
       "      <td>Ж</td>\n",
       "      <td>81</td>\n",
       "      <td>3</td>\n",
       "      <td>803337.98</td>\n",
       "      <td>2</td>\n",
       "      <td>0</td>\n",
       "      <td>1</td>\n",
       "      <td>50386.82</td>\n",
       "      <td>0</td>\n",
       "    </tr>\n",
       "    <tr>\n",
       "      <th>5804</th>\n",
       "      <td>197344</td>\n",
       "      <td>782.0</td>\n",
       "      <td>Ярославль</td>\n",
       "      <td>Ж</td>\n",
       "      <td>77</td>\n",
       "      <td>4</td>\n",
       "      <td>324585.74</td>\n",
       "      <td>3</td>\n",
       "      <td>1</td>\n",
       "      <td>1</td>\n",
       "      <td>27581.53</td>\n",
       "      <td>0</td>\n",
       "    </tr>\n",
       "    <tr>\n",
       "      <th>6043</th>\n",
       "      <td>180843</td>\n",
       "      <td>855.0</td>\n",
       "      <td>Ярославль</td>\n",
       "      <td>Ж</td>\n",
       "      <td>78</td>\n",
       "      <td>3</td>\n",
       "      <td>612576.91</td>\n",
       "      <td>1</td>\n",
       "      <td>1</td>\n",
       "      <td>1</td>\n",
       "      <td>56222.90</td>\n",
       "      <td>0</td>\n",
       "    </tr>\n",
       "    <tr>\n",
       "      <th>7271</th>\n",
       "      <td>164676</td>\n",
       "      <td>790.0</td>\n",
       "      <td>Рыбинск</td>\n",
       "      <td>Ж</td>\n",
       "      <td>77</td>\n",
       "      <td>1</td>\n",
       "      <td>111202.01</td>\n",
       "      <td>1</td>\n",
       "      <td>1</td>\n",
       "      <td>0</td>\n",
       "      <td>32835.45</td>\n",
       "      <td>0</td>\n",
       "    </tr>\n",
       "    <tr>\n",
       "      <th>7290</th>\n",
       "      <td>130894</td>\n",
       "      <td>890.0</td>\n",
       "      <td>Ростов</td>\n",
       "      <td>Ж</td>\n",
       "      <td>78</td>\n",
       "      <td>8</td>\n",
       "      <td>592866.99</td>\n",
       "      <td>2</td>\n",
       "      <td>0</td>\n",
       "      <td>1</td>\n",
       "      <td>70708.74</td>\n",
       "      <td>0</td>\n",
       "    </tr>\n",
       "    <tr>\n",
       "      <th>7569</th>\n",
       "      <td>161512</td>\n",
       "      <td>892.0</td>\n",
       "      <td>Ярославль</td>\n",
       "      <td>Ж</td>\n",
       "      <td>79</td>\n",
       "      <td>3</td>\n",
       "      <td>337392.63</td>\n",
       "      <td>2</td>\n",
       "      <td>1</td>\n",
       "      <td>0</td>\n",
       "      <td>103858.46</td>\n",
       "      <td>0</td>\n",
       "    </tr>\n",
       "    <tr>\n",
       "      <th>7677</th>\n",
       "      <td>220593</td>\n",
       "      <td>892.0</td>\n",
       "      <td>Ярославль</td>\n",
       "      <td>Ж</td>\n",
       "      <td>78</td>\n",
       "      <td>4</td>\n",
       "      <td>911884.22</td>\n",
       "      <td>3</td>\n",
       "      <td>0</td>\n",
       "      <td>0</td>\n",
       "      <td>67891.26</td>\n",
       "      <td>0</td>\n",
       "    </tr>\n",
       "    <tr>\n",
       "      <th>7750</th>\n",
       "      <td>126298</td>\n",
       "      <td>896.0</td>\n",
       "      <td>Ярославль</td>\n",
       "      <td>Ж</td>\n",
       "      <td>78</td>\n",
       "      <td>0</td>\n",
       "      <td>NaN</td>\n",
       "      <td>1</td>\n",
       "      <td>1</td>\n",
       "      <td>1</td>\n",
       "      <td>67343.92</td>\n",
       "      <td>0</td>\n",
       "    </tr>\n",
       "    <tr>\n",
       "      <th>8112</th>\n",
       "      <td>180074</td>\n",
       "      <td>840.0</td>\n",
       "      <td>Ростов</td>\n",
       "      <td>Ж</td>\n",
       "      <td>78</td>\n",
       "      <td>2</td>\n",
       "      <td>286195.86</td>\n",
       "      <td>2</td>\n",
       "      <td>0</td>\n",
       "      <td>0</td>\n",
       "      <td>37497.34</td>\n",
       "      <td>0</td>\n",
       "    </tr>\n",
       "    <tr>\n",
       "      <th>8237</th>\n",
       "      <td>208065</td>\n",
       "      <td>785.0</td>\n",
       "      <td>Рыбинск</td>\n",
       "      <td>Ж</td>\n",
       "      <td>82</td>\n",
       "      <td>2</td>\n",
       "      <td>1221645.78</td>\n",
       "      <td>3</td>\n",
       "      <td>1</td>\n",
       "      <td>1</td>\n",
       "      <td>66059.88</td>\n",
       "      <td>0</td>\n",
       "    </tr>\n",
       "    <tr>\n",
       "      <th>8957</th>\n",
       "      <td>147837</td>\n",
       "      <td>962.0</td>\n",
       "      <td>Рыбинск</td>\n",
       "      <td>Ж</td>\n",
       "      <td>79</td>\n",
       "      <td>3</td>\n",
       "      <td>NaN</td>\n",
       "      <td>0</td>\n",
       "      <td>0</td>\n",
       "      <td>0</td>\n",
       "      <td>25063.96</td>\n",
       "      <td>1</td>\n",
       "    </tr>\n",
       "    <tr>\n",
       "      <th>9176</th>\n",
       "      <td>116838</td>\n",
       "      <td>777.0</td>\n",
       "      <td>Ярославль</td>\n",
       "      <td>Ж</td>\n",
       "      <td>86</td>\n",
       "      <td>3</td>\n",
       "      <td>772929.83</td>\n",
       "      <td>1</td>\n",
       "      <td>1</td>\n",
       "      <td>1</td>\n",
       "      <td>40877.18</td>\n",
       "      <td>0</td>\n",
       "    </tr>\n",
       "    <tr>\n",
       "      <th>9302</th>\n",
       "      <td>168360</td>\n",
       "      <td>960.0</td>\n",
       "      <td>Рыбинск</td>\n",
       "      <td>Ж</td>\n",
       "      <td>80</td>\n",
       "      <td>0</td>\n",
       "      <td>NaN</td>\n",
       "      <td>1</td>\n",
       "      <td>0</td>\n",
       "      <td>1</td>\n",
       "      <td>548776.90</td>\n",
       "      <td>0</td>\n",
       "    </tr>\n",
       "    <tr>\n",
       "      <th>9413</th>\n",
       "      <td>135210</td>\n",
       "      <td>921.0</td>\n",
       "      <td>Ярославль</td>\n",
       "      <td>Ж</td>\n",
       "      <td>86</td>\n",
       "      <td>0</td>\n",
       "      <td>NaN</td>\n",
       "      <td>1</td>\n",
       "      <td>0</td>\n",
       "      <td>1</td>\n",
       "      <td>36185.91</td>\n",
       "      <td>0</td>\n",
       "    </tr>\n",
       "    <tr>\n",
       "      <th>9423</th>\n",
       "      <td>159150</td>\n",
       "      <td>872.0</td>\n",
       "      <td>Рыбинск</td>\n",
       "      <td>Ж</td>\n",
       "      <td>84</td>\n",
       "      <td>3</td>\n",
       "      <td>418462.51</td>\n",
       "      <td>1</td>\n",
       "      <td>1</td>\n",
       "      <td>1</td>\n",
       "      <td>34945.79</td>\n",
       "      <td>0</td>\n",
       "    </tr>\n",
       "    <tr>\n",
       "      <th>9442</th>\n",
       "      <td>196479</td>\n",
       "      <td>872.0</td>\n",
       "      <td>Ростов</td>\n",
       "      <td>Ж</td>\n",
       "      <td>83</td>\n",
       "      <td>4</td>\n",
       "      <td>546313.32</td>\n",
       "      <td>1</td>\n",
       "      <td>1</td>\n",
       "      <td>1</td>\n",
       "      <td>91801.67</td>\n",
       "      <td>0</td>\n",
       "    </tr>\n",
       "    <tr>\n",
       "      <th>9461</th>\n",
       "      <td>140275</td>\n",
       "      <td>898.0</td>\n",
       "      <td>Ярославль</td>\n",
       "      <td>Ж</td>\n",
       "      <td>80</td>\n",
       "      <td>2</td>\n",
       "      <td>1331131.18</td>\n",
       "      <td>2</td>\n",
       "      <td>1</td>\n",
       "      <td>1</td>\n",
       "      <td>107008.80</td>\n",
       "      <td>0</td>\n",
       "    </tr>\n",
       "    <tr>\n",
       "      <th>9580</th>\n",
       "      <td>214013</td>\n",
       "      <td>908.0</td>\n",
       "      <td>Ростов</td>\n",
       "      <td>Ж</td>\n",
       "      <td>77</td>\n",
       "      <td>1</td>\n",
       "      <td>292532.68</td>\n",
       "      <td>2</td>\n",
       "      <td>1</td>\n",
       "      <td>1</td>\n",
       "      <td>38150.10</td>\n",
       "      <td>0</td>\n",
       "    </tr>\n",
       "    <tr>\n",
       "      <th>9755</th>\n",
       "      <td>172175</td>\n",
       "      <td>839.0</td>\n",
       "      <td>Рыбинск</td>\n",
       "      <td>Ж</td>\n",
       "      <td>81</td>\n",
       "      <td>2</td>\n",
       "      <td>386253.06</td>\n",
       "      <td>2</td>\n",
       "      <td>0</td>\n",
       "      <td>1</td>\n",
       "      <td>46585.96</td>\n",
       "      <td>0</td>\n",
       "    </tr>\n",
       "  </tbody>\n",
       "</table>\n",
       "</div>"
      ],
      "text/plain": [
       "      user_id  score       city gender  age  equity     balance  products  \\\n",
       "219    161758  754.0  Ярославль      Ж   80       1   332616.82         3   \n",
       "255    219624  906.0     Ростов      Ж   77       0         NaN         1   \n",
       "396    205650  869.0     Ростов      Ж   80       4   570064.04         2   \n",
       "414    129007  708.0    Рыбинск      Ж   78       0         NaN         1   \n",
       "505    205035  725.0    Рыбинск      Ж   77       3       73.00         2   \n",
       "540    188460  720.0  Ярославль      Ж   80       0         NaN         1   \n",
       "1017   116085  832.0  Ярославль      Ж   81       1   363743.96         2   \n",
       "1115   186415  917.0    Рыбинск      Ж   77       3  1787688.72         3   \n",
       "1283   127231  796.0    Рыбинск      Ж   80       1   347590.32         2   \n",
       "1621   151166  916.0    Рыбинск      Ж   83       0         NaN         1   \n",
       "1987   219132  827.0    Рыбинск      Ж   82       3   275391.31         3   \n",
       "2076   134342  876.0  Ярославль      Ж   78       5  2059854.80         2   \n",
       "2795   214518  820.0  Ярославль      Ж   83       3  1137456.03         3   \n",
       "3272   207759  888.0  Ярославль      Ж   84       3  1287558.90         3   \n",
       "4263   168328  889.0    Рыбинск      Ж   77       4  1240389.42         1   \n",
       "4387   117913  658.0    Рыбинск      Ж   81       0         NaN         1   \n",
       "4671   137654  836.0    Рыбинск      Ж   77       5   556009.74         2   \n",
       "4703   219171  851.0     Ростов      Ж   80       3   411612.85         1   \n",
       "4808   123464  846.0  Ярославль      Ж   80       1   182518.55         2   \n",
       "4890   154468  879.0     Ростов      Ж   77       3   368364.95         2   \n",
       "5037   167867  810.0  Ярославль      Ж   77       5  1248818.04         2   \n",
       "5602   151854  707.0  Ярославль      Ж   81       0         NaN         1   \n",
       "5673   147965  854.0  Ярославль      Ж   81       3   803337.98         2   \n",
       "5804   197344  782.0  Ярославль      Ж   77       4   324585.74         3   \n",
       "6043   180843  855.0  Ярославль      Ж   78       3   612576.91         1   \n",
       "7271   164676  790.0    Рыбинск      Ж   77       1   111202.01         1   \n",
       "7290   130894  890.0     Ростов      Ж   78       8   592866.99         2   \n",
       "7569   161512  892.0  Ярославль      Ж   79       3   337392.63         2   \n",
       "7677   220593  892.0  Ярославль      Ж   78       4   911884.22         3   \n",
       "7750   126298  896.0  Ярославль      Ж   78       0         NaN         1   \n",
       "8112   180074  840.0     Ростов      Ж   78       2   286195.86         2   \n",
       "8237   208065  785.0    Рыбинск      Ж   82       2  1221645.78         3   \n",
       "8957   147837  962.0    Рыбинск      Ж   79       3         NaN         0   \n",
       "9176   116838  777.0  Ярославль      Ж   86       3   772929.83         1   \n",
       "9302   168360  960.0    Рыбинск      Ж   80       0         NaN         1   \n",
       "9413   135210  921.0  Ярославль      Ж   86       0         NaN         1   \n",
       "9423   159150  872.0    Рыбинск      Ж   84       3   418462.51         1   \n",
       "9442   196479  872.0     Ростов      Ж   83       4   546313.32         1   \n",
       "9461   140275  898.0  Ярославль      Ж   80       2  1331131.18         2   \n",
       "9580   214013  908.0     Ростов      Ж   77       1   292532.68         2   \n",
       "9755   172175  839.0    Рыбинск      Ж   81       2   386253.06         2   \n",
       "\n",
       "      credit_card  last_activity  est_salary  churn  \n",
       "219             0              1   114804.27      0  \n",
       "255             1              0   138937.87      0  \n",
       "396             0              0    25503.20      0  \n",
       "414             1              1   342387.74      0  \n",
       "505             0              1     8729.84      0  \n",
       "540             1              1   153804.84      0  \n",
       "1017            0              0    36681.22      0  \n",
       "1115            1              0    73650.19      0  \n",
       "1283            1              0    27123.50      0  \n",
       "1621            1              1    55681.82      0  \n",
       "1987            0              0    59205.90      0  \n",
       "2076            1              1    81278.75      0  \n",
       "2795            0              0    18037.97      0  \n",
       "3272            0              1    97982.17      0  \n",
       "4263            1              1    55688.23      0  \n",
       "4387            1              1   105088.10      0  \n",
       "4671            1              1    12040.56      0  \n",
       "4703            1              1    22280.91      0  \n",
       "4808            0              0    80769.31      0  \n",
       "4890            0              1    60056.40      0  \n",
       "5037            1              1   142895.94      0  \n",
       "5602            1              0   102360.77      0  \n",
       "5673            0              1    50386.82      0  \n",
       "5804            1              1    27581.53      0  \n",
       "6043            1              1    56222.90      0  \n",
       "7271            1              0    32835.45      0  \n",
       "7290            0              1    70708.74      0  \n",
       "7569            1              0   103858.46      0  \n",
       "7677            0              0    67891.26      0  \n",
       "7750            1              1    67343.92      0  \n",
       "8112            0              0    37497.34      0  \n",
       "8237            1              1    66059.88      0  \n",
       "8957            0              0    25063.96      1  \n",
       "9176            1              1    40877.18      0  \n",
       "9302            0              1   548776.90      0  \n",
       "9413            0              1    36185.91      0  \n",
       "9423            1              1    34945.79      0  \n",
       "9442            1              1    91801.67      0  \n",
       "9461            1              1   107008.80      0  \n",
       "9580            1              1    38150.10      0  \n",
       "9755            0              1    46585.96      0  "
      ]
     },
     "execution_count": 20,
     "metadata": {},
     "output_type": "execute_result"
    }
   ],
   "source": [
    "# строим таблицу с клиентами старше 76 лет\n",
    "data[data['age'] > 76]"
   ]
  },
  {
   "cell_type": "markdown",
   "id": "78861a5f",
   "metadata": {},
   "source": [
    "Ситуация очень интересная - все клиенты старше 76 лет являются женщинами. Эти выбросы тоже не буду удалять."
   ]
  },
  {
   "cell_type": "markdown",
   "id": "30e6994d",
   "metadata": {},
   "source": [
    "#### в балансе на счете"
   ]
  },
  {
   "cell_type": "code",
   "execution_count": 21,
   "id": "b7cff120",
   "metadata": {},
   "outputs": [
    {
     "data": {
      "image/png": "[encoded data removed]",
      "text/plain": [
       "<Figure size 1000x500 with 1 Axes>"
      ]
     },
     "metadata": {},
     "output_type": "display_data"
    }
   ],
   "source": [
    "# строим диаграмму размаха по балансу\n",
    "data_box('balance', 'Диаграмма размаха по балансу на счете')"
   ]
  },
  {
   "cell_type": "markdown",
   "id": "d7793af0",
   "metadata": {},
   "source": [
    "Есть явные выбросы, настолько сильные, что даже не посмотреть распределение, поставим лимиты."
   ]
  },
  {
   "cell_type": "code",
   "execution_count": 22,
   "id": "51c3bb24",
   "metadata": {},
   "outputs": [
    {
     "data": {
      "image/png": "[encoded data removed]",
      "text/plain": [
       "<Figure size 1000x500 with 1 Axes>"
      ]
     },
     "metadata": {},
     "output_type": "display_data"
    }
   ],
   "source": [
    "# строим диаграмму размаха по балансу с лимитами\n",
    "data_box_lim('balance', 'Диаграмма размаха по балансу на счете', 20000000, 125000000)"
   ]
  },
  {
   "cell_type": "markdown",
   "id": "919376da",
   "metadata": {},
   "source": [
    "Кто-то хранит на счете огромные суммы. Давайте посмотрим по таблице и решим, что делать."
   ]
  },
  {
   "cell_type": "code",
   "execution_count": 23,
   "id": "dd40fbb4",
   "metadata": {
    "scrolled": true
   },
   "outputs": [
    {
     "data": {
      "text/html": [
       "<div>\n",
       "<style scoped>\n",
       "    .dataframe tbody tr th:only-of-type {\n",
       "        vertical-align: middle;\n",
       "    }\n",
       "\n",
       "    .dataframe tbody tr th {\n",
       "        vertical-align: top;\n",
       "    }\n",
       "\n",
       "    .dataframe thead th {\n",
       "        text-align: right;\n",
       "    }\n",
       "</style>\n",
       "<table border=\"1\" class=\"dataframe\">\n",
       "  <thead>\n",
       "    <tr style=\"text-align: right;\">\n",
       "      <th></th>\n",
       "      <th>user_id</th>\n",
       "      <th>score</th>\n",
       "      <th>city</th>\n",
       "      <th>gender</th>\n",
       "      <th>age</th>\n",
       "      <th>equity</th>\n",
       "      <th>balance</th>\n",
       "      <th>products</th>\n",
       "      <th>credit_card</th>\n",
       "      <th>last_activity</th>\n",
       "      <th>est_salary</th>\n",
       "      <th>churn</th>\n",
       "    </tr>\n",
       "  </thead>\n",
       "  <tbody>\n",
       "    <tr>\n",
       "      <th>1059</th>\n",
       "      <td>114103</td>\n",
       "      <td>894.0</td>\n",
       "      <td>Ярославль</td>\n",
       "      <td>М</td>\n",
       "      <td>58</td>\n",
       "      <td>4</td>\n",
       "      <td>6.486621e+07</td>\n",
       "      <td>2</td>\n",
       "      <td>1</td>\n",
       "      <td>1</td>\n",
       "      <td>88861.60</td>\n",
       "      <td>1</td>\n",
       "    </tr>\n",
       "    <tr>\n",
       "      <th>1846</th>\n",
       "      <td>114088</td>\n",
       "      <td>927.0</td>\n",
       "      <td>Ярославль</td>\n",
       "      <td>М</td>\n",
       "      <td>57</td>\n",
       "      <td>5</td>\n",
       "      <td>4.327710e+07</td>\n",
       "      <td>3</td>\n",
       "      <td>0</td>\n",
       "      <td>1</td>\n",
       "      <td>82619.00</td>\n",
       "      <td>0</td>\n",
       "    </tr>\n",
       "    <tr>\n",
       "      <th>4721</th>\n",
       "      <td>228786</td>\n",
       "      <td>1000.0</td>\n",
       "      <td>Ярославль</td>\n",
       "      <td>М</td>\n",
       "      <td>45</td>\n",
       "      <td>5</td>\n",
       "      <td>2.900893e+07</td>\n",
       "      <td>2</td>\n",
       "      <td>0</td>\n",
       "      <td>1</td>\n",
       "      <td>811804.54</td>\n",
       "      <td>0</td>\n",
       "    </tr>\n",
       "    <tr>\n",
       "      <th>6948</th>\n",
       "      <td>137434</td>\n",
       "      <td>1000.0</td>\n",
       "      <td>Ярославль</td>\n",
       "      <td>М</td>\n",
       "      <td>37</td>\n",
       "      <td>4</td>\n",
       "      <td>2.090616e+07</td>\n",
       "      <td>2</td>\n",
       "      <td>1</td>\n",
       "      <td>1</td>\n",
       "      <td>947606.60</td>\n",
       "      <td>1</td>\n",
       "    </tr>\n",
       "    <tr>\n",
       "      <th>7597</th>\n",
       "      <td>156149</td>\n",
       "      <td>900.0</td>\n",
       "      <td>Ярославль</td>\n",
       "      <td>М</td>\n",
       "      <td>62</td>\n",
       "      <td>5</td>\n",
       "      <td>1.191136e+08</td>\n",
       "      <td>2</td>\n",
       "      <td>1</td>\n",
       "      <td>1</td>\n",
       "      <td>138041.31</td>\n",
       "      <td>0</td>\n",
       "    </tr>\n",
       "    <tr>\n",
       "      <th>8484</th>\n",
       "      <td>221720</td>\n",
       "      <td>1000.0</td>\n",
       "      <td>Ярославль</td>\n",
       "      <td>Ж</td>\n",
       "      <td>35</td>\n",
       "      <td>5</td>\n",
       "      <td>2.154994e+07</td>\n",
       "      <td>2</td>\n",
       "      <td>0</td>\n",
       "      <td>0</td>\n",
       "      <td>1051902.65</td>\n",
       "      <td>0</td>\n",
       "    </tr>\n",
       "    <tr>\n",
       "      <th>9752</th>\n",
       "      <td>122015</td>\n",
       "      <td>885.0</td>\n",
       "      <td>Ярославль</td>\n",
       "      <td>М</td>\n",
       "      <td>64</td>\n",
       "      <td>4</td>\n",
       "      <td>2.572776e+07</td>\n",
       "      <td>3</td>\n",
       "      <td>1</td>\n",
       "      <td>0</td>\n",
       "      <td>168746.90</td>\n",
       "      <td>0</td>\n",
       "    </tr>\n",
       "  </tbody>\n",
       "</table>\n",
       "</div>"
      ],
      "text/plain": [
       "      user_id   score       city gender  age  equity       balance  products  \\\n",
       "1059   114103   894.0  Ярославль      М   58       4  6.486621e+07         2   \n",
       "1846   114088   927.0  Ярославль      М   57       5  4.327710e+07         3   \n",
       "4721   228786  1000.0  Ярославль      М   45       5  2.900893e+07         2   \n",
       "6948   137434  1000.0  Ярославль      М   37       4  2.090616e+07         2   \n",
       "7597   156149   900.0  Ярославль      М   62       5  1.191136e+08         2   \n",
       "8484   221720  1000.0  Ярославль      Ж   35       5  2.154994e+07         2   \n",
       "9752   122015   885.0  Ярославль      М   64       4  2.572776e+07         3   \n",
       "\n",
       "      credit_card  last_activity  est_salary  churn  \n",
       "1059            1              1    88861.60      1  \n",
       "1846            0              1    82619.00      0  \n",
       "4721            0              1   811804.54      0  \n",
       "6948            1              1   947606.60      1  \n",
       "7597            1              1   138041.31      0  \n",
       "8484            0              0  1051902.65      0  \n",
       "9752            1              0   168746.90      0  "
      ]
     },
     "execution_count": 23,
     "metadata": {},
     "output_type": "execute_result"
    }
   ],
   "source": [
    "# строим таблицу с клиентами, на счете которых лежит более 20 миллионов\n",
    "data[data['balance'] > 20000000]"
   ]
  },
  {
   "cell_type": "markdown",
   "id": "8636e1ac",
   "metadata": {},
   "source": [
    "Все самые богатые люди находятся в Ярославле."
   ]
  },
  {
   "cell_type": "markdown",
   "id": "0c29d585",
   "metadata": {},
   "source": [
    "##### в зарплате"
   ]
  },
  {
   "cell_type": "code",
   "execution_count": 24,
   "id": "49a0b952",
   "metadata": {},
   "outputs": [
    {
     "data": {
      "image/png": "[encoded data removed]",
      "text/plain": [
       "<Figure size 1000x500 with 1 Axes>"
      ]
     },
     "metadata": {},
     "output_type": "display_data"
    }
   ],
   "source": [
    "# строим диаграмму размаха по зарплате\n",
    "data_box('est_salary', 'Диаграмма размаха по зарплате')"
   ]
  },
  {
   "cell_type": "markdown",
   "id": "df6a8641",
   "metadata": {},
   "source": [
    "Видим большое количество выбросов по зарплате."
   ]
  },
  {
   "cell_type": "markdown",
   "id": "59565917",
   "metadata": {},
   "source": [
    "В нашем исследовании не будет проводиться огромное кол-во подсчетов, поэтому, по сути, на выбросы можно не обращать особого внимания. Каждое удаление выбросов приведет к уменьшению кол-ва данных для исследования, а это уже имеет огромное влияение на наше исследование, так как меньше данных - ниже точность, поэтому от большинства выбросов мы избавляться не стали."
   ]
  },
  {
   "cell_type": "markdown",
   "id": "8df6a236",
   "metadata": {},
   "source": [
    "### итог предобработки данных:"
   ]
  },
  {
   "cell_type": "markdown",
   "id": "b3a56d63",
   "metadata": {},
   "source": [
    "*проверили*\n",
    "\n",
    "1. наименования колонок и привели их к удобному виду;\n",
    "2. наличие пропусков и решили их не заполнять;\n",
    "3. наличие явных дубликатов и повторов в категориях и все очистили;\n",
    "4. соответствие типов данным, все соответствует;\n",
    "5. выбросы и обработали их.\n",
    "\n",
    "**Предобработка данных завершена, можем переходить к исследовательскому анализу.**"
   ]
  },
  {
   "cell_type": "markdown",
   "id": "09fb8960",
   "metadata": {},
   "source": [
    "## Исследовательский анализ"
   ]
  },
  {
   "cell_type": "markdown",
   "id": "6e4cf3b3",
   "metadata": {},
   "source": [
    "### общее распределение по таблице:"
   ]
  },
  {
   "cell_type": "code",
   "execution_count": 25,
   "id": "99a569fe",
   "metadata": {},
   "outputs": [
    {
     "data": {
      "text/html": [
       "<style type=\"text/css\">\n",
       "</style>\n",
       "<table id=\"T_96a4a\">\n",
       "  <thead>\n",
       "    <tr>\n",
       "      <th class=\"blank level0\" >&nbsp;</th>\n",
       "      <th id=\"T_96a4a_level0_col0\" class=\"col_heading level0 col0\" >score</th>\n",
       "      <th id=\"T_96a4a_level0_col1\" class=\"col_heading level0 col1\" >age</th>\n",
       "      <th id=\"T_96a4a_level0_col2\" class=\"col_heading level0 col2\" >equity</th>\n",
       "      <th id=\"T_96a4a_level0_col3\" class=\"col_heading level0 col3\" >balance</th>\n",
       "      <th id=\"T_96a4a_level0_col4\" class=\"col_heading level0 col4\" >products</th>\n",
       "      <th id=\"T_96a4a_level0_col5\" class=\"col_heading level0 col5\" >credit_card</th>\n",
       "      <th id=\"T_96a4a_level0_col6\" class=\"col_heading level0 col6\" >last_activity</th>\n",
       "      <th id=\"T_96a4a_level0_col7\" class=\"col_heading level0 col7\" >est_salary</th>\n",
       "      <th id=\"T_96a4a_level0_col8\" class=\"col_heading level0 col8\" >churn</th>\n",
       "    </tr>\n",
       "  </thead>\n",
       "  <tbody>\n",
       "    <tr>\n",
       "      <th id=\"T_96a4a_level0_row0\" class=\"row_heading level0 row0\" >count</th>\n",
       "      <td id=\"T_96a4a_row0_col0\" class=\"data row0 col0\" >9999.00</td>\n",
       "      <td id=\"T_96a4a_row0_col1\" class=\"data row0 col1\" >9999.00</td>\n",
       "      <td id=\"T_96a4a_row0_col2\" class=\"data row0 col2\" >9999.00</td>\n",
       "      <td id=\"T_96a4a_row0_col3\" class=\"data row0 col3\" >7705.00</td>\n",
       "      <td id=\"T_96a4a_row0_col4\" class=\"data row0 col4\" >9999.00</td>\n",
       "      <td id=\"T_96a4a_row0_col5\" class=\"data row0 col5\" >9999.00</td>\n",
       "      <td id=\"T_96a4a_row0_col6\" class=\"data row0 col6\" >9999.00</td>\n",
       "      <td id=\"T_96a4a_row0_col7\" class=\"data row0 col7\" >9999.00</td>\n",
       "      <td id=\"T_96a4a_row0_col8\" class=\"data row0 col8\" >9999.00</td>\n",
       "    </tr>\n",
       "    <tr>\n",
       "      <th id=\"T_96a4a_level0_row1\" class=\"row_heading level0 row1\" >mean</th>\n",
       "      <td id=\"T_96a4a_row1_col0\" class=\"data row1 col0\" >848.69</td>\n",
       "      <td id=\"T_96a4a_row1_col1\" class=\"data row1 col1\" >42.84</td>\n",
       "      <td id=\"T_96a4a_row1_col2\" class=\"data row1 col2\" >2.63</td>\n",
       "      <td id=\"T_96a4a_row1_col3\" class=\"data row1 col3\" >827794.31</td>\n",
       "      <td id=\"T_96a4a_row1_col4\" class=\"data row1 col4\" >1.87</td>\n",
       "      <td id=\"T_96a4a_row1_col5\" class=\"data row1 col5\" >0.68</td>\n",
       "      <td id=\"T_96a4a_row1_col6\" class=\"data row1 col6\" >0.52</td>\n",
       "      <td id=\"T_96a4a_row1_col7\" class=\"data row1 col7\" >147843.48</td>\n",
       "      <td id=\"T_96a4a_row1_col8\" class=\"data row1 col8\" >0.18</td>\n",
       "    </tr>\n",
       "    <tr>\n",
       "      <th id=\"T_96a4a_level0_row2\" class=\"row_heading level0 row2\" >std</th>\n",
       "      <td id=\"T_96a4a_row2_col0\" class=\"data row2 col0\" >65.45</td>\n",
       "      <td id=\"T_96a4a_row2_col1\" class=\"data row2 col1\" >12.13</td>\n",
       "      <td id=\"T_96a4a_row2_col2\" class=\"data row2 col2\" >1.98</td>\n",
       "      <td id=\"T_96a4a_row2_col3\" class=\"data row2 col3\" >1980614.15</td>\n",
       "      <td id=\"T_96a4a_row2_col4\" class=\"data row2 col4\" >0.80</td>\n",
       "      <td id=\"T_96a4a_row2_col5\" class=\"data row2 col5\" >0.47</td>\n",
       "      <td id=\"T_96a4a_row2_col6\" class=\"data row2 col6\" >0.50</td>\n",
       "      <td id=\"T_96a4a_row2_col7\" class=\"data row2 col7\" >139375.83</td>\n",
       "      <td id=\"T_96a4a_row2_col8\" class=\"data row2 col8\" >0.39</td>\n",
       "    </tr>\n",
       "    <tr>\n",
       "      <th id=\"T_96a4a_level0_row3\" class=\"row_heading level0 row3\" >min</th>\n",
       "      <td id=\"T_96a4a_row3_col0\" class=\"data row3 col0\" >642.00</td>\n",
       "      <td id=\"T_96a4a_row3_col1\" class=\"data row3 col1\" >18.00</td>\n",
       "      <td id=\"T_96a4a_row3_col2\" class=\"data row3 col2\" >0.00</td>\n",
       "      <td id=\"T_96a4a_row3_col3\" class=\"data row3 col3\" >0.00</td>\n",
       "      <td id=\"T_96a4a_row3_col4\" class=\"data row3 col4\" >0.00</td>\n",
       "      <td id=\"T_96a4a_row3_col5\" class=\"data row3 col5\" >0.00</td>\n",
       "      <td id=\"T_96a4a_row3_col6\" class=\"data row3 col6\" >0.00</td>\n",
       "      <td id=\"T_96a4a_row3_col7\" class=\"data row3 col7\" >2546.30</td>\n",
       "      <td id=\"T_96a4a_row3_col8\" class=\"data row3 col8\" >0.00</td>\n",
       "    </tr>\n",
       "    <tr>\n",
       "      <th id=\"T_96a4a_level0_row4\" class=\"row_heading level0 row4\" >25%</th>\n",
       "      <td id=\"T_96a4a_row4_col0\" class=\"data row4 col0\" >802.00</td>\n",
       "      <td id=\"T_96a4a_row4_col1\" class=\"data row4 col1\" >34.00</td>\n",
       "      <td id=\"T_96a4a_row4_col2\" class=\"data row4 col2\" >0.00</td>\n",
       "      <td id=\"T_96a4a_row4_col3\" class=\"data row4 col3\" >295554.16</td>\n",
       "      <td id=\"T_96a4a_row4_col4\" class=\"data row4 col4\" >1.00</td>\n",
       "      <td id=\"T_96a4a_row4_col5\" class=\"data row4 col5\" >0.00</td>\n",
       "      <td id=\"T_96a4a_row4_col6\" class=\"data row4 col6\" >0.00</td>\n",
       "      <td id=\"T_96a4a_row4_col7\" class=\"data row4 col7\" >75251.78</td>\n",
       "      <td id=\"T_96a4a_row4_col8\" class=\"data row4 col8\" >0.00</td>\n",
       "    </tr>\n",
       "    <tr>\n",
       "      <th id=\"T_96a4a_level0_row5\" class=\"row_heading level0 row5\" >50%</th>\n",
       "      <td id=\"T_96a4a_row5_col0\" class=\"data row5 col0\" >853.00</td>\n",
       "      <td id=\"T_96a4a_row5_col1\" class=\"data row5 col1\" >40.00</td>\n",
       "      <td id=\"T_96a4a_row5_col2\" class=\"data row5 col2\" >3.00</td>\n",
       "      <td id=\"T_96a4a_row5_col3\" class=\"data row5 col3\" >524272.20</td>\n",
       "      <td id=\"T_96a4a_row5_col4\" class=\"data row5 col4\" >2.00</td>\n",
       "      <td id=\"T_96a4a_row5_col5\" class=\"data row5 col5\" >1.00</td>\n",
       "      <td id=\"T_96a4a_row5_col6\" class=\"data row5 col6\" >1.00</td>\n",
       "      <td id=\"T_96a4a_row5_col7\" class=\"data row5 col7\" >119654.70</td>\n",
       "      <td id=\"T_96a4a_row5_col8\" class=\"data row5 col8\" >0.00</td>\n",
       "    </tr>\n",
       "    <tr>\n",
       "      <th id=\"T_96a4a_level0_row6\" class=\"row_heading level0 row6\" >75%</th>\n",
       "      <td id=\"T_96a4a_row6_col0\" class=\"data row6 col0\" >900.00</td>\n",
       "      <td id=\"T_96a4a_row6_col1\" class=\"data row6 col1\" >51.00</td>\n",
       "      <td id=\"T_96a4a_row6_col2\" class=\"data row6 col2\" >4.00</td>\n",
       "      <td id=\"T_96a4a_row6_col3\" class=\"data row6 col3\" >980705.85</td>\n",
       "      <td id=\"T_96a4a_row6_col4\" class=\"data row6 col4\" >2.00</td>\n",
       "      <td id=\"T_96a4a_row6_col5\" class=\"data row6 col5\" >1.00</td>\n",
       "      <td id=\"T_96a4a_row6_col6\" class=\"data row6 col6\" >1.00</td>\n",
       "      <td id=\"T_96a4a_row6_col7\" class=\"data row6 col7\" >174499.66</td>\n",
       "      <td id=\"T_96a4a_row6_col8\" class=\"data row6 col8\" >0.00</td>\n",
       "    </tr>\n",
       "    <tr>\n",
       "      <th id=\"T_96a4a_level0_row7\" class=\"row_heading level0 row7\" >max</th>\n",
       "      <td id=\"T_96a4a_row7_col0\" class=\"data row7 col0\" >1000.00</td>\n",
       "      <td id=\"T_96a4a_row7_col1\" class=\"data row7 col1\" >86.00</td>\n",
       "      <td id=\"T_96a4a_row7_col2\" class=\"data row7 col2\" >9.00</td>\n",
       "      <td id=\"T_96a4a_row7_col3\" class=\"data row7 col3\" >119113552.01</td>\n",
       "      <td id=\"T_96a4a_row7_col4\" class=\"data row7 col4\" >5.00</td>\n",
       "      <td id=\"T_96a4a_row7_col5\" class=\"data row7 col5\" >1.00</td>\n",
       "      <td id=\"T_96a4a_row7_col6\" class=\"data row7 col6\" >1.00</td>\n",
       "      <td id=\"T_96a4a_row7_col7\" class=\"data row7 col7\" >1395064.45</td>\n",
       "      <td id=\"T_96a4a_row7_col8\" class=\"data row7 col8\" >1.00</td>\n",
       "    </tr>\n",
       "  </tbody>\n",
       "</table>\n"
      ],
      "text/plain": [
       "<pandas.io.formats.style.Styler at 0x118ea1f43a0>"
      ]
     },
     "execution_count": 25,
     "metadata": {},
     "output_type": "execute_result"
    }
   ],
   "source": [
    "# выводим распределения по столбцам, удалив столбец user_id\n",
    "data.drop('user_id', axis=1).describe().style.format('{:.2f}')"
   ]
  },
  {
   "cell_type": "markdown",
   "id": "4d59fd3f",
   "metadata": {},
   "source": [
    "По данной таблице мы можем запросто посмотреть минимумы, максимумы, среднее, медианы и персентили числовых значений, но какие-либо выводы сделать сложно, чтобы посмотреть распределение построим графики и соответствующие таблицы."
   ]
  },
  {
   "cell_type": "markdown",
   "id": "aad5befa",
   "metadata": {},
   "source": [
    "### категоризация данных:"
   ]
  },
  {
   "cell_type": "markdown",
   "id": "3725d6db",
   "metadata": {},
   "source": [
    "В данном разделе выделим дополнительные категории для упрощения исследования."
   ]
  },
  {
   "cell_type": "code",
   "execution_count": 26,
   "id": "fbe5dc65",
   "metadata": {},
   "outputs": [
    {
     "name": "stdout",
     "output_type": "stream",
     "text": [
      "Количество клиентов в группах:\n"
     ]
    },
    {
     "data": {
      "text/plain": [
       "высокий      3586\n",
       "оч.низкий    2441\n",
       "средний      2043\n",
       "низкий       1929\n",
       "Name: score_cat, dtype: int64"
      ]
     },
     "execution_count": 26,
     "metadata": {},
     "output_type": "execute_result"
    }
   ],
   "source": [
    "# категории по кредитному рейтингу\n",
    "def score_cat(score):\n",
    "    if score <= 800:\n",
    "        return 'оч.низкий'\n",
    "    elif 801 <= score <= 839:\n",
    "        return 'низкий'\n",
    "    elif 840 <= score <= 881:\n",
    "        return 'средний'\n",
    "    elif score > 881:\n",
    "        return 'высокий'\n",
    "    \n",
    "print('Количество клиентов в группах:')\n",
    "\n",
    "data['score_cat'] = data['score'].apply(score_cat)\n",
    "data['score_cat'].value_counts()"
   ]
  },
  {
   "cell_type": "code",
   "execution_count": 27,
   "id": "9b8c9979",
   "metadata": {},
   "outputs": [
    {
     "name": "stdout",
     "output_type": "stream",
     "text": [
      "Количество клиентов в группах:\n"
     ]
    },
    {
     "data": {
      "text/plain": [
       "взрослый    4916\n",
       "молодой     3267\n",
       "пожилой     1816\n",
       "Name: age_cat, dtype: int64"
      ]
     },
     "execution_count": 27,
     "metadata": {},
     "output_type": "execute_result"
    }
   ],
   "source": [
    "# категории по возрасту\n",
    "def age_cat(age):\n",
    "    if age <= 35:\n",
    "        return 'молодой'\n",
    "    elif 36 <= age <= 55:\n",
    "        return 'взрослый'\n",
    "    elif age > 55:\n",
    "        return 'пожилой'\n",
    "\n",
    "print('Количество клиентов в группах:')    \n",
    "    \n",
    "data['age_cat'] = data['age'].apply(age_cat)\n",
    "data['age_cat'].value_counts()"
   ]
  },
  {
   "cell_type": "code",
   "execution_count": 28,
   "id": "7a996080",
   "metadata": {},
   "outputs": [
    {
     "name": "stdout",
     "output_type": "stream",
     "text": [
      "Количество клиентов в группах:\n"
     ]
    },
    {
     "data": {
      "text/plain": [
       "средний        1929\n",
       "большой        1927\n",
       "миллионный     1927\n",
       "минимальный    1922\n",
       "Name: balance_cat, dtype: int64"
      ]
     },
     "execution_count": 28,
     "metadata": {},
     "output_type": "execute_result"
    }
   ],
   "source": [
    "# категории по остатку на счете \n",
    "def balance_cat(balance):\n",
    "    if balance <= 295000:\n",
    "        return 'минимальный'\n",
    "    elif 295000 < balance <= 524000:\n",
    "        return 'средний'\n",
    "    elif 524000 < balance <= 980000:\n",
    "        return 'большой'\n",
    "    elif balance > 980000:\n",
    "        return 'миллионный'\n",
    "\n",
    "print('Количество клиентов в группах:') \n",
    "    \n",
    "data['balance_cat'] = data['balance'].apply(balance_cat)\n",
    "data['balance_cat'].value_counts()"
   ]
  },
  {
   "cell_type": "code",
   "execution_count": 29,
   "id": "93243b51",
   "metadata": {},
   "outputs": [
    {
     "name": "stdout",
     "output_type": "stream",
     "text": [
      "Количество клиентов в группах:\n"
     ]
    },
    {
     "data": {
      "text/plain": [
       "значительно выше среднего    2521\n",
       "выше среднего                2515\n",
       "средняя                      2485\n",
       "средняя+                     2478\n",
       "Name: est_salary_cat, dtype: int64"
      ]
     },
     "execution_count": 29,
     "metadata": {},
     "output_type": "execute_result"
    }
   ],
   "source": [
    "# категории по зарплате\n",
    "def est_salary_cat(est_salary):\n",
    "    if est_salary <= 75000:\n",
    "        return 'средняя'\n",
    "    elif 75000 < est_salary <= 119000:\n",
    "        return 'средняя+'\n",
    "    elif 119000 < est_salary <= 174000:\n",
    "        return 'выше среднего'\n",
    "    elif est_salary > 174000:\n",
    "        return 'значительно выше среднего'\n",
    "    \n",
    "print('Количество клиентов в группах:') \n",
    "\n",
    "data['est_salary_cat'] = data['est_salary'].apply(est_salary_cat)\n",
    "data['est_salary_cat'].value_counts()"
   ]
  },
  {
   "cell_type": "markdown",
   "id": "03330453",
   "metadata": {},
   "source": [
    "### распределение в графиках c разделением на ушедших/оставшихся:"
   ]
  },
  {
   "cell_type": "code",
   "execution_count": 30,
   "id": "eb8b8231",
   "metadata": {},
   "outputs": [],
   "source": [
    "# функция, которая строит график распределения клиентов с учетом разделенеия\n",
    "def churn_chart(column, title):\n",
    "    plt.figure(figsize=(10, 5))\n",
    "    sns.countplot(x = data[column], hue='churn', data=data, order=data[column].value_counts().index)\n",
    "    plt.title(title)\n",
    "    plt.grid()\n",
    "    plt.legend([\"остался\", \"ушел\"], loc =\"upper right\")\n",
    "    plt.show()\n",
    "    \n",
    "# функция, которая строит таблицу с информацией о кол-ве клентов в категории и доле ушедших в этой категории\n",
    "def churn_tabel(column):\n",
    "    tabel = (data.groupby([column]).agg({'churn':'mean', 'user_id':'count'}).reset_index()\n",
    "             .rename(mapper = {'churn':\"доля ушедих\", 'user_id':'кол-во клиентов'}, axis=1)\n",
    "             .set_index(column)\n",
    "             .sort_values(by='доля ушедих', ascending=False)\n",
    "             .style.format('{:.2f}')\n",
    "             )\n",
    "    return tabel"
   ]
  },
  {
   "cell_type": "markdown",
   "id": "f3e61a13",
   "metadata": {},
   "source": [
    "#### по кредитному рейтингу"
   ]
  },
  {
   "cell_type": "code",
   "execution_count": 31,
   "id": "e0838d6d",
   "metadata": {},
   "outputs": [
    {
     "data": {
      "text/html": [
       "<style type=\"text/css\">\n",
       "</style>\n",
       "<table id=\"T_2feca\">\n",
       "  <thead>\n",
       "    <tr>\n",
       "      <th class=\"blank level0\" >&nbsp;</th>\n",
       "      <th id=\"T_2feca_level0_col0\" class=\"col_heading level0 col0\" >доля ушедих</th>\n",
       "      <th id=\"T_2feca_level0_col1\" class=\"col_heading level0 col1\" >кол-во клиентов</th>\n",
       "    </tr>\n",
       "    <tr>\n",
       "      <th class=\"index_name level0\" >score_cat</th>\n",
       "      <th class=\"blank col0\" >&nbsp;</th>\n",
       "      <th class=\"blank col1\" >&nbsp;</th>\n",
       "    </tr>\n",
       "  </thead>\n",
       "  <tbody>\n",
       "    <tr>\n",
       "      <th id=\"T_2feca_level0_row0\" class=\"row_heading level0 row0\" >средний</th>\n",
       "      <td id=\"T_2feca_row0_col0\" class=\"data row0 col0\" >0.27</td>\n",
       "      <td id=\"T_2feca_row0_col1\" class=\"data row0 col1\" >2043.00</td>\n",
       "    </tr>\n",
       "    <tr>\n",
       "      <th id=\"T_2feca_level0_row1\" class=\"row_heading level0 row1\" >высокий</th>\n",
       "      <td id=\"T_2feca_row1_col0\" class=\"data row1 col0\" >0.19</td>\n",
       "      <td id=\"T_2feca_row1_col1\" class=\"data row1 col1\" >3586.00</td>\n",
       "    </tr>\n",
       "    <tr>\n",
       "      <th id=\"T_2feca_level0_row2\" class=\"row_heading level0 row2\" >низкий</th>\n",
       "      <td id=\"T_2feca_row2_col0\" class=\"data row2 col0\" >0.19</td>\n",
       "      <td id=\"T_2feca_row2_col1\" class=\"data row2 col1\" >1929.00</td>\n",
       "    </tr>\n",
       "    <tr>\n",
       "      <th id=\"T_2feca_level0_row3\" class=\"row_heading level0 row3\" >оч.низкий</th>\n",
       "      <td id=\"T_2feca_row3_col0\" class=\"data row3 col0\" >0.09</td>\n",
       "      <td id=\"T_2feca_row3_col1\" class=\"data row3 col1\" >2441.00</td>\n",
       "    </tr>\n",
       "  </tbody>\n",
       "</table>\n"
      ],
      "text/plain": [
       "<pandas.io.formats.style.Styler at 0x118e9fdd130>"
      ]
     },
     "metadata": {},
     "output_type": "display_data"
    },
    {
     "data": {
      "image/png": "[encoded data removed]",
      "text/plain": [
       "<Figure size 1000x500 with 1 Axes>"
      ]
     },
     "metadata": {},
     "output_type": "display_data"
    }
   ],
   "source": [
    "# выводим таблицу и график распределения клиентов по кредитному рейтингу\n",
    "display(churn_tabel('score_cat'))\n",
    "\n",
    "churn_chart('score_cat', 'Распределение по кредитному рейтингу')"
   ]
  },
  {
   "cell_type": "markdown",
   "id": "9c451b7f",
   "metadata": {},
   "source": [
    "Видим, что по абсолютным значениям чаще уходят клиенты с высоким кредитным рейтингом, но это происходит только потому, что данных об этих клиентах в целом больше. Если смотреть относительно, то чаще всего уходят клиенты с средним рейтингом (27%). Реже всего уходят клиенты с очень низкий рейтингом (9%)."
   ]
  },
  {
   "cell_type": "markdown",
   "id": "f6ce2b9e",
   "metadata": {},
   "source": [
    "#### по городу"
   ]
  },
  {
   "cell_type": "code",
   "execution_count": 32,
   "id": "1b76c442",
   "metadata": {},
   "outputs": [
    {
     "data": {
      "text/html": [
       "<style type=\"text/css\">\n",
       "</style>\n",
       "<table id=\"T_880cc\">\n",
       "  <thead>\n",
       "    <tr>\n",
       "      <th class=\"blank level0\" >&nbsp;</th>\n",
       "      <th id=\"T_880cc_level0_col0\" class=\"col_heading level0 col0\" >доля ушедих</th>\n",
       "      <th id=\"T_880cc_level0_col1\" class=\"col_heading level0 col1\" >кол-во клиентов</th>\n",
       "    </tr>\n",
       "    <tr>\n",
       "      <th class=\"index_name level0\" >city</th>\n",
       "      <th class=\"blank col0\" >&nbsp;</th>\n",
       "      <th class=\"blank col1\" >&nbsp;</th>\n",
       "    </tr>\n",
       "  </thead>\n",
       "  <tbody>\n",
       "    <tr>\n",
       "      <th id=\"T_880cc_level0_row0\" class=\"row_heading level0 row0\" >Ярославль</th>\n",
       "      <td id=\"T_880cc_row0_col0\" class=\"data row0 col0\" >0.19</td>\n",
       "      <td id=\"T_880cc_row0_col1\" class=\"data row0 col1\" >5905.00</td>\n",
       "    </tr>\n",
       "    <tr>\n",
       "      <th id=\"T_880cc_level0_row1\" class=\"row_heading level0 row1\" >Ростов</th>\n",
       "      <td id=\"T_880cc_row1_col0\" class=\"data row1 col0\" >0.19</td>\n",
       "      <td id=\"T_880cc_row1_col1\" class=\"data row1 col1\" >1431.00</td>\n",
       "    </tr>\n",
       "    <tr>\n",
       "      <th id=\"T_880cc_level0_row2\" class=\"row_heading level0 row2\" >Рыбинск</th>\n",
       "      <td id=\"T_880cc_row2_col0\" class=\"data row2 col0\" >0.16</td>\n",
       "      <td id=\"T_880cc_row2_col1\" class=\"data row2 col1\" >2663.00</td>\n",
       "    </tr>\n",
       "  </tbody>\n",
       "</table>\n"
      ],
      "text/plain": [
       "<pandas.io.formats.style.Styler at 0x118e9e7be20>"
      ]
     },
     "metadata": {},
     "output_type": "display_data"
    },
    {
     "data": {
      "image/png": "[encoded data removed]",
      "text/plain": [
       "<Figure size 1000x500 with 1 Axes>"
      ]
     },
     "metadata": {},
     "output_type": "display_data"
    }
   ],
   "source": [
    "# выводим таблицу и график распределения клиентов по городу\n",
    "display(churn_tabel('city'))\n",
    "\n",
    "churn_chart('city', 'Распределение по городу')"
   ]
  },
  {
   "cell_type": "markdown",
   "id": "ed557e7e",
   "metadata": {},
   "source": [
    "По таблице и графику видно, что чаще всего уходят клиенты из городов Ярославль и Ростов (по 19%), но из-за большего числа клиентов из Ярославля абослютное значение уходящих здесь выше (видно по графику), хотя процент одинаковый. В Рыбинске же клиенты уходят в 16% случаев, что немного ниже."
   ]
  },
  {
   "cell_type": "markdown",
   "id": "e5bd9f89",
   "metadata": {},
   "source": [
    "#### по полу"
   ]
  },
  {
   "cell_type": "code",
   "execution_count": 33,
   "id": "65af7424",
   "metadata": {},
   "outputs": [
    {
     "data": {
      "text/html": [
       "<style type=\"text/css\">\n",
       "</style>\n",
       "<table id=\"T_d4e7c\">\n",
       "  <thead>\n",
       "    <tr>\n",
       "      <th class=\"blank level0\" >&nbsp;</th>\n",
       "      <th id=\"T_d4e7c_level0_col0\" class=\"col_heading level0 col0\" >доля ушедих</th>\n",
       "      <th id=\"T_d4e7c_level0_col1\" class=\"col_heading level0 col1\" >кол-во клиентов</th>\n",
       "    </tr>\n",
       "    <tr>\n",
       "      <th class=\"index_name level0\" >gender</th>\n",
       "      <th class=\"blank col0\" >&nbsp;</th>\n",
       "      <th class=\"blank col1\" >&nbsp;</th>\n",
       "    </tr>\n",
       "  </thead>\n",
       "  <tbody>\n",
       "    <tr>\n",
       "      <th id=\"T_d4e7c_level0_row0\" class=\"row_heading level0 row0\" >М</th>\n",
       "      <td id=\"T_d4e7c_row0_col0\" class=\"data row0 col0\" >0.24</td>\n",
       "      <td id=\"T_d4e7c_row0_col1\" class=\"data row0 col1\" >5007.00</td>\n",
       "    </tr>\n",
       "    <tr>\n",
       "      <th id=\"T_d4e7c_level0_row1\" class=\"row_heading level0 row1\" >Ж</th>\n",
       "      <td id=\"T_d4e7c_row1_col0\" class=\"data row1 col0\" >0.13</td>\n",
       "      <td id=\"T_d4e7c_row1_col1\" class=\"data row1 col1\" >4992.00</td>\n",
       "    </tr>\n",
       "  </tbody>\n",
       "</table>\n"
      ],
      "text/plain": [
       "<pandas.io.formats.style.Styler at 0x118ea1f4bb0>"
      ]
     },
     "metadata": {},
     "output_type": "display_data"
    },
    {
     "data": {
      "image/png": "[encoded data removed]",
      "text/plain": [
       "<Figure size 1000x500 with 1 Axes>"
      ]
     },
     "metadata": {},
     "output_type": "display_data"
    }
   ],
   "source": [
    "# выводим таблицу и график распределения клиентов по полу\n",
    "display(churn_tabel('gender'))\n",
    "\n",
    "churn_chart('gender', 'Распределение по полу')"
   ]
  },
  {
   "cell_type": "markdown",
   "id": "10b15cac",
   "metadata": {
    "scrolled": true
   },
   "source": [
    "Мужчины покидают банк чаще женщин в относительных и абсолютных показателях (24% и ~1200 человек против 13% и ~700 человек)."
   ]
  },
  {
   "cell_type": "markdown",
   "id": "cb17d330",
   "metadata": {},
   "source": [
    "#### по возрасту"
   ]
  },
  {
   "cell_type": "code",
   "execution_count": 34,
   "id": "08b9176d",
   "metadata": {},
   "outputs": [
    {
     "data": {
      "text/html": [
       "<style type=\"text/css\">\n",
       "</style>\n",
       "<table id=\"T_bc6b0\">\n",
       "  <thead>\n",
       "    <tr>\n",
       "      <th class=\"blank level0\" >&nbsp;</th>\n",
       "      <th id=\"T_bc6b0_level0_col0\" class=\"col_heading level0 col0\" >доля ушедих</th>\n",
       "      <th id=\"T_bc6b0_level0_col1\" class=\"col_heading level0 col1\" >кол-во клиентов</th>\n",
       "    </tr>\n",
       "    <tr>\n",
       "      <th class=\"index_name level0\" >age_cat</th>\n",
       "      <th class=\"blank col0\" >&nbsp;</th>\n",
       "      <th class=\"blank col1\" >&nbsp;</th>\n",
       "    </tr>\n",
       "  </thead>\n",
       "  <tbody>\n",
       "    <tr>\n",
       "      <th id=\"T_bc6b0_level0_row0\" class=\"row_heading level0 row0\" >молодой</th>\n",
       "      <td id=\"T_bc6b0_row0_col0\" class=\"data row0 col0\" >0.21</td>\n",
       "      <td id=\"T_bc6b0_row0_col1\" class=\"data row0 col1\" >3267.00</td>\n",
       "    </tr>\n",
       "    <tr>\n",
       "      <th id=\"T_bc6b0_level0_row1\" class=\"row_heading level0 row1\" >взрослый</th>\n",
       "      <td id=\"T_bc6b0_row1_col0\" class=\"data row1 col0\" >0.17</td>\n",
       "      <td id=\"T_bc6b0_row1_col1\" class=\"data row1 col1\" >4916.00</td>\n",
       "    </tr>\n",
       "    <tr>\n",
       "      <th id=\"T_bc6b0_level0_row2\" class=\"row_heading level0 row2\" >пожилой</th>\n",
       "      <td id=\"T_bc6b0_row2_col0\" class=\"data row2 col0\" >0.15</td>\n",
       "      <td id=\"T_bc6b0_row2_col1\" class=\"data row2 col1\" >1816.00</td>\n",
       "    </tr>\n",
       "  </tbody>\n",
       "</table>\n"
      ],
      "text/plain": [
       "<pandas.io.formats.style.Styler at 0x118eb3e5490>"
      ]
     },
     "metadata": {},
     "output_type": "display_data"
    },
    {
     "data": {
      "image/png": "[encoded data removed]",
      "text/plain": [
       "<Figure size 1000x500 with 1 Axes>"
      ]
     },
     "metadata": {},
     "output_type": "display_data"
    }
   ],
   "source": [
    "# выводим таблицу и график распределения клиентов по возрасту\n",
    "display(churn_tabel('age_cat'))\n",
    "\n",
    "churn_chart('age_cat', 'Распределение по возрасту')"
   ]
  },
  {
   "cell_type": "markdown",
   "id": "f22ceb07",
   "metadata": {},
   "source": [
    "В абсолютных значения отток больше из категории взрослых, но только потому, что эта группа сама по себе объемнее. Самый большой отток на самом деле из группы молодых - 21%. Самый же низкий у пожилых - 15%."
   ]
  },
  {
   "cell_type": "markdown",
   "id": "33d5d108",
   "metadata": {},
   "source": [
    "#### по оценке собвственности"
   ]
  },
  {
   "cell_type": "code",
   "execution_count": 35,
   "id": "5415aeac",
   "metadata": {},
   "outputs": [
    {
     "data": {
      "text/html": [
       "<style type=\"text/css\">\n",
       "</style>\n",
       "<table id=\"T_c66b3\">\n",
       "  <thead>\n",
       "    <tr>\n",
       "      <th class=\"blank level0\" >&nbsp;</th>\n",
       "      <th id=\"T_c66b3_level0_col0\" class=\"col_heading level0 col0\" >доля ушедих</th>\n",
       "      <th id=\"T_c66b3_level0_col1\" class=\"col_heading level0 col1\" >кол-во клиентов</th>\n",
       "    </tr>\n",
       "    <tr>\n",
       "      <th class=\"index_name level0\" >equity</th>\n",
       "      <th class=\"blank col0\" >&nbsp;</th>\n",
       "      <th class=\"blank col1\" >&nbsp;</th>\n",
       "    </tr>\n",
       "  </thead>\n",
       "  <tbody>\n",
       "    <tr>\n",
       "      <th id=\"T_c66b3_level0_row0\" class=\"row_heading level0 row0\" >9</th>\n",
       "      <td id=\"T_c66b3_row0_col0\" class=\"data row0 col0\" >0.54</td>\n",
       "      <td id=\"T_c66b3_row0_col1\" class=\"data row0 col1\" >13.00</td>\n",
       "    </tr>\n",
       "    <tr>\n",
       "      <th id=\"T_c66b3_level0_row1\" class=\"row_heading level0 row1\" >7</th>\n",
       "      <td id=\"T_c66b3_row1_col0\" class=\"data row1 col0\" >0.46</td>\n",
       "      <td id=\"T_c66b3_row1_col1\" class=\"data row1 col1\" >80.00</td>\n",
       "    </tr>\n",
       "    <tr>\n",
       "      <th id=\"T_c66b3_level0_row2\" class=\"row_heading level0 row2\" >6</th>\n",
       "      <td id=\"T_c66b3_row2_col0\" class=\"data row2 col0\" >0.36</td>\n",
       "      <td id=\"T_c66b3_row2_col1\" class=\"data row2 col1\" >161.00</td>\n",
       "    </tr>\n",
       "    <tr>\n",
       "      <th id=\"T_c66b3_level0_row3\" class=\"row_heading level0 row3\" >8</th>\n",
       "      <td id=\"T_c66b3_row3_col0\" class=\"data row3 col0\" >0.35</td>\n",
       "      <td id=\"T_c66b3_row3_col1\" class=\"data row3 col1\" >17.00</td>\n",
       "    </tr>\n",
       "    <tr>\n",
       "      <th id=\"T_c66b3_level0_row4\" class=\"row_heading level0 row4\" >5</th>\n",
       "      <td id=\"T_c66b3_row4_col0\" class=\"data row4 col0\" >0.30</td>\n",
       "      <td id=\"T_c66b3_row4_col1\" class=\"data row4 col1\" >1918.00</td>\n",
       "    </tr>\n",
       "    <tr>\n",
       "      <th id=\"T_c66b3_level0_row5\" class=\"row_heading level0 row5\" >4</th>\n",
       "      <td id=\"T_c66b3_row5_col0\" class=\"data row5 col0\" >0.25</td>\n",
       "      <td id=\"T_c66b3_row5_col1\" class=\"data row5 col1\" >1850.00</td>\n",
       "    </tr>\n",
       "    <tr>\n",
       "      <th id=\"T_c66b3_level0_row6\" class=\"row_heading level0 row6\" >3</th>\n",
       "      <td id=\"T_c66b3_row6_col0\" class=\"data row6 col0\" >0.21</td>\n",
       "      <td id=\"T_c66b3_row6_col1\" class=\"data row6 col1\" >1543.00</td>\n",
       "    </tr>\n",
       "    <tr>\n",
       "      <th id=\"T_c66b3_level0_row7\" class=\"row_heading level0 row7\" >2</th>\n",
       "      <td id=\"T_c66b3_row7_col0\" class=\"data row7 col0\" >0.16</td>\n",
       "      <td id=\"T_c66b3_row7_col1\" class=\"data row7 col1\" >1052.00</td>\n",
       "    </tr>\n",
       "    <tr>\n",
       "      <th id=\"T_c66b3_level0_row8\" class=\"row_heading level0 row8\" >1</th>\n",
       "      <td id=\"T_c66b3_row8_col0\" class=\"data row8 col0\" >0.12</td>\n",
       "      <td id=\"T_c66b3_row8_col1\" class=\"data row8 col1\" >774.00</td>\n",
       "    </tr>\n",
       "    <tr>\n",
       "      <th id=\"T_c66b3_level0_row9\" class=\"row_heading level0 row9\" >0</th>\n",
       "      <td id=\"T_c66b3_row9_col0\" class=\"data row9 col0\" >0.03</td>\n",
       "      <td id=\"T_c66b3_row9_col1\" class=\"data row9 col1\" >2591.00</td>\n",
       "    </tr>\n",
       "  </tbody>\n",
       "</table>\n"
      ],
      "text/plain": [
       "<pandas.io.formats.style.Styler at 0x118e39a6160>"
      ]
     },
     "metadata": {},
     "output_type": "display_data"
    },
    {
     "data": {
      "image/png": "[encoded data removed]",
      "text/plain": [
       "<Figure size 1000x500 with 1 Axes>"
      ]
     },
     "metadata": {},
     "output_type": "display_data"
    }
   ],
   "source": [
    "# выводим таблицу и график распределения клиентов по оценке собственности\n",
    "display(churn_tabel('equity'))\n",
    "\n",
    "churn_chart('equity', 'Распределение по оценке собственности')"
   ]
  },
  {
   "cell_type": "markdown",
   "id": "110435ee",
   "metadata": {},
   "source": [
    "Чаще всего уходят клиенты с оценкой собственности равной 9 (54%), далее идут 7 (46%) и замыкают тройку клиенты с оценкой собственности равной 6 (36%). Клиентов в этих категориях достаточно мало и о какой-то статистической корректности говорить сложно, по абсолютным значениям лидер - категория клиентов с оценкой 5 (около 550 человек), в этой категории тоже довольно высокий отток (30%) и достаточно много участников - здесь уже можно делать какие-то выводы. Самая надежная группа - 0, она самая массовая и в ней самый маленький отток (3%). "
   ]
  },
  {
   "cell_type": "markdown",
   "id": "a6aaef1f",
   "metadata": {},
   "source": [
    "##### по балансу на счете"
   ]
  },
  {
   "cell_type": "code",
   "execution_count": 36,
   "id": "097fe46b",
   "metadata": {},
   "outputs": [
    {
     "data": {
      "text/html": [
       "<style type=\"text/css\">\n",
       "</style>\n",
       "<table id=\"T_23dd3\">\n",
       "  <thead>\n",
       "    <tr>\n",
       "      <th class=\"blank level0\" >&nbsp;</th>\n",
       "      <th id=\"T_23dd3_level0_col0\" class=\"col_heading level0 col0\" >доля ушедих</th>\n",
       "      <th id=\"T_23dd3_level0_col1\" class=\"col_heading level0 col1\" >кол-во клиентов</th>\n",
       "    </tr>\n",
       "    <tr>\n",
       "      <th class=\"index_name level0\" >balance_cat</th>\n",
       "      <th class=\"blank col0\" >&nbsp;</th>\n",
       "      <th class=\"blank col1\" >&nbsp;</th>\n",
       "    </tr>\n",
       "  </thead>\n",
       "  <tbody>\n",
       "    <tr>\n",
       "      <th id=\"T_23dd3_level0_row0\" class=\"row_heading level0 row0\" >миллионный</th>\n",
       "      <td id=\"T_23dd3_row0_col0\" class=\"data row0 col0\" >0.38</td>\n",
       "      <td id=\"T_23dd3_row0_col1\" class=\"data row0 col1\" >1927.00</td>\n",
       "    </tr>\n",
       "    <tr>\n",
       "      <th id=\"T_23dd3_level0_row1\" class=\"row_heading level0 row1\" >большой</th>\n",
       "      <td id=\"T_23dd3_row1_col0\" class=\"data row1 col0\" >0.22</td>\n",
       "      <td id=\"T_23dd3_row1_col1\" class=\"data row1 col1\" >1927.00</td>\n",
       "    </tr>\n",
       "    <tr>\n",
       "      <th id=\"T_23dd3_level0_row2\" class=\"row_heading level0 row2\" >средний</th>\n",
       "      <td id=\"T_23dd3_row2_col0\" class=\"data row2 col0\" >0.18</td>\n",
       "      <td id=\"T_23dd3_row2_col1\" class=\"data row2 col1\" >1929.00</td>\n",
       "    </tr>\n",
       "    <tr>\n",
       "      <th id=\"T_23dd3_level0_row3\" class=\"row_heading level0 row3\" >минимальный</th>\n",
       "      <td id=\"T_23dd3_row3_col0\" class=\"data row3 col0\" >0.16</td>\n",
       "      <td id=\"T_23dd3_row3_col1\" class=\"data row3 col1\" >1922.00</td>\n",
       "    </tr>\n",
       "  </tbody>\n",
       "</table>\n"
      ],
      "text/plain": [
       "<pandas.io.formats.style.Styler at 0x118e39a6100>"
      ]
     },
     "metadata": {},
     "output_type": "display_data"
    },
    {
     "data": {
      "image/png": "[encoded data removed]",
      "text/plain": [
       "<Figure size 1000x500 with 1 Axes>"
      ]
     },
     "metadata": {},
     "output_type": "display_data"
    }
   ],
   "source": [
    "# выводим таблицу и график распределения клиентов по балансу на счете\n",
    "display(churn_tabel('balance_cat'))\n",
    "\n",
    "churn_chart('balance_cat', 'Распределение по балансу на счете')"
   ]
  },
  {
   "cell_type": "markdown",
   "id": "dc527189",
   "metadata": {},
   "source": [
    "Самый большой отток среди клиентов с балансом от около 1 миллиона и выше (38%), в абсолютных значениях около 800 человек. Минимальный отток у клиентов с минимальным счетом баланса (это те, у кого до 300 тысяч на счету) - 16%, в абсолютных значениях около 300 человек."
   ]
  },
  {
   "cell_type": "markdown",
   "id": "59fd4e62",
   "metadata": {},
   "source": [
    "#### по количеству продуктов"
   ]
  },
  {
   "cell_type": "code",
   "execution_count": 37,
   "id": "c4ea5dcb",
   "metadata": {},
   "outputs": [
    {
     "data": {
      "text/html": [
       "<style type=\"text/css\">\n",
       "</style>\n",
       "<table id=\"T_0f89a\">\n",
       "  <thead>\n",
       "    <tr>\n",
       "      <th class=\"blank level0\" >&nbsp;</th>\n",
       "      <th id=\"T_0f89a_level0_col0\" class=\"col_heading level0 col0\" >доля ушедих</th>\n",
       "      <th id=\"T_0f89a_level0_col1\" class=\"col_heading level0 col1\" >кол-во клиентов</th>\n",
       "    </tr>\n",
       "    <tr>\n",
       "      <th class=\"index_name level0\" >products</th>\n",
       "      <th class=\"blank col0\" >&nbsp;</th>\n",
       "      <th class=\"blank col1\" >&nbsp;</th>\n",
       "    </tr>\n",
       "  </thead>\n",
       "  <tbody>\n",
       "    <tr>\n",
       "      <th id=\"T_0f89a_level0_row0\" class=\"row_heading level0 row0\" >0</th>\n",
       "      <td id=\"T_0f89a_row0_col0\" class=\"data row0 col0\" >1.00</td>\n",
       "      <td id=\"T_0f89a_row0_col1\" class=\"data row0 col1\" >1.00</td>\n",
       "    </tr>\n",
       "    <tr>\n",
       "      <th id=\"T_0f89a_level0_row1\" class=\"row_heading level0 row1\" >4</th>\n",
       "      <td id=\"T_0f89a_row1_col0\" class=\"data row1 col0\" >0.63</td>\n",
       "      <td id=\"T_0f89a_row1_col1\" class=\"data row1 col1\" >474.00</td>\n",
       "    </tr>\n",
       "    <tr>\n",
       "      <th id=\"T_0f89a_level0_row2\" class=\"row_heading level0 row2\" >5</th>\n",
       "      <td id=\"T_0f89a_row2_col0\" class=\"data row2 col0\" >0.30</td>\n",
       "      <td id=\"T_0f89a_row2_col1\" class=\"data row2 col1\" >30.00</td>\n",
       "    </tr>\n",
       "    <tr>\n",
       "      <th id=\"T_0f89a_level0_row3\" class=\"row_heading level0 row3\" >3</th>\n",
       "      <td id=\"T_0f89a_row3_col0\" class=\"data row3 col0\" >0.28</td>\n",
       "      <td id=\"T_0f89a_row3_col1\" class=\"data row3 col1\" >1046.00</td>\n",
       "    </tr>\n",
       "    <tr>\n",
       "      <th id=\"T_0f89a_level0_row4\" class=\"row_heading level0 row4\" >2</th>\n",
       "      <td id=\"T_0f89a_row4_col0\" class=\"data row4 col0\" >0.19</td>\n",
       "      <td id=\"T_0f89a_row4_col1\" class=\"data row4 col1\" >5108.00</td>\n",
       "    </tr>\n",
       "    <tr>\n",
       "      <th id=\"T_0f89a_level0_row5\" class=\"row_heading level0 row5\" >1</th>\n",
       "      <td id=\"T_0f89a_row5_col0\" class=\"data row5 col0\" >0.07</td>\n",
       "      <td id=\"T_0f89a_row5_col1\" class=\"data row5 col1\" >3340.00</td>\n",
       "    </tr>\n",
       "  </tbody>\n",
       "</table>\n"
      ],
      "text/plain": [
       "<pandas.io.formats.style.Styler at 0x118e9eb9190>"
      ]
     },
     "metadata": {},
     "output_type": "display_data"
    },
    {
     "data": {
      "image/png": "[encoded data removed]",
      "text/plain": [
       "<Figure size 1000x500 with 1 Axes>"
      ]
     },
     "metadata": {},
     "output_type": "display_data"
    }
   ],
   "source": [
    "# выводим таблицу и график распределения клиентов по количеству продуктов\n",
    "display(churn_tabel('products'))\n",
    "\n",
    "churn_chart('products', 'Распределение по количеству продуктов')"
   ]
  },
  {
   "cell_type": "markdown",
   "id": "94673502",
   "metadata": {},
   "source": [
    "Клиент с 0 продуктов интересная личность, кончено, но никакой значимости для нас не несет, поэтому внимания на него обращать не будем. Группа с 4 продуктами очень сильно выбивается, во-первых, оттуда ушло больше клиентов, чем осталось, а также там очень большой относительный отток (63%). Клиенты же с 1 продуктом уходят намного реже - в 7% случаев."
   ]
  },
  {
   "cell_type": "markdown",
   "id": "330ad476",
   "metadata": {},
   "source": [
    "#### по наличию кредитной карты"
   ]
  },
  {
   "cell_type": "code",
   "execution_count": 38,
   "id": "5679c8c9",
   "metadata": {},
   "outputs": [
    {
     "data": {
      "text/html": [
       "<style type=\"text/css\">\n",
       "</style>\n",
       "<table id=\"T_66d59\">\n",
       "  <thead>\n",
       "    <tr>\n",
       "      <th class=\"blank level0\" >&nbsp;</th>\n",
       "      <th id=\"T_66d59_level0_col0\" class=\"col_heading level0 col0\" >доля ушедих</th>\n",
       "      <th id=\"T_66d59_level0_col1\" class=\"col_heading level0 col1\" >кол-во клиентов</th>\n",
       "    </tr>\n",
       "    <tr>\n",
       "      <th class=\"index_name level0\" >credit_card</th>\n",
       "      <th class=\"blank col0\" >&nbsp;</th>\n",
       "      <th class=\"blank col1\" >&nbsp;</th>\n",
       "    </tr>\n",
       "  </thead>\n",
       "  <tbody>\n",
       "    <tr>\n",
       "      <th id=\"T_66d59_level0_row0\" class=\"row_heading level0 row0\" >0</th>\n",
       "      <td id=\"T_66d59_row0_col0\" class=\"data row0 col0\" >0.26</td>\n",
       "      <td id=\"T_66d59_row0_col1\" class=\"data row0 col1\" >3196.00</td>\n",
       "    </tr>\n",
       "    <tr>\n",
       "      <th id=\"T_66d59_level0_row1\" class=\"row_heading level0 row1\" >1</th>\n",
       "      <td id=\"T_66d59_row1_col0\" class=\"data row1 col0\" >0.15</td>\n",
       "      <td id=\"T_66d59_row1_col1\" class=\"data row1 col1\" >6803.00</td>\n",
       "    </tr>\n",
       "  </tbody>\n",
       "</table>\n"
      ],
      "text/plain": [
       "<pandas.io.formats.style.Styler at 0x118ea6c31f0>"
      ]
     },
     "metadata": {},
     "output_type": "display_data"
    },
    {
     "data": {
      "image/png": "[encoded data removed]",
      "text/plain": [
       "<Figure size 1000x500 with 1 Axes>"
      ]
     },
     "metadata": {},
     "output_type": "display_data"
    }
   ],
   "source": [
    "# выводим таблицу и график распределения клиентов по наличию кредитной карты\n",
    "display(churn_tabel('credit_card'))\n",
    "\n",
    "churn_chart('credit_card', 'Распределение по наличию кредитной карты')"
   ]
  },
  {
   "cell_type": "markdown",
   "id": "3dad1e85",
   "metadata": {},
   "source": [
    "Клиенты с кредитной картой уходят чаще - в 26% случаев. Несмотря на то, что люди без кредитной карты по графику уходят чаще, процент уходящих там ниже - 15%."
   ]
  },
  {
   "cell_type": "markdown",
   "id": "381c3c20",
   "metadata": {},
   "source": [
    "#### по наличию активности"
   ]
  },
  {
   "cell_type": "code",
   "execution_count": 39,
   "id": "a54de4a3",
   "metadata": {},
   "outputs": [
    {
     "data": {
      "text/html": [
       "<style type=\"text/css\">\n",
       "</style>\n",
       "<table id=\"T_0bee1\">\n",
       "  <thead>\n",
       "    <tr>\n",
       "      <th class=\"blank level0\" >&nbsp;</th>\n",
       "      <th id=\"T_0bee1_level0_col0\" class=\"col_heading level0 col0\" >доля ушедих</th>\n",
       "      <th id=\"T_0bee1_level0_col1\" class=\"col_heading level0 col1\" >кол-во клиентов</th>\n",
       "    </tr>\n",
       "    <tr>\n",
       "      <th class=\"index_name level0\" >last_activity</th>\n",
       "      <th class=\"blank col0\" >&nbsp;</th>\n",
       "      <th class=\"blank col1\" >&nbsp;</th>\n",
       "    </tr>\n",
       "  </thead>\n",
       "  <tbody>\n",
       "    <tr>\n",
       "      <th id=\"T_0bee1_level0_row0\" class=\"row_heading level0 row0\" >1</th>\n",
       "      <td id=\"T_0bee1_row0_col0\" class=\"data row0 col0\" >0.24</td>\n",
       "      <td id=\"T_0bee1_row0_col1\" class=\"data row0 col1\" >5235.00</td>\n",
       "    </tr>\n",
       "    <tr>\n",
       "      <th id=\"T_0bee1_level0_row1\" class=\"row_heading level0 row1\" >0</th>\n",
       "      <td id=\"T_0bee1_row1_col0\" class=\"data row1 col0\" >0.11</td>\n",
       "      <td id=\"T_0bee1_row1_col1\" class=\"data row1 col1\" >4764.00</td>\n",
       "    </tr>\n",
       "  </tbody>\n",
       "</table>\n"
      ],
      "text/plain": [
       "<pandas.io.formats.style.Styler at 0x118e9fbc910>"
      ]
     },
     "metadata": {},
     "output_type": "display_data"
    },
    {
     "data": {
      "image/png": "[encoded data removed]",
      "text/plain": [
       "<Figure size 1000x500 with 1 Axes>"
      ]
     },
     "metadata": {},
     "output_type": "display_data"
    }
   ],
   "source": [
    "# выводим таблицу и график распределения клиентов по наличию активности\n",
    "display(churn_tabel('last_activity'))\n",
    "\n",
    "churn_chart('last_activity', 'Распределение по активности')"
   ]
  },
  {
   "cell_type": "markdown",
   "id": "8385d3de",
   "metadata": {},
   "source": [
    "Тут все достаточно логично - неактивные клиенты уходят чаще активных (24%). Но стоит обратить внимание на общее количество неактивных клиентов - их больше, чем активных, но это тема уже другого исследования."
   ]
  },
  {
   "cell_type": "markdown",
   "id": "5702cfef",
   "metadata": {},
   "source": [
    "#### по зарплате"
   ]
  },
  {
   "cell_type": "code",
   "execution_count": 40,
   "id": "cadad21d",
   "metadata": {},
   "outputs": [
    {
     "data": {
      "text/html": [
       "<style type=\"text/css\">\n",
       "</style>\n",
       "<table id=\"T_e6baf\">\n",
       "  <thead>\n",
       "    <tr>\n",
       "      <th class=\"blank level0\" >&nbsp;</th>\n",
       "      <th id=\"T_e6baf_level0_col0\" class=\"col_heading level0 col0\" >доля ушедих</th>\n",
       "      <th id=\"T_e6baf_level0_col1\" class=\"col_heading level0 col1\" >кол-во клиентов</th>\n",
       "    </tr>\n",
       "    <tr>\n",
       "      <th class=\"index_name level0\" >est_salary_cat</th>\n",
       "      <th class=\"blank col0\" >&nbsp;</th>\n",
       "      <th class=\"blank col1\" >&nbsp;</th>\n",
       "    </tr>\n",
       "  </thead>\n",
       "  <tbody>\n",
       "    <tr>\n",
       "      <th id=\"T_e6baf_level0_row0\" class=\"row_heading level0 row0\" >выше среднего</th>\n",
       "      <td id=\"T_e6baf_row0_col0\" class=\"data row0 col0\" >0.20</td>\n",
       "      <td id=\"T_e6baf_row0_col1\" class=\"data row0 col1\" >2515.00</td>\n",
       "    </tr>\n",
       "    <tr>\n",
       "      <th id=\"T_e6baf_level0_row1\" class=\"row_heading level0 row1\" >средняя+</th>\n",
       "      <td id=\"T_e6baf_row1_col0\" class=\"data row1 col0\" >0.19</td>\n",
       "      <td id=\"T_e6baf_row1_col1\" class=\"data row1 col1\" >2478.00</td>\n",
       "    </tr>\n",
       "    <tr>\n",
       "      <th id=\"T_e6baf_level0_row2\" class=\"row_heading level0 row2\" >значительно выше среднего</th>\n",
       "      <td id=\"T_e6baf_row2_col0\" class=\"data row2 col0\" >0.19</td>\n",
       "      <td id=\"T_e6baf_row2_col1\" class=\"data row2 col1\" >2521.00</td>\n",
       "    </tr>\n",
       "    <tr>\n",
       "      <th id=\"T_e6baf_level0_row3\" class=\"row_heading level0 row3\" >средняя</th>\n",
       "      <td id=\"T_e6baf_row3_col0\" class=\"data row3 col0\" >0.15</td>\n",
       "      <td id=\"T_e6baf_row3_col1\" class=\"data row3 col1\" >2485.00</td>\n",
       "    </tr>\n",
       "  </tbody>\n",
       "</table>\n"
      ],
      "text/plain": [
       "<pandas.io.formats.style.Styler at 0x118e9cda6d0>"
      ]
     },
     "metadata": {},
     "output_type": "display_data"
    },
    {
     "data": {
      "image/png": "[encoded data removed]",
      "text/plain": [
       "<Figure size 1000x500 with 1 Axes>"
      ]
     },
     "metadata": {},
     "output_type": "display_data"
    }
   ],
   "source": [
    "# выводим таблицу и график распределения клиентов по зарплате\n",
    "display(churn_tabel('est_salary_cat'))\n",
    "\n",
    "churn_chart('est_salary_cat', 'Распределение по зарплате')"
   ]
  },
  {
   "cell_type": "markdown",
   "id": "d7c5cf9d",
   "metadata": {},
   "source": [
    "В данном случае группы по размеру и оттоку примерно одинаковые, немного выделяется группа с заработком выше среднего (заработок от 119 тысяч до 174 тысяч) - уходят 20% клиентов. Самая лояльная группа - это клиенты с средним заработком (до 75.000), уходят только 15%.\n",
    "\n",
    "Мы выявили самые отточные категории клиентов, давайте теперь выделим самые отточные сегменты, посмотрим сколько в них клиентов и какой процент оттока. При расчетах мы будем основываться на графиках и таблицах, рассчитаных выше - мы возьмем самые отточные категории и объеденим их в несколько сегментов."
   ]
  },
  {
   "cell_type": "markdown",
   "id": "a796f5e9",
   "metadata": {},
   "source": [
    "### выделение отточных сегментов и их анализ:"
   ]
  },
  {
   "cell_type": "markdown",
   "id": "357327be",
   "metadata": {},
   "source": [
    "#### функция для расчета сегментов"
   ]
  },
  {
   "cell_type": "code",
   "execution_count": 41,
   "id": "5575bbb2",
   "metadata": {},
   "outputs": [],
   "source": [
    "# функция, которая строит таблицу с информацией о кол-ве клентов в сегменте и доле ушедших в этом сегменте\n",
    "def segment_tabel(column_1, column_cat_1, column_2, column_cat_2):\n",
    "    \n",
    "    #print('Сегментация по', column_1, 'и', column_2, 'в категориях', \n",
    "          #'\"', column_cat_1, '\"', 'и', '\"', column_cat_2, '\"', 'соответственно:')\n",
    "    \n",
    "    tabel = (data.loc[(data[column_1] == column_cat_1) & (data[column_2] == column_cat_2)]\n",
    "             .agg({'user_id':'count', 'churn':'mean'}).reset_index()\n",
    "             .rename(mapper = {0 : 'кол-во клиентов', 1 : 'доля ушедих'}, axis=0)\n",
    "             .T\n",
    "             .drop('index', axis=0)\n",
    "            )\n",
    "    \n",
    "    tabel = (tabel.assign(C = tabel['доля ушедих'] * tabel['кол-во клиентов'])\n",
    "             .rename(mapper = {'C' : 'кол-во ушедших'}, axis=1)\n",
    "             .style.format('{:.2f}')\n",
    "            )\n",
    "   \n",
    "    return tabel"
   ]
  },
  {
   "cell_type": "markdown",
   "id": "a16f6003",
   "metadata": {},
   "source": [
    "#### 1 сегмент: мужчины с миллионым балансом"
   ]
  },
  {
   "cell_type": "code",
   "execution_count": 42,
   "id": "3036b935",
   "metadata": {},
   "outputs": [
    {
     "data": {
      "text/html": [
       "<style type=\"text/css\">\n",
       "</style>\n",
       "<table id=\"T_ad741\">\n",
       "  <thead>\n",
       "    <tr>\n",
       "      <th class=\"blank level0\" >&nbsp;</th>\n",
       "      <th id=\"T_ad741_level0_col0\" class=\"col_heading level0 col0\" >кол-во клиентов</th>\n",
       "      <th id=\"T_ad741_level0_col1\" class=\"col_heading level0 col1\" >доля ушедих</th>\n",
       "      <th id=\"T_ad741_level0_col2\" class=\"col_heading level0 col2\" >кол-во ушедших</th>\n",
       "    </tr>\n",
       "  </thead>\n",
       "  <tbody>\n",
       "    <tr>\n",
       "      <th id=\"T_ad741_level0_row0\" class=\"row_heading level0 row0\" >0</th>\n",
       "      <td id=\"T_ad741_row0_col0\" class=\"data row0 col0\" >1004.00</td>\n",
       "      <td id=\"T_ad741_row0_col1\" class=\"data row0 col1\" >0.49</td>\n",
       "      <td id=\"T_ad741_row0_col2\" class=\"data row0 col2\" >490.00</td>\n",
       "    </tr>\n",
       "  </tbody>\n",
       "</table>\n"
      ],
      "text/plain": [
       "<pandas.io.formats.style.Styler at 0x118ea00e940>"
      ]
     },
     "execution_count": 42,
     "metadata": {},
     "output_type": "execute_result"
    }
   ],
   "source": [
    "segment_tabel('balance_cat', 'миллионный', 'gender', 'М')"
   ]
  },
  {
   "cell_type": "markdown",
   "id": "22c42ef2",
   "metadata": {},
   "source": [
    "Почти половина клиентов мужского пола с миллиоными балансами покидает банк."
   ]
  },
  {
   "cell_type": "markdown",
   "id": "d4edf3d5",
   "metadata": {},
   "source": [
    "#### 2 сегмент: неактивные клиенты с средним кредитным рейтингом"
   ]
  },
  {
   "cell_type": "code",
   "execution_count": 43,
   "id": "71f36cac",
   "metadata": {},
   "outputs": [
    {
     "data": {
      "text/html": [
       "<style type=\"text/css\">\n",
       "</style>\n",
       "<table id=\"T_e3a47\">\n",
       "  <thead>\n",
       "    <tr>\n",
       "      <th class=\"blank level0\" >&nbsp;</th>\n",
       "      <th id=\"T_e3a47_level0_col0\" class=\"col_heading level0 col0\" >кол-во клиентов</th>\n",
       "      <th id=\"T_e3a47_level0_col1\" class=\"col_heading level0 col1\" >доля ушедих</th>\n",
       "      <th id=\"T_e3a47_level0_col2\" class=\"col_heading level0 col2\" >кол-во ушедших</th>\n",
       "    </tr>\n",
       "  </thead>\n",
       "  <tbody>\n",
       "    <tr>\n",
       "      <th id=\"T_e3a47_level0_row0\" class=\"row_heading level0 row0\" >0</th>\n",
       "      <td id=\"T_e3a47_row0_col0\" class=\"data row0 col0\" >1002.00</td>\n",
       "      <td id=\"T_e3a47_row0_col1\" class=\"data row0 col1\" >0.44</td>\n",
       "      <td id=\"T_e3a47_row0_col2\" class=\"data row0 col2\" >440.00</td>\n",
       "    </tr>\n",
       "  </tbody>\n",
       "</table>\n"
      ],
      "text/plain": [
       "<pandas.io.formats.style.Styler at 0x118eb5f3730>"
      ]
     },
     "execution_count": 43,
     "metadata": {},
     "output_type": "execute_result"
    }
   ],
   "source": [
    "segment_tabel('last_activity', 1, 'score_cat', 'средний')"
   ]
  },
  {
   "cell_type": "markdown",
   "id": "56ab1ab8",
   "metadata": {},
   "source": [
    "Достаточно отточный сегмент: 44% неактивных клиентов с средним кредитным рейтингом уходят из банка."
   ]
  },
  {
   "cell_type": "markdown",
   "id": "058e2ac5",
   "metadata": {},
   "source": [
    "#### 3 сегмент: клиенты, живущие в Ярославле с миллиоными балансами"
   ]
  },
  {
   "cell_type": "code",
   "execution_count": 44,
   "id": "dab61af2",
   "metadata": {},
   "outputs": [
    {
     "data": {
      "text/html": [
       "<style type=\"text/css\">\n",
       "</style>\n",
       "<table id=\"T_a51a9\">\n",
       "  <thead>\n",
       "    <tr>\n",
       "      <th class=\"blank level0\" >&nbsp;</th>\n",
       "      <th id=\"T_a51a9_level0_col0\" class=\"col_heading level0 col0\" >кол-во клиентов</th>\n",
       "      <th id=\"T_a51a9_level0_col1\" class=\"col_heading level0 col1\" >доля ушедих</th>\n",
       "      <th id=\"T_a51a9_level0_col2\" class=\"col_heading level0 col2\" >кол-во ушедших</th>\n",
       "    </tr>\n",
       "  </thead>\n",
       "  <tbody>\n",
       "    <tr>\n",
       "      <th id=\"T_a51a9_level0_row0\" class=\"row_heading level0 row0\" >0</th>\n",
       "      <td id=\"T_a51a9_row0_col0\" class=\"data row0 col0\" >1189.00</td>\n",
       "      <td id=\"T_a51a9_row0_col1\" class=\"data row0 col1\" >0.41</td>\n",
       "      <td id=\"T_a51a9_row0_col2\" class=\"data row0 col2\" >492.00</td>\n",
       "    </tr>\n",
       "  </tbody>\n",
       "</table>\n"
      ],
      "text/plain": [
       "<pandas.io.formats.style.Styler at 0x118ea1b7d90>"
      ]
     },
     "execution_count": 44,
     "metadata": {},
     "output_type": "execute_result"
    }
   ],
   "source": [
    "segment_tabel('balance_cat', 'миллионный', 'city', 'Ярославль')"
   ]
  },
  {
   "cell_type": "markdown",
   "id": "5b0e3571",
   "metadata": {},
   "source": [
    "Сегмент достаточно большой по размеру и с большим оттоком (41%)."
   ]
  },
  {
   "cell_type": "markdown",
   "id": "b93d41da",
   "metadata": {},
   "source": [
    "#### 4 сегмент: клиены с зарплатой выше среднего и миллионым балансом"
   ]
  },
  {
   "cell_type": "code",
   "execution_count": 45,
   "id": "f097f633",
   "metadata": {},
   "outputs": [
    {
     "data": {
      "text/html": [
       "<style type=\"text/css\">\n",
       "</style>\n",
       "<table id=\"T_5672d\">\n",
       "  <thead>\n",
       "    <tr>\n",
       "      <th class=\"blank level0\" >&nbsp;</th>\n",
       "      <th id=\"T_5672d_level0_col0\" class=\"col_heading level0 col0\" >кол-во клиентов</th>\n",
       "      <th id=\"T_5672d_level0_col1\" class=\"col_heading level0 col1\" >доля ушедих</th>\n",
       "      <th id=\"T_5672d_level0_col2\" class=\"col_heading level0 col2\" >кол-во ушедших</th>\n",
       "    </tr>\n",
       "  </thead>\n",
       "  <tbody>\n",
       "    <tr>\n",
       "      <th id=\"T_5672d_level0_row0\" class=\"row_heading level0 row0\" >0</th>\n",
       "      <td id=\"T_5672d_row0_col0\" class=\"data row0 col0\" >560.00</td>\n",
       "      <td id=\"T_5672d_row0_col1\" class=\"data row0 col1\" >0.41</td>\n",
       "      <td id=\"T_5672d_row0_col2\" class=\"data row0 col2\" >229.00</td>\n",
       "    </tr>\n",
       "  </tbody>\n",
       "</table>\n"
      ],
      "text/plain": [
       "<pandas.io.formats.style.Styler at 0x118eb5936a0>"
      ]
     },
     "execution_count": 45,
     "metadata": {},
     "output_type": "execute_result"
    }
   ],
   "source": [
    "segment_tabel('est_salary_cat', 'выше среднего', 'balance_cat', 'миллионный')"
   ]
  },
  {
   "cell_type": "markdown",
   "id": "ba761e9b",
   "metadata": {},
   "source": [
    "41% покинул этого сегмента покинул банк - это 229 человек."
   ]
  },
  {
   "cell_type": "markdown",
   "id": "3abdebb6",
   "metadata": {},
   "source": [
    "#### 5 сегмент: клиены мужского пола с оценкой имущества равной 5"
   ]
  },
  {
   "cell_type": "code",
   "execution_count": 46,
   "id": "a78d0cbf",
   "metadata": {},
   "outputs": [
    {
     "data": {
      "text/html": [
       "<style type=\"text/css\">\n",
       "</style>\n",
       "<table id=\"T_4f135\">\n",
       "  <thead>\n",
       "    <tr>\n",
       "      <th class=\"blank level0\" >&nbsp;</th>\n",
       "      <th id=\"T_4f135_level0_col0\" class=\"col_heading level0 col0\" >кол-во клиентов</th>\n",
       "      <th id=\"T_4f135_level0_col1\" class=\"col_heading level0 col1\" >доля ушедих</th>\n",
       "      <th id=\"T_4f135_level0_col2\" class=\"col_heading level0 col2\" >кол-во ушедших</th>\n",
       "    </tr>\n",
       "  </thead>\n",
       "  <tbody>\n",
       "    <tr>\n",
       "      <th id=\"T_4f135_level0_row0\" class=\"row_heading level0 row0\" >0</th>\n",
       "      <td id=\"T_4f135_row0_col0\" class=\"data row0 col0\" >974.00</td>\n",
       "      <td id=\"T_4f135_row0_col1\" class=\"data row0 col1\" >0.40</td>\n",
       "      <td id=\"T_4f135_row0_col2\" class=\"data row0 col2\" >389.00</td>\n",
       "    </tr>\n",
       "  </tbody>\n",
       "</table>\n"
      ],
      "text/plain": [
       "<pandas.io.formats.style.Styler at 0x118ea1c8c40>"
      ]
     },
     "execution_count": 46,
     "metadata": {},
     "output_type": "execute_result"
    }
   ],
   "source": [
    "segment_tabel('equity', 5, 'gender', 'М')"
   ]
  },
  {
   "cell_type": "markdown",
   "id": "ef5c5493",
   "metadata": {},
   "source": [
    "974 клиента, из которых ушло 389 (40%).\n",
    "\n",
    "В данном пункте мы выделили 5 самых отточных сегментов (с оттоком более 40% и численостью более 500 человек). На эти сегменты стоит обратить внимание и провести определенную работу. Рекомендации будут ниже."
   ]
  },
  {
   "cell_type": "markdown",
   "id": "ed3fd773",
   "metadata": {},
   "source": [
    "**Вывод к главе:**\n",
    "\n",
    "Мы провели исследовательский анализ данных. Категоризовали данные клиентов и визуализировали их с учетом оттока. Выявили 5 самых отточных сегментов. По итогам анализа можем выделить портрет клиентов склонных к оттоку и портрет, наоборот, самых лояльных клиентов.\n",
    "\n",
    "\n",
    "**ПОРТРЕТ КЛИЕНТА СКЛОННОГО К ОТТОКУ**\n",
    "\n",
    "Молодой мужчина, не являющийся активным пользователем, со средним кредитным рейтингом, живущий в Ярославле или Ростове, с оценкой собственности от 5 до 9, с миллионым балансом на счете и 4 продуктами, с кредитной картой и зарплатой выше среднего.\n",
    "\n",
    "\n",
    "**ПОРТРЕТ САМОГО ЛОЯЛЬНОГО КЛИЕНТА**\n",
    "\n",
    "Пожилая женщина, являющаяся активным пользователем, со низким кредитным рейтингом, живущая в Рыбинске, с оценкой собственности равной 0, с минимальным или средним балансом на счете и 1 продуктом, без кредитной карты и средней зарплатой.\n",
    "\n",
    "\n",
    "**САМЫЕ ОТТОЧНЫЕ СЕГМЕНТЫ**\n",
    "\n",
    "1. мужчины с миллионым балансом (отток - 49%);\n",
    "2. неактивные клиенты с средним кредитным рейтингом (отток - 44%);\n",
    "3. клиенты, живущие в Ярославле с миллиоными балансами (отток - 41%);\n",
    "4. клиены с зарплатой выше среднего и миллионым балансом (отток - 41%);\n",
    "5. клиены мужского пола с оценкой имущества равной 5 (отток - 40%)."
   ]
  },
  {
   "cell_type": "markdown",
   "id": "6430deee",
   "metadata": {},
   "source": [
    "## Проверка гипотез"
   ]
  },
  {
   "cell_type": "markdown",
   "id": "6642a29a",
   "metadata": {},
   "source": [
    "Будем проверять гипотезы о схожести распределения выборок, применяя U-критерий Манна-Уитни.\n",
    "\n",
    "Выберем уровень статистической значимости равный: 0.05. Это значит, что мы допускаем 5% вероятность ошибки."
   ]
  },
  {
   "cell_type": "markdown",
   "id": "59792912",
   "metadata": {},
   "source": [
    "### проверим гипотезу различия дохода между теми клиентами, которые ушли и теми, которые остались:\n",
    "\n",
    "\n",
    "H0: Статистичекски значимой разницы в доходах клиентов, которые ушли и которые остались нет.\n",
    "\n",
    "H1: Есть статистичекски значимая разница в доходах клиентов, которые ушли и которые остались."
   ]
  },
  {
   "cell_type": "code",
   "execution_count": 47,
   "id": "928af20f",
   "metadata": {},
   "outputs": [
    {
     "name": "stdout",
     "output_type": "stream",
     "text": [
      "p-значение: 0.0002499111605569152\n",
      "Отвергаем нулевую гипотезу: есть статестически значимая разница в доходах ушедших и оставшихся клиентов\n"
     ]
    }
   ],
   "source": [
    "# критический уровень статистической значимости\n",
    "alpha = 0.05  \n",
    "\n",
    "# тест с применением U-критерия Манна-Уитни\n",
    "results = stats.mannwhitneyu(data.query('churn == 0')['est_salary'], \n",
    "                             data.query('churn == 1')['est_salary'])\n",
    "\n",
    "print('p-значение:', results.pvalue)\n",
    "\n",
    "if results.pvalue < alpha:\n",
    "    print('Отвергаем нулевую гипотезу: есть статестически значимая разница в доходах ушедших и оставшихся клиентов')\n",
    "else:\n",
    "    print('Не получилось отвергнуть Н0: статестически значимой разницы в доходах ушедших и оставшихся клиентов нет') "
   ]
  },
  {
   "cell_type": "markdown",
   "id": "95d9b824",
   "metadata": {},
   "source": [
    "Результаты теста говорят нам о том, что есть статестически значимая разница в доходах ушедших и оставшихся клиентов. p-значение сильно меньше значения alpha, вероятность ошибки минимальная."
   ]
  },
  {
   "cell_type": "markdown",
   "id": "aa920146",
   "metadata": {},
   "source": [
    "### проверим гипотезу различия кредитного рейтинга между теми клиентами, которые ушли и теми, которые остались:\n",
    "\n",
    "H0: Статистичекски значимой разницы в кредитном рейтинге клиентов, которые ушли и которые остались нет.\n",
    "\n",
    "H1: Есть статистичекски значимая разница в кредитном рейтинге клиентов, которые ушли и которые остались."
   ]
  },
  {
   "cell_type": "code",
   "execution_count": 48,
   "id": "6e9930fe",
   "metadata": {},
   "outputs": [
    {
     "name": "stdout",
     "output_type": "stream",
     "text": [
      "p-значение: 4.158883884448029e-22\n",
      "Отвергаем нулевую гипотезу: есть статестически значимая разница в кредитном рейтинге ушедших и оставшихся клиентов\n"
     ]
    }
   ],
   "source": [
    "# тест с применением U-критерия Манна-Уитни\n",
    "results = stats.mannwhitneyu(data.query('churn == 0')['score'], \n",
    "                             data.query('churn == 1')['score'])\n",
    "\n",
    "print('p-значение:', results.pvalue)\n",
    "\n",
    "if results.pvalue < alpha:\n",
    "    print('Отвергаем нулевую гипотезу: есть статестически значимая разница в кредитном рейтинге ушедших и оставшихся клиентов')\n",
    "else:\n",
    "    print('Не получилось отвергнуть Н0: статестически значимой разницы в кредитном рейтинге ушедших и оставшихся клиентов нет') "
   ]
  },
  {
   "cell_type": "markdown",
   "id": "a98a7217",
   "metadata": {},
   "source": [
    "По результату теста мы видим, что p-значение крайне маленькое. Это значит, что статестическая разница между группами есть и достаточно большая, а это значит, что кредитные рейтинги ушедших и оставшихся клиентов имеют статистичекски значимую разницу."
   ]
  },
  {
   "cell_type": "markdown",
   "id": "ca4880d9",
   "metadata": {},
   "source": [
    "## Вывод"
   ]
  },
  {
   "cell_type": "markdown",
   "id": "b2d3d701",
   "metadata": {},
   "source": [
    "**было сдеалано:**\n",
    "\n",
    "1. предобработка данных;\n",
    "\n",
    "\n",
    "2. исследовательский анализ данных:\n",
    "    * были выделены категории клиентов;\n",
    "    * визуализированы распределения клиентов по категорям с разделением на ушедших и оставшихся;\n",
    "    * не было найдено каких-либо сильных взаимосвязей в данных;\n",
    "    * были составлены портреты уходящего и лояльного клиента;\n",
    "    \n",
    "    \n",
    "3. проверены гипотезы о различии дохода между теми клиентами, которые ушли и теми, которые остались и о различии кредитного рейтинга между теми клиентами, которые ушли и теми, которые остались.\n",
    "\n",
    "**портрет пользователя, склонного уходить:**\n",
    "\n",
    "Молодой мужчина, не являющийся активным пользователем, со средним кредитным рейтингом, живущий в Ярославле или Ростове, с оценкой собственности от 5 до 9, с миллионым балансом на счете и 4 продуктами, с кредитной картой и зарплатой выше среднего.\n",
    "\n",
    "**самые отточные сегменты:**\n",
    "\n",
    "1. мужчины с миллионым балансом (отток - 49%);\n",
    "2. неактивные клиенты с средним кредитным рейтингом (отток - 44%);\n",
    "3. клиенты, живущие в Ярославле с миллиоными балансами (отток - 41%);\n",
    "4. клиены с зарплатой выше среднего и миллионым балансом (отток - 41%);\n",
    "5. клиены мужского пола с оценкой имущества равной 5 (отток - 40%).\n",
    "\n",
    "**гипотезы:**\n",
    "\n",
    "1. гипотеза равенства дохода между теми клиентами, которые ушли и теми, которые остались была опровергнута - есть статистически значимая разница;\n",
    "\n",
    "\n",
    "2. гипотеза равенства кредитного рейтинга между теми клиентами, которые ушли и теми, которые остались, была опровергнута - есть статистически значимая разница."
   ]
  },
  {
   "cell_type": "markdown",
   "id": "9f73cffc",
   "metadata": {},
   "source": [
    "## Рекомендации"
   ]
  },
  {
   "cell_type": "markdown",
   "id": "85927089",
   "metadata": {},
   "source": [
    "Глубже проанализировать ситуацию с активностю клиентов, так как очень много клиентов попросту неактивны. Возможно стоит рассмотреть вариант с внедрением новых функций, чтобы повысить активность клиентов (например возможность новых переводов или встроенный магазин со скидками от партнеров).\n",
    "\n",
    "\n",
    "Изменить подход к привлечению новых клиентов, а именно:\n",
    "    \n",
    "   1. увеличить количество рекламных компаний в городе Рыбинске;\n",
    "   2. улучшить систему проверки кредитного рейтинга и обратить внимание на людей с низким или очень высоким кредитным рейтингом;\n",
    "\n",
    "Предложить новые условия держателям больших балансов, возможно другие банки предлагают более выгодные условия по вкладам и кредитам, что непосредственно влияет на отток.\n",
    "\n",
    "\n",
    "Проверить и выявить проблему 4 продуктов - очень большой отток клиентов с 4 продуктами. Возможно это ошибка системы, возможно недоработка условий, в следствие чего клиенты мотивируются на отток.\n",
    "\n",
    "\n",
    "Пересмотреть политику выдачи кредитных карт (условия и ограничения).\n",
    "\n",
    "Продолжить политику привлечения пенсионеров - они показывают хорошее удержание и достаточно редко уходят.\n",
    "\n",
    "Удержание людей с 1 продуктом без кредитной карты (скорее всего вклад) хорошее, поэтому стоит продолжить работу в данном направлении."
   ]
  }
 ],
 "metadata": {
  "ExecuteTimeLog": [
   {
    "duration": 1277,
    "start_time": "2023-02-12T11:10:25.147Z"
   },
   {
    "duration": 1324,
    "start_time": "2023-02-12T11:10:26.426Z"
   },
   {
    "duration": 11,
    "start_time": "2023-02-12T11:10:27.752Z"
   },
   {
    "duration": 3,
    "start_time": "2023-02-12T11:10:27.765Z"
   },
   {
    "duration": 8,
    "start_time": "2023-02-12T11:10:27.770Z"
   },
   {
    "duration": 20,
    "start_time": "2023-02-12T11:10:27.780Z"
   },
   {
    "duration": 870,
    "start_time": "2023-02-12T11:10:27.802Z"
   },
   {
    "duration": 11,
    "start_time": "2023-02-12T11:10:28.674Z"
   },
   {
    "duration": 10,
    "start_time": "2023-02-12T11:10:28.686Z"
   },
   {
    "duration": 4,
    "start_time": "2023-02-12T11:10:28.699Z"
   },
   {
    "duration": 27,
    "start_time": "2023-02-12T11:10:28.705Z"
   },
   {
    "duration": 13,
    "start_time": "2023-02-12T11:10:28.734Z"
   },
   {
    "duration": 66,
    "start_time": "2023-02-12T11:10:28.749Z"
   },
   {
    "duration": 8,
    "start_time": "2023-02-12T11:10:28.816Z"
   },
   {
    "duration": 134,
    "start_time": "2023-02-12T11:10:28.826Z"
   },
   {
    "duration": 130,
    "start_time": "2023-02-12T11:10:28.962Z"
   },
   {
    "duration": 32,
    "start_time": "2023-02-12T11:10:29.093Z"
   },
   {
    "duration": 135,
    "start_time": "2023-02-12T11:10:29.126Z"
   },
   {
    "duration": 135,
    "start_time": "2023-02-12T11:10:29.263Z"
   },
   {
    "duration": 44,
    "start_time": "2023-02-12T11:10:29.400Z"
   },
   {
    "duration": 123,
    "start_time": "2023-02-12T11:10:29.446Z"
   },
   {
    "duration": 179,
    "start_time": "2023-02-12T11:10:29.570Z"
   },
   {
    "duration": 12,
    "start_time": "2023-02-12T11:10:29.750Z"
   },
   {
    "duration": 136,
    "start_time": "2023-02-12T11:10:29.764Z"
   },
   {
    "duration": 43,
    "start_time": "2023-02-12T11:10:29.902Z"
   },
   {
    "duration": 13,
    "start_time": "2023-02-12T11:10:29.946Z"
   },
   {
    "duration": 10,
    "start_time": "2023-02-12T11:10:29.960Z"
   },
   {
    "duration": 13,
    "start_time": "2023-02-12T11:10:29.973Z"
   },
   {
    "duration": 31,
    "start_time": "2023-02-12T11:10:29.988Z"
   },
   {
    "duration": 45,
    "start_time": "2023-02-12T11:10:30.023Z"
   },
   {
    "duration": 220,
    "start_time": "2023-02-12T11:10:30.069Z"
   },
   {
    "duration": 156,
    "start_time": "2023-02-12T11:10:30.290Z"
   },
   {
    "duration": 149,
    "start_time": "2023-02-12T11:10:30.447Z"
   },
   {
    "duration": 175,
    "start_time": "2023-02-12T11:10:30.598Z"
   },
   {
    "duration": 209,
    "start_time": "2023-02-12T11:10:30.775Z"
   },
   {
    "duration": 191,
    "start_time": "2023-02-12T11:10:30.985Z"
   },
   {
    "duration": 198,
    "start_time": "2023-02-12T11:10:31.178Z"
   },
   {
    "duration": 148,
    "start_time": "2023-02-12T11:10:31.377Z"
   },
   {
    "duration": 159,
    "start_time": "2023-02-12T11:10:31.526Z"
   },
   {
    "duration": 264,
    "start_time": "2023-02-12T11:10:31.687Z"
   },
   {
    "duration": 824,
    "start_time": "2023-02-12T11:10:31.953Z"
   },
   {
    "duration": 19,
    "start_time": "2023-02-12T11:10:32.779Z"
   },
   {
    "duration": 23,
    "start_time": "2023-02-12T11:10:32.812Z"
   },
   {
    "duration": 113,
    "start_time": "2023-02-12T11:10:47.258Z"
   },
   {
    "duration": 9,
    "start_time": "2023-02-12T11:11:40.995Z"
   },
   {
    "duration": 86,
    "start_time": "2023-02-12T11:12:06.185Z"
   },
   {
    "duration": 84,
    "start_time": "2023-02-12T11:13:16.608Z"
   },
   {
    "duration": 66,
    "start_time": "2023-02-12T11:13:54.824Z"
   },
   {
    "duration": 99,
    "start_time": "2023-02-12T11:14:09.525Z"
   },
   {
    "duration": 39,
    "start_time": "2023-02-12T11:26:29.040Z"
   },
   {
    "duration": 17,
    "start_time": "2023-02-12T11:27:40.403Z"
   },
   {
    "duration": 9,
    "start_time": "2023-02-12T11:29:13.350Z"
   },
   {
    "duration": 9,
    "start_time": "2023-02-12T11:29:27.375Z"
   },
   {
    "duration": 8,
    "start_time": "2023-02-12T11:29:38.859Z"
   },
   {
    "duration": 6,
    "start_time": "2023-02-12T11:33:30.144Z"
   },
   {
    "duration": 11,
    "start_time": "2023-02-12T11:34:27.150Z"
   },
   {
    "duration": 47,
    "start_time": "2023-02-12T11:37:15.001Z"
   },
   {
    "duration": 5,
    "start_time": "2023-02-12T11:38:11.650Z"
   },
   {
    "duration": 17,
    "start_time": "2023-02-12T11:38:11.851Z"
   },
   {
    "duration": 5,
    "start_time": "2023-02-12T11:38:21.094Z"
   },
   {
    "duration": 20,
    "start_time": "2023-02-12T11:38:21.874Z"
   },
   {
    "duration": 5,
    "start_time": "2023-02-12T11:38:34.633Z"
   },
   {
    "duration": 14,
    "start_time": "2023-02-12T11:38:35.589Z"
   },
   {
    "duration": 7,
    "start_time": "2023-02-12T11:38:43.293Z"
   },
   {
    "duration": 13,
    "start_time": "2023-02-12T11:38:43.625Z"
   },
   {
    "duration": 6,
    "start_time": "2023-02-12T11:39:51.024Z"
   },
   {
    "duration": 13,
    "start_time": "2023-02-12T11:39:51.854Z"
   },
   {
    "duration": 5,
    "start_time": "2023-02-12T11:40:05.053Z"
   },
   {
    "duration": 19,
    "start_time": "2023-02-12T11:40:06.998Z"
   },
   {
    "duration": 5,
    "start_time": "2023-02-12T11:40:15.749Z"
   },
   {
    "duration": 14,
    "start_time": "2023-02-12T11:40:16.123Z"
   },
   {
    "duration": 7,
    "start_time": "2023-02-12T11:40:22.358Z"
   },
   {
    "duration": 11,
    "start_time": "2023-02-12T11:40:23.624Z"
   },
   {
    "duration": 5,
    "start_time": "2023-02-12T11:40:38.726Z"
   },
   {
    "duration": 13,
    "start_time": "2023-02-12T11:40:38.988Z"
   },
   {
    "duration": 15,
    "start_time": "2023-02-12T11:40:50.009Z"
   },
   {
    "duration": 13,
    "start_time": "2023-02-12T11:40:50.355Z"
   },
   {
    "duration": 8,
    "start_time": "2023-02-12T11:40:59.320Z"
   },
   {
    "duration": 15,
    "start_time": "2023-02-12T11:40:59.660Z"
   },
   {
    "duration": 5,
    "start_time": "2023-02-12T11:41:42.055Z"
   },
   {
    "duration": 23,
    "start_time": "2023-02-12T11:41:42.477Z"
   },
   {
    "duration": 5,
    "start_time": "2023-02-12T11:41:49.365Z"
   },
   {
    "duration": 19,
    "start_time": "2023-02-12T11:41:49.709Z"
   },
   {
    "duration": 5,
    "start_time": "2023-02-12T11:42:10.560Z"
   },
   {
    "duration": 12,
    "start_time": "2023-02-12T11:42:11.025Z"
   },
   {
    "duration": 6,
    "start_time": "2023-02-12T11:45:20.398Z"
   },
   {
    "duration": 13,
    "start_time": "2023-02-12T11:45:20.782Z"
   },
   {
    "duration": 4,
    "start_time": "2023-02-12T11:47:12.490Z"
   },
   {
    "duration": 11,
    "start_time": "2023-02-12T11:47:12.879Z"
   },
   {
    "duration": 4,
    "start_time": "2023-02-12T11:47:19.964Z"
   },
   {
    "duration": 13,
    "start_time": "2023-02-12T11:47:20.262Z"
   },
   {
    "duration": 3,
    "start_time": "2023-02-12T11:47:34.047Z"
   },
   {
    "duration": 16,
    "start_time": "2023-02-12T11:47:34.377Z"
   },
   {
    "duration": 4,
    "start_time": "2023-02-12T11:47:40.855Z"
   },
   {
    "duration": 17,
    "start_time": "2023-02-12T11:47:41.253Z"
   },
   {
    "duration": 3,
    "start_time": "2023-02-12T11:48:01.492Z"
   },
   {
    "duration": 13,
    "start_time": "2023-02-12T11:48:01.708Z"
   },
   {
    "duration": 4,
    "start_time": "2023-02-12T11:48:15.379Z"
   },
   {
    "duration": 11,
    "start_time": "2023-02-12T11:48:15.672Z"
   },
   {
    "duration": 4,
    "start_time": "2023-02-12T11:48:24.537Z"
   },
   {
    "duration": 12,
    "start_time": "2023-02-12T11:48:24.841Z"
   },
   {
    "duration": 3,
    "start_time": "2023-02-12T11:48:43.984Z"
   },
   {
    "duration": 12,
    "start_time": "2023-02-12T11:48:44.652Z"
   },
   {
    "duration": 4,
    "start_time": "2023-02-12T11:50:29.058Z"
   },
   {
    "duration": 16,
    "start_time": "2023-02-12T11:50:29.796Z"
   },
   {
    "duration": 4,
    "start_time": "2023-02-12T11:51:28.738Z"
   },
   {
    "duration": 13,
    "start_time": "2023-02-12T11:51:29.129Z"
   },
   {
    "duration": 4,
    "start_time": "2023-02-12T11:52:35.578Z"
   },
   {
    "duration": 12,
    "start_time": "2023-02-12T11:52:35.900Z"
   },
   {
    "duration": 4,
    "start_time": "2023-02-12T11:53:48.738Z"
   },
   {
    "duration": 12,
    "start_time": "2023-02-12T11:53:49.350Z"
   },
   {
    "duration": 5,
    "start_time": "2023-02-12T11:54:24.743Z"
   },
   {
    "duration": 15,
    "start_time": "2023-02-12T11:54:25.061Z"
   },
   {
    "duration": 83,
    "start_time": "2023-02-12T11:55:11.101Z"
   },
   {
    "duration": 17,
    "start_time": "2023-02-12T11:55:11.882Z"
   },
   {
    "duration": 5,
    "start_time": "2023-02-12T11:55:26.838Z"
   },
   {
    "duration": 18,
    "start_time": "2023-02-12T11:55:28.478Z"
   },
   {
    "duration": 95,
    "start_time": "2023-02-12T11:59:06.585Z"
   },
   {
    "duration": 23,
    "start_time": "2023-02-12T11:59:15.430Z"
   },
   {
    "duration": 92,
    "start_time": "2023-02-12T11:59:48.575Z"
   },
   {
    "duration": 5,
    "start_time": "2023-02-12T12:04:41.527Z"
   },
   {
    "duration": 23,
    "start_time": "2023-02-12T12:04:43.504Z"
   },
   {
    "duration": 6,
    "start_time": "2023-02-12T12:05:05.297Z"
   },
   {
    "duration": 16,
    "start_time": "2023-02-12T12:05:05.941Z"
   },
   {
    "duration": 77,
    "start_time": "2023-02-12T12:05:25.347Z"
   },
   {
    "duration": 5,
    "start_time": "2023-02-12T12:05:38.176Z"
   },
   {
    "duration": 26,
    "start_time": "2023-02-12T12:05:38.901Z"
   },
   {
    "duration": 4,
    "start_time": "2023-02-12T12:06:21.001Z"
   },
   {
    "duration": 13,
    "start_time": "2023-02-12T12:06:21.772Z"
   },
   {
    "duration": 5,
    "start_time": "2023-02-12T12:07:05.729Z"
   },
   {
    "duration": 22,
    "start_time": "2023-02-12T12:07:06.407Z"
   },
   {
    "duration": 112,
    "start_time": "2023-02-12T12:07:47.521Z"
   },
   {
    "duration": 17,
    "start_time": "2023-02-12T12:07:47.909Z"
   },
   {
    "duration": 76,
    "start_time": "2023-02-12T12:07:59.082Z"
   },
   {
    "duration": 12,
    "start_time": "2023-02-12T12:08:00.489Z"
   },
   {
    "duration": 4,
    "start_time": "2023-02-12T12:08:15.590Z"
   },
   {
    "duration": 18,
    "start_time": "2023-02-12T12:08:16.303Z"
   },
   {
    "duration": 5,
    "start_time": "2023-02-12T12:09:00.721Z"
   },
   {
    "duration": 20,
    "start_time": "2023-02-12T12:09:01.377Z"
   },
   {
    "duration": 5,
    "start_time": "2023-02-12T12:09:12.361Z"
   },
   {
    "duration": 33,
    "start_time": "2023-02-12T12:09:13.009Z"
   },
   {
    "duration": 4,
    "start_time": "2023-02-12T12:09:19.236Z"
   },
   {
    "duration": 15,
    "start_time": "2023-02-12T12:09:19.978Z"
   },
   {
    "duration": 5,
    "start_time": "2023-02-12T12:09:31.674Z"
   },
   {
    "duration": 14,
    "start_time": "2023-02-12T12:09:32.422Z"
   },
   {
    "duration": 5,
    "start_time": "2023-02-12T12:10:00.579Z"
   },
   {
    "duration": 14,
    "start_time": "2023-02-12T12:10:00.961Z"
   },
   {
    "duration": 4,
    "start_time": "2023-02-12T12:12:09.766Z"
   },
   {
    "duration": 13,
    "start_time": "2023-02-12T12:12:10.223Z"
   },
   {
    "duration": 12,
    "start_time": "2023-02-12T12:20:28.223Z"
   },
   {
    "duration": 13,
    "start_time": "2023-02-12T12:21:45.898Z"
   },
   {
    "duration": 4,
    "start_time": "2023-02-12T12:22:21.218Z"
   },
   {
    "duration": 12,
    "start_time": "2023-02-12T12:22:22.258Z"
   },
   {
    "duration": 11,
    "start_time": "2023-02-12T12:22:23.780Z"
   },
   {
    "duration": 11,
    "start_time": "2023-02-12T12:22:25.183Z"
   },
   {
    "duration": 11,
    "start_time": "2023-02-12T12:23:29.654Z"
   },
   {
    "duration": 12,
    "start_time": "2023-02-12T12:23:59.047Z"
   },
   {
    "duration": 16,
    "start_time": "2023-02-12T12:24:17.830Z"
   },
   {
    "duration": 15,
    "start_time": "2023-02-12T12:24:29.545Z"
   },
   {
    "duration": 12,
    "start_time": "2023-02-12T12:24:38.154Z"
   },
   {
    "duration": 15,
    "start_time": "2023-02-12T12:24:54.330Z"
   },
   {
    "duration": 17,
    "start_time": "2023-02-12T12:25:24.185Z"
   },
   {
    "duration": 16,
    "start_time": "2023-02-12T12:26:16.499Z"
   },
   {
    "duration": 11,
    "start_time": "2023-02-12T12:27:10.542Z"
   },
   {
    "duration": 10,
    "start_time": "2023-02-12T12:27:22.784Z"
   },
   {
    "duration": 12,
    "start_time": "2023-02-12T12:27:48.178Z"
   },
   {
    "duration": 16,
    "start_time": "2023-02-12T12:28:04.570Z"
   },
   {
    "duration": 12,
    "start_time": "2023-02-12T12:28:37.534Z"
   },
   {
    "duration": 15,
    "start_time": "2023-02-12T12:28:56.946Z"
   },
   {
    "duration": 17,
    "start_time": "2023-02-12T12:29:14.389Z"
   },
   {
    "duration": 12,
    "start_time": "2023-02-12T12:31:04.137Z"
   },
   {
    "duration": 15,
    "start_time": "2023-02-12T12:31:08.252Z"
   },
   {
    "duration": 16,
    "start_time": "2023-02-12T12:31:28.132Z"
   },
   {
    "duration": 13,
    "start_time": "2023-02-12T12:32:59.894Z"
   },
   {
    "duration": 13,
    "start_time": "2023-02-12T12:34:41.973Z"
   },
   {
    "duration": 15,
    "start_time": "2023-02-12T12:34:52.919Z"
   },
   {
    "duration": 11,
    "start_time": "2023-02-12T12:36:23.530Z"
   },
   {
    "duration": 13,
    "start_time": "2023-02-12T12:37:02.576Z"
   },
   {
    "duration": 12,
    "start_time": "2023-02-12T12:37:25.270Z"
   },
   {
    "duration": 14,
    "start_time": "2023-02-12T12:39:27.432Z"
   },
   {
    "duration": 13,
    "start_time": "2023-02-12T12:41:33.323Z"
   },
   {
    "duration": 11,
    "start_time": "2023-02-12T12:45:29.866Z"
   },
   {
    "duration": 11,
    "start_time": "2023-02-12T12:47:09.509Z"
   },
   {
    "duration": 1101,
    "start_time": "2023-02-12T12:57:32.226Z"
   },
   {
    "duration": 1317,
    "start_time": "2023-02-12T12:57:33.328Z"
   },
   {
    "duration": 12,
    "start_time": "2023-02-12T12:57:34.646Z"
   },
   {
    "duration": 3,
    "start_time": "2023-02-12T12:57:34.660Z"
   },
   {
    "duration": 5,
    "start_time": "2023-02-12T12:57:34.665Z"
   },
   {
    "duration": 9,
    "start_time": "2023-02-12T12:57:34.671Z"
   },
   {
    "duration": 875,
    "start_time": "2023-02-12T12:57:34.681Z"
   },
   {
    "duration": 11,
    "start_time": "2023-02-12T12:57:35.558Z"
   },
   {
    "duration": 9,
    "start_time": "2023-02-12T12:57:35.570Z"
   },
   {
    "duration": 14,
    "start_time": "2023-02-12T12:57:35.581Z"
   },
   {
    "duration": 11,
    "start_time": "2023-02-12T12:57:35.597Z"
   },
   {
    "duration": 14,
    "start_time": "2023-02-12T12:57:35.610Z"
   },
   {
    "duration": 64,
    "start_time": "2023-02-12T12:57:35.626Z"
   },
   {
    "duration": 4,
    "start_time": "2023-02-12T12:57:35.693Z"
   },
   {
    "duration": 134,
    "start_time": "2023-02-12T12:57:35.710Z"
   },
   {
    "duration": 135,
    "start_time": "2023-02-12T12:57:35.847Z"
   },
   {
    "duration": 28,
    "start_time": "2023-02-12T12:57:35.984Z"
   },
   {
    "duration": 120,
    "start_time": "2023-02-12T12:57:36.013Z"
   },
   {
    "duration": 126,
    "start_time": "2023-02-12T12:57:36.135Z"
   },
   {
    "duration": 22,
    "start_time": "2023-02-12T12:57:36.263Z"
   },
   {
    "duration": 133,
    "start_time": "2023-02-12T12:57:36.287Z"
   },
   {
    "duration": 183,
    "start_time": "2023-02-12T12:57:36.421Z"
   },
   {
    "duration": 14,
    "start_time": "2023-02-12T12:57:36.609Z"
   },
   {
    "duration": 158,
    "start_time": "2023-02-12T12:57:36.625Z"
   },
   {
    "duration": 52,
    "start_time": "2023-02-12T12:57:36.785Z"
   },
   {
    "duration": 14,
    "start_time": "2023-02-12T12:57:36.839Z"
   },
   {
    "duration": 21,
    "start_time": "2023-02-12T12:57:36.855Z"
   },
   {
    "duration": 18,
    "start_time": "2023-02-12T12:57:36.878Z"
   },
   {
    "duration": 11,
    "start_time": "2023-02-12T12:57:36.909Z"
   },
   {
    "duration": 5,
    "start_time": "2023-02-12T12:57:36.921Z"
   },
   {
    "duration": 182,
    "start_time": "2023-02-12T12:57:36.928Z"
   },
   {
    "duration": 150,
    "start_time": "2023-02-12T12:57:37.111Z"
   },
   {
    "duration": 144,
    "start_time": "2023-02-12T12:57:37.262Z"
   },
   {
    "duration": 169,
    "start_time": "2023-02-12T12:57:37.409Z"
   },
   {
    "duration": 199,
    "start_time": "2023-02-12T12:57:37.579Z"
   },
   {
    "duration": 181,
    "start_time": "2023-02-12T12:57:37.779Z"
   },
   {
    "duration": 188,
    "start_time": "2023-02-12T12:57:37.961Z"
   },
   {
    "duration": 145,
    "start_time": "2023-02-12T12:57:38.151Z"
   },
   {
    "duration": 158,
    "start_time": "2023-02-12T12:57:38.297Z"
   },
   {
    "duration": 242,
    "start_time": "2023-02-12T12:57:38.456Z"
   },
   {
    "duration": 4,
    "start_time": "2023-02-12T12:57:38.701Z"
   },
   {
    "duration": 16,
    "start_time": "2023-02-12T12:57:38.710Z"
   },
   {
    "duration": 10,
    "start_time": "2023-02-12T12:57:38.727Z"
   },
   {
    "duration": 10,
    "start_time": "2023-02-12T12:57:38.739Z"
   },
   {
    "duration": 10,
    "start_time": "2023-02-12T12:57:38.750Z"
   },
   {
    "duration": 10,
    "start_time": "2023-02-12T12:57:38.761Z"
   },
   {
    "duration": 48,
    "start_time": "2023-02-12T12:57:38.772Z"
   },
   {
    "duration": 16,
    "start_time": "2023-02-12T12:57:38.821Z"
   }
  ],
  "kernelspec": {
   "display_name": "Python 3 (ipykernel)",
   "language": "python",
   "name": "python3"
  },
  "language_info": {
   "codemirror_mode": {
    "name": "ipython",
    "version": 3
   },
   "file_extension": ".py",
   "mimetype": "text/x-python",
   "name": "python",
   "nbconvert_exporter": "python",
   "pygments_lexer": "ipython3",
   "version": "3.9.13"
  },
  "toc": {
   "base_numbering": 1,
   "nav_menu": {},
   "number_sections": true,
   "sideBar": true,
   "skip_h1_title": true,
   "title_cell": "Table of Contents",
   "title_sidebar": "Contents",
   "toc_cell": false,
   "toc_position": {},
   "toc_section_display": true,
   "toc_window_display": false
  }
 },
 "nbformat": 4,
 "nbformat_minor": 5
}
